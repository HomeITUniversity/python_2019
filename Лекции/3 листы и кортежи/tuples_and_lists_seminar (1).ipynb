{
 "cells": [
  {
   "cell_type": "markdown",
   "metadata": {
    "colab_type": "text",
    "id": "Jdz44fTHkP_x"
   },
   "source": [
    "# Задача 1\n",
    "В этой миссии Вам надо определить, все ли элементы массива равны.\n",
    "\n",
    "Входные: List.\n",
    "\n",
    "Выходные: Bool.\n",
    "\n",
    "Примеры:\n",
    "\n",
    "all_the_same([1, 1, 1]) == True<br>\n",
    "all_the_same([1, 2, 1]) == False<br>\n",
    "all_the_same(['a', 'a', 'a']) == True<br>\n",
    "all_the_same([]) == True<br>\n",
    "\n",
    "### Precondition: all elements of the input list are hashable"
   ]
  },
  {
   "cell_type": "code",
   "execution_count": 7,
   "metadata": {
    "colab": {},
    "colab_type": "code",
    "id": "bL9Tpyf9khbb"
   },
   "outputs": [
    {
     "name": "stdout",
     "output_type": "stream",
     "text": [
      "False\n"
     ]
    }
   ],
   "source": [
    "#Add your code here\n",
    "\n",
    "a = [1,2,1]\n",
    "if len(a) == 0 or a.count(a[0]) == len(a):\n",
    "    print(True)\n",
    "else:\n",
    "    print(False) "
   ]
  },
  {
   "cell_type": "markdown",
   "metadata": {
    "colab_type": "text",
    "id": "UBKa01PxknKx"
   },
   "source": [
    "# Задача 2\n",
    "Входные данные: Вложенный список с целыми числами.\n",
    "\n",
    "Выходные данные: Одномерный список с целыми числами.\n",
    "\n",
    "Пример:\n",
    "\n",
    "flat_list([1, 2, 3]) == [1, 2, 3]<br>\n",
    "flat_list([1, [2, 2, 2], 4]) == [1, 2, 2, 2, 4]<br>\n",
    "flat_list([[[2]], [4, [5, 6, [6], 6, 6, 6], 7]]) == [2, 4, 5, 6, 6, 6, 6, 6, 7]<br>\n",
    "flat_list([-1, [1, [-2], 1], -1]) == [-1, 1, -2, 1, -1]<br>\n",
    "\n",
    "#### Как это используется: Эта концепция полезна для разбора и анализа файлов со сложной структурой и она бросает вызов вашей креативности в написании короткого кода.\n",
    "\n",
    "#### Предусловия: \n",
    "len(list) <= 10 <br>\n",
    "(x is a list) or (x < 10 and x > -10) <br>\n",
    "depth < 3<br>"
   ]
  },
  {
   "cell_type": "code",
   "execution_count": null,
   "metadata": {
    "colab": {},
    "colab_type": "code",
    "id": "T1H9ZeRyl2Kg"
   },
   "outputs": [],
   "source": [
    "#Add your code here\n",
    "a = [1, [2, [2, 3], 2], 4]\n",
    "b = [1,4,2,[2,3],2]\n",
    "\n",
    "while len(a) != 0:\n",
    "    if type(a[0]) != list:\n",
    "        b.append(a[0])\n",
    "        if len(a) > 0:\n",
    "            a = a[1:]\n",
    "    else:\n",
    "        c = a[0]\n",
    "        c.extend(a[1:])\n",
    "        a = c\n",
    "    print(a)\n",
    "    print(b)\n",
    "\n",
    "print(b)\n",
    "\n",
    "    \n",
    "    \n",
    "\n",
    "\n"
   ]
  },
  {
   "cell_type": "markdown",
   "metadata": {
    "colab_type": "text",
    "id": "dfV6YirAAcry"
   },
   "source": [
    "# Задача 3\n",
    "**Количество**|**Обозначение на русском языке**|**Обозначение на языке аниндилъяква**\n",
    ":-----:|:-----:|:-----:\n",
    "от 1 до 4|несколько|few\n",
    "от 5 до 9|немного|several\n",
    "от 10 до 19|отряд|pack\n",
    "от 20 до 49|толпа|lots\n",
    "от 50 до 99|орда|horde\n",
    "от 100 до 249|множество|throng\n",
    "от 250 до 499|сонмище|swarm\n",
    "от 500 до 999|полчище|zounds\n",
    "от 1000|легион|legion\n",
    "\n",
    "\n",
    "Вы разработчик игры. Вам необходимо сделать порт вашей игры на 2 языка - Русский и Аниндилъяква. Т.к. в Аниндилъяква нет цисел, то вы придумали как закодировать цифры при помощи слов и составили следующую таблицу.\n",
    "\n",
    "Необходимо разработать скрипт, который будет принимать на вход числа(целые) списком и на выходе выдавать нам новый список обозначений на аниндилъяква и русском языках сразу.\n",
    "\n",
    "Доп условие: т.к. вы боитесь, что случайно сможете как-то изменить полученный список, вам неходимо сделать так, чтоб вы не могли случайно что-то изменить в нем."
   ]
  },
  {
   "cell_type": "code",
   "execution_count": 21,
   "metadata": {
    "colab": {},
    "colab_type": "code",
    "id": "rF6vwBhMCp9G"
   },
   "outputs": [
    {
     "name": "stdout",
     "output_type": "stream",
     "text": [
      "(('несколько', 'few'), ('немного', 'several'), ('несколько', 'few'), ('толпа', 'lots'), ('толпа', 'lots'), ('отряд', 'pack'))\n"
     ]
    }
   ],
   "source": [
    "#Add your code here\n",
    "\n",
    "new_list = [1,8,4,48,42,13]\n",
    "\n",
    "for i in range(len(new_list)):\n",
    "    if new_list[i] < 5:\n",
    "        new_list[i] = (\"несколько\", \"few\")\n",
    "    elif new_list[i] < 10:\n",
    "        new_list[i] = (\"немного\", \"several\")\n",
    "    elif new_list[i] < 20:\n",
    "        new_list[i] = (\"отряд\", \"pack\")\n",
    "    elif new_list[i] < 50:\n",
    "        new_list[i] = (\"толпа\", \"lots\")\n",
    "\n",
    "new_list = tuple(new_list)\n",
    "\n",
    "print(new_list)"
   ]
  },
  {
   "cell_type": "markdown",
   "metadata": {
    "colab_type": "text",
    "id": "-rhGp4UkEfqE"
   },
   "source": [
    "# Задача 4\n",
    "Иван владеет автоматическим принтером печати фотографий, который стоит в ТЦ.\n",
    "\n",
    "Т.к. принтер старый, при печати он может зажевать или смазать фото. Принтер в памяти ведет список фотографий в котором 0 помечает фото которые были забракованы и отправлены в шредер, а 1 те, которые он отдал пользователю(деньги берутся только за те которые были отданы пользователю)\n",
    "\n",
    "Иван проверяет принтер и заполняет его бумагой каждую 1000 распечатанных листов бумаги.\n",
    "Иван заметил, что принтер стал приносить меньше прибыли и он решил посчитать свои убытки. Для этого он вытащил из памяти принтера список напечатанных листов и из программы принимащей заказы список заказов печати.\n",
    "\n",
    "Ваша задача помочь Ивану посчитать сколько денег он потерял всего и на каждом из заказов при условии что 1 фото стоит 8 рублей, а себестоимость одного листа 3 рубля. (затраты на краску не учитывать)"
   ]
  },
  {
   "cell_type": "code",
   "execution_count": 7,
   "metadata": {
    "colab": {},
    "colab_type": "code",
    "id": "RJLF5LqNYndx"
   },
   "outputs": [
    {
     "name": "stdout",
     "output_type": "stream",
     "text": [
      "96\n",
      "297\n",
      "180\n",
      "99\n",
      "213\n",
      "294\n",
      "36\n",
      "129\n",
      "219\n",
      "15\n",
      "прибыль 15\n"
     ]
    }
   ],
   "source": [
    "printer_list = [0, 1, 0, 1, 0, 0, 1, 1, 0, 0, 0, 1, 1, 1, 1, 0, 0, 1, 1, 1, 1, 0, 1, 1, 0, 0, 0, 0, 0, 0, 0, 0, 1, 1, 1, 1, 0, 0, 0, 1, 0, 0, 0, 0, 0, 1, 1, 0, 1, 1, 0, 1, 1, 0, 0, 1, 0, 0, 1, 1, 0, 0, 0, 0, 1, 0, 0, 0, 0, 1, 0, 1, 1, 1, 0, 0, 0, 1, 1, 0, 0, 0, 0, 1, 1, 0, 1, 0, 0, 0, 0, 0, 0, 0, 0, 1, 0, 1, 1, 0, 1, 0, 0, 0, 0, 0, 0, 1, 0, 1, 0, 0, 1, 1, 0, 0, 0, 1, 1, 0, 1, 0, 1, 1, 0, 0, 0, 1, 0, 1, 1, 1, 1, 1, 0, 0, 1, 0, 0, 0, 1, 0, 0, 1, 1, 0, 0, 0, 0, 0, 1, 0, 1, 1, 1, 0, 0, 1, 1, 1, 1, 0, 1, 0, 1, 1, 0, 0, 1, 1, 1, 1, 0, 0, 1, 0, 0, 1, 0, 0, 1, 0, 0, 1, 0, 0, 1, 1, 0, 0, 0, 1, 1, 0, 1, 1, 1, 1, 0, 1, 1, 1, 0, 1, 0, 1, 0, 1, 1, 0, 0, 1, 0, 0, 1, 1, 0, 1, 1, 0, 0, 0, 1, 0, 0, 0, 1, 1, 0, 1, 0, 0, 1, 1, 0, 0, 1, 0, 1, 0, 0, 1, 1, 1, 0, 0, 1, 1, 0, 1, 1, 1, 0, 0, 0, 0, 1, 0, 0, 1, 1, 1, 0, 1, 0, 0, 0, 1, 0, 1, 1, 1, 0, 1, 0, 0, 1, 1, 0, 0, 1, 1, 0, 1, 0, 0, 0, 0, 0, 1, 1, 0, 0, 1, 1, 1, 0, 0, 0, 0, 1, 1, 0, 0, 1, 0, 0, 0, 1, 1, 1, 0, 0, 0, 1, 0, 0, 1, 0, 1, 1, 1, 1, 1, 0, 1, 0, 0, 0, 0, 0, 0, 1, 1, 0, 0, 0, 1, 1, 0, 1, 1, 1, 1, 0, 1, 0, 0, 0, 0, 1, 0, 0, 0, 0, 1, 0, 0, 0, 0, 1, 1, 1, 1, 0, 1, 0, 0, 0, 1, 0, 0, 0, 1, 0, 0, 1, 0, 0, 1, 1, 0, 0, 0, 0, 0, 0, 1, 1, 1, 0, 1, 0, 1, 0, 1, 1, 1, 1, 1, 0, 0, 0, 0, 0, 1, 1, 1, 1, 1, 0, 1, 0, 0, 1, 0, 1, 0, 0, 0, 1, 0, 1, 1, 0, 1, 0, 0, 0, 0, 0, 1, 0, 1, 1, 0, 0, 0, 0, 1, 1, 1, 1, 0, 0, 1, 0, 0, 0, 0, 0, 0, 0, 1, 0, 0, 1, 1, 1, 1, 1, 0, 1, 0, 1, 0, 1, 0, 0, 0, 0, 1, 0, 0, 0, 0, 0, 0, 1, 1, 1, 0, 0, 1, 0, 1, 1, 1, 0, 1, 1, 1, 0, 0, 0, 0, 1, 1, 1, 0, 1, 1, 0, 0, 0, 1, 0, 0, 1, 1, 0, 0, 1, 0, 0, 0, 0, 0, 0, 0, 1, 0, 1, 0, 1, 1, 1, 0, 0, 1, 0, 1, 0, 0, 1, 1, 1, 1, 1, 0, 0, 1, 1, 0, 1, 0, 0, 0, 0, 0, 0, 0, 0, 0, 0, 1, 0, 0, 1, 0, 0, 1, 0, 1, 1, 0, 0, 1, 1, 0, 1, 1, 1, 1, 0, 0, 0, 1, 0, 0, 0, 0, 0, 1, 0, 1, 1, 0, 0, 0, 1, 1, 1, 1, 0, 1, 0, 0, 1, 0, 1, 0, 0, 1, 0, 0, 0, 1, 1, 1, 1, 0, 0, 0, 0, 1, 1, 0, 1, 0, 0, 1, 1, 0, 0, 1, 0, 0, 0, 0, 0, 0, 0, 0, 0, 1, 1, 1, 1, 0, 1, 0, 0, 0, 0, 0, 1, 1, 1, 1, 0, 1, 1, 1, 0, 0, 1, 0, 0, 1, 0, 0, 1, 1, 0, 0, 1, 0, 0, 1, 1, 1, 0, 0, 1, 1, 0, 0, 0, 1, 1, 0, 1, 0, 1, 1, 0, 1, 0, 1, 0, 0, 0, 1, 1, 0, 1, 0, 1, 1, 1, 0, 1, 1, 1, 1, 0, 0, 1, 0, 0, 1, 1, 0, 1, 1, 0, 1, 1, 0, 1, 1, 1, 0, 0, 1, 0, 1, 0, 1, 0, 1, 1, 0, 1, 0, 0, 0, 1, 1, 0, 0, 0, 1, 0, 1, 0, 1, 1, 1, 0, 0, 0, 0, 0, 0, 0, 1, 1, 0, 0, 0, 0, 0, 0, 1, 1, 0, 0, 1, 1, 0, 0, 0, 0, 0, 0, 1, 1, 0, 0, 1, 1, 1, 0, 0, 0, 1, 1, 0, 1, 1, 1, 1, 1, 0, 0, 0, 0, 1, 0, 0, 1, 1, 1, 1, 0, 0, 1, 0, 1, 0, 1, 0, 1, 1, 1, 0, 0, 1, 1, 0, 0, 0, 1, 1, 1, 0, 1, 1, 0, 1, 1, 1, 1, 1, 0, 1, 1, 0, 1, 0, 1, 1, 1, 1, 1, 1, 1, 1, 1, 0, 0, 1, 0, 0, 1, 1, 0, 1, 0, 0, 0, 0, 0, 1, 1, 1, 1, 1, 0, 0, 0, 1, 1, 0, 0, 1, 1, 1, 0, 1, 0, 0, 1, 1, 1, 0, 0, 1, 0, 0, 1, 1, 1, 1, 0, 0, 0, 0, 1, 0, 0, 1, 1, 0, 0, 0, 1, 1, 1, 0, 0, 1, 1, 1, 0, 1, 0, 1, 0, 1, 0, 1, 1, 1, 1, 1, 1, 1, 1, 0, 1, 0, 0, 1, 1, 1, 0, 1, 1, 1, 1, 1, 1, 1, 0, 0, 0, 1, 0, 1, 0, 0, 0, 0, 0, 0, 1, 0, 0, 0, 1, 0, 0, 0, 1, 1, 1, 0, 1, 0, 1, 0, 1, 1, 0, 0, 1, 1, 1, 1, 1, 1, 1, 0, 1, 1, 1, 1, 0, 0, 0, 0, 0, 1, 1, 1, 0, 0]\n",
    "order_list = [27, 81, 52, 22, 55, 82, 15, 34, 98, 6]\n",
    "\n",
    "#Add your code here\n",
    "cost = 8\n",
    "self_cost = 3\n",
    "\n",
    "bad = 0\n",
    "\n",
    "for j in order_list:\n",
    "    good = 0\n",
    "    count = 0\n",
    "    summ_ok = 0\n",
    "    while summ_ok != j:\n",
    "       \n",
    "        if printer_list[count] == 1:\n",
    "            good += 5\n",
    "            summ_ok += 1\n",
    "        if printer_list[count] == 0:\n",
    "            good -= 3\n",
    "        count += 1\n",
    "    print(j * 5 - good)\n",
    "    printer_list = printer_list[count:]\n",
    "    \n",
    "print(f\"прибыль {good}\")\n",
    "\n"
   ]
  },
  {
   "cell_type": "markdown",
   "metadata": {
    "colab_type": "text",
    "id": "R1HSa-8GdEQX"
   },
   "source": [
    "# Задача 5\n",
    "Вы сопровождаете систему \"К\". У вас в системе появилась ошибка, вы опытным путем определили, что ошибка пишется в лог 5 строками.\n",
    "Когда вы программно считываете лог, вы получаете список логов.\n",
    "\n",
    "Вам необходимо из списка получить все эти ошибки и положить в новый лист вложенным листом. т.е. [[error1, error2, error3], [error1, error2, error3]\n",
    " "
   ]
  },
  {
   "cell_type": "code",
   "execution_count": 12,
   "metadata": {},
   "outputs": [
    {
     "name": "stdout",
     "output_type": "stream",
     "text": [
      "log #2\n",
      "log #1\n",
      "log #5\n",
      "log #1\n",
      "log #5\n",
      "log #2\n",
      "log #1\n",
      "log #2\n",
      "log #5\n",
      "error part 1\n",
      "part 2\n",
      "part 3\n",
      "part 4\n",
      "part 5\n",
      "log #1\n",
      "log #5\n",
      "log #3\n",
      "log #3\n",
      "log #2\n",
      "log #2\n",
      "log #2\n",
      "log #1\n",
      "log #1\n",
      "log #3\n",
      "log #5\n",
      "log #2\n",
      "log #3\n",
      "log #5\n",
      "log #2\n",
      "log #1\n",
      "log #2\n",
      "log #1\n",
      "log #3\n",
      "log #1\n",
      "log #5\n",
      "log #5\n",
      "log #5\n",
      "log #3\n",
      "log #2\n",
      "log #1\n",
      "error part 1\n",
      "part 2\n",
      "part 3\n",
      "part 4\n",
      "part 5\n",
      "log #3\n",
      "log #3\n",
      "log #5\n",
      "log #2\n",
      "log #2\n",
      "error part 1\n",
      "part 2\n",
      "part 3\n",
      "part 4\n",
      "part 5\n",
      "log #2\n",
      "log #1\n",
      "log #2\n",
      "log #5\n",
      "log #3\n",
      "log #1\n",
      "log #5\n",
      "log #3\n",
      "log #1\n",
      "log #3\n",
      "log #5\n",
      "log #2\n",
      "error part 1\n",
      "part 2\n",
      "part 3\n",
      "part 4\n",
      "part 5\n",
      "log #2\n",
      "log #3\n",
      "log #2\n",
      "log #3\n",
      "log #5\n",
      "log #3\n",
      "log #2\n",
      "log #3\n",
      "log #3\n",
      "error part 1\n",
      "part 2\n",
      "part 3\n",
      "part 4\n",
      "part 5\n",
      "log #3\n",
      "error part 1\n",
      "part 2\n",
      "part 3\n",
      "part 4\n",
      "part 5\n",
      "log #3\n",
      "log #2\n",
      "log #2\n",
      "log #3\n",
      "log #1\n",
      "log #2\n",
      "log #5\n",
      "log #3\n",
      "error part 1\n",
      "part 2\n",
      "part 3\n",
      "part 4\n",
      "part 5\n",
      "log #1\n",
      "log #2\n",
      "log #1\n",
      "log #5\n",
      "log #2\n",
      "log #2\n",
      "log #3\n",
      "log #1\n",
      "log #5\n",
      "log #3\n",
      "log #1\n",
      "log #2\n",
      "log #1\n",
      "log #2\n",
      "log #5\n",
      "log #5\n",
      "log #3\n",
      "error part 1\n",
      "part 2\n",
      "part 3\n",
      "part 4\n",
      "part 5\n",
      "log #1\n",
      "log #1\n",
      "log #3\n",
      "log #1\n",
      "log #1\n"
     ]
    }
   ],
   "source": [
    "import random\n",
    "random.seed(42)\n",
    "logs = [\"log #1\", \"log #2\", \"log #3\", \"log #5\"]\n",
    "errors = [\"error part 1\",\"part 2\",\"part 3\",\"part 4\",\"part 5\"]\n",
    "\n",
    "total_log = []\n",
    "\n",
    "for i in range(100):\n",
    "    if random.randint(1,9) == 5:\n",
    "        total_log.extend(errors)\n",
    "    else:\n",
    "        total_log.append(random.choice(logs))\n",
    "for i in total_log:\n",
    "    print(i)"
   ]
  },
  {
   "cell_type": "code",
   "execution_count": 13,
   "metadata": {},
   "outputs": [
    {
     "name": "stdout",
     "output_type": "stream",
     "text": [
      "[['error part 1', 'part 2', 'part 3', 'part 4'], ['error part 1', 'part 2', 'part 3', 'part 4'], ['error part 1', 'part 2', 'part 3', 'part 4'], ['error part 1', 'part 2', 'part 3', 'part 4'], ['error part 1', 'part 2', 'part 3', 'part 4'], ['error part 1', 'part 2', 'part 3', 'part 4'], ['error part 1', 'part 2', 'part 3', 'part 4'], ['error part 1', 'part 2', 'part 3', 'part 4']]\n"
     ]
    }
   ],
   "source": [
    "need_log = []\n",
    "\n",
    "for i in range(len(total_log)):\n",
    "    if total_log[i] == \"error part 1\":\n",
    "        need_log.append(total_log[i:i+5])\n",
    "print(need_log)"
   ]
  },
  {
   "cell_type": "markdown",
   "metadata": {
    "colab_type": "text",
    "id": "b0ZYJPGCzL7M"
   },
   "source": [
    "# Задача 6\n",
    "\n",
    "Вам неободимо реализовать скрипт проверки результатов игры в крестики нолики.\n",
    "\n",
    "На вход вы получаете список списков, в каждом из которых содержится ряд поля.\n",
    "<br>[\n",
    "[x,0,0],<br>\n",
    "[x,x,0],<br>\n",
    "[0,x,0]\n",
    "]\n",
    "\n",
    "Вам необходимо проверить, кто выйграл или ничья?"
   ]
  },
  {
   "cell_type": "code",
   "execution_count": 0,
   "metadata": {
    "colab": {},
    "colab_type": "code",
    "id": "lkWjrshX3JQC"
   },
   "outputs": [],
   "source": [
    "#Add your code here"
   ]
  }
 ],
 "metadata": {
  "colab": {
   "name": "tuples and lists seminar.ipynb",
   "provenance": []
  },
  "kernelspec": {
   "display_name": "Python 3",
   "language": "python",
   "name": "python3"
  },
  "language_info": {
   "codemirror_mode": {
    "name": "ipython",
    "version": 3
   },
   "file_extension": ".py",
   "mimetype": "text/x-python",
   "name": "python",
   "nbconvert_exporter": "python",
   "pygments_lexer": "ipython3",
   "version": "3.7.1"
  }
 },
 "nbformat": 4,
 "nbformat_minor": 1
}

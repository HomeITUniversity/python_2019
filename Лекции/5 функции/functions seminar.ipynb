{
 "cells": [
  {
   "cell_type": "markdown",
   "metadata": {},
   "source": [
    "# Задача 1\n",
    "Отсортировать список по 2 аргументу, используя функции sorted()/ .sort()"
   ]
  },
  {
   "cell_type": "code",
   "execution_count": 16,
   "metadata": {},
   "outputs": [],
   "source": [
    "nums = [(3, 5, 8), (6, 2, 8), ( 2, 9, 4), (6, 8, 5)]\n"
   ]
  },
  {
   "cell_type": "markdown",
   "metadata": {},
   "source": [
    "# Задача 2\n",
    "Необходимо реализовать функцию циклического сдвига.\n",
    "Входные данные: список, величина сдвига\n",
    "Выходные данные: список со сдвигом"
   ]
  },
  {
   "cell_type": "code",
   "execution_count": 17,
   "metadata": {},
   "outputs": [],
   "source": [
    "nums = [4, 5, 6, 7, 8, 9, 0]\n",
    "# сдвиг на +1 [5, 6, 7, 8, 9, 0, 4]\n",
    "# сдвиг на -1 [0, 4, 5, 6, 7, 8, 9]"
   ]
  },
  {
   "cell_type": "markdown",
   "metadata": {},
   "source": [
    "# Задача 3\n",
    "Вам неободимо реализовать функцию проверки результатов игры в крестики нолики.\n",
    "\n",
    "На вход вы получаете список списков, в каждом из которых содержится ряд поля.<br>\n",
    "[ [x,0,0],<br>\n",
    "[x,x,0],<br>\n",
    "[0,x,0] ]<br>\n",
    "\n",
    "Вам необходимо проверить, кто выйграл или ничья?"
   ]
  },
  {
   "cell_type": "markdown",
   "metadata": {},
   "source": [
    "# Задача 4\n",
    "Вам предоставляется набор координат, в которых расставлены белые пешки. Вы должны подсчитать количество защищенных пешек.\n",
    "Входные данные: Координаты расставленных пешек в виде набора строк.\n",
    "Выходные данные: Количество защищенных пешек в виде целого числа.\n",
    "    "
   ]
  },
  {
   "cell_type": "code",
   "execution_count": 20,
   "metadata": {},
   "outputs": [
    {
     "ename": "NameError",
     "evalue": "name 'check' is not defined",
     "output_type": "error",
     "traceback": [
      "\u001b[1;31m---------------------------------------------------------------------------\u001b[0m",
      "\u001b[1;31mNameError\u001b[0m                                 Traceback (most recent call last)",
      "\u001b[1;32m<ipython-input-20-f1be33d19e18>\u001b[0m in \u001b[0;36m<module>\u001b[1;34m\u001b[0m\n\u001b[1;32m----> 1\u001b[1;33m \u001b[0mcheck\u001b[0m\u001b[1;33m(\u001b[0m\u001b[1;33m{\u001b[0m\u001b[1;34m\"b4\"\u001b[0m\u001b[1;33m,\u001b[0m \u001b[1;34m\"d4\"\u001b[0m\u001b[1;33m,\u001b[0m \u001b[1;34m\"f4\"\u001b[0m\u001b[1;33m,\u001b[0m \u001b[1;34m\"c3\"\u001b[0m\u001b[1;33m,\u001b[0m \u001b[1;34m\"e3\"\u001b[0m\u001b[1;33m,\u001b[0m \u001b[1;34m\"g5\"\u001b[0m\u001b[1;33m,\u001b[0m \u001b[1;34m\"d2\"\u001b[0m\u001b[1;33m}\u001b[0m\u001b[1;33m)\u001b[0m \u001b[1;33m==\u001b[0m \u001b[1;36m6\u001b[0m\u001b[1;33m\u001b[0m\u001b[1;33m\u001b[0m\u001b[0m\n\u001b[0m\u001b[0;32m      2\u001b[0m \u001b[0mcheck\u001b[0m\u001b[1;33m(\u001b[0m\u001b[1;33m{\u001b[0m\u001b[1;34m\"b4\"\u001b[0m\u001b[1;33m,\u001b[0m \u001b[1;34m\"c4\"\u001b[0m\u001b[1;33m,\u001b[0m \u001b[1;34m\"d4\"\u001b[0m\u001b[1;33m,\u001b[0m \u001b[1;34m\"e4\"\u001b[0m\u001b[1;33m,\u001b[0m \u001b[1;34m\"f4\"\u001b[0m\u001b[1;33m,\u001b[0m \u001b[1;34m\"g4\"\u001b[0m\u001b[1;33m,\u001b[0m \u001b[1;34m\"e5\"\u001b[0m\u001b[1;33m}\u001b[0m\u001b[1;33m)\u001b[0m \u001b[1;33m==\u001b[0m \u001b[1;36m1\u001b[0m\u001b[1;33m\u001b[0m\u001b[1;33m\u001b[0m\u001b[0m\n",
      "\u001b[1;31mNameError\u001b[0m: name 'check' is not defined"
     ]
    }
   ],
   "source": [
    "check({\"b4\", \"d4\", \"f4\", \"c3\", \"e3\", \"g5\", \"d2\"}) == 6\n",
    "check({\"b4\", \"c4\", \"d4\", \"e4\", \"f4\", \"g4\", \"e5\"}) == 1"
   ]
  },
  {
   "cell_type": "markdown",
   "metadata": {},
   "source": [
    "# Задача 5\n",
    "На пилораме работает 12 человек.\n",
    "6 человек имеют детей.\n",
    "4 человека знают английский.\n",
    "\n",
    "Дети стабильно болеют 3 дня в месяц, в этот период сотрудник, чей ребенок заболел берет отпуск за свой счет.<br>\n",
    "Каждый 4 день после проверки, приезжает проверка и забирает одного из знающих английский в качестве переводчика.\n",
    "\n",
    "За день 1 человек успевает напилить 1000 досок.\n",
    "\n",
    "Одна доска хорошего качества стоит 25 рублей, одна доска плохого качества стоит 10 рублей.\n",
    "Для определения типа доски используйте генератор случайных чисел.\n",
    "\n",
    "\n",
    "Сколько рублей заработает каждый из сотрудников, если деньги они получают за кол-во распиленных досок по 3 рубля за штуку.\n",
    "Сибистоимость доски 3 рубля.\n",
    "\n",
    "Сколько рублей заработает в итоге владелец пилорамы.\n",
    "\n",
    "Задача должна быть решена таким образом, чтоб любая из переменных могла быть изменена."
   ]
  },
  {
   "cell_type": "markdown",
   "metadata": {},
   "source": [
    "# Задача 6\n",
    "У вас есть девять цифр: 1, 2, …, 9. Именно в таком порядке. Вы можете вставлять между ними знаки «+», «-» или ничего. У вас будут получаться выражения вида 123+45-6+7+89. Найдите все из них, которые равны 100."
   ]
  },
  {
   "cell_type": "code",
   "execution_count": 3,
   "metadata": {},
   "outputs": [
    {
     "name": "stdout",
     "output_type": "stream",
     "text": [
      "123-45-67+89 = 100\n",
      "123-4-5-6-7+8-9 = 100\n",
      "123+45-67+8-9 = 100\n",
      "123+4-5+67-89 = 100\n",
      "12-3-4+5-6+7+89 = 100\n",
      "12+3-4+5+67+8+9 = 100\n",
      "12+3+4+5-6-7+89 = 100\n",
      "1+23-4+56+7+8+9 = 100\n",
      "1+23-4+5+6+78-9 = 100\n",
      "1+2+34-5+67-8+9 = 100\n",
      "1+2+3-4+5+6+78+9 = 100\n"
     ]
    }
   ],
   "source": [
    "#решение Арсения\n",
    "#напишите ваше решение сюда\n",
    "d=[1,2,3,4,5,6,7,8,9]\n",
    "c=['','-','+']\n",
    "for i in range(3**8):\n",
    "    a=[]\n",
    "    b=[]\n",
    "    s=''\n",
    "    k=0\n",
    "    for j in range(8):\n",
    "        a.append(c[i%3])\n",
    "        i=i//3\n",
    "    a.reverse()\n",
    "    s+=str(d[0])\n",
    "    for j in range(8):\n",
    "      s+=a[j]+str(d[j+1])\n",
    "    s1=s.replace('-','+-')\n",
    "    b=s1.split('+')\n",
    "    for j in b:\n",
    "      k+=int(j)\n",
    "    if k==100:\n",
    "      print(s,'=',k)"
   ]
  },
  {
   "cell_type": "code",
   "execution_count": 2,
   "metadata": {},
   "outputs": [
    {
     "name": "stdout",
     "output_type": "stream",
     "text": [
      "1+2+3-4+5+6+78+9\n",
      "1+2+34-5+67-8+9\n",
      "1+23-4+5+6+78-9\n",
      "1+23-4+56+7+8+9\n",
      "12-3-4+5-6+7+89\n",
      "12+3+4+5-6-7+89\n",
      "12+3-4+5+67+8+9\n",
      "123-4-5-6-7+8-9\n",
      "123+4-5+67-89\n",
      "123+45-67+8-9\n",
      "123-45-67+89\n"
     ]
    }
   ],
   "source": [
    "#Решение предложенное авторами задачи\n",
    "\n",
    "def all_combinations(a):\n",
    "    if len(a) <= 1:\n",
    "        yield a\n",
    "    else:\n",
    "        head = ''\n",
    "        tail = list(a)\n",
    "        while len(tail) > 0:\n",
    "            head += tail.pop(0)\n",
    "            for s in all_combinations(tail):\n",
    "                yield [head] + s\n",
    "\n",
    "def all_signs(n):\n",
    "    if n == 0:\n",
    "        yield ()\n",
    "    else:\n",
    "        for tail in all_signs(n-1):\n",
    "            for s in '+-':\n",
    "                yield (s,) + tail\n",
    "\n",
    "def perform_operations(nums, signs):\n",
    "    nums = list(map(int, nums))\n",
    "    result = nums.pop(0)\n",
    "    n = 1\n",
    "    for s in signs:\n",
    "        if s == '+':\n",
    "            result += nums.pop(0)\n",
    "        if s == '-':\n",
    "            result -= nums.pop(0)\n",
    "        n += 1\n",
    "    return result\n",
    "\n",
    "for numbers in all_combinations(tuple(map(str, range(1, 10)))):\n",
    "    #print(numbers)\n",
    "    for signs in all_signs(len(numbers) - 1):\n",
    "        #print(signs)\n",
    "        summ = perform_operations(numbers, signs)\n",
    "        if summ == 100:\n",
    "            print(\n",
    "                ''.join(map(\n",
    "                    lambda x: ''.join(x),\n",
    "                    zip(numbers, signs)))\n",
    "                + numbers[-1])"
   ]
  },
  {
   "cell_type": "code",
   "execution_count": 4,
   "metadata": {},
   "outputs": [
    {
     "name": "stdout",
     "output_type": "stream",
     "text": [
      "123-45-67+89 = 100\n",
      "123-4-5-6-7+8-9 = 100\n",
      "123+45-67+8-9 = 100\n",
      "123+4-5+67-89 = 100\n",
      "12-3-4+5-6+7+89 = 100\n",
      "12+3-4+5+67+8+9 = 100\n",
      "12+3+4+5-6-7+89 = 100\n",
      "1+23-4+56+7+8+9 = 100\n",
      "1+23-4+5+6+78-9 = 100\n",
      "1+2+34-5+67-8+9 = 100\n",
      "1+2+3-4+5+6+78+9 = 100\n"
     ]
    }
   ],
   "source": [
    "#Эпатов Андрей\n",
    "\n",
    "#напишите ваше решение сюда\n",
    "L = \"123456789\"\n",
    " \n",
    "#Маска знаков между цифрами \n",
    "#0 - none, 1 - минус, 2 - плюс\n",
    "def tern(i):\n",
    "  a=i%3\n",
    "  b=i//3\n",
    "  if b == 0 :\n",
    "    return a\n",
    "  if b > 0:\n",
    "    return str(tern(b))+str(a)\n",
    " \n",
    "for i in range(1,(3**(len(L)-1))):\n",
    "  p=0\n",
    "  t=0\n",
    "  S=L\n",
    "  for k in str(tern(i))[::-1]:\n",
    "    p+=1\n",
    "    n=p+t\n",
    "    if k==\"1\":\n",
    "      S=S[:-n] + '-' + S[-n:]\n",
    "    if k==\"2\":\n",
    "      S=S[:-n] + '+' + S[-n:]\n",
    "    if k == \"1\" or k==\"2\":\n",
    "      t+=1\n",
    "    \n",
    "  if (eval(S)==100):\n",
    "    print(S, \"=\" , 100)\n"
   ]
  },
  {
   "cell_type": "code",
   "execution_count": null,
   "metadata": {},
   "outputs": [],
   "source": []
  }
 ],
 "metadata": {
  "kernelspec": {
   "display_name": "Python 3",
   "language": "python",
   "name": "python3"
  },
  "language_info": {
   "codemirror_mode": {
    "name": "ipython",
    "version": 3
   },
   "file_extension": ".py",
   "mimetype": "text/x-python",
   "name": "python",
   "nbconvert_exporter": "python",
   "pygments_lexer": "ipython3",
   "version": "3.7.1"
  }
 },
 "nbformat": 4,
 "nbformat_minor": 2
}

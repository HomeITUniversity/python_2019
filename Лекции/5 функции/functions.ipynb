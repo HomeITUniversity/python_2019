{
 "cells": [
  {
   "cell_type": "markdown",
   "metadata": {},
   "source": [
    "# Функции"
   ]
  },
  {
   "cell_type": "code",
   "execution_count": 5,
   "metadata": {},
   "outputs": [],
   "source": [
    "#простая функция\n",
    "\n",
    "def print_hello_world():\n",
    "    print(\"Hello World!\")"
   ]
  },
  {
   "cell_type": "code",
   "execution_count": 6,
   "metadata": {},
   "outputs": [
    {
     "name": "stdout",
     "output_type": "stream",
     "text": [
      "Hello World!\n"
     ]
    }
   ],
   "source": [
    "#вызов функции\n",
    "print_hello_world()"
   ]
  },
  {
   "cell_type": "code",
   "execution_count": 7,
   "metadata": {},
   "outputs": [
    {
     "name": "stdout",
     "output_type": "stream",
     "text": [
      "Hello World!\n",
      "Hello World!\n",
      "Hello World!\n"
     ]
    }
   ],
   "source": [
    "# косвенные вызовы функции\n",
    "#как пременная\n",
    "my_func = print_hello_world\n",
    "my_func()\n",
    "\n",
    "# как элемент листа\n",
    "my_list = [1, 2, 3, print_hello_world]\n",
    "my_list[3]()\n",
    "\n",
    "#как элемент словаря\n",
    "my_dict = {\n",
    "    \"age\": 10,\n",
    "    \"func\": print_hello_world\n",
    "}\n",
    "my_dict['func']()"
   ]
  },
  {
   "cell_type": "code",
   "execution_count": 8,
   "metadata": {},
   "outputs": [
    {
     "name": "stdout",
     "output_type": "stream",
     "text": [
      "Hello World!\n",
      "Another text\n"
     ]
    }
   ],
   "source": [
    "# функция с аргументами\n",
    "def my_print(text):\n",
    "    print(text)\n",
    "\n",
    "my_print(\"Hello World!\")\n",
    "my_print(\"Another text\")"
   ]
  },
  {
   "cell_type": "code",
   "execution_count": 9,
   "metadata": {},
   "outputs": [
    {
     "name": "stdout",
     "output_type": "stream",
     "text": [
      "6\n"
     ]
    }
   ],
   "source": [
    "# функция которая возвращает результат\n",
    "\n",
    "def a_plus_b(firts_argiment, second_argument):\n",
    "    return firts_argiment + second_argument\n",
    "\n",
    "a = 1\n",
    "b = 5\n",
    "\n",
    "result = a_plus_b(a, b)\n",
    "print(result)"
   ]
  },
  {
   "cell_type": "code",
   "execution_count": 10,
   "metadata": {},
   "outputs": [
    {
     "name": "stdout",
     "output_type": "stream",
     "text": [
      "6\n"
     ]
    }
   ],
   "source": [
    "# вызов функции с именованными параметрами\n",
    "\n",
    "result = a_plus_b(firts_argiment=a, second_argument=b)\n",
    "print(result)"
   ]
  },
  {
   "cell_type": "code",
   "execution_count": 11,
   "metadata": {},
   "outputs": [
    {
     "name": "stdout",
     "output_type": "stream",
     "text": [
      "(1, 5) <class 'tuple'>\n"
     ]
    }
   ],
   "source": [
    "# возврат нескольких значений\n",
    "\n",
    "def function_with_2_returns(a , b):\n",
    "    return a, b\n",
    "\n",
    "result = function_with_2_returns(a, b)\n",
    "print(result, type(result))"
   ]
  },
  {
   "cell_type": "code",
   "execution_count": 12,
   "metadata": {},
   "outputs": [
    {
     "name": "stdout",
     "output_type": "stream",
     "text": [
      "Внешний лог времени: 2019-09-03 17:09:37.130836\n",
      "\n",
      "Внутренний лог времени: 2019-09-03 17:09:37.130836\n",
      "Внешний лог времени: 2019-09-03 17:09:37.130836\n",
      "\n"
     ]
    }
   ],
   "source": [
    "# функции с предопределенными аргументами\n",
    "\n",
    "from datetime import datetime\n",
    "\n",
    "def get_time_now(need_log=False):\n",
    "    time_now = datetime.now()\n",
    "    \n",
    "    if need_log:\n",
    "        print(f\"Внутренний лог времени: {time_now}\")\n",
    "    \n",
    "    return time_now\n",
    "\n",
    "print(f\"Внешний лог времени: {get_time_now()}\\n\")\n",
    "print(f\"Внешний лог времени: {get_time_now(need_log=True)}\\n\")\n"
   ]
  },
  {
   "cell_type": "code",
   "execution_count": 13,
   "metadata": {},
   "outputs": [
    {
     "name": "stdout",
     "output_type": "stream",
     "text": [
      "80 4.0\n"
     ]
    }
   ],
   "source": [
    "# вложенные функции\n",
    "\n",
    "def solver():\n",
    "    def plus(a, b):\n",
    "        return a + b\n",
    "    def minus(a, b):\n",
    "        return a - b\n",
    "    def mult(a, b):\n",
    "        return a * b\n",
    "    def div(a, b):\n",
    "        return a / b\n",
    "    \n",
    "    result1 = mult(plus(10, 6), 5)\n",
    "    \n",
    "    result2 = div(20, minus(10, 5))\n",
    "    print(result1, result2)\n",
    "\n",
    "solver()\n",
    "#plus(10, 5)"
   ]
  },
  {
   "cell_type": "code",
   "execution_count": 14,
   "metadata": {},
   "outputs": [
    {
     "name": "stdout",
     "output_type": "stream",
     "text": [
      "1\n",
      "2\n",
      "3\n",
      "4\n"
     ]
    }
   ],
   "source": [
    "# вложенные функции\n",
    "def first_level():\n",
    "    print(\"1\")\n",
    "    def second_level():\n",
    "        print(\"2\")\n",
    "        def third_level():\n",
    "            print('3')\n",
    "            def fourth_level():\n",
    "                print('4')\n",
    "                return\n",
    "            return fourth_level()\n",
    "        return third_level()\n",
    "    return second_level()\n",
    "return first_level()\n",
    "first_level()"
   ]
  },
  {
   "cell_type": "markdown",
   "metadata": {},
   "source": [
    "# Аргументы функций"
   ]
  },
  {
   "cell_type": "code",
   "execution_count": 11,
   "metadata": {},
   "outputs": [
    {
     "name": "stdout",
     "output_type": "stream",
     "text": [
      "3\n"
     ]
    }
   ],
   "source": [
    "# передача аргументов так как есть\n",
    "def calculate(a, b, c):\n",
    "    return a + b + c\n",
    "\n",
    "print(calculate(1,1,1))"
   ]
  },
  {
   "cell_type": "code",
   "execution_count": 12,
   "metadata": {},
   "outputs": [
    {
     "name": "stdout",
     "output_type": "stream",
     "text": [
      "3\n"
     ]
    }
   ],
   "source": [
    "# передача аргументов по именам\n",
    "\n",
    "print(calculate(a=1, b=1, c=1))"
   ]
  },
  {
   "cell_type": "code",
   "execution_count": 13,
   "metadata": {},
   "outputs": [],
   "source": [
    "# дефолтные значения аргументов\n",
    "\n",
    "def calculate_with_default_variables(a=1, b=2, c=3):\n",
    "    return a + b + c"
   ]
  },
  {
   "cell_type": "code",
   "execution_count": 16,
   "metadata": {},
   "outputs": [
    {
     "name": "stdout",
     "output_type": "stream",
     "text": [
      "3\n"
     ]
    }
   ],
   "source": [
    "print(calculate_with_default_variables(1,1,1))"
   ]
  },
  {
   "cell_type": "code",
   "execution_count": 17,
   "metadata": {},
   "outputs": [
    {
     "name": "stdout",
     "output_type": "stream",
     "text": [
      "6\n"
     ]
    }
   ],
   "source": [
    "print(calculate_with_default_variables())"
   ]
  },
  {
   "cell_type": "code",
   "execution_count": 18,
   "metadata": {},
   "outputs": [
    {
     "name": "stdout",
     "output_type": "stream",
     "text": [
      "2\n"
     ]
    }
   ],
   "source": [
    "# порядок записи аргументов\n",
    "\n",
    "def new_calculate(a, b=1):\n",
    "    return a + b\n",
    "\n",
    "print(new_calculate(1))"
   ]
  },
  {
   "cell_type": "code",
   "execution_count": 19,
   "metadata": {},
   "outputs": [
    {
     "name": "stdout",
     "output_type": "stream",
     "text": [
      "5\n"
     ]
    }
   ],
   "source": [
    "print(new_calculate(1, 4))"
   ]
  },
  {
   "cell_type": "code",
   "execution_count": 24,
   "metadata": {},
   "outputs": [
    {
     "name": "stdout",
     "output_type": "stream",
     "text": [
      "12\n"
     ]
    }
   ],
   "source": [
    "# произвольные значения аргументов\n",
    "\n",
    "def new_new_func(*args):\n",
    "    result = 0\n",
    "    for i in args:\n",
    "        result += i\n",
    "    \n",
    "    return result\n",
    "\n",
    "print(new_new_func(1,1,1,1,1,1,1,1,1,1,1,1))"
   ]
  },
  {
   "cell_type": "code",
   "execution_count": 26,
   "metadata": {},
   "outputs": [
    {
     "name": "stdout",
     "output_type": "stream",
     "text": [
      "{'a': 1, 'lol': 'loooool', 'new_variable': [1, 2, 3, 4]}\n"
     ]
    }
   ],
   "source": [
    "# именованныя набор произвольных аргументов\n",
    "\n",
    "def new_func_with_dict(**kwargs):\n",
    "    print(kwargs)\n",
    "    \n",
    "\n",
    "new_func_with_dict(a = 1, lol=\"loooool\", new_variable=[1,2,3,4])"
   ]
  },
  {
   "cell_type": "markdown",
   "metadata": {},
   "source": [
    "# области видимости"
   ]
  },
  {
   "cell_type": "raw",
   "metadata": {},
   "source": [
    "Области видимости можно разделить на 3 типа:\n",
    "1) Локальная область видимости\n",
    "2) Глобальная область видимости\n",
    "3) nonlocal область видимости."
   ]
  },
  {
   "cell_type": "code",
   "execution_count": 15,
   "metadata": {},
   "outputs": [
    {
     "name": "stdout",
     "output_type": "stream",
     "text": [
      "Hey!\n",
      "Hey!\n",
      "Hey!\n",
      "Hey!\n",
      "Hey!\n"
     ]
    }
   ],
   "source": [
    "index = 10\n",
    "\n",
    "def func(index):\n",
    "    for i in range(index):\n",
    "        print(\"Hey!\")\n",
    "\n",
    "func(5)"
   ]
  },
  {
   "cell_type": "code",
   "execution_count": 16,
   "metadata": {
    "scrolled": true
   },
   "outputs": [
    {
     "name": "stdout",
     "output_type": "stream",
     "text": [
      "Hey!\n",
      "Hey!\n",
      "Hey!\n",
      "Hey!\n",
      "Hey!\n",
      "Hey!\n",
      "Hey!\n",
      "Hey!\n",
      "Hey!\n",
      "Hey!\n"
     ]
    }
   ],
   "source": [
    "def func2():\n",
    "    for i in range(index):\n",
    "        print(\"Hey!\")\n",
    "func2()"
   ]
  },
  {
   "cell_type": "code",
   "execution_count": 17,
   "metadata": {},
   "outputs": [
    {
     "name": "stdout",
     "output_type": "stream",
     "text": [
      "Внешняя переменная\n",
      "Внутренняя переменная\n"
     ]
    }
   ],
   "source": [
    "#явно не объявлена, но видна во вне if\n",
    "outer = \"Внешняя переменная\"\n",
    "a = 1\n",
    "if a == 1:\n",
    "    inner = \"Внутренняя переменная\"\n",
    "\n",
    "print(outer)\n",
    "print(inner)"
   ]
  },
  {
   "cell_type": "code",
   "execution_count": 18,
   "metadata": {},
   "outputs": [
    {
     "name": "stdout",
     "output_type": "stream",
     "text": [
      "Внешняя переменная\n",
      "Внутренняя переменная\n"
     ]
    }
   ],
   "source": [
    "#Во избежании ощибок внутренние переменные лучше всего объявлять во вне\n",
    "outer = \"Внешняя переменная\"\n",
    "inner = None\n",
    "a = 1\n",
    "if a == 1:\n",
    "    inner = \"Внутренняя переменная\"\n",
    "\n",
    "print(outer)\n",
    "print(inner)"
   ]
  },
  {
   "cell_type": "code",
   "execution_count": 19,
   "metadata": {},
   "outputs": [
    {
     "ename": "UnboundLocalError",
     "evalue": "local variable 'x' referenced before assignment",
     "output_type": "error",
     "traceback": [
      "\u001b[1;31m---------------------------------------------------------------------------\u001b[0m",
      "\u001b[1;31mUnboundLocalError\u001b[0m                         Traceback (most recent call last)",
      "\u001b[1;32m<ipython-input-19-7dda609e398f>\u001b[0m in \u001b[0;36m<module>\u001b[1;34m\u001b[0m\n\u001b[0;32m      7\u001b[0m \u001b[1;33m\u001b[0m\u001b[0m\n\u001b[0;32m      8\u001b[0m \u001b[0mx\u001b[0m \u001b[1;33m=\u001b[0m \u001b[1;36m10\u001b[0m\u001b[1;33m\u001b[0m\u001b[1;33m\u001b[0m\u001b[0m\n\u001b[1;32m----> 9\u001b[1;33m \u001b[0mmy_func\u001b[0m\u001b[1;33m(\u001b[0m\u001b[1;36m1\u001b[0m\u001b[1;33m,\u001b[0m \u001b[1;36m2\u001b[0m\u001b[1;33m)\u001b[0m\u001b[1;33m\u001b[0m\u001b[1;33m\u001b[0m\u001b[0m\n\u001b[0m\u001b[0;32m     10\u001b[0m \u001b[0mprint\u001b[0m\u001b[1;33m(\u001b[0m\u001b[0mx\u001b[0m\u001b[1;33m)\u001b[0m\u001b[1;33m\u001b[0m\u001b[1;33m\u001b[0m\u001b[0m\n",
      "\u001b[1;32m<ipython-input-19-7dda609e398f>\u001b[0m in \u001b[0;36mmy_func\u001b[1;34m(a, b)\u001b[0m\n\u001b[0;32m      1\u001b[0m \u001b[1;32mdef\u001b[0m \u001b[0mmy_func\u001b[0m\u001b[1;33m(\u001b[0m\u001b[0ma\u001b[0m\u001b[1;33m,\u001b[0m \u001b[0mb\u001b[0m\u001b[1;33m)\u001b[0m\u001b[1;33m:\u001b[0m\u001b[1;33m\u001b[0m\u001b[1;33m\u001b[0m\u001b[0m\n\u001b[1;32m----> 2\u001b[1;33m     \u001b[0mprint\u001b[0m\u001b[1;33m(\u001b[0m\u001b[0mx\u001b[0m\u001b[1;33m)\u001b[0m\u001b[1;33m\u001b[0m\u001b[1;33m\u001b[0m\u001b[0m\n\u001b[0m\u001b[0;32m      3\u001b[0m     \u001b[1;31m#что будет если закоментировать х = 5?\u001b[0m\u001b[1;33m\u001b[0m\u001b[1;33m\u001b[0m\u001b[1;33m\u001b[0m\u001b[0m\n\u001b[0;32m      4\u001b[0m     \u001b[0mx\u001b[0m \u001b[1;33m=\u001b[0m \u001b[1;36m5\u001b[0m\u001b[1;33m\u001b[0m\u001b[1;33m\u001b[0m\u001b[0m\n\u001b[0;32m      5\u001b[0m     \u001b[0mprint\u001b[0m\u001b[1;33m(\u001b[0m\u001b[0mx\u001b[0m\u001b[1;33m)\u001b[0m\u001b[1;33m\u001b[0m\u001b[1;33m\u001b[0m\u001b[0m\n",
      "\u001b[1;31mUnboundLocalError\u001b[0m: local variable 'x' referenced before assignment"
     ]
    }
   ],
   "source": [
    "def my_func(a, b):\n",
    "    print(x)\n",
    "    #что будет если закоментировать х = 5?\n",
    "    x = 5\n",
    "    print(x)\n",
    "\n",
    "\n",
    "x = 10\n",
    "my_func(1, 2)\n",
    "print(x)"
   ]
  },
  {
   "cell_type": "markdown",
   "metadata": {},
   "source": [
    "###### Глобальная область видимости"
   ]
  },
  {
   "cell_type": "code",
   "execution_count": 20,
   "metadata": {},
   "outputs": [
    {
     "name": "stdout",
     "output_type": "stream",
     "text": [
      "10\n",
      "5\n",
      "5\n"
     ]
    }
   ],
   "source": [
    "#исправляем предыдущий пример при помощи оператора global\n",
    "def my_func(a, b):\n",
    "    global x\n",
    "    print(x)\n",
    "    x = 5\n",
    "    print(x)\n",
    " \n",
    "x = 10\n",
    "my_func(1, 2)\n",
    "print(x)"
   ]
  },
  {
   "cell_type": "code",
   "execution_count": 21,
   "metadata": {},
   "outputs": [
    {
     "name": "stdout",
     "output_type": "stream",
     "text": [
      "2 1 c is global Mike\n",
      "1 2 c is global 4\n"
     ]
    }
   ],
   "source": [
    "#теперь мы изменили внутренню переменную, которая в данный момент имеет локальную область видимости только внутри фунции\n",
    "def my_func(a, b):\n",
    "    global c\n",
    "    b, a = a, b\n",
    "    d = 'Mike'\n",
    "    print(a, b, c, d)\n",
    " \n",
    " \n",
    "a, b, c, d = 1, 2, 'c is global', 4\n",
    "my_func(1, 2)\n",
    "print(a, b, c, d)\n",
    "\n",
    "#поэтому когда мы вышли в основной поток, мы увидели снова старое значение, а не то, которое было указано внутри функции my_func"
   ]
  },
  {
   "cell_type": "markdown",
   "metadata": {},
   "source": [
    "## LAMBDA выражения"
   ]
  },
  {
   "cell_type": "raw",
   "metadata": {},
   "source": [
    "LAMBDA функции это анонимные функции в Python\n",
    "lambda [переменные через запятую]:[выражение]"
   ]
  },
  {
   "cell_type": "code",
   "execution_count": 22,
   "metadata": {},
   "outputs": [
    {
     "data": {
      "text/plain": [
       "3"
      ]
     },
     "execution_count": 22,
     "metadata": {},
     "output_type": "execute_result"
    }
   ],
   "source": [
    "func = lambda x, y: x + y\n",
    "func(1, 2)"
   ]
  },
  {
   "cell_type": "code",
   "execution_count": 23,
   "metadata": {},
   "outputs": [
    {
     "name": "stdout",
     "output_type": "stream",
     "text": [
      "Hellow World\n"
     ]
    }
   ],
   "source": [
    "(lambda h, w: print(h + \" \" + w))(h=\"Hellow\", w='World')"
   ]
  },
  {
   "cell_type": "markdown",
   "metadata": {},
   "source": [
    "lambda функции, в отличие от обычной, не требуется инструкция return, а в остальном, ведет себя точно так же"
   ]
  },
  {
   "cell_type": "markdown",
   "metadata": {},
   "source": [
    "# рекурсия\n"
   ]
  },
  {
   "cell_type": "raw",
   "metadata": {},
   "source": [
    "Какой правильный ответ про рекурсию?\n",
    "1) Ответ\n",
    "2) Рекурсия\n",
    "3) Какой правильный ответ про рекурсию?\n",
    "\n",
    "Рекурсивная функция, это функция которая вызывает сама себя, пока не выполнится какое-то условие\n",
    "\n",
    "\n",
    "\n",
    "В общем, рекурсивный подход подразумевает разделение сложной задачи, на один простой шаг к её решению и оставшуюся часть, которая становится упрощённой версией той же задачи. \n",
    "Затем этот процесс повторяется. \n",
    "Каждый раз вы совершаете один шаг, до тех пор, пока задача упростится до одного простейшего решения (его называют «базовым случаем»). \n",
    "Простейшее решение нашего базового случая с шагами, которые мы предприняли, чтобы добраться до него, образуют решение нашей первоначальной задачи."
   ]
  },
  {
   "attachments": {
    "1_W2lJUMwTKjgLdz01QsqIyg.gif": {
     "image/gif": "[encoded data removed]"
    }
   },
   "cell_type": "markdown",
   "metadata": {},
   "source": [
    "![1_W2lJUMwTKjgLdz01QsqIyg.gif](attachment:1_W2lJUMwTKjgLdz01QsqIyg.gif) "
   ]
  },
  {
   "cell_type": "code",
   "execution_count": 24,
   "metadata": {},
   "outputs": [
    {
     "name": "stdout",
     "output_type": "stream",
     "text": [
      "6\n",
      "120\n"
     ]
    }
   ],
   "source": [
    "def factorial(n):\n",
    "    res = 1\n",
    "    for i in range(1, n + 1):\n",
    "        res *= i\n",
    "    return res\n",
    "\n",
    "print(factorial(3))\n",
    "print(factorial(5))\n"
   ]
  },
  {
   "cell_type": "code",
   "execution_count": 25,
   "metadata": {},
   "outputs": [
    {
     "name": "stdout",
     "output_type": "stream",
     "text": [
      "6\n",
      "120\n"
     ]
    }
   ],
   "source": [
    "def factorial(n):\n",
    "    if n == 0:\n",
    "        return 1\n",
    "    else:\n",
    "        return n * factorial(n - 1)\n",
    "\n",
    "print(factorial(3))\n",
    "print(factorial(5))"
   ]
  },
  {
   "cell_type": "code",
   "execution_count": 26,
   "metadata": {},
   "outputs": [],
   "source": [
    "# более наглядно это видно в IDE --> pycharm в режиме дебага"
   ]
  },
  {
   "cell_type": "markdown",
   "metadata": {},
   "source": [
    "# задача 1"
   ]
  },
  {
   "cell_type": "raw",
   "metadata": {},
   "source": [
    "напишите функцию, которая выводит текущее время, в формате: \n",
    "\"H: 12\"\n",
    "\"M: 22\"\n",
    "\"S: 05\"\n",
    "каждые 10 секунд."
   ]
  },
  {
   "cell_type": "code",
   "execution_count": 27,
   "metadata": {},
   "outputs": [
    {
     "name": "stdout",
     "output_type": "stream",
     "text": [
      "H: 17\n",
      "M: 9\n",
      "S: 41\n",
      "\n",
      "H: 17\n",
      "M: 9\n",
      "S: 51\n",
      "\n",
      "H: 17\n",
      "M: 10\n",
      "S: 1\n",
      "\n",
      "H: 17\n",
      "M: 10\n",
      "S: 11\n",
      "\n",
      "H: 17\n",
      "M: 10\n",
      "S: 21\n",
      "\n",
      "H: 17\n",
      "M: 10\n",
      "S: 31\n",
      "\n",
      "H: 17\n",
      "M: 10\n",
      "S: 41\n",
      "\n",
      "H: 17\n",
      "M: 10\n",
      "S: 51\n",
      "\n",
      "H: 17\n",
      "M: 11\n",
      "S: 1\n",
      "\n",
      "H: 17\n",
      "M: 11\n",
      "S: 11\n",
      "\n",
      "H: 17\n",
      "M: 11\n",
      "S: 21\n",
      "\n",
      "H: 17\n",
      "M: 11\n",
      "S: 31\n",
      "\n",
      "H: 17\n",
      "M: 11\n",
      "S: 41\n",
      "\n",
      "H: 17\n",
      "M: 11\n",
      "S: 51\n",
      "\n",
      "H: 17\n",
      "M: 12\n",
      "S: 1\n",
      "\n",
      "H: 17\n",
      "M: 12\n",
      "S: 11\n",
      "\n",
      "H: 17\n",
      "M: 12\n",
      "S: 21\n",
      "\n",
      "H: 17\n",
      "M: 12\n",
      "S: 31\n",
      "\n",
      "H: 17\n",
      "M: 12\n",
      "S: 41\n",
      "\n",
      "H: 17\n",
      "M: 12\n",
      "S: 51\n",
      "\n",
      "H: 17\n",
      "M: 13\n",
      "S: 1\n",
      "\n",
      "H: 17\n",
      "M: 13\n",
      "S: 11\n",
      "\n",
      "H: 17\n",
      "M: 13\n",
      "S: 21\n",
      "\n"
     ]
    },
    {
     "ename": "KeyboardInterrupt",
     "evalue": "",
     "output_type": "error",
     "traceback": [
      "\u001b[1;31m---------------------------------------------------------------------------\u001b[0m",
      "\u001b[1;31mKeyboardInterrupt\u001b[0m                         Traceback (most recent call last)",
      "\u001b[1;32m<ipython-input-27-0ede06180486>\u001b[0m in \u001b[0;36m<module>\u001b[1;34m\u001b[0m\n\u001b[0;32m      7\u001b[0m \u001b[1;33m\u001b[0m\u001b[0m\n\u001b[0;32m      8\u001b[0m         \u001b[0mtime\u001b[0m\u001b[1;33m.\u001b[0m\u001b[0msleep\u001b[0m\u001b[1;33m(\u001b[0m\u001b[1;36m10\u001b[0m\u001b[1;33m)\u001b[0m\u001b[1;33m\u001b[0m\u001b[1;33m\u001b[0m\u001b[0m\n\u001b[1;32m----> 9\u001b[1;33m \u001b[0mtime_writer\u001b[0m\u001b[1;33m(\u001b[0m\u001b[1;33m)\u001b[0m\u001b[1;33m\u001b[0m\u001b[1;33m\u001b[0m\u001b[0m\n\u001b[0m",
      "\u001b[1;32m<ipython-input-27-0ede06180486>\u001b[0m in \u001b[0;36mtime_writer\u001b[1;34m()\u001b[0m\n\u001b[0;32m      6\u001b[0m         \u001b[0mprint\u001b[0m\u001b[1;33m(\u001b[0m\u001b[1;34mf\"H: {datetime.now().hour}\\nM: {datetime.now().minute}\\nS: {datetime.now().second}\\n\"\u001b[0m\u001b[1;33m)\u001b[0m\u001b[1;33m\u001b[0m\u001b[1;33m\u001b[0m\u001b[0m\n\u001b[0;32m      7\u001b[0m \u001b[1;33m\u001b[0m\u001b[0m\n\u001b[1;32m----> 8\u001b[1;33m         \u001b[0mtime\u001b[0m\u001b[1;33m.\u001b[0m\u001b[0msleep\u001b[0m\u001b[1;33m(\u001b[0m\u001b[1;36m10\u001b[0m\u001b[1;33m)\u001b[0m\u001b[1;33m\u001b[0m\u001b[1;33m\u001b[0m\u001b[0m\n\u001b[0m\u001b[0;32m      9\u001b[0m \u001b[0mtime_writer\u001b[0m\u001b[1;33m(\u001b[0m\u001b[1;33m)\u001b[0m\u001b[1;33m\u001b[0m\u001b[1;33m\u001b[0m\u001b[0m\n",
      "\u001b[1;31mKeyboardInterrupt\u001b[0m: "
     ]
    }
   ],
   "source": [
    "from datetime import datetime\n",
    "import time\n",
    "\n",
    "def time_writer():\n",
    "    while True:\n",
    "        print(f\"H: {datetime.now().hour}\\nM: {datetime.now().minute}\\nS: {datetime.now().second}\\n\")\n",
    "        \n",
    "        time.sleep(10)\n",
    "time_writer()"
   ]
  },
  {
   "cell_type": "markdown",
   "metadata": {},
   "source": [
    "# задача 2\n"
   ]
  },
  {
   "cell_type": "raw",
   "metadata": {},
   "source": [
    "Ваша задача - определить угол солнца над горизонтом, зная время суток. Исходные данные: солнце встает на востоке в 6:00, что соответствует углу 0 градусов. В 12:00 солнце в зените, а значит угол = 90 градусов. В 18:00 солнце садится за горизонт и угол равен 180 градусов. В случае, если указано ночное время (раньше 6:00 или позже 18:00), функция должна вернуть фразу \"I don't see the sun!\"."
   ]
  },
  {
   "attachments": {
    "sun.png": {
     "image/png": "[encoded data removed]"
    }
   },
   "cell_type": "markdown",
   "metadata": {},
   "source": [
    "![sun.png](attachment:sun.png)"
   ]
  },
  {
   "cell_type": "code",
   "execution_count": 29,
   "metadata": {},
   "outputs": [],
   "source": [
    "from datetime import datetime\n",
    "def sun_angle(time_now):\n",
    "    time = datetime.strptime(time_now, \"%H:%M\").time()\n",
    "    print(time, type(time), datetime(2005, 7, 14, 6, 0).time())\n",
    "    if datetime(2005, 7, 14, 6, 0).time() > time or time > datetime(2005, 7, 14, 18, 0).time():\n",
    "        return \"I don't see the sun!\"\n",
    "    else:\n",
    "        angle_in_minute = 180 / (12 * 60)\n",
    "        now_m = (time.hour - 6) * 60 + time.minute\n",
    "        return angle_in_minute * now_m"
   ]
  },
  {
   "cell_type": "code",
   "execution_count": 31,
   "metadata": {},
   "outputs": [
    {
     "name": "stdout",
     "output_type": "stream",
     "text": [
      "07:00:00 <class 'datetime.time'> 06:00:00\n",
      "12:15:00 <class 'datetime.time'> 06:00:00\n",
      "01:23:00 <class 'datetime.time'> 06:00:00\n",
      "OK\n"
     ]
    }
   ],
   "source": [
    "# если не будет ошибрк значит все ок, иначе у вас ошибка\n",
    "assert(sun_angle(\"07:00\") == 15)\n",
    "assert(sun_angle(\"12:15\") == 93.75)\n",
    "assert(sun_angle(\"01:23\") == \"I don't see the sun!\")\n",
    "\n",
    "print(\"OK\")"
   ]
  },
  {
   "cell_type": "code",
   "execution_count": null,
   "metadata": {},
   "outputs": [],
   "source": []
  }
 ],
 "metadata": {
  "kernelspec": {
   "display_name": "Python 3",
   "language": "python",
   "name": "python3"
  },
  "language_info": {
   "codemirror_mode": {
    "name": "ipython",
    "version": 3
   },
   "file_extension": ".py",
   "mimetype": "text/x-python",
   "name": "python",
   "nbconvert_exporter": "python",
   "pygments_lexer": "ipython3",
   "version": "3.7.1"
  }
 },
 "nbformat": 4,
 "nbformat_minor": 2
}

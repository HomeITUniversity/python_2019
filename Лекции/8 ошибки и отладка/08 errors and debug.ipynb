{
 "cells": [
  {
   "attachments": {
    "new_logon_logo_.png": {
     "image/png": "[encoded data removed]"
    }
   },
   "cell_type": "markdown",
   "metadata": {},
   "source": [
    "# Python для сотрудников банка\n",
    "![new_logon_logo_.png](attachment:new_logon_logo_.png)\n",
    "\n",
    "## Проверка, как слышно? Как видно? (ставим +/- в чат)"
   ]
  },
  {
   "cell_type": "markdown",
   "metadata": {},
   "source": [
    "# Ошибки в коде и их обработка"
   ]
  },
  {
   "cell_type": "code",
   "execution_count": null,
   "metadata": {},
   "outputs": [],
   "source": [
    "def divide(first: float, second: float) -> float:\n",
    "    return first / second"
   ]
  },
  {
   "cell_type": "code",
   "execution_count": null,
   "metadata": {},
   "outputs": [],
   "source": [
    "result = divide(1, 0)\n",
    "print('x / y = ', result)"
   ]
  },
  {
   "cell_type": "markdown",
   "metadata": {},
   "source": [
    "### Основные типы исключений\n",
    "<b>Exception</b> – то, на чем фактически строятся все остальные ошибки;\n",
    "<br><b>AttributeError</b> – возникает, когда ссылка атрибута или присвоение не могут быть выполнены;\n",
    "<br><b>IOError</b> – возникает в том случае, когда операция I/O (такая как оператор вывода, встроенная функция open() или метод объекта-файла) не может быть выполнена, по связанной с I/O причине: «файл не найден», или «диск заполнен», иными словами.\n",
    "<br><b>ImportError</b> – возникает, когда оператор import не может найти определение модуля, или когда оператор не может найти имя файла, который должен быть импортирован;\n",
    "<br><b>IndexError</b> – возникает, когда индекс последовательности находится вне допустимого диапазона;\n",
    "<br><b>KeyError</b> – возникает, когда ключ сопоставления (dictionary key) не найден в наборе существующих ключей;\n",
    "<br><b>KeyboardInterrupt</b> – возникает, когда пользователь нажимает клавишу прерывания(обычно Delete или Ctrl+C);\n",
    "<br><b>NameError</b> – возникает, когда локальное или глобальное имя не найдено;\n",
    "<br><b>OSError</b> – возникает, когда функция получает связанную с системой ошибку;\n",
    "<br><b>SyntaxError</b> — возникает, когда синтаксическая ошибка встречается синтаксическим анализатором;\n",
    "<br><b>TypeError</b> – возникает, когда операция или функция применяется к объекту несоответствующего типа. Связанное значение представляет собой строку, в которой приводятся подробные сведения о несоответствии типов;\n",
    "<br><b>ValueError</b> – возникает, когда встроенная операция или функция получают аргумент, тип которого правильный, но неправильно значение, и ситуация не может описано более точно, как при возникновении IndexError;\n",
    "<br><b>ZeroDivisionError</b> – возникает, когда второй аргумент операции division или modulo равен нулю;"
   ]
  },
  {
   "cell_type": "markdown",
   "metadata": {},
   "source": [
    "### Как же обрабатывать исключения?"
   ]
  },
  {
   "cell_type": "code",
   "execution_count": null,
   "metadata": {},
   "outputs": [],
   "source": [
    "1 / 0"
   ]
  },
  {
   "cell_type": "code",
   "execution_count": null,
   "metadata": {},
   "outputs": [],
   "source": [
    "# конкретное исключение\n",
    "try:\n",
    "    1 / 0\n",
    "except ZeroDivisionError:\n",
    "    print(\"Делить на ноль нельзя!\")"
   ]
  },
  {
   "cell_type": "code",
   "execution_count": null,
   "metadata": {},
   "outputs": [],
   "source": [
    "# голое исключение\n",
    "try:\n",
    "    1 / 0\n",
    "except:\n",
    "    print(\"Произошла ошибка!\")"
   ]
  },
  {
   "cell_type": "code",
   "execution_count": null,
   "metadata": {},
   "outputs": [],
   "source": [
    "# исключение с выводом Ошибки, которую пишет питон\n",
    "try:\n",
    "    1 / 0\n",
    "except Exception as e:\n",
    "    print(e)"
   ]
  },
  {
   "cell_type": "code",
   "execution_count": null,
   "metadata": {},
   "outputs": [],
   "source": [
    "# конкретное исключение с выводом исстемной ошибки\n",
    "try:\n",
    "    1 / 0\n",
    "except ZeroDivisionError as e:\n",
    "    print(\"Делить на ноль нельзя!\", e)"
   ]
  },
  {
   "cell_type": "markdown",
   "metadata": {},
   "source": [
    "### Примеры обработки других типов исключений\n"
   ]
  },
  {
   "cell_type": "code",
   "execution_count": null,
   "metadata": {},
   "outputs": [],
   "source": [
    "my_list = [1, 2, 3, 4, 5]\n",
    " \n",
    "try:\n",
    "    my_list[6]\n",
    "except IndexError:\n",
    "    print(\"That index is not in the list!\")"
   ]
  },
  {
   "cell_type": "code",
   "execution_count": null,
   "metadata": {},
   "outputs": [],
   "source": [
    "my_dict = {\"a\":1, \"b\":2, \"c\":3}\n",
    " \n",
    "try:\n",
    "    value = my_dict[\"d\"]\n",
    "except KeyError:\n",
    "    print(\"That key does not exist!\")"
   ]
  },
  {
   "cell_type": "markdown",
   "metadata": {},
   "source": [
    "### ELIF в исключениях"
   ]
  },
  {
   "cell_type": "code",
   "execution_count": null,
   "metadata": {},
   "outputs": [],
   "source": [
    "my_dict = {\"a\":1, \"b\":2, \"c\":3}\n",
    " \n",
    "try:\n",
    "    value = my_dict[\"d\"]\n",
    "except IndexError:\n",
    "    print(\"This index does not exist!\")\n",
    "except KeyError:\n",
    "    print(\"This key is not in the dictionary!\")\n",
    "except:\n",
    "    print(\"Some other error occurred!\")"
   ]
  },
  {
   "cell_type": "code",
   "execution_count": null,
   "metadata": {},
   "outputs": [],
   "source": [
    "try:\n",
    "    value = my_dict[\"d\"]\n",
    "except (IndexError, KeyError):\n",
    "    print(\"An IndexError or KeyError occurred!\")"
   ]
  },
  {
   "cell_type": "markdown",
   "metadata": {},
   "source": [
    "### Обработаем исключение из начальной задачи"
   ]
  },
  {
   "cell_type": "code",
   "execution_count": null,
   "metadata": {},
   "outputs": [],
   "source": [
    "def divide(first: float, second: float) -> float:\n",
    "    try:\n",
    "        return first / second\n",
    "    except ZeroDivisionError:\n",
    "        return 0.0"
   ]
  },
  {
   "cell_type": "code",
   "execution_count": null,
   "metadata": {},
   "outputs": [],
   "source": [
    "result = divide(1, 0)\n",
    "print('x / y = ', result)"
   ]
  },
  {
   "cell_type": "markdown",
   "metadata": {},
   "source": [
    "### Но почему мы возвращаем 0? Почему не 1 или None? "
   ]
  },
  {
   "cell_type": "markdown",
   "metadata": {},
   "source": [
    "### Действие после ошибок - finally"
   ]
  },
  {
   "cell_type": "code",
   "execution_count": null,
   "metadata": {},
   "outputs": [],
   "source": [
    "my_dict = {\"a\":1, \"b\":2, \"c\":3}\n",
    " \n",
    "try:\n",
    "    value = my_dict[\"a\"]\n",
    "    print(value)\n",
    "except KeyError:\n",
    "    print(\"A KeyError occurred!\")\n",
    "finally:\n",
    "    print(\"The finally statement ran!\")"
   ]
  },
  {
   "cell_type": "markdown",
   "metadata": {},
   "source": [
    "### ELSE ?"
   ]
  },
  {
   "cell_type": "code",
   "execution_count": null,
   "metadata": {},
   "outputs": [],
   "source": [
    "my_dict = {\"a\":1, \"b\":2, \"c\":3}\n",
    " \n",
    "try:\n",
    "    value = my_dict[\"a\"]\n",
    "except KeyError:\n",
    "    print(\"A KeyError occurred!\")\n",
    "else:\n",
    "    print(\"Else?\")\n",
    "finally:\n",
    "    print(\"The finally statement ran!\")"
   ]
  },
  {
   "cell_type": "markdown",
   "metadata": {},
   "source": [
    "### А нужно ли нам всегда отлавливать ошибку и как то ее обрабатывать?"
   ]
  },
  {
   "cell_type": "code",
   "execution_count": null,
   "metadata": {},
   "outputs": [],
   "source": [
    "import time\n",
    "a = 10\n",
    "b = 5\n",
    "c = 1\n",
    "while a > c:\n",
    "    print(\"New loop iteration\")\n",
    "    try:\n",
    "        d = (b * c + a) / (c - 5)\n",
    "        print(\"d \", d , \"c \", c)\n",
    "        c += 1\n",
    "        \n",
    "    except:\n",
    "        print(\"Error\")\n",
    "    \n",
    "    time.sleep(1)"
   ]
  },
  {
   "cell_type": "markdown",
   "metadata": {},
   "source": [
    "# Вызов ошибок - Raise\n"
   ]
  },
  {
   "cell_type": "code",
   "execution_count": 7,
   "metadata": {},
   "outputs": [
    {
     "ename": "KeyboardInterrupt",
     "evalue": "Жми все кнопки подрят",
     "output_type": "error",
     "traceback": [
      "\u001b[1;31m---------------------------------------------------------------------------\u001b[0m",
      "\u001b[1;31mKeyboardInterrupt\u001b[0m                         Traceback (most recent call last)",
      "\u001b[1;32m<ipython-input-7-ced8f191ac1e>\u001b[0m in \u001b[0;36m<module>\u001b[1;34m\u001b[0m\n\u001b[1;32m----> 1\u001b[1;33m \u001b[1;32mraise\u001b[0m \u001b[0mKeyboardInterrupt\u001b[0m\u001b[1;33m(\u001b[0m\u001b[1;34m\"Жми все кнопки подрят\"\u001b[0m\u001b[1;33m)\u001b[0m\u001b[1;33m\u001b[0m\u001b[1;33m\u001b[0m\u001b[0m\n\u001b[0m",
      "\u001b[1;31mKeyboardInterrupt\u001b[0m: Жми все кнопки подрят"
     ]
    }
   ],
   "source": [
    "raise KeyboardInterrupt(\"Жми все кнопки подрят\")"
   ]
  },
  {
   "cell_type": "code",
   "execution_count": 6,
   "metadata": {},
   "outputs": [
    {
     "ename": "Exception",
     "evalue": "Все очень плохо",
     "output_type": "error",
     "traceback": [
      "\u001b[1;31m---------------------------------------------------------------------------\u001b[0m",
      "\u001b[1;31mException\u001b[0m                                 Traceback (most recent call last)",
      "\u001b[1;32m<ipython-input-6-12b5d7b4d865>\u001b[0m in \u001b[0;36m<module>\u001b[1;34m\u001b[0m\n\u001b[1;32m----> 1\u001b[1;33m \u001b[1;32mraise\u001b[0m \u001b[0mException\u001b[0m\u001b[1;33m(\u001b[0m\u001b[1;34m\"Все очень плохо\"\u001b[0m\u001b[1;33m)\u001b[0m\u001b[1;33m\u001b[0m\u001b[1;33m\u001b[0m\u001b[0m\n\u001b[0m",
      "\u001b[1;31mException\u001b[0m: Все очень плохо"
     ]
    }
   ],
   "source": [
    "raise Exception(\"Все очень плохо\")"
   ]
  },
  {
   "cell_type": "markdown",
   "metadata": {},
   "source": [
    "# Заглушки - pass"
   ]
  },
  {
   "cell_type": "code",
   "execution_count": null,
   "metadata": {},
   "outputs": [],
   "source": [
    "# Пример в pycharme"
   ]
  },
  {
   "cell_type": "markdown",
   "metadata": {},
   "source": [
    "# Отладка кода - pycharm"
   ]
  },
  {
   "cell_type": "code",
   "execution_count": null,
   "metadata": {},
   "outputs": [],
   "source": [
    "# Пример в pycharme"
   ]
  },
  {
   "cell_type": "markdown",
   "metadata": {},
   "source": [
    "# Логгер и логгирование в python"
   ]
  },
  {
   "cell_type": "code",
   "execution_count": null,
   "metadata": {},
   "outputs": [],
   "source": [
    "# системный (рутовый) логер\n",
    "import logging\n",
    "logging.warning('Watch out!')\n",
    "logging.error('Watch out!')\n",
    "logging.critical('Watch out!')\n",
    "logging.info('I told you so')"
   ]
  },
  {
   "cell_type": "code",
   "execution_count": null,
   "metadata": {},
   "outputs": [],
   "source": [
    "# логгирование в файл системных логгером\n",
    "\n",
    "import logging\n",
    "logging.basicConfig(filename='example.log',level=logging.DEBUG)\n",
    "logging.debug('This message should go to the log file')\n",
    "logging.info('So should this')\n",
    "logging.warning('And this, too')"
   ]
  },
  {
   "cell_type": "code",
   "execution_count": null,
   "metadata": {},
   "outputs": [],
   "source": [
    "import logging\n",
    "import sys\n",
    "from datetime import datetime\n",
    "\n",
    "def create_logger(logger_name, file_name=None, level=\"WARNING\"):\n",
    "\n",
    "    logger_levels = {\n",
    "                'CRITICAL': logging.CRITICAL,  # 50\n",
    "                'ERROR': logging.ERROR,  # 40\n",
    "                'WARNING': logging.WARNING,  # 30\n",
    "                'INFO': logging.INFO,  # 20\n",
    "                'DEBUG': logging.DEBUG,  # 10\n",
    "            }\n",
    "\n",
    "    level = logger_levels.get(level, logging.WARNING)\n",
    "\n",
    "    file_name = file_name if file_name is not None else logger_name + '_' + str(datetime.date(datetime.now()).today()) + '.log'\n",
    "\n",
    "    formatter = logging.Formatter('[%(asctime)s] - %(name)-20s - %(module)-20s - %(threadName)-20s - [%(levelname)-8s] - %(message)s')\n",
    "\n",
    "    created_logger = logging.getLogger(logger_name)\n",
    "    created_logger.setLevel(level)\n",
    "\n",
    "    # File handler\n",
    "    fh = logging.FileHandler(file_name, 'a', 'utf-8')\n",
    "    fh.setLevel(level)\n",
    "    fh.setFormatter(formatter)\n",
    "    created_logger.addHandler(fh)\n",
    "\n",
    "    # Stream handler\n",
    "    ch = logging.StreamHandler(sys.stdout)\n",
    "    ch.setLevel(level)\n",
    "    ch.setFormatter(formatter)\n",
    "    created_logger.addHandler(ch)\n",
    "\n",
    "    return created_logger"
   ]
  },
  {
   "cell_type": "code",
   "execution_count": null,
   "metadata": {},
   "outputs": [],
   "source": [
    "    logger = create_logger(logger_name=\"MyCustomLoggerForLearning\", file_name=\"main.log\", level=\"INFO\")\n",
    "\n",
    "    logger.info(\"info LOG\")\n",
    "    logger.error(\"error LOG\")\n",
    "    logger.debug(\"debug LOG\")\n",
    "\n",
    "    try:\n",
    "        a = 1 / 0\n",
    "    except Exception as e:\n",
    "        logger.error(e)"
   ]
  },
  {
   "cell_type": "code",
   "execution_count": null,
   "metadata": {},
   "outputs": [],
   "source": []
  }
 ],
 "metadata": {
  "kernelspec": {
   "display_name": "Python 3",
   "language": "python",
   "name": "python3"
  },
  "language_info": {
   "codemirror_mode": {
    "name": "ipython",
    "version": 3
   },
   "file_extension": ".py",
   "mimetype": "text/x-python",
   "name": "python",
   "nbconvert_exporter": "python",
   "pygments_lexer": "ipython3",
   "version": "3.7.1"
  }
 },
 "nbformat": 4,
 "nbformat_minor": 2
}

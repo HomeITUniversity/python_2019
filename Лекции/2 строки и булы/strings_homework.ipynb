{
 "cells": [
  {
   "cell_type": "markdown",
   "metadata": {},
   "source": [
    "# задача 6\n",
    "Найти наиболее часто встречаемый символ в строке. Отобразить в консоль сам символ и частоту его появления."
   ]
  },
  {
   "cell_type": "code",
   "execution_count": 36,
   "metadata": {
    "collapsed": true
   },
   "outputs": [
    {
     "name": "stdout",
     "output_type": "stream",
     "text": [
      "Top char: а\n",
      "Count: 4\n"
     ]
    }
   ],
   "source": [
    "string = \"\".join(\"Мамина любовь и забота о дите своем\".lower().split())\n",
    "\n",
    "top_chart = \"\"\n",
    "count = 0\n",
    "\n",
    "for char in string:\n",
    "    temp_count = 0\n",
    "    \n",
    "    for c in string:\n",
    "        if c == char:\n",
    "            temp_count += 1\n",
    "    \n",
    "    if count < temp_count:\n",
    "        count = temp_count\n",
    "        top_char = char\n",
    "\n",
    "print(f\"Top char: {top_char}\\nCount: {count}\")"
   ]
  },
  {
   "cell_type": "code",
   "execution_count": 37,
   "metadata": {},
   "outputs": [],
   "source": [
    "assert top_char=='а'\n"
   ]
  },
  {
   "cell_type": "code",
   "execution_count": 38,
   "metadata": {},
   "outputs": [
    {
     "data": {
      "text/plain": [
       "4"
      ]
     },
     "execution_count": 38,
     "metadata": {},
     "output_type": "execute_result"
    }
   ],
   "source": [
    "\"Мамина любовь и забота о дите своем\".count('а')"
   ]
  },
  {
   "cell_type": "markdown",
   "metadata": {},
   "source": [
    "# задача 7\n",
    "Проверить корректность пароля. Пароль должен содержать как минимум 1 цифру, 1 букву нижнего регистра и 1 букву верхнего регистра и быть длинной > 10 символов. "
   ]
  },
  {
   "cell_type": "code",
   "execution_count": 39,
   "metadata": {},
   "outputs": [
    {
     "name": "stdout",
     "output_type": "stream",
     "text": [
      "Password is incorrect, your password not contain: \n",
      "Char in upper case\n"
     ]
    }
   ],
   "source": [
    "password = \"qjiji98998dad8asd\"\n",
    "\n",
    "upper_case = False\n",
    "lower_case = False\n",
    "digit = False\n",
    "length = 10\n",
    "\n",
    "if len(password) >= length:\n",
    "    for char in password:\n",
    "        if char.isdigit():\n",
    "            digit = True\n",
    "        elif char.isupper():\n",
    "            upper_case = True\n",
    "        elif char.islower():\n",
    "            lower_case = True\n",
    "        \n",
    "        \n",
    "    \n",
    "    if upper_case and lower_case and digit:\n",
    "        print(\"Password is correct\")\n",
    "    else:\n",
    "        print(\"Password is incorrect, your password not contain: {upper_case}{lower_case}{digit}\".format(\n",
    "            upper_case = \"\\nChar in upper case\" if upper_case is False else \"\",\n",
    "            lower_case = \"\\nChar in lower case\" if lower_case is False else \"\",\n",
    "            digit = \"\\nDigit\" if digit is False else \"\"\n",
    "        ))\n",
    "else:\n",
    "    print(f\"Password is incorrect! Length < {length}\")\n",
    "\n",
    "\n",
    "    "
   ]
  },
  {
   "cell_type": "markdown",
   "metadata": {},
   "source": [
    "# задача 8\n",
    "Сравнить две строки, с учетом регистра."
   ]
  },
  {
   "cell_type": "code",
   "execution_count": 11,
   "metadata": {},
   "outputs": [
    {
     "name": "stdout",
     "output_type": "stream",
     "text": [
      "Str1 == Str2\n"
     ]
    }
   ],
   "source": [
    "str1 = \"QWERTY\"\n",
    "str2 = \"QWERTY\"\n",
    "\n",
    "if len(str1) != len(str2):\n",
    "    print(\"Str1 != Str2\")\n",
    "else:\n",
    "    flag = False\n",
    "    for char_str1, char_str2 in zip(str1, str2):\n",
    "        if char_str1 != char_str2:\n",
    "            flag = True\n",
    "            break\n",
    "    if flag:\n",
    "        print(\"Str1 != Str2\")\n",
    "    else:\n",
    "        print(\"Str1 == Str2\")"
   ]
  },
  {
   "cell_type": "code",
   "execution_count": 12,
   "metadata": {},
   "outputs": [
    {
     "data": {
      "text/plain": [
       "True"
      ]
     },
     "execution_count": 12,
     "metadata": {},
     "output_type": "execute_result"
    }
   ],
   "source": [
    "str1 == str2"
   ]
  },
  {
   "cell_type": "code",
   "execution_count": 8,
   "metadata": {},
   "outputs": [
    {
     "name": "stdout",
     "output_type": "stream",
     "text": [
      "Str1 == Str2\n"
     ]
    }
   ],
   "source": [
    "if len(str1) != len(str2):\n",
    "    print(\"Str1 != Str2\")\n",
    "else:\n",
    "    flag = False\n",
    "    for i in range(len(str1)):\n",
    "        if str1[i] != str2[i]:\n",
    "            flag = True\n",
    "            break\n",
    "    if flag:\n",
    "        print(\"Str1 != Str2\")\n",
    "    else:\n",
    "        print(\"Str1 == Str2\")"
   ]
  },
  {
   "cell_type": "markdown",
   "metadata": {},
   "source": [
    "# задача 9\n",
    "Удалить из строки все пробелы и определить, является ли она перевертышем (палиндромом)."
   ]
  },
  {
   "cell_type": "code",
   "execution_count": 30,
   "metadata": {
    "scrolled": true
   },
   "outputs": [
    {
     "name": "stdout",
     "output_type": "stream",
     "text": [
      "String is polyndrom\n"
     ]
    }
   ],
   "source": [
    "string = \"A bc d dc bA\"\n",
    "\n",
    "string = \"\".join(string.split())\n",
    "reversed_string = string[::-1]\n",
    "\n",
    "if string == reversed_string:\n",
    "    print(\"String is polyndrom\")\n",
    "else:\n",
    "    print(\"String is not polyndrom\")\n",
    "    "
   ]
  },
  {
   "cell_type": "markdown",
   "metadata": {},
   "source": [
    "# задача 10\n",
    "Удалить из строки повторяющиеся символы. Вывести отдельно строку без повторяющихся символов. Пробелы оставить на своих местах."
   ]
  },
  {
   "cell_type": "code",
   "execution_count": 1,
   "metadata": {},
   "outputs": [
    {
     "name": "stdout",
     "output_type": "stream",
     "text": [
      "Total string '   ewq x'\n"
     ]
    }
   ],
   "source": [
    "string = \"asd ad as ewq ddxa\"\n",
    "total_string = \"\"\n",
    "for char in string:\n",
    "    \n",
    "    if char.isspace():\n",
    "        total_string += char\n",
    "        continue\n",
    "    \n",
    "    count = 0\n",
    "    for c in string:\n",
    "        if char == c:\n",
    "            count += 1\n",
    "        \n",
    "        if count == 2:\n",
    "            break\n",
    "    if count == 1:\n",
    "        total_string += char\n",
    "print(f\"Total string '{total_string}'\")"
   ]
  },
  {
   "cell_type": "code",
   "execution_count": null,
   "metadata": {},
   "outputs": [],
   "source": []
  }
 ],
 "metadata": {
  "kernelspec": {
   "display_name": "Python 3",
   "language": "python",
   "name": "python3"
  },
  "language_info": {
   "codemirror_mode": {
    "name": "ipython",
    "version": 3
   },
   "file_extension": ".py",
   "mimetype": "text/x-python",
   "name": "python",
   "nbconvert_exporter": "python",
   "pygments_lexer": "ipython3",
   "version": "3.7.1"
  }
 },
 "nbformat": 4,
 "nbformat_minor": 2
}

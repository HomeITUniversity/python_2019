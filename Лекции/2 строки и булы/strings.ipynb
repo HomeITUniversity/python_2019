{
 "cells": [
  {
   "attachments": {
    "new_logon_logo_.png": {
     "image/png": "[encoded data removed]"
    }
   },
   "cell_type": "markdown",
   "metadata": {},
   "source": [
    "# Python для сотрудников банка\n",
    "![new_logon_logo_.png](attachment:new_logon_logo_.png)\n",
    "\n",
    "## Проверка, как слышно? Как видно? (ставим +/- в чат)"
   ]
  },
  {
   "cell_type": "markdown",
   "metadata": {},
   "source": [
    " <h1><center>Строки"
   ]
  },
  {
   "cell_type": "markdown",
   "metadata": {},
   "source": [
    "# варианты записи строк"
   ]
  },
  {
   "cell_type": "code",
   "execution_count": 1,
   "metadata": {},
   "outputs": [
    {
     "name": "stdout",
     "output_type": "stream",
     "text": [
      "строка <class 'str'>\n"
     ]
    }
   ],
   "source": [
    "s = \"строка\"\n",
    "print(s, type(s))"
   ]
  },
  {
   "cell_type": "code",
   "execution_count": 2,
   "metadata": {},
   "outputs": [
    {
     "name": "stdout",
     "output_type": "stream",
     "text": [
      "тоже строка\n"
     ]
    }
   ],
   "source": [
    "s = 'тоже строка'\n",
    "print(s)"
   ]
  },
  {
   "cell_type": "code",
   "execution_count": 3,
   "metadata": {},
   "outputs": [
    {
     "name": "stdout",
     "output_type": "stream",
     "text": [
      "строка с 'одиночными кавычками'\n"
     ]
    }
   ],
   "source": [
    "s = \"строка с 'одиночными кавычками'\"\n",
    "print(s)"
   ]
  },
  {
   "cell_type": "code",
   "execution_count": 4,
   "metadata": {
    "scrolled": true
   },
   "outputs": [
    {
     "name": "stdout",
     "output_type": "stream",
     "text": [
      "строка с \"двойными кавычками\"\n"
     ]
    }
   ],
   "source": [
    "s = 'строка с \"двойными кавычками\"'\n",
    "print(s)"
   ]
  },
  {
   "cell_type": "code",
   "execution_count": 5,
   "metadata": {},
   "outputs": [
    {
     "name": "stdout",
     "output_type": "stream",
     "text": [
      "  \"строка\" \"так,\" 'как' 'она' 'есть' \n",
      "  \"строка\" \"так,\" 'как' 'она' 'есть' \n"
     ]
    }
   ],
   "source": [
    "s = \"\"\"  \"строка\" \"так,\" 'как' 'она' 'есть' \"\"\"\n",
    "print(s)\n",
    "s = '''  \"строка\" \"так,\" 'как' 'она' 'есть' '''\n",
    "print(s)"
   ]
  },
  {
   "cell_type": "code",
   "execution_count": 6,
   "metadata": {},
   "outputs": [
    {
     "name": "stdout",
     "output_type": "stream",
     "text": [
      "Привет!Как дела?что делаешь?\n"
     ]
    }
   ],
   "source": [
    "# с символом продолжения строки\n",
    "long_text = \"Привет!\" \\\n",
    "\"Как дела?\" \\\n",
    "\"что делаешь?\"\n",
    "\n",
    "print(long_text)"
   ]
  },
  {
   "cell_type": "code",
   "execution_count": 7,
   "metadata": {},
   "outputs": [
    {
     "data": {
      "text/plain": [
       "22863"
      ]
     },
     "execution_count": 7,
     "metadata": {},
     "output_type": "execute_result"
    }
   ],
   "source": [
    "# Перенос строк нужен также для очень длинных выражений\n",
    "3 * (5 + 6) - 45 * (60 - 9) + 123 * (544 - 450) \\\n",
    "+ 65 * (56 + 23) + 98 * (3 ** 4 + 5)"
   ]
  },
  {
   "cell_type": "code",
   "execution_count": 8,
   "metadata": {},
   "outputs": [
    {
     "name": "stdout",
     "output_type": "stream",
     "text": [
      "Привет!\n",
      "        Как дела?\n",
      "                                            Что делаешь?\n",
      "\n"
     ]
    }
   ],
   "source": [
    "long_text = \"\"\"Привет!\n",
    "        Как дела?\n",
    "                                            Что делаешь?\n",
    "\"\"\"\n",
    "\n",
    "print(long_text)"
   ]
  },
  {
   "cell_type": "markdown",
   "metadata": {},
   "source": [
    "# специальные символы"
   ]
  },
  {
   "cell_type": "markdown",
   "metadata": {},
   "source": [
    "\\n\tПеревод строки\n",
    "\\t\tГоризонтальная табуляция\n"
   ]
  },
  {
   "cell_type": "code",
   "execution_count": 1,
   "metadata": {},
   "outputs": [
    {
     "name": "stdout",
     "output_type": "stream",
     "text": [
      "a\n",
      "b\n",
      "c\n",
      "d\n"
     ]
    }
   ],
   "source": [
    "# \\n - символ переноса строки\n",
    "print(\"a\\nb\\nc\\nd\")"
   ]
  },
  {
   "cell_type": "code",
   "execution_count": 2,
   "metadata": {},
   "outputs": [
    {
     "name": "stdout",
     "output_type": "stream",
     "text": [
      "a\tb\tc\td\n"
     ]
    }
   ],
   "source": [
    "# \\t -  симовол табуляции = 4 пробелами\n",
    "print(\"a\\tb\\tc\\td\")"
   ]
  },
  {
   "cell_type": "code",
   "execution_count": 3,
   "metadata": {
    "scrolled": true
   },
   "outputs": [
    {
     "name": "stdout",
     "output_type": "stream",
     "text": [
      "\\  \u0007  \"привет\"  \n"
     ]
    }
   ],
   "source": [
    "# экранирование символов\n",
    "print(\"\\\\  \\a  \\\"привет\\\"  \")"
   ]
  },
  {
   "cell_type": "code",
   "execution_count": 12,
   "metadata": {},
   "outputs": [
    {
     "name": "stdout",
     "output_type": "stream",
     "text": [
      "\\\\  \\r  \\\"привет\\\"  \n"
     ]
    }
   ],
   "source": [
    "# отключение спец символов\n",
    "\n",
    "print(r\"\\\\  \\r  \\\"привет\\\"  \")"
   ]
  },
  {
   "cell_type": "markdown",
   "metadata": {},
   "source": [
    "# операции над строками"
   ]
  },
  {
   "cell_type": "code",
   "execution_count": 13,
   "metadata": {},
   "outputs": [
    {
     "data": {
      "text/plain": [
       "'строкаможетсклеиваться'"
      ]
     },
     "execution_count": 13,
     "metadata": {},
     "output_type": "execute_result"
    }
   ],
   "source": [
    "# сложение строк (склеивание)\n",
    "\n",
    "\"строка\" + \"может\" + \"склеиваться\""
   ]
  },
  {
   "cell_type": "code",
   "execution_count": 14,
   "metadata": {},
   "outputs": [
    {
     "data": {
      "text/plain": [
       "'строка может склеиваться'"
      ]
     },
     "execution_count": 14,
     "metadata": {},
     "output_type": "execute_result"
    }
   ],
   "source": [
    "\"строка \" + \"может \" + \"склеиваться\""
   ]
  },
  {
   "cell_type": "code",
   "execution_count": 15,
   "metadata": {},
   "outputs": [
    {
     "data": {
      "text/plain": [
       "True"
      ]
     },
     "execution_count": 15,
     "metadata": {},
     "output_type": "execute_result"
    }
   ],
   "source": [
    "# найти вхождение строки одна в другую\n",
    "\n",
    "\"строка\" in \"строка которую мы ищем\""
   ]
  },
  {
   "cell_type": "code",
   "execution_count": 16,
   "metadata": {},
   "outputs": [
    {
     "data": {
      "text/plain": [
       "True"
      ]
     },
     "execution_count": 16,
     "metadata": {},
     "output_type": "execute_result"
    }
   ],
   "source": [
    "\"строка которую мы ищем\".__contains__(\"строка\")"
   ]
  },
  {
   "cell_type": "code",
   "execution_count": 29,
   "metadata": {},
   "outputs": [
    {
     "data": {
      "text/plain": [
       "False"
      ]
     },
     "execution_count": 29,
     "metadata": {},
     "output_type": "execute_result"
    }
   ],
   "source": [
    "#сравнение строк\n",
    "\n",
    "\"Иван\" >= \"Саша\""
   ]
  },
  {
   "cell_type": "code",
   "execution_count": 45,
   "metadata": {},
   "outputs": [
    {
     "data": {
      "text/plain": [
       "False"
      ]
     },
     "execution_count": 45,
     "metadata": {},
     "output_type": "execute_result"
    }
   ],
   "source": [
    "\"Абсде\" > \"Иван\""
   ]
  },
  {
   "cell_type": "code",
   "execution_count": 17,
   "metadata": {},
   "outputs": [
    {
     "data": {
      "text/plain": [
       "'повтор повтор повтор повтор повтор повтор повтор повтор повтор повтор '"
      ]
     },
     "execution_count": 17,
     "metadata": {},
     "output_type": "execute_result"
    }
   ],
   "source": [
    "# повтрение строк n  раз\n",
    "\n",
    "\"повтор \" * 10"
   ]
  },
  {
   "cell_type": "code",
   "execution_count": 18,
   "metadata": {},
   "outputs": [
    {
     "data": {
      "text/plain": [
       "True"
      ]
     },
     "execution_count": 18,
     "metadata": {},
     "output_type": "execute_result"
    }
   ],
   "source": [
    "# равенство и неравенство строк (как в числах)\n",
    "\n",
    "\"строка\" == \"строка\""
   ]
  },
  {
   "cell_type": "code",
   "execution_count": 19,
   "metadata": {},
   "outputs": [
    {
     "data": {
      "text/plain": [
       "False"
      ]
     },
     "execution_count": 19,
     "metadata": {},
     "output_type": "execute_result"
    }
   ],
   "source": [
    "\"стрОка\" == \"строка\""
   ]
  },
  {
   "cell_type": "code",
   "execution_count": 20,
   "metadata": {},
   "outputs": [
    {
     "data": {
      "text/plain": [
       "True"
      ]
     },
     "execution_count": 20,
     "metadata": {},
     "output_type": "execute_result"
    }
   ],
   "source": [
    "\"стрОка\" != \"строка\""
   ]
  },
  {
   "cell_type": "markdown",
   "metadata": {},
   "source": [
    "# обращение по индексу\n",
    "\n",
    "----------------\n",
    "|0|1|2|3|4|5|\n",
    "----------------\n",
    "|с|т|р|о|к|а|\n",
    "----------------"
   ]
  },
  {
   "cell_type": "code",
   "execution_count": 21,
   "metadata": {},
   "outputs": [
    {
     "data": {
      "text/plain": [
       "'с'"
      ]
     },
     "execution_count": 21,
     "metadata": {},
     "output_type": "execute_result"
    }
   ],
   "source": [
    "s = \"строка\"\n",
    "s[0]"
   ]
  },
  {
   "cell_type": "code",
   "execution_count": 22,
   "metadata": {},
   "outputs": [
    {
     "data": {
      "text/plain": [
       "'а'"
      ]
     },
     "execution_count": 22,
     "metadata": {},
     "output_type": "execute_result"
    }
   ],
   "source": [
    "s[5]"
   ]
  },
  {
   "cell_type": "code",
   "execution_count": 23,
   "metadata": {},
   "outputs": [
    {
     "ename": "IndexError",
     "evalue": "string index out of range",
     "output_type": "error",
     "traceback": [
      "\u001b[1;31m---------------------------------------------------------------------------\u001b[0m",
      "\u001b[1;31mIndexError\u001b[0m                                Traceback (most recent call last)",
      "\u001b[1;32m<ipython-input-23-34c622ab6870>\u001b[0m in \u001b[0;36m<module>\u001b[1;34m\u001b[0m\n\u001b[1;32m----> 1\u001b[1;33m \u001b[0ms\u001b[0m\u001b[1;33m[\u001b[0m\u001b[1;36m10\u001b[0m\u001b[1;33m]\u001b[0m\u001b[1;33m\u001b[0m\u001b[1;33m\u001b[0m\u001b[0m\n\u001b[0m",
      "\u001b[1;31mIndexError\u001b[0m: string index out of range"
     ]
    }
   ],
   "source": [
    "s[10]"
   ]
  },
  {
   "cell_type": "code",
   "execution_count": 24,
   "metadata": {},
   "outputs": [
    {
     "data": {
      "text/plain": [
       "6"
      ]
     },
     "execution_count": 24,
     "metadata": {},
     "output_type": "execute_result"
    }
   ],
   "source": [
    "#длинна строки\n",
    "\n",
    "len(s)"
   ]
  },
  {
   "cell_type": "code",
   "execution_count": 25,
   "metadata": {},
   "outputs": [
    {
     "name": "stdout",
     "output_type": "stream",
     "text": [
      "с\n",
      "т\n",
      "р\n",
      "о\n",
      "к\n",
      "а\n"
     ]
    }
   ],
   "source": [
    "for i in range(len(s)):\n",
    "    print(s[i])"
   ]
  },
  {
   "cell_type": "code",
   "execution_count": 26,
   "metadata": {},
   "outputs": [
    {
     "name": "stdout",
     "output_type": "stream",
     "text": [
      "s: привет\n",
      "copy: строка\n"
     ]
    }
   ],
   "source": [
    "# копия строки\n",
    "\n",
    "s = \"строка\"\n",
    "copy = s[:]\n",
    "\n",
    "s = \"привет\"\n",
    "\n",
    "print(\"s: \" + s + \"\\ncopy: \" + copy)"
   ]
  },
  {
   "cell_type": "code",
   "execution_count": 64,
   "metadata": {},
   "outputs": [
    {
     "name": "stdout",
     "output_type": "stream",
     "text": [
      "s: строка\n",
      "copy: привет\n"
     ]
    }
   ],
   "source": [
    "s = \"строка\"\n",
    "c = s\n",
    "\n",
    "c = \"привет\"\n",
    "\n",
    "print(\"s: \" + s + \"\\ncopy: \" + c)"
   ]
  },
  {
   "cell_type": "code",
   "execution_count": 27,
   "metadata": {},
   "outputs": [
    {
     "name": "stdout",
     "output_type": "stream",
     "text": [
      "s: строка\n",
      "copy: акортс\n"
     ]
    }
   ],
   "source": [
    "# реверс строки\n",
    "\n",
    "s = \"строка\"\n",
    "copy = s[::-1]\n",
    "\n",
    "print(\"s: \" + s + \"\\ncopy: \" + copy)"
   ]
  },
  {
   "cell_type": "code",
   "execution_count": 28,
   "metadata": {},
   "outputs": [
    {
     "name": "stdout",
     "output_type": "stream",
     "text": [
      "0 н\n",
      "1 е\n",
      "2  \n",
      "3 н\n",
      "4 у\n",
      "5 ж\n",
      "6 н\n",
      "7 о\n",
      "8 ,\n",
      "9  \n",
      "10 н\n",
      "11 у\n",
      "12 ж\n",
      "13 н\n",
      "14 а\n",
      "15 я\n",
      "16  \n",
      "17 н\n",
      "18 а\n",
      "19 м\n",
      "20  \n",
      "21 ч\n",
      "22 а\n",
      "23 с\n",
      "24 т\n",
      "25 ь\n",
      "26 ,\n",
      "27  \n",
      "28 н\n",
      "29 е\n",
      "30  \n",
      "31 н\n",
      "32 у\n",
      "33 ж\n",
      "34 н\n",
      "35 а\n",
      "36 я\n",
      "37  \n",
      "38 н\n",
      "39 а\n",
      "40 м\n",
      "41  \n",
      "42 ч\n",
      "43 а\n",
      "44 с\n",
      "45 т\n",
      "46 ь\n"
     ]
    }
   ],
   "source": [
    "# слайс или срез строки (когда нам нужно взять часть строки)\n",
    "\n",
    "s = \"не нужно, нужная нам часть, не нужная нам часть\"\n",
    "for i, char in enumerate(s):\n",
    "    print(i, char)"
   ]
  },
  {
   "cell_type": "code",
   "execution_count": 29,
   "metadata": {},
   "outputs": [
    {
     "data": {
      "text/plain": [
       "'нужная нам часть'"
      ]
     },
     "execution_count": 29,
     "metadata": {},
     "output_type": "execute_result"
    }
   ],
   "source": [
    "s[10:26]"
   ]
  },
  {
   "cell_type": "code",
   "execution_count": 30,
   "metadata": {},
   "outputs": [
    {
     "data": {
      "text/plain": [
       "'нужная нам часть'"
      ]
     },
     "execution_count": 30,
     "metadata": {},
     "output_type": "execute_result"
    }
   ],
   "source": [
    "s[10:26:1]"
   ]
  },
  {
   "cell_type": "code",
   "execution_count": 31,
   "metadata": {},
   "outputs": [
    {
     "data": {
      "text/plain": [
       "'ьтсач ман яанжун'"
      ]
     },
     "execution_count": 31,
     "metadata": {},
     "output_type": "execute_result"
    }
   ],
   "source": [
    "s[25:9:-1]"
   ]
  },
  {
   "cell_type": "markdown",
   "metadata": {},
   "source": [
    "**Функция или метод**|**Назначение**\n",
    ":-----:|:-----:\n",
    "S = 'str'; S = \"str\"; S = '''str'''; S = \"\"\"str\"\"\"|Литералы строк\n",
    "S = \"s\\np\\ta\\nbbb\"|Экранированные последовательности\n",
    "S = r\"C:\\temp\\new\"|Неформатированные строки (подавляют экранирование)\n",
    "S = b\"byte\"|Строка байтов\n",
    "S1 + S2|Конкатенация (сложение строк)\n",
    "S1 * 3|Повторение строки\n",
    "S[i]|Обращение по индексу\n",
    "S[i:j:step]|Извлечение среза\n",
    "len(S)|Длина строки\n",
    "S.find(str, [start],[end])|Поиск подстроки в строке. Возвращает номер первого вхождения или -1\n",
    "S.rfind(str, [start],[end])|Поиск подстроки в строке. Возвращает номер последнего вхождения или -1\n",
    "S.index(str, [start],[end])|Поиск подстроки в строке. Возвращает номер первого вхождения или вызывает ValueError\n",
    "S.rindex(str, [start],[end])|Поиск подстроки в строке. Возвращает номер последнего вхождения или вызывает ValueError\n",
    "S.replace(шаблон, замена)|Замена шаблона\n",
    "S.split(символ)|Разбиение строки по разделителю\n",
    "S.isdigit()|Состоит ли строка из цифр\n",
    "S.isalpha()|Состоит ли строка из букв\n",
    "S.isalnum()|Состоит ли строка из цифр или букв\n",
    "S.islower()|Состоит ли строка из символов в нижнем регистре\n",
    "S.isupper()|Состоит ли строка из символов в верхнем регистре\n",
    "S.isspace()|Состоит ли строка из неотображаемых символов (пробел, символ перевода страницы ('\\f'), \"новая строка\" ('\\n'), \"перевод каретки\" ('\\r'), \"горизонтальная табуляция\" ('\\t') и \"вертикальная табуляция\" ('\\v'))\n",
    "S.istitle()|Начинаются ли слова в строке с заглавной буквы\n",
    "S.upper()|Преобразование строки к верхнему регистру\n",
    "S.lower()|Преобразование строки к нижнему регистру\n",
    "S.startswith(str)|Начинается ли строка S с шаблона str\n",
    "S.endswith(str)|Заканчивается ли строка S шаблоном str\n",
    "S.join(список)|Сборка строки из списка с разделителем S\n",
    "ord(символ)|Символ в его код ASCII\n",
    "chr(число)|Код ASCII в символ\n",
    "S.capitalize()|Переводит первый символ строки в верхний регистр, а все остальные в нижний\n",
    "S.center(width, [fill])|Возвращает отцентрованную строку, по краям которой стоит символ fill (пробел по умолчанию)\n",
    "S.count(str, [start],[end])|Возвращает количество непересекающихся вхождений подстроки в диапазоне [начало, конец] (0 и длина строки по умолчанию)\n",
    "S.expandtabs([tabsize])|Возвращает копию строки, в которой все символы табуляции заменяются одним или несколькими пробелами, в зависимости от текущего столбца. Если TabSize не указан, размер табуляции полагается равным 8 пробелам\n",
    "S.lstrip([chars])|Удаление пробельных символов в начале строки\n",
    "S.rstrip([chars])|Удаление пробельных символов в конце строки\n",
    "S.strip([chars])|Удаление пробельных символов в начале и в конце строки\n",
    "S.partition(шаблон)|Возвращает кортеж, содержащий часть перед первым шаблоном, сам шаблон, и часть после шаблона. Если шаблон не найден, возвращается кортеж, содержащий саму строку, а затем две пустых строки\n",
    "S.rpartition(sep)|Возвращает кортеж, содержащий часть перед последним шаблоном, сам шаблон, и часть после шаблона. Если шаблон не найден, возвращается кортеж, содержащий две пустых строки, а затем саму строку\n",
    "S.swapcase()|Переводит символы нижнего регистра в верхний, а верхнего – в нижний\n",
    "S.title()|Первую букву каждого слова переводит в верхний регистр, а все остальные в нижний\n",
    "S.zfill(width)|Делает длину строки не меньшей width, по необходимости заполняя первые символы нулями\n",
    "S.ljust(width, fillchar=\" \")|Делает длину строки не меньшей width, по необходимости заполняя последние символы символом fillchar\n",
    "S.rjust(width, fillchar=\" \")|Делает длину строки не меньшей width, по необходимости заполняя первые символы символом fillchar\n",
    "S.format(*args, **kwargs)|Форматирование строки"
   ]
  },
  {
   "cell_type": "markdown",
   "metadata": {},
   "source": [
    "# Форматирование строк"
   ]
  },
  {
   "cell_type": "code",
   "execution_count": 32,
   "metadata": {},
   "outputs": [
    {
     "name": "stdout",
     "output_type": "stream",
     "text": [
      "Hello, World\t1\n"
     ]
    }
   ],
   "source": [
    "name = 'World'\n",
    "\n",
    "print('Hello, {}\\t{}'.format(name, 1))"
   ]
  },
  {
   "cell_type": "code",
   "execution_count": 33,
   "metadata": {},
   "outputs": [
    {
     "name": "stdout",
     "output_type": "stream",
     "text": [
      "Hello, World\t1\n"
     ]
    }
   ],
   "source": [
    "print('Hello, {name}\\t{digit}'.format(name=name, digit=1))"
   ]
  },
  {
   "cell_type": "code",
   "execution_count": 34,
   "metadata": {},
   "outputs": [
    {
     "name": "stdout",
     "output_type": "stream",
     "text": [
      "Hello, World 1\n"
     ]
    }
   ],
   "source": [
    "print('Hello, %s %d' % (name, 1))"
   ]
  },
  {
   "cell_type": "markdown",
   "metadata": {},
   "source": [
    "**'%d', '%i', '%u'**|**Десятичное число.**\n",
    "-----|-----\n",
    "'%o'|Число в восьмеричной системе счисления.\n",
    "'%x'|Число в шестнадцатеричной системе счисления (буквы в нижнем регистре).\n",
    "'%X'|Число в шестнадцатеричной системе счисления (буквы в верхнем регистре).\n",
    "'%e'|Число с плавающей точкой с экспонентой (экспонента в нижнем регистре).\n",
    "'%E'|Число с плавающей точкой с экспонентой (экспонента в верхнем регистре).\n",
    "'%f', '%F'|Число с плавающей точкой (обычный формат).\n",
    "'%g'|Число с плавающей точкой. с экспонентой (экспонента в нижнем регистре), если она меньше, чем -4 или точности, иначе обычный формат.\n",
    "'%G'|Число с плавающей точкой. с экспонентой (экспонента в верхнем регистре), если она меньше, чем -4 или точности, иначе обычный формат.\n",
    "'%c'|Символ (строка из одного символа или число - код символа).\n",
    "'%r'|Строка (литерал python).\n",
    "'%s'|Строка (как обычно воспринимается пользователем).\n",
    "'%%'|Знак '%'."
   ]
  },
  {
   "cell_type": "code",
   "execution_count": 35,
   "metadata": {},
   "outputs": [
    {
     "name": "stdout",
     "output_type": "stream",
     "text": [
      "Hello, World!\t 34\n"
     ]
    }
   ],
   "source": [
    "# начиная с версии 3.6\n",
    "a = 34\n",
    "print(f'Hello, {name}!\\t {a}')"
   ]
  },
  {
   "cell_type": "code",
   "execution_count": 36,
   "metadata": {},
   "outputs": [
    {
     "name": "stdout",
     "output_type": "stream",
     "text": [
      "['park', 'mstu', '21.09']\n"
     ]
    }
   ],
   "source": [
    "tag_list = 'park, mstu, 21.09'\n",
    "splitted = tag_list.split(', ')\n",
    "\n",
    "print(splitted)"
   ]
  },
  {
   "cell_type": "code",
   "execution_count": 37,
   "metadata": {},
   "outputs": [
    {
     "name": "stdout",
     "output_type": "stream",
     "text": [
      "park\n",
      "mstu\n",
      "21.09\n"
     ]
    }
   ],
   "source": [
    "print('\\n'.join(splitted))"
   ]
  },
  {
   "cell_type": "code",
   "execution_count": 38,
   "metadata": {},
   "outputs": [
    {
     "name": "stdout",
     "output_type": "stream",
     "text": [
      "' 79261234567'\n",
      "'79261234567'\n",
      "'12345'\n"
     ]
    }
   ],
   "source": [
    "input_string = ' 79261234567'\n",
    "print(\"'{}'\".format(input_string))\n",
    "print(\"'{}'\".format(input_string.strip()))\n",
    "print(\"'{}'\".format(input_string.strip('6 972')))\n"
   ]
  },
  {
   "cell_type": "code",
   "execution_count": 39,
   "metadata": {},
   "outputs": [
    {
     "name": "stdout",
     "output_type": "stream",
     "text": [
      "' 79261234567'\n",
      "' 796134567'\n"
     ]
    }
   ],
   "source": [
    "print(\"'{}'\".format(input_string))\n",
    "print(\"'{}'\".format(input_string.replace('2', '')))"
   ]
  },
  {
   "cell_type": "markdown",
   "metadata": {},
   "source": [
    "# немного задач"
   ]
  },
  {
   "cell_type": "markdown",
   "metadata": {},
   "source": [
    "# 1\n",
    "Дана строка, состоящая из слов, разделенных пробелами. Определите, сколько в ней слов. Используйте для решения задачи метод count."
   ]
  },
  {
   "cell_type": "code",
   "execution_count": 58,
   "metadata": {},
   "outputs": [
    {
     "name": "stdout",
     "output_type": "stream",
     "text": [
      "Length = 9\n"
     ]
    }
   ],
   "source": [
    "s = \"слово слово слово слово слово слово слово слово слово \"\n",
    "length = s.strip().count(\" \") + 1\n",
    "print(f\"Length = {length}\")"
   ]
  },
  {
   "cell_type": "markdown",
   "metadata": {},
   "source": [
    "# 2\n",
    "Дана строка. Разрежьте ее на две равные части (если длина строки — четная, а если длина строки нечетная, то длина первой части должна быть на один символ больше). Переставьте эти две части местами, результат запишите в новую строку и выведите на экран."
   ]
  },
  {
   "cell_type": "code",
   "execution_count": 59,
   "metadata": {},
   "outputs": [
    {
     "name": "stdout",
     "output_type": "stream",
     "text": [
      "торую нужно разрезатьстрока с символами, ко 21 22\n"
     ]
    }
   ],
   "source": [
    "s = \"строка с символами, которую нужно разрезать\"\n",
    "new_s = s[(len(s) + 1) // 2:] + s[:(len(s) + 1) // 2]\n",
    "\n",
    "print(new_s, len(s[(len(s) + 1) // 2:]), len(s[:(len(s) + 1) // 2]))"
   ]
  },
  {
   "cell_type": "markdown",
   "metadata": {},
   "source": [
    "# 3\n",
    "Дана строка, состоящая ровно из двух слов, разделенных пробелом. Переставьте эти слова местами. Результат запишите в строку и выведите получившуюся строку.\n",
    "\n",
    "При решении этой задачи не стоит пользоваться циклами и инструкцией if."
   ]
  },
  {
   "cell_type": "code",
   "execution_count": 61,
   "metadata": {},
   "outputs": [
    {
     "name": "stdout",
     "output_type": "stream",
     "text": [
      "3\n",
      "слова два\n"
     ]
    }
   ],
   "source": [
    "s = \"два слова\"\n",
    "first_word = s[:s.find(' ')]\n",
    "second_word = s[s.find(' ') + 1:]\n",
    "\n",
    "print(s.find(' '))\n",
    "\n",
    "print(second_word + ' ' + first_word)"
   ]
  },
  {
   "cell_type": "code",
   "execution_count": 62,
   "metadata": {},
   "outputs": [
    {
     "name": "stdout",
     "output_type": "stream",
     "text": [
      "слова два\n"
     ]
    }
   ],
   "source": [
    "words = s.split()\n",
    "print(f\"{words[1]} {words[0]}\")\n",
    "\n",
    "#это решение может вызвать ошибку, в чем может заключается ошибка?"
   ]
  },
  {
   "cell_type": "markdown",
   "metadata": {},
   "source": [
    "# 4\n",
    "Дана строка. Если в этой строке буква f встречается только один раз, выведите её индекс. Если она встречается два и более раз, выведите индекс её первого и последнего появления. Если буква f в данной строке не встречается, ничего не выводите."
   ]
  },
  {
   "cell_type": "code",
   "execution_count": 65,
   "metadata": {},
   "outputs": [
    {
     "name": "stdout",
     "output_type": "stream",
     "text": [
      "0\n"
     ]
    }
   ],
   "source": [
    "s = \"fasdad\"\n",
    "if s.count('f') == 1:\n",
    "    print(s.find('f'))\n",
    "elif s.count('f') >= 2:\n",
    "    print(s.find('f'), s.rfind('f'))"
   ]
  },
  {
   "cell_type": "markdown",
   "metadata": {},
   "source": [
    "# 5\n",
    "Дана строка. Удалите из нее все символы, чьи индексы делятся на 3."
   ]
  },
  {
   "cell_type": "code",
   "execution_count": 75,
   "metadata": {},
   "outputs": [
    {
     "name": "stdout",
     "output_type": "stream",
     "text": [
      "0 1\n",
      "1 2\n",
      "2 3\n",
      "3 1\n",
      "4 2\n",
      "5 3\n",
      "6 1\n",
      "7 2\n",
      "8 3\n",
      "232323\n"
     ]
    }
   ],
   "source": [
    "s = \"123123123\"\n",
    "[print(i, ss) for i, ss in enumerate(s)]\n",
    "\n",
    "t = ''\n",
    "for i in range(len(s)):\n",
    "    if i % 3 != 0:\n",
    "        t = t + s[i]\n",
    "print(t)"
   ]
  },
  {
   "cell_type": "markdown",
   "metadata": {},
   "source": [
    "# Boolean (логические переменные)"
   ]
  },
  {
   "cell_type": "code",
   "execution_count": 76,
   "metadata": {},
   "outputs": [
    {
     "data": {
      "text/plain": [
       "bool"
      ]
     },
     "execution_count": 76,
     "metadata": {},
     "output_type": "execute_result"
    }
   ],
   "source": [
    "type(True)"
   ]
  },
  {
   "cell_type": "code",
   "execution_count": 77,
   "metadata": {},
   "outputs": [
    {
     "data": {
      "text/plain": [
       "bool"
      ]
     },
     "execution_count": 77,
     "metadata": {},
     "output_type": "execute_result"
    }
   ],
   "source": [
    "type(False)"
   ]
  },
  {
   "cell_type": "markdown",
   "metadata": {},
   "source": [
    "| True              | False |\n",
    "| ----------------- | ----- |\n",
    "| True              | False |\n",
    "| Большинство объектов | None  |\n",
    "| 1                 | 0     |\n",
    "| 3.2               | 0.0   |\n",
    "| 'string'\t        | \"\"    |"
   ]
  },
  {
   "cell_type": "code",
   "execution_count": 78,
   "metadata": {},
   "outputs": [
    {
     "name": "stdout",
     "output_type": "stream",
     "text": [
      "True\n"
     ]
    }
   ],
   "source": [
    "a = 10\n",
    "b = 10\n",
    "\n",
    "print(a <= b)"
   ]
  },
  {
   "cell_type": "code",
   "execution_count": 79,
   "metadata": {},
   "outputs": [
    {
     "data": {
      "text/plain": [
       "False"
      ]
     },
     "execution_count": 79,
     "metadata": {},
     "output_type": "execute_result"
    }
   ],
   "source": [
    "1 < a < 5"
   ]
  },
  {
   "cell_type": "code",
   "execution_count": 80,
   "metadata": {},
   "outputs": [
    {
     "data": {
      "text/plain": [
       "False"
      ]
     },
     "execution_count": 80,
     "metadata": {},
     "output_type": "execute_result"
    }
   ],
   "source": [
    "bool(0.0)"
   ]
  },
  {
   "cell_type": "code",
   "execution_count": 81,
   "metadata": {},
   "outputs": [
    {
     "data": {
      "text/plain": [
       "False"
      ]
     },
     "execution_count": 81,
     "metadata": {},
     "output_type": "execute_result"
    }
   ],
   "source": [
    "bool('')"
   ]
  },
  {
   "cell_type": "code",
   "execution_count": 85,
   "metadata": {},
   "outputs": [
    {
     "data": {
      "text/plain": [
       "False"
      ]
     },
     "execution_count": 85,
     "metadata": {},
     "output_type": "execute_result"
    }
   ],
   "source": [
    "#при проверке, условия будут проверяться слева направо\n",
    "13 < 12 < foo_call()"
   ]
  },
  {
   "cell_type": "code",
   "execution_count": 86,
   "metadata": {},
   "outputs": [
    {
     "ename": "NameError",
     "evalue": "name 'foo_call' is not defined",
     "output_type": "error",
     "traceback": [
      "\u001b[1;31m---------------------------------------------------------------------------\u001b[0m",
      "\u001b[1;31mNameError\u001b[0m                                 Traceback (most recent call last)",
      "\u001b[1;32m<ipython-input-86-3da16e6d8284>\u001b[0m in \u001b[0;36m<module>\u001b[1;34m\u001b[0m\n\u001b[1;32m----> 1\u001b[1;33m \u001b[0mfoo_call\u001b[0m\u001b[1;33m(\u001b[0m\u001b[1;33m)\u001b[0m\u001b[1;33m\u001b[0m\u001b[1;33m\u001b[0m\u001b[0m\n\u001b[0m",
      "\u001b[1;31mNameError\u001b[0m: name 'foo_call' is not defined"
     ]
    }
   ],
   "source": [
    "#до него не дойдет и ошибки не вызовет\n",
    "foo_call()"
   ]
  },
  {
   "cell_type": "code",
   "execution_count": 108,
   "metadata": {},
   "outputs": [
    {
     "name": "stdout",
     "output_type": "stream",
     "text": [
      "t: 28\n",
      "При сравнении мы получаем результат в виде логической (булевой) переменной - True\n",
      "Жарковато!\n"
     ]
    }
   ],
   "source": [
    "#примеры логической проверки\n",
    "import random\n",
    "\n",
    "up_t = 25\n",
    "down_t = 0\n",
    "\n",
    "t = random.randint(-15, 35)\n",
    "print(\"t:\", t)\n",
    "print(\"При сравнении мы получаем результат в виде логической (булевой) переменной -\", t >= up_t)\n",
    "\n",
    "if t >= up_t:\n",
    "    print('Жарковато!')\n",
    "elif t <=down_t:\n",
    "    print('Прохладно!')\n",
    "else:\n",
    "    print('Нормально!')"
   ]
  },
  {
   "cell_type": "code",
   "execution_count": 116,
   "metadata": {},
   "outputs": [
    {
     "name": "stdout",
     "output_type": "stream",
     "text": [
      "1\n"
     ]
    }
   ],
   "source": [
    "a = 1\n",
    "if type(a) is int:\n",
    "    print(1)"
   ]
  },
  {
   "cell_type": "code",
   "execution_count": 117,
   "metadata": {},
   "outputs": [
    {
     "data": {
      "text/plain": [
       "False"
      ]
     },
     "execution_count": 117,
     "metadata": {},
     "output_type": "execute_result"
    }
   ],
   "source": [
    "a = 1.9\n",
    "b = 1.0\n",
    "a is b"
   ]
  },
  {
   "cell_type": "code",
   "execution_count": 119,
   "metadata": {},
   "outputs": [
    {
     "data": {
      "text/plain": [
       "True"
      ]
     },
     "execution_count": 119,
     "metadata": {},
     "output_type": "execute_result"
    }
   ],
   "source": [
    "c = 1\n",
    "d = 1\n",
    "c == d"
   ]
  },
  {
   "cell_type": "code",
   "execution_count": 120,
   "metadata": {},
   "outputs": [
    {
     "data": {
      "text/plain": [
       "True"
      ]
     },
     "execution_count": 120,
     "metadata": {},
     "output_type": "execute_result"
    }
   ],
   "source": [
    "c is d"
   ]
  },
  {
   "cell_type": "code",
   "execution_count": 121,
   "metadata": {},
   "outputs": [
    {
     "name": "stdout",
     "output_type": "stream",
     "text": [
      "True\n"
     ]
    }
   ],
   "source": [
    "a = None\n",
    "print(a is None)"
   ]
  },
  {
   "cell_type": "code",
   "execution_count": 122,
   "metadata": {},
   "outputs": [
    {
     "data": {
      "text/plain": [
       "NoneType"
      ]
     },
     "execution_count": 122,
     "metadata": {},
     "output_type": "execute_result"
    }
   ],
   "source": [
    "type(None)"
   ]
  },
  {
   "cell_type": "code",
   "execution_count": 2,
   "metadata": {},
   "outputs": [
    {
     "data": {
      "text/plain": [
       "False"
      ]
     },
     "execution_count": 2,
     "metadata": {},
     "output_type": "execute_result"
    }
   ],
   "source": [
    "bool(None)"
   ]
  },
  {
   "cell_type": "markdown",
   "metadata": {},
   "source": [
    "# питон для ленивых\n",
    "в питоне реализовано куча всего и зачастую задачу можно быстро решить, взяв что-то готовое"
   ]
  },
  {
   "cell_type": "markdown",
   "metadata": {},
   "source": [
    "Определить, является ли введеный год високосным. Год является високосным, если его номер кратен 4, но не кратен 100, а также если он кратен 400"
   ]
  },
  {
   "cell_type": "code",
   "execution_count": 3,
   "metadata": {},
   "outputs": [
    {
     "name": "stdout",
     "output_type": "stream",
     "text": [
      "Нет :(\n"
     ]
    }
   ],
   "source": [
    "year = 2019\n",
    "\n",
    "if year % 400 == 0:\n",
    "    print('Високосный')\n",
    "    \n",
    "elif year % 4 == 0 and year % 100 != 0:\n",
    "    print('Високосный')\n",
    "\n",
    "else:\n",
    "    print('Нет :(')"
   ]
  },
  {
   "cell_type": "code",
   "execution_count": 7,
   "metadata": {},
   "outputs": [
    {
     "data": {
      "text/plain": [
       "'Нет'"
      ]
     },
     "execution_count": 7,
     "metadata": {},
     "output_type": "execute_result"
    }
   ],
   "source": [
    "import calendar\n",
    "check = calendar.isleap(year)\n",
    "\n",
    "\"Нет\" if not check else \"Високосный\""
   ]
  },
  {
   "cell_type": "code",
   "execution_count": null,
   "metadata": {},
   "outputs": [],
   "source": []
  }
 ],
 "metadata": {
  "kernelspec": {
   "display_name": "Python 3",
   "language": "python",
   "name": "python3"
  },
  "language_info": {
   "codemirror_mode": {
    "name": "ipython",
    "version": 3
   },
   "file_extension": ".py",
   "mimetype": "text/x-python",
   "name": "python",
   "nbconvert_exporter": "python",
   "pygments_lexer": "ipython3",
   "version": "3.7.1"
  }
 },
 "nbformat": 4,
 "nbformat_minor": 2
}

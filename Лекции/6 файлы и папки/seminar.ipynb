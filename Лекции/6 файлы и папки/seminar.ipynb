{
 "cells": [
  {
   "cell_type": "markdown",
   "metadata": {},
   "source": [
    "# Как слышно как видно? Запись?"
   ]
  },
  {
   "cell_type": "markdown",
   "metadata": {},
   "source": [
    "Мое ДЗ"
   ]
  },
  {
   "cell_type": "markdown",
   "metadata": {},
   "source": [
    "### Как узнать кодировку файла?"
   ]
  },
  {
   "cell_type": "code",
   "execution_count": 110,
   "metadata": {},
   "outputs": [],
   "source": [
    "with open(\"test.txt\", \"w\", encoding=\"utf-8\") as f:\n",
    "    f.write(\"Привет!\")"
   ]
  },
  {
   "cell_type": "code",
   "execution_count": 111,
   "metadata": {},
   "outputs": [
    {
     "name": "stdout",
     "output_type": "stream",
     "text": [
      "Done!\n",
      "cp500\n"
     ]
    },
    {
     "data": {
      "text/plain": [
       "'cp500'"
      ]
     },
     "execution_count": 111,
     "metadata": {},
     "output_type": "execute_result"
    }
   ],
   "source": [
    "def check_encoding(path):\n",
    "    encoding = [\n",
    "    'cp500',\n",
    "    'utf-8',\n",
    "    'utf-16',\n",
    "    'GBK',\n",
    "    'windows-1251',\n",
    "    'ASCII',\n",
    "    'US-ASCII',\n",
    "    'Big5',\n",
    "    \n",
    "    ]\n",
    "\n",
    "    correct_encoding = ''\n",
    "\n",
    "    for enc in encoding:\n",
    "        try:\n",
    "            open(path, encoding=enc).read()\n",
    "        except (UnicodeDecodeError, LookupError):\n",
    "            pass\n",
    "        else:\n",
    "            correct_encoding = enc\n",
    "            print('Done!')\n",
    "            break\n",
    "\n",
    "    if correct_encoding == \"\":\n",
    "        print(\"Unknown Encoding\")\n",
    "        return \"Unknown Encoding\"\n",
    "    else:\n",
    "        print(correct_encoding)\n",
    "        return correct_encoding\n",
    "    \n",
    "check_encoding(\"test.txt\")"
   ]
  },
  {
   "cell_type": "code",
   "execution_count": 112,
   "metadata": {},
   "outputs": [
    {
     "name": "stdout",
     "output_type": "stream",
     "text": [
      "{'encoding': 'utf-8', 'confidence': 0.99, 'language': ''}\n"
     ]
    },
    {
     "data": {
      "text/plain": [
       "{'encoding': 'utf-8', 'confidence': 0.99, 'language': ''}"
      ]
     },
     "execution_count": 112,
     "metadata": {},
     "output_type": "execute_result"
    }
   ],
   "source": [
    "from chardet.universaldetector import UniversalDetector\n",
    "\n",
    "def check_encoding2(path):\n",
    "    detector = UniversalDetector()\n",
    "    with open(path, 'rb') as fh:\n",
    "        for line in fh:\n",
    "            detector.feed(line)\n",
    "            if detector.done:\n",
    "                break\n",
    "        detector.close()\n",
    "    print(detector.result)\n",
    "    return detector.result\n",
    "check_encoding2(\"test.txt\")"
   ]
  },
  {
   "cell_type": "markdown",
   "metadata": {},
   "source": [
    "### Удаление папок и файлов в одну строку без рекурсии\n",
    "\n"
   ]
  },
  {
   "cell_type": "code",
   "execution_count": 113,
   "metadata": {},
   "outputs": [],
   "source": [
    "import shutil\n",
    "shutil.rmtree('test4', ignore_errors=True)"
   ]
  },
  {
   "cell_type": "markdown",
   "metadata": {},
   "source": [
    "### Информация о файле\n",
    "\n"
   ]
  },
  {
   "cell_type": "code",
   "execution_count": 33,
   "metadata": {},
   "outputs": [
    {
     "data": {
      "text/plain": [
       "os.stat_result(st_mode=33206, st_ino=16888498603011780, st_dev=3326877430, st_nlink=1, st_uid=0, st_gid=0, st_size=7, st_atime=1572257838, st_mtime=1572258042, st_ctime=1572257838)"
      ]
     },
     "execution_count": 33,
     "metadata": {},
     "output_type": "execute_result"
    }
   ],
   "source": [
    "os.stat('test.txt')"
   ]
  },
  {
   "cell_type": "markdown",
   "metadata": {},
   "source": [
    "### Поиск файлов по маске"
   ]
  },
  {
   "cell_type": "code",
   "execution_count": 115,
   "metadata": {},
   "outputs": [],
   "source": [
    "import os\n",
    "for f_name in os.listdir('test4'):\n",
    "    if f_name.endswith('.txt'):\n",
    "        print(f_name)"
   ]
  },
  {
   "cell_type": "code",
   "execution_count": 118,
   "metadata": {},
   "outputs": [
    {
     "name": "stdout",
     "output_type": "stream",
     "text": [
      "Новый текстовый документ — копия (2).txt\n",
      "Новый текстовый документ — копия (3).txt\n",
      "Новый текстовый документ — копия (4).txt\n",
      "Новый текстовый документ — копия (5).txt\n",
      "Новый текстовый документ — копия (6).txt\n",
      "Новый текстовый документ — копия (7).txt\n",
      "Новый текстовый документ — копия (8).txt\n",
      "Новый текстовый документ — копия.txt\n",
      "Новый текстовый документ.txt\n"
     ]
    }
   ],
   "source": [
    "import fnmatch\n",
    "\n",
    "for file_name in os.listdir('test4/'):\n",
    "    if fnmatch.fnmatch(file_name, '*.txt'):\n",
    "        print(file_name)"
   ]
  },
  {
   "cell_type": "code",
   "execution_count": 119,
   "metadata": {},
   "outputs": [
    {
     "data": {
      "text/plain": [
       "['test4\\\\Новый текстовый документ — копия (2).txt',\n",
       " 'test4\\\\Новый текстовый документ — копия (3).txt',\n",
       " 'test4\\\\Новый текстовый документ — копия (4).txt',\n",
       " 'test4\\\\Новый текстовый документ — копия (5).txt',\n",
       " 'test4\\\\Новый текстовый документ — копия (6).txt',\n",
       " 'test4\\\\Новый текстовый документ — копия (7).txt',\n",
       " 'test4\\\\Новый текстовый документ — копия (8).txt',\n",
       " 'test4\\\\Новый текстовый документ — копия.txt',\n",
       " 'test4\\\\Новый текстовый документ.txt']"
      ]
     },
     "execution_count": 119,
     "metadata": {},
     "output_type": "execute_result"
    }
   ],
   "source": [
    "import glob\n",
    "glob.glob('test4/*.txt')"
   ]
  },
  {
   "cell_type": "code",
   "execution_count": 121,
   "metadata": {},
   "outputs": [
    {
     "name": "stdout",
     "output_type": "stream",
     "text": [
      "test4\\Новый текстовый документ — копия (2).txt\n",
      "test4\\Новый текстовый документ — копия (3).txt\n",
      "test4\\Новый текстовый документ — копия (4).txt\n",
      "test4\\Новый текстовый документ — копия (5).txt\n",
      "test4\\Новый текстовый документ — копия (6).txt\n",
      "test4\\Новый текстовый документ — копия (8).txt\n"
     ]
    }
   ],
   "source": [
    "for name in glob.glob('test4/*([0-9])*.txt'):\n",
    "    print(name)"
   ]
  },
  {
   "cell_type": "markdown",
   "metadata": {},
   "source": [
    "# Задачи"
   ]
  },
  {
   "cell_type": "markdown",
   "metadata": {},
   "source": [
    "У вас есть список ФИО сотрудников магазина и кол-во часов отработанных ими за неделю.\n",
    "Вам необходимо написать функцию, которая будет принимать этот список и производить запись в файл с именем отчет.txt.\n",
    "Запись в файл должна быть произведена в следующем формате:"
   ]
  },
  {
   "cell_type": "code",
   "execution_count": 125,
   "metadata": {},
   "outputs": [],
   "source": [
    "# Сидоров  Иван     Иванович  20 ч.\n",
    "# Соницина Кристина Олеговна  14 ч.\n",
    "# Князев   Игорь    Андреевич 22 ч.\n",
    "\n",
    "lst = [\n",
    "    (\"Сидоров Иван Иванович\", 20),\n",
    "    (\"Соницина Кристина Олеговна\", 14),\n",
    "    (\"Князев Игорь Андреевич\", 22),\n",
    "]"
   ]
  },
  {
   "cell_type": "code",
   "execution_count": 123,
   "metadata": {},
   "outputs": [
    {
     "data": {
      "text/plain": [
       "'123            '"
      ]
     },
     "execution_count": 123,
     "metadata": {},
     "output_type": "execute_result"
    }
   ],
   "source": [
    "#решение\n",
    "\"123\".ljust(15)"
   ]
  },
  {
   "cell_type": "code",
   "execution_count": 129,
   "metadata": {},
   "outputs": [
    {
     "name": "stdout",
     "output_type": "stream",
     "text": [
      "[8, 8, 9]\n"
     ]
    }
   ],
   "source": [
    "def spaced_text(lst):\n",
    "    max_ = []\n",
    "    for i in range(3):\n",
    "        max__ = 0\n",
    "        for elem in lst:\n",
    "            text = elem[0].split()\n",
    "            max__ = max(len(text[i]), max__)\n",
    "        max_.append(max__)\n",
    "    \n",
    "    print(max_)\n",
    "    \n",
    "    with open(\"task1.txt\", 'a') as f:\n",
    "        for elem in lst:\n",
    "            fio = elem[0].split()\n",
    "            text = \"{f} {n} {mn} {h} ч.\\n\".format(\n",
    "                f=fio[0].ljust(max_[0]),\n",
    "                n=fio[1].ljust(max_[1]),\n",
    "                mn=fio[2].ljust(max_[2]),\n",
    "                h=elem[1]\n",
    "            )\n",
    "            f.write(text)\n",
    "    \n",
    "spaced_text(lst)"
   ]
  },
  {
   "cell_type": "code",
   "execution_count": 136,
   "metadata": {},
   "outputs": [],
   "source": [
    "def my_rename(name_old, name_new):\n",
    "    os.rename(name_old, name_new)\n",
    "\n",
    "my_rename(\"task1.txt\", \"task1_1.txt\")"
   ]
  },
  {
   "cell_type": "markdown",
   "metadata": {},
   "source": [
    "# Задача 2\n"
   ]
  },
  {
   "cell_type": "markdown",
   "metadata": {},
   "source": [
    "У вас есть папка с файлами (в перемешку).\n",
    "Вам необходимо написать функцию, которая будет создавать папки в зависимости от расширения файла если такой нет, и расфасовывать файлы по этим папкам. После премещения файл был переменован \"name_moved.rar\""
   ]
  },
  {
   "cell_type": "code",
   "execution_count": 142,
   "metadata": {},
   "outputs": [
    {
     "name": "stdout",
     "output_type": "stream",
     "text": [
      "task2\\calendar.rar task2\\rar\\calendar.rar\n",
      "task2\\rar\\moved_calendar.rar\n",
      "task2\\functions seminar.ipynb task2\\ipynb\\functions seminar.ipynb\n",
      "task2\\ipynb\\moved_functions seminar.ipynb\n",
      "task2\\update_manifest.xml task2\\xml\\update_manifest.xml\n",
      "task2\\xml\\moved_update_manifest.xml\n",
      "task2\\Кредит наличными.pdf task2\\pdf\\Кредит наличными.pdf\n",
      "task2\\pdf\\moved_Кредит наличными.pdf\n"
     ]
    }
   ],
   "source": [
    "path = 'task2'\n",
    "#решение\n",
    "\n",
    "my_folder = os.listdir(path)\n",
    "\n",
    "for file in my_folder:\n",
    "    filename, file_extension = os.path.splitext(file)\n",
    "    if os.path.isdir(filename):\n",
    "        continue\n",
    "    if not os.path.exists(path + \"\\\\\" + file_extension[1:]):\n",
    "        os.mkdir(path + \"\\\\\" + file_extension[1:])\n",
    "    fname = path + \"\\\\\" + file\n",
    "    movename = path + \"\\\\\" + file_extension[1:] + \"\\\\\" + file\n",
    "    print(fname, movename)\n",
    "    os.replace(fname, movename)\n",
    "    \n",
    "    movename_ = os.path.split(movename)\n",
    "    \n",
    "    new_name = os.path.join(movename_[0], \"moved_\" + movename_[1])\n",
    "    print(new_name)\n",
    "    \n",
    "    my_rename(movename, new_name + \"\")\n",
    "    \n",
    "            "
   ]
  },
  {
   "cell_type": "markdown",
   "metadata": {},
   "source": [
    "# Задача 3\n"
   ]
  },
  {
   "cell_type": "markdown",
   "metadata": {},
   "source": [
    "У вас в папке множество файлов с логами. Вам необходимо отобрать из них только те, которые были записаны в промежутке с 12:31 сегодняшнего дня, до 13:13 слить все файлы в один большой с названием \"critical_logs.log\"."
   ]
  },
  {
   "cell_type": "code",
   "execution_count": 54,
   "metadata": {},
   "outputs": [
    {
     "data": {
      "text/plain": [
       "'C:\\\\Users\\\\VCherkozyanov\\\\Desktop\\\\Python\\\\Лекции\\\\7 папки и файлы'"
      ]
     },
     "execution_count": 54,
     "metadata": {},
     "output_type": "execute_result"
    }
   ],
   "source": [
    "os.getcwd()"
   ]
  },
  {
   "cell_type": "code",
   "execution_count": 143,
   "metadata": {},
   "outputs": [],
   "source": [
    "from datetime import datetime, timedelta\n",
    "# решение\n",
    "start = datetime(2019, 10, 28, 12, 0)\n",
    "for i in range(100):\n",
    "    text = r\"task3\\log_{}.log\".format((start + timedelta(minutes=i)).strftime(\"%Y_%m_%d_%H_%M\"))\n",
    "    with open(text, \"a\") as f:\n",
    "        f.write(\"{} LOG\".format(i)*100)"
   ]
  },
  {
   "cell_type": "code",
   "execution_count": null,
   "metadata": {},
   "outputs": [],
   "source": [
    "# ваше решение тут"
   ]
  },
  {
   "cell_type": "markdown",
   "metadata": {},
   "source": [
    "# Задача 4\n",
    "\n",
    "Тут ваша задача, если такая есть, можем ее решить."
   ]
  },
  {
   "cell_type": "code",
   "execution_count": null,
   "metadata": {},
   "outputs": [],
   "source": []
  }
 ],
 "metadata": {
  "kernelspec": {
   "display_name": "Python 3",
   "language": "python",
   "name": "python3"
  },
  "language_info": {
   "codemirror_mode": {
    "name": "ipython",
    "version": 3
   },
   "file_extension": ".py",
   "mimetype": "text/x-python",
   "name": "python",
   "nbconvert_exporter": "python",
   "pygments_lexer": "ipython3",
   "version": "3.7.3"
  }
 },
 "nbformat": 4,
 "nbformat_minor": 2
}

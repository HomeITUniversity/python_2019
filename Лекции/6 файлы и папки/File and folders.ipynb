{
 "cells": [
  {
   "cell_type": "markdown",
   "metadata": {},
   "source": [
    "# Python для сотрудников банка\n",
    "![new_logon_logo_.png](https://static4.banki.ru/ugc/f8/ae/c2/0e/HCB_NBM3R_v1.jpg)\n",
    "\n",
    "## Проверка, как слышно? Как видно? (ставим +/- в чат)"
   ]
  },
  {
   "cell_type": "code",
   "execution_count": 43,
   "metadata": {},
   "outputs": [
    {
     "data": {
      "image/png": "[encoded data removed]",
      "text/plain": [
       "<Figure size 432x288 with 1 Axes>"
      ]
     },
     "metadata": {},
     "output_type": "display_data"
    }
   ],
   "source": [
    "import matplotlib.pyplot as plt\n",
    "\n",
    "# Pie chart, where the slices will be ordered and plotted counter-clockwise:\n",
    "labels = 'Лекция', 'Семинар'\n",
    "sizes = [10, 5]\n",
    "explode = (0, 0.1)  # only \"explode\" the 2nd slice (i.e. 'Hogs')\n",
    "\n",
    "fig1, ax1 = plt.subplots()\n",
    "ax1.pie(sizes, explode=explode, labels=labels, autopct='%1.1f%%',shadow=True, startangle=90)\n",
    "ax1.axis('equal')  # Equal aspect ratio ensures that pie is drawn as a circle.\n",
    "\n",
    "plt.show()"
   ]
  },
  {
   "cell_type": "markdown",
   "metadata": {},
   "source": [
    "# Включи запись!\n",
    "![mem.png](https://www.meme-arsenal.com/memes/a8f1c670053c11f0f012c57e5e9a4146.jpg)"
   ]
  },
  {
   "cell_type": "markdown",
   "metadata": {},
   "source": [
    "\n",
    "# Работа с файлами"
   ]
  },
  {
   "cell_type": "code",
   "execution_count": null,
   "metadata": {},
   "outputs": [],
   "source": [
    "# открытие файлов\n",
    "\n",
    "file = open('tmp.txt', 'w')\n",
    "\n",
    "with open('tmp.txt', 'w') as file:\n",
    "    #ваш код тут\n",
    "    \n",
    "#закрытие файлов\n",
    "\n",
    "file.close()\n"
   ]
  },
  {
   "cell_type": "markdown",
   "metadata": {},
   "source": [
    "## Базовые операции"
   ]
  },
  {
   "cell_type": "code",
   "execution_count": null,
   "metadata": {},
   "outputs": [],
   "source": [
    "import datetime\n",
    "#запись\n",
    "with open('tmp.txt', 'w') as f:\n",
    "    f.write('Привет всем. Текущее время ' + str(datetime.datetime.now()))\n",
    "    \n",
    "    \n",
    "#чтение\n",
    "with open('tmp.txt', 'r') as f:\n",
    "    print(f.read())"
   ]
  },
  {
   "cell_type": "code",
   "execution_count": null,
   "metadata": {},
   "outputs": [],
   "source": [
    "# Дописываем в конец\n",
    "with open('tmp.txt', 'a') as f:\n",
    "    for _ in range(5):\n",
    "        f.write('\\nПривет всем. Текущее время ' + str(datetime.datetime.now()))\n",
    "        \n",
    "with open('tmp.txt', 'r') as f:\n",
    "    for line in f: # читаем построчно\n",
    "        print(line.strip())\n",
    "\n",
    "        "
   ]
  },
  {
   "cell_type": "code",
   "execution_count": null,
   "metadata": {},
   "outputs": [],
   "source": [
    "# читаем целиком\n",
    "with open('tmp.txt', 'r') as f:\n",
    "    print(f.read())"
   ]
  },
  {
   "cell_type": "code",
   "execution_count": null,
   "metadata": {},
   "outputs": [],
   "source": [
    "with open('tmp.txt', 'r') as f:\n",
    "    f.seek(25) # Переходим на нужню позицию\n",
    "    print(f.read(30)) # Читаем нужное количество байт"
   ]
  },
  {
   "cell_type": "markdown",
   "metadata": {},
   "source": [
    "## Кодировки\n",
    "\n",
    "* https://ru.wikipedia.org/wiki/ASCII\n",
    "* https://ru.wikipedia.org/wiki/Windows-1251\n",
    "* https://ru.wikipedia.org/wiki/UTF-8\n",
    "* https://ru.wikipedia.org/wiki/UTF-16\n",
    "\n",
    "https://ru.wikipedia.org/wiki/Юникод - это не кодировка!"
   ]
  },
  {
   "cell_type": "code",
   "execution_count": null,
   "metadata": {},
   "outputs": [],
   "source": [
    "# Пишем в конкретной кодировке\n",
    "with open('tmp.txt', 'w', encoding='cp1251') as f:\n",
    "    f.write('Привет всем. Текущее время ' + str(datetime.datetime.now()))"
   ]
  },
  {
   "cell_type": "code",
   "execution_count": null,
   "metadata": {},
   "outputs": [],
   "source": [
    "with open('tmp.txt', 'r') as f:\n",
    "    print(f.read())"
   ]
  },
  {
   "cell_type": "code",
   "execution_count": null,
   "metadata": {},
   "outputs": [],
   "source": [
    "# Ошиблись в кодировке при чтении\n",
    "with open('tmp.txt', 'r', encoding='cp1252') as f:\n",
    "    print(f.read())"
   ]
  },
  {
   "cell_type": "code",
   "execution_count": null,
   "metadata": {},
   "outputs": [],
   "source": [
    "# Можем прочитать как byte\n",
    "with open('tmp.txt', 'rb') as f:\n",
    "    cont = f.read()\n",
    "print(cont)\n",
    "type(cont)"
   ]
  },
  {
   "cell_type": "code",
   "execution_count": null,
   "metadata": {},
   "outputs": [],
   "source": [
    "# И затем декодировать\n",
    "cont_str = cont.decode('cp1251')\n",
    "print(cont_str)\n",
    "type(cont_str)"
   ]
  },
  {
   "cell_type": "code",
   "execution_count": null,
   "metadata": {},
   "outputs": [],
   "source": [
    "# И закодировать в другую кодировку\n",
    "bytes(cont_str, 'utf8')"
   ]
  },
  {
   "cell_type": "code",
   "execution_count": null,
   "metadata": {},
   "outputs": [],
   "source": [
    "# Кодировка по-умолчанию - utf8\n",
    "bytes(cont_str, 'utf8').decode()"
   ]
  },
  {
   "cell_type": "markdown",
   "metadata": {},
   "source": [
    "## Материалы по теме\n",
    "\n",
    "Статья про кодировки на хабре: [Что нужно знать каждому разработчику о кодировках и наборах символов для работы с текстом](https://habrahabr.ru/post/158639/)\n",
    "\n",
    "И сразу про нормализацию строк: [«Й» вам не «и» краткое! О важности нормализации Unicode](https://habrahabr.ru/post/262679/)"
   ]
  },
  {
   "cell_type": "code",
   "execution_count": null,
   "metadata": {},
   "outputs": [],
   "source": [
    "# могут интерпретироваться как строки\n",
    "b = bytes(cont_str, 'utf8')\n",
    "print(b[1:5])\n",
    "print(b.split())"
   ]
  },
  {
   "cell_type": "markdown",
   "metadata": {},
   "source": [
    "# Модуль OS"
   ]
  },
  {
   "cell_type": "markdown",
   "metadata": {},
   "source": [
    "Документация: [Библиотека OS](https://docs.python.org/3/library/os.html)\n"
   ]
  },
  {
   "cell_type": "code",
   "execution_count": 2,
   "metadata": {},
   "outputs": [
    {
     "data": {
      "text/plain": [
       "'nt'"
      ]
     },
     "execution_count": 2,
     "metadata": {},
     "output_type": "execute_result"
    }
   ],
   "source": [
    "import os\n",
    "os.name"
   ]
  },
  {
   "cell_type": "code",
   "execution_count": null,
   "metadata": {},
   "outputs": [],
   "source": [
    "os.environ['USERNAME']"
   ]
  },
  {
   "cell_type": "code",
   "execution_count": null,
   "metadata": {},
   "outputs": [],
   "source": [
    "os.getlogin()"
   ]
  },
  {
   "cell_type": "code",
   "execution_count": null,
   "metadata": {},
   "outputs": [],
   "source": [
    "os.getenv(\"USERNAME\")"
   ]
  },
  {
   "cell_type": "markdown",
   "metadata": {},
   "source": [
    "# Текущий каталог"
   ]
  },
  {
   "cell_type": "code",
   "execution_count": null,
   "metadata": {},
   "outputs": [],
   "source": [
    "#получить текущий каталог\n",
    "os.getcwd()"
   ]
  },
  {
   "cell_type": "code",
   "execution_count": null,
   "metadata": {},
   "outputs": [],
   "source": [
    "#смена текущего каталога\n",
    "os.chdir(\"D:\\\\Share\\\\Python обучение\\\\Лекции\")"
   ]
  },
  {
   "cell_type": "code",
   "execution_count": null,
   "metadata": {},
   "outputs": [],
   "source": [
    "os.getcwd()"
   ]
  },
  {
   "cell_type": "markdown",
   "metadata": {},
   "source": [
    "## Создание папок\n",
    "os.mkdir() и os.makedirs()"
   ]
  },
  {
   "cell_type": "code",
   "execution_count": null,
   "metadata": {},
   "outputs": [],
   "source": [
    "#перейдем в нужный нам каталог\n",
    "os.chdir('D:\\\\Share\\\\Python обучение\\\\Лекции\\\\7 файлы и папки')\n",
    "\n",
    "# создает 1 папку с указанным именем\n",
    "os.mkdir('test')"
   ]
  },
  {
   "cell_type": "code",
   "execution_count": null,
   "metadata": {},
   "outputs": [],
   "source": [
    "#создаем папку в указанном пути\n",
    "os.mkdir('D:\\\\Share\\\\Python обучение\\\\Лекции\\\\7 файлы и папки\\\\test\\\\folder')"
   ]
  },
  {
   "cell_type": "code",
   "execution_count": null,
   "metadata": {},
   "outputs": [],
   "source": [
    "#создаем папку в не существующем пути\n",
    "os.mkdir('D:\\\\Share\\\\Python обучение\\\\Лекции\\\\7 файлы и папки\\\\test\\\\folder\\\\10\\\\11')"
   ]
  },
  {
   "cell_type": "code",
   "execution_count": null,
   "metadata": {},
   "outputs": [],
   "source": [
    "# создает много папок\n",
    "os.makedirs('D:\\\\Share\\\\Python обучение\\\\Лекции\\\\7 файлы и папки\\\\2019\\\\10\\\\23')"
   ]
  },
  {
   "cell_type": "code",
   "execution_count": null,
   "metadata": {},
   "outputs": [],
   "source": [
    "# создает много папок\n",
    "os.makedirs('2020\\\\10\\\\23')"
   ]
  },
  {
   "cell_type": "markdown",
   "metadata": {},
   "source": [
    "# Удаление папок и файлов\n",
    "os.remove() и os.rmdir()"
   ]
  },
  {
   "cell_type": "code",
   "execution_count": null,
   "metadata": {},
   "outputs": [],
   "source": [
    "# удаляет указанный файл\n",
    "os.remove(\"tmp.txt\")"
   ]
  },
  {
   "cell_type": "code",
   "execution_count": null,
   "metadata": {},
   "outputs": [],
   "source": [
    "#удаляет указанную папку\n",
    "os.rmdir(\"test\")"
   ]
  },
  {
   "cell_type": "code",
   "execution_count": null,
   "metadata": {},
   "outputs": [],
   "source": [
    "# удаляет папку и вложенные пустые папки\n",
    "os.removedirs(\"test\")"
   ]
  },
  {
   "cell_type": "markdown",
   "metadata": {},
   "source": [
    "# Переименование файлов и папок\n",
    " os.rename()"
   ]
  },
  {
   "cell_type": "code",
   "execution_count": null,
   "metadata": {},
   "outputs": [],
   "source": [
    "os.rename(\"2020\", \"2020_1\")"
   ]
  },
  {
   "cell_type": "markdown",
   "metadata": {},
   "source": [
    "# Открытие файлов (имитация двойного щелчка)"
   ]
  },
  {
   "cell_type": "code",
   "execution_count": null,
   "metadata": {},
   "outputs": [],
   "source": [
    "os.startfile('D:\\\\Share\\\\Python обучение\\\\[O`Reilly] - Изучаем Python, 4-е изд. - [Лутц].pdf')"
   ]
  },
  {
   "cell_type": "markdown",
   "metadata": {},
   "source": [
    "# Обход вложенных папок и файлов\n"
   ]
  },
  {
   "cell_type": "code",
   "execution_count": 14,
   "metadata": {},
   "outputs": [
    {
     "name": "stdout",
     "output_type": "stream",
     "text": [
      "\n",
      "Корень:  D:\\Share\\Python обучение\\Лекции\\7 файлы и папки \n",
      "Папки:  ['.ipynb_checkpoints', '2019', '2020_1', 'test'] \n",
      "Файлы:  ['File and folders.ipynb', 'File and folders2.ipynb']\n",
      "\n",
      "Корень:  D:\\Share\\Python обучение\\Лекции\\7 файлы и папки\\.ipynb_checkpoints \n",
      "Папки:  [] \n",
      "Файлы:  ['File and folders-checkpoint.ipynb']\n",
      "\n",
      "Корень:  D:\\Share\\Python обучение\\Лекции\\7 файлы и папки\\2019 \n",
      "Папки:  ['10'] \n",
      "Файлы:  []\n",
      "\n",
      "Корень:  D:\\Share\\Python обучение\\Лекции\\7 файлы и папки\\2019\\10 \n",
      "Папки:  ['23'] \n",
      "Файлы:  []\n",
      "\n",
      "Корень:  D:\\Share\\Python обучение\\Лекции\\7 файлы и папки\\2019\\10\\23 \n",
      "Папки:  [] \n",
      "Файлы:  []\n",
      "\n",
      "Корень:  D:\\Share\\Python обучение\\Лекции\\7 файлы и папки\\2020_1 \n",
      "Папки:  ['10'] \n",
      "Файлы:  []\n",
      "\n",
      "Корень:  D:\\Share\\Python обучение\\Лекции\\7 файлы и папки\\2020_1\\10 \n",
      "Папки:  ['23'] \n",
      "Файлы:  []\n",
      "\n",
      "Корень:  D:\\Share\\Python обучение\\Лекции\\7 файлы и папки\\2020_1\\10\\23 \n",
      "Папки:  [] \n",
      "Файлы:  []\n",
      "\n",
      "Корень:  D:\\Share\\Python обучение\\Лекции\\7 файлы и папки\\test \n",
      "Папки:  ['folder'] \n",
      "Файлы:  []\n",
      "\n",
      "Корень:  D:\\Share\\Python обучение\\Лекции\\7 файлы и папки\\test\\folder \n",
      "Папки:  [] \n",
      "Файлы:  []\n"
     ]
    }
   ],
   "source": [
    "path = 'D:\\\\Share\\\\Python обучение\\\\Лекции\\\\7 файлы и папки'\n",
    " \n",
    "for root, dirs, files in os.walk(path):\n",
    "    print(\"\\nКорень: \", root, \"\\nПапки: \", dirs, \"\\nФайлы: \", files)"
   ]
  },
  {
   "cell_type": "code",
   "execution_count": 16,
   "metadata": {},
   "outputs": [
    {
     "data": {
      "text/plain": [
       "['.ipynb_checkpoints',\n",
       " '2019',\n",
       " '2020_1',\n",
       " 'File and folders.ipynb',\n",
       " 'File and folders2.ipynb',\n",
       " 'test']"
      ]
     },
     "execution_count": 16,
     "metadata": {},
     "output_type": "execute_result"
    }
   ],
   "source": [
    "#получение списка файлов и папок в указнном каталоге\n",
    "os.listdir(r\"D:\\Share\\Python обучение\\Лекции\\7 файлы и папки\")"
   ]
  },
  {
   "cell_type": "markdown",
   "metadata": {},
   "source": [
    "# os.path\n",
    "- basename\n",
    "- dirname\n",
    "- exists\n",
    "- isdir and isfile\n",
    "- join\n",
    "- split\n",
    "\n",
    "Это не все функции, более подробно в доке."
   ]
  },
  {
   "cell_type": "code",
   "execution_count": null,
   "metadata": {},
   "outputs": [],
   "source": [
    "# Вернет нам последний элемент в указанном вами пути\n",
    "os.path.basename(\"D:\\\\Share\\\\Python обучение\\\\Лекции\\\\7 файлы и папки\\\\File and folders.ipynb\")"
   ]
  },
  {
   "cell_type": "code",
   "execution_count": null,
   "metadata": {},
   "outputs": [],
   "source": [
    "os.path.basename(\"D:\\\\Share\\\\Python обучение\\\\Лекции\\\\7 файлы и папки\\\\\")"
   ]
  },
  {
   "cell_type": "code",
   "execution_count": null,
   "metadata": {},
   "outputs": [],
   "source": [
    "# вернет вам только ту часть пути что указывает на каталог где лежит файл\n",
    "\n",
    "os.path.dirname(\"D:\\\\Share\\\\Python обучение\\\\Лекции\\\\7 файлы и папки\\\\File and folders.ipynb\")"
   ]
  },
  {
   "cell_type": "code",
   "execution_count": null,
   "metadata": {},
   "outputs": [],
   "source": [
    "os.path.dirname(\"D:\\\\Share\\\\Python обучение\\\\Лекции\\\\7 файлы и папки\\\\\")"
   ]
  },
  {
   "cell_type": "code",
   "execution_count": null,
   "metadata": {},
   "outputs": [],
   "source": [
    "os.path.dirname(\"D:\\\\Share\\\\Python обучение\\\\Лекции\\\\7 файлы и папки\")"
   ]
  },
  {
   "cell_type": "code",
   "execution_count": null,
   "metadata": {},
   "outputs": [],
   "source": [
    "# скажет: а существует такой путь или нет?\n",
    "os.path.exists(\"D:\\\\Share\\\\Python обучение\\\\Лекции\\\\7 файлы и папки\")"
   ]
  },
  {
   "cell_type": "code",
   "execution_count": null,
   "metadata": {},
   "outputs": [],
   "source": [
    "os.path.exists(\"D:\\\\Share\\\\Python обучение\\\\Лекции\\\\7 файлы и папки\\\\LOOL\")"
   ]
  },
  {
   "cell_type": "code",
   "execution_count": 3,
   "metadata": {},
   "outputs": [
    {
     "data": {
      "text/plain": [
       "True"
      ]
     },
     "execution_count": 3,
     "metadata": {},
     "output_type": "execute_result"
    }
   ],
   "source": [
    "# файл или папка?\n",
    "\n",
    "os.path.isdir(\"D:\\\\Share\\\\Python обучение\\\\Лекции\\\\7 файлы и папки\")"
   ]
  },
  {
   "cell_type": "code",
   "execution_count": 4,
   "metadata": {},
   "outputs": [
    {
     "data": {
      "text/plain": [
       "False"
      ]
     },
     "execution_count": 4,
     "metadata": {},
     "output_type": "execute_result"
    }
   ],
   "source": [
    "os.path.isdir(\"D:\\\\Share\\\\Python обучение\\\\Лекции\\\\7 файлы и папки\\\\File and folders.ipynb\")"
   ]
  },
  {
   "cell_type": "code",
   "execution_count": 5,
   "metadata": {},
   "outputs": [
    {
     "data": {
      "text/plain": [
       "False"
      ]
     },
     "execution_count": 5,
     "metadata": {},
     "output_type": "execute_result"
    }
   ],
   "source": [
    "os.path.isfile(\"D:\\\\Share\\\\Python обучение\\\\Лекции\\\\7 файлы и папки\")"
   ]
  },
  {
   "cell_type": "code",
   "execution_count": 6,
   "metadata": {},
   "outputs": [
    {
     "data": {
      "text/plain": [
       "True"
      ]
     },
     "execution_count": 6,
     "metadata": {},
     "output_type": "execute_result"
    }
   ],
   "source": [
    "os.path.isfile(\"D:\\\\Share\\\\Python обучение\\\\Лекции\\\\7 файлы и папки\\\\File and folders.ipynb\")"
   ]
  },
  {
   "cell_type": "code",
   "execution_count": 7,
   "metadata": {},
   "outputs": [
    {
     "data": {
      "text/plain": [
       "False"
      ]
     },
     "execution_count": 7,
     "metadata": {},
     "output_type": "execute_result"
    }
   ],
   "source": [
    "os.path.isfile(\"D:\\\\Share\\\\Python обучение\\\\Лекции\\\\7 файлы и папки\\\\LOOL\")"
   ]
  },
  {
   "cell_type": "code",
   "execution_count": 8,
   "metadata": {},
   "outputs": [
    {
     "data": {
      "text/plain": [
       "False"
      ]
     },
     "execution_count": 8,
     "metadata": {},
     "output_type": "execute_result"
    }
   ],
   "source": [
    "os.path.isfile(\"D:\\\\Share\\\\Python обучение\\\\Лекции\\\\7 файлы и папки\\\\LOOL\")"
   ]
  },
  {
   "cell_type": "code",
   "execution_count": 10,
   "metadata": {},
   "outputs": [
    {
     "data": {
      "text/plain": [
       "'D:\\\\Share\\\\Python обучение\\\\Лекции\\\\7 файлы и папки\\\\File and folders.ipynb'"
      ]
     },
     "execution_count": 10,
     "metadata": {},
     "output_type": "execute_result"
    }
   ],
   "source": [
    "# соединение нескольких частей пути (папки и имя)\n",
    "\n",
    "os.path.join(\"D:\\\\Share\\\\Python обучение\\\\Лекции\\\\7 файлы и папки\", \"File and folders.ipynb\")"
   ]
  },
  {
   "cell_type": "code",
   "execution_count": 11,
   "metadata": {},
   "outputs": [
    {
     "data": {
      "text/plain": [
       "'D:\\\\Share\\\\Python обучение\\\\Лекции\\\\7 файлы и папки'"
      ]
     },
     "execution_count": 11,
     "metadata": {},
     "output_type": "execute_result"
    }
   ],
   "source": [
    "os.path.join(\"D:\\\\Share\\\\Python обучение\\\\Лекции\", \"7 файлы и папки\")"
   ]
  },
  {
   "cell_type": "code",
   "execution_count": 22,
   "metadata": {},
   "outputs": [
    {
     "data": {
      "text/plain": [
       "('D:\\\\Share\\\\Python обучение\\\\Лекции\\\\7 файлы и папки',\n",
       " 'File and folders.ipynb')"
      ]
     },
     "execution_count": 22,
     "metadata": {},
     "output_type": "execute_result"
    }
   ],
   "source": [
    "# разделение цельного пути на составляющие \n",
    "\n",
    "os.path.split('D:\\\\Share\\\\Python обучение\\\\Лекции\\\\7 файлы и папки\\\\File and folders.ipynb')"
   ]
  },
  {
   "cell_type": "code",
   "execution_count": 45,
   "metadata": {},
   "outputs": [
    {
     "name": "stdout",
     "output_type": "stream",
     "text": [
      "Dir: D:\\\\Share\\\\Python обучение\\\\Лекции\\\\7 файлы и папки:\n",
      "|\tDir: D:\\\\Share\\\\Python обучение\\\\Лекции\\\\7 файлы и папки\\.ipynb_checkpoints:\n",
      "|\tDir: D:\\\\Share\\\\Python обучение\\\\Лекции\\\\7 файлы и папки\\2019:\n",
      "|\t|\tDir: D:\\\\Share\\\\Python обучение\\\\Лекции\\\\7 файлы и папки\\2019\\10:\n",
      "|\t|\t|\tDir: D:\\\\Share\\\\Python обучение\\\\Лекции\\\\7 файлы и папки\\2019\\10\\23:\n",
      "|\tDir: D:\\\\Share\\\\Python обучение\\\\Лекции\\\\7 файлы и папки\\2020_1:\n",
      "|\t|\tDir: D:\\\\Share\\\\Python обучение\\\\Лекции\\\\7 файлы и папки\\2020_1\\10:\n",
      "|\t|\t|\tDir: D:\\\\Share\\\\Python обучение\\\\Лекции\\\\7 файлы и папки\\2020_1\\10\\23:\n",
      "|\tFilename: donut1 | File extension: .png\n",
      "|\tFilename: File and folders homework | File extension: .ipynb\n",
      "|\tFilename: File and folders | File extension: .ipynb\n",
      "|\tFilename: File and folders2 | File extension: .ipynb\n",
      "|\tDir: D:\\\\Share\\\\Python обучение\\\\Лекции\\\\7 файлы и папки\\test:\n",
      "|\t|\tDir: D:\\\\Share\\\\Python обучение\\\\Лекции\\\\7 файлы и папки\\test\\folder:\n"
     ]
    }
   ],
   "source": [
    "import os\n",
    "\n",
    "def tree(path, level=0):\n",
    "    indent = '|\\t' * level  # Уровень отступа для наглядности\n",
    "    if not os.path.exists(path):  # Выходим если путь не существует\n",
    "        print(f\"Path: {path} is not found!\")\n",
    "        return\n",
    "\n",
    "    if not os.path.isdir(path):  # Если путь это файл - делаем что то и выходим\n",
    "        # DO SOME WORK ON FILE - PRINT NAME AND EXT\n",
    "        filename, file_extension = os.path.splitext(path)\n",
    "        print(f\"{indent}|\\tFilename: {os.path.basename(filename)} | File extension: {file_extension}\")\n",
    "        return\n",
    "\n",
    "    print(f\"{indent}Dir: {path}:\")  # Если мы тут - значит путь папка - обозначим\n",
    "    for file in os.listdir(path):  # Идем по файлам внутри папки\n",
    "        if os.path.isfile(os.path.join(path,file)):  # Если это обычный файл - делаем что то\n",
    "            # DO SOME WORK ON FILE - PRINT NAME AND EXT\n",
    "            filename, file_extension = os.path.splitext(file)\n",
    "            print(f\"{indent}|\\tFilename: {os.path.basename(filename)} | File extension: {file_extension}\")\n",
    "\n",
    "        else:  # Если файл опять папка - обрабатываем рекурсивно\n",
    "            next_level = level + 1  # Для следующей итерации увеличим отступ\n",
    "            dir_walk(os.path.join(path, file), next_level)\n",
    "\n",
    "\n",
    "\n",
    "tree(r\"D:\\\\Share\\\\Python обучение\\\\Лекции\\\\7 файлы и папки\")\n",
    "\n",
    "x = 5\n"
   ]
  }
 ],
 "metadata": {
  "kernelspec": {
   "display_name": "Python 3",
   "language": "python",
   "name": "python3"
  },
  "language_info": {
   "codemirror_mode": {
    "name": "ipython",
    "version": 3
   },
   "file_extension": ".py",
   "mimetype": "text/x-python",
   "name": "python",
   "nbconvert_exporter": "python",
   "pygments_lexer": "ipython3",
   "version": "3.7.1"
  }
 },
 "nbformat": 4,
 "nbformat_minor": 2
}

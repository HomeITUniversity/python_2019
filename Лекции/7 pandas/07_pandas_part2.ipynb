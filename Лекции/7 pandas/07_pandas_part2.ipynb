{
  "nbformat": 4,
  "nbformat_minor": 0,
  "metadata": {
    "kernel_info": {
      "name": "py36"
    },
    "kernelspec": {
      "display_name": "Python 3",
      "language": "python",
      "name": "python3"
    },
    "language_info": {
      "codemirror_mode": {
        "name": "ipython",
        "version": 3
      },
      "file_extension": ".py",
      "mimetype": "text/x-python",
      "name": "python",
      "nbconvert_exporter": "python",
      "pygments_lexer": "ipython3",
      "version": "3.6.9"
    },
    "nteract": {
      "version": "0.11.6"
    },
    "colab": {
      "name": "07-pandas-part2.ipynb",
      "provenance": []
    }
  },
  "cells": [
    {
      "cell_type": "markdown",
      "metadata": {
        "id": "aPeukkiNkNoe",
        "colab_type": "text"
      },
      "source": [
        "Pandas — удобная библиотека для работы с табличными данными в Python, если данных не слишком много и они помещаются в оперативную память вашего компьютера. Несмотря на неэффективность реализации и некоторые проблемы, библиотека стала стандартом в анализе данных. С этой библиотекой мы сейчас и познакомимся.\n",
        "\n",
        "Основной объект в pandas это DataFrame, представляющий собой таблицу с именованными колонками различных типов, индексом (может быть многоуровневым). DataFrame можно создавать, считывая таблицу из файла или задавая вручную из других объектов.\n",
        "\n",
        "В этой части потребуется выполнить несколько небольших заданий. Можно пойти двумя путями: сначала изучить материалы, а потом приступить к заданиям, или же разбираться \"по ходу\". Выбирайте сами.\n",
        "\n",
        "Материалы:\n",
        "1. [Pandas за 10 минут из официального руководства](http://pandas.pydata.org/pandas-docs/stable/10min.html)\n",
        "2. [Документация](http://pandas.pydata.org/pandas-docs/stable/index.html) (стоит обращаться, если не понятно, как вызывать конкретный метод)\n",
        "3. [Примеры использования функционала](http://nbviewer.jupyter.org/github/justmarkham/pandas-videos/blob/master/pandas.ipynb)\n",
        "\n",
        "Многие из заданий можно выполнить несколькими способами. Не существуют единственно верного, но попробуйте максимально задействовать арсенал pandas и ориентируйтесь на простоту и понятность вашего кода. Мы не будем подсказывать, что нужно использовать для решения конкретной задачи, попробуйте находить необходимый функционал сами (название метода чаще всего очевидно). В помощь вам документация, поиск и stackoverflow."
      ]
    },
    {
      "cell_type": "code",
      "metadata": {
        "id": "uC6mJl9hkNof",
        "colab_type": "code",
        "colab": {},
        "outputId": "3604eb86-05ed-4402-aeb8-fe886eb4866f"
      },
      "source": [
        "%pylab inline  \n",
        "# import almost all we need\n",
        "import pandas as pd"
      ],
      "execution_count": 0,
      "outputs": [
        {
          "output_type": "stream",
          "text": [
            "Populating the interactive namespace from numpy and matplotlib\n"
          ],
          "name": "stdout"
        }
      ]
    },
    {
      "cell_type": "markdown",
      "metadata": {
        "id": "N_VwZBgLkNoj",
        "colab_type": "text"
      },
      "source": [
        "Данные можно скачать [отсюда](https://www.dropbox.com/s/5qq94wzmbw4e54r/data.csv?dl=0)."
      ]
    },
    {
      "cell_type": "markdown",
      "metadata": {
        "id": "BhwrtC75kNok",
        "colab_type": "text"
      },
      "source": [
        "#### 1. [0.5 баллов] Откройте файл с таблицей (не забудьте про её формат). Выведите последние 10 строк.\n",
        "\n",
        "Посмотрите на данные и скажите, что они из себя представляют, сколько в таблице строк, какие столбцы?"
      ]
    },
    {
      "cell_type": "code",
      "metadata": {
        "id": "Li2whhTdkNon",
        "colab_type": "code",
        "colab": {},
        "outputId": "c5eb4047-d6dc-490b-a4d9-f8880802fc73"
      },
      "source": [
        "df = pd.DataFrame.from_csv('data.csv')\n",
        "df.head()"
      ],
      "execution_count": 0,
      "outputs": [
        {
          "output_type": "execute_result",
          "data": {
            "text/html": [
              "<div>\n",
              "<style>\n",
              "    .dataframe thead tr:only-child th {\n",
              "        text-align: right;\n",
              "    }\n",
              "\n",
              "    .dataframe thead th {\n",
              "        text-align: left;\n",
              "    }\n",
              "\n",
              "    .dataframe tbody tr th {\n",
              "        vertical-align: top;\n",
              "    }\n",
              "</style>\n",
              "<table border=\"1\" class=\"dataframe\">\n",
              "  <thead>\n",
              "    <tr style=\"text-align: right;\">\n",
              "      <th></th>\n",
              "      <th>quantity</th>\n",
              "      <th>item_name</th>\n",
              "      <th>choice_description</th>\n",
              "      <th>item_price</th>\n",
              "    </tr>\n",
              "    <tr>\n",
              "      <th>order_id</th>\n",
              "      <th></th>\n",
              "      <th></th>\n",
              "      <th></th>\n",
              "      <th></th>\n",
              "    </tr>\n",
              "  </thead>\n",
              "  <tbody>\n",
              "    <tr>\n",
              "      <th>1</th>\n",
              "      <td>1</td>\n",
              "      <td>Chips and Fresh Tomato Salsa</td>\n",
              "      <td>NaN</td>\n",
              "      <td>$2.39</td>\n",
              "    </tr>\n",
              "    <tr>\n",
              "      <th>1</th>\n",
              "      <td>1</td>\n",
              "      <td>Izze</td>\n",
              "      <td>[Clementine]</td>\n",
              "      <td>$3.39</td>\n",
              "    </tr>\n",
              "    <tr>\n",
              "      <th>1</th>\n",
              "      <td>1</td>\n",
              "      <td>Nantucket Nectar</td>\n",
              "      <td>[Apple]</td>\n",
              "      <td>$3.39</td>\n",
              "    </tr>\n",
              "    <tr>\n",
              "      <th>1</th>\n",
              "      <td>1</td>\n",
              "      <td>Chips and Tomatillo-Green Chili Salsa</td>\n",
              "      <td>NaN</td>\n",
              "      <td>$2.39</td>\n",
              "    </tr>\n",
              "    <tr>\n",
              "      <th>2</th>\n",
              "      <td>2</td>\n",
              "      <td>Chicken Bowl</td>\n",
              "      <td>[Tomatillo-Red Chili Salsa (Hot), [Black Beans...</td>\n",
              "      <td>$16.98</td>\n",
              "    </tr>\n",
              "  </tbody>\n",
              "</table>\n",
              "</div>"
            ],
            "text/plain": [
              "          quantity                              item_name  \\\n",
              "order_id                                                    \n",
              "1                1           Chips and Fresh Tomato Salsa   \n",
              "1                1                                   Izze   \n",
              "1                1                       Nantucket Nectar   \n",
              "1                1  Chips and Tomatillo-Green Chili Salsa   \n",
              "2                2                           Chicken Bowl   \n",
              "\n",
              "                                         choice_description item_price  \n",
              "order_id                                                                \n",
              "1                                                       NaN     $2.39   \n",
              "1                                              [Clementine]     $3.39   \n",
              "1                                                   [Apple]     $3.39   \n",
              "1                                                       NaN     $2.39   \n",
              "2         [Tomatillo-Red Chili Salsa (Hot), [Black Beans...    $16.98   "
            ]
          },
          "metadata": {
            "tags": []
          },
          "execution_count": 283
        }
      ]
    },
    {
      "cell_type": "code",
      "metadata": {
        "id": "y1qQmBY4kNoq",
        "colab_type": "code",
        "colab": {},
        "outputId": "995f68c8-f865-438d-8bc9-ffbd0b67c921"
      },
      "source": [
        "df.dtypes"
      ],
      "execution_count": 0,
      "outputs": [
        {
          "output_type": "execute_result",
          "data": {
            "text/plain": [
              "quantity               int64\n",
              "item_name             object\n",
              "choice_description    object\n",
              "item_price            object\n",
              "dtype: object"
            ]
          },
          "metadata": {
            "tags": []
          },
          "execution_count": 50
        }
      ]
    },
    {
      "cell_type": "markdown",
      "metadata": {
        "id": "4jpMVVczkNou",
        "colab_type": "text"
      },
      "source": [
        "#### 2. [0.25 баллов] Ответьте на вопросы:\n",
        "1. Сколько заказов попало в выборку?\n",
        "2. Сколько уникальных категорий товара было куплено? (item_name)"
      ]
    },
    {
      "cell_type": "code",
      "metadata": {
        "id": "a0w576BXkNow",
        "colab_type": "code",
        "colab": {},
        "outputId": "e994ae39-a499-49ab-d225-4d03c8bf4be0"
      },
      "source": [
        "df.index.nunique(), df.item_name.nunique()"
      ],
      "execution_count": 0,
      "outputs": [
        {
          "output_type": "execute_result",
          "data": {
            "text/plain": [
              "(1834, 50)"
            ]
          },
          "metadata": {
            "tags": []
          },
          "execution_count": 284
        }
      ]
    },
    {
      "cell_type": "code",
      "metadata": {
        "id": "4vyd0bLdkNo1",
        "colab_type": "code",
        "colab": {},
        "outputId": "3db52168-d58b-47df-8d59-46b947c1a6dc"
      },
      "source": [
        "len(df)"
      ],
      "execution_count": 0,
      "outputs": [
        {
          "output_type": "execute_result",
          "data": {
            "text/plain": [
              "4622"
            ]
          },
          "metadata": {
            "tags": []
          },
          "execution_count": 285
        }
      ]
    },
    {
      "cell_type": "markdown",
      "metadata": {
        "id": "8XGCePldkNo5",
        "colab_type": "text"
      },
      "source": [
        "#### 3. [0.25 баллов] Есть ли в данных пропуски? В каких колонках? "
      ]
    },
    {
      "cell_type": "code",
      "metadata": {
        "id": "9V7dptWvkNo6",
        "colab_type": "code",
        "colab": {},
        "outputId": "82103577-b229-4ee8-9599-158c6b6c5ea7"
      },
      "source": [
        "df.isnull().any()"
      ],
      "execution_count": 0,
      "outputs": [
        {
          "output_type": "execute_result",
          "data": {
            "text/plain": [
              "quantity              False\n",
              "item_name             False\n",
              "choice_description     True\n",
              "item_price            False\n",
              "dtype: bool"
            ]
          },
          "metadata": {
            "tags": []
          },
          "execution_count": 286
        }
      ]
    },
    {
      "cell_type": "markdown",
      "metadata": {
        "id": "t8EHK5kNkNo-",
        "colab_type": "text"
      },
      "source": [
        "Заполните пропуски пустой строкой для строковых колонок и нулём для числовых."
      ]
    },
    {
      "cell_type": "code",
      "metadata": {
        "id": "qgBPJU22kNo_",
        "colab_type": "code",
        "colab": {}
      },
      "source": [
        "numcols = df.select_dtypes(include=[np.number]).columns\n",
        "objcols = df.select_dtypes(include=[object]).columns\n",
        "df[numcols] = df[numcols].fillna(0)\n",
        "df[objcols] = df[objcols].fillna('')"
      ],
      "execution_count": 0,
      "outputs": []
    },
    {
      "cell_type": "code",
      "metadata": {
        "id": "SO8DnGR2kNpC",
        "colab_type": "code",
        "colab": {},
        "outputId": "aa0dc346-7a3d-4377-8bf3-25435b672e01"
      },
      "source": [
        "df.select_dtypes(include=[object]).columns"
      ],
      "execution_count": 0,
      "outputs": [
        {
          "output_type": "execute_result",
          "data": {
            "text/plain": [
              "Index(['item_name', 'choice_description', 'item_price'], dtype='object')"
            ]
          },
          "metadata": {
            "tags": []
          },
          "execution_count": 288
        }
      ]
    },
    {
      "cell_type": "markdown",
      "metadata": {
        "id": "O0jJd8DCkNpH",
        "colab_type": "text"
      },
      "source": [
        "#### 4. [0.5 баллов] Посмотрите внимательнее на колонку с ценой товара. Какого она типа? Создайте новую колонку так, чтобы в ней цена была числом.\n",
        "\n",
        "Для этого попробуйте применить функцию-преобразование к каждой строке вашей таблицы (для этого есть соответствующая функция)."
      ]
    },
    {
      "cell_type": "code",
      "metadata": {
        "id": "mt-Rv09pkNpI",
        "colab_type": "code",
        "colab": {},
        "outputId": "942f9194-3bc9-4ad6-ed7b-cb169b32addd"
      },
      "source": [
        "df['new_item_price'] = df.item_price.str.replace('$', '').replace(' ', '').astype(np.float)\n",
        "df.dtypes"
      ],
      "execution_count": 0,
      "outputs": [
        {
          "output_type": "execute_result",
          "data": {
            "text/plain": [
              "quantity                int64\n",
              "item_name              object\n",
              "choice_description     object\n",
              "item_price             object\n",
              "new_item_price        float64\n",
              "dtype: object"
            ]
          },
          "metadata": {
            "tags": []
          },
          "execution_count": 289
        }
      ]
    },
    {
      "cell_type": "markdown",
      "metadata": {
        "id": "00WEHiTmkNpN",
        "colab_type": "text"
      },
      "source": [
        "Какая средняя/минимальная/максимальная цена у товара? "
      ]
    },
    {
      "cell_type": "code",
      "metadata": {
        "id": "mYjpjWmQkNpO",
        "colab_type": "code",
        "colab": {},
        "outputId": "850e56bf-1f46-4bee-d950-780dd2a6a571"
      },
      "source": [
        "df.new_item_price.describe()"
      ],
      "execution_count": 0,
      "outputs": [
        {
          "output_type": "execute_result",
          "data": {
            "text/plain": [
              "count    4622.000000\n",
              "mean        7.464336\n",
              "std         4.245557\n",
              "min         1.090000\n",
              "25%         3.390000\n",
              "50%         8.750000\n",
              "75%         9.250000\n",
              "max        44.250000\n",
              "Name: new_item_price, dtype: float64"
            ]
          },
          "metadata": {
            "tags": []
          },
          "execution_count": 290
        }
      ]
    },
    {
      "cell_type": "markdown",
      "metadata": {
        "id": "Y7BPrRKxkNpS",
        "colab_type": "text"
      },
      "source": [
        "Удалите старую колонку с ценой."
      ]
    },
    {
      "cell_type": "code",
      "metadata": {
        "id": "V15aFWjPkNpT",
        "colab_type": "code",
        "colab": {}
      },
      "source": [
        "del df['item_price']"
      ],
      "execution_count": 0,
      "outputs": []
    },
    {
      "cell_type": "code",
      "metadata": {
        "id": "rEyWuOhrkNpW",
        "colab_type": "code",
        "colab": {},
        "outputId": "fb13513a-61e9-4945-bf7d-b61fb537a1cb"
      },
      "source": [
        "df.head(10)"
      ],
      "execution_count": 0,
      "outputs": [
        {
          "output_type": "execute_result",
          "data": {
            "text/html": [
              "<div>\n",
              "<style>\n",
              "    .dataframe thead tr:only-child th {\n",
              "        text-align: right;\n",
              "    }\n",
              "\n",
              "    .dataframe thead th {\n",
              "        text-align: left;\n",
              "    }\n",
              "\n",
              "    .dataframe tbody tr th {\n",
              "        vertical-align: top;\n",
              "    }\n",
              "</style>\n",
              "<table border=\"1\" class=\"dataframe\">\n",
              "  <thead>\n",
              "    <tr style=\"text-align: right;\">\n",
              "      <th></th>\n",
              "      <th>quantity</th>\n",
              "      <th>item_name</th>\n",
              "      <th>choice_description</th>\n",
              "      <th>new_item_price</th>\n",
              "    </tr>\n",
              "    <tr>\n",
              "      <th>order_id</th>\n",
              "      <th></th>\n",
              "      <th></th>\n",
              "      <th></th>\n",
              "      <th></th>\n",
              "    </tr>\n",
              "  </thead>\n",
              "  <tbody>\n",
              "    <tr>\n",
              "      <th>1</th>\n",
              "      <td>1</td>\n",
              "      <td>Chips and Fresh Tomato Salsa</td>\n",
              "      <td>NaN</td>\n",
              "      <td>2.39</td>\n",
              "    </tr>\n",
              "    <tr>\n",
              "      <th>1</th>\n",
              "      <td>1</td>\n",
              "      <td>Izze</td>\n",
              "      <td>[Clementine]</td>\n",
              "      <td>3.39</td>\n",
              "    </tr>\n",
              "    <tr>\n",
              "      <th>1</th>\n",
              "      <td>1</td>\n",
              "      <td>Nantucket Nectar</td>\n",
              "      <td>[Apple]</td>\n",
              "      <td>3.39</td>\n",
              "    </tr>\n",
              "    <tr>\n",
              "      <th>1</th>\n",
              "      <td>1</td>\n",
              "      <td>Chips and Tomatillo-Green Chili Salsa</td>\n",
              "      <td>NaN</td>\n",
              "      <td>2.39</td>\n",
              "    </tr>\n",
              "    <tr>\n",
              "      <th>2</th>\n",
              "      <td>2</td>\n",
              "      <td>Chicken Bowl</td>\n",
              "      <td>[Tomatillo-Red Chili Salsa (Hot), [Black Beans...</td>\n",
              "      <td>16.98</td>\n",
              "    </tr>\n",
              "    <tr>\n",
              "      <th>3</th>\n",
              "      <td>1</td>\n",
              "      <td>Chicken Bowl</td>\n",
              "      <td>[Fresh Tomato Salsa (Mild), [Rice, Cheese, Sou...</td>\n",
              "      <td>10.98</td>\n",
              "    </tr>\n",
              "    <tr>\n",
              "      <th>3</th>\n",
              "      <td>1</td>\n",
              "      <td>Side of Chips</td>\n",
              "      <td>NaN</td>\n",
              "      <td>1.69</td>\n",
              "    </tr>\n",
              "    <tr>\n",
              "      <th>4</th>\n",
              "      <td>1</td>\n",
              "      <td>Steak Burrito</td>\n",
              "      <td>[Tomatillo Red Chili Salsa, [Fajita Vegetables...</td>\n",
              "      <td>11.75</td>\n",
              "    </tr>\n",
              "    <tr>\n",
              "      <th>4</th>\n",
              "      <td>1</td>\n",
              "      <td>Steak Soft Tacos</td>\n",
              "      <td>[Tomatillo Green Chili Salsa, [Pinto Beans, Ch...</td>\n",
              "      <td>9.25</td>\n",
              "    </tr>\n",
              "    <tr>\n",
              "      <th>5</th>\n",
              "      <td>1</td>\n",
              "      <td>Steak Burrito</td>\n",
              "      <td>[Fresh Tomato Salsa, [Rice, Black Beans, Pinto...</td>\n",
              "      <td>9.25</td>\n",
              "    </tr>\n",
              "  </tbody>\n",
              "</table>\n",
              "</div>"
            ],
            "text/plain": [
              "          quantity                              item_name  \\\n",
              "order_id                                                    \n",
              "1                1           Chips and Fresh Tomato Salsa   \n",
              "1                1                                   Izze   \n",
              "1                1                       Nantucket Nectar   \n",
              "1                1  Chips and Tomatillo-Green Chili Salsa   \n",
              "2                2                           Chicken Bowl   \n",
              "3                1                           Chicken Bowl   \n",
              "3                1                          Side of Chips   \n",
              "4                1                          Steak Burrito   \n",
              "4                1                       Steak Soft Tacos   \n",
              "5                1                          Steak Burrito   \n",
              "\n",
              "                                         choice_description  new_item_price  \n",
              "order_id                                                                     \n",
              "1                                                       NaN            2.39  \n",
              "1                                              [Clementine]            3.39  \n",
              "1                                                   [Apple]            3.39  \n",
              "1                                                       NaN            2.39  \n",
              "2         [Tomatillo-Red Chili Salsa (Hot), [Black Beans...           16.98  \n",
              "3         [Fresh Tomato Salsa (Mild), [Rice, Cheese, Sou...           10.98  \n",
              "3                                                       NaN            1.69  \n",
              "4         [Tomatillo Red Chili Salsa, [Fajita Vegetables...           11.75  \n",
              "4         [Tomatillo Green Chili Salsa, [Pinto Beans, Ch...            9.25  \n",
              "5         [Fresh Tomato Salsa, [Rice, Black Beans, Pinto...            9.25  "
            ]
          },
          "metadata": {
            "tags": []
          },
          "execution_count": 94
        }
      ]
    },
    {
      "cell_type": "markdown",
      "metadata": {
        "id": "IFYkSas8kNpb",
        "colab_type": "text"
      },
      "source": [
        "#### 5. [0.25 баллов] Какие 5 товаров были самыми дешёвыми и самыми дорогими? (по item_name)\n",
        "\n",
        "Для этого будет удобно избавиться от дубликатов и отсортировать товары. Не забудьте про количество товара."
      ]
    },
    {
      "cell_type": "code",
      "metadata": {
        "id": "kx1qRPyVkNpc",
        "colab_type": "code",
        "colab": {},
        "outputId": "3cc84fd6-9dcf-48c7-9429-ef83cf44a9b8"
      },
      "source": [
        "df['single_price'] = df['new_item_price'] / df['quantity']\n",
        "df.groupby('item_name')['single_price'].max().sort_values(ascending=False).tail()"
      ],
      "execution_count": 0,
      "outputs": [
        {
          "output_type": "execute_result",
          "data": {
            "text/plain": [
              "item_name\n",
              "Chips                2.15\n",
              "Side of Chips        1.69\n",
              "Bottled Water        1.50\n",
              "Canned Soft Drink    1.25\n",
              "Canned Soda          1.09\n",
              "Name: single_price, dtype: float64"
            ]
          },
          "metadata": {
            "tags": []
          },
          "execution_count": 292
        }
      ]
    },
    {
      "cell_type": "markdown",
      "metadata": {
        "id": "aAKYWc2WkNpl",
        "colab_type": "text"
      },
      "source": [
        "#### 6. [0.5 баллов] Сколько раз клиенты покупали больше 1 Chicken Bowl (item_name)?"
      ]
    },
    {
      "cell_type": "code",
      "metadata": {
        "id": "6K-YYKtGkNpn",
        "colab_type": "code",
        "colab": {},
        "outputId": "5ff45093-220e-4f81-ae39-cb48403ea1a2"
      },
      "source": [
        "df[(df['item_name'] == 'Chicken Bowl') & (df['quantity'] > 1)].shape[0]"
      ],
      "execution_count": 0,
      "outputs": [
        {
          "output_type": "execute_result",
          "data": {
            "text/plain": [
              "33"
            ]
          },
          "metadata": {
            "tags": []
          },
          "execution_count": 150
        }
      ]
    },
    {
      "cell_type": "markdown",
      "metadata": {
        "id": "eYja4LXekNpv",
        "colab_type": "text"
      },
      "source": [
        "#### 7. [0.5 баллов] Какой средний чек у заказа? Сколько в среднем товаров покупают?\n",
        "\n",
        "Если необходимо провести вычисления в терминах заказов, то будет удобно сгруппировать строки по заказам и посчитать необходимые статистики."
      ]
    },
    {
      "cell_type": "code",
      "metadata": {
        "id": "G097fiGRkNpw",
        "colab_type": "code",
        "colab": {},
        "outputId": "3b6bef7d-e74d-4773-d759-a768c5e419c6"
      },
      "source": [
        "mean_sum = df.groupby('order_id')['new_item_price'].sum().mean()\n",
        "mean_q = df.groupby('order_id')['quantity'].sum().mean()\n",
        "mean_sum, mean_q"
      ],
      "execution_count": 0,
      "outputs": [
        {
          "output_type": "execute_result",
          "data": {
            "text/plain": [
              "(18.81142857142869, 2.711014176663032)"
            ]
          },
          "metadata": {
            "tags": []
          },
          "execution_count": 157
        }
      ]
    },
    {
      "cell_type": "markdown",
      "metadata": {
        "id": "pBkPgQy5kNp0",
        "colab_type": "text"
      },
      "source": [
        "#### 8. [0.25 баллов] Сколько заказов содержали ровно 1 товар?"
      ]
    },
    {
      "cell_type": "code",
      "metadata": {
        "id": "cNDTQs4tkNp1",
        "colab_type": "code",
        "colab": {},
        "outputId": "c0aceda7-24c4-4ff3-baf8-fef39e6ee595"
      },
      "source": [
        "len(df[df.groupby(level=0).count()['quantity'] == 1])"
      ],
      "execution_count": 0,
      "outputs": [
        {
          "output_type": "stream",
          "text": [
            "/Users/legchikovdmitry/anaconda3/lib/python3.6/site-packages/ipykernel_launcher.py:1: UserWarning: Boolean Series key will be reindexed to match DataFrame index.\n",
            "  \"\"\"Entry point for launching an IPython kernel.\n"
          ],
          "name": "stderr"
        },
        {
          "output_type": "execute_result",
          "data": {
            "text/plain": [
              "128"
            ]
          },
          "metadata": {
            "tags": []
          },
          "execution_count": 176
        }
      ]
    },
    {
      "cell_type": "markdown",
      "metadata": {
        "id": "-sFvbskOkNp6",
        "colab_type": "text"
      },
      "source": [
        "#### 9. [0.25 баллов] Какая самая популярная категория товара? "
      ]
    },
    {
      "cell_type": "code",
      "metadata": {
        "id": "PWndDpVNkNp8",
        "colab_type": "code",
        "colab": {},
        "outputId": "4467ceb1-7381-42e8-ffc3-ade03b52e563"
      },
      "source": [
        "df.item_name.value_counts().head(1)"
      ],
      "execution_count": 0,
      "outputs": [
        {
          "output_type": "execute_result",
          "data": {
            "text/plain": [
              "Chicken Bowl    726\n",
              "Name: item_name, dtype: int64"
            ]
          },
          "metadata": {
            "tags": []
          },
          "execution_count": 185
        }
      ]
    },
    {
      "cell_type": "markdown",
      "metadata": {
        "id": "fev9TmLukNqD",
        "colab_type": "text"
      },
      "source": [
        "#### 10. [0.5 баллов] Какие виды Burrito существуют? Какой из них чаще всего покупают? Какой из них самый дорогой? "
      ]
    },
    {
      "cell_type": "code",
      "metadata": {
        "id": "bMaG9CsjkNqE",
        "colab_type": "code",
        "colab": {},
        "outputId": "1812a680-aac2-4094-c7ab-c66e9cc99b5b"
      },
      "source": [
        "df[df.item_name.str.contains('Burrito')].groupby('item_name')['single_price'].max().sort_values(ascending=False).head(1)\n",
        "df[df.item_name.str.contains('Burrito')].groupby('item_name')['quantity'].sum().sort_values(ascending=False).head(1)"
      ],
      "execution_count": 0,
      "outputs": [
        {
          "output_type": "execute_result",
          "data": {
            "text/plain": [
              "item_name\n",
              "Chicken Burrito    591\n",
              "Name: quantity, dtype: int64"
            ]
          },
          "metadata": {
            "tags": []
          },
          "execution_count": 195
        }
      ]
    },
    {
      "cell_type": "markdown",
      "metadata": {
        "collapsed": true,
        "id": "Xk8dAdx0kNqJ",
        "colab_type": "text"
      },
      "source": [
        "#### 11. [0.75 баллов] В каком количестве заказов есть товар, который стоит более 40% от суммы всего чека?\n",
        "\n",
        "Возможно, будет удобно посчитать отдельно среднюю стоимость заказа, добавить ее в исходные данные и сделать необходимые проверки.\n",
        "\n",
        "*Данный комментарий стоит воспринимать как подсказку к одному из вариантов решений задания. Если в вашем варианте решения он не нужнен, это не страшно*"
      ]
    },
    {
      "cell_type": "code",
      "metadata": {
        "id": "UcZy-JXgkNqL",
        "colab_type": "code",
        "colab": {},
        "outputId": "0f363e30-aa19-48a3-f5a1-91573e7ac194"
      },
      "source": [
        "mean_order_price = df.groupby('order_id')['new_item_price'].sum().mean()\n",
        "df['40_proc'] = df.groupby('order_id')['new_item_price'].sum()*0.4\n",
        "len(df[df['new_item_price'] > df['40_proc']])"
      ],
      "execution_count": 0,
      "outputs": [
        {
          "output_type": "execute_result",
          "data": {
            "text/plain": [
              "2087"
            ]
          },
          "metadata": {
            "tags": []
          },
          "execution_count": 210
        }
      ]
    },
    {
      "cell_type": "markdown",
      "metadata": {
        "id": "Q9U6Xx9EkNqP",
        "colab_type": "text"
      },
      "source": [
        "#### 12. [0.75 баллов] Предположим, что в данных была ошибка и Diet Coke (choice_description), который стоил $1.25, должен был стоить 1.35. Скорректируйте данные в таблицы и посчитайте, на какой процент больше денег было заработано с этого товара. Не забывайте, что количество товара не всегда равно 1."
      ]
    },
    {
      "cell_type": "code",
      "metadata": {
        "id": "aUQZXveYkNqQ",
        "colab_type": "code",
        "colab": {},
        "outputId": "18876093-f163-42a0-f3e6-f28d6173e114"
      },
      "source": [
        "old_price, new_price = 1.25, 1.35\n",
        "\n",
        "coke_old_sum = df[(df['choice_description'] == '[Diet Coke]') & (df['single_price'] == old_price)]['single_price'].sum()\n",
        "df.loc[(df['choice_description'] == '[Diet Coke]') & (df['single_price'] == old_price), 'single_price'] = new_price\n",
        "df['new_item_price'] = df['single_price'] * df['quantity']\n",
        "coke_new_sum = df[(df['choice_description'] == '[Diet Coke]') & (df['single_price'] == new_price)]['single_price'].sum()\n",
        "np.abs(coke_old_sum - coke_new_sum)\n"
      ],
      "execution_count": 0,
      "outputs": [
        {
          "output_type": "execute_result",
          "data": {
            "text/plain": [
              "9.4999999999997726"
            ]
          },
          "metadata": {
            "tags": []
          },
          "execution_count": 268
        }
      ]
    },
    {
      "cell_type": "markdown",
      "metadata": {
        "id": "t8iyK0BJkNqX",
        "colab_type": "text"
      },
      "source": [
        "#### 13. [0.75 баллов] Создайте новый DateFrame из матрицы, созданной ниже. Назовите колонки index, column1, column2 и сделайте первую колонку индексом."
      ]
    },
    {
      "cell_type": "code",
      "metadata": {
        "id": "cMHxB8JukNqZ",
        "colab_type": "code",
        "colab": {},
        "outputId": "8fde4ac2-eb0a-4239-99b4-401397e78abb"
      },
      "source": [
        "data = np.random.rand(10, 3)\n",
        "df = pd.DataFrame(data, columns=['index', 'column1', 'column2']).set_index('index')\n",
        "df.head()"
      ],
      "execution_count": 0,
      "outputs": [
        {
          "output_type": "execute_result",
          "data": {
            "text/html": [
              "<div>\n",
              "<style>\n",
              "    .dataframe thead tr:only-child th {\n",
              "        text-align: right;\n",
              "    }\n",
              "\n",
              "    .dataframe thead th {\n",
              "        text-align: left;\n",
              "    }\n",
              "\n",
              "    .dataframe tbody tr th {\n",
              "        vertical-align: top;\n",
              "    }\n",
              "</style>\n",
              "<table border=\"1\" class=\"dataframe\">\n",
              "  <thead>\n",
              "    <tr style=\"text-align: right;\">\n",
              "      <th></th>\n",
              "      <th>column1</th>\n",
              "      <th>column2</th>\n",
              "    </tr>\n",
              "    <tr>\n",
              "      <th>index</th>\n",
              "      <th></th>\n",
              "      <th></th>\n",
              "    </tr>\n",
              "  </thead>\n",
              "  <tbody>\n",
              "    <tr>\n",
              "      <th>0.602958</th>\n",
              "      <td>0.501169</td>\n",
              "      <td>0.544516</td>\n",
              "    </tr>\n",
              "    <tr>\n",
              "      <th>0.774901</th>\n",
              "      <td>0.945121</td>\n",
              "      <td>0.284333</td>\n",
              "    </tr>\n",
              "    <tr>\n",
              "      <th>0.435739</th>\n",
              "      <td>0.312644</td>\n",
              "      <td>0.954706</td>\n",
              "    </tr>\n",
              "    <tr>\n",
              "      <th>0.581652</th>\n",
              "      <td>0.035775</td>\n",
              "      <td>0.930085</td>\n",
              "    </tr>\n",
              "    <tr>\n",
              "      <th>0.625036</th>\n",
              "      <td>0.548549</td>\n",
              "      <td>0.072357</td>\n",
              "    </tr>\n",
              "  </tbody>\n",
              "</table>\n",
              "</div>"
            ],
            "text/plain": [
              "           column1   column2\n",
              "index                       \n",
              "0.602958  0.501169  0.544516\n",
              "0.774901  0.945121  0.284333\n",
              "0.435739  0.312644  0.954706\n",
              "0.581652  0.035775  0.930085\n",
              "0.625036  0.548549  0.072357"
            ]
          },
          "metadata": {
            "tags": []
          },
          "execution_count": 275
        }
      ]
    },
    {
      "cell_type": "markdown",
      "metadata": {
        "id": "nfM0U30ekNqf",
        "colab_type": "text"
      },
      "source": [
        "Сохраните DataFrame на диск в формате csv без индексов и названий столбцов."
      ]
    },
    {
      "cell_type": "code",
      "metadata": {
        "collapsed": true,
        "id": "mLXnZSKzkNqh",
        "colab_type": "code",
        "colab": {}
      },
      "source": [
        "df.to_csv('df.csv', header=False, index=False)"
      ],
      "execution_count": 0,
      "outputs": []
    },
    {
      "cell_type": "markdown",
      "metadata": {
        "id": "9etRp-TmkNqj",
        "colab_type": "text"
      },
      "source": [
        "## 2. Визуализации и matplotlib"
      ]
    },
    {
      "cell_type": "markdown",
      "metadata": {
        "id": "ufBSv9ozkNqk",
        "colab_type": "text"
      },
      "source": [
        "При работе с данными часто неудобно делать какие-то выводы, если смотреть на таблицу и числа в частности, поэтому важно уметь визуализировать данные. В этом разделе мы этим и займёмся.\n",
        "\n",
        "У matplotlib, конечно, же есть [документация](https://matplotlib.org/users/index.html) с большим количеством [примеров](https://matplotlib.org/examples/), но для начала достаточно знать про несколько основных типов графиков:\n",
        "- plot — обычный поточечный график, которым можно изображать кривые или отдельные точки;\n",
        "- hist — гистограмма, показывающая распределение некоторое величины;\n",
        "- scatter — график, показывающий взаимосвязь двух величин;\n",
        "- bar — столбцовый график, показывающий взаимосвязь количественной величины от категориальной.\n",
        "\n",
        "В этом задании вы попробуете построить каждый из них. Не менее важно усвоить базовые принципы визуализаций:\n",
        "- на графиках должны быть подписаны оси;\n",
        "- у визуализации должно быть название;\n",
        "- если изображено несколько графиков, то необходима поясняющая легенда;\n",
        "- все линии на графиках должны быть чётко видны (нет похожих цветов или цветов, сливающихся с фоном);\n",
        "- если отображена величина, имеющая очевидный диапазон значений (например, проценты могут быть от 0 до 100), то желательно масштабировать ось на весь диапазон значений (исключением является случай, когда вам необходимо показать малое отличие, которое незаметно в таких масштабах).\n",
        "- сетка на графике помогает оценить значения в точках на глаз, это обычно полезно, поэтому лучше ее отрисовывать."
      ]
    },
    {
      "cell_type": "code",
      "metadata": {
        "id": "jcOt6W9LkNql",
        "colab_type": "code",
        "colab": {}
      },
      "source": [
        "%matplotlib inline  \n",
        "import matplotlib.pyplot as plt"
      ],
      "execution_count": 0,
      "outputs": []
    },
    {
      "cell_type": "markdown",
      "metadata": {
        "id": "qzzRbDCgkNqo",
        "colab_type": "text"
      },
      "source": [
        "На самом деле мы уже импортировали matplotlib внутри %pylab inline в начале задания.\n",
        "\n",
        "Работать мы будем с той же выборкой покупкок. Добавим новую колонку с датой покупки."
      ]
    },
    {
      "cell_type": "code",
      "metadata": {
        "id": "TeIOWyLHkNqp",
        "colab_type": "code",
        "colab": {}
      },
      "source": [
        "import datetime\n",
        "\n",
        "start = datetime.datetime(2018, 1, 1)\n",
        "end = datetime.datetime(2018, 1, 31)\n",
        "delta_seconds = int((end - start).total_seconds())\n",
        "\n",
        "dates = pd.DataFrame(index=df.index.unique())\n",
        "dates['date'] = [\n",
        "    (start + datetime.timedelta(seconds=random.randint(0, delta_seconds))).strftime('%Y-%m-%d')\n",
        "    for _ in range(df.index.nunique())]\n",
        "\n",
        "# если DataFrame с покупками из прошлого заказа называется не df, замените на ваше название ниже\n",
        "df['date'] = dates['date']"
      ],
      "execution_count": 0,
      "outputs": []
    },
    {
      "cell_type": "markdown",
      "metadata": {
        "id": "eMypKvDXkNqr",
        "colab_type": "text"
      },
      "source": [
        "#### 1. [1 балл] Постройте гистограмму распределения сумм покупок и гистограмму средних цен отдельных видов продуктов item_name. \n",
        "\n",
        "Изображайте на двух соседних графиках. Для этого может быть полезен subplot."
      ]
    },
    {
      "cell_type": "code",
      "metadata": {
        "id": "NvxAHREjkNqs",
        "colab_type": "code",
        "colab": {},
        "outputId": "4164cb19-ea16-44a7-a500-f160b043c42e"
      },
      "source": [
        "df.head()"
      ],
      "execution_count": 0,
      "outputs": [
        {
          "output_type": "execute_result",
          "data": {
            "text/html": [
              "<div>\n",
              "<style>\n",
              "    .dataframe thead tr:only-child th {\n",
              "        text-align: right;\n",
              "    }\n",
              "\n",
              "    .dataframe thead th {\n",
              "        text-align: left;\n",
              "    }\n",
              "\n",
              "    .dataframe tbody tr th {\n",
              "        vertical-align: top;\n",
              "    }\n",
              "</style>\n",
              "<table border=\"1\" class=\"dataframe\">\n",
              "  <thead>\n",
              "    <tr style=\"text-align: right;\">\n",
              "      <th></th>\n",
              "      <th>quantity</th>\n",
              "      <th>item_name</th>\n",
              "      <th>choice_description</th>\n",
              "      <th>new_item_price</th>\n",
              "      <th>single_price</th>\n",
              "      <th>date</th>\n",
              "    </tr>\n",
              "    <tr>\n",
              "      <th>order_id</th>\n",
              "      <th></th>\n",
              "      <th></th>\n",
              "      <th></th>\n",
              "      <th></th>\n",
              "      <th></th>\n",
              "      <th></th>\n",
              "    </tr>\n",
              "  </thead>\n",
              "  <tbody>\n",
              "    <tr>\n",
              "      <th>1</th>\n",
              "      <td>1</td>\n",
              "      <td>Chips and Fresh Tomato Salsa</td>\n",
              "      <td></td>\n",
              "      <td>2.39</td>\n",
              "      <td>2.39</td>\n",
              "      <td>2018-01-06</td>\n",
              "    </tr>\n",
              "    <tr>\n",
              "      <th>1</th>\n",
              "      <td>1</td>\n",
              "      <td>Izze</td>\n",
              "      <td>[Clementine]</td>\n",
              "      <td>3.39</td>\n",
              "      <td>3.39</td>\n",
              "      <td>2018-01-06</td>\n",
              "    </tr>\n",
              "    <tr>\n",
              "      <th>1</th>\n",
              "      <td>1</td>\n",
              "      <td>Nantucket Nectar</td>\n",
              "      <td>[Apple]</td>\n",
              "      <td>3.39</td>\n",
              "      <td>3.39</td>\n",
              "      <td>2018-01-06</td>\n",
              "    </tr>\n",
              "    <tr>\n",
              "      <th>1</th>\n",
              "      <td>1</td>\n",
              "      <td>Chips and Tomatillo-Green Chili Salsa</td>\n",
              "      <td></td>\n",
              "      <td>2.39</td>\n",
              "      <td>2.39</td>\n",
              "      <td>2018-01-06</td>\n",
              "    </tr>\n",
              "    <tr>\n",
              "      <th>2</th>\n",
              "      <td>2</td>\n",
              "      <td>Chicken Bowl</td>\n",
              "      <td>[Tomatillo-Red Chili Salsa (Hot), [Black Beans...</td>\n",
              "      <td>16.98</td>\n",
              "      <td>8.49</td>\n",
              "      <td>2018-01-15</td>\n",
              "    </tr>\n",
              "  </tbody>\n",
              "</table>\n",
              "</div>"
            ],
            "text/plain": [
              "          quantity                              item_name  \\\n",
              "order_id                                                    \n",
              "1                1           Chips and Fresh Tomato Salsa   \n",
              "1                1                                   Izze   \n",
              "1                1                       Nantucket Nectar   \n",
              "1                1  Chips and Tomatillo-Green Chili Salsa   \n",
              "2                2                           Chicken Bowl   \n",
              "\n",
              "                                         choice_description  new_item_price  \\\n",
              "order_id                                                                      \n",
              "1                                                                      2.39   \n",
              "1                                              [Clementine]            3.39   \n",
              "1                                                   [Apple]            3.39   \n",
              "1                                                                      2.39   \n",
              "2         [Tomatillo-Red Chili Salsa (Hot), [Black Beans...           16.98   \n",
              "\n",
              "          single_price        date  \n",
              "order_id                            \n",
              "1                 2.39  2018-01-06  \n",
              "1                 3.39  2018-01-06  \n",
              "1                 3.39  2018-01-06  \n",
              "1                 2.39  2018-01-06  \n",
              "2                 8.49  2018-01-15  "
            ]
          },
          "metadata": {
            "tags": []
          },
          "execution_count": 310
        }
      ]
    },
    {
      "cell_type": "markdown",
      "metadata": {
        "id": "KeDygZAskNqw",
        "colab_type": "text"
      },
      "source": [
        "#### 2. [1 балл] Постройте график зависимости суммы покупок от дней."
      ]
    },
    {
      "cell_type": "code",
      "metadata": {
        "id": "e9NyE7_7kNqx",
        "colab_type": "code",
        "colab": {},
        "outputId": "89387e4d-782f-4fd3-d12e-b4a7d3a77065"
      },
      "source": [
        "import matplotlib.dates as mdates\n",
        "\n",
        "\n",
        "ts = df.groupby('date').sum()['new_item_price']\n",
        "ts.index = pd.to_datetime(ts.index)\n",
        "\n",
        "fig, ax = plt.subplots(1, 1, figsize=(20, 10))\n",
        "\n",
        "days = mdates.DayLocator(interval=1) \n",
        "fmt = mdates.DateFormatter('%d-%m')\n",
        "\n",
        "ax.xaxis.set_major_formatter(fmt)\n",
        "ax.xaxis.set_major_locator(days)\n",
        "\n",
        "ax.plot(ts, label='sum')\n",
        "\n",
        "ax.set_xlabel('x date')\n",
        "ax.set_ylabel('y sum')\n",
        "ax.set_title(\"sum per day\")\n",
        "ax.legend()"
      ],
      "execution_count": 0,
      "outputs": [
        {
          "output_type": "execute_result",
          "data": {
            "text/plain": [
              "<matplotlib.legend.Legend at 0x11b2da860>"
            ]
          },
          "metadata": {
            "tags": []
          },
          "execution_count": 397
        },
        {
          "output_type": "display_data",
          "data": {
            "image/png": "[encoded data removed]",
            "text/plain": [
              "<matplotlib.figure.Figure at 0x11b1e0a58>"
            ]
          },
          "metadata": {
            "tags": []
          }
        }
      ]
    },
    {
      "cell_type": "markdown",
      "metadata": {
        "id": "U46v_cQ_kNq0",
        "colab_type": "text"
      },
      "source": [
        "#### 3. [1 балл] Постройте средних сумм покупок по дням недели (bar plot)."
      ]
    },
    {
      "cell_type": "code",
      "metadata": {
        "id": "zIKqE1OhkNq1",
        "colab_type": "code",
        "colab": {},
        "outputId": "5a8ef2c0-6f9f-46a0-cd63-57015cf36b9a"
      },
      "source": [
        "week_df = df.groupby(df.date.dt.weekday_name).mean()['new_item_price']\n",
        "wdf = pd.DataFrame(week_df)\n",
        "wdf.plot.bar(rot=0)\n",
        "\n",
        "# df['date'] = pd.to_datetime(df['date'])"
      ],
      "execution_count": 0,
      "outputs": [
        {
          "output_type": "execute_result",
          "data": {
            "text/plain": [
              "<matplotlib.axes._subplots.AxesSubplot at 0x11b987978>"
            ]
          },
          "metadata": {
            "tags": []
          },
          "execution_count": 433
        },
        {
          "output_type": "display_data",
          "data": {
            "image/png": "[encoded data removed]",
            "text/plain": [
              "<matplotlib.figure.Figure at 0x11b996a20>"
            ]
          },
          "metadata": {
            "tags": []
          }
        }
      ]
    },
    {
      "cell_type": "markdown",
      "metadata": {
        "id": "pBGhaNsGkNq5",
        "colab_type": "text"
      },
      "source": [
        "#### 4. [1 балл] Постройте график зависимости денег за товар от купленного количества (scatter plot)."
      ]
    },
    {
      "cell_type": "code",
      "metadata": {
        "id": "vGDaqi11kNq6",
        "colab_type": "code",
        "colab": {},
        "outputId": "4953ec03-ca35-4152-e11c-3fd397597565"
      },
      "source": [
        "fig, ax = plt.subplots(1, 1, figsize=(20, 10))\n",
        "\n",
        "plt.scatter(df['quantity'], df['single_price'], alpha=0.5)\n",
        "plt.title('Scatter plot quantity / single_price')\n",
        "plt.xlabel('quantity')\n",
        "plt.ylabel('single_price')"
      ],
      "execution_count": 0,
      "outputs": [
        {
          "output_type": "execute_result",
          "data": {
            "text/plain": [
              "Text(0,0.5,'single_price')"
            ]
          },
          "metadata": {
            "tags": []
          },
          "execution_count": 439
        },
        {
          "output_type": "display_data",
          "data": {
            "image/png": "[encoded data removed]",
            "text/plain": [
              "<matplotlib.figure.Figure at 0x119a3c048>"
            ]
          },
          "metadata": {
            "tags": []
          }
        }
      ]
    },
    {
      "cell_type": "markdown",
      "metadata": {
        "id": "6r1Mmm3XkNrA",
        "colab_type": "text"
      },
      "source": [
        "Сохраните график в формате pdf (так он останется векторизованным)."
      ]
    },
    {
      "cell_type": "code",
      "metadata": {
        "collapsed": true,
        "id": "pLA5B7LWkNrB",
        "colab_type": "code",
        "colab": {}
      },
      "source": [
        "from matplotlib.backends.backend_pdf import PdfPages\n",
        "\n",
        "pp = PdfPages('foo.pdf')\n",
        "pp.savefig(fig)\n",
        "pp.close()"
      ],
      "execution_count": 0,
      "outputs": []
    },
    {
      "cell_type": "markdown",
      "metadata": {
        "id": "V21A70qUkNrG",
        "colab_type": "text"
      },
      "source": [
        "Еще одна билиотека для визуализации: [seaborn](https://jakevdp.github.io/PythonDataScienceHandbook/04.14-visualization-with-seaborn.html). Это настройка над matplotlib, иногда удобнее и красивее делать визуализации через неё. "
      ]
    }
  ]
}
{
 "cells": [
  {
   "cell_type": "markdown",
   "metadata": {},
   "source": [
    "# задача 1\n",
    "Если мы перечислим все натуральные числа ниже 10, кратные 3 или 5, мы получим 3, 5, 6 и 9. Сумма этих кратных чисел равна 23.\n",
    "Найти сумму всех кратных 3 или 5 меньше 1000.\n"
   ]
  },
  {
   "cell_type": "code",
   "execution_count": 2,
   "metadata": {},
   "outputs": [
    {
     "name": "stdout",
     "output_type": "stream",
     "text": [
      "Сумма: 233168\n"
     ]
    }
   ],
   "source": [
    "summ = 0\n",
    "for i in range (1000):\n",
    "    if i % 3 == 0:\n",
    "        summ += i\n",
    "    elif i % 5 == 0:\n",
    "        summ += i\n",
    "print(\"Сумма:\", summ)"
   ]
  },
  {
   "cell_type": "markdown",
   "metadata": {},
   "source": [
    "# задача 2\n",
    "Каждый новый член в последовательности Фибоначчи генерируется путем добавления двух предыдущих членов. \n",
    "Начиная с 1 и 2, первые 10 слагаемых будут:\n",
    "1, 2, 3, 5, 8, 13, 21, 34, 55, 89, …\n",
    "Рассматривая члены в последовательности Фибоначчи, значения которых не превышают четырех миллионов, найдите сумму четных членов.\n"
   ]
  },
  {
   "cell_type": "code",
   "execution_count": 8,
   "metadata": {},
   "outputs": [
    {
     "name": "stdout",
     "output_type": "stream",
     "text": [
      "[1, 2, 3, 5, 8, 13, 21, 34, 55, 89, 144, 233, 377, 610, 987, 1597, 2584, 4181, 6765, 10946, 17711, 28657, 46368, 75025, 121393, 196418, 317811, 514229, 832040, 1346269, 2178309, 3524578]\n",
      "Summ: 4613732\n"
     ]
    }
   ],
   "source": [
    "summ = 2\n",
    "prev = 2\n",
    "prev_prev = 1\n",
    "fib = [1, 2]\n",
    "while summ < 4_000_000:\n",
    "    next_fib = prev + prev_prev\n",
    "    fib.append(next_fib)\n",
    "    prev_prev = prev\n",
    "    prev = next_fib\n",
    "    summ += next_fib if next_fib % 2 == 0 else 0\n",
    "print(fib)\n",
    "print(\"Summ:\", summ)"
   ]
  },
  {
   "cell_type": "markdown",
   "metadata": {},
   "source": [
    "# задача 3\n",
    "Посчитать факториал числа 155, не применяя библиотечные функции."
   ]
  },
  {
   "cell_type": "code",
   "execution_count": 1,
   "metadata": {},
   "outputs": [
    {
     "name": "stdout",
     "output_type": "stream",
     "text": [
      "Factorial 4789142901463393876335775239063022722176295591337767174070096339929153381622433264146569329274347655956110484372311586936020749175429076661003216274382475477806479918110524333880196139452687559896255940215628508414806740389616633144934400000000000000000000000000000000000000\n"
     ]
    }
   ],
   "source": [
    "n = 155\n",
    "factorial = 1\n",
    "if n == 0:\n",
    "    factorial = 1\n",
    "else:\n",
    "    for i in range(1, n + 1):\n",
    "        factorial *= i\n",
    "print(\"Factorial\", factorial)"
   ]
  },
  {
   "cell_type": "code",
   "execution_count": 23,
   "metadata": {},
   "outputs": [
    {
     "name": "stdout",
     "output_type": "stream",
     "text": [
      "Factorial 120\n"
     ]
    }
   ],
   "source": [
    "import math\n",
    "print(\"Factorial\", math.factorial(n))"
   ]
  },
  {
   "cell_type": "markdown",
   "metadata": {},
   "source": [
    "# задача 4\n",
    "Пользователь делает вклад в размере 155 899 рублей сроком на 16 лет под 8,56% годовых(каждый год размер его вклада увеличивается на %. Эти деньги прибавляются к сумме вклада, и на них в следующем году тоже будут проценты).\n",
    "Какая сумма будет на счету клиента через 5, 8, 12, 16 лет?\n"
   ]
  },
  {
   "cell_type": "code",
   "execution_count": 27,
   "metadata": {},
   "outputs": [
    {
     "name": "stdout",
     "output_type": "stream",
     "text": [
      "Money after 5 years = 235067.4535564665 рублей\n",
      "Money after 8 years = 300747.4866813573 рублей\n",
      "Money after 12 years = 417716.2257188077 рублей\n",
      "Money after 16 years = 580177.2349094811 рублей\n"
     ]
    }
   ],
   "source": [
    "money = 155899\n",
    "years = [5,8,12,16]\n",
    "percent = 8.56\n",
    "\n",
    "for i in range(1,17):\n",
    "    money = money + (percent * money / 100)\n",
    "    if i in years:\n",
    "        print(\"Money after {} years = {} рублей\".format(i, money))"
   ]
  },
  {
   "cell_type": "markdown",
   "metadata": {},
   "source": [
    "# задача 5\n",
    "Вы покупаете автомобиль за 850 тыс. рублей. Ваш первоначальный взнос составляет 400 тыс. рублей. Остаток суммы вы хотите взять в кредит от Хоум Кредит Банка под 10.9%. Рассчитайте переплату по кредиту, если кредит будет оформлен на 5 лет. Для расчета платежа используйте формулу расчета аннуитетного платежа."
   ]
  },
  {
   "cell_type": "code",
   "execution_count": 49,
   "metadata": {},
   "outputs": [
    {
     "name": "stdout",
     "output_type": "stream",
     "text": [
      "Credit 450000\n",
      "Month percent = 0.009083333333333334\n",
      "Antuitet coef = 0.021692585429076348\n",
      "Payment = 9761.663443084357\n",
      "Overpay = 135699.80658506136\n",
      "If percent = 10.9 than real payment = 8317.5 and real overpay = 49050.0\n",
      "If overpay = 135700 than real percent = 30.15551257445808\n"
     ]
    }
   ],
   "source": [
    "cost = 850000\n",
    "your_money = 400000\n",
    "percent = 10.9\n",
    "period = 5\n",
    "\n",
    "\n",
    "\n",
    "credit = cost - your_money\n",
    "print(\"Credit\", credit)\n",
    "\n",
    "month_percent = percent / 12 / 100\n",
    "print(\"Month percent =\", month_percent)\n",
    "\n",
    "antuitet_coef = month_percent * (1 + month_percent) ** (period * 12) / ((1 + month_percent) ** (period * 12) - 1)\n",
    "print(\"Antuitet coef =\", antuitet_coef)\n",
    "\n",
    "payment = credit * antuitet_coef\n",
    "print(\"Payment =\", payment)\n",
    "\n",
    "overpay = payment * period * 12 - credit\n",
    "\n",
    "print(\"Overpay =\", overpay)\n",
    "\n",
    "\n",
    "real_payment = (credit + (percent * credit / 100)) / (period * 12)\n",
    "real_overpay = (percent * credit / 100)\n",
    "\n",
    "print(f\"If percent = {percent} than real payment = {real_payment} and real overpay = {real_overpay}\")\n",
    "print(f\"If overpay = {round(overpay)} than real percent = {overpay * 100 / credit}\")\n"
   ]
  },
  {
   "cell_type": "code",
   "execution_count": null,
   "metadata": {},
   "outputs": [],
   "source": []
  }
 ],
 "metadata": {
  "kernelspec": {
   "display_name": "Python 3",
   "language": "python",
   "name": "python3"
  },
  "language_info": {
   "codemirror_mode": {
    "name": "ipython",
    "version": 3
   },
   "file_extension": ".py",
   "mimetype": "text/x-python",
   "name": "python",
   "nbconvert_exporter": "python",
   "pygments_lexer": "ipython3",
   "version": "3.7.1"
  }
 },
 "nbformat": 4,
 "nbformat_minor": 2
}

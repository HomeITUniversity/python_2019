{
 "cells": [
  {
   "cell_type": "markdown",
   "metadata": {},
   "source": [
    "# Задача 1\n",
    "\n",
    "Дан список сотрудников банка. \n",
    "names = [«Иван», «Марина», «Виталий», «Александр»]\n",
    "lastnames = [«Салтыков», «Иванова», «Жученко», «Петров»]\n",
    "middlenames = [«Романович», «Ивановна», «Даниилович», «Евгеньевич»]\n",
    "ages = [24, 25, 30, 28]\n",
    "Нужно составить словарь, в котором ключом будет ФИО, а значением возраст.\n"
   ]
  },
  {
   "cell_type": "code",
   "execution_count": 2,
   "metadata": {},
   "outputs": [
    {
     "name": "stdout",
     "output_type": "stream",
     "text": [
      "OK\n"
     ]
    }
   ],
   "source": [
    "names = ['Иван', 'Марина', 'Виталий', 'Александр']\n",
    "lastnames = ['Салтыков', 'Иванова', 'Жученко', 'Петров']\n",
    "middlenames = ['Романович', 'Ивановна', 'Даниилович', 'Евгеньевич']\n",
    "ages = [24, 25, 30, 28]\n",
    "result_dict = {}\n",
    "\n",
    "# ваш код тут\n",
    "for l, n, m, a in zip(lastnames, names, middlenames, ages):\n",
    "    result_dict[\" \".join([l,n,m])] = a\n",
    "\n",
    "true_result_dict = {\n",
    "    'Салтыков Иван Романович': 24, \n",
    "    'Иванова Марина Ивановна': 25, \n",
    "    'Жученко Виталий Даниилович': 30, \n",
    "    'Петров Александр Евгеньевич': 28\n",
    "}\n",
    "assert result_dict == true_result_dict\n",
    "print(\"OK\")\n",
    "\n",
    "#если воникает эта ошибка \"AssertionError\" значит вы решили не верно, \n",
    "#иначе вы решили все верно"
   ]
  },
  {
   "cell_type": "markdown",
   "metadata": {},
   "source": [
    "# Задача 2\n",
    "Дан текст. Найти частоту встречания символов в тексте и оформить это как словарь. Где символ – ключ, частота встречания – значения. Спец. Символы исключить."
   ]
  },
  {
   "cell_type": "code",
   "execution_count": 7,
   "metadata": {},
   "outputs": [
    {
     "name": "stdout",
     "output_type": "stream",
     "text": [
      "{'а': 25, 'и': 20, 'з': 6, 'г': 4, 'о': 21, 'р': 11, 'д': 7, 'у': 8, 'ж': 4, 'е': 24, 'в': 10, 'ы': 11, 'с': 14, 'т': 11, 'п': 11, 'л': 13, 'н': 15, 'я': 9, 'ь': 4, 'к': 6, 'й': 1, 'м': 11, 'б': 4, 'ч': 2, 'ц': 3, 'щ': 2, 'х': 2}\n",
      "{'а': 25, 'и': 20, 'з': 6, 'г': 4, 'о': 21, 'р': 11, 'д': 7, 'у': 8, 'ж': 4, 'е': 24, 'в': 10, 'ы': 11, 'с': 14, 'т': 11, 'п': 11, 'л': 13, 'н': 15, 'я': 9, 'ь': 4, 'к': 6, 'й': 1, 'м': 11, 'б': 4, 'ч': 2, 'ц': 3, 'щ': 2, 'х': 2}\n",
      "OK\n"
     ]
    }
   ],
   "source": [
    "s = \"А из города уже выступало неприятельское войско, гремя в литавры и трубы. Подбоченясь, выезжали паны, окруженные несметными слугами. И стали они наступать тесно на казацкие таборы, грозя, нацеливаясь пищалями, сверкая очами и блеща медными доспехами. Дымом затянуло все поле, а запорожцы все палили, не переводя дух.\"\n",
    "result_dict = {}\n",
    "\n",
    "# ваш код тут\n",
    "s = \"\".join(s.replace(\".\", \"\").replace(\",\", \"\").lower().split())\n",
    "\n",
    "for char in s:\n",
    "    if result_dict.get(char, False) is False:\n",
    "        result_dict[char] = s.count(char) \n",
    "\n",
    "true_result_dict = {'а': 25, 'и': 20, 'з': 6, 'г': 4, 'о': 21, 'р': 11, 'д': 7, 'у': 8, 'ж': 4, 'е': 24, 'в': 10, 'ы': 11, 'с': 14, 'т': 11, 'п': 11, 'л': 13, 'н': 15, 'я': 9, 'ь': 4, 'к': 6, 'й': 1, 'м': 11, 'б': 4, 'ч': 2, 'ц': 3, 'щ': 2, 'х': 2}\n",
    "print(result_dict)\n",
    "print(true_result_dict)\n",
    "\n",
    "assert result_dict == true_result_dict\n",
    "print(\"OK\")"
   ]
  },
  {
   "cell_type": "markdown",
   "metadata": {},
   "source": [
    "# Задача 3\n",
    "Составить словарь из двух ключей \"unique\", \"nonunique\". В первый ключ положить список уникальных слов, во второй не уникальных. "
   ]
  },
  {
   "cell_type": "code",
   "execution_count": 20,
   "metadata": {},
   "outputs": [
    {
     "name": "stdout",
     "output_type": "stream",
     "text": [
      "{'unique': ['которое', 'детстве', 'постоянно', 'слышал', 'от', 'моей', 'мамы', 'мама', 'произносила', 'нежно', 'серьезно', 'словно', 'обозначало', 'что-то', 'столь', 'важное', 'неотъемлемое', 'любил', 'из-за', 'этого', 'делал', 'все', 'чтоб', 'услышать', 'как', 'чаще', 'вырос', 'понял', 'что', 'представляет', 'из', 'себя', 'чего-то', 'сверхъестественного', 'обозначает', 'какое-то', 'божество', 'произнести', 'по', 'разному', 'обычное', 'но', 'то', 'же', 'время', 'сильное', 'спасибо'], 'nonunique': ['это', 'слово', 'я', 'в', 'так', 'и', 'оно', 'его', 'можно', 'не', 'самое']}\n",
      "OK\n"
     ]
    }
   ],
   "source": [
    "s = \"\"\"Это слово, которое я в детстве постоянно слышал от моей мамы.\n",
    "Мама произносила это слово так нежно и так серьезно, словно оно обозначало что-то столь важное, неотъемлемое.\n",
    "Я любил это слово, из-за этого я делал все, чтоб его услышать как можно чаще.\n",
    "Я вырос. Я понял, что это слово не представляет из себя чего-то сверхъестественного, не обозначает оно какое-то божество и произнести его можно по разному.\n",
    "Это слово самое обычное... но в то же время самое сильное.\n",
    "Это слово - Спасибо.\"\"\"\n",
    "result_dict = {\n",
    "    'unique': [],\n",
    "    'nonunique': [],\n",
    "}\n",
    "\n",
    "import string\n",
    "\n",
    "# ваш код тут\n",
    "def cnt(letter, lst):\n",
    "    count = 0\n",
    "    for l in lst:\n",
    "        if l == letter:\n",
    "            count += 1\n",
    "    return count\n",
    "\n",
    "s1 = s.replace(\".\",\"\").replace(\",\",\"\").lower().split()\n",
    "\n",
    "for letter in s1:\n",
    "    #print(letter)\n",
    "    if letter not in string.punctuation:\n",
    "        if cnt(letter, s1) > 1:\n",
    "            if letter not in result_dict['nonunique']:\n",
    "                result_dict['nonunique'].append(letter)\n",
    "        else:\n",
    "            if letter not in result_dict['unique']:\n",
    "                result_dict['unique'].append(letter)\n",
    "\n",
    "print(result_dict)\n",
    "                \n",
    "true_result_dict = {\n",
    "    'unique': ['которое', 'детстве', 'постоянно', 'слышал', 'от', 'моей', 'мамы', 'мама', 'произносила', 'нежно', 'серьезно', 'словно', 'обозначало', 'что-то', 'столь', 'важное', 'неотъемлемое', 'любил', 'из-за', 'этого', 'делал', 'все', 'чтоб', 'услышать', 'как', 'чаще', 'вырос', 'понял', 'что', 'представляет', 'из', 'себя', 'чего-то', 'сверхъестественного', 'обозначает', 'какое-то', 'божество', 'произнести', 'по', 'разному', 'обычное', 'но', 'то', 'же', 'время', 'сильное', 'спасибо'], \n",
    "    'nonunique': ['это', 'слово', 'я', 'в', 'так', 'и', 'оно', 'его', 'можно', 'не', 'самое']\n",
    "}\n",
    "assert result_dict == true_result_dict\n",
    "print(\"OK\")"
   ]
  },
  {
   "cell_type": "code",
   "execution_count": 27,
   "metadata": {},
   "outputs": [
    {
     "name": "stdout",
     "output_type": "stream",
     "text": [
      "OK\n"
     ]
    }
   ],
   "source": [
    "from collections import Counter\n",
    "import string\n",
    "s = \"\"\"Это слово, которое я в детстве постоянно слышал от моей мамы.\n",
    "Мама произносила это слово так нежно и так серьезно, словно оно обозначало что-то столь важное, неотъемлемое.\n",
    "Я любил это слово, из-за этого я делал все, чтоб его услышать как можно чаще.\n",
    "Я вырос. Я понял, что это слово не представляет из себя чего-то сверхъестественного, не обозначает оно какое-то божество и произнести его можно по разному.\n",
    "Это слово самое обычное... но в то же время самое сильное.\n",
    "Это слово - Спасибо.\"\"\"\n",
    "s1 = s.replace(\".\",\"\").replace(\",\",\"\").lower().split()\n",
    "\n",
    "result_dict = {\n",
    "    'unique': [],\n",
    "    'nonunique': [],\n",
    "}\n",
    "\n",
    "cntr = Counter(s1)\n",
    "for k, v in cntr.items():\n",
    "    if k not in string.punctuation:\n",
    "        if v > 1:\n",
    "            result_dict['nonunique'].append(k)\n",
    "        else:\n",
    "            result_dict['unique'].append(k)\n",
    "\n",
    "true_result_dict = {\n",
    "    'unique': ['которое', 'детстве', 'постоянно', 'слышал', 'от', 'моей', 'мамы', 'мама', 'произносила', 'нежно', 'серьезно', 'словно', 'обозначало', 'что-то', 'столь', 'важное', 'неотъемлемое', 'любил', 'из-за', 'этого', 'делал', 'все', 'чтоб', 'услышать', 'как', 'чаще', 'вырос', 'понял', 'что', 'представляет', 'из', 'себя', 'чего-то', 'сверхъестественного', 'обозначает', 'какое-то', 'божество', 'произнести', 'по', 'разному', 'обычное', 'но', 'то', 'же', 'время', 'сильное', 'спасибо'], \n",
    "    'nonunique': ['это', 'слово', 'я', 'в', 'так', 'и', 'оно', 'его', 'можно', 'не', 'самое']\n",
    "}\n",
    "\n",
    "assert result_dict == true_result_dict\n",
    "print(\"OK\")"
   ]
  },
  {
   "cell_type": "markdown",
   "metadata": {},
   "source": [
    "# Задача 4\n",
    "\n",
    "Маша и Аня работают в отделе продаж нашего банка и продают Кредиты наличными. <br>\n",
    "Оформленные ими кредиты представлены в соответствующих словарях (сумма кредита, ставка, срок в годах)<br>\n",
    "Среди клиентов Маши и Ани найти клиентов и вывести на экран, у которых:<br>\n",
    "•\tСовпадает ставка<br>\n",
    "•\tСовпадает сумма кредита<br>\n",
    "•\tСовпадает срок выплаты<br>\n",
    "•\tНе совпадает сумма, но совпадает срок выплаты<br>\n",
    "•\tСовпадает процентная ставка, но не совпадает сумма кредита.<br>\n",
    "Условие может, как выполниться, так и не выполниться (такое пересечение может быть пустым)<br>\n"
   ]
  },
  {
   "cell_type": "code",
   "execution_count": 60,
   "metadata": {},
   "outputs": [
    {
     "name": "stdout",
     "output_type": "stream",
     "text": [
      "credit: \n",
      "35000: ['Жученко Виталий', 'Трененков Виталий']\n",
      "100000: ['Петров Александр', 'Самоваров Павел']\n",
      "330000: ['Полено Елена', 'Чайкина Наталья']\n",
      "\n",
      "percent: \n",
      "20.8: ['Иванова Марина', 'Антонов Юрий']\n",
      "27.9: ['Петров Александр', 'Самоваров Павел']\n",
      "55.2: ['Краснов Антон', 'Букин Геннадий']\n",
      "4.0: ['Полено Елена', 'Антонина Антонина']\n",
      "\n",
      "period: \n",
      "3: ['Салтыков Иван', 'Чайкина Наталья']\n",
      "5: ['Иванова Марина', 'Антонина Антонина']\n",
      "2: ['Жученко Виталий', 'Самоваров Павел', 'Колованов Ярослав']\n",
      "1: ['Краснов Антон', 'Трененков Виталий']\n",
      "\n",
      "no_credit_yes_period: \n",
      "3: ['Салтыков Иван', 'Чайкина Наталья']\n",
      "5: ['Иванова Марина', 'Антонина Антонина']\n",
      "2: ['Жученко Виталий', 'Самоваров Павел', 'Колованов Ярослав']\n",
      "1: ['Краснов Антон', 'Трененков Виталий']\n",
      "\n",
      "no_credit_yes_percent: \n",
      "20.8: ['Иванова Марина', 'Антонов Юрий']\n",
      "55.2: ['Краснов Антон', 'Букин Геннадий']\n",
      "4.0: ['Полено Елена', 'Антонина Антонина']\n",
      "\n"
     ]
    },
    {
     "data": {
      "text/plain": [
       "[None, None, None, None, None]"
      ]
     },
     "execution_count": 60,
     "metadata": {},
     "output_type": "execute_result"
    }
   ],
   "source": [
    "masha_credits = {\n",
    "        'Салтыков Иван': {\n",
    "        'credit': 80000,\n",
    "        'percent': 22.5,\n",
    "        'period': 3\n",
    "    },\n",
    "        'Иванова Марина': {\n",
    "        'credit': 240000,\n",
    "        'percent': 20.8,\n",
    "        'period': 5\n",
    "    },\n",
    "        'Жученко Виталий': {\n",
    "        'credit': 35000,\n",
    "        'percent': 19.4,\n",
    "        'period': 2\n",
    "    },\n",
    "        'Петров Александр': {\n",
    "        'credit': 100000,\n",
    "        'percent': 27.9,\n",
    "        'period': 3\n",
    "    },\n",
    "        'Краснов Антон': {\n",
    "        'credit': 10000,\n",
    "        'percent': 55.2,\n",
    "        'period': 1\n",
    "    },\n",
    "        'Полено Елена': {\n",
    "        'credit': 330000,\n",
    "        'percent': 4.0,\n",
    "        'period': 1\n",
    "    },\n",
    "}\n",
    "\n",
    "ann_credits = {\n",
    "        'Букин Геннадий': {\n",
    "        'credit': 1000,\n",
    "        'percent': 55.2,\n",
    "        'period': 20\n",
    "    },\n",
    "        'Антонов Юрий': {\n",
    "        'credit': 20000,\n",
    "        'percent': 20.8,\n",
    "        'period': 4\n",
    "    },\n",
    "        'Трененков Виталий': {\n",
    "        'credit': 35000,\n",
    "        'percent': 20.1,\n",
    "        'period': 1\n",
    "    },\n",
    "        'Самоваров Павел': {\n",
    "        'credit': 100000,\n",
    "        'percent': 27.9,\n",
    "        'period': 2\n",
    "    },\n",
    "        'Самсонов Владимир': {\n",
    "        'credit': 76000,\n",
    "        'percent': 11.9,\n",
    "        'period': 4\n",
    "    },\n",
    "        'Антонина Антонина': {\n",
    "        'credit': 1100000,\n",
    "        'percent': 4.0,\n",
    "        'period': 5\n",
    "    },\n",
    "        'Колованов Ярослав': {\n",
    "        'credit': 25000,\n",
    "        'percent': 22.2,\n",
    "        'period': 2\n",
    "    },\n",
    "        'Чайкина Наталья': {\n",
    "        'credit': 330000,\n",
    "        'percent': 18.9,\n",
    "        'period': 3\n",
    "    },\n",
    "}\n",
    "\n",
    "# ваше решение тут\n",
    "\n",
    "matches = {\n",
    "    'credit': {},\n",
    "    'percent': {},\n",
    "    'period': {},\n",
    "    'no_credit_yes_period': {},\n",
    "    'no_credit_yes_percent': {},\n",
    "}\n",
    "\n",
    "for m_names, m_values in masha_credits.items():\n",
    "    for ann_names, ann_values in ann_credits.items():\n",
    "        \n",
    "        for match in ['credit', 'percent', 'period']:\n",
    "            if m_values[match] == ann_values[match]:\n",
    "                if matches[match].get(m_values[match], False) is False:\n",
    "                    matches[match][m_values[match]] = [m_names, ann_names]\n",
    "                else:\n",
    "                    if ann_names not in matches[match][m_values[match]]:\n",
    "                        matches[match][m_values[match]].append(ann_names)\n",
    "        \n",
    "        for fm, match in zip(['period', 'percent'], ['no_credit_yes_period', 'no_credit_yes_percent']):\n",
    "            if m_values[fm] == ann_values[fm] and m_values['credit'] != ann_values['credit']:\n",
    "                \n",
    "                if matches[match].get(m_values[fm], False) is False:\n",
    "                    matches[match][m_values[fm]] = [m_names, ann_names]\n",
    "                else:\n",
    "                    if ann_names not in matches[match][m_values[fm]]:\n",
    "                        matches[match][m_values[fm]].append(ann_names)\n",
    "#print(matches)\n",
    "[print(\"{}: {}\\n\".format(k,\"\".join([\"\\n{}: {}\".format(k1, v1) for k1,v1 in v.items()]))) for k,v in matches.items()]\n",
    "\n"
   ]
  },
  {
   "cell_type": "markdown",
   "metadata": {},
   "source": [
    "# Задача 5\n",
    "Суть задачи в том, чтобы из англо-латинского словаря сделать латино-английский.\n",
    "\n",
    "Входные данные:<br>\n",
    "apple - malum, pomum, popula<br>\n",
    "fruit - baca, bacca, popum<br>\n",
    "punishment - malum, multa<br>\n",
    "\n",
    "Выходные данные:<br>\n",
    "baca - fruit<br>\n",
    "bacca - fruit<br>\n",
    "malum - apple, punishment<br>\n",
    "multa - punishment<br>\n",
    "pomum - apple<br>\n",
    "popula - apple<br>\n",
    "popum - fruit<br>"
   ]
  },
  {
   "cell_type": "code",
   "execution_count": 38,
   "metadata": {},
   "outputs": [
    {
     "name": "stdout",
     "output_type": "stream",
     "text": [
      "malum: ['apple', 'punishment']\n",
      "pomum: ['apple']\n",
      "popula: ['apple']\n",
      "baca: ['fruit']\n",
      "bacca: ['fruit']\n",
      "popum: ['fruit']\n",
      "multa: ['punishment']\n"
     ]
    },
    {
     "data": {
      "text/plain": [
       "[None, None, None, None, None, None, None]"
      ]
     },
     "execution_count": 38,
     "metadata": {},
     "output_type": "execute_result"
    }
   ],
   "source": [
    "# ваше решение тут\n",
    "\n",
    "eng_latin = {\n",
    "    \"apple\": [\"malum\", \"pomum\", \"popula\"],\n",
    "    \"fruit\": [\"baca\", \"bacca\", \"popum\"],\n",
    "    \"punishment\":[\"malum\", \"multa\"]\n",
    "}\n",
    "\n",
    "latin_eng = {}\n",
    "\n",
    "for eng, latins in eng_latin.items():\n",
    "    for latin in latins:\n",
    "        if latin_eng.get(latin, False) is False:\n",
    "            latin_eng[latin] = [eng]  \n",
    "        else:\n",
    "            latin_eng[latin].append(eng)\n",
    "\n",
    "[print(\"{}: {}\".format(k,v)) for k,v in latin_eng.items()]"
   ]
  },
  {
   "cell_type": "code",
   "execution_count": null,
   "metadata": {},
   "outputs": [],
   "source": []
  }
 ],
 "metadata": {
  "kernelspec": {
   "display_name": "Python 3",
   "language": "python",
   "name": "python3"
  },
  "language_info": {
   "codemirror_mode": {
    "name": "ipython",
    "version": 3
   },
   "file_extension": ".py",
   "mimetype": "text/x-python",
   "name": "python",
   "nbconvert_exporter": "python",
   "pygments_lexer": "ipython3",
   "version": "3.7.1"
  }
 },
 "nbformat": 4,
 "nbformat_minor": 2
}

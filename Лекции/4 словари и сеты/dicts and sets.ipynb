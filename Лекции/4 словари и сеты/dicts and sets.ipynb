{
 "cells": [
  {
   "cell_type": "markdown",
   "metadata": {},
   "source": [
    "# Словари (dict)"
   ]
  },
  {
   "cell_type": "code",
   "execution_count": 1,
   "metadata": {},
   "outputs": [
    {
     "data": {
      "text/plain": [
       "{'name': 'my.com', 'messages': ['msg 1', 'msg 2', 'msg 3'], 'age': 100}"
      ]
     },
     "execution_count": 1,
     "metadata": {},
     "output_type": "execute_result"
    }
   ],
   "source": [
    "# Позволяет хранить пары ключ-значение, для быстрого доступа к значению по ключу.\n",
    "# по своему представлению очень похож на JSON\n",
    "\n",
    "#Пример JSON\n",
    "\n",
    "{\n",
    "\t\"name\": \"my.com\",\n",
    "\t\"messages\": [\"msg 1\", \"msg 2\", \"msg 3\"],\n",
    "\t\"age\": 100\n",
    "}"
   ]
  },
  {
   "cell_type": "code",
   "execution_count": 2,
   "metadata": {},
   "outputs": [],
   "source": [
    "# создаем словарь используя фигурные скобки или ф-ю dict\n",
    "empty_dict = dict()\n",
    "empty_dict = {}"
   ]
  },
  {
   "cell_type": "code",
   "execution_count": 3,
   "metadata": {},
   "outputs": [
    {
     "name": "stdout",
     "output_type": "stream",
     "text": [
      "{'a': 4, 'b': True}\n",
      "{'a': 4, 'b': True}\n"
     ]
    }
   ],
   "source": [
    "# через конструктор словаря\n",
    "dict_constructor = dict(a=4, b=True)\n",
    "print(dict_constructor)\n",
    "a = \"c\"\n",
    "b = \"d\"\n",
    "new_dict = dict(a=4, b=True)\n",
    "print(new_dict)"
   ]
  },
  {
   "cell_type": "code",
   "execution_count": 9,
   "metadata": {},
   "outputs": [],
   "source": [
    "dict_example = {\n",
    "\t\"name\": \"my.com\",\n",
    "\t\"messages\": [\"msg 1\", \"msg 2\", \"msg 3\"],\n",
    "\t\"age\": 100\n",
    "}"
   ]
  },
  {
   "cell_type": "code",
   "execution_count": 10,
   "metadata": {},
   "outputs": [
    {
     "data": {
      "text/plain": [
       "'my.com'"
      ]
     },
     "execution_count": 10,
     "metadata": {},
     "output_type": "execute_result"
    }
   ],
   "source": [
    "#получаем значение по его ключу\n",
    "dict_example['name']"
   ]
  },
  {
   "cell_type": "code",
   "execution_count": 66,
   "metadata": {},
   "outputs": [
    {
     "name": "stdout",
     "output_type": "stream",
     "text": [
      "{'name': 'my.com', 'messages': ['msg 1', 'msg 2', 'msg 3'], 'age': 99, 'element': 'Словарь с одним элементом'}\n",
      "{'name': 'my.com', 'messages': ['msg 1', 'msg 2', 'msg 3'], 'age': 99, 'element': 'Словарь с одним элементом'}\n"
     ]
    }
   ],
   "source": [
    "#изменяем элемент словаря\n",
    "\n",
    "print(dict_example)\n",
    "dict_example['age'] = 99\n",
    "print(dict_example)"
   ]
  },
  {
   "cell_type": "code",
   "execution_count": 67,
   "metadata": {},
   "outputs": [
    {
     "name": "stdout",
     "output_type": "stream",
     "text": [
      "{'name': 'my.com', 'messages': ['msg 1', 'msg 2', 'msg 3'], 'age': 99, 'element': 'Словарь с одним элементом'}\n",
      "{'name': 'my.com', 'messages': ['msg 1', 'msg 2', 'msg 3'], 'age': 99, 'element': 'Словарь с одним элементом', 'new_element': 'Новый объект', 'old_element': 'Старый объект'}\n"
     ]
    }
   ],
   "source": [
    "#добавляем новый элемент в словарь\n",
    "print(dict_example)\n",
    "dict_example[\"new_element\"] = \"Новый объект\"\n",
    "dict_example[\"old_element\"] = \"Старый объект\"\n",
    "print(dict_example)"
   ]
  },
  {
   "cell_type": "code",
   "execution_count": 68,
   "metadata": {},
   "outputs": [
    {
     "name": "stdout",
     "output_type": "stream",
     "text": [
      "{'name': 'my.com', 'messages': ['msg 1', 'msg 2', 'msg 3'], 'age': 99, 'element': 'Словарь с одним элементом', 'new_element': 'Новый объект', 'old_element': 'Старый объект'}\n",
      "{'name': 'my.com', 'messages': ['msg 1', 'msg 2', 'msg 3'], 'age': 99, 'element': 'Словарь с одним элементом', 'old_element': 'Старый объект'}\n"
     ]
    }
   ],
   "source": [
    "#удаление элементов словаря через системную функцию\n",
    "print(dict_example)\n",
    "del dict_example[\"new_element\"]\n",
    "print(dict_example)"
   ]
  },
  {
   "cell_type": "code",
   "execution_count": 69,
   "metadata": {},
   "outputs": [
    {
     "data": {
      "text/plain": [
       "'Старый объект'"
      ]
     },
     "execution_count": 69,
     "metadata": {},
     "output_type": "execute_result"
    }
   ],
   "source": [
    "#удаление из словаря с возвратом значения\n",
    "\n",
    "dict_example.pop(\"old_element\")"
   ]
  },
  {
   "cell_type": "code",
   "execution_count": 70,
   "metadata": {},
   "outputs": [
    {
     "name": "stdout",
     "output_type": "stream",
     "text": [
      "{'name': 'my.com', 'messages': ['msg 1', 'msg 2', 'msg 3'], 'age': 99, 'element': 'Словарь с одним элементом'}\n"
     ]
    }
   ],
   "source": [
    "print(dict_example)"
   ]
  },
  {
   "cell_type": "code",
   "execution_count": 65,
   "metadata": {},
   "outputs": [
    {
     "name": "stdout",
     "output_type": "stream",
     "text": [
      "{'name': 'my.com', 'messages': ['msg 1', 'msg 2', 'msg 3'], 'age': 99, 'element': 'Словарь с одним элементом'}\n",
      "{'name': 'my.com', 'messages': ['msg 1', 'msg 2', 'msg 3'], 'age': 99, 'element': 'Словарь с одним элементом'}\n"
     ]
    }
   ],
   "source": [
    "#склеивание словарей\n",
    "print(dict_example)\n",
    "\n",
    "new_dict = {\"element\":\"Словарь с одним элементом\"}\n",
    "dict_example.update(new_dict)\n",
    "\n",
    "print(dict_example)"
   ]
  },
  {
   "cell_type": "code",
   "execution_count": 49,
   "metadata": {},
   "outputs": [
    {
     "ename": "KeyError",
     "evalue": "'credit'",
     "output_type": "error",
     "traceback": [
      "\u001b[1;31m---------------------------------------------------------------------------\u001b[0m",
      "\u001b[1;31mKeyError\u001b[0m                                  Traceback (most recent call last)",
      "\u001b[1;32m<ipython-input-49-010fe6fac9d8>\u001b[0m in \u001b[0;36m<module>\u001b[1;34m\u001b[0m\n\u001b[0;32m      1\u001b[0m \u001b[1;31m#отсутствие ключа в словаре\u001b[0m\u001b[1;33m\u001b[0m\u001b[1;33m\u001b[0m\u001b[1;33m\u001b[0m\u001b[0m\n\u001b[0;32m      2\u001b[0m \u001b[1;31m# начиная с 3,6 словарь сохраняет порядок добавления элементов\u001b[0m\u001b[1;33m\u001b[0m\u001b[1;33m\u001b[0m\u001b[1;33m\u001b[0m\u001b[0m\n\u001b[1;32m----> 3\u001b[1;33m \u001b[0mdict_example\u001b[0m\u001b[1;33m[\u001b[0m\u001b[1;34m'credit'\u001b[0m\u001b[1;33m]\u001b[0m\u001b[1;33m\u001b[0m\u001b[1;33m\u001b[0m\u001b[0m\n\u001b[0m",
      "\u001b[1;31mKeyError\u001b[0m: 'credit'"
     ]
    }
   ],
   "source": [
    "#отсутствие ключа в словаре\n",
    "# начиная с 3,6 словарь сохраняет порядок добавления элементов\n",
    "dict_example['credit']"
   ]
  },
  {
   "cell_type": "code",
   "execution_count": 50,
   "metadata": {},
   "outputs": [
    {
     "name": "stdout",
     "output_type": "stream",
     "text": [
      "Любое значение\n",
      "1\n",
      "None\n",
      "False\n",
      "None\n",
      "\n",
      "\n",
      "99\n"
     ]
    }
   ],
   "source": [
    "# получение ключа через get\n",
    "\n",
    "print(dict_example.get('credit', \"Любое значение\"))\n",
    "print(dict_example.get('credit', 1))\n",
    "print(dict_example.get('credit', None))\n",
    "print(dict_example.get('credit', False))\n",
    "print(dict_example.get('credit'))\n",
    "print(\"\\n\")\n",
    "print(dict_example.get('age', True))"
   ]
  },
  {
   "cell_type": "code",
   "execution_count": 51,
   "metadata": {},
   "outputs": [
    {
     "ename": "TypeError",
     "evalue": "unhashable type: 'list'",
     "output_type": "error",
     "traceback": [
      "\u001b[1;31m---------------------------------------------------------------------------\u001b[0m",
      "\u001b[1;31mTypeError\u001b[0m                                 Traceback (most recent call last)",
      "\u001b[1;32m<ipython-input-51-6f923e19e5c3>\u001b[0m in \u001b[0;36m<module>\u001b[1;34m\u001b[0m\n\u001b[0;32m      1\u001b[0m \u001b[1;31m# ключами могут быть только hashable объекты, а значениями любые\u001b[0m\u001b[1;33m\u001b[0m\u001b[1;33m\u001b[0m\u001b[1;33m\u001b[0m\u001b[0m\n\u001b[0;32m      2\u001b[0m \u001b[0mlst\u001b[0m \u001b[1;33m=\u001b[0m \u001b[1;33m[\u001b[0m\u001b[1;36m1\u001b[0m\u001b[1;33m,\u001b[0m\u001b[1;36m2\u001b[0m\u001b[1;33m,\u001b[0m\u001b[1;36m3\u001b[0m\u001b[1;33m]\u001b[0m\u001b[1;33m\u001b[0m\u001b[1;33m\u001b[0m\u001b[0m\n\u001b[1;32m----> 3\u001b[1;33m \u001b[0mdict_example\u001b[0m\u001b[1;33m[\u001b[0m\u001b[0mlst\u001b[0m\u001b[1;33m]\u001b[0m \u001b[1;33m=\u001b[0m \u001b[1;34m\"тут лист в качестве ключа\"\u001b[0m\u001b[1;33m\u001b[0m\u001b[1;33m\u001b[0m\u001b[0m\n\u001b[0m",
      "\u001b[1;31mTypeError\u001b[0m: unhashable type: 'list'"
     ]
    }
   ],
   "source": [
    "# ключами могут быть только hashable объекты, а значениями любые\n",
    "lst = [1,2,3]\n",
    "dict_example[lst] = \"тут лист в качестве ключа\""
   ]
  },
  {
   "cell_type": "markdown",
   "metadata": {},
   "source": [
    "Объект является hashable объектом, если он имеет hash-значение, неизменное в процессе его жизни. Т.е. к нему можно вызвать функцию hash(). "
   ]
  },
  {
   "cell_type": "code",
   "execution_count": 52,
   "metadata": {},
   "outputs": [
    {
     "ename": "TypeError",
     "evalue": "unhashable type: 'list'",
     "output_type": "error",
     "traceback": [
      "\u001b[1;31m---------------------------------------------------------------------------\u001b[0m",
      "\u001b[1;31mTypeError\u001b[0m                                 Traceback (most recent call last)",
      "\u001b[1;32m<ipython-input-52-0f050ab804f5>\u001b[0m in \u001b[0;36m<module>\u001b[1;34m\u001b[0m\n\u001b[1;32m----> 1\u001b[1;33m \u001b[0mhash\u001b[0m\u001b[1;33m(\u001b[0m\u001b[0mlst\u001b[0m\u001b[1;33m)\u001b[0m\u001b[1;33m\u001b[0m\u001b[1;33m\u001b[0m\u001b[0m\n\u001b[0m",
      "\u001b[1;31mTypeError\u001b[0m: unhashable type: 'list'"
     ]
    }
   ],
   "source": [
    "hash(lst)"
   ]
  },
  {
   "cell_type": "code",
   "execution_count": 53,
   "metadata": {},
   "outputs": [
    {
     "data": {
      "text/plain": [
       "2528502973977326415"
      ]
     },
     "execution_count": 53,
     "metadata": {},
     "output_type": "execute_result"
    }
   ],
   "source": [
    "hash((1,2,3))"
   ]
  },
  {
   "cell_type": "code",
   "execution_count": 54,
   "metadata": {},
   "outputs": [
    {
     "ename": "SyntaxError",
     "evalue": "invalid syntax (<ipython-input-54-3ecd1f3cbe06>, line 1)",
     "output_type": "error",
     "traceback": [
      "\u001b[1;36m  File \u001b[1;32m\"<ipython-input-54-3ecd1f3cbe06>\"\u001b[1;36m, line \u001b[1;32m1\u001b[0m\n\u001b[1;33m    У одинаковых объектов значения хеша будет одинаковое.\u001b[0m\n\u001b[1;37m               ^\u001b[0m\n\u001b[1;31mSyntaxError\u001b[0m\u001b[1;31m:\u001b[0m invalid syntax\n"
     ]
    }
   ],
   "source": [
    "У одинаковых объектов значения хеша будет одинаковое.\n",
    "a = 15\n",
    "b = 15\n",
    "\n",
    "hash(a) == hash(b)"
   ]
  },
  {
   "cell_type": "markdown",
   "metadata": {},
   "source": [
    "# итерирование по объектам словаря"
   ]
  },
  {
   "cell_type": "code",
   "execution_count": 55,
   "metadata": {},
   "outputs": [
    {
     "name": "stdout",
     "output_type": "stream",
     "text": [
      "key: name\n",
      "value: my.com\n",
      "\n",
      "key: messages\n",
      "value: ['msg 1', 'msg 2', 'msg 3']\n",
      "\n",
      "key: age\n",
      "value: 99\n",
      "\n"
     ]
    }
   ],
   "source": [
    "#при итерации по самому листу, мы итерируемся по его ключам\n",
    "for key in dict_example:\n",
    "    print(f\"key: {key}\\nvalue: {dict_example[key]}\\n\")"
   ]
  },
  {
   "cell_type": "code",
   "execution_count": 56,
   "metadata": {},
   "outputs": [
    {
     "name": "stdout",
     "output_type": "stream",
     "text": [
      "key: name\n",
      "value: my.com\n",
      "\n",
      "key: messages\n",
      "value: ['msg 1', 'msg 2', 'msg 3']\n",
      "\n",
      "key: age\n",
      "value: 99\n",
      "\n"
     ]
    }
   ],
   "source": [
    "for key, value in dict_example.items():\n",
    "    print(f\"key: {key}\\nvalue: {value}\\n\")"
   ]
  },
  {
   "cell_type": "code",
   "execution_count": 57,
   "metadata": {},
   "outputs": [
    {
     "name": "stdout",
     "output_type": "stream",
     "text": [
      "{'a': 1, 'c': 3}\n",
      "{'a': 100, 'c': 3}\n",
      "\n"
     ]
    }
   ],
   "source": [
    "# копирование\n",
    "d1 = {\"a\": 1, \"c\": 3}\n",
    "d2 = d1.copy()\n",
    "d2[\"a\"] = 100\n",
    "print(d1)\n",
    "print(d2)\n",
    "print()"
   ]
  },
  {
   "cell_type": "code",
   "execution_count": 58,
   "metadata": {},
   "outputs": [
    {
     "name": "stdout",
     "output_type": "stream",
     "text": [
      "{'a': [1, 2, 3, 4]}\n",
      "{'a': [1, 2, 3, 4]}\n",
      "\n"
     ]
    }
   ],
   "source": [
    "# вложенные не копируются\n",
    "nested = [1, 2, 3]\n",
    "d1 = {\"a\": nested}\n",
    "d2 = d1.copy()\n",
    "nested.append(4)\n",
    "print(d1)\n",
    "print(d2)\n",
    "print()"
   ]
  },
  {
   "cell_type": "code",
   "execution_count": 59,
   "metadata": {},
   "outputs": [
    {
     "name": "stdout",
     "output_type": "stream",
     "text": [
      "{'a': [1, 2, 3, 4]}\n",
      "{'a': [1, 2, 3]}\n"
     ]
    }
   ],
   "source": [
    "# поэтому опять используем deepcopy\n",
    "from copy import deepcopy\n",
    "nested = [1, 2, 3]\n",
    "d1 = {\"a\": nested}\n",
    "d2 = deepcopy(d1)\n",
    "nested.append(4)\n",
    "print(d1)\n",
    "print(d2)"
   ]
  },
  {
   "cell_type": "markdown",
   "metadata": {},
   "source": [
    "# методы словарей\n",
    "\n",
    "**Метод**|**Описание**\n",
    ":-----:|:-----:\n",
    "dict.clear()|очищает словарь.\n",
    "dict.copy()|возвращает копию словаря.\n",
    "classmethod dict.fromkeys(seq[, value])|создает словарь с ключами из seq и значением value (по умолчанию None).\n",
    "dict.get(key[, default])|возвращает значение ключа, но если его нет, не бросает исключение, а возвращает default (по умолчанию None).\n",
    "dict.items()|возвращает пары (ключ, значение).\n",
    "dict.keys()|возвращает ключи в словаре.\n",
    "dict.pop(key[, default])|удаляет ключ и возвращает значение. Если ключа нет, возвращает default (по умолчанию бросает исключение).\n",
    "dict.popitem()|удаляет и возвращает пару (ключ, значение). Если словарь пуст, бросает исключение KeyError. Помните, что словари неупорядочены.\n",
    "dict.setdefault(key[, default])|возвращает значение ключа, но если его нет, не бросает исключение, а создает ключ с значением default (по умолчанию None).\n",
    "dict.update([other])|обновляет словарь, добавляя пары (ключ, значение) из other. Существующие ключи перезаписываются. Возвращает None (не новый словарь!).\n",
    "dict.values()|возвращает значения в словаре."
   ]
  },
  {
   "cell_type": "markdown",
   "metadata": {},
   "source": [
    "# задача\n",
    "Есть список элементов. Известно, что у большинства элементов в списке есть пары, то есть их по 2. Но есть некоторое количество элементов, у которых пары нет - их по 1 в списке. Цель - найти эти одиночные элементы."
   ]
  },
  {
   "cell_type": "code",
   "execution_count": 60,
   "metadata": {},
   "outputs": [
    {
     "name": "stdout",
     "output_type": "stream",
     "text": [
      "5\n",
      "3\n"
     ]
    }
   ],
   "source": [
    "elements = [2, 1, 5, 2, 4, 3, 1, 4]\n",
    "\n",
    "dct = {}\n",
    "\n",
    "for element in elements:\n",
    "    dct[element] = dct.get(element, 0) + 1\n",
    "\n",
    "for key, val in dct.items():\n",
    "    if val == 1:\n",
    "        print(key) "
   ]
  },
  {
   "cell_type": "markdown",
   "metadata": {},
   "source": [
    "# задача 2"
   ]
  },
  {
   "cell_type": "raw",
   "metadata": {},
   "source": [
    "Дан список файлов. Необходимо их разложить на 3 группы по типу.\n",
    "1: с картинками (png, jpg)\n",
    "2: с исполняемыми (exe) файлами\n",
    "3: с Excel, Word документами (xlsx, xls, docx, doc)\n",
    "\n",
    "Оставшиеся файлы вывести на экран, отсортированные по имени.\n",
    "В решении использовать словарь."
   ]
  },
  {
   "cell_type": "code",
   "execution_count": 72,
   "metadata": {},
   "outputs": [],
   "source": [
    "files = ['image.png', 'картинка.jpg', 'сурв.xlsx', \"список дел.docx\", \"старый сурв.xsl\", \"программа.exe\", \"remedy.exe\", \"readme.txt\", \"wiki.html\", \"music.mp3\", \"документ123.doc\"]\n"
   ]
  },
  {
   "cell_type": "markdown",
   "metadata": {},
   "source": [
    "# Множество (Set)\n",
    "\n",
    "Неупорядоченная коллекция, содержащая только уникальные хешируемые элементы.\n",
    "\n",
    "Изменяемые Не хешируемые"
   ]
  },
  {
   "cell_type": "code",
   "execution_count": 73,
   "metadata": {},
   "outputs": [],
   "source": [
    "# создадим пустой set c помощью ф-ии set()\n",
    "empty_set = set()"
   ]
  },
  {
   "cell_type": "code",
   "execution_count": 78,
   "metadata": {},
   "outputs": [
    {
     "name": "stdout",
     "output_type": "stream",
     "text": [
      "id is  2418615454856\n",
      "{1, 2, 3, 4}\n",
      "id is  2418615454856\n",
      "{1, 2, 3, 4}\n"
     ]
    }
   ],
   "source": [
    "# непустое множество можно также задать фигурными скобками\n",
    "example_set = {1, 2, 3, 4, 4}\n",
    "print('id is ', id(example_set))\n",
    "\n",
    "# добавляем элемент в set\n",
    "example_set.add(4)\n",
    "print(example_set)\n",
    "print('id is ', id(example_set))\n",
    "\n",
    "# добавляем уже присутствующий элемент в set - ничего не меняется\n",
    "example_set.add(1)\n",
    "print(example_set)"
   ]
  },
  {
   "cell_type": "code",
   "execution_count": 82,
   "metadata": {},
   "outputs": [
    {
     "name": "stdout",
     "output_type": "stream",
     "text": [
      "True\n",
      "True\n"
     ]
    }
   ],
   "source": [
    "list_ = [1,2,3,4,4,5]\n",
    "set_ = set(list_)\n",
    "\n",
    "print(4 in list_)\n",
    "print(4 in set_)"
   ]
  },
  {
   "cell_type": "code",
   "execution_count": 86,
   "metadata": {},
   "outputs": [],
   "source": [
    "new_set = set([5,4,8,1])"
   ]
  },
  {
   "cell_type": "code",
   "execution_count": 87,
   "metadata": {},
   "outputs": [
    {
     "name": "stdout",
     "output_type": "stream",
     "text": [
      "Example set: {1, 2, 3, 4} New set: {8, 1, 4, 5}\n",
      "{2, 3}\n",
      "{1, 2, 3, 4, 5, 8}\n",
      "{1, 4}\n"
     ]
    }
   ],
   "source": [
    "print(f\"Example set: {example_set} New set: {new_set}\")\n",
    "print(example_set.difference(new_set)) # различие\n",
    "print(example_set.union(new_set)) # объединение\n",
    "print(example_set.intersection(new_set)) # пересечение"
   ]
  },
  {
   "cell_type": "code",
   "execution_count": 88,
   "metadata": {},
   "outputs": [
    {
     "data": {
      "text/plain": [
       "{'Ольга'}"
      ]
     },
     "execution_count": 88,
     "metadata": {},
     "output_type": "execute_result"
    }
   ],
   "source": [
    "# например, вызов какой-либо ф-ии чат сервиса вернул нам список активных в данный момент пользователей в комнате\n",
    "active_users = [\"Александр\", \"Михаил\", \"Ольга\"]\n",
    "# вызов другой ф-ии вернул список администраторов чата\n",
    "admins = [\"Ольга\", \"Мария\"]\n",
    "# нам нужно найти список активных администраторов и послать им какое-либо уведомление\n",
    "active_admins = set(active_users).intersection(set(admins))\n",
    "active_admins"
   ]
  },
  {
   "cell_type": "markdown",
   "metadata": {},
   "source": [
    "**Основная задача, очень часто возникающая на практике. Есть список элементов, нужно оставить только уникальные. Это одна строка с использованием сета:**"
   ]
  },
  {
   "cell_type": "code",
   "execution_count": 89,
   "metadata": {},
   "outputs": [
    {
     "data": {
      "text/plain": [
       "{'blue', 'green', 'magenta', 'orange', 'red', 'yellow'}"
      ]
     },
     "execution_count": 89,
     "metadata": {},
     "output_type": "execute_result"
    }
   ],
   "source": [
    "elements = [\"yellow\", \"yellow\", \"green\", \"red\", \"blue\", \"blue\", \"magenta\", \"orange\", \"red\"]\n",
    "set(elements)"
   ]
  },
  {
   "cell_type": "code",
   "execution_count": null,
   "metadata": {},
   "outputs": [],
   "source": []
  }
 ],
 "metadata": {
  "kernelspec": {
   "display_name": "Python 3",
   "language": "python",
   "name": "python3"
  },
  "language_info": {
   "codemirror_mode": {
    "name": "ipython",
    "version": 3
   },
   "file_extension": ".py",
   "mimetype": "text/x-python",
   "name": "python",
   "nbconvert_exporter": "python",
   "pygments_lexer": "ipython3",
   "version": "3.7.1"
  }
 },
 "nbformat": 4,
 "nbformat_minor": 2
}

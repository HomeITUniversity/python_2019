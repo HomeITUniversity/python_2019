{
  "nbformat": 4,
  "nbformat_minor": 0,
  "metadata": {
    "kernelspec": {
      "display_name": "Python 3",
      "language": "python",
      "name": "python3"
    },
    "language_info": {
      "codemirror_mode": {
        "name": "ipython",
        "version": 3
      },
      "file_extension": ".py",
      "mimetype": "text/x-python",
      "name": "python",
      "nbconvert_exporter": "python",
      "pygments_lexer": "ipython3",
      "version": "3.7.3"
    },
    "colab": {
      "name": "01_digits_homework.ipynb",
      "version": "0.3.2",
      "provenance": [],
      "collapsed_sections": []
    }
  },
  "cells": [
    {
      "cell_type": "markdown",
      "metadata": {
        "id": "K-BjxTQSecuZ",
        "colab_type": "text"
      },
      "source": [
        "#### Мягкий дедлайн: 18 сентября 23:59\n",
        "#### Жесткий дедлайн: 25 сентября 23:59\n",
        "\n",
        "Отправляйте Notebook файл с решение по адресу homeituniversity@gmail.com\n",
        "\n",
        "Тема письма: Python курс > ДЗ 1 > ФИО"
      ]
    },
    {
      "cell_type": "markdown",
      "metadata": {
        "id": "aWU7EATkecuf",
        "colab_type": "text"
      },
      "source": [
        "# Задача 1\n",
        "Если мы перечислим все натуральные числа меньше 10, кратные 3 или 5, мы получим 3, 5, 6 и 9. Сумма этих кратных чисел равна 23.\n",
        "Найти сумму всех кратных 3 или 5 меньше 1000."
      ]
    },
    {
      "cell_type": "code",
      "metadata": {
        "id": "dRPD2NJEecug",
        "colab_type": "code",
        "colab": {
          "base_uri": "https://localhost:8080/",
          "height": 34
        },
        "outputId": "12a9a42c-a81c-42cb-edb4-e843a684239a"
      },
      "source": [
        "# Впишите сюда ваше решение\n",
        "x=0\n",
        "\n",
        "for i in range(1000):\n",
        "  if (i%3==0 or i%5==0):\n",
        "    x+=i\n",
        "\n",
        "print(x)"
      ],
      "execution_count": 151,
      "outputs": [
        {
          "output_type": "stream",
          "text": [
            "233168\n"
          ],
          "name": "stdout"
        }
      ]
    },
    {
      "cell_type": "markdown",
      "metadata": {
        "id": "76i9RGJ7ecuk",
        "colab_type": "text"
      },
      "source": [
        "# Задача 2\n",
        "Каждый новый член в последовательности Фибоначчи генерируется путем добавления двух предыдущих членов. \n",
        "Начиная с 1 и 2, первые 10 слагаемых будут:\n",
        "1, 2, 3, 5, 8, 13, 21, 34, 55, 89, …\n",
        "Рассматривая члены в последовательности Фибоначчи, значения которых не превышают четырех миллионов, найдите сумму четных членов.\n"
      ]
    },
    {
      "cell_type": "code",
      "metadata": {
        "id": "ndwyxo63ecul",
        "colab_type": "code",
        "colab": {
          "base_uri": "https://localhost:8080/",
          "height": 34
        },
        "outputId": "8ef85153-d7c6-43eb-dbb6-287910e09f90"
      },
      "source": [
        "# Впишите сюда ваше решение\n",
        "a=1\n",
        "b=2\n",
        "x=0\n",
        "\n",
        "while a<4000000:\n",
        "  if a%2==0 : x+=a\n",
        "  a, b = b, a + b\n",
        "\n",
        "print(x)"
      ],
      "execution_count": 155,
      "outputs": [
        {
          "output_type": "stream",
          "text": [
            "4613732\n"
          ],
          "name": "stdout"
        }
      ]
    },
    {
      "cell_type": "markdown",
      "metadata": {
        "id": "ugK_jGdyecuo",
        "colab_type": "text"
      },
      "source": [
        "# Задача 3\n",
        "Посчитать факториал числа 155, не применяя библиотечные функции."
      ]
    },
    {
      "cell_type": "code",
      "metadata": {
        "id": "qRLqemHIecuo",
        "colab_type": "code",
        "colab": {
          "base_uri": "https://localhost:8080/",
          "height": 54
        },
        "outputId": "b03346f5-6775-4495-f066-ef2a0be540ba"
      },
      "source": [
        "# Впишите сюда ваше решение\n",
        "def factorial(n):\n",
        "   return 1 if n == 0 else (n * factorial(n-1))\n",
        "  \n",
        "print(factorial(155))"
      ],
      "execution_count": 154,
      "outputs": [
        {
          "output_type": "stream",
          "text": [
            "4789142901463393876335775239063022722176295591337767174070096339929153381622433264146569329274347655956110484372311586936020749175429076661003216274382475477806479918110524333880196139452687559896255940215628508414806740389616633144934400000000000000000000000000000000000000\n"
          ],
          "name": "stdout"
        }
      ]
    },
    {
      "cell_type": "markdown",
      "metadata": {
        "id": "O-udSbDUecus",
        "colab_type": "text"
      },
      "source": [
        "# Задача 4\n",
        "Пользователь делает вклад в размере 155 899 рублей сроком на 16 лет под 8,56% годовых(каждый год размер его вклада увеличивается на %. Эти деньги прибавляются к сумме вклада, и на них в следующем году тоже будут проценты).\n",
        "Какая сумма будет на счету клиента через 5, 8, 12, 16 лет?\n"
      ]
    },
    {
      "cell_type": "code",
      "metadata": {
        "id": "GUDYXUHpecuu",
        "colab_type": "code",
        "colab": {
          "base_uri": "https://localhost:8080/",
          "height": 85
        },
        "outputId": "9fa1d533-cc60-406b-de55-9e8f25ec0dc4"
      },
      "source": [
        "# Впишите сюда ваше решение\n",
        "from decimal import *\n",
        "\n",
        "m=Decimal('155899')\n",
        "r=Decimal('8.56')\n",
        "\n",
        "def deposit(money,rate,years):\n",
        "  if years > 1:\n",
        "    return Decimal(deposit(money*(1+rate/100),rate,years-1)).quantize(Decimal('0.01'), ROUND_HALF_UP)\n",
        "  else: \n",
        "    return Decimal(money*(1+rate/100)).quantize(Decimal('0.01'), ROUND_HALF_UP)\n",
        "\n",
        "print('Вклад через 5 лет:',deposit(m,r,5),'руб.')\n",
        "print('Вклад через 8 лет:',deposit(m,r,8),'руб.')\n",
        "print('Вклад через 12 лет:',deposit(m,r,12),'руб.')\n",
        "print('Вклад через 16 лет:',deposit(m,r,16),'руб.')"
      ],
      "execution_count": 158,
      "outputs": [
        {
          "output_type": "stream",
          "text": [
            "Вклад через 5 лет: 235067.45 руб.\n",
            "Вклад через 8 лет: 300747.49 руб.\n",
            "Вклад через 12 лет: 417716.23 руб.\n",
            "Вклад через 16 лет: 580177.23 руб.\n"
          ],
          "name": "stdout"
        }
      ]
    },
    {
      "cell_type": "markdown",
      "metadata": {
        "id": "8LjKZh-Wecuy",
        "colab_type": "text"
      },
      "source": [
        "# Задача 5\n",
        "Вы покупаете автомобиль за 850 тыс. рублей. Ваш первоначальный взнос составляет 400 тыс. рублей. Остаток суммы вы хотите взять в кредит от Хоум Кредит Банка под 10.9%. Рассчитайте переплату по кредиту, если кредит будет оформлен на 5 лет. Для расчета платежа используйте формулу расчета аннуитетного платежа."
      ]
    },
    {
      "cell_type": "code",
      "metadata": {
        "id": "mJ0MiUGfecuz",
        "colab_type": "code",
        "colab": {
          "base_uri": "https://localhost:8080/",
          "height": 34
        },
        "outputId": "186bc417-7da0-48c1-eeb3-adf793badb15"
      },
      "source": [
        "# Впишите сюда ваше решение\n",
        "full_prise = 850000\n",
        "initial_payment = 400000\n",
        "credit_months = 5*12\n",
        "credit_rate = 10.9/100\n",
        "\n",
        "def credit_overpayment(credit, rate, months):\n",
        "  month_rate = rate/12\n",
        "  k = (month_rate * (1 + month_rate) ** months)/((1 + month_rate) ** months -1)\n",
        "  return (k*months*credit) - credit\n",
        "\n",
        "overpayment = round(credit_overpayment(full_prise - initial_payment,credit_rate,60), 2)\n",
        "print('Переплата по кредиту:', overpayment,'руб.')\n",
        "\n",
        "\n",
        "  "
      ],
      "execution_count": 159,
      "outputs": [
        {
          "output_type": "stream",
          "text": [
            "Переплата по кредиту: 135699.81 руб.\n"
          ],
          "name": "stdout"
        }
      ]
    }
  ]
}
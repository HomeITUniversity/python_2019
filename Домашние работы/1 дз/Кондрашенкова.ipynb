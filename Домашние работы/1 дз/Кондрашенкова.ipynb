{
  "nbformat": 4,
  "nbformat_minor": 0,
  "metadata": {
    "kernelspec": {
      "display_name": "Python 3",
      "language": "python",
      "name": "python3"
    },
    "language_info": {
      "codemirror_mode": {
        "name": "ipython",
        "version": 3
      },
      "file_extension": ".py",
      "mimetype": "text/x-python",
      "name": "python",
      "nbconvert_exporter": "python",
      "pygments_lexer": "ipython3",
      "version": "3.7.3"
    },
    "colab": {
      "name": "01_digits_homework.ipynb",
      "version": "0.3.2",
      "provenance": [],
      "collapsed_sections": []
    }
  },
  "cells": [
    {
      "cell_type": "markdown",
      "metadata": {
        "id": "K-BjxTQSecuZ",
        "colab_type": "text"
      },
      "source": [
        "#### Мягкий дедлайн: 18 сентября 23:59\n",
        "#### Жесткий дедлайн: 25 сентября 23:59\n",
        "\n",
        "Отправляйте Notebook файл с решение по адресу homeituniversity@gmail.com\n",
        "\n",
        "Тема письма: Python курс > ДЗ 1 > ФИО"
      ]
    },
    {
      "cell_type": "markdown",
      "metadata": {
        "id": "aWU7EATkecuf",
        "colab_type": "text"
      },
      "source": [
        "# Задача 1\n",
        "Если мы перечислим все натуральные числа меньше 10, кратные 3 или 5, мы получим 3, 5, 6 и 9. Сумма этих кратных чисел равна 23.\n",
        "Найти сумму всех кратных 3 или 5 меньше 1000."
      ]
    },
    {
      "cell_type": "code",
      "metadata": {
        "id": "dRPD2NJEecug",
        "colab_type": "code",
        "colab": {
          "base_uri": "https://localhost:8080/",
          "height": 34
        },
        "outputId": "1e3721ed-0ed5-4dc5-ad88-38e16724355b"
      },
      "source": [
        "# Впишите сюда ваше решение\n",
        "a=1000\n",
        "b=0\n",
        "for i in range(1000):\n",
        "  if i%5==0 or i%3==0: b+=i\n",
        "print(b)"
      ],
      "execution_count": 4,
      "outputs": [
        {
          "output_type": "stream",
          "text": [
            "233168\n"
          ],
          "name": "stdout"
        }
      ]
    },
    {
      "cell_type": "markdown",
      "metadata": {
        "id": "76i9RGJ7ecuk",
        "colab_type": "text"
      },
      "source": [
        "# Задача 2\n",
        "Каждый новый член в последовательности Фибоначчи генерируется путем добавления двух предыдущих членов. \n",
        "Начиная с 1 и 2, первые 10 слагаемых будут:\n",
        "1, 2, 3, 5, 8, 13, 21, 34, 55, 89, …\n",
        "Рассматривая члены в последовательности Фибоначчи, значения которых не превышают четырех миллионов, найдите сумму четных членов.\n"
      ]
    },
    {
      "cell_type": "code",
      "metadata": {
        "id": "ndwyxo63ecul",
        "colab_type": "code",
        "colab": {
          "base_uri": "https://localhost:8080/",
          "height": 34
        },
        "outputId": "ee8a3fa1-0fb1-42a0-a814-0e58a847db5f"
      },
      "source": [
        "# Впишите сюда ваше решение\n",
        "b=1\n",
        "c=0\n",
        "d=0\n",
        "sum=0\n",
        "while d<=4000000:\n",
        "  d=b+c\n",
        "  c=b\n",
        "  b=d\n",
        "  if d%2==0: sum+=d\n",
        "print(sum)"
      ],
      "execution_count": 5,
      "outputs": [
        {
          "output_type": "stream",
          "text": [
            "4613732\n"
          ],
          "name": "stdout"
        }
      ]
    },
    {
      "cell_type": "markdown",
      "metadata": {
        "id": "ugK_jGdyecuo",
        "colab_type": "text"
      },
      "source": [
        "# Задача 3\n",
        "Посчитать факториал числа 155, не применяя библиотечные функции."
      ]
    },
    {
      "cell_type": "code",
      "metadata": {
        "id": "qRLqemHIecuo",
        "colab_type": "code",
        "colab": {
          "base_uri": "https://localhost:8080/",
          "height": 54
        },
        "outputId": "b7a258a3-422b-415c-9a00-c88f79d1abbf"
      },
      "source": [
        "# Впишите сюда ваше решение\n",
        "f=0\n",
        "fac=1\n",
        "while f<155:\n",
        "  f+=1\n",
        "  fac*=f\n",
        "print(fac)"
      ],
      "execution_count": 16,
      "outputs": [
        {
          "output_type": "stream",
          "text": [
            "4789142901463393876335775239063022722176295591337767174070096339929153381622433264146569329274347655956110484372311586936020749175429076661003216274382475477806479918110524333880196139452687559896255940215628508414806740389616633144934400000000000000000000000000000000000000\n"
          ],
          "name": "stdout"
        }
      ]
    },
    {
      "cell_type": "markdown",
      "metadata": {
        "id": "O-udSbDUecus",
        "colab_type": "text"
      },
      "source": [
        "# Задача 4\n",
        "Пользователь делает вклад в размере 155 899 рублей сроком на 16 лет под 8,56% годовых(каждый год размер его вклада увеличивается на %. Эти деньги прибавляются к сумме вклада, и на них в следующем году тоже будут проценты).\n",
        "Какая сумма будет на счету клиента через 5, 8, 12, 16 лет?\n"
      ]
    },
    {
      "cell_type": "code",
      "metadata": {
        "id": "GUDYXUHpecuu",
        "colab_type": "code",
        "colab": {
          "base_uri": "https://localhost:8080/",
          "height": 85
        },
        "outputId": "3e618ee8-1557-4c8d-e031-f61a6812a93b"
      },
      "source": [
        "# Впишите сюда ваше решение\n",
        "dep=155899\n",
        "srok=16\n",
        "rate=8.56\n",
        "total=0\n",
        "year=0\n",
        "\n",
        "for i in range(srok):\n",
        "  total += dep * ((100 + rate)/100)\n",
        "  year+=1\n",
        "  if year == 5: print(year,'лет : сумма',total)\n",
        "  if year == 8: print(year,'лет : сумма',total)\n",
        "  if year == 12: print(year,'лет : сумма',total)\n",
        "  if year == 16: print(year,'лет : сумма',total)"
      ],
      "execution_count": 42,
      "outputs": [
        {
          "output_type": "stream",
          "text": [
            "5 лет : сумма 846219.7720000001\n",
            "8 лет : сумма 1353951.6352000001\n",
            "12 лет : сумма 2030927.4527999999\n",
            "16 лет : сумма 2707903.2704000003\n"
          ],
          "name": "stdout"
        }
      ]
    },
    {
      "cell_type": "markdown",
      "metadata": {
        "id": "8LjKZh-Wecuy",
        "colab_type": "text"
      },
      "source": [
        "# Задача 5\n",
        "Вы покупаете автомобиль за 850 тыс. рублей. Ваш первоначальный взнос составляет 400 тыс. рублей. Остаток суммы вы хотите взять в кредит от Хоум Кредит Банка под 10.9%. Рассчитайте переплату по кредиту, если кредит будет оформлен на 5 лет. Для расчета платежа используйте формулу расчета аннуитетного платежа."
      ]
    },
    {
      "cell_type": "code",
      "metadata": {
        "id": "mJ0MiUGfecuz",
        "colab_type": "code",
        "colab": {
          "base_uri": "https://localhost:8080/",
          "height": 153
        },
        "outputId": "53474551-707f-4b57-9468-124315924428"
      },
      "source": [
        "# Впишите сюда ваше решение\n",
        "cost=850000\n",
        "dep=400000\n",
        "rate=10.9\n",
        "srok=5\n",
        "pay=0\n",
        "\n",
        "cred=cost-dep\n",
        "print('сумма в кредит:',cred)\n",
        "\n",
        "srok=srok*12\n",
        "print('количество месяцев для выплат:',srok)\n",
        "\n",
        "rate=(rate+100)/100\n",
        "rate_mm=rate/100\n",
        "print('месячная процентная ставка:',rate_mm)\n",
        "print('рассчитаем коэффициент аннуитета:')\n",
        "\n",
        "k=(rate_mm*((rate_mm+1)**srok))/(((rate_mm+1)**srok)-1)\n",
        "print(k)\n",
        "\n",
        "print('ежемесячный аннуитетный платёж',k*cred)\n",
        "\n",
        "for i in range(srok):\n",
        "  pay+=k*cred\n",
        "print('необходимо отдать банку за',srok/12,'лет',pay)\n",
        "\n",
        "overpayment=pay-cred\n",
        "print('переплата по кредиту', overpayment)"
      ],
      "execution_count": 69,
      "outputs": [
        {
          "output_type": "stream",
          "text": [
            "сумма в кредит: 450000\n",
            "количество месяцев для выплат: 60\n",
            "месячная процентная ставка: 0.01109\n",
            "рассчитаем коэффициент аннуитета:\n",
            "0.022911051844931484\n",
            "ежемесячный аннуитетный платёж 10309.973330219167\n",
            "необходимо отдать банку за 5.0 лет 618598.3998131497\n",
            "переплата по кредиту 168598.3998131497\n"
          ],
          "name": "stdout"
        }
      ]
    }
  ]
}
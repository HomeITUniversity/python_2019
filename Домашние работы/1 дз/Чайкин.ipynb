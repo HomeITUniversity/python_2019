{
  "nbformat": 4,
  "nbformat_minor": 0,
  "metadata": {
    "kernelspec": {
      "display_name": "Python 3",
      "language": "python",
      "name": "python3"
    },
    "language_info": {
      "codemirror_mode": {
        "name": "ipython",
        "version": 3
      },
      "file_extension": ".py",
      "mimetype": "text/x-python",
      "name": "python",
      "nbconvert_exporter": "python",
      "pygments_lexer": "ipython3",
      "version": "3.7.3"
    },
    "colab": {
      "name": "01_digits_homework.ipynb",
      "version": "0.3.2",
      "provenance": [],
      "collapsed_sections": []
    }
  },
  "cells": [
    {
      "cell_type": "markdown",
      "metadata": {
        "id": "K-BjxTQSecuZ",
        "colab_type": "text"
      },
      "source": [
        "#### Мягкий дедлайн: 18 сентября 23:59\n",
        "#### Жесткий дедлайн: 25 сентября 23:59\n",
        "\n",
        "Отправляйте Notebook файл с решение по адресу homeituniversity@gmail.com\n",
        "\n",
        "Тема письма: Python курс > ДЗ 1 > ФИО"
      ]
    },
    {
      "cell_type": "markdown",
      "metadata": {
        "id": "aWU7EATkecuf",
        "colab_type": "text"
      },
      "source": [
        "# Задача 1\n",
        "Если мы перечислим все натуральные числа меньше 10, кратные 3 или 5, мы получим 3, 5, 6 и 9. Сумма этих кратных чисел равна 23.\n",
        "Найти сумму всех кратных 3 или 5 меньше 1000."
      ]
    },
    {
      "cell_type": "code",
      "metadata": {
        "id": "dRPD2NJEecug",
        "colab_type": "code",
        "outputId": "9077a724-b164-4a4c-faac-5ec44dc88037",
        "colab": {
          "base_uri": "https://localhost:8080/",
          "height": 34
        }
      },
      "source": [
        "# Впишите сюда ваше решение\n",
        "\n",
        "\n",
        "a=1\n",
        "result=0\n",
        "\n",
        "while a<1000:\n",
        "    if a%3==0 or a%5==0:\n",
        "        result=result+a\n",
        "    a+=1\n",
        "print(result)\n"
      ],
      "execution_count": 59,
      "outputs": [
        {
          "output_type": "stream",
          "text": [
            "233168\n"
          ],
          "name": "stdout"
        }
      ]
    },
    {
      "cell_type": "markdown",
      "metadata": {
        "id": "76i9RGJ7ecuk",
        "colab_type": "text"
      },
      "source": [
        "# Задача 2\n",
        "Каждый новый член в последовательности Фибоначчи генерируется путем добавления двух предыдущих членов. \n",
        "Начиная с 1 и 2, первые 10 слагаемых будут:\n",
        "1, 2, 3, 5, 8, 13, 21, 34, 55, 89, …\n",
        "Рассматривая члены в последовательности Фибоначчи, значения которых не превышают четырех миллионов, найдите сумму четных членов.\n"
      ]
    },
    {
      "cell_type": "code",
      "metadata": {
        "id": "ndwyxo63ecul",
        "colab_type": "code",
        "outputId": "c667896b-fedb-4cb0-c0db-8ef20fed2c64",
        "colab": {
          "base_uri": "https://localhost:8080/",
          "height": 34
        }
      },
      "source": [
        "# Впишите сюда ваше решение\n",
        "\n",
        "#задаем начало последовательности\n",
        "f1=0\n",
        "f2=1\n",
        "fn=0\n",
        "result=0\n",
        "while f2<4000000:\n",
        "    fn=f1+f2\n",
        "    f1=f2\n",
        "    f2=fn\n",
        "    if f1%2==0:\n",
        "      result=result+f1\n",
        "print(result)"
      ],
      "execution_count": 61,
      "outputs": [
        {
          "output_type": "stream",
          "text": [
            "4613732\n"
          ],
          "name": "stdout"
        }
      ]
    },
    {
      "cell_type": "markdown",
      "metadata": {
        "id": "ugK_jGdyecuo",
        "colab_type": "text"
      },
      "source": [
        "# Задача 3\n",
        "Посчитать факториал числа 155, не применяя библиотечные функции."
      ]
    },
    {
      "cell_type": "code",
      "metadata": {
        "id": "qRLqemHIecuo",
        "colab_type": "code",
        "colab": {
          "base_uri": "https://localhost:8080/",
          "height": 54
        },
        "outputId": "92b22410-2b22-4abd-acdd-f81d6f8f4739"
      },
      "source": [
        "# Впишите сюда ваше решение\n",
        "\n",
        "a=1\n",
        "\n",
        "for i in range(1,156):\n",
        "    a=a*i\n",
        "print(a)"
      ],
      "execution_count": 26,
      "outputs": [
        {
          "output_type": "stream",
          "text": [
            "4789142901463393876335775239063022722176295591337767174070096339929153381622433264146569329274347655956110484372311586936020749175429076661003216274382475477806479918110524333880196139452687559896255940215628508414806740389616633144934400000000000000000000000000000000000000\n"
          ],
          "name": "stdout"
        }
      ]
    },
    {
      "cell_type": "markdown",
      "metadata": {
        "id": "O-udSbDUecus",
        "colab_type": "text"
      },
      "source": [
        "# Задача 4\n",
        "Пользователь делает вклад в размере 155 899 рублей сроком на 16 лет под 8,56% годовых(каждый год размер его вклада увеличивается на %. Эти деньги прибавляются к сумме вклада, и на них в следующем году тоже будут проценты).\n",
        "Какая сумма будет на счету клиента через 5, 8, 12, 16 лет?\n"
      ]
    },
    {
      "cell_type": "code",
      "metadata": {
        "id": "GUDYXUHpecuu",
        "colab_type": "code",
        "colab": {
          "base_uri": "https://localhost:8080/",
          "height": 85
        },
        "outputId": "8b24079a-a64b-4cbd-ffaa-309b99c9c811"
      },
      "source": [
        "# Впишите сюда ваше решение\n",
        "\n",
        "deposit=155899\n",
        "term=16\n",
        "rate=0.0856\n",
        "\n",
        "\n",
        "for i in range(1,term+1):\n",
        "    deposit=deposit+deposit*rate\n",
        "    if i==5:\n",
        "      dep5=deposit\n",
        "    elif i==8:\n",
        "      dep8=deposit\n",
        "    elif i==12:\n",
        "      dep12=deposit   \n",
        "    elif i==16:\n",
        "      dep16=deposit\n",
        "print('Сумма через 5 лет -',round(dep5,2),'руб.\\nСумма через 8 лет -',round(dep8,2),'руб.\\nСумма через 12 лет -',round(dep12,2),'руб.\\nСумма через 16 лет -',round(dep16,2),'руб.')\n"
      ],
      "execution_count": 62,
      "outputs": [
        {
          "output_type": "stream",
          "text": [
            "Сумма через 5 лет - 235067.45 руб.\n",
            "Сумма через 8 лет - 300747.49 руб.\n",
            "Сумма через 12 лет - 417716.23 руб.\n",
            "Сумма через 16 лет - 580177.23 руб.\n"
          ],
          "name": "stdout"
        }
      ]
    },
    {
      "cell_type": "markdown",
      "metadata": {
        "id": "8LjKZh-Wecuy",
        "colab_type": "text"
      },
      "source": [
        "# Задача 5\n",
        "Вы покупаете автомобиль за 850 тыс. рублей. Ваш первоначальный взнос составляет 400 тыс. рублей. Остаток суммы вы хотите взять в кредит от Хоум Кредит Банка под 10.9%. Рассчитайте переплату по кредиту, если кредит будет оформлен на 5 лет. Для расчета платежа используйте формулу расчета аннуитетного платежа."
      ]
    },
    {
      "cell_type": "code",
      "metadata": {
        "id": "mJ0MiUGfecuz",
        "colab_type": "code",
        "colab": {
          "base_uri": "https://localhost:8080/",
          "height": 34
        },
        "outputId": "b453a7ed-3a68-4fe9-a16c-f0a0a774a676"
      },
      "source": [
        "# Впишите сюда ваше решение\n",
        "\n",
        "credit=850000\n",
        "first_contr=400000\n",
        "rate=10.9\n",
        "term=5\n",
        "\n",
        "credit=credit-first_contr\n",
        "rate_ann=rate/100/12\n",
        "\n",
        "payment=credit*(rate_ann*(1+rate_ann)**(term*12)/((1+rate_ann)**(term*12)-1))\n",
        "\n",
        "overpayment=payment*term*12-credit\n",
        "\n",
        "\n",
        "print('Сумма переплаты составит',round(overpayment,2),'руб.')\n",
        "\n",
        "\n"
      ],
      "execution_count": 64,
      "outputs": [
        {
          "output_type": "stream",
          "text": [
            "Сумма переплаты составит 135699.81 руб.\n"
          ],
          "name": "stdout"
        }
      ]
    }
  ]
}
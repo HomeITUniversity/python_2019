{
  "nbformat": 4,
  "nbformat_minor": 0,
  "metadata": {
    "colab": {
      "name": "HW_11.09.ipynb",
      "version": "0.3.2",
      "provenance": [],
      "collapsed_sections": []
    },
    "kernelspec": {
      "name": "python3",
      "display_name": "Python 3"
    }
  },
  "cells": [
    {
      "cell_type": "markdown",
      "metadata": {
        "id": "UComR-3gj6Nq",
        "colab_type": "text"
      },
      "source": [
        "# ***Дз №1 от 11.09.19 Смагина Мария*** \n",
        "\n",
        "# Задача 1\n",
        "\n",
        "Если мы перечислим все натуральные числа меньше 10, кратные 3 или 5, мы получим 3, 5, 6 и 9. Сумма этих кратных чисел равна 23. Найти сумму всех кратных 3 или 5 меньше 1000."
      ]
    },
    {
      "cell_type": "code",
      "metadata": {
        "id": "P1R5FrAEXQe5",
        "colab_type": "code",
        "outputId": "05e0a23e-6459-4046-f147-aff168302be5",
        "colab": {
          "base_uri": "https://localhost:8080/",
          "height": 34
        }
      },
      "source": [
        "sum = 0\n",
        "for x in range(1, 1000):\n",
        "    result1 = x % 3\n",
        "    if result1 == 0: \n",
        "      sum += x \n",
        "    else: \n",
        "      result2 = x % 5 \n",
        "      if result2 == 0:\n",
        "        sum += x\n",
        "      else:\n",
        "        continue\n",
        "        \n",
        "print(sum)"
      ],
      "execution_count": 0,
      "outputs": [
        {
          "output_type": "stream",
          "text": [
            "233168\n"
          ],
          "name": "stdout"
        }
      ]
    },
    {
      "cell_type": "markdown",
      "metadata": {
        "id": "94uxcJy2kNtG",
        "colab_type": "text"
      },
      "source": [
        "# Задача 2\n",
        "Каждый новый член в последовательности Фибоначчи генерируется путем добавления двух предыдущих членов. Начиная с 1 и 2, первые 10 слагаемых будут: 1, 2, 3, 5, 8, 13, 21, 34, 55, 89, … Рассматривая члены в последовательности Фибоначчи, значения которых не превышают четырех миллионов, найдите сумму четных членов."
      ]
    },
    {
      "cell_type": "code",
      "metadata": {
        "id": "t7NHV_wPMXAq",
        "colab_type": "code",
        "outputId": "01e45c2f-c85a-42a9-c156-ff849b032dfc",
        "colab": {
          "base_uri": "https://localhost:8080/",
          "height": 34
        }
      },
      "source": [
        "sum = 0\n",
        "f1, f2 = 1, 2\n",
        "while f2 < 4000000:\n",
        "    if f2 % 2 == 0:\n",
        "        sum += f2\n",
        "    f1, f2 = f2, f1 + f2\n",
        "print(sum)"
      ],
      "execution_count": 0,
      "outputs": [
        {
          "output_type": "stream",
          "text": [
            "4613732\n"
          ],
          "name": "stdout"
        }
      ]
    },
    {
      "cell_type": "markdown",
      "metadata": {
        "id": "AkAvBcqLzzPq",
        "colab_type": "text"
      },
      "source": [
        "# Задача 3\n",
        "Посчитать факториал числа 155, не применяя библиотечные функции."
      ]
    },
    {
      "cell_type": "code",
      "metadata": {
        "id": "wcgasGa12kYI",
        "colab_type": "code",
        "outputId": "932dad5b-d627-42d4-e7e0-bbd5b4d0e8bf",
        "colab": {
          "base_uri": "https://localhost:8080/",
          "height": 54
        }
      },
      "source": [
        "f = 1\n",
        "\n",
        "for x in range(2, 156):\n",
        "  f *= x\n",
        "    \n",
        "print(f)\n",
        "  "
      ],
      "execution_count": 0,
      "outputs": [
        {
          "output_type": "stream",
          "text": [
            "4789142901463393876335775239063022722176295591337767174070096339929153381622433264146569329274347655956110484372311586936020749175429076661003216274382475477806479918110524333880196139452687559896255940215628508414806740389616633144934400000000000000000000000000000000000000\n"
          ],
          "name": "stdout"
        }
      ]
    },
    {
      "cell_type": "markdown",
      "metadata": {
        "id": "VZyfXGEjqmVG",
        "colab_type": "text"
      },
      "source": [
        "# Задача 4\n",
        "Пользователь делает вклад в размере 155 899 рублей сроком на 16 лет под 8,56% годовых(каждый год размер его вклада увеличивается на %. Эти деньги прибавляются к сумме вклада, и на них в следующем году тоже будут проценты). Какая сумма будет на счету клиента через 5, 8, 12, 16 лет?"
      ]
    },
    {
      "cell_type": "code",
      "metadata": {
        "id": "-wC_0YmMq9EJ",
        "colab_type": "code",
        "outputId": "d882ed36-476f-48e3-f4b3-877c3bcfd829",
        "colab": {
          "base_uri": "https://localhost:8080/",
          "height": 87
        }
      },
      "source": [
        "vklad = 155899\n",
        "rate = 8.56\n",
        "for year in range(1, 17):\n",
        "  vklad *= ((100 + rate) / 100)\n",
        "  if year == 5 or year == 8 or year == 12 or year == 16:\n",
        "    print(round(vklad, 2))\n",
        "    continue"
      ],
      "execution_count": 0,
      "outputs": [
        {
          "output_type": "stream",
          "text": [
            "235067.45\n",
            "300747.49\n",
            "417716.23\n",
            "580177.23\n"
          ],
          "name": "stdout"
        }
      ]
    },
    {
      "cell_type": "markdown",
      "metadata": {
        "id": "NFtFFljlydNx",
        "colab_type": "text"
      },
      "source": [
        "# Задача 5\n",
        "Вы покупаете автомобиль за 850 тыс. рублей. Ваш первоначальный взнос составляет 400 тыс. рублей. Остаток суммы вы хотите взять в кредит от Хоум Кредит Банка под 10.9%. Рассчитайте переплату по кредиту, если кредит будет оформлен на 5 лет. Для расчета платежа используйте формулу расчета аннуитетного платежа."
      ]
    },
    {
      "cell_type": "code",
      "metadata": {
        "id": "HFUwppPL-PK8",
        "colab_type": "code",
        "outputId": "133e81b9-a8a9-4512-a515-39bb6df939ee",
        "colab": {
          "base_uri": "https://localhost:8080/",
          "height": 34
        }
      },
      "source": [
        "kredit = 450000\n",
        "rate = 10.9\n",
        "t = 60\n",
        "\n",
        "month_rate = rate / 12 / 100\n",
        "month_pay = (kredit * month_rate * (1 + month_rate) ** t) / ((1 + month_rate) ** t - 1)\n",
        "pereplata = (month_pay * t) - kredit\n",
        "\n",
        "print(round(pereplata, 2))  \n"
      ],
      "execution_count": 0,
      "outputs": [
        {
          "output_type": "stream",
          "text": [
            "135699.81\n"
          ],
          "name": "stdout"
        }
      ]
    }
  ]
}
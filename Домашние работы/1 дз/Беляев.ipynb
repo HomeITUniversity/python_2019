{
  "nbformat": 4,
  "nbformat_minor": 0,
  "metadata": {
    "kernelspec": {
      "display_name": "Python 3",
      "language": "python",
      "name": "python3"
    },
    "language_info": {
      "codemirror_mode": {
        "name": "ipython",
        "version": 3
      },
      "file_extension": ".py",
      "mimetype": "text/x-python",
      "name": "python",
      "nbconvert_exporter": "python",
      "pygments_lexer": "ipython3",
      "version": "3.7.3"
    },
    "colab": {
      "name": "01_digits_homework.ipynb",
      "provenance": [],
      "collapsed_sections": []
    }
  },
  "cells": [
    {
      "cell_type": "markdown",
      "metadata": {
        "id": "K-BjxTQSecuZ",
        "colab_type": "text"
      },
      "source": [
        "#### Мягкий дедлайн: 18 сентября 23:59\n",
        "#### Жесткий дедлайн: 25 сентября 23:59\n",
        "\n",
        "Отправляйте Notebook файл с решение по адресу homeituniversity@gmail.com\n",
        "\n",
        "Тема письма: Python курс > ДЗ 1 > ФИО"
      ]
    },
    {
      "cell_type": "markdown",
      "metadata": {
        "id": "aWU7EATkecuf",
        "colab_type": "text"
      },
      "source": [
        "# Задача 1\n",
        "Если мы перечислим все натуральные числа меньше 10, кратные 3 или 5, мы получим 3, 5, 6 и 9. Сумма этих кратных чисел равна 23.\n",
        "Найти сумму всех кратных 3 или 5 меньше 1000."
      ]
    },
    {
      "cell_type": "code",
      "metadata": {
        "id": "dRPD2NJEecug",
        "colab_type": "code",
        "outputId": "c73531fa-56f6-40aa-8e84-7c18f2391f17",
        "colab": {
          "base_uri": "https://localhost:8080/",
          "height": 34
        }
      },
      "source": [
        "a=0\n",
        "b=0\n",
        "c=0\n",
        "\n",
        "for i in range(1000):\n",
        "  if (i%3==0):\n",
        "     a+=i\n",
        "      \n",
        "for i in range(1000):\n",
        "  if (i%5==0):\n",
        "      b+=i\n",
        "     \n",
        "for i in range(1000):\n",
        "  if (i%3==0 and i%5==0):\n",
        "      c+=i\n",
        "      \n",
        "print('Сумма всех чисел:',a+b-c)\n",
        "  "
      ],
      "execution_count": 0,
      "outputs": [
        {
          "output_type": "stream",
          "text": [
            "Сумма всех чисел: 233168\n"
          ],
          "name": "stdout"
        }
      ]
    },
    {
      "cell_type": "markdown",
      "metadata": {
        "id": "76i9RGJ7ecuk",
        "colab_type": "text"
      },
      "source": [
        "# Задача 2\n",
        "Каждый новый член в последовательности Фибоначчи генерируется путем добавления двух предыдущих членов. \n",
        "Начиная с 1 и 2, первые 10 слагаемых будут:\n",
        "1, 2, 3, 5, 8, 13, 21, 34, 55, 89, …\n",
        "Рассматривая члены в последовательности Фибоначчи, значения которых не превышают четырех миллионов, найдите сумму четных членов.\n"
      ]
    },
    {
      "cell_type": "code",
      "metadata": {
        "id": "ndwyxo63ecul",
        "colab_type": "code",
        "colab": {}
      },
      "source": [
        "# Впишите сюда ваше решение\n"
      ],
      "execution_count": 0,
      "outputs": []
    },
    {
      "cell_type": "markdown",
      "metadata": {
        "id": "ugK_jGdyecuo",
        "colab_type": "text"
      },
      "source": [
        "# Задача 3\n",
        "Посчитать факториал числа 155, не применяя библиотечные функции."
      ]
    },
    {
      "cell_type": "code",
      "metadata": {
        "id": "qRLqemHIecuo",
        "colab_type": "code",
        "outputId": "a660365b-fb17-4425-b885-8e3b0882b7fd",
        "colab": {
          "base_uri": "https://localhost:8080/",
          "height": 54
        }
      },
      "source": [
        "a=0\n",
        "factorial=1\n",
        "\n",
        "while a < 155:\n",
        "    a+=1\n",
        "    factorial=factorial*a\n",
        "print ('Факториал числа 155 равен:',factorial)"
      ],
      "execution_count": 0,
      "outputs": [
        {
          "output_type": "stream",
          "text": [
            "Факториал числа 155 равен: 4789142901463393876335775239063022722176295591337767174070096339929153381622433264146569329274347655956110484372311586936020749175429076661003216274382475477806479918110524333880196139452687559896255940215628508414806740389616633144934400000000000000000000000000000000000000\n"
          ],
          "name": "stdout"
        }
      ]
    },
    {
      "cell_type": "markdown",
      "metadata": {
        "id": "O-udSbDUecus",
        "colab_type": "text"
      },
      "source": [
        "# Задача 4\n",
        "Пользователь делает вклад в размере 155 899 рублей сроком на 16 лет под 8,56% годовых(каждый год размер его вклада увеличивается на %. Эти деньги прибавляются к сумме вклада, и на них в следующем году тоже будут проценты).\n",
        "Какая сумма будет на счету клиента через 5, 8, 12, 16 лет?\n"
      ]
    },
    {
      "cell_type": "code",
      "metadata": {
        "id": "GUDYXUHpecuu",
        "colab_type": "code",
        "outputId": "703cbced-e81b-4efc-ab93-ab5b27a7e364",
        "colab": {
          "base_uri": "https://localhost:8080/",
          "height": 85
        }
      },
      "source": [
        "a=1\n",
        "stavka=8.56\n",
        "Vklad=155899\n",
        "while a<17:\n",
        "  Vklad=Vklad+Vklad*(stavka/100)\n",
        "  if (a==5):\n",
        "    print(\"5 лет:\", Vklad)\n",
        "  if (a==8):\n",
        "    print(\"8 лет\", Vklad)\n",
        "  if (a==12):\n",
        "    print(\"12 лет:\", Vklad)\n",
        "  if (a==16):\n",
        "    print(\"16 лет:\", Vklad)\n",
        "  a+=1\n",
        "  \n",
        "\n",
        "  \n",
        "  \n",
        "\n"
      ],
      "execution_count": 12,
      "outputs": [
        {
          "output_type": "stream",
          "text": [
            "5 лет: 235067.4535564665\n",
            "8 лет 300747.4866813573\n",
            "12 лет: 417716.2257188077\n",
            "16 лет: 580177.2349094811\n"
          ],
          "name": "stdout"
        }
      ]
    },
    {
      "cell_type": "markdown",
      "metadata": {
        "id": "8LjKZh-Wecuy",
        "colab_type": "text"
      },
      "source": [
        "# Задача 5\n",
        "Вы покупаете автомобиль за 850 тыс. рублей. Ваш первоначальный взнос составляет 400 тыс. рублей. Остаток суммы вы хотите взять в кредит от Хоум Кредит Банка под 10.9%. Рассчитайте переплату по кредиту, если кредит будет оформлен на 5 лет. Для расчета платежа используйте формулу расчета аннуитетного платежа."
      ]
    },
    {
      "cell_type": "code",
      "metadata": {
        "id": "mJ0MiUGfecuz",
        "colab_type": "code",
        "outputId": "acd8ab16-a40c-45d2-c27e-0fad7eeedbc3",
        "colab": {
          "base_uri": "https://localhost:8080/",
          "height": 34
        }
      },
      "source": [
        "s=450000 #сумма кредита\n",
        "p=10.9 #годовая процентная ставка\n",
        "e=60 #ежемесячный аннуитентный платёж\n",
        "r=p/12/100 #Процентная ставка по кредиту в месяц\n",
        "k=r*(1+r)**e/((1+r)**e-1) #коэффициент аннуитета\n",
        "a=k*s #ежемесячный аннуитетный платеж\n",
        "x=a*e-s #переплата\n",
        "print('Переплата по кредиту составит:',x)\n",
        "\n",
        "\n",
        "\n",
        "\n",
        "\n",
        "\n",
        "\n",
        "\n"
      ],
      "execution_count": 0,
      "outputs": [
        {
          "output_type": "stream",
          "text": [
            "Переплата по кредиту составит: 135699.80658506136\n"
          ],
          "name": "stdout"
        }
      ]
    }
  ]
}
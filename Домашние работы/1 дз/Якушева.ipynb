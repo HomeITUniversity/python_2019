{
  "nbformat": 4,
  "nbformat_minor": 0,
  "metadata": {
    "kernelspec": {
      "display_name": "Python 3",
      "language": "python",
      "name": "python3"
    },
    "language_info": {
      "codemirror_mode": {
        "name": "ipython",
        "version": 3
      },
      "file_extension": ".py",
      "mimetype": "text/x-python",
      "name": "python",
      "nbconvert_exporter": "python",
      "pygments_lexer": "ipython3",
      "version": "3.7.3"
    },
    "colab": {
      "name": "01_homework.ipynb",
      "provenance": [],
      "collapsed_sections": []
    }
  },
  "cells": [
    {
      "cell_type": "markdown",
      "metadata": {
        "id": "K-BjxTQSecuZ",
        "colab_type": "text"
      },
      "source": [
        "#### Мягкий дедлайн: 18 сентября 23:59\n",
        "#### Жесткий дедлайн: 25 сентября 23:59\n",
        "\n",
        "Отправляйте Notebook файл с решение по адресу homeituniversity@gmail.com\n",
        "\n",
        "Тема письма: Python курс > ДЗ 1 > ФИО"
      ]
    },
    {
      "cell_type": "markdown",
      "metadata": {
        "id": "aWU7EATkecuf",
        "colab_type": "text"
      },
      "source": [
        "# Задача 1\n",
        "Если мы перечислим все натуральные числа меньше 10, кратные 3 или 5, мы получим 3, 5, 6 и 9. Сумма этих кратных чисел равна 23.\n",
        "Найти сумму всех кратных 3 или 5 меньше 1000."
      ]
    },
    {
      "cell_type": "code",
      "metadata": {
        "id": "dRPD2NJEecug",
        "colab_type": "code",
        "outputId": "f2147c2b-735c-4f58-939b-066417145b98",
        "colab": {
          "base_uri": "https://localhost:8080/",
          "height": 34
        }
      },
      "source": [
        "# Впишите сюда ваше решение\n",
        "sum=0\n",
        "for x in range(1000):\n",
        " if (x % 3 == 0 or x % 5 == 0):\n",
        "  sum +=x\n",
        "print(sum)"
      ],
      "execution_count": 0,
      "outputs": [
        {
          "output_type": "stream",
          "text": [
            "233168\n"
          ],
          "name": "stdout"
        }
      ]
    },
    {
      "cell_type": "markdown",
      "metadata": {
        "id": "76i9RGJ7ecuk",
        "colab_type": "text"
      },
      "source": [
        "# Задача 2\n",
        "Каждый новый член в последовательности Фибоначчи генерируется путем добавления двух предыдущих членов. \n",
        "Начиная с 1 и 2, первые 10 слагаемых будут:\n",
        "1, 2, 3, 5, 8, 13, 21, 34, 55, 89, …\n",
        "Рассматривая члены в последовательности Фибоначчи, значения которых не превышают четырех миллионов, найдите сумму четных членов.\n"
      ]
    },
    {
      "cell_type": "code",
      "metadata": {
        "id": "ndwyxo63ecul",
        "colab_type": "code",
        "outputId": "3479a15f-6573-4344-d311-34c2b281a4fc",
        "colab": {
          "base_uri": "https://localhost:8080/",
          "height": 34
        }
      },
      "source": [
        "# Впишите сюда ваше решение\n",
        "f1=1\n",
        "f2=2\n",
        "f_sum=0\n",
        "sum_ch=0\n",
        "while f1<4000000:\n",
        "  if f2 % 2 == 0:\n",
        "    sum_ch += f2\n",
        "  f_sum=f1+f2\n",
        "  f1=f2\n",
        "  f2=f_sum\n",
        "print(sum_ch) \n"
      ],
      "execution_count": 0,
      "outputs": [
        {
          "output_type": "stream",
          "text": [
            "4613732\n"
          ],
          "name": "stdout"
        }
      ]
    },
    {
      "cell_type": "markdown",
      "metadata": {
        "id": "ugK_jGdyecuo",
        "colab_type": "text"
      },
      "source": [
        "# Задача 3\n",
        "Посчитать факториал числа 155, не применяя библиотечные функции."
      ]
    },
    {
      "cell_type": "code",
      "metadata": {
        "id": "qRLqemHIecuo",
        "colab_type": "code",
        "outputId": "b3ad705c-d2b7-4417-f860-3fa83ae687ee",
        "colab": {
          "base_uri": "https://localhost:8080/",
          "height": 54
        }
      },
      "source": [
        "# Впишите сюда ваше решение\n",
        "n=155\n",
        "f=1\n",
        "while n>0:\n",
        "  f*=n\n",
        "  n-=1\n",
        "print(f)  \n",
        " \n"
      ],
      "execution_count": 0,
      "outputs": [
        {
          "output_type": "stream",
          "text": [
            "4789142901463393876335775239063022722176295591337767174070096339929153381622433264146569329274347655956110484372311586936020749175429076661003216274382475477806479918110524333880196139452687559896255940215628508414806740389616633144934400000000000000000000000000000000000000\n"
          ],
          "name": "stdout"
        }
      ]
    },
    {
      "cell_type": "markdown",
      "metadata": {
        "id": "O-udSbDUecus",
        "colab_type": "text"
      },
      "source": [
        "# Задача 4\n",
        "Пользователь делает вклад в размере 155 899 рублей сроком на 16 лет под 8,56% годовых(каждый год размер его вклада увеличивается на %. Эти деньги прибавляются к сумме вклада, и на них в следующем году тоже будут проценты).\n",
        "Какая сумма будет на счету клиента через 5, 8, 12, 16 лет?\n"
      ]
    },
    {
      "cell_type": "code",
      "metadata": {
        "id": "GUDYXUHpecuu",
        "colab_type": "code",
        "outputId": "5fa1a917-2d28-444d-9b8c-e4664f611d1b",
        "colab": {
          "base_uri": "https://localhost:8080/",
          "height": 85
        }
      },
      "source": [
        "# Впишите сюда ваше решение\n",
        "dep=155899\n",
        "rate=0.0856\n",
        "year=0\n",
        "while year<16:\n",
        " dep=(dep*rate)+dep\n",
        " year+=1\n",
        " if year==5:\n",
        "  print(year, \"Лет: Сумма депозита\",round(dep,2), \"рублей\")\n",
        " if year==8:\n",
        "  print(year, \"Лет: Сумма депозита\",round(dep,2), \"рублей\")\n",
        " if year==12:\n",
        "  print(year, \"Лет: Сумма депозита\",round(dep,2), \"рублей\")\n",
        " if year==16:\n",
        "  print(year, \"Лет: Сумма депозита\",round(dep,2), \"рублей\")"
      ],
      "execution_count": 0,
      "outputs": [
        {
          "output_type": "stream",
          "text": [
            "5 Лет: Сумма депозита 235067.45 рублей\n",
            "8 Лет: Сумма депозита 300747.49 рублей\n",
            "12 Лет: Сумма депозита 417716.23 рублей\n",
            "16 Лет: Сумма депозита 580177.23 рублей\n"
          ],
          "name": "stdout"
        }
      ]
    },
    {
      "cell_type": "markdown",
      "metadata": {
        "id": "8LjKZh-Wecuy",
        "colab_type": "text"
      },
      "source": [
        "# Задача 5\n",
        "Вы покупаете автомобиль за 850 тыс. рублей. Ваш первоначальный взнос составляет 400 тыс. рублей. Остаток суммы вы хотите взять в кредит от Хоум Кредит Банка под 10.9%. Рассчитайте переплату по кредиту, если кредит будет оформлен на 5 лет. Для расчета платежа используйте формулу расчета аннуитетного платежа."
      ]
    },
    {
      "cell_type": "code",
      "metadata": {
        "id": "mJ0MiUGfecuz",
        "colab_type": "code",
        "outputId": "e59e47c7-c639-4275-e29f-53eade5deaf7",
        "colab": {
          "base_uri": "https://localhost:8080/",
          "height": 34
        }
      },
      "source": [
        "# Впишите сюда ваше решение\n",
        "s=450000\n",
        "rate=0.109\n",
        "i=rate/12\n",
        "n=60\n",
        "plat=s*(i+(i/(((1+i)**n)-1)))\n",
        "j=round(plat,2)*n\n",
        "pereplata=j-s\n",
        "print(\"Переплата\",round(pereplata,2),\"рублей\")"
      ],
      "execution_count": 3,
      "outputs": [
        {
          "output_type": "stream",
          "text": [
            "Переплата 135699.6 рублей\n"
          ],
          "name": "stdout"
        }
      ]
    }
  ]
}
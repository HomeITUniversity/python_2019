{
  "nbformat": 4,
  "nbformat_minor": 0,
  "metadata": {
    "kernelspec": {
      "display_name": "Python 3",
      "language": "python",
      "name": "python3"
    },
    "language_info": {
      "codemirror_mode": {
        "name": "ipython",
        "version": 3
      },
      "file_extension": ".py",
      "mimetype": "text/x-python",
      "name": "python",
      "nbconvert_exporter": "python",
      "pygments_lexer": "ipython3",
      "version": "3.7.3"
    },
    "colab": {
      "name": "01_digits_homework.ipynb",
      "provenance": []
    }
  },
  "cells": [
    {
      "cell_type": "markdown",
      "metadata": {
        "id": "K-BjxTQSecuZ",
        "colab_type": "text"
      },
      "source": [
        "#### Мягкий дедлайн: 18 сентября 23:59\n",
        "#### Жесткий дедлайн: 25 сентября 23:59\n",
        "\n",
        "Отправляйте Notebook файл с решение по адресу homeituniversity@gmail.com\n",
        "\n",
        "Тема письма: Python курс > ДЗ 1 > ФИО"
      ]
    },
    {
      "cell_type": "markdown",
      "metadata": {
        "id": "aWU7EATkecuf",
        "colab_type": "text"
      },
      "source": [
        "# Задача 1\n",
        "Если мы перечислим все натуральные числа меньше 10, кратные 3 или 5, мы получим 3, 5, 6 и 9. Сумма этих кратных чисел равна 23.\n",
        "Найти сумму всех кратных 3 или 5 меньше 1000."
      ]
    },
    {
      "cell_type": "code",
      "metadata": {
        "id": "dRPD2NJEecug",
        "colab_type": "code",
        "colab": {
          "base_uri": "https://localhost:8080/",
          "height": 33
        },
        "outputId": "339b7943-a1f5-42d4-c37a-60ea6a4691cc"
      },
      "source": [
        "# Впишите сюда ваше решение\n",
        "s = 0\n",
        "for i in range (1000):\n",
        "        if i % 3 == 0 or i % 5==0:\n",
        "            s = s + i\n",
        "print(s)        "
      ],
      "execution_count": 53,
      "outputs": [
        {
          "output_type": "stream",
          "text": [
            "233168\n"
          ],
          "name": "stdout"
        }
      ]
    },
    {
      "cell_type": "markdown",
      "metadata": {
        "id": "76i9RGJ7ecuk",
        "colab_type": "text"
      },
      "source": [
        "# Задача 2\n",
        "Каждый новый член в последовательности Фибоначчи генерируется путем добавления двух предыдущих членов. \n",
        "Начиная с 1 и 2, первые 10 слагаемых будут:\n",
        "1, 2, 3, 5, 8, 13, 21, 34, 55, 89, …\n",
        "Рассматривая члены в последовательности Фибоначчи, значения которых не превышают четырех миллионов, найдите сумму четных членов.\n"
      ]
    },
    {
      "cell_type": "code",
      "metadata": {
        "id": "ndwyxo63ecul",
        "colab_type": "code",
        "colab": {
          "base_uri": "https://localhost:8080/",
          "height": 33
        },
        "outputId": "6de4372f-9cc6-4123-b3e5-651f8c9e33f8"
      },
      "source": [
        "# Впишите сюда ваше решение\n",
        "x = 1\n",
        "y = 1\n",
        "res = 0\n",
        "while x <= 4000000:\n",
        "    if x % 2 == 0:\n",
        "        res += x\n",
        "    c = x\n",
        "    x = y \n",
        "    y = c + y  \n",
        "print(res)"
      ],
      "execution_count": 54,
      "outputs": [
        {
          "output_type": "stream",
          "text": [
            "4613732\n"
          ],
          "name": "stdout"
        }
      ]
    },
    {
      "cell_type": "markdown",
      "metadata": {
        "id": "ugK_jGdyecuo",
        "colab_type": "text"
      },
      "source": [
        "# Задача 3\n",
        "Посчитать факториал числа 155, не применяя библиотечные функции."
      ]
    },
    {
      "cell_type": "code",
      "metadata": {
        "id": "qRLqemHIecuo",
        "colab_type": "code",
        "colab": {
          "base_uri": "https://localhost:8080/",
          "height": 53
        },
        "outputId": "45a1f697-822d-4d64-e830-545ec736a5c7"
      },
      "source": [
        "# Впишите сюда ваше решение\n",
        "i = 155\n",
        "f = 1\n",
        "while i > 1:\n",
        "    f *= i\n",
        "    i -= 1\n",
        "print(f)"
      ],
      "execution_count": 55,
      "outputs": [
        {
          "output_type": "stream",
          "text": [
            "4789142901463393876335775239063022722176295591337767174070096339929153381622433264146569329274347655956110484372311586936020749175429076661003216274382475477806479918110524333880196139452687559896255940215628508414806740389616633144934400000000000000000000000000000000000000\n"
          ],
          "name": "stdout"
        }
      ]
    },
    {
      "cell_type": "markdown",
      "metadata": {
        "id": "O-udSbDUecus",
        "colab_type": "text"
      },
      "source": [
        "# Задача 4\n",
        "Пользователь делает вклад в размере 155 899 рублей сроком на 16 лет под 8,56% годовых(каждый год размер его вклада увеличивается на %. Эти деньги прибавляются к сумме вклада, и на них в следующем году тоже будут проценты).\n",
        "Какая сумма будет на счету клиента через 5, 8, 12, 16 лет?\n"
      ]
    },
    {
      "cell_type": "code",
      "metadata": {
        "id": "GUDYXUHpecuu",
        "colab_type": "code",
        "colab": {
          "base_uri": "https://localhost:8080/",
          "height": 82
        },
        "outputId": "1e6f5ba1-8528-488e-dfd6-d3ce3c3d53db"
      },
      "source": [
        "# Впишите сюда ваше решение\n",
        "\n",
        "sum = 155899 / 100 * 8.56 + 155899\n",
        "for i in range (15):\n",
        "    sum = sum + sum / 100 * 8.56\n",
        "    if i == 14:\n",
        "        print('16: ',sum)\n",
        "    elif i == 10:\n",
        "        print('12: ',sum)\n",
        "    elif i == 6:\n",
        "        print('8: ',sum)\n",
        "    elif i == 3:\n",
        "        print ('5:',sum)\n"
      ],
      "execution_count": 37,
      "outputs": [
        {
          "output_type": "stream",
          "text": [
            "5: 235067.4535564665\n",
            "8:  300747.4866813573\n",
            "12:  417716.2257188077\n",
            "16:  580177.2349094811\n"
          ],
          "name": "stdout"
        }
      ]
    },
    {
      "cell_type": "markdown",
      "metadata": {
        "id": "8LjKZh-Wecuy",
        "colab_type": "text"
      },
      "source": [
        "# Задача 5\n",
        "Вы покупаете автомобиль за 850 тыс. рублей. Ваш первоначальный взнос составляет 400 тыс. рублей. Остаток суммы вы хотите взять в кредит от Хоум Кредит Банка под 10.9%. Рассчитайте переплату по кредиту, если кредит будет оформлен на 5 лет. Для расчета платежа используйте формулу расчета аннуитетного платежа."
      ]
    },
    {
      "cell_type": "code",
      "metadata": {
        "id": "mJ0MiUGfecuz",
        "colab_type": "code",
        "colab": {
          "base_uri": "https://localhost:8080/",
          "height": 33
        },
        "outputId": "443cfe6b-5780-4438-bc40-376b7cdb2d77"
      },
      "source": [
        "# Впишите сюда ваше решение\n",
        "\n",
        "pr = 10.9 / 12 / 100\n",
        "res = (450000 * 60* ((pr*(1+pr)**60)/((1+pr)**60-1))) - 450000 \n",
        "print(res)"
      ],
      "execution_count": 49,
      "outputs": [
        {
          "output_type": "stream",
          "text": [
            "135699.80658506136\n"
          ],
          "name": "stdout"
        }
      ]
    }
  ]
}
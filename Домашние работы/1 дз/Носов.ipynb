{
  "nbformat": 4,
  "nbformat_minor": 0,
  "metadata": {
    "kernelspec": {
      "display_name": "Python 3",
      "language": "python",
      "name": "python3"
    },
    "language_info": {
      "codemirror_mode": {
        "name": "ipython",
        "version": 3
      },
      "file_extension": ".py",
      "mimetype": "text/x-python",
      "name": "python",
      "nbconvert_exporter": "python",
      "pygments_lexer": "ipython3",
      "version": "3.7.3"
    },
    "colab": {
      "name": "01_digits_homework.ipynb",
      "provenance": [],
      "collapsed_sections": []
    }
  },
  "cells": [
    {
      "cell_type": "markdown",
      "metadata": {
        "id": "K-BjxTQSecuZ",
        "colab_type": "text"
      },
      "source": [
        "#### Мягкий дедлайн: 18 сентября 23:59\n",
        "#### Жесткий дедлайн: 25 сентября 23:59\n",
        "\n",
        "Отправляйте Notebook файл с решение по адресу homeituniversity@gmail.com\n",
        "\n",
        "Тема письма: Python курс > ДЗ 1 > ФИО"
      ]
    },
    {
      "cell_type": "markdown",
      "metadata": {
        "id": "aWU7EATkecuf",
        "colab_type": "text"
      },
      "source": [
        "# Задача 1\n",
        "Если мы перечислим все натуральные числа меньше 10, кратные 3 или 5, мы получим 3, 5, 6 и 9. Сумма этих кратных чисел равна 23.\n",
        "Найти сумму всех кратных 3 или 5 меньше 1000."
      ]
    },
    {
      "cell_type": "code",
      "metadata": {
        "id": "dRPD2NJEecug",
        "colab_type": "code",
        "colab": {}
      },
      "source": [
        "# Решение\n",
        "counter=0\n",
        "for n in range (1,1001): \n",
        "  if ((n%3 == 0) or (n%5 == 0)):\n",
        "    counter += n\n",
        "print('Cумма всех кратных 3 или 5 чисел меньше 1000 = ',counter)   \n",
        " \n",
        "    "
      ],
      "execution_count": 0,
      "outputs": []
    },
    {
      "cell_type": "markdown",
      "metadata": {
        "id": "76i9RGJ7ecuk",
        "colab_type": "text"
      },
      "source": [
        "# Задача 2\n",
        "Каждый новый член в последовательности Фибоначчи генерируется путем добавления двух предыдущих членов. \n",
        "Начиная с 1 и 2, первые 10 слагаемых будут:\n",
        "1, 2, 3, 5, 8, 13, 21, 34, 55, 89, …\n",
        "Рассматривая члены в последовательности Фибоначчи, значения которых не превышают четырех миллионов, найдите сумму четных членов.\n"
      ]
    },
    {
      "cell_type": "code",
      "metadata": {
        "id": "ndwyxo63ecul",
        "colab_type": "code",
        "colab": {}
      },
      "source": [
        "# Решение\n",
        "n1=1\n",
        "n2=1\n",
        "nsum=0\n",
        "while nsum <= 4000000:\n",
        "  nsum=n1+n2\n",
        "  n1=n2\n",
        "  n2=nsum\n",
        "print(nsum)"
      ],
      "execution_count": 0,
      "outputs": []
    },
    {
      "cell_type": "markdown",
      "metadata": {
        "id": "ugK_jGdyecuo",
        "colab_type": "text"
      },
      "source": [
        "# Задача 3\n",
        "Посчитать факториал числа 155, не применяя библиотечные функции."
      ]
    },
    {
      "cell_type": "code",
      "metadata": {
        "id": "qRLqemHIecuo",
        "colab_type": "code",
        "colab": {}
      },
      "source": [
        "# Решение\n",
        "fact=1\n",
        "temp=1\n",
        "while temp <= 155:\n",
        "  fact*=temp\n",
        "  temp+=1\n",
        "  \n",
        "print('факториал числа 155 =',fact)"
      ],
      "execution_count": 0,
      "outputs": []
    },
    {
      "cell_type": "markdown",
      "metadata": {
        "id": "O-udSbDUecus",
        "colab_type": "text"
      },
      "source": [
        "# Задача 4\n",
        "Пользователь делает вклад в размере 155 899 рублей сроком на 16 лет под 8,56% годовых(каждый год размер его вклада увеличивается на %. Эти деньги прибавляются к сумме вклада, и на них в следующем году тоже будут проценты).\n",
        "Какая сумма будет на счету клиента через 5, 8, 12, 16 лет?\n"
      ]
    },
    {
      "cell_type": "code",
      "metadata": {
        "id": "GUDYXUHpecuu",
        "colab_type": "code",
        "colab": {
          "base_uri": "https://localhost:8080/",
          "height": 92
        },
        "outputId": "8990ae43-e3a9-4ea1-bb5c-ece3318e2be1"
      },
      "source": [
        "# Решение\n",
        "cash=155899\n",
        "percent=0.0856\n",
        "for i in range (1,6):\n",
        "  cash += cash*percent\n",
        "print('сумма на счету клиента через 5 лет=',round(cash, 2))\n",
        "for i in range (1,9):\n",
        "  cash += cash*percent\n",
        "print('сумма на счету клиента через 8 лет=',round(cash, 2))\n",
        "for i in range (1,13):\n",
        "  cash += cash*percent\n",
        "print('сумма на счету клиента через 12 лет=',round(cash, 2))\n",
        "for i in range (1,17):\n",
        "  cash += cash*percent\n",
        "print('сумма на счету клиента через 16 лет=',round(cash, 2))"
      ],
      "execution_count": 17,
      "outputs": [
        {
          "output_type": "stream",
          "text": [
            "сумма на счету клиента через 5 лет= 235067.45\n",
            "сумма на счету клиента через 8 лет= 453472.73\n",
            "сумма на счету клиента через 12 лет= 1215036.14\n",
            "сумма на счету клиента через 16 лет= 4521750.03\n"
          ],
          "name": "stdout"
        }
      ]
    },
    {
      "cell_type": "code",
      "metadata": {
        "id": "jMBkTL1noOQd",
        "colab_type": "code",
        "colab": {}
      },
      "source": [
        ""
      ],
      "execution_count": 0,
      "outputs": []
    },
    {
      "cell_type": "markdown",
      "metadata": {
        "id": "8LjKZh-Wecuy",
        "colab_type": "text"
      },
      "source": [
        "# Задача 5\n",
        "Вы покупаете автомобиль за 850 тыс. рублей. Ваш первоначальный взнос составляет 400 тыс. рублей. Остаток суммы вы хотите взять в кредит от Хоум Кредит Банка под 10.9%. Рассчитайте переплату по кредиту, если кредит будет оформлен на 5 лет. Для расчета платежа используйте формулу расчета аннуитетного платежа."
      ]
    },
    {
      "cell_type": "code",
      "metadata": {
        "id": "mJ0MiUGfecuz",
        "colab_type": "code",
        "colab": {
          "base_uri": "https://localhost:8080/",
          "height": 74
        },
        "outputId": "732c198e-520f-4f1f-def8-be4810b1dc28"
      },
      "source": [
        "# Решение\n",
        "ostatok=850000-400000\n",
        "n=5*12\n",
        "i=0.108/12\n",
        "k=(i*(1+i)**n)/((1+i)**n-1)\n",
        "final=k*ostatok\n",
        "print('Ежемесячный аннуитетный платеж =',round(final, 2))  \n",
        "pereplata = final*60-450000\n",
        "print('Переплата составляет',round(pereplata, 2))"
      ],
      "execution_count": 34,
      "outputs": [
        {
          "output_type": "stream",
          "text": [
            "0.009\n",
            "Ежемесячный аннуитетный платеж = 9739.27\n",
            "Переплата составляет 134355.99\n"
          ],
          "name": "stdout"
        }
      ]
    }
  ]
}
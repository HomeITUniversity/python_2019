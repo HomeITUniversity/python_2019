{
  "nbformat": 4,
  "nbformat_minor": 0,
  "metadata": {
    "kernelspec": {
      "display_name": "Python 3",
      "language": "python",
      "name": "python3"
    },
    "language_info": {
      "codemirror_mode": {
        "name": "ipython",
        "version": 3
      },
      "file_extension": ".py",
      "mimetype": "text/x-python",
      "name": "python",
      "nbconvert_exporter": "python",
      "pygments_lexer": "ipython3",
      "version": "3.7.3"
    },
    "colab": {
      "name": "01_digits_homework.ipynb",
      "version": "0.3.2",
      "provenance": [],
      "collapsed_sections": []
    }
  },
  "cells": [
    {
      "cell_type": "markdown",
      "metadata": {
        "id": "K-BjxTQSecuZ",
        "colab_type": "text"
      },
      "source": [
        "#### Мягкий дедлайн: 18 сентября 23:59\n",
        "#### Жесткий дедлайн: 25 сентября 23:59\n",
        "\n",
        "Отправляйте Notebook файл с решение по адресу homeituniversity@gmail.com\n",
        "\n",
        "Тема письма: Python курс > ДЗ 1 > ФИО"
      ]
    },
    {
      "cell_type": "markdown",
      "metadata": {
        "id": "aWU7EATkecuf",
        "colab_type": "text"
      },
      "source": [
        "# Задача 1\n",
        "Если мы перечислим все натуральные числа меньше 10, кратные 3 или 5, мы получим 3, 5, 6 и 9. Сумма этих кратных чисел равна 23.\n",
        "Найти сумму всех кратных 3 или 5 меньше 1000."
      ]
    },
    {
      "cell_type": "code",
      "metadata": {
        "id": "dRPD2NJEecug",
        "colab_type": "code",
        "outputId": "a01b2d21-a234-46f5-aff7-a86cd99a4c2b",
        "colab": {
          "base_uri": "https://localhost:8080/",
          "height": 34
        }
      },
      "source": [
        "# Впишите сюда ваше решение\n",
        "A=int(999/3)\n",
        "B=int(999/5)\n",
        "Count = 3 * (A * (A + 1) / 2) + 5 * (B * (B + 1) / 2)\n",
        "print(Count)"
      ],
      "execution_count": 40,
      "outputs": [
        {
          "output_type": "stream",
          "text": [
            "266333.0\n"
          ],
          "name": "stdout"
        }
      ]
    },
    {
      "cell_type": "markdown",
      "metadata": {
        "id": "76i9RGJ7ecuk",
        "colab_type": "text"
      },
      "source": [
        "# Задача 2\n",
        "Каждый новый член в последовательности Фибоначчи генерируется путем добавления двух предыдущих членов. \n",
        "Начиная с 1 и 2, первые 10 слагаемых будут:\n",
        "1, 2, 3, 5, 8, 13, 21, 34, 55, 89, …\n",
        "Рассматривая члены в последовательности Фибоначчи, значения которых не превышают четырех миллионов, найдите сумму четных членов.\n"
      ]
    },
    {
      "cell_type": "code",
      "metadata": {
        "id": "ndwyxo63ecul",
        "colab_type": "code",
        "outputId": "1fe7bb57-2bcb-49a7-d029-954e0608ceeb",
        "colab": {
          "base_uri": "https://localhost:8080/",
          "height": 34
        }
      },
      "source": [
        "# Впишите сюда ваше решение\n",
        "sum = 0\n",
        "f1 = 0\n",
        "f2 = 1\n",
        "while f2 < 4000000:\n",
        "    if f2 % 2 == 0:\n",
        "        sum += f2\n",
        "    f1, f2 = f2, f1 + f2\n",
        "print(sum)"
      ],
      "execution_count": 39,
      "outputs": [
        {
          "output_type": "stream",
          "text": [
            "4613732\n"
          ],
          "name": "stdout"
        }
      ]
    },
    {
      "cell_type": "markdown",
      "metadata": {
        "id": "ugK_jGdyecuo",
        "colab_type": "text"
      },
      "source": [
        "# Задача 3\n",
        "Посчитать факториал числа 155, не применяя библиотечные функции."
      ]
    },
    {
      "cell_type": "code",
      "metadata": {
        "id": "qRLqemHIecuo",
        "colab_type": "code",
        "outputId": "c60485e4-8be2-4059-8239-fb2be5658907",
        "colab": {
          "base_uri": "https://localhost:8080/",
          "height": 54
        }
      },
      "source": [
        "# Впишите сюда ваше решение\n",
        "x = 155\n",
        " \n",
        "factorial = 1\n",
        "while x > 1:\n",
        "    factorial *= x\n",
        "    x -= 1\n",
        " \n",
        "print(factorial)\n"
      ],
      "execution_count": 38,
      "outputs": [
        {
          "output_type": "stream",
          "text": [
            "4789142901463393876335775239063022722176295591337767174070096339929153381622433264146569329274347655956110484372311586936020749175429076661003216274382475477806479918110524333880196139452687559896255940215628508414806740389616633144934400000000000000000000000000000000000000\n"
          ],
          "name": "stdout"
        }
      ]
    },
    {
      "cell_type": "markdown",
      "metadata": {
        "id": "O-udSbDUecus",
        "colab_type": "text"
      },
      "source": [
        "# Задача 4\n",
        "Пользователь делает вклад в размере 155 899 рублей сроком на 16 лет под 8,56% годовых(каждый год размер его вклада увеличивается на %. Эти деньги прибавляются к сумме вклада, и на них в следующем году тоже будут проценты).\n",
        "Какая сумма будет на счету клиента через 5, 8, 12, 16 лет?\n"
      ]
    },
    {
      "cell_type": "code",
      "metadata": {
        "id": "GUDYXUHpecuu",
        "colab_type": "code",
        "outputId": "e37d0a05-bb44-4dae-c2e9-5591bc0b4362",
        "colab": {
          "base_uri": "https://localhost:8080/",
          "height": 85
        }
      },
      "source": [
        "# Впишите сюда ваше решение\n",
        "deposit=155899\n",
        "Percent=8.56\n",
        "print ('на счету клиента через 5 лет будет лежать ', deposit*((1+Percent/100)**5),'Руб')\n",
        "print ('на счету клиента через 8 лет будет лежать ', deposit*((1+Percent/100)**8),'Руб')\n",
        "print ('на счету клиента через 12 лет будет лежать ', deposit*((1+Percent/100)**12),'Руб')\n",
        "print ('на счету клиента через 16 лет будет лежать ', deposit*((1+Percent/100)**16),'Руб')  \n",
        "\n",
        "\n"
      ],
      "execution_count": 37,
      "outputs": [
        {
          "output_type": "stream",
          "text": [
            "на счету клиента через 5 лет будет лежать  235067.4535564664 Руб\n",
            "на счету клиента через 8 лет будет лежать  300747.4866813571 Руб\n",
            "на счету клиента через 12 лет будет лежать  417716.22571880725 Руб\n",
            "на счету клиента через 16 лет будет лежать  580177.2349094803 Руб\n"
          ],
          "name": "stdout"
        }
      ]
    },
    {
      "cell_type": "markdown",
      "metadata": {
        "id": "8LjKZh-Wecuy",
        "colab_type": "text"
      },
      "source": [
        "# Задача 5\n",
        "Вы покупаете автомобиль за 850 тыс. рублей. Ваш первоначальный взнос составляет 400 тыс. рублей. Остаток суммы вы хотите взять в кредит от Хоум Кредит Банка под 10.9%. Рассчитайте переплату по кредиту, если кредит будет оформлен на 5 лет. Для расчета платежа используйте формулу расчета аннуитетного платежа."
      ]
    },
    {
      "cell_type": "code",
      "metadata": {
        "id": "mJ0MiUGfecuz",
        "colab_type": "code",
        "outputId": "d3fae31a-5ecd-4bac-e993-fef328744c05",
        "colab": {
          "base_uri": "https://localhost:8080/",
          "height": 34
        }
      },
      "source": [
        "# Впишите сюда ваше решение\n",
        "Cost=850000 #Стоимость автомобиля\n",
        "Payment=400000 #Первоначальный взнос\n",
        "Month=60 #Срок кредита\n",
        "Credit=Cost-Payment #Сумма кредита\n",
        "Rate=10.9 #Процентная ставка в год\n",
        "MPS=Rate/100/12 #Процентная ставка в месяц\n",
        "A=Credit*MPS/(1-(1+MPS)**(-Month)) #расчет аннуитетного платежа\n",
        "Overpayment=A*Month-Credit #Переплата\n",
        "print('Переплата составит', Overpayment, 'Рублей')"
      ],
      "execution_count": 36,
      "outputs": [
        {
          "output_type": "stream",
          "text": [
            "Переплата составит 135699.80658506136 Рублей\n"
          ],
          "name": "stdout"
        }
      ]
    }
  ]
}
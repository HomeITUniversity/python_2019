{
  "nbformat": 4,
  "nbformat_minor": 0,
  "metadata": {
    "kernelspec": {
      "display_name": "Python 3",
      "language": "python",
      "name": "python3"
    },
    "language_info": {
      "codemirror_mode": {
        "name": "ipython",
        "version": 3
      },
      "file_extension": ".py",
      "mimetype": "text/x-python",
      "name": "python",
      "nbconvert_exporter": "python",
      "pygments_lexer": "ipython3",
      "version": "3.7.3"
    },
    "colab": {
      "name": "01_digits_homework.ipynb",
      "version": "0.3.2",
      "provenance": [],
      "collapsed_sections": []
    }
  },
  "cells": [
    {
      "cell_type": "markdown",
      "metadata": {
        "id": "K-BjxTQSecuZ",
        "colab_type": "text"
      },
      "source": [
        "#### Мягкий дедлайн: 18 сентября 23:59\n",
        "#### Жесткий дедлайн: 25 сентября 23:59\n",
        "\n",
        "Отправляйте Notebook файл с решение по адресу homeituniversity@gmail.com\n",
        "\n",
        "Тема письма: Python курс > ДЗ 1 > ФИО"
      ]
    },
    {
      "cell_type": "markdown",
      "metadata": {
        "id": "aWU7EATkecuf",
        "colab_type": "text"
      },
      "source": [
        "# Задача 1\n",
        "Если мы перечислим все натуральные числа меньше 10, кратные 3 или 5, мы получим 3, 5, 6 и 9. Сумма этих кратных чисел равна 23.\n",
        "Найти сумму всех кратных 3 или 5 меньше 1000."
      ]
    },
    {
      "cell_type": "code",
      "metadata": {
        "id": "dRPD2NJEecug",
        "colab_type": "code",
        "colab": {
          "base_uri": "https://localhost:8080/",
          "height": 34
        },
        "outputId": "f39df0ba-f99d-43a8-ff08-83125bee381a"
      },
      "source": [
        "# Впишите сюда ваше решение\n",
        "# i - любое число\n",
        "# s - сумма кратных 3 или 5\n",
        "\n",
        "s = sum(i for i in range(1000) if i % 3 == 0 or i % 5 == 0)\n",
        "print ('Ответ: ', s)\n"
      ],
      "execution_count": 14,
      "outputs": [
        {
          "output_type": "stream",
          "text": [
            "Ответ:  233168\n"
          ],
          "name": "stdout"
        }
      ]
    },
    {
      "cell_type": "markdown",
      "metadata": {
        "id": "76i9RGJ7ecuk",
        "colab_type": "text"
      },
      "source": [
        "# Задача 2\n",
        "Каждый новый член в последовательности Фибоначчи генерируется путем добавления двух предыдущих членов. \n",
        "Начиная с 1 и 2, первые 10 слагаемых будут:\n",
        "1, 2, 3, 5, 8, 13, 21, 34, 55, 89, …\n",
        "Рассматривая члены в последовательности Фибоначчи, значения которых не превышают четырех миллионов, найдите сумму четных членов.\n"
      ]
    },
    {
      "cell_type": "code",
      "metadata": {
        "id": "ndwyxo63ecul",
        "colab_type": "code",
        "colab": {
          "base_uri": "https://localhost:8080/",
          "height": 34
        },
        "outputId": "1fcaa439-1bf7-4ba5-b8a4-84235cf8f894"
      },
      "source": [
        "# Впишите сюда ваше решение\n",
        "a=1\n",
        "b=1\n",
        "total = 0\n",
        "while a <= 4000000:\n",
        "    if a % 2 == 0:\n",
        "        total += a\n",
        "    a, b = b, a + b    \n",
        "print ('Ответ: ' ,total)\n"
      ],
      "execution_count": 22,
      "outputs": [
        {
          "output_type": "stream",
          "text": [
            "Ответ:  4613732\n"
          ],
          "name": "stdout"
        }
      ]
    },
    {
      "cell_type": "markdown",
      "metadata": {
        "id": "ugK_jGdyecuo",
        "colab_type": "text"
      },
      "source": [
        "# Задача 3\n",
        "Посчитать факториал числа 155, не применяя библиотечные функции."
      ]
    },
    {
      "cell_type": "code",
      "metadata": {
        "id": "qRLqemHIecuo",
        "colab_type": "code",
        "colab": {
          "base_uri": "https://localhost:8080/",
          "height": 54
        },
        "outputId": "635472b2-df2b-4399-f45f-c54337825356"
      },
      "source": [
        "# Впишите сюда ваше решение\n",
        "# i - число\n",
        "# s - факториал числа\n",
        "s = 1\n",
        "for i in range(1, 156):\n",
        "    s *= i\n",
        "print('Ответ: ' , s)\n",
        "\n"
      ],
      "execution_count": 26,
      "outputs": [
        {
          "output_type": "stream",
          "text": [
            "Ответ:  4789142901463393876335775239063022722176295591337767174070096339929153381622433264146569329274347655956110484372311586936020749175429076661003216274382475477806479918110524333880196139452687559896255940215628508414806740389616633144934400000000000000000000000000000000000000\n"
          ],
          "name": "stdout"
        }
      ]
    },
    {
      "cell_type": "markdown",
      "metadata": {
        "id": "O-udSbDUecus",
        "colab_type": "text"
      },
      "source": [
        "# Задача 4\n",
        "Пользователь делает вклад в размере 155 899 рублей сроком на 16 лет под 8,56% годовых(каждый год размер его вклада увеличивается на %. Эти деньги прибавляются к сумме вклада, и на них в следующем году тоже будут проценты).\n",
        "Какая сумма будет на счету клиента через 5, 8, 12, 16 лет?\n"
      ]
    },
    {
      "cell_type": "code",
      "metadata": {
        "id": "GUDYXUHpecuu",
        "colab_type": "code",
        "colab": {
          "base_uri": "https://localhost:8080/",
          "height": 51
        },
        "outputId": "2bca8410-42ad-4998-9e50-fbfd396aeeff"
      },
      "source": [
        "# Впишите сюда ваше решение\n",
        "# p - Годовой процент\n",
        "# x - Сумма вклада (рубли)\n",
        "# y - Сумма вклада (копейки)\n",
        "# k - Срок вклада\n",
        "\n",
        "p = 8.56\n",
        "x = 155899\n",
        "y = 0\n",
        "k = int(input(\"Срок вклада: \"))\n",
        "i = 1\n",
        "sum = x * 100 + y\n",
        "p1 = 100 + p\n",
        "while i <= k:\n",
        "    n = sum * p1 / 100\n",
        "    sum = n\n",
        "    i += 1\n",
        "print(\"Вы получите за \" , k, \"лет\", int(sum / 100), \"рублей \" , int(sum % 100) , \"копеек\")\n",
        "\n",
        "\n",
        "\n",
        "\n",
        "\n",
        "\n"
      ],
      "execution_count": 44,
      "outputs": [
        {
          "output_type": "stream",
          "text": [
            "Срок вклада: 16\n",
            "Вы получите за  16 лет 580177 рублей  23 копеек\n"
          ],
          "name": "stdout"
        }
      ]
    },
    {
      "cell_type": "markdown",
      "metadata": {
        "id": "8LjKZh-Wecuy",
        "colab_type": "text"
      },
      "source": [
        "# Задача 5\n",
        "Вы покупаете автомобиль за 850 тыс. рублей. Ваш первоначальный взнос составляет 400 тыс. рублей. Остаток суммы вы хотите взять в кредит от Хоум Кредит Банка под 10.9%. Рассчитайте переплату по кредиту, если кредит будет оформлен на 5 лет. Для расчета платежа используйте формулу расчета аннуитетного платежа."
      ]
    },
    {
      "cell_type": "code",
      "metadata": {
        "id": "mJ0MiUGfecuz",
        "colab_type": "code",
        "colab": {
          "base_uri": "https://localhost:8080/",
          "height": 51
        },
        "outputId": "7a808d5a-c5cf-4ea6-b529-52e331d012a8"
      },
      "source": [
        "# Впишите сюда ваше решение\n",
        "\n",
        "# x - Размер кредита\n",
        "# p - Процентная ставка\n",
        "# a - Срок кредитования\n",
        "\n",
        "x = 450000\n",
        "p = 10.9\n",
        "a = 5\n",
        " \n",
        "p1 = p / 100\n",
        "month_pay = (x * p1 * (1 + p1)**a) / (12 * ((1 + p1)**a - 1))\n",
        "print(\"Ваш ежемесячный платеж: %.2f\" % month_pay)\n",
        "summa = month_pay * a * 12\n",
        "print(\"Переплата по кредиту: %.2f\" % summa)\n"
      ],
      "execution_count": 66,
      "outputs": [
        {
          "output_type": "stream",
          "text": [
            "Ваш ежемесячный платеж: 10120.88\n",
            "Переплата по кредиту: 607252.52\n"
          ],
          "name": "stdout"
        }
      ]
    },
    {
      "cell_type": "code",
      "metadata": {
        "id": "us6vAbhaCI96",
        "colab_type": "code",
        "colab": {
          "base_uri": "https://localhost:8080/",
          "height": 51
        },
        "outputId": "0873583c-b49e-4df8-8379-380e4390032e"
      },
      "source": [
        "x = 450000\n",
        "p = 10.9\n",
        "a = 5\n",
        "  \n",
        "p1 = a * 12\n",
        "r = p / 1200.0\n",
        "ak = (r * (1 + r) ** p1) / (((1 + r) ** p1) - 1)\n",
        "month_pay = x * ak\n",
        "print (\"Ваш ежемесячный платеж: \", month_pay)\n",
        "summa = month_pay * p1\n",
        "print (\"Переплата по кредиту: \", summa)"
      ],
      "execution_count": 62,
      "outputs": [
        {
          "output_type": "stream",
          "text": [
            "Ваш ежемесячный платеж:  9761.663443084357\n",
            "Переплата по кредиту:  585699.8065850614\n"
          ],
          "name": "stdout"
        }
      ]
    }
  ]
}
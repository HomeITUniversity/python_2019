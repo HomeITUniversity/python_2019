{
  "nbformat": 4,
  "nbformat_minor": 0,
  "metadata": {
    "kernelspec": {
      "display_name": "Python 3",
      "language": "python",
      "name": "python3"
    },
    "language_info": {
      "codemirror_mode": {
        "name": "ipython",
        "version": 3
      },
      "file_extension": ".py",
      "mimetype": "text/x-python",
      "name": "python",
      "nbconvert_exporter": "python",
      "pygments_lexer": "ipython3",
      "version": "3.7.3"
    },
    "colab": {
      "name": "01_digits_homework.ipynb",
      "version": "0.3.2",
      "provenance": []
    }
  },
  "cells": [
    {
      "cell_type": "markdown",
      "metadata": {
        "id": "K-BjxTQSecuZ",
        "colab_type": "text"
      },
      "source": [
        "#### Мягкий дедлайн: 18 сентября 23:59\n",
        "#### Жесткий дедлайн: 25 сентября 23:59\n",
        "\n",
        "Отправляйте Notebook файл с решение по адресу homeituniversity@gmail.com\n",
        "\n",
        "Тема письма: Python курс > ДЗ 1 > ФИО"
      ]
    },
    {
      "cell_type": "markdown",
      "metadata": {
        "id": "aWU7EATkecuf",
        "colab_type": "text"
      },
      "source": [
        "# Задача 1\n",
        "Если мы перечислим все натуральные числа меньше 10, кратные 3 или 5, мы получим 3, 5, 6 и 9. Сумма этих кратных чисел равна 23.\n",
        "Найти сумму всех кратных 3 или 5 меньше 1000."
      ]
    },
    {
      "cell_type": "code",
      "metadata": {
        "id": "dRPD2NJEecug",
        "colab_type": "code",
        "colab": {}
      },
      "source": [
        "# Впишите сюда ваше решение\n",
        "\n",
        "a = 0\n",
        "b = 0\n",
        "\n",
        "while a < 1000:\n",
        "    a = a + 3\n",
        "    print (a)\n",
        "\n",
        "while b < 1000:\n",
        "    b = b + 5\n",
        "    print (b)\n",
        "    \n",
        "sum([i for i in range(1000) if i % 3 == 0 or i % 5 == 0])"
      ],
      "execution_count": 0,
      "outputs": []
    },
    {
      "cell_type": "markdown",
      "metadata": {
        "id": "76i9RGJ7ecuk",
        "colab_type": "text"
      },
      "source": [
        "# Задача 2\n",
        "Каждый новый член в последовательности Фибоначчи генерируется путем добавления двух предыдущих членов. \n",
        "Начиная с 1 и 2, первые 10 слагаемых будут:\n",
        "1, 2, 3, 5, 8, 13, 21, 34, 55, 89, …\n",
        "Рассматривая члены в последовательности Фибоначчи, значения которых не превышают четырех миллионов, найдите сумму четных членов.\n"
      ]
    },
    {
      "cell_type": "code",
      "metadata": {
        "id": "ndwyxo63ecul",
        "colab_type": "code",
        "outputId": "53e1ee31-7524-4b35-cbdb-56fad7e4002c",
        "colab": {
          "base_uri": "https://localhost:8080/",
          "height": 34
        }
      },
      "source": [
        "# Впишите сюда ваше решение\n",
        "\n",
        "a = 1\n",
        "b = 1\n",
        "total = 0\n",
        "while a <= 4000000:\n",
        "    if a % 2 == 0:\n",
        "        total += a\n",
        "    a, b = b, a + b     \n",
        "print (total)"
      ],
      "execution_count": 0,
      "outputs": [
        {
          "output_type": "stream",
          "text": [
            "4613732\n"
          ],
          "name": "stdout"
        }
      ]
    },
    {
      "cell_type": "markdown",
      "metadata": {
        "id": "ugK_jGdyecuo",
        "colab_type": "text"
      },
      "source": [
        "# Задача 3\n",
        "Посчитать факториал числа 155, не применяя библиотечные функции."
      ]
    },
    {
      "cell_type": "code",
      "metadata": {
        "id": "qRLqemHIecuo",
        "colab_type": "code",
        "outputId": "d62cea38-5182-4897-c5d5-c6bf7e6ff63b",
        "colab": {
          "base_uri": "https://localhost:8080/",
          "height": 54
        }
      },
      "source": [
        "# Впишите сюда ваше решение\n",
        "\n",
        "n = 155\n",
        "\n",
        "factorial = 1\n",
        "while n > 1:\n",
        "    factorial *= n\n",
        "    n -= 1\n",
        " \n",
        "print(factorial)\n"
      ],
      "execution_count": 0,
      "outputs": [
        {
          "output_type": "stream",
          "text": [
            "4789142901463393876335775239063022722176295591337767174070096339929153381622433264146569329274347655956110484372311586936020749175429076661003216274382475477806479918110524333880196139452687559896255940215628508414806740389616633144934400000000000000000000000000000000000000\n"
          ],
          "name": "stdout"
        }
      ]
    },
    {
      "cell_type": "markdown",
      "metadata": {
        "id": "O-udSbDUecus",
        "colab_type": "text"
      },
      "source": [
        "# Задача 4\n",
        "Пользователь делает вклад в размере 155 899 рублей сроком на 16 лет под 8,56% годовых(каждый год размер его вклада увеличивается на %. Эти деньги прибавляются к сумме вклада, и на них в следующем году тоже будут проценты).\n",
        "Какая сумма будет на счету клиента через 5, 8, 12, 16 лет?\n"
      ]
    },
    {
      "cell_type": "code",
      "metadata": {
        "id": "GUDYXUHpecuu",
        "colab_type": "code",
        "outputId": "2a23535f-167b-470f-ea70-072f0086d323",
        "colab": {
          "base_uri": "https://localhost:8080/",
          "height": 85
        }
      },
      "source": [
        "# Впишите сюда ваше решение\n",
        "\n",
        "a = 155899\n",
        "b = 8.56\n",
        "c = 1\n",
        "\n",
        "while c < 17:\n",
        "  a+=a*(b / 100)\n",
        "  if (c == 5):\n",
        "    print(\"5 лет:\", '%.2f' % a)\n",
        "  if (c == 8):\n",
        "    print(\"8 лет:\", '%.2f' % a)\n",
        "  if (c == 12):\n",
        "    print(\"12 лет:\", '%.2f' % a)\n",
        "  if (c == 16):\n",
        "    print(\"16 лет:\", '%.2f' % a)\n",
        "  c += 1"
      ],
      "execution_count": 7,
      "outputs": [
        {
          "output_type": "stream",
          "text": [
            "5 лет: 235067.45\n",
            "8 лет: 300747.49\n",
            "12 лет: 417716.23\n",
            "16 лет: 580177.23\n"
          ],
          "name": "stdout"
        }
      ]
    },
    {
      "cell_type": "markdown",
      "metadata": {
        "id": "8LjKZh-Wecuy",
        "colab_type": "text"
      },
      "source": [
        "# Задача 5\n",
        "Вы покупаете автомобиль за 850 тыс. рублей. Ваш первоначальный взнос составляет 400 тыс. рублей. Остаток суммы вы хотите взять в кредит от Хоум Кредит Банка под 10.9%. Рассчитайте переплату по кредиту, если кредит будет оформлен на 5 лет. Для расчета платежа используйте формулу расчета аннуитетного платежа."
      ]
    },
    {
      "cell_type": "code",
      "metadata": {
        "id": "mJ0MiUGfecuz",
        "colab_type": "code",
        "outputId": "c185bfd8-3d03-4ad3-a3c8-aee4fcd4f480",
        "colab": {
          "base_uri": "https://localhost:8080/",
          "height": 85
        }
      },
      "source": [
        "# Впишите сюда ваше решение\n",
        "\n",
        "s = 850000 - 400000\n",
        "i = 0.109 / 12\n",
        "n = 60\n",
        "\n",
        "k = i * (1 + i) ** n / ((1 + i) ** n - 1)\n",
        "a = k * s\n",
        "total = a * n\n",
        "overprice = total - s\n",
        "\n",
        " \n",
        "\n",
        "print('Каэффициэнт:', '%.3f' % k,\n",
        "      '\\nЕжемесячный платеж:', '%.2f' % a,\n",
        "      '\\nСумма кредита:', '%.2f' % total,\n",
        "      '\\nСумма переплаты:', '%.2f' % overprice)\n",
        "\n"
      ],
      "execution_count": 1,
      "outputs": [
        {
          "output_type": "stream",
          "text": [
            "Каэффициэнт: 0.022 \n",
            "Ежемесячный платеж: 9761.66 \n",
            "Сумма кредита: 585699.81 \n",
            "Сумма переплаты: 135699.81\n"
          ],
          "name": "stdout"
        }
      ]
    }
  ]
}
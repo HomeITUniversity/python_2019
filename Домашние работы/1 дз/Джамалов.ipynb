{
  "nbformat": 4,
  "nbformat_minor": 0,
  "metadata": {
    "kernelspec": {
      "display_name": "Python 3",
      "language": "python",
      "name": "python3"
    },
    "language_info": {
      "codemirror_mode": {
        "name": "ipython",
        "version": 3
      },
      "file_extension": ".py",
      "mimetype": "text/x-python",
      "name": "python",
      "nbconvert_exporter": "python",
      "pygments_lexer": "ipython3",
      "version": "3.7.3"
    },
    "colab": {
      "name": "01_digits_homework.ipynb",
      "version": "0.3.2",
      "provenance": [],
      "collapsed_sections": []
    }
  },
  "cells": [
    {
      "cell_type": "markdown",
      "metadata": {
        "id": "K-BjxTQSecuZ",
        "colab_type": "text"
      },
      "source": [
        "#### Мягкий дедлайн: 18 сентября 23:59\n",
        "#### Жесткий дедлайн: 25 сентября 23:59\n",
        "\n",
        "Отправляйте Notebook файл с решение по адресу homeituniversity@gmail.com\n",
        "\n",
        "Тема письма: Python курс > ДЗ 1 > ФИО"
      ]
    },
    {
      "cell_type": "markdown",
      "metadata": {
        "id": "aWU7EATkecuf",
        "colab_type": "text"
      },
      "source": [
        "# Задача 1\n",
        "Если мы перечислим все натуральные числа меньше 10, кратные 3 или 5, мы получим 3, 5, 6 и 9. Сумма этих кратных чисел равна 23.\n",
        "Найти сумму всех кратных 3 или 5 меньше 1000."
      ]
    },
    {
      "cell_type": "code",
      "metadata": {
        "id": "vCubNEs2aAk4",
        "colab_type": "code",
        "outputId": "a7dee550-db22-498a-ab9c-aa48516ac9e6",
        "colab": {
          "base_uri": "https://localhost:8080/",
          "height": 34
        }
      },
      "source": [
        "# Впишите сюда ваше решение\n",
        "#находим сумму чисел кратных 3\n",
        "a=0\n",
        "b=0\n",
        "while a<1000:\n",
        "  b+=a\n",
        "  a+=3\n",
        "#находим сумму чисел кратных 5\n",
        "c=0\n",
        "d=0\n",
        "while c<1000:\n",
        "  d+=c\n",
        "  c+=5\n",
        "#необходимо убрать числа,которые одновременно кратны 3 и 5\n",
        "e=0\n",
        "f=0\n",
        "while e<1000:\n",
        "  f+=e\n",
        "  e+=15\n",
        "summ=b+d-f\n",
        "print(\"Сумма всех кратных чисел 3 или 5 меньше 1000:\",summ)"
      ],
      "execution_count": 0,
      "outputs": [
        {
          "output_type": "stream",
          "text": [
            "Сумма всех кратных чисел 3 или 5 меньше 1000: 233168\n"
          ],
          "name": "stdout"
        }
      ]
    },
    {
      "cell_type": "markdown",
      "metadata": {
        "id": "76i9RGJ7ecuk",
        "colab_type": "text"
      },
      "source": [
        "# Задача 2\n",
        "Каждый новый член в последовательности Фибоначчи генерируется путем добавления двух предыдущих членов. \n",
        "Начиная с 1 и 2, первые 10 слагаемых будут:\n",
        "1, 2, 3, 5, 8, 13, 21, 34, 55, 89, …\n",
        "Рассматривая члены в последовательности Фибоначчи, значения которых не превышают четырех миллионов, найдите сумму четных членов.\n"
      ]
    },
    {
      "cell_type": "code",
      "metadata": {
        "id": "ndwyxo63ecul",
        "colab_type": "code",
        "outputId": "81446bd0-bf32-45ef-ae0a-427987e9b601",
        "colab": {
          "base_uri": "https://localhost:8080/",
          "height": 34
        }
      },
      "source": [
        "# Впишите сюда ваше решение\n",
        "a=0\n",
        "b=1\n",
        "c=0\n",
        "d=0\n",
        "sum=0\n",
        "while c<4000000:\n",
        "    if((b+a)<4000000):\n",
        "        c = b + a\n",
        "        d = b\n",
        "        b += a\n",
        "        a = d\n",
        "        if(c%2==0):\n",
        "            sum += c\n",
        "    else:\n",
        "        break\n",
        "print(\"Сумма четных членов =\", sum)\n"
      ],
      "execution_count": 0,
      "outputs": [
        {
          "output_type": "stream",
          "text": [
            "Сумма четных членов = 4613732\n"
          ],
          "name": "stdout"
        }
      ]
    },
    {
      "cell_type": "markdown",
      "metadata": {
        "id": "ugK_jGdyecuo",
        "colab_type": "text"
      },
      "source": [
        "# Задача 3\n",
        "Посчитать факториал числа 155, не применяя библиотечные функции."
      ]
    },
    {
      "cell_type": "code",
      "metadata": {
        "id": "qRLqemHIecuo",
        "colab_type": "code",
        "outputId": "2a416db1-f80a-44ca-b4ad-41e9b6a2bc19",
        "colab": {
          "base_uri": "https://localhost:8080/",
          "height": 54
        }
      },
      "source": [
        "# Впишите сюда ваше решение\n",
        "a=0\n",
        "factorial=1\n",
        "while a<155:\n",
        "  a+=1\n",
        "  factorial*=a\n",
        "print(\"Факториал числа 155:\", factorial)\n"
      ],
      "execution_count": 1,
      "outputs": [
        {
          "output_type": "stream",
          "text": [
            "Факториал числа 155: 4789142901463393876335775239063022722176295591337767174070096339929153381622433264146569329274347655956110484372311586936020749175429076661003216274382475477806479918110524333880196139452687559896255940215628508414806740389616633144934400000000000000000000000000000000000000\n"
          ],
          "name": "stdout"
        }
      ]
    },
    {
      "cell_type": "markdown",
      "metadata": {
        "id": "O-udSbDUecus",
        "colab_type": "text"
      },
      "source": [
        "# Задача 4\n",
        "Пользователь делает вклад в размере 155 899 рублей сроком на 16 лет под 8,56% годовых(каждый год размер его вклада увеличивается на %. Эти деньги прибавляются к сумме вклада, и на них в следующем году тоже будут проценты).\n",
        "Какая сумма будет на счету клиента через 5, 8, 12, 16 лет?\n"
      ]
    },
    {
      "cell_type": "code",
      "metadata": {
        "id": "GUDYXUHpecuu",
        "colab_type": "code",
        "outputId": "a530274b-3872-41d4-fc7c-21e357dd8d18",
        "colab": {
          "base_uri": "https://localhost:8080/",
          "height": 85
        }
      },
      "source": [
        "# Впишите сюда ваше решение\n",
        "#deposit - сумма вклада\n",
        "#rate - ставка\n",
        "#n - срок вклада в годах\n",
        "n = 1\n",
        "rate = 8.56\n",
        "deposit = 155899\n",
        "while n<17:\n",
        "    deposit+=deposit*(rate/100)\n",
        "    if (n == 5):\n",
        "        print(\"5 лет:\", deposit)\n",
        "    if (n == 8):\n",
        "        print(\"8 лет:\", deposit)\n",
        "    if (n == 12):\n",
        "        print(\"12 лет:\", deposit)\n",
        "    if (n == 16):\n",
        "        print(\"16 лет:\", deposit)\n",
        "    n += 1\n",
        "\n",
        "\n"
      ],
      "execution_count": 0,
      "outputs": [
        {
          "output_type": "stream",
          "text": [
            "5 лет: 235067.4535564665\n",
            "8 лет: 300747.4866813573\n",
            "12 лет: 417716.2257188077\n",
            "16 лет: 580177.2349094811\n"
          ],
          "name": "stdout"
        }
      ]
    },
    {
      "cell_type": "markdown",
      "metadata": {
        "id": "8LjKZh-Wecuy",
        "colab_type": "text"
      },
      "source": [
        "# Задача 5\n",
        "Вы покупаете автомобиль за 850 тыс. рублей. Ваш первоначальный взнос составляет 400 тыс. рублей. Остаток суммы вы хотите взять в кредит от Хоум Кредит Банка под 10.9%. Рассчитайте переплату по кредиту, если кредит будет оформлен на 5 лет. Для расчета платежа используйте формулу расчета аннуитетного платежа."
      ]
    },
    {
      "cell_type": "code",
      "metadata": {
        "id": "mJ0MiUGfecuz",
        "colab_type": "code",
        "outputId": "e6fc0e31-2ff3-4346-fc9b-b9c799e05891",
        "colab": {
          "base_uri": "https://localhost:8080/",
          "height": 34
        }
      },
      "source": [
        "# Впишите сюда ваше решение\n",
        "#A — ежемесячный аннуитетный платеж\n",
        "#K — коэффициент аннуитета\n",
        "#S — сумма кредита\n",
        "#i — месячная процентная ставка по кредиту (= годовая ставка/12 месяцев)\n",
        "#n — количество периодов, в течение которых выплачивается кредит,5 лет\n",
        "#total - сумма кредита с процентами\n",
        "#overpayment — сумма переплаты\n",
        "i = 0.109/12\n",
        "S = 850000-400000\n",
        "n = 60\n",
        "K = i*(1+i)**n/((1+i)**n-1)\n",
        "A = K*S\n",
        "total = A*n\n",
        "overpayment = total-S\n",
        "print(\"Переплата по кредиту составляет:\", overpayment)"
      ],
      "execution_count": 0,
      "outputs": [
        {
          "output_type": "stream",
          "text": [
            "Переплата по кредиту составляет: 135699.80658506136\n"
          ],
          "name": "stdout"
        }
      ]
    }
  ]
}
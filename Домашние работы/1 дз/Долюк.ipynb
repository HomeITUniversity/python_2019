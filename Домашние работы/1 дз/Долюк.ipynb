{
 "cells": [
  {
   "cell_type": "markdown",
   "metadata": {
    "colab_type": "text",
    "id": "K-BjxTQSecuZ"
   },
   "source": [
    "#### Мягкий дедлайн: 18 сентября 23:59\n",
    "#### Жесткий дедлайн: 25 сентября 23:59\n",
    "\n",
    "Отправляйте Notebook файл с решение по адресу homeituniversity@gmail.com\n",
    "\n",
    "Тема письма: Python курс > ДЗ 1 > ФИО"
   ]
  },
  {
   "cell_type": "markdown",
   "metadata": {
    "colab_type": "text",
    "id": "aWU7EATkecuf"
   },
   "source": [
    "# Задача 1\n",
    "Если мы перечислим все натуральные числа меньше 10, кратные 3 или 5, мы получим 3, 5, 6 и 9. Сумма этих кратных чисел равна 23.\n",
    "Найти сумму всех кратных 3 или 5 меньше 1000."
   ]
  },
  {
   "cell_type": "code",
   "execution_count": 3,
   "metadata": {
    "colab": {
     "base_uri": "https://localhost:8080/",
     "height": 34
    },
    "colab_type": "code",
    "executionInfo": {
     "elapsed": 822,
     "status": "ok",
     "timestamp": 1568723295481,
     "user": {
      "displayName": "Yana Dolyuk",
      "photoUrl": "",
      "userId": "15747270477483954408"
     },
     "user_tz": -180
    },
    "id": "dRPD2NJEecug",
    "outputId": "a3a7e0e4-e20c-421a-da1d-c43390b2611f"
   },
   "outputs": [
    {
     "name": "stdout",
     "output_type": "stream",
     "text": [
      "Ответ на задачу №1:  233168\n"
     ]
    }
   ],
   "source": [
    "# Впишите сюда ваше решение\n",
    "x = 0\n",
    "for i in range(1, 1000):\n",
    "    if i % 3 == 0 or i % 5 == 0:\n",
    "        x = x + i\n",
    "print('Ответ на задачу №1: ', x)    "
   ]
  },
  {
   "cell_type": "markdown",
   "metadata": {
    "colab_type": "text",
    "id": "76i9RGJ7ecuk"
   },
   "source": [
    "# Задача 2\n",
    "Каждый новый член в последовательности Фибоначчи генерируется путем добавления двух предыдущих членов. \n",
    "Начиная с 1 и 2, первые 10 слагаемых будут:\n",
    "1, 2, 3, 5, 8, 13, 21, 34, 55, 89, …\n",
    "Рассматривая члены в последовательности Фибоначчи, значения которых не превышают четырех миллионов, найдите сумму четных членов.\n"
   ]
  },
  {
   "cell_type": "code",
   "execution_count": 2,
   "metadata": {
    "colab": {
     "base_uri": "https://localhost:8080/",
     "height": 34
    },
    "colab_type": "code",
    "executionInfo": {
     "elapsed": 759,
     "status": "ok",
     "timestamp": 1568723275427,
     "user": {
      "displayName": "Yana Dolyuk",
      "photoUrl": "",
      "userId": "15747270477483954408"
     },
     "user_tz": -180
    },
    "id": "ndwyxo63ecul",
    "outputId": "725b3cca-3e5c-4a6f-f270-6ac980e9b59d"
   },
   "outputs": [
    {
     "name": "stdout",
     "output_type": "stream",
     "text": [
      "Ответ на задачу №2:  4613732\n"
     ]
    }
   ],
   "source": [
    "# Впишите сюда ваше решение\n",
    "x1 = 0\n",
    "x2 = 1\n",
    "sum_res = 0\n",
    "while x2 < 4000000:\n",
    "    x1, x2 = x2, x1 + x2\n",
    "    # print(x2)\n",
    "    if x2 < 4000000:\n",
    "        # print(x2)\n",
    "        if x2 % 2 == 0:\n",
    "            # print(x2)\n",
    "            sum_res += x2\n",
    "print('Ответ на задачу №2: ', sum_res)"
   ]
  },
  {
   "cell_type": "markdown",
   "metadata": {
    "colab_type": "text",
    "id": "ugK_jGdyecuo"
   },
   "source": [
    "# Задача 3\n",
    "Посчитать факториал числа 155, не применяя библиотечные функции."
   ]
  },
  {
   "cell_type": "code",
   "execution_count": 4,
   "metadata": {
    "colab": {
     "base_uri": "https://localhost:8080/",
     "height": 54
    },
    "colab_type": "code",
    "executionInfo": {
     "elapsed": 627,
     "status": "ok",
     "timestamp": 1568723217692,
     "user": {
      "displayName": "Yana Dolyuk",
      "photoUrl": "",
      "userId": "15747270477483954408"
     },
     "user_tz": -180
    },
    "id": "qRLqemHIecuo",
    "outputId": "d129c846-f30b-4a2c-e6ac-fcfd51b51a98"
   },
   "outputs": [
    {
     "name": "stdout",
     "output_type": "stream",
     "text": [
      "Факториал числа 155:  4789142901463393876335775239063022722176295591337767174070096339929153381622433264146569329274347655956110484372311586936020749175429076661003216274382475477806479918110524333880196139452687559896255940215628508414806740389616633144934400000000000000000000000000000000000000\n"
     ]
    }
   ],
   "source": [
    "# Впишите сюда ваше решение\n",
    "x = 1\n",
    "for i in range(1, 156):\n",
    "  # print(i)\n",
    "  x *= i\n",
    "print('Факториал числа 155: ', x)  "
   ]
  },
  {
   "cell_type": "markdown",
   "metadata": {
    "colab_type": "text",
    "id": "O-udSbDUecus"
   },
   "source": [
    "# Задача 4\n",
    "Пользователь делает вклад в размере 155 899 рублей сроком на 16 лет под 8,56% годовых(каждый год размер его вклада увеличивается на %. Эти деньги прибавляются к сумме вклада, и на них в следующем году тоже будут проценты).\n",
    "Какая сумма будет на счету клиента через 5, 8, 12, 16 лет?\n"
   ]
  },
  {
   "cell_type": "code",
   "execution_count": 5,
   "metadata": {
    "colab": {
     "base_uri": "https://localhost:8080/",
     "height": 85
    },
    "colab_type": "code",
    "executionInfo": {
     "elapsed": 886,
     "status": "ok",
     "timestamp": 1568723173699,
     "user": {
      "displayName": "Yana Dolyuk",
      "photoUrl": "",
      "userId": "15747270477483954408"
     },
     "user_tz": -180
    },
    "id": "rZ5At5vADlzB",
    "outputId": "14e848dc-6e8a-4237-b56c-9770a7af46f3"
   },
   "outputs": [
    {
     "name": "stdout",
     "output_type": "stream",
     "text": [
      "Сумма на счету на 5 год:  235067.454 \n",
      "на 8 год:  300747.487 \n",
      "на 12 год:  417716.226 \n",
      "на 16 год:  580177.235\n"
     ]
    }
   ],
   "source": [
    "# Впишите сюда ваше решение\n",
    "import numpy as np\n",
    "x1 = 155899\n",
    "x2 = 0.0856\n",
    "x = []\n",
    "for i in range(0, 16):\n",
    "    x1 = x1 + x1 * x2\n",
    "    i += 1\n",
    "    x.append(x1)\n",
    "print('Сумма на счету на 5 год: ', np.round(x[4], 3), '\\nна 8 год: ', np.round(x[7], 3), '\\nна 12 год: ', np.round(x[11], 3), '\\nна 16 год: ', np.round(x[15], 3))  "
   ]
  },
  {
   "cell_type": "markdown",
   "metadata": {
    "colab_type": "text",
    "id": "8LjKZh-Wecuy"
   },
   "source": [
    "# Задача 5\n",
    "Вы покупаете автомобиль за 850 тыс. рублей. Ваш первоначальный взнос составляет 400 тыс. рублей. Остаток суммы вы хотите взять в кредит от Хоум Кредит Банка под 10.9%. Рассчитайте переплату по кредиту, если кредит будет оформлен на 5 лет. Для расчета платежа используйте формулу расчета аннуитетного платежа."
   ]
  },
  {
   "cell_type": "code",
   "execution_count": 6,
   "metadata": {
    "colab": {
     "base_uri": "https://localhost:8080/",
     "height": 34
    },
    "colab_type": "code",
    "executionInfo": {
     "elapsed": 683,
     "status": "ok",
     "timestamp": 1568728509082,
     "user": {
      "displayName": "Yana Dolyuk",
      "photoUrl": "",
      "userId": "15747270477483954408"
     },
     "user_tz": -180
    },
    "id": "mJ0MiUGfecuz",
    "outputId": "71b9ae21-fb3b-4b52-9733-8e96e19e404d"
   },
   "outputs": [
    {
     "name": "stdout",
     "output_type": "stream",
     "text": [
      "Переплата по кредиту 135700.0\n"
     ]
    }
   ],
   "source": [
    "# Впишите сюда ваше решение\n",
    "x1 = 850000\n",
    "x2 = 400000\n",
    "x3 = 0.109 # процент по кредиту\n",
    "y = np.round(((x1 - x2)*(x3/12)*(1+(x3/12))**60)/((1+(x3/12))**60-1) * 60 - (x1 - x2))\n",
    "print('Переплата по кредиту', y)"
   ]
  }
 ],
 "metadata": {
  "colab": {
   "collapsed_sections": [],
   "name": "01_digits_homework.ipynb",
   "provenance": [],
   "version": "0.3.2"
  },
  "kernelspec": {
   "display_name": "Python 3",
   "language": "python",
   "name": "python3"
  },
  "language_info": {
   "codemirror_mode": {
    "name": "ipython",
    "version": 3
   },
   "file_extension": ".py",
   "mimetype": "text/x-python",
   "name": "python",
   "nbconvert_exporter": "python",
   "pygments_lexer": "ipython3",
   "version": "3.6.8"
  }
 },
 "nbformat": 4,
 "nbformat_minor": 1
}

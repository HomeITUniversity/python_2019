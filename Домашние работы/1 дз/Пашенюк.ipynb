{
  "nbformat": 4,
  "nbformat_minor": 0,
  "metadata": {
    "kernelspec": {
      "display_name": "Python 3",
      "language": "python",
      "name": "python3"
    },
    "language_info": {
      "codemirror_mode": {
        "name": "ipython",
        "version": 3
      },
      "file_extension": ".py",
      "mimetype": "text/x-python",
      "name": "python",
      "nbconvert_exporter": "python",
      "pygments_lexer": "ipython3",
      "version": "3.7.3"
    },
    "colab": {
      "name": "01_digits.ipynb",
      "provenance": [],
      "collapsed_sections": [
        "w9tquOd5dVak"
      ]
    }
  },
  "cells": [
    {
      "cell_type": "markdown",
      "metadata": {
        "id": "ViYaUle2dVYP",
        "colab_type": "text"
      },
      "source": [
        "# Python для сотрудников банка\n",
        "![alt text](https://i2.wp.com/www.yugatech.com/wp-content/uploads/2019/02/homecredit_yuga.jpg?w=720&ssl=1)\n",
        "## Проверка, как слышно? Как видно? (ставим +/- в чат)"
      ]
    },
    {
      "cell_type": "markdown",
      "metadata": {
        "id": "KM05XILVdVYQ",
        "colab_type": "text"
      },
      "source": [
        "## Правила курса\n",
        "\n",
        "### Как оцениваем\n",
        "На всем протяжении курса за выполненные домашние задания, тесты и\n",
        "контрольные точки студент получает баллы.\n",
        "\n",
        "Максимальное количество баллов которое можно получить в течении курса -\n",
        "100.\n",
        "\n",
        "Итоговая оценка соответствует полученному количеству баллов следующим\n",
        "образом:\n",
        "- 90 и более отлично;\n",
        "- 75 - 89 - хорошо;\n",
        "- 60 - 74 - удовлетворительно;\n",
        "- менее 60 - неудовлетворительно;\n",
        "\n",
        "### Когда сдавать\n",
        "Задания должны быть выполнены до 23:59. Сроки выполнения всех заданий\n",
        "указаны на странице с заданием.\n",
        "\n",
        "### Политика опозданий (Late politics)\n",
        "У всех студентов есть 7 бесплатных дней для опоздания (Late days).\n",
        "\n",
        "Вы можете использовать до 3 late days для каждого задания без штрафа.\n",
        "\n",
        "Вы можете использовать late days для всех типов заданий (кроме контрольных\n",
        "точек).\n",
        "\n",
        "Как только вы исчерпали свои свободные late days мы будем штрафовать в\n",
        "размере 20% за каждый день опоздания.\n",
        "\n",
        "#### Пример:\n",
        "Вы отправляете задание A1 с опозданием на три дня, отправляете A2 с\n",
        "опозданием на четыре дня, а A3 с опозданием на два дня. Вы не получаете\n",
        "штраф за А1 и исчерпываете три из своих бесплатных late days. Для A2 первые\n",
        "три late days используются; опоздание на четвертый день влечет за собой\n",
        "штраф 20%. Для A3 первый late day исчерпает ваш последний свободный день\n",
        "для опоздания; второй день опоздания влечет за собой штраф 20%.\n",
        "Для проектных заданий late days будут использоваться от каждого члена\n",
        "команды независимо от ее размера."
      ]
    },
    {
      "cell_type": "markdown",
      "metadata": {
        "id": "AWrMVlb2dVYR",
        "colab_type": "text"
      },
      "source": [
        "<h1><center>Числа</center></h1>\n"
      ]
    },
    {
      "cell_type": "code",
      "metadata": {
        "id": "-WrI-wt7FBKx",
        "colab_type": "code",
        "outputId": "3c38330e-eab3-4ebe-98b6-d7a19d0f947c",
        "colab": {
          "base_uri": "https://localhost:8080/",
          "height": 34
        }
      },
      "source": [
        "price = 42\n",
        "print(price)"
      ],
      "execution_count": 0,
      "outputs": [
        {
          "output_type": "stream",
          "text": [
            "42\n"
          ],
          "name": "stdout"
        }
      ]
    },
    {
      "cell_type": "code",
      "metadata": {
        "id": "yf8jMfH2dVYS",
        "colab_type": "code",
        "outputId": "ff1dbfbf-e8ba-4b92-bd1d-9a9433c3436d",
        "colab": {
          "base_uri": "https://localhost:8080/",
          "height": 34
        }
      },
      "source": [
        "# integer (целые числа)\n",
        "price_type = type(price)\n",
        "print(price_type)"
      ],
      "execution_count": 0,
      "outputs": [
        {
          "output_type": "stream",
          "text": [
            "<class 'int'>\n"
          ],
          "name": "stdout"
        }
      ]
    },
    {
      "cell_type": "code",
      "metadata": {
        "id": "KxJc1VDQFLqZ",
        "colab_type": "code",
        "colab": {}
      },
      "source": [
        "pi = 3.14"
      ],
      "execution_count": 0,
      "outputs": []
    },
    {
      "cell_type": "code",
      "metadata": {
        "scrolled": false,
        "id": "hyWi1SPedVYX",
        "colab_type": "code",
        "outputId": "e9f82c4d-7a32-4799-b902-c11a9777b233",
        "colab": {
          "base_uri": "https://localhost:8080/",
          "height": 34
        }
      },
      "source": [
        "# float (числа с плавающей запятой)\n",
        "pi_type = type(pi)\n",
        "print(pi_type)"
      ],
      "execution_count": 0,
      "outputs": [
        {
          "output_type": "stream",
          "text": [
            "<class 'float'>\n"
          ],
          "name": "stdout"
        }
      ]
    },
    {
      "cell_type": "markdown",
      "metadata": {
        "id": "e0-syYdBdVYu",
        "colab_type": "text"
      },
      "source": [
        "# Сложение"
      ]
    },
    {
      "cell_type": "code",
      "metadata": {
        "scrolled": true,
        "id": "mT_no6Z7dVYv",
        "colab_type": "code",
        "outputId": "af25e6a5-4548-48eb-ee0a-48a0729e8118",
        "colab": {
          "base_uri": "https://localhost:8080/",
          "height": 34
        }
      },
      "source": [
        "# сложение целых чисел\n",
        "a = 1\n",
        "b = 2\n",
        "result = a + b\n",
        "print(result, type(result))"
      ],
      "execution_count": 0,
      "outputs": [
        {
          "output_type": "stream",
          "text": [
            "3 <class 'int'>\n"
          ],
          "name": "stdout"
        }
      ]
    },
    {
      "cell_type": "code",
      "metadata": {
        "id": "ErepxwshdVYy",
        "colab_type": "code",
        "outputId": "60e478d2-17b8-4896-e2d3-9fe20d278366",
        "colab": {
          "base_uri": "https://localhost:8080/",
          "height": 34
        }
      },
      "source": [
        "a = -1\n",
        "b = -2\n",
        "result = a + b\n",
        "print(result, type(result))"
      ],
      "execution_count": 0,
      "outputs": [
        {
          "output_type": "stream",
          "text": [
            "-3 <class 'int'>\n"
          ],
          "name": "stdout"
        }
      ]
    },
    {
      "cell_type": "code",
      "metadata": {
        "id": "YA-J-c2RdVY1",
        "colab_type": "code",
        "outputId": "34fda080-f9e6-43b5-9f8c-42294c9d49dd",
        "colab": {
          "base_uri": "https://localhost:8080/",
          "height": 34
        }
      },
      "source": [
        "# сложение чисел с плавающей точкой\n",
        "a = 1.1\n",
        "b = 2\n",
        "result = a + b\n",
        "print(result, type(result))"
      ],
      "execution_count": 0,
      "outputs": [
        {
          "output_type": "stream",
          "text": [
            "3.1 <class 'float'>\n"
          ],
          "name": "stdout"
        }
      ]
    },
    {
      "cell_type": "code",
      "metadata": {
        "id": "2v-GDgHvdVY3",
        "colab_type": "code",
        "outputId": "8aac9a15-2c84-4109-c4c6-1c010893e3b1",
        "colab": {
          "base_uri": "https://localhost:8080/",
          "height": 34
        }
      },
      "source": [
        "# т.к. внутри себя питон преобразует все числа к 10 системе счисления, то не возникает ошибок, \n",
        "# когда мы пытаемся сложить разные системы счисления\n",
        "a = 0xA\n",
        "b = 10\n",
        "result = a + b\n",
        "print(result, type(result))"
      ],
      "execution_count": 0,
      "outputs": [
        {
          "output_type": "stream",
          "text": [
            "20 <class 'int'>\n"
          ],
          "name": "stdout"
        }
      ]
    },
    {
      "cell_type": "markdown",
      "metadata": {
        "id": "RDccw_GgdVY5",
        "colab_type": "text"
      },
      "source": [
        "# Вычитание"
      ]
    },
    {
      "cell_type": "code",
      "metadata": {
        "id": "Q2GH6JgydVY6",
        "colab_type": "code",
        "outputId": "92bbe325-d74c-44db-c3bc-0614974be4db",
        "colab": {
          "base_uri": "https://localhost:8080/",
          "height": 34
        }
      },
      "source": [
        "a = 1\n",
        "b = 2\n",
        "result = a - b\n",
        "print(result, type(result))"
      ],
      "execution_count": 0,
      "outputs": [
        {
          "output_type": "stream",
          "text": [
            "-1 <class 'int'>\n"
          ],
          "name": "stdout"
        }
      ]
    },
    {
      "cell_type": "code",
      "metadata": {
        "id": "AaMHnCkkdVY9",
        "colab_type": "code",
        "outputId": "ae3963fb-aace-499e-96cb-66c554879968",
        "colab": {
          "base_uri": "https://localhost:8080/",
          "height": 34
        }
      },
      "source": [
        "a = 1\n",
        "b = 2.1\n",
        "result = a - b\n",
        "print(result, type(result))"
      ],
      "execution_count": 0,
      "outputs": [
        {
          "output_type": "stream",
          "text": [
            "-1.1 <class 'float'>\n"
          ],
          "name": "stdout"
        }
      ]
    },
    {
      "cell_type": "code",
      "metadata": {
        "id": "RnIoZTtLdVY_",
        "colab_type": "code",
        "colab": {}
      },
      "source": [
        "a = 1\n",
        "b = 2.1\n",
        "result = b - a\n",
        "print(result, type(result))"
      ],
      "execution_count": 0,
      "outputs": []
    },
    {
      "cell_type": "code",
      "metadata": {
        "id": "R1RnxzUGdVZB",
        "colab_type": "code",
        "colab": {}
      },
      "source": [
        "a = -11\n",
        "b = -2\n",
        "result = a - b\n",
        "print(result, type(result))"
      ],
      "execution_count": 0,
      "outputs": []
    },
    {
      "cell_type": "code",
      "metadata": {
        "id": "xEffnRzIdVZD",
        "colab_type": "code",
        "colab": {}
      },
      "source": [
        "a = 11.1\n",
        "b = 0.1\n",
        "result = a - b\n",
        "print(result, type(result))"
      ],
      "execution_count": 0,
      "outputs": []
    },
    {
      "cell_type": "markdown",
      "metadata": {
        "id": "Bg-ZOfvTdVZI",
        "colab_type": "text"
      },
      "source": [
        "# Умножение"
      ]
    },
    {
      "cell_type": "code",
      "metadata": {
        "id": "krS1T8_5dVZI",
        "colab_type": "code",
        "outputId": "d8b72124-38b1-471b-eb40-fa52b5d9a167",
        "colab": {
          "base_uri": "https://localhost:8080/",
          "height": 34
        }
      },
      "source": [
        "x = 5\n",
        "y = 19.001\n",
        "result = x * y\n",
        "print(result, type(result))"
      ],
      "execution_count": 0,
      "outputs": [
        {
          "output_type": "stream",
          "text": [
            "95.00500000000001 <class 'float'>\n"
          ],
          "name": "stdout"
        }
      ]
    },
    {
      "cell_type": "code",
      "metadata": {
        "id": "5MeRUVAqdVZN",
        "colab_type": "code",
        "outputId": "ecb9e868-0bde-4479-aff2-62c349db2315",
        "colab": {
          "base_uri": "https://localhost:8080/",
          "height": 34
        }
      },
      "source": [
        "a = 10\n",
        "b = 2\n",
        "result = a * b\n",
        "print(result, type(result))"
      ],
      "execution_count": 0,
      "outputs": [
        {
          "output_type": "stream",
          "text": [
            "20 <class 'int'>\n"
          ],
          "name": "stdout"
        }
      ]
    },
    {
      "cell_type": "markdown",
      "metadata": {
        "id": "dCdueDvtdVZR",
        "colab_type": "text"
      },
      "source": [
        "# Деление"
      ]
    },
    {
      "cell_type": "code",
      "metadata": {
        "id": "5zyceho3dVZS",
        "colab_type": "code",
        "outputId": "8d57a24b-d36c-493e-f2a0-2eb6187d2ea5",
        "colab": {
          "base_uri": "https://localhost:8080/",
          "height": 34
        }
      },
      "source": [
        "x = 19.001\n",
        "y = 19.001\n",
        "result = x / y\n",
        "print(result, type(result))"
      ],
      "execution_count": 0,
      "outputs": [
        {
          "output_type": "stream",
          "text": [
            "1.0 <class 'float'>\n"
          ],
          "name": "stdout"
        }
      ]
    },
    {
      "cell_type": "code",
      "metadata": {
        "id": "FJNM-_56dVZU",
        "colab_type": "code",
        "outputId": "c851e919-0c59-4884-e0ee-8510ecbc94e8",
        "colab": {
          "base_uri": "https://localhost:8080/",
          "height": 34
        }
      },
      "source": [
        "x = 9\n",
        "y = 4\n",
        "result = x / y\n",
        "print(result, type(result))"
      ],
      "execution_count": 0,
      "outputs": [
        {
          "output_type": "stream",
          "text": [
            "2.25 <class 'float'>\n"
          ],
          "name": "stdout"
        }
      ]
    },
    {
      "cell_type": "code",
      "metadata": {
        "id": "MiLi5bC5dVZX",
        "colab_type": "code",
        "outputId": "2f2fa4d9-72c1-4b94-cab3-4eaa25f8a5fd",
        "colab": {
          "base_uri": "https://localhost:8080/",
          "height": 215
        }
      },
      "source": [
        "x = 1\n",
        "y = 0\n",
        "result = x / y\n",
        "print(result, type(result))"
      ],
      "execution_count": 0,
      "outputs": [
        {
          "output_type": "error",
          "ename": "ZeroDivisionError",
          "evalue": "ignored",
          "traceback": [
            "\u001b[0;31m---------------------------------------------------------------------------\u001b[0m",
            "\u001b[0;31mZeroDivisionError\u001b[0m                         Traceback (most recent call last)",
            "\u001b[0;32m<ipython-input-45-e6f55c0991f9>\u001b[0m in \u001b[0;36m<module>\u001b[0;34m()\u001b[0m\n\u001b[1;32m      1\u001b[0m \u001b[0mx\u001b[0m \u001b[0;34m=\u001b[0m \u001b[0;36m1\u001b[0m\u001b[0;34m\u001b[0m\u001b[0;34m\u001b[0m\u001b[0m\n\u001b[1;32m      2\u001b[0m \u001b[0my\u001b[0m \u001b[0;34m=\u001b[0m \u001b[0;36m0\u001b[0m\u001b[0;34m\u001b[0m\u001b[0;34m\u001b[0m\u001b[0m\n\u001b[0;32m----> 3\u001b[0;31m \u001b[0mresult\u001b[0m \u001b[0;34m=\u001b[0m \u001b[0mx\u001b[0m \u001b[0;34m/\u001b[0m \u001b[0my\u001b[0m\u001b[0;34m\u001b[0m\u001b[0;34m\u001b[0m\u001b[0m\n\u001b[0m\u001b[1;32m      4\u001b[0m \u001b[0mprint\u001b[0m\u001b[0;34m(\u001b[0m\u001b[0mresult\u001b[0m\u001b[0;34m,\u001b[0m \u001b[0mtype\u001b[0m\u001b[0;34m(\u001b[0m\u001b[0mresult\u001b[0m\u001b[0;34m)\u001b[0m\u001b[0;34m)\u001b[0m\u001b[0;34m\u001b[0m\u001b[0;34m\u001b[0m\u001b[0m\n",
            "\u001b[0;31mZeroDivisionError\u001b[0m: division by zero"
          ]
        }
      ]
    },
    {
      "cell_type": "markdown",
      "metadata": {
        "id": "a7Brt_66dVZZ",
        "colab_type": "text"
      },
      "source": [
        "# Целочисленное деление"
      ]
    },
    {
      "cell_type": "code",
      "metadata": {
        "id": "DaA6xbYXdVZa",
        "colab_type": "code",
        "outputId": "4f348b87-9b5d-44ac-dd15-cf601ed13d58",
        "colab": {
          "base_uri": "https://localhost:8080/",
          "height": 34
        }
      },
      "source": [
        "x = 19.001\n",
        "y = 8\n",
        "result = x / y\n",
        "print(result, type(result))"
      ],
      "execution_count": 0,
      "outputs": [
        {
          "output_type": "stream",
          "text": [
            "2.375125 <class 'float'>\n"
          ],
          "name": "stdout"
        }
      ]
    },
    {
      "cell_type": "code",
      "metadata": {
        "id": "Uen-ZjYMdVZc",
        "colab_type": "code",
        "outputId": "0736ec44-6ea3-4190-d009-70b2954c5294",
        "colab": {
          "base_uri": "https://localhost:8080/",
          "height": 34
        }
      },
      "source": [
        "x = 19\n",
        "y = 19.001\n",
        "result = x / y\n",
        "print(result, type(result))"
      ],
      "execution_count": 0,
      "outputs": [
        {
          "output_type": "stream",
          "text": [
            "0.9999473711909899 <class 'float'>\n"
          ],
          "name": "stdout"
        }
      ]
    },
    {
      "cell_type": "code",
      "metadata": {
        "id": "dnom67o-dVZe",
        "colab_type": "code",
        "outputId": "eed186d7-46e7-41da-bde1-5e6d653d57cf",
        "colab": {
          "base_uri": "https://localhost:8080/",
          "height": 34
        }
      },
      "source": [
        "x = 19\n",
        "y = 4\n",
        "result = x // y\n",
        "print(result, type(result))"
      ],
      "execution_count": 0,
      "outputs": [
        {
          "output_type": "stream",
          "text": [
            "4 <class 'int'>\n"
          ],
          "name": "stdout"
        }
      ]
    },
    {
      "cell_type": "markdown",
      "metadata": {
        "id": "qpi21tf5dVZj",
        "colab_type": "text"
      },
      "source": [
        "# Остаток от деления"
      ]
    },
    {
      "cell_type": "code",
      "metadata": {
        "id": "w0-jR-x5dVZk",
        "colab_type": "code",
        "outputId": "82f6deb1-7f8f-4504-b830-8a63c57689ce",
        "colab": {
          "base_uri": "https://localhost:8080/",
          "height": 34
        }
      },
      "source": [
        "x = 19.001\n",
        "y = 19.001\n",
        "result = x % y\n",
        "print(result, type(result))"
      ],
      "execution_count": 0,
      "outputs": [
        {
          "output_type": "stream",
          "text": [
            "0.0 <class 'float'>\n"
          ],
          "name": "stdout"
        }
      ]
    },
    {
      "cell_type": "code",
      "metadata": {
        "id": "ZCExKTu3dVZm",
        "colab_type": "code",
        "outputId": "aa0f0ede-73fa-4c9a-e9e1-94e09a7443fa",
        "colab": {
          "base_uri": "https://localhost:8080/",
          "height": 34
        }
      },
      "source": [
        "x = 5\n",
        "y = 2\n",
        "result = x % y\n",
        "print(result, type(result))"
      ],
      "execution_count": 0,
      "outputs": [
        {
          "output_type": "stream",
          "text": [
            "1 <class 'int'>\n"
          ],
          "name": "stdout"
        }
      ]
    },
    {
      "cell_type": "code",
      "metadata": {
        "id": "gobqJeqNdVZt",
        "colab_type": "code",
        "outputId": "79759a3a-207b-4668-82fd-b1eab044877f",
        "colab": {
          "base_uri": "https://localhost:8080/",
          "height": 34
        }
      },
      "source": [
        "2 / 3 \n",
        "#остататок 0 целых"
      ],
      "execution_count": 0,
      "outputs": [
        {
          "output_type": "execute_result",
          "data": {
            "text/plain": [
              "0.6666666666666666"
            ]
          },
          "metadata": {
            "tags": []
          },
          "execution_count": 55
        }
      ]
    },
    {
      "cell_type": "code",
      "metadata": {
        "id": "8HWQWQvudVZv",
        "colab_type": "code",
        "outputId": "0dc5714e-81f7-48db-ad27-c7d13f1e7e33",
        "colab": {
          "base_uri": "https://localhost:8080/",
          "height": 34
        }
      },
      "source": [
        "x = 20\n",
        "y = 3\n",
        "result = x % y\n",
        "print(result, type(result))"
      ],
      "execution_count": 0,
      "outputs": [
        {
          "output_type": "stream",
          "text": [
            "2 <class 'int'>\n"
          ],
          "name": "stdout"
        }
      ]
    },
    {
      "cell_type": "code",
      "metadata": {
        "id": "Z_XZfwsHdVZx",
        "colab_type": "code",
        "colab": {}
      },
      "source": [
        "20 / 3\n",
        "# получаем 6 целых"
      ],
      "execution_count": 0,
      "outputs": []
    },
    {
      "cell_type": "code",
      "metadata": {
        "id": "JewBuCsrdVZy",
        "colab_type": "code",
        "colab": {}
      },
      "source": [
        "20 - 3*6\n",
        "#получаем остаток"
      ],
      "execution_count": 0,
      "outputs": []
    },
    {
      "cell_type": "markdown",
      "metadata": {
        "id": "rILB3jbldVZ0",
        "colab_type": "text"
      },
      "source": [
        "# Возведение в степень"
      ]
    },
    {
      "cell_type": "code",
      "metadata": {
        "id": "Y-ZwTPcvdVZ2",
        "colab_type": "code",
        "outputId": "7e13be73-907e-4f39-af33-9c735b513263",
        "colab": {
          "base_uri": "https://localhost:8080/",
          "height": 51
        }
      },
      "source": [
        "a = 5\n",
        "m = a * a * a\n",
        "p = a ** 3\n",
        "print(m, type(m))\n",
        "print(p, type(p))"
      ],
      "execution_count": 0,
      "outputs": [
        {
          "output_type": "stream",
          "text": [
            "125 <class 'int'>\n",
            "125 <class 'int'>\n"
          ],
          "name": "stdout"
        }
      ]
    },
    {
      "cell_type": "code",
      "metadata": {
        "id": "XGf068uadVZ5",
        "colab_type": "code",
        "outputId": "19e878c6-6f52-4b28-b65b-f325b59678ac",
        "colab": {
          "base_uri": "https://localhost:8080/",
          "height": 51
        }
      },
      "source": [
        "a  = 5.5\n",
        "m = a * a * a\n",
        "p = a ** 3\n",
        "print(m, type(m))\n",
        "print(p, type(p))"
      ],
      "execution_count": 0,
      "outputs": [
        {
          "output_type": "stream",
          "text": [
            "166.375 <class 'float'>\n",
            "166.375 <class 'float'>\n"
          ],
          "name": "stdout"
        }
      ]
    },
    {
      "cell_type": "code",
      "metadata": {
        "id": "lq-J63tEdVZ8",
        "colab_type": "code",
        "outputId": "b8ccb1c3-e1a5-4d35-e239-c2375861fb71",
        "colab": {
          "base_uri": "https://localhost:8080/",
          "height": 51
        }
      },
      "source": [
        "a  = 5\n",
        "m = a ** 0b000010\n",
        "p = a ** 0x2\n",
        "print(m, type(m))\n",
        "print(p, type(p))"
      ],
      "execution_count": 0,
      "outputs": [
        {
          "output_type": "stream",
          "text": [
            "25 <class 'int'>\n",
            "25 <class 'int'>\n"
          ],
          "name": "stdout"
        }
      ]
    },
    {
      "cell_type": "code",
      "metadata": {
        "id": "V2QMxPtoV-5G",
        "colab_type": "code",
        "colab": {}
      },
      "source": [
        ""
      ],
      "execution_count": 0,
      "outputs": []
    },
    {
      "cell_type": "markdown",
      "metadata": {
        "id": "bkNkm_WfdVaA",
        "colab_type": "text"
      },
      "source": [
        "# Равенство"
      ]
    },
    {
      "cell_type": "code",
      "metadata": {
        "id": "nwBBZIozdVaB",
        "colab_type": "code",
        "outputId": "41e137b8-ba19-4a63-dd24-c83b5b48cd74",
        "colab": {
          "base_uri": "https://localhost:8080/",
          "height": 34
        }
      },
      "source": [
        "a = 5\n",
        "b = 5\n",
        "print(a == b)"
      ],
      "execution_count": 0,
      "outputs": [
        {
          "output_type": "stream",
          "text": [
            "True\n"
          ],
          "name": "stdout"
        }
      ]
    },
    {
      "cell_type": "code",
      "metadata": {
        "id": "4dypHAKRdVaD",
        "colab_type": "code",
        "outputId": "83a0dec2-8ea9-438d-faed-49251d466aa0",
        "colab": {
          "base_uri": "https://localhost:8080/",
          "height": 34
        }
      },
      "source": [
        "a = 5\n",
        "b = 6\n",
        "a == b"
      ],
      "execution_count": 0,
      "outputs": [
        {
          "output_type": "execute_result",
          "data": {
            "text/plain": [
              "False"
            ]
          },
          "metadata": {
            "tags": []
          },
          "execution_count": 62
        }
      ]
    },
    {
      "cell_type": "markdown",
      "metadata": {
        "id": "PuBqdfNPdVaF",
        "colab_type": "text"
      },
      "source": [
        "# Неравенство"
      ]
    },
    {
      "cell_type": "code",
      "metadata": {
        "id": "DmxpVLZgdVaG",
        "colab_type": "code",
        "outputId": "32a53a21-6129-46fa-c662-5d1186346cb5",
        "colab": {
          "base_uri": "https://localhost:8080/",
          "height": 34
        }
      },
      "source": [
        "a = 5\n",
        "b = 5\n",
        "a != b"
      ],
      "execution_count": 0,
      "outputs": [
        {
          "output_type": "execute_result",
          "data": {
            "text/plain": [
              "False"
            ]
          },
          "metadata": {
            "tags": []
          },
          "execution_count": 66
        }
      ]
    },
    {
      "cell_type": "code",
      "metadata": {
        "id": "FUCX6IvGdVaI",
        "colab_type": "code",
        "outputId": "a096cf92-a497-4354-8ba7-95df9487d042",
        "colab": {
          "base_uri": "https://localhost:8080/",
          "height": 34
        }
      },
      "source": [
        "a = 5\n",
        "b = 6\n",
        "a != b"
      ],
      "execution_count": 0,
      "outputs": [
        {
          "output_type": "execute_result",
          "data": {
            "text/plain": [
              "True"
            ]
          },
          "metadata": {
            "tags": []
          },
          "execution_count": 67
        }
      ]
    },
    {
      "cell_type": "markdown",
      "metadata": {
        "id": "SkZh5C-TdVaK",
        "colab_type": "text"
      },
      "source": [
        "# Больше, больше и равно"
      ]
    },
    {
      "cell_type": "code",
      "metadata": {
        "id": "7jc_uXy4dVaO",
        "colab_type": "code",
        "outputId": "df4da570-8779-4494-c9bf-587affc95faf",
        "colab": {
          "base_uri": "https://localhost:8080/",
          "height": 34
        }
      },
      "source": [
        "a = 5\n",
        "b = 5\n",
        "a > b"
      ],
      "execution_count": 0,
      "outputs": [
        {
          "output_type": "execute_result",
          "data": {
            "text/plain": [
              "False"
            ]
          },
          "metadata": {
            "tags": []
          },
          "execution_count": 68
        }
      ]
    },
    {
      "cell_type": "code",
      "metadata": {
        "id": "QCJLDL8VdVaQ",
        "colab_type": "code",
        "outputId": "1b892b12-5270-41bb-cbdc-9a4aa635e8fc",
        "colab": {
          "base_uri": "https://localhost:8080/",
          "height": 34
        }
      },
      "source": [
        "a = 5\n",
        "b = 5\n",
        "a >= b"
      ],
      "execution_count": 0,
      "outputs": [
        {
          "output_type": "execute_result",
          "data": {
            "text/plain": [
              "True"
            ]
          },
          "metadata": {
            "tags": []
          },
          "execution_count": 69
        }
      ]
    },
    {
      "cell_type": "code",
      "metadata": {
        "id": "lz-TaZ8YdVaS",
        "colab_type": "code",
        "outputId": "66e172e3-e579-433e-ceb4-ff28a850f946",
        "colab": {
          "base_uri": "https://localhost:8080/",
          "height": 34
        }
      },
      "source": [
        "a = 10\n",
        "b = 5\n",
        "a > b"
      ],
      "execution_count": 0,
      "outputs": [
        {
          "output_type": "execute_result",
          "data": {
            "text/plain": [
              "True"
            ]
          },
          "metadata": {
            "tags": []
          },
          "execution_count": 70
        }
      ]
    },
    {
      "cell_type": "code",
      "metadata": {
        "id": "P1hGWWQFdVaW",
        "colab_type": "code",
        "outputId": "526e39ad-7932-49b7-a84b-3f8146607d28",
        "colab": {
          "base_uri": "https://localhost:8080/",
          "height": 34
        }
      },
      "source": [
        "a = 5\n",
        "b = 10\n",
        "a > b"
      ],
      "execution_count": 0,
      "outputs": [
        {
          "output_type": "execute_result",
          "data": {
            "text/plain": [
              "False"
            ]
          },
          "metadata": {
            "tags": []
          },
          "execution_count": 71
        }
      ]
    },
    {
      "cell_type": "markdown",
      "metadata": {
        "id": "k1B_08bzdVaa",
        "colab_type": "text"
      },
      "source": [
        "# Меньше, меньше или равно"
      ]
    },
    {
      "cell_type": "code",
      "metadata": {
        "id": "vP05-tJxdVab",
        "colab_type": "code",
        "outputId": "f58cf974-0052-4d85-c155-a701b7844b29",
        "colab": {
          "base_uri": "https://localhost:8080/",
          "height": 34
        }
      },
      "source": [
        "a = 5\n",
        "b = 5\n",
        "a < b"
      ],
      "execution_count": 0,
      "outputs": [
        {
          "output_type": "execute_result",
          "data": {
            "text/plain": [
              "False"
            ]
          },
          "metadata": {
            "tags": []
          },
          "execution_count": 72
        }
      ]
    },
    {
      "cell_type": "code",
      "metadata": {
        "id": "EyjVmtpJdVae",
        "colab_type": "code",
        "outputId": "5900351f-f79e-4142-b147-6ae89d8921db",
        "colab": {
          "base_uri": "https://localhost:8080/",
          "height": 34
        }
      },
      "source": [
        "a = 5\n",
        "b = 5\n",
        "a <= b"
      ],
      "execution_count": 0,
      "outputs": [
        {
          "output_type": "execute_result",
          "data": {
            "text/plain": [
              "True"
            ]
          },
          "metadata": {
            "tags": []
          },
          "execution_count": 73
        }
      ]
    },
    {
      "cell_type": "code",
      "metadata": {
        "id": "_-OK2VvldVag",
        "colab_type": "code",
        "colab": {}
      },
      "source": [
        "a = 10\n",
        "b = 5\n",
        "a < b"
      ],
      "execution_count": 0,
      "outputs": []
    },
    {
      "cell_type": "code",
      "metadata": {
        "id": "iPeFYjaudVai",
        "colab_type": "code",
        "colab": {}
      },
      "source": [
        "a = 5\n",
        "b = 10\n",
        "a < b"
      ],
      "execution_count": 0,
      "outputs": []
    },
    {
      "cell_type": "markdown",
      "metadata": {
        "id": "w9tquOd5dVak",
        "colab_type": "text"
      },
      "source": [
        "# Python удобный калькулятор"
      ]
    },
    {
      "cell_type": "markdown",
      "metadata": {
        "id": "iGOZEn4PdVam",
        "colab_type": "text"
      },
      "source": [
        "# задача про кредит"
      ]
    },
    {
      "cell_type": "markdown",
      "metadata": {
        "id": "oQdGMVOaEHTk",
        "colab_type": "text"
      },
      "source": [
        "Клиент взял в банке кредит на сумму 36 000 рублей с годовой процентной ставкой 140%.\n",
        " \n",
        "Он должен погашать кредит, внося в банк ежемесячно одинаковую сумму денег, чтобы через год выплатить всю сумму, взятую в кредит, вместе с процентами.\n",
        " \n",
        "Сколько рублей он должен вносить в банк ежемесячно?"
      ]
    },
    {
      "cell_type": "code",
      "metadata": {
        "id": "cffDX56UdVao",
        "colab_type": "code",
        "colab": {}
      },
      "source": [
        "# kredit - исходная сумма\n",
        "# rate - ставка\n",
        "# total - сколько всего должен вернуть\n",
        "# month_payment - платеж в месяц"
      ],
      "execution_count": 0,
      "outputs": []
    },
    {
      "cell_type": "markdown",
      "metadata": {
        "id": "DurpBTA5EPUh",
        "colab_type": "text"
      },
      "source": [
        "Составляем пропорцию\n",
        "\n",
        "      100% = 36000\n",
        "      \n",
        "100% + 140% = ?\n",
        "\n",
        "   \n",
        "? = (100 + 140) * 36000 / 100"
      ]
    },
    {
      "cell_type": "code",
      "metadata": {
        "id": "KZaZUhh5dVaq",
        "colab_type": "code",
        "outputId": "32e617bb-7508-4be3-d90d-aca6978b91b2",
        "colab": {
          "base_uri": "https://localhost:8080/",
          "height": 34
        }
      },
      "source": [
        "kredit = 36000\n",
        "rate = 140\n",
        "total = kredit * ((100 + rate) / 100)\n",
        "print(total)"
      ],
      "execution_count": 0,
      "outputs": [
        {
          "output_type": "stream",
          "text": [
            "86400.0\n"
          ],
          "name": "stdout"
        }
      ]
    },
    {
      "cell_type": "code",
      "metadata": {
        "id": "6p7mKazidVas",
        "colab_type": "code",
        "outputId": "9bfa0a66-c00e-4ccb-fe26-0263f85369f0",
        "colab": {
          "base_uri": "https://localhost:8080/",
          "height": 34
        }
      },
      "source": [
        "month_payment = total / 12\n",
        "print(month_payment)"
      ],
      "execution_count": 0,
      "outputs": [
        {
          "output_type": "stream",
          "text": [
            "7200.0\n"
          ],
          "name": "stdout"
        }
      ]
    },
    {
      "cell_type": "code",
      "metadata": {
        "id": "4pL6Bf4wdVax",
        "colab_type": "code",
        "outputId": "c87f9447-0616-47e1-cec0-745522103b6f",
        "colab": {
          "base_uri": "https://localhost:8080/",
          "height": 51
        }
      },
      "source": [
        "# немного про форматированные вывод\n",
        "# \\n символ переноса строки (об этом более подробно на след лекции)\n",
        "print(\"Итого клиент должен:\", total, \"рублей.\", \"\\nМесячный платеж клиента:\", month_payment, \"рублей.\")"
      ],
      "execution_count": 0,
      "outputs": [
        {
          "output_type": "stream",
          "text": [
            "Итого клиент должен: 86400.0 рублей. \n",
            "Месячный платеж клиента: 7200.0 рублей.\n"
          ],
          "name": "stdout"
        }
      ]
    },
    {
      "cell_type": "markdown",
      "metadata": {
        "id": "aDcKx4bxdVa0",
        "colab_type": "text"
      },
      "source": [
        "# задача про комиссию"
      ]
    },
    {
      "cell_type": "markdown",
      "metadata": {
        "id": "nwYjGAZuEgkI",
        "colab_type": "text"
      },
      "source": [
        "При оплате через платежный терминал взимается комиссия 45%.\n",
        " \n",
        "Терминал принимает суммы, кратные 10 рублям.\n",
        " \n",
        "Месячная плата за интернет составляет 350 рублей.\n",
        " \n",
        "Какую минимальную сумму нужно заплатить через терминал, чтобы на счету фирмы, предоставляющей интернет-услуги, оказалась сумма, не меньшая 350 рублей?\n"
      ]
    },
    {
      "cell_type": "code",
      "metadata": {
        "id": "ZUayjmwbdVa1",
        "colab_type": "code",
        "colab": {}
      },
      "source": [
        "# payment - сумма платежа\n",
        "# rate - комиссия\n",
        "# min_summ = ? - минимальная сумма платежа"
      ],
      "execution_count": 0,
      "outputs": []
    },
    {
      "cell_type": "markdown",
      "metadata": {
        "id": "h2Z7GwMZEiYs",
        "colab_type": "text"
      },
      "source": [
        "  100% = ?\n",
        "  \n",
        "100% - 45% = 350\n",
        "\n",
        "   \n",
        "? = 350 * 100 / (100-45)"
      ]
    },
    {
      "cell_type": "code",
      "metadata": {
        "id": "ofFeNTMQdVa5",
        "colab_type": "code",
        "outputId": "95df73cf-4a63-4de5-94ef-482623f5f7ae",
        "colab": {
          "base_uri": "https://localhost:8080/",
          "height": 34
        }
      },
      "source": [
        "payment = 350\n",
        "rate = 45\n",
        "total = 350 * 100 / (100-45)\n",
        "print(total)"
      ],
      "execution_count": 0,
      "outputs": [
        {
          "output_type": "stream",
          "text": [
            "636.3636363636364\n"
          ],
          "name": "stdout"
        }
      ]
    },
    {
      "cell_type": "code",
      "metadata": {
        "id": "k6kv1epkdVa7",
        "colab_type": "code",
        "outputId": "7594ce22-f307-4abe-be95-4e603cffc01e",
        "colab": {
          "base_uri": "https://localhost:8080/",
          "height": 34
        }
      },
      "source": [
        "min_summ = 10 * round(total/10)\n",
        "print(\"должен положить:\", min_summ)"
      ],
      "execution_count": 0,
      "outputs": [
        {
          "output_type": "stream",
          "text": [
            "должен положить: 640\n"
          ],
          "name": "stdout"
        }
      ]
    },
    {
      "cell_type": "markdown",
      "metadata": {
        "id": "O4mXsK7VdVa-",
        "colab_type": "text"
      },
      "source": [
        "# Условный оператор"
      ]
    },
    {
      "cell_type": "code",
      "metadata": {
        "id": "koNX5JlydVa-",
        "colab_type": "code",
        "outputId": "2a903107-ae61-420c-eda3-16592694f812",
        "colab": {
          "base_uri": "https://localhost:8080/",
          "height": 34
        }
      },
      "source": [
        "a = 1\n",
        "b = 1\n",
        "\n",
        "if a == b:\n",
        "    print(\"Да, они равны\")\n",
        "else:\n",
        "    print(\"Они, не равны\")"
      ],
      "execution_count": 0,
      "outputs": [
        {
          "output_type": "stream",
          "text": [
            "Да, они равны\n"
          ],
          "name": "stdout"
        }
      ]
    },
    {
      "cell_type": "code",
      "metadata": {
        "id": "kDpNkZTmdVbB",
        "colab_type": "code",
        "outputId": "8ec7f0e8-470e-48e1-a5f6-d024ae7de355",
        "colab": {
          "base_uri": "https://localhost:8080/",
          "height": 34
        }
      },
      "source": [
        "#несколько условий\n",
        "a = 5\n",
        "b = 4\n",
        "c = 3\n",
        "\n",
        "if a == 3:\n",
        "    print(\"A\")\n",
        "elif b == 3:\n",
        "    print(\"B\")\n",
        "elif c == 3:\n",
        "    print(\"C\")\n",
        "else:\n",
        "    print(\"Nobody\")"
      ],
      "execution_count": 0,
      "outputs": [
        {
          "output_type": "stream",
          "text": [
            "C\n"
          ],
          "name": "stdout"
        }
      ]
    },
    {
      "cell_type": "code",
      "metadata": {
        "id": "lX3MGGTFdVbD",
        "colab_type": "code",
        "outputId": "99136822-9c9e-4171-9f69-c816b647af59",
        "colab": {
          "base_uri": "https://localhost:8080/",
          "height": 34
        }
      },
      "source": [
        "#несколько условий через логическое И\n",
        "a = 5\n",
        "b = 4\n",
        "\n",
        "if a == 5 and b == 4:\n",
        "    print(\"OK\")\n",
        "else:\n",
        "    print(\"BAD\")"
      ],
      "execution_count": 0,
      "outputs": [
        {
          "output_type": "stream",
          "text": [
            "OK\n"
          ],
          "name": "stdout"
        }
      ]
    },
    {
      "cell_type": "code",
      "metadata": {
        "id": "NgqI7LzhdVbF",
        "colab_type": "code",
        "outputId": "93777133-e19b-4835-f9c1-1a877453ad4f",
        "colab": {
          "base_uri": "https://localhost:8080/",
          "height": 34
        }
      },
      "source": [
        "#неправильный подход (менее читаемый)\n",
        "if a == 5:\n",
        "    if b == 4:\n",
        "        print(\"OK\")\n",
        "    else:\n",
        "        print(\"BAD\")\n",
        "else:\n",
        "    print(\"BAD\")"
      ],
      "execution_count": 0,
      "outputs": [
        {
          "output_type": "stream",
          "text": [
            "OK\n"
          ],
          "name": "stdout"
        }
      ]
    },
    {
      "cell_type": "code",
      "metadata": {
        "id": "yN4cBVaedVbH",
        "colab_type": "code",
        "outputId": "dbc3441b-f235-48e3-cde1-488b1053c020",
        "colab": {
          "base_uri": "https://localhost:8080/",
          "height": 34
        }
      },
      "source": [
        "#логическое или\n",
        "a = 40\n",
        "b = 50\n",
        "\n",
        "if a == 5 or b == 4:\n",
        "    print(\"OK\")\n",
        "else:\n",
        "    print(\"BAD\")"
      ],
      "execution_count": 0,
      "outputs": [
        {
          "output_type": "stream",
          "text": [
            "BAD\n"
          ],
          "name": "stdout"
        }
      ]
    },
    {
      "cell_type": "markdown",
      "metadata": {
        "id": "hRt1EAXOdVbL",
        "colab_type": "text"
      },
      "source": [
        "# Циклы"
      ]
    },
    {
      "cell_type": "code",
      "metadata": {
        "id": "mzlOpr9wdVbL",
        "colab_type": "code",
        "outputId": "e25c1a91-618e-44e9-d5d6-cdff6bc9f157",
        "colab": {
          "base_uri": "https://localhost:8080/",
          "height": 102
        }
      },
      "source": [
        "#цикл while пока что то не выполнится\n",
        "a = 5\n",
        "while a > 0:\n",
        "    print(a)\n",
        "    a -= 1\n",
        "a = 2 + 3"
      ],
      "execution_count": 0,
      "outputs": [
        {
          "output_type": "stream",
          "text": [
            "5\n",
            "4\n",
            "3\n",
            "2\n",
            "1\n"
          ],
          "name": "stdout"
        }
      ]
    },
    {
      "cell_type": "code",
      "metadata": {
        "id": "LaxywzpkdVbO",
        "colab_type": "code",
        "outputId": "0d477d11-9dfa-43d2-91e5-dc6b65b1123c",
        "colab": {
          "base_uri": "https://localhost:8080/",
          "height": 102
        }
      },
      "source": [
        "#цикл for \n",
        "for i in range(5):\n",
        "    print(i)"
      ],
      "execution_count": 0,
      "outputs": [
        {
          "output_type": "stream",
          "text": [
            "0\n",
            "1\n",
            "2\n",
            "3\n",
            "4\n"
          ],
          "name": "stdout"
        }
      ]
    },
    {
      "cell_type": "code",
      "metadata": {
        "id": "kKX0fOoVcAyo",
        "colab_type": "code",
        "outputId": "6d30978a-66c7-43ea-e6fe-cd8561373ab1",
        "colab": {
          "base_uri": "https://localhost:8080/",
          "height": 34
        }
      },
      "source": [
        "i"
      ],
      "execution_count": 0,
      "outputs": [
        {
          "output_type": "execute_result",
          "data": {
            "text/plain": [
              "4"
            ]
          },
          "metadata": {
            "tags": []
          },
          "execution_count": 98
        }
      ]
    },
    {
      "cell_type": "code",
      "metadata": {
        "id": "MKInIMvddVbQ",
        "colab_type": "code",
        "outputId": "dcc6e9c9-44e8-482f-db0b-1bda60204cfa",
        "colab": {
          "base_uri": "https://localhost:8080/",
          "height": 102
        }
      },
      "source": [
        "for i in range(0, 6):\n",
        "    if i == 2:\n",
        "      continue\n",
        "    print(i)"
      ],
      "execution_count": 0,
      "outputs": [
        {
          "output_type": "stream",
          "text": [
            "0\n",
            "1\n",
            "3\n",
            "4\n",
            "5\n"
          ],
          "name": "stdout"
        }
      ]
    },
    {
      "cell_type": "code",
      "metadata": {
        "id": "UvWK-VvfdVbR",
        "colab_type": "code",
        "outputId": "ec6a681b-ce6e-470e-9b92-74dedf1bc7d0",
        "colab": {
          "base_uri": "https://localhost:8080/",
          "height": 119
        }
      },
      "source": [
        "for i in range(5, -1, -1):\n",
        "    print(i)"
      ],
      "execution_count": 0,
      "outputs": [
        {
          "output_type": "stream",
          "text": [
            "5\n",
            "4\n",
            "3\n",
            "2\n",
            "1\n",
            "0\n"
          ],
          "name": "stdout"
        }
      ]
    },
    {
      "cell_type": "markdown",
      "metadata": {
        "id": "XHSP7sfpHq49",
        "colab_type": "text"
      },
      "source": [
        "Вы пишите программу контролирующую рекламное табло. Ваша задача выводить на рекламное табло рекламу столько раз, на сколько хватит денег. Вывести на экран остаток на балансе после показа рекламы."
      ]
    },
    {
      "cell_type": "code",
      "metadata": {
        "id": "2KnlYPLKdVbU",
        "colab_type": "code",
        "colab": {}
      },
      "source": [
        "money = 1000\n",
        "cost = 290.25"
      ],
      "execution_count": 0,
      "outputs": []
    },
    {
      "cell_type": "code",
      "metadata": {
        "id": "hpIngt6SdVbV",
        "colab_type": "code",
        "outputId": "6b30022e-be2b-45c5-f31e-e620f1da2c75",
        "colab": {
          "base_uri": "https://localhost:8080/",
          "height": 34
        }
      },
      "source": [
        "t = int(money // cost)\n",
        "t = int(t)\n",
        "print(t)"
      ],
      "execution_count": 0,
      "outputs": [
        {
          "output_type": "stream",
          "text": [
            "3\n"
          ],
          "name": "stdout"
        }
      ]
    },
    {
      "cell_type": "code",
      "metadata": {
        "id": "xncYUa33dVbX",
        "colab_type": "code",
        "outputId": "38fc5001-9d01-4402-bd45-7abf5813d27c",
        "colab": {
          "base_uri": "https://localhost:8080/",
          "height": 85
        }
      },
      "source": [
        "for i in range(int(t)):\n",
        "        print(\"Рекламный блок #\", i)\n",
        "        money -= cost\n",
        "print(\"Остаток\", money)"
      ],
      "execution_count": 0,
      "outputs": [
        {
          "output_type": "stream",
          "text": [
            "Рекламный блок # 0\n",
            "Рекламный блок # 1\n",
            "Рекламный блок # 2\n",
            "Остаток 129.25\n"
          ],
          "name": "stdout"
        }
      ]
    },
    {
      "cell_type": "code",
      "metadata": {
        "id": "fm5IxHNrdVbZ",
        "colab_type": "code",
        "colab": {}
      },
      "source": [
        ""
      ],
      "execution_count": 0,
      "outputs": []
    }
  ]
}
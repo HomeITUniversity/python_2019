{
  "nbformat": 4,
  "nbformat_minor": 0,
  "metadata": {
    "kernelspec": {
      "display_name": "Python 3",
      "language": "python",
      "name": "python3"
    },
    "language_info": {
      "codemirror_mode": {
        "name": "ipython",
        "version": 3
      },
      "file_extension": ".py",
      "mimetype": "text/x-python",
      "name": "python",
      "nbconvert_exporter": "python",
      "pygments_lexer": "ipython3",
      "version": "3.7.3"
    },
    "colab": {
      "name": "File_and_folders_homework_(1).ipynb",
      "provenance": [],
      "collapsed_sections": []
    }
  },
  "cells": [
    {
      "cell_type": "markdown",
      "metadata": {
        "id": "vBKLoFffOGSM",
        "colab_type": "text"
      },
      "source": [
        "# Домашняя работа на тему файлы и папки\n",
        "\n",
        "## Мягкий срок сдачи: 30.10.2019 \n",
        "## Жесткий срок сдачи: 6.11.2019\n",
        "\n"
      ]
    },
    {
      "cell_type": "markdown",
      "metadata": {
        "id": "lx1s8GN_OGSO",
        "colab_type": "text"
      },
      "source": [
        " # Задача 1\n",
        " \n",
        " Logger - функция для записи логов вашей системы в файлы и другие обработчики (например в телеграмм, в почту, в базу и тд)<br>\n",
        " \n",
        " Необходимо разработать функцию logger.<br>\n",
        "  \n",
        " Функция должна принимать:<br>\n",
        " обязательно<br>\n",
        "     - text - текст лога\n",
        "     - module - наименование модуля в котором пишется лог\n",
        " опционально<br>\n",
        "     - file_name - файл куда писать лог, если такой не указан по умолчнию должен быть указан файл с именем \"log_сегодняшняя_дата.log\" и должен сохраняться в папку из которой запущен скрипт.\n",
        "     - type - тип логов, если такой не указан, то стандартное значение \"[INFO]\"\n",
        " \n",
        " Пример имени файла: \"log_23_10_2019.log\"<br>\n",
        " Функция должна записывать в файл переданный в нее текст в формате \"Дата время - type - module: text\".<br>\n",
        "  Пример: '2019-10-23 13:08:31.080474 - [INFO] - MAIN: Тестовый лог'<br>\n",
        "  \n",
        " Функция должна проверять file_name это файл или нет. Если это файл то дозаписывать в него, если его нет то создавать новый.<br>\n",
        " Если в file_name указана папка, то создать в ней файл с именем \"log_сегодняшняя_дата.log и писать в это файл.<br>"
      ]
    },
    {
      "cell_type": "code",
      "metadata": {
        "id": "e4KDU6gvOGSP",
        "colab_type": "code",
        "colab": {}
      },
      "source": [
        "# ваше решение тут\n",
        "\n",
        "\n",
        "from datetime import datetime\n",
        "import os\n",
        "\n",
        "def Logger(text_log,module_log='module',file_name=f'log_{datetime.now().date()}',type_log='[INFO]'):\n",
        "    if os.path.isdir(file_name)==False:\n",
        "        with open(f'{file_name}.log', 'a') as file:\n",
        "             file.write(f'{datetime.now()} - {type_log} - {module_log}: {text_log}\\n')\n",
        "    else:\n",
        "         with open(f'{file_name}\\\\log_{datetime.now().date()}.log', 'a') as file:\n",
        "             file.write(f'{datetime.now()} - {type_log} - {module_log}: {text_log}\\n')\n",
        "\n",
        "Logger(text_log='тестовый лог')"
      ],
      "execution_count": 0,
      "outputs": []
    },
    {
      "cell_type": "code",
      "metadata": {
        "id": "4bZquIo6iVCN",
        "colab_type": "code",
        "outputId": "3fe0b2f8-cbca-4721-ec9b-c297c5230660",
        "colab": {
          "base_uri": "https://localhost:8080/",
          "height": 72
        }
      },
      "source": [
        "with open('log_2019-10-29.log', 'r') as f:\n",
        "    print(f.read())"
      ],
      "execution_count": 17,
      "outputs": [
        {
          "output_type": "stream",
          "text": [
            "2019-10-29 18:54:17.520355 - [INFO] - None: тестовый лог\n",
            "2019-10-29 18:54:57.022936 - [INFO] - module: тестовый лог\n",
            "\n"
          ],
          "name": "stdout"
        }
      ]
    },
    {
      "cell_type": "markdown",
      "metadata": {
        "id": "1PAIxwL2OGSU",
        "colab_type": "text"
      },
      "source": [
        "# Задача 2\n",
        "\n",
        "Разработать 2 функции:<br>\n",
        "Функция 1.<br>\n",
        "file_size - функция должна возвращать размер файла в Килобайтах.<br>\n",
        "Функция принимает path - путь до файла.<br>\n",
        "\n",
        "Функция 2.<br>\n",
        "file_create_date - функция должна возвращать дату создания файла в формате \"23.10.2019\"<br>\n",
        "Функция принимает path - путь до файла.<br>\n",
        "\n",
        "Если в path указан путь до папки, то функция должна вернуть False и вывести в консоль сообщение о том что передана папка, а не файл.<br>\n",
        "Если файла не существует, то функция должна вернуть False и вывести в консоль сообщение о том что файла не существует.<br>\n",
        "\n",
        "PS::\n",
        "        \n",
        "1284101485 - Unix time stamp"
      ]
    },
    {
      "cell_type": "code",
      "metadata": {
        "id": "bIcJjT15OGSU",
        "colab_type": "code",
        "outputId": "51da7a9e-4053-4ef3-c429-eb210f285146",
        "colab": {
          "base_uri": "https://localhost:8080/",
          "height": 35
        }
      },
      "source": [
        "# ваше решение тут\n",
        "import os\n",
        "from datetime import datetime\n",
        "\n",
        "str(datetime.now().date())\n",
        "\n",
        "gets = 'log_2019-10-29.log'\n",
        "\n",
        "\n",
        "def file_size(gets):\n",
        "    if os.path.isfile(gets):\n",
        "        return os.path.getsize(gets) / 1000\n",
        "    else:\n",
        "        print('Ошибка, это не файл')\n",
        "        return False\n",
        "\n",
        "\n",
        "def file_create_date(gets):\n",
        "    if os.path.exists(gets) == True and os.path.isfile(gets):\n",
        "        return datetime.utcfromtimestamp(os.path.getctime(gets)).strftime('%d.%m.%Y')\n",
        "    elif os.path.exists(gets) == True and os.path.isdir(gets):\n",
        "        print('Ошибка, передана папка')\n",
        "        return False\n",
        "    elif os.path.exists(gets) == False:\n",
        "        print('Ошибка, файла не существует')\n",
        "        return False\n",
        "\n",
        "print(f'размер - {file_size(gets)} Килобайт, создано - {file_create_date (gets)}')\n",
        "\n"
      ],
      "execution_count": 15,
      "outputs": [
        {
          "output_type": "stream",
          "text": [
            "размер - 0.138 Килобайт, создано - 29.10.2019\n"
          ],
          "name": "stdout"
        }
      ]
    },
    {
      "cell_type": "markdown",
      "metadata": {
        "id": "GU5B_ZJpOGSY",
        "colab_type": "text"
      },
      "source": [
        "# Задача 3\n",
        "\n",
        "Дана папка с файлами (запакована в архив homework3_folder.rar) вам нужно ее извлечь в корень, где лежит ваш юпитер нотебук.(самостоятельно руками)<br>\n",
        "\n",
        "В папке есть файлы.<br>\n",
        "\n",
        "Вам необходимо слить эти файлы в один файл \"File_all.txt\"<br>\n",
        "Формат в котором должны они быть слиты:<br>\n",
        "\n",
        "Имя файла: File 1.txt Размер файла: 5 kb Дата создания: 23.10.2019<br>\n",
        "Содержание файла 1<br>\n",
        "\n",
        "Имя файла: File 2.txt Размер файла: 50 kb Дата создания: 23.10.2019<br>\n",
        "Содержание файла 2<br>\n",
        "\n",
        "и тд.<br>\n",
        "\n",
        "Для получения размера файла и даты изменения используйте функции из 2 задачи.<br>\n",
        "\n"
      ]
    },
    {
      "cell_type": "code",
      "metadata": {
        "id": "_Wz-AkToOGSZ",
        "colab_type": "code",
        "colab": {}
      },
      "source": [
        "# ваше решение тут\n",
        "\n",
        "import os\n",
        "\n",
        "os.remove(\"File_all.txt\")\n",
        "\n",
        "directory = 'homework3_folder'\n",
        "\n",
        "for files in os.listdir(directory):\n",
        "    with open(os.path.abspath(os.path.join(directory, files)), 'r', encoding='utf8') as old_file:\n",
        "        with open('File_all.txt', 'a', encoding='utf8') as new_file:\n",
        "            new_file.write(f'\\nИмя файла: {files}, Размер файла: {file_size(os.path.abspath(os.path.join(directory, files)))} КБ Дата создания: {file_create_date(os.path.abspath(os.path.join(directory, files)))}\\n{old_file.read()}')\n",
        "\n"
      ],
      "execution_count": 0,
      "outputs": []
    },
    {
      "cell_type": "markdown",
      "metadata": {
        "id": "nqd3CxfVOGSc",
        "colab_type": "text"
      },
      "source": [
        "# Задача 4 \n",
        "\n",
        "Дана папка с файлами (запакована в архив homework4_folder.rar) вам нужно ее извлечь в корень, где лежит ваш юпитер нотебук.(самостоятельно руками)<br>\n",
        "\n",
        "Написать нужно функцию, которая принимает на вход путь до папки. <br>\n",
        "Например \"c:\\\\my_folder\"<br>\n",
        "\n",
        "Функция должна пройти по файлам и папкам внутри этой папки - внутри \"c:\\\\my_folder\" как пример.<br>\n",
        "Пример:<br>\n",
        "- file.txt\n",
        "- folder2\n",
        "- folder3\n",
        "- file3.xx\n",
        "\n",
        "Она НЕ должна заходить во вложенные папки.<br>\n",
        "\n",
        "Т.е. проходить по <br>\n",
        "folder2 / file444.txt<br>\n",
        "не нужно.<br>\n",
        "\n",
        "Функция должна вывести информацию о содержимом в формате:<br>\n",
        "    - File: имя файла Дата создания: 23.10.2019 Размер файла: 5 kb\n",
        "    - Dir: имя папки Вложенные файлы: список вложенных файлов\n",
        "\n",
        "Функция должна возвращать словарь:"
      ]
    },
    {
      "cell_type": "code",
      "metadata": {
        "id": "iOADPnBsOGSc",
        "colab_type": "code",
        "colab": {}
      },
      "source": [
        "#пример возвращаемого словаря\n",
        "{\n",
        "    \"file name 1\": {\n",
        "        'size': 5,\n",
        "        'create_date': \"23.10.2019\",\n",
        "        'path': \"path_to_file_1\",\n",
        "    },\n",
        "    \"file name 2\": {\n",
        "        'size': 50,\n",
        "        'create_date': \"23.10.2019\",\n",
        "        'path': \"path_to_file_2\",\n",
        "    },\n",
        "}\n"
      ],
      "execution_count": 0,
      "outputs": []
    },
    {
      "cell_type": "code",
      "metadata": {
        "id": "uIsvlLtFOGSf",
        "colab_type": "code",
        "outputId": "92c4e29f-55d3-4f1d-dab1-0e8e9d823849",
        "colab": {
          "base_uri": "https://localhost:8080/",
          "height": 72
        }
      },
      "source": [
        "\n",
        "# ваш код тут\n",
        "import os\n",
        "\n",
        "directory = '/content/homework4_folder'\n",
        "dict_file={}\n",
        "\n",
        "#- File: имя файла Дата создания: 23.10.2019 Размер файла: 5 kb - Dir: имя папки Вложенные файлы: список вложенных файлов\n",
        "def list_of_files(directory):\n",
        "    if os.path.exists(directory) and os.path.isdir(directory):\n",
        "        homework_folder = {}\n",
        "        for files in os.listdir(directory):\n",
        "            if os.path.isfile(os.path.abspath(os.path.join(directory, files))) == True:\n",
        "                homework_folder[files] = {'size': file_size(os.path.abspath(os.path.join(directory, files))), 'create_date': file_create_date(os.path.abspath(os.path.join(directory, files))), 'path': os.path.abspath(os.path.join(directory, files))}\n",
        "                print(f'- File: {files} Дата создания: {file_create_date(os.path.abspath(os.path.join(directory, files)))} Размер файла: {file_size(os.path.abspath(os.path.join(directory, files)))} КБ')\n",
        "            else:\n",
        "                homework_folder[files] = {'nested_file':os.listdir(os.path.abspath(os.path.join(directory, files)))}\n",
        "                print(f'- Dir: {files} Вложенные файлы: {os.listdir(os.path.abspath(os.path.join(directory, files)))}')\n",
        "        return homework_folder\n",
        "    else:\n",
        "        print(\"Такого пути не существует\")\n",
        "\n",
        "dict_file=list_of_files(directory)\n",
        "        \n",
        "print (dict_file)"
      ],
      "execution_count": 36,
      "outputs": [
        {
          "output_type": "stream",
          "text": [
            "- Dir: My Drive Вложенные файлы: ['Colab Notebooks']\n",
            "- Dir: .Trash Вложенные файлы: []\n",
            "{'My Drive': {'nested_file': ['Colab Notebooks']}, '.Trash': {'nested_file': []}}\n"
          ],
          "name": "stdout"
        }
      ]
    },
    {
      "cell_type": "markdown",
      "metadata": {
        "id": "ZZ3HTS45OGSi",
        "colab_type": "text"
      },
      "source": [
        "# Задача 5\n",
        "\n",
        "Необходимо разработать функцию - rem_files<br>\n",
        "\n",
        "Принимает:<br>\n",
        "    - dct - словарь из прошлой задачи.\n",
        "\n",
        "Функция должна пройти по словарю, найти те файлы у которых размер больше 30 kb и удалить их.<br>\n",
        "Сообщения об этом соответственно вывести на экран в формате:<br>\n",
        "    \n",
        "Был удален файл по пути: path_to_file<br>\n",
        "Имя: file_name<br>\n",
        "Размер: 5 kb<br>"
      ]
    },
    {
      "cell_type": "code",
      "metadata": {
        "id": "3wVDBwEXOGSj",
        "colab_type": "code",
        "colab": {}
      },
      "source": [
        "# ваш код тут\n",
        "\n",
        "def rem_files(dict_file):\n",
        "    if type(dict_file) != dict:\n",
        "        print('Удаление не произведено, на вход дан не словарь')\n",
        "        return\n",
        "    for key, val in dict_file.items():\n",
        "        if val.get('size') != None and val['size']>30 and os.path.exists(val['path']):\n",
        "            os.remove(val['path'])\n",
        "            print(f'Был удален файл по пути: {val[\"path\"]}\\nИмя: {key}\\nРазмер: {val[\"size\"]} кб\\n')\n",
        "\n",
        "rem_files(dict_file)"
      ],
      "execution_count": 0,
      "outputs": []
    }
  ]
}
{
  "nbformat": 4,
  "nbformat_minor": 0,
  "metadata": {
    "kernelspec": {
      "display_name": "Python 3",
      "language": "python",
      "name": "python3"
    },
    "language_info": {
      "codemirror_mode": {
        "name": "ipython",
        "version": 3
      },
      "file_extension": ".py",
      "mimetype": "text/x-python",
      "name": "python",
      "nbconvert_exporter": "python",
      "pygments_lexer": "ipython3",
      "version": "3.7.3"
    },
    "colab": {
      "name": "File and folders homework.ipynb",
      "provenance": [],
      "collapsed_sections": []
    }
  },
  "cells": [
    {
      "cell_type": "markdown",
      "metadata": {
        "id": "AxYGNrvGiqnn",
        "colab_type": "text"
      },
      "source": [
        "# Домашняя работа на тему файлы и папки\n",
        "\n",
        "## Мягкий срок сдачи: 30.10.2019 \n",
        "## Жесткий срок сдачи: 6.11.2019\n",
        "\n"
      ]
    },
    {
      "cell_type": "markdown",
      "metadata": {
        "id": "AznG-e_wiqnp",
        "colab_type": "text"
      },
      "source": [
        " # Задача 1\n",
        " \n",
        " Logger - функция для записи логов вашей системы в файлы и другие обработчики (например в телеграмм, в почту, в базу и тд)<br>\n",
        " \n",
        " Необходимо разработать функцию logger.<br>\n",
        "  \n",
        " Функция должна принимать:<br>\n",
        " обязательно<br>\n",
        "     - text - текст лога\n",
        "     - module - наименование модуля в котором пишется лог\n",
        " опционально<br>\n",
        "     - file_name - файл куда писать лог, если такой не указан по умолчнию должен быть указан файл с именем \"log_сегодняшняя_дата.log\" и должен сохраняться в папку из которой запущен скрипт.\n",
        "     - type - тип логов, если такой не указан, то стандартное значение \"[INFO]\"\n",
        " \n",
        " Пример имени файла: \"log_23_10_2019.log\"<br>\n",
        " Функция должна записывать в файл переданный в нее текст в формате \"Дата время - type - module: text\".<br>\n",
        "  Пример: '2019-10-23 13:08:31.080474 - [INFO] - MAIN: Тестовый лог'<br>\n",
        "  \n",
        " Функция должна проверять file_name это файл или нет. Если это файл то дозаписывать в него, если его нет то создавать новый.<br>\n",
        " Если в file_name указана папка, то создать в ней файл с именем \"log_сегодняшняя_дата.log и писать в это файл.<br>"
      ]
    },
    {
      "cell_type": "code",
      "metadata": {
        "id": "vEwePebjiqnq",
        "colab_type": "code",
        "colab": {}
      },
      "source": [
        "# ваше решение тут"
      ],
      "execution_count": 0,
      "outputs": []
    },
    {
      "cell_type": "markdown",
      "metadata": {
        "id": "joLAor9_iqns",
        "colab_type": "text"
      },
      "source": [
        "# Задача 2\n",
        "\n",
        "Разработать 2 функции:<br>\n",
        "Функция 1.<br>\n",
        "file_size - функция должна возвращать размер файла в Килобайтах.<br>\n",
        "Функция принимает path - путь до файла.<br>\n",
        "\n",
        "Функция 2.<br>\n",
        "file_create_date - функция должна возвращать дату создания файла в формате \"23.10.2019\"<br>\n",
        "Функция принимает path - путь до файла.<br>\n",
        "\n",
        "Если в path указан путь до папки, то функция должна вернуть False и вывести в консоль сообщение о том что передана папка, а не файл.<br>\n",
        "Если файла не существует, то функция должна вернуть False и вывести в консоль сообщение о том что файла не существует.<br>\n",
        "\n",
        "PS::\n",
        "        \n",
        "1284101485 - Unix time stamp"
      ]
    },
    {
      "cell_type": "code",
      "metadata": {
        "id": "Ryo5RWwXiqnt",
        "colab_type": "code",
        "outputId": "f084d604-2c47-4cf7-caa2-6fd9aebeb737",
        "colab": {
          "base_uri": "https://localhost:8080/",
          "height": 85
        }
      },
      "source": [
        "##from datetime import datetime\n",
        "import os\n",
        "import time\n",
        "##= str(datetime.now().date())\n",
        "##print(a)\n",
        "def file_size(path):\n",
        "    if not os.path.exists(path):\n",
        "        print('Файла по данному пути не существует')\n",
        "        return False\n",
        "    if os.path.isdir(path):\n",
        "        print('Данный путь является папкой')\n",
        "        return False\n",
        "    return os.path.getsize(path)/1024\n",
        "print(file_size('C:\\\\Users\\\\Андрей\\\\PycharmProjects\\\\homework\\\\1.txt'))\n",
        "\n",
        "def file_create_date(path):\n",
        "    if not os.path.exists(path):\n",
        "        print('Файла по данному пути не существует')\n",
        "        return False\n",
        "    if os.path.isdir(path):\n",
        "        print('Данный путь является папкой')\n",
        "        return False\n",
        "    return time.strftime('%d.%m.%Y', time.localtime(os.path.getctime(path)))\n",
        "print(file_create_date('C:\\\\Users\\\\Андрей\\\\PycharmProjects\\\\homework\\\\1.txt'))"
      ],
      "execution_count": 1,
      "outputs": [
        {
          "output_type": "stream",
          "text": [
            "Файла по данному пути не существует\n",
            "False\n",
            "Файла по данному пути не существует\n",
            "False\n"
          ],
          "name": "stdout"
        }
      ]
    },
    {
      "cell_type": "markdown",
      "metadata": {
        "id": "RYPO9k3Hiqnv",
        "colab_type": "text"
      },
      "source": [
        "# Задача 3\n",
        "\n",
        "Дана папка с файлами (запакована в архив homework3_folder.rar) вам нужно ее извлечь в корень, где лежит ваш юпитер нотебук.(самостоятельно руками)<br>\n",
        "\n",
        "В папке есть файлы.<br>\n",
        "\n",
        "Вам необходимо слить эти файлы в один файл \"File_all.txt\"<br>\n",
        "Формат в котором должны они быть слиты:<br>\n",
        "\n",
        "Имя файла: File 1.txt Размер файла: 5 kb Дата создания: 23.10.2019<br>\n",
        "Содержание файла 1<br>\n",
        "\n",
        "Имя файла: File 2.txt Размер файла: 50 kb Дата создания: 23.10.2019<br>\n",
        "Содержание файла 2<br>\n",
        "\n",
        "и тд.<br>\n",
        "\n",
        "Для получения размера файла и даты изменения используйте функции из 2 задачи.<br>\n",
        "\n"
      ]
    },
    {
      "cell_type": "code",
      "metadata": {
        "id": "75l4aGYjiqnw",
        "colab_type": "code",
        "colab": {
          "base_uri": "https://localhost:8080/",
          "height": 285
        },
        "outputId": "b268dad0-52c2-448c-a1d5-629bd3a8cc15"
      },
      "source": [
        "import os\n",
        "import time\n",
        "import glob\n",
        "def file_size(path):\n",
        "    if not os.path.exists(path):\n",
        "        print('Файла по данному пути не существует')\n",
        "        return False\n",
        "    if os.path.isdir(path):\n",
        "        print('Данный путь является папкой')\n",
        "        return False\n",
        "    return os.path.getsize(path)/1024\n",
        "\n",
        "\n",
        "def file_create_date(path):\n",
        "    if not os.path.exists(path):\n",
        "        print('Файла по данному пути не существует')\n",
        "        return False\n",
        "    if os.path.isdir(path):\n",
        "        print('Данный путь является папкой')\n",
        "        return False\n",
        "    return time.strftime('%d.%m.%Y', time.localtime(os.path.getctime(path)))\n",
        "\n",
        "\n",
        "\n",
        "A = 'Имя файла: file 1.txt Размер файла: ' + str(file_size('C:\\\\Users\\\\Андрей\\\\PycharmProjects\\\\homework\\\\homework3_folder\\\\file 1.txt')) + ' '  \\\n",
        "    'Дата создания: ' + file_create_date('C:\\\\Users\\\\Андрей\\\\PycharmProjects\\\\homework\\\\homework3_folder\\\\file 1.txt')\n",
        "##print(S1)\n",
        "B = 'Имя файла: file 2.txt Размер файла: ' + str(file_size('C:\\\\Users\\\\Андрей\\\\PycharmProjects\\\\homework\\\\homework3_folder\\\\file 2.txt')) + ' ' \\\n",
        "    'Дата создания: ' + file_create_date('C:\\\\Users\\\\Андрей\\\\PycharmProjects\\\\homework\\\\homework3_folder\\\\file 1.txt')\n",
        "##print(S2)\n",
        "C = 'Имя файла: война и мир.txt Размер файла: ' + str(file_size('C:\\\\Users\\\\Андрей\\\\PycharmProjects\\\\homework\\\\homework3_folder\\\\война и мир.txt')) + ' ' \\\n",
        "    'Дата создания: ' + file_create_date('C:\\\\Users\\\\Андрей\\\\PycharmProjects\\\\homework\\\\homework3_folder\\\\file 1.txt')\n",
        "##print(S3)\n",
        "D = 'Имя файла: не хочу питон.txt Размер файла: ' + str(file_size('C:\\\\Users\\\\Андрей\\\\PycharmProjects\\\\homework\\\\homework3_folder\\\\не хочу питон.txt')) + ' ' \\\n",
        "    'Дата создания: ' + file_create_date('C:\\\\Users\\\\Андрей\\\\PycharmProjects\\\\homework\\\\homework3_folder\\\\file 1.txt')\n",
        "##print(S4)\n",
        "\n",
        "files = glob.glob('C:\\\\Users\\\\Андрей\\\\PycharmProjects\\\\homework\\\\*.txt')\n",
        "lst = [A,B,C,D]\n",
        "i = 0\n",
        "\n",
        "for j in files:\n",
        "    with open(\"File_all.txt\", \"a\", encoding='utf-8') as outfile:\n",
        "            outfile.write(lst[i])\n",
        "\n",
        "    with open(\"File_all.txt\", \"ab\") as outfile:\n",
        "            with open(j, \"rb\") as infile:\n",
        "                outfile.write(infile.read())\n",
        "    i += 1"
      ],
      "execution_count": 4,
      "outputs": [
        {
          "output_type": "stream",
          "text": [
            "Файла по данному пути не существует\n",
            "Файла по данному пути не существует\n"
          ],
          "name": "stdout"
        },
        {
          "output_type": "error",
          "ename": "TypeError",
          "evalue": "ignored",
          "traceback": [
            "\u001b[0;31m---------------------------------------------------------------------------\u001b[0m",
            "\u001b[0;31mTypeError\u001b[0m                                 Traceback (most recent call last)",
            "\u001b[0;32m<ipython-input-4-3612cd5fd6bb>\u001b[0m in \u001b[0;36m<module>\u001b[0;34m()\u001b[0m\n\u001b[1;32m     23\u001b[0m \u001b[0;34m\u001b[0m\u001b[0m\n\u001b[1;32m     24\u001b[0m \u001b[0;34m\u001b[0m\u001b[0m\n\u001b[0;32m---> 25\u001b[0;31m \u001b[0mA\u001b[0m \u001b[0;34m=\u001b[0m \u001b[0;34m'Имя файла: file 1.txt Размер файла: '\u001b[0m \u001b[0;34m+\u001b[0m \u001b[0mstr\u001b[0m\u001b[0;34m(\u001b[0m\u001b[0mfile_size\u001b[0m\u001b[0;34m(\u001b[0m\u001b[0;34m'C:\\\\Users\\\\Андрей\\\\PycharmProjects\\\\homework\\\\homework3_folder\\\\file 1.txt'\u001b[0m\u001b[0;34m)\u001b[0m\u001b[0;34m)\u001b[0m \u001b[0;34m+\u001b[0m \u001b[0;34m' '\u001b[0m      \u001b[0;34m'Дата создания: '\u001b[0m \u001b[0;34m+\u001b[0m \u001b[0mfile_create_date\u001b[0m\u001b[0;34m(\u001b[0m\u001b[0;34m'C:\\\\Users\\\\Андрей\\\\PycharmProjects\\\\homework\\\\homework3_folder\\\\file 1.txt'\u001b[0m\u001b[0;34m)\u001b[0m\u001b[0;34m\u001b[0m\u001b[0;34m\u001b[0m\u001b[0m\n\u001b[0m\u001b[1;32m     26\u001b[0m \u001b[0;31m##print(S1)\u001b[0m\u001b[0;34m\u001b[0m\u001b[0;34m\u001b[0m\u001b[0;34m\u001b[0m\u001b[0m\n\u001b[1;32m     27\u001b[0m \u001b[0mB\u001b[0m \u001b[0;34m=\u001b[0m \u001b[0;34m'Имя файла: file 2.txt Размер файла: '\u001b[0m \u001b[0;34m+\u001b[0m \u001b[0mstr\u001b[0m\u001b[0;34m(\u001b[0m\u001b[0mfile_size\u001b[0m\u001b[0;34m(\u001b[0m\u001b[0;34m'C:\\\\Users\\\\Андрей\\\\PycharmProjects\\\\homework\\\\homework3_folder\\\\file 2.txt'\u001b[0m\u001b[0;34m)\u001b[0m\u001b[0;34m)\u001b[0m \u001b[0;34m+\u001b[0m \u001b[0;34m' '\u001b[0m     \u001b[0;34m'Дата создания: '\u001b[0m \u001b[0;34m+\u001b[0m \u001b[0mfile_create_date\u001b[0m\u001b[0;34m(\u001b[0m\u001b[0;34m'C:\\\\Users\\\\Андрей\\\\PycharmProjects\\\\homework\\\\homework3_folder\\\\file 1.txt'\u001b[0m\u001b[0;34m)\u001b[0m\u001b[0;34m\u001b[0m\u001b[0;34m\u001b[0m\u001b[0m\n",
            "\u001b[0;31mTypeError\u001b[0m: must be str, not bool"
          ]
        }
      ]
    },
    {
      "cell_type": "markdown",
      "metadata": {
        "id": "bJhRprO0iqny",
        "colab_type": "text"
      },
      "source": [
        "# Задача 4 \n",
        "\n",
        "Дана папка с файлами (запакована в архив homework4_folder.rar) вам нужно ее извлечь в корень, где лежит ваш юпитер нотебук.(самостоятельно руками)<br>\n",
        "\n",
        "Написать нужно функцию, которая принимает на вход путь до папки. <br>\n",
        "Например \"c:\\\\my_folder\"<br>\n",
        "\n",
        "Функция должна пройти по файлам и папкам внутри этой папки - внутри \"c:\\\\my_folder\" как пример.<br>\n",
        "Пример:<br>\n",
        "- file.txt\n",
        "- folder2\n",
        "- folder3\n",
        "- file3.xx\n",
        "\n",
        "Она НЕ должна заходить во вложенные папки.<br>\n",
        "\n",
        "Т.е. проходить по <br>\n",
        "folder2 / file444.txt<br>\n",
        "не нужно.<br>\n",
        "\n",
        "Функция должна вывести информацию о содержимом в формате:<br>\n",
        "    - File: имя файла Дата создания: 23.10.2019 Размер файла: 5 kb\n",
        "    - Dir: имя папки Вложенные файлы: список вложенных файлов\n",
        "\n",
        "Функция должна возвращать словарь:"
      ]
    },
    {
      "cell_type": "code",
      "metadata": {
        "id": "vcX5fZy7iqny",
        "colab_type": "code",
        "colab": {}
      },
      "source": [
        "#пример возвращаемого словаря\n",
        "{\n",
        "    \"file name 1\": {\n",
        "        'size': 5,\n",
        "        'create_date': \"23.10.2019\",\n",
        "        'path': \"path_to_file_1\",\n",
        "    },\n",
        "    \"file name 2\": {\n",
        "        'size': 50,\n",
        "        'create_date': \"23.10.2019\",\n",
        "        'path': \"path_to_file_2\",\n",
        "    },\n",
        "}"
      ],
      "execution_count": 0,
      "outputs": []
    },
    {
      "cell_type": "code",
      "metadata": {
        "id": "ft7y_0Dyiqn0",
        "colab_type": "code",
        "colab": {}
      },
      "source": [
        "# ваш код тут"
      ],
      "execution_count": 0,
      "outputs": []
    },
    {
      "cell_type": "markdown",
      "metadata": {
        "id": "pYQx2HP3iqn2",
        "colab_type": "text"
      },
      "source": [
        "# Задача 5\n",
        "\n",
        "Необходимо разработать функцию - rem_files<br>\n",
        "\n",
        "Принимает:<br>\n",
        "    - dct - словарь из прошлой задачи.\n",
        "\n",
        "Функция должна пройти по словарю, найти те файлы у которых размер больше 30 kb и удалить их.<br>\n",
        "Сообщения об этом соответственно вывести на экран в формате:<br>\n",
        "    \n",
        "Был удален файл по пути: path_to_file<br>\n",
        "Имя: file_name<br>\n",
        "Размер: 5 kb<br>"
      ]
    },
    {
      "cell_type": "code",
      "metadata": {
        "id": "r1p1hNmgiqn2",
        "colab_type": "code",
        "colab": {}
      },
      "source": [
        "# ваш код тут"
      ],
      "execution_count": 0,
      "outputs": []
    }
  ]
}
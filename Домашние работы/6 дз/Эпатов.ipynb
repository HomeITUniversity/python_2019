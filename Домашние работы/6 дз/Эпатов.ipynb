{
  "nbformat": 4,
  "nbformat_minor": 0,
  "metadata": {
    "kernelspec": {
      "display_name": "Python 3",
      "language": "python",
      "name": "python3"
    },
    "language_info": {
      "codemirror_mode": {
        "name": "ipython",
        "version": 3
      },
      "file_extension": ".py",
      "mimetype": "text/x-python",
      "name": "python",
      "nbconvert_exporter": "python",
      "pygments_lexer": "ipython3",
      "version": "3.7.3"
    },
    "colab": {
      "name": "File and folders homework.ipynb",
      "provenance": [],
      "collapsed_sections": []
    }
  },
  "cells": [
    {
      "cell_type": "markdown",
      "metadata": {
        "id": "l2cQfxhsvTvu",
        "colab_type": "text"
      },
      "source": [
        "# Домашняя работа на тему файлы и папки\n",
        "\n",
        "## Мягкий срок сдачи: 30.10.2019 \n",
        "## Жесткий срок сдачи: 6.11.2019\n",
        "\n"
      ]
    },
    {
      "cell_type": "markdown",
      "metadata": {
        "id": "qviM_4WQvTv8",
        "colab_type": "text"
      },
      "source": [
        " # Задача 1\n",
        " \n",
        " Logger - функция для записи логов вашей системы в файлы и другие обработчики (например в телеграмм, в почту, в базу и тд)<br>\n",
        " \n",
        " Необходимо разработать функцию logger.<br>\n",
        "  \n",
        " Функция должна принимать:<br>\n",
        " обязательно<br>\n",
        "     - text - текст лога\n",
        "     - module - наименование модуля в котором пишется лог\n",
        " опционально<br>\n",
        "     - file_name - файл куда писать лог, если такой не указан по умолчнию должен быть указан файл с именем \"log_сегодняшняя_дата.log\" и должен сохраняться в папку из которой запущен скрипт.\n",
        "     - type - тип логов, если такой не указан, то стандартное значение \"[INFO]\"\n",
        " \n",
        " Пример имени файла: \"log_23_10_2019.log\"<br>\n",
        " Функция должна записывать в файл переданный в нее текст в формате \"Дата время - type - module: text\".<br>\n",
        "  Пример: '2019-10-23 13:08:31.080474 - [INFO] - MAIN: Тестовый лог'<br>\n",
        "  \n",
        " Функция должна проверять file_name это файл или нет. Если это файл то дозаписывать в него, если его нет то создавать новый.<br>\n",
        " Если в file_name указана папка, то создать в ней файл с именем \"log_сегодняшняя_дата.log и писать в это файл.<br>"
      ]
    },
    {
      "cell_type": "code",
      "metadata": {
        "id": "t_j-fTNJvTwA",
        "colab_type": "code",
        "colab": {}
      },
      "source": [
        "# ваше решение тут\n",
        "import os\n",
        "from datetime import datetime\n",
        "\n",
        "def logger(text, module, file_name = \"\", log_entry_type = \"[INFO]\"):\n",
        "  log_entry=\"{} - {} - {}: {}\\n\".format(datetime.now(),log_entry_type,module,text)\n",
        "  log_file=file_name\n",
        "  if file_name == \"\" or os.path.isdir(file_name):\n",
        "    log_file=\"log_{}.log\".format(datetime.now().strftime('%d_%m_%Y'))\n",
        "  if os.path.isdir(file_name):\n",
        "    log_file=file_name+\"/\"+log_file\n",
        "  \n",
        "  f=open(log_file,\"a\")\n",
        "  f.write(log_entry)\n",
        "  f.close\n",
        "\n",
        "  \n",
        "#TESTS    \n",
        "logger(\"act1\",\"mod1\")\n",
        "logger(\"act2\",\"mod2\",\"1.log\")\n",
        "logger(\"act3\",\"mod3\",\"logs\")\n",
        "logger(\"act4\",\"mod4\",\"logs/2.log\")\n",
        "logger(\"act5\",\"mod5\",log_entry_type=\"[ERROR]\")\n"
      ],
      "execution_count": 0,
      "outputs": []
    },
    {
      "cell_type": "markdown",
      "metadata": {
        "id": "s4clyzzgvTwQ",
        "colab_type": "text"
      },
      "source": [
        "# Задача 2\n",
        "\n",
        "Разработать 2 функции:<br>\n",
        "Функция 1.<br>\n",
        "file_size - функция должна возвращать размер файла в Килобайтах.<br>\n",
        "Функция принимает path - путь до файла.<br>\n",
        "\n",
        "Функция 2.<br>\n",
        "file_create_date - функция должна возвращать дату создания файла в формате \"23.10.2019\"<br>\n",
        "Функция принимает path - путь до файла.<br>\n",
        "\n",
        "Если в path указан путь до папки, то функция должна вернуть False и вывести в консоль сообщение о том что передана папка, а не файл.<br>\n",
        "Если файла не существует, то функция должна вернуть False и вывести в консоль сообщение о том что файла не существует.<br>\n",
        "\n",
        "PS::\n",
        "        \n",
        "1284101485 - Unix time stamp"
      ]
    },
    {
      "cell_type": "code",
      "metadata": {
        "id": "UyM8_8FxvTwV",
        "colab_type": "code",
        "colab": {
          "base_uri": "https://localhost:8080/",
          "height": 187
        },
        "outputId": "7991d288-e2ad-406b-fa8d-2e61c227fbd4"
      },
      "source": [
        "# ваше решение тут\n",
        "import os\n",
        "from datetime import datetime\n",
        "\n",
        "def check_path(part):\n",
        "  if os.path.isdir(part):\n",
        "    print(\"Передана папка\")\n",
        "    return False\n",
        "  if not os.path.isfile(part):\n",
        "    print(\"Файла не существует\")\n",
        "    return False\n",
        "  return True\n",
        "\n",
        "def file_size(path):\n",
        "  res = check_path(path)\n",
        "  if res:\n",
        "    return os.path.getsize(path)//1024\n",
        "  return res\n",
        "\n",
        "def file_create_date(path):\n",
        "  res = check_path(path)\n",
        "  if res:\n",
        "    return datetime.fromtimestamp(os.path.getctime(path)).strftime('%d.%m.%Y')\n",
        "  return res\n",
        "\n",
        "\n",
        "# TESTS\n",
        "print(\"1)filesize:\")\n",
        "print(file_size(\"logs/2.log\"))\n",
        "\n",
        "print(\"2)filesize несуществующего файла:\")\n",
        "print(file_size(\"333.txt\"))\n",
        "\n",
        "print(\"3)create_date:\")\n",
        "print(file_create_date(\"logs/2.log\"))\n",
        "\n",
        "print(\"4)create_date, передаем папку:\")\n",
        "print(file_create_date(\"logs\"))"
      ],
      "execution_count": 187,
      "outputs": [
        {
          "output_type": "stream",
          "text": [
            "1)filesize:\n",
            "1\n",
            "2)filesize несуществующего файла:\n",
            "Файла не существует\n",
            "False\n",
            "3)create_date:\n",
            "27.10.2019\n",
            "4)create_date, передаем папку:\n",
            "Передана папка\n",
            "False\n"
          ],
          "name": "stdout"
        }
      ]
    },
    {
      "cell_type": "markdown",
      "metadata": {
        "id": "tLYHFc4NvTwl",
        "colab_type": "text"
      },
      "source": [
        "# Задача 3\n",
        "\n",
        "Дана папка с файлами (запакована в архив homework3_folder.rar) вам нужно ее извлечь в корень, где лежит ваш юпитер нотебук.(самостоятельно руками)<br>\n",
        "\n",
        "В папке есть файлы.<br>\n",
        "\n",
        "Вам необходимо слить эти файлы в один файл \"File_all.txt\"<br>\n",
        "Формат в котором должны они быть слиты:<br>\n",
        "\n",
        "Имя файла: File 1.txt Размер файла: 5 kb Дата создания: 23.10.2019<br>\n",
        "Содержание файла 1<br>\n",
        "\n",
        "Имя файла: File 2.txt Размер файла: 50 kb Дата создания: 23.10.2019<br>\n",
        "Содержание файла 2<br>\n",
        "\n",
        "и тд.<br>\n",
        "\n",
        "Для получения размера файла и даты изменения используйте функции из 2 задачи.<br>\n",
        "\n"
      ]
    },
    {
      "cell_type": "code",
      "metadata": {
        "id": "BhzGLtOHvTwq",
        "colab_type": "code",
        "colab": {}
      },
      "source": [
        "# ваше решение тут\n",
        "\n",
        "def concat_files(path):\n",
        "  files_list=os.listdir(path)\n",
        "  with open(\"File_all.txt\", \"w\") as output_file:\n",
        "    first_file_flag=True\n",
        "    for file in files_list:\n",
        "      file_path=path+\"/\"+file\n",
        "      if not os.path.isdir(file_path):\n",
        "        \n",
        "        with open(file_path) as input_file:\n",
        "          if not first_file_flag: output_file.write(\"\\n\\n\")\n",
        "          else: first_file_flag=False\n",
        "          output_file.write(\"Имя файла: {} Размер файла: {} kb Дата создания: {}\\n\"\\\n",
        "                            .format(file,file_size(file_path),file_create_date(file_path)))\n",
        "          for line in input_file:\n",
        "            output_file.write(line)\n",
        "          \n",
        "\n",
        "concat_files(\"/content/homework3_folder\")\n"
      ],
      "execution_count": 0,
      "outputs": []
    },
    {
      "cell_type": "markdown",
      "metadata": {
        "id": "VE4pBlBBvTw0",
        "colab_type": "text"
      },
      "source": [
        "# Задача 4 \n",
        "\n",
        "Дана папка с файлами (запакована в архив homework4_folder.rar) вам нужно ее извлечь в корень, где лежит ваш юпитер нотебук.(самостоятельно руками)<br>\n",
        "\n",
        "Написать нужно функцию, которая принимает на вход путь до папки. <br>\n",
        "Например \"c:\\\\my_folder\"<br>\n",
        "\n",
        "Функция должна пройти по файлам и папкам внутри этой папки - внутри \"c:\\\\my_folder\" как пример.<br>\n",
        "Пример:<br>\n",
        "- file.txt\n",
        "- folder2\n",
        "- folder3\n",
        "- file3.xx\n",
        "\n",
        "Она НЕ должна заходить во вложенные папки.<br>\n",
        "\n",
        "Т.е. проходить по <br>\n",
        "folder2 / file444.txt<br>\n",
        "не нужно.<br>\n",
        "\n",
        "Функция должна вывести информацию о содержимом в формате:<br>\n",
        "    - File: имя файла Дата создания: 23.10.2019 Размер файла: 5 kb\n",
        "    - Dir: имя папки Вложенные файлы: список вложенных файлов\n",
        "\n",
        "Функция должна возвращать словарь:"
      ]
    },
    {
      "cell_type": "code",
      "metadata": {
        "id": "rh1PKYQZvTw5",
        "colab_type": "code",
        "colab": {}
      },
      "source": [
        "#пример возвращаемого словаря\n",
        "{\n",
        "    \"file name 1\": {\n",
        "        'size': 5,\n",
        "        'create_date': \"23.10.2019\",\n",
        "        'path': \"path_to_file_1\",\n",
        "    },\n",
        "    \"file name 2\": {\n",
        "        'size': 50,\n",
        "        'create_date': \"23.10.2019\",\n",
        "        'path': \"path_to_file_2\",\n",
        "    },\n",
        "}"
      ],
      "execution_count": 0,
      "outputs": []
    },
    {
      "cell_type": "code",
      "metadata": {
        "id": "JTJL9rcTvTxD",
        "colab_type": "code",
        "colab": {
          "base_uri": "https://localhost:8080/",
          "height": 221
        },
        "outputId": "ae4a4351-2563-4002-982c-4a4dab3b895d"
      },
      "source": [
        "# ваш код тут\n",
        "def files_dict(path):\n",
        "  res = {}\n",
        "  files_list=os.listdir(path)\n",
        "  #   print(files_list)\n",
        "  for file in files_list:\n",
        "      file_path=path+\"/\"+file\n",
        "      if os.path.isdir(file_path):\n",
        "        print(\"Dir: {} Вложенные файлы: {}\".format(file,os.listdir(file_path)))\n",
        "      else:\n",
        "        res[file]={\n",
        "          'size': file_size(file_path),\n",
        "          'create_date': file_create_date(file_path),\n",
        "          'path': file_path,\n",
        "        }\n",
        "        print(\"File: {} Дата создания: {} Размер файла: {} kb\".format(file,file_create_date(file_path),file_size(file_path)))\n",
        "  return res\n",
        "\n",
        "      \n",
        "dct = files_dict(\"/content/homework4_folder\")"
      ],
      "execution_count": 190,
      "outputs": [
        {
          "output_type": "stream",
          "text": [
            "Dir: Не новая папка Вложенные файлы: []\n",
            "Dir: Батько Вложенные файлы: []\n",
            "File: война и мир.txt Дата создания: 27.10.2019 Размер файла: 21 kb\n",
            "File: donut1.png Дата создания: 27.10.2019 Размер файла: 8 kb\n",
            "Dir: Старая новая папка Вложенные файлы: []\n",
            "File: _104368428_gettyimages-543560762.jpg Дата создания: 27.10.2019 Размер файла: 17 kb\n",
            "Dir: Старая папка Вложенные файлы: []\n",
            "File: не хочу питон.txt Дата создания: 27.10.2019 Размер файла: 113 kb\n",
            "File: file 1.txt Дата создания: 27.10.2019 Размер файла: 26 kb\n",
            "Dir: Просто папка Вложенные файлы: []\n",
            "File: file 2.txt Дата создания: 27.10.2019 Размер файла: 76 kb\n",
            "Dir: Новая папка Вложенные файлы: []\n"
          ],
          "name": "stdout"
        }
      ]
    },
    {
      "cell_type": "markdown",
      "metadata": {
        "id": "98H1bDQCvTxO",
        "colab_type": "text"
      },
      "source": [
        "# Задача 5\n",
        "\n",
        "Необходимо разработать функцию - rem_files<br>\n",
        "\n",
        "Принимает:<br>\n",
        "    - dct - словарь из прошлой задачи.\n",
        "\n",
        "Функция должна пройти по словарю, найти те файлы у которых размер больше 30 kb и удалить их.<br>\n",
        "Сообщения об этом соответственно вывести на экран в формате:<br>\n",
        "    \n",
        "Был удален файл по пути: path_to_file<br>\n",
        "Имя: file_name<br>\n",
        "Размер: 5 kb<br>"
      ]
    },
    {
      "cell_type": "code",
      "metadata": {
        "id": "8X_AK3UtvTxS",
        "colab_type": "code",
        "colab": {
          "base_uri": "https://localhost:8080/",
          "height": 119
        },
        "outputId": "4cdc1c79-c0e7-4ef0-ba53-1285407a8fe3"
      },
      "source": [
        "# ваш код тут\n",
        "def rem_files(dct):\n",
        "  for k,v in dct.items():\n",
        "    if int(v[\"size\"])>30:\n",
        "      os.remove(v[\"path\"])\n",
        "      print(\"Был удален файл по пути: \"+v[\"path\"])\n",
        "      print(\"Имя: \"+k)\n",
        "      print(\"Размер: {} kb\".format(v[\"size\"]))\n",
        "\n",
        "rem_files(dct)"
      ],
      "execution_count": 194,
      "outputs": [
        {
          "output_type": "stream",
          "text": [
            "Был удален файл по пути: /content/homework4_folder/не хочу питон.txt\n",
            "Имя: не хочу питон.txt\n",
            "Размер: 113 kb\n",
            "Был удален файл по пути: /content/homework4_folder/file 2.txt\n",
            "Имя: file 2.txt\n",
            "Размер: 76 kb\n"
          ],
          "name": "stdout"
        }
      ]
    }
  ]
}
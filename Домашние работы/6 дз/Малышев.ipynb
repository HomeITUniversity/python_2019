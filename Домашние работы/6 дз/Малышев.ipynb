{
  "nbformat": 4,
  "nbformat_minor": 0,
  "metadata": {
    "kernelspec": {
      "display_name": "Python 3",
      "language": "python",
      "name": "python3"
    },
    "language_info": {
      "codemirror_mode": {
        "name": "ipython",
        "version": 3
      },
      "file_extension": ".py",
      "mimetype": "text/x-python",
      "name": "python",
      "nbconvert_exporter": "python",
      "pygments_lexer": "ipython3",
      "version": "3.7.3"
    },
    "colab": {
      "name": "Copy of File and folders homework.ipynb",
      "provenance": [],
      "collapsed_sections": []
    }
  },
  "cells": [
    {
      "cell_type": "markdown",
      "metadata": {
        "id": "fIlS6hs1oQPC",
        "colab_type": "text"
      },
      "source": [
        "# Домашняя работа на тему файлы и папки\n",
        "\n",
        "## Мягкий срок сдачи: 30.10.2019 \n",
        "## Жесткий срок сдачи: 6.11.2019\n",
        "\n"
      ]
    },
    {
      "cell_type": "markdown",
      "metadata": {
        "id": "URvTARIKoQPL",
        "colab_type": "text"
      },
      "source": [
        " # Задача 1\n",
        " \n",
        " Logger - функция для записи логов вашей системы в файлы и другие обработчики (например в телеграмм, в почту, в базу и тд)<br>\n",
        " \n",
        " Необходимо разработать функцию logger.<br>\n",
        "  \n",
        " Функция должна принимать:<br>\n",
        " обязательно<br>\n",
        "     - text - текст лога\n",
        "     - module - наименование модуля в котором пишется лог\n",
        " опционально<br>\n",
        "     - file_name - файл куда писать лог, если такой не указан по умолчнию должен быть указан файл с именем \"log_сегодняшняя_дата.log\" и должен сохраняться в папку из которой запущен скрипт.\n",
        "     - type - тип логов, если такой не указан, то стандартное значение \"[INFO]\"\n",
        " \n",
        " Пример имени файла: \"log_23_10_2019.log\"<br>\n",
        " Функция должна записывать в файл переданный в нее текст в формате \"Дата время - type - module: text\".<br>\n",
        "  Пример: '2019-10-23 13:08:31.080474 - [INFO] - MAIN: Тестовый лог'<br>\n",
        "  \n",
        " Функция должна проверять file_name это файл или нет. Если это файл то дозаписывать в него, если его нет то создавать новый.<br>\n",
        " Если в file_name указана папка, то создать в ней файл с именем \"log_сегодняшняя_дата.log и писать в это файл.<br>"
      ]
    },
    {
      "cell_type": "code",
      "metadata": {
        "id": "DNof9n-aoQPQ",
        "colab_type": "code",
        "outputId": "610a728c-014e-47ae-dde2-38040d51ee20",
        "colab": {
          "base_uri": "https://localhost:8080/",
          "height": 127
        }
      },
      "source": [
        "# ваше решение тут\n",
        "from datetime import datetime\n",
        "import os\n",
        "import copy\n",
        "\n",
        "today = datetime.today()\n",
        "file_name_default = ('log_' + today.strftime(\"%d_%m_%Y\") + '.log')\n",
        "\n",
        "\n",
        "def logger(text, module, file_name=file_name_default, type='[INFO]'):\n",
        "    # '2019-10-23 13:08:31.080474 - [INFO] - MAIN: Тестовый лог'\n",
        "    DateTime = datetime.utcnow().strftime('%Y-%m-%d %H:%M:%S.%f')\n",
        "    print(os.getcwd())\n",
        "    log = DateTime + ' - ' + type + ' - ' + module + ': ' + text\n",
        "    print(log)\n",
        "\n",
        "    def GetFileOrFolder(file_name):\n",
        "        file_name, file_extension = os.path.splitext(file_name)\n",
        "        print(file_extension)\n",
        "        if (file_extension != ''):\n",
        "            return 'file'\n",
        "        else:\n",
        "            return 'folder'\n",
        "\n",
        "    if ((GetFileOrFolder(file_name)) == 'file'):\n",
        "        print(GetFileOrFolder(file_name))\n",
        "        if not (os.path.exists(file_name)):\n",
        "            with open(file_name, 'w', encoding='utf-8') as f:\n",
        "                f.write(log + '\\n')\n",
        "                print('log1')\n",
        "        else:\n",
        "            with open(file_name, 'a', encoding='utf-8') as f:\n",
        "                f.write(log + '\\n')\n",
        "                print('log2')\n",
        "    else:\n",
        "        print(GetFileOrFolder(file_name))\n",
        "        if not (os.path.exists(file_name)):\n",
        "            os.makedirs(file_name)\n",
        "        with open(os.path.join(file_name, file_name_default), 'a', encoding='utf-8') as f:\n",
        "            f.write(log + '\\n')\n",
        "\n",
        "\n",
        "#logger('text', '[MAIN]')\n",
        "logger('text', '[DEBUG]', 'logfile.log')\n",
        "#logger('text', '[MAIN]', r'folder1', '[INFO]')\n",
        "#logger('text', '[MAIN]', r'folder1\\folder2\\folder3', '[INFO]')\n"
      ],
      "execution_count": 0,
      "outputs": [
        {
          "output_type": "stream",
          "text": [
            "/content\n",
            "2019-10-27 13:14:08.065879 - [INFO] - [DEBUG]: text\n",
            ".log\n",
            ".log\n",
            "file\n",
            "log1\n"
          ],
          "name": "stdout"
        }
      ]
    },
    {
      "cell_type": "markdown",
      "metadata": {
        "id": "A6MQ2Q0FoQPe",
        "colab_type": "text"
      },
      "source": [
        "# Задача 2\n",
        "\n",
        "Разработать 2 функции:<br>\n",
        "Функция 1.<br>\n",
        "file_size - функция должна возвращать размер файла в Килобайтах.<br>\n",
        "Функция принимает path - путь до файла.<br>\n",
        "\n",
        "Функция 2.<br>\n",
        "file_create_date - функция должна возвращать дату создания файла в формате \"23.10.2019\"<br>\n",
        "Функция принимает path - путь до файла.<br>\n",
        "\n",
        "Если в path указан путь до папки, то функция должна вернуть False и вывести в консоль сообщение о том что передана папка, а не файл.<br>\n",
        "Если файла не существует, то функция должна вернуть False и вывести в консоль сообщение о том что файла не существует.<br>\n",
        "\n",
        "PS::\n",
        "        \n",
        "1284101485 - Unix time stamp"
      ]
    },
    {
      "cell_type": "code",
      "metadata": {
        "id": "jsiEXLpFoQPg",
        "colab_type": "code",
        "outputId": "e28aebd9-f9fd-4942-a14e-5dba53a7e323",
        "colab": {
          "base_uri": "https://localhost:8080/",
          "height": 90
        }
      },
      "source": [
        "import os\n",
        "import time\n",
        "from time import gmtime, strftime\n",
        "\n",
        "def file_size(path):\n",
        "    print(os.path.isfile(path))\n",
        "    if os.path.isfile(path):\n",
        "        size = os.path.getsize(path) / 1000\n",
        "        print(size)\n",
        "        return size\n",
        "\n",
        "\n",
        "file_size(r'C:\\Users\\asmalyshev\\PycharmProjects\\untitled\\log_27_10_2019.log')\n",
        "\n",
        "\n",
        "def file_create_date(path):\n",
        "    def GetFileOrFolder(file_name):\n",
        "        file_name, file_extension = os.path.splitext(file_name)\n",
        "        print(file_extension)\n",
        "        if (file_extension != ''):\n",
        "            return 'file'\n",
        "        else:\n",
        "            return 'folder'\n",
        "\n",
        "    if not GetFileOrFolder(path):\n",
        "        print('Передана папка')\n",
        "        return False\n",
        "    else:\n",
        "        if not os.path.exists(path):\n",
        "            print('Файл не существует')\n",
        "            return False\n",
        "        else:\n",
        "            FileCreateTime = time.ctime(os.path.getctime(path))\n",
        "            FileCreateTimeF = time.strptime(FileCreateTime,\"%a %b %d %H:%M:%S %Y\")\n",
        "            CreateFileDate = str(FileCreateTimeF.tm_mday) + '.' + str(FileCreateTimeF.tm_mon) + '.' + str(FileCreateTimeF.tm_year)\n",
        "            print(CreateFileDate)\n",
        "            return CreateFileDate\n",
        "\n",
        "file_create_date(r'C:\\Users\\asmalyshev\\PycharmProjects\\untitled\\log_27_10_2019.log')\n",
        "  "
      ],
      "execution_count": 0,
      "outputs": [
        {
          "output_type": "stream",
          "text": [
            "False\n",
            ".log\n",
            "Файл не существует\n"
          ],
          "name": "stdout"
        },
        {
          "output_type": "execute_result",
          "data": {
            "text/plain": [
              "False"
            ]
          },
          "metadata": {
            "tags": []
          },
          "execution_count": 19
        }
      ]
    },
    {
      "cell_type": "markdown",
      "metadata": {
        "id": "tej-tb6ooQPs",
        "colab_type": "text"
      },
      "source": [
        "# Задача 3\n",
        "\n",
        "Дана папка с файлами (запакована в архив homework3_folder.rar) вам нужно ее извлечь в корень, где лежит ваш юпитер нотебук.(самостоятельно руками)<br>\n",
        "\n",
        "В папке есть файлы.<br>\n",
        "\n",
        "Вам необходимо слить эти файлы в один файл \"File_all.txt\"<br>\n",
        "Формат в котором должны они быть слиты:<br>\n",
        "\n",
        "Имя файла: File 1.txt Размер файла: 5 kb Дата создания: 23.10.2019<br>\n",
        "Содержание файла 1<br>\n",
        "\n",
        "Имя файла: File 2.txt Размер файла: 50 kb Дата создания: 23.10.2019<br>\n",
        "Содержание файла 2<br>\n",
        "\n",
        "и тд.<br>\n",
        "\n",
        "Для получения размера файла и даты изменения используйте функции из 2 задачи.<br>\n",
        "\n"
      ]
    },
    {
      "cell_type": "code",
      "metadata": {
        "id": "pW5PAXk6oQPw",
        "colab_type": "code",
        "colab": {}
      },
      "source": [
        "# ваше решение тут"
      ],
      "execution_count": 0,
      "outputs": []
    },
    {
      "cell_type": "markdown",
      "metadata": {
        "id": "y4Tq1VRaoQP3",
        "colab_type": "text"
      },
      "source": [
        "# Задача 4 \n",
        "\n",
        "Дана папка с файлами (запакована в архив homework4_folder.rar) вам нужно ее извлечь в корень, где лежит ваш юпитер нотебук.(самостоятельно руками)<br>\n",
        "\n",
        "Написать нужно функцию, которая принимает на вход путь до папки. <br>\n",
        "Например \"c:\\\\my_folder\"<br>\n",
        "\n",
        "Функция должна пройти по файлам и папкам внутри этой папки - внутри \"c:\\\\my_folder\" как пример.<br>\n",
        "Пример:<br>\n",
        "- file.txt\n",
        "- folder2\n",
        "- folder3\n",
        "- file3.xx\n",
        "\n",
        "Она НЕ должна заходить во вложенные папки.<br>\n",
        "\n",
        "Т.е. проходить по <br>\n",
        "folder2 / file444.txt<br>\n",
        "не нужно.<br>\n",
        "\n",
        "Функция должна вывести информацию о содержимом в формате:<br>\n",
        "    - File: имя файла Дата создания: 23.10.2019 Размер файла: 5 kb\n",
        "    - Dir: имя папки Вложенные файлы: список вложенных файлов\n",
        "\n",
        "Функция должна возвращать словарь:"
      ]
    },
    {
      "cell_type": "code",
      "metadata": {
        "id": "-Eq9FfS3oQP5",
        "colab_type": "code",
        "colab": {}
      },
      "source": [
        "#пример возвращаемого словаря\n",
        "{\n",
        "    \"file name 1\": {\n",
        "        'size': 5,\n",
        "        'create_date': \"23.10.2019\",\n",
        "        'path': \"path_to_file_1\",\n",
        "    },\n",
        "    \"file name 2\": {\n",
        "        'size': 50,\n",
        "        'create_date': \"23.10.2019\",\n",
        "        'path': \"path_to_file_2\",\n",
        "    },\n",
        "}"
      ],
      "execution_count": 0,
      "outputs": []
    },
    {
      "cell_type": "code",
      "metadata": {
        "id": "WkzmfH49oQQC",
        "colab_type": "code",
        "colab": {}
      },
      "source": [
        "# ваш код тут"
      ],
      "execution_count": 0,
      "outputs": []
    },
    {
      "cell_type": "markdown",
      "metadata": {
        "id": "XQumyxczoQQJ",
        "colab_type": "text"
      },
      "source": [
        "# Задача 5\n",
        "\n",
        "Необходимо разработать функцию - rem_files<br>\n",
        "\n",
        "Принимает:<br>\n",
        "    - dct - словарь из прошлой задачи.\n",
        "\n",
        "Функция должна пройти по словарю, найти те файлы у которых размер больше 30 kb и удалить их.<br>\n",
        "Сообщения об этом соответственно вывести на экран в формате:<br>\n",
        "    \n",
        "Был удален файл по пути: path_to_file<br>\n",
        "Имя: file_name<br>\n",
        "Размер: 5 kb<br>"
      ]
    },
    {
      "cell_type": "code",
      "metadata": {
        "id": "TuO-m1JhoQQP",
        "colab_type": "code",
        "colab": {}
      },
      "source": [
        "# ваш код тут"
      ],
      "execution_count": 0,
      "outputs": []
    }
  ]
}
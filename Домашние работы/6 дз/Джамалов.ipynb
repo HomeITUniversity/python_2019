{
  "nbformat": 4,
  "nbformat_minor": 0,
  "metadata": {
    "kernelspec": {
      "display_name": "Python 3",
      "language": "python",
      "name": "python3"
    },
    "language_info": {
      "codemirror_mode": {
        "name": "ipython",
        "version": 3
      },
      "file_extension": ".py",
      "mimetype": "text/x-python",
      "name": "python",
      "nbconvert_exporter": "python",
      "pygments_lexer": "ipython3",
      "version": "3.7.1"
    },
    "colab": {
      "name": "File and folders homework.ipynb",
      "provenance": []
    }
  },
  "cells": [
    {
      "cell_type": "markdown",
      "metadata": {
        "id": "hfVmJE5Ec3bg",
        "colab_type": "text"
      },
      "source": [
        "# Домашняя работа на тему файлы и папки\n",
        "\n",
        "## Мягкий срок сдачи: 30.10.2019 \n",
        "## Жесткий срок сдачи: 6.11.2019\n",
        "\n"
      ]
    },
    {
      "cell_type": "markdown",
      "metadata": {
        "id": "fgjBvW6Zc3bj",
        "colab_type": "text"
      },
      "source": [
        " # Задача 1\n",
        " \n",
        " Logger - функция для записи логов вашей системы в файлы и другие обработчики (например в телеграмм, в почту, в базу и тд)<br>\n",
        " \n",
        " Необходимо разработать функцию logger.<br>\n",
        "  \n",
        " Функция должна принимать:<br>\n",
        " обязательно<br>\n",
        "     - text - текст лога\n",
        "     - module - наименование модуля в котором пишется лог\n",
        " опционально<br>\n",
        "     - file_name - файл куда писать лог, если такой не указан по умолчнию должен быть указан файл с именем \"log_сегодняшняя_дата.log\" и должен сохраняться в папку из которой запущен скрипт.\n",
        "     - type - тип логов, если такой не указан, то стандартное значение \"[INFO]\"\n",
        " \n",
        " Пример имени файла: \"log_23_10_2019.log\"<br>\n",
        " Функция должна записывать в файл переданный в нее текст в формате \"Дата время - type - module: text\".<br>\n",
        "  Пример: '2019-10-23 13:08:31.080474 - [INFO] - MAIN: Тестовый лог'<br>\n",
        "  \n",
        " Функция должна проверять file_name это файл или нет. Если это файл то дозаписывать в него, если его нет то создавать новый.<br>\n",
        " Если в file_name указана папка, то создать в ней файл с именем \"log_сегодняшняя_дата.log и писать в это файл.<br>"
      ]
    },
    {
      "cell_type": "code",
      "metadata": {
        "id": "SGg_KlLhc3bl",
        "colab_type": "code",
        "colab": {
          "base_uri": "https://localhost:8080/",
          "height": 85
        },
        "outputId": "a8575612-fa59-472d-c29a-3b7dc11f5210"
      },
      "source": [
        "# ваше решение тут\n",
        "import os\n",
        "import datetime\n",
        "now = datetime.datetime.now()\n",
        "pat = os.getcwd()\n",
        "file=str(input('Введите file_name или букву \"N\", если не хотите указывать file_name:'))\n",
        "type=str(input('Введите type или букву \"N\", если не хотите указывать type:'))\n",
        "text=\"Привет, я пишу логирование твоей системы\"\n",
        "module=\"MAIN\"\n",
        "if file!=\"N\":\n",
        "    file_name=file\n",
        "else:\n",
        "    file_name = \"log_\" + now.strftime(\"%d_%m_%Y\") + \".log\"\n",
        "    print(\"Запись в\",file_name)\n",
        "if type!=\"N\":\n",
        "    type=\"[\"+type+\"]\"\n",
        "else:\n",
        "    type=\"[INFO]\"\n",
        "\n",
        "def logger (text,module,file_name,type):\n",
        "    if os.path.isdir(file_name):\n",
        "        print(\"Указана папка\")\n",
        "        path = os.path.abspath(file_name)\n",
        "        os.chdir(path)\n",
        "        print(\"Директория папки: \",path)\n",
        "        file_name = \"log_\" + now.strftime(\"%d_%m_%Y\") + \".log\"\n",
        "        with open(file_name, \"a\", encoding='utf8') as file:\n",
        "            timee=now.strftime(\"%Y-%m-%d %H:%M:%S.%f\")\n",
        "            timee+=\"-\"+type+\"-\"+module+\":\"+text\n",
        "            file.write(timee)\n",
        "            file.write(\"\\n\")\n",
        "    else:\n",
        "        os.chdir(pat)\n",
        "        print(\"Указан файл\")\n",
        "        with open(file_name, \"a\", encoding='utf8') as file:\n",
        "            timee=now.strftime(\"%Y-%m-%d %H:%M:%S.%f\")\n",
        "            timee+=\"-\"+type+\"-\"+module+\":\"+text\n",
        "            file.write(timee)\n",
        "            file.write(\"\\n\")\n",
        "\n",
        "logger(text,module,file_name,type)"
      ],
      "execution_count": 1,
      "outputs": [
        {
          "output_type": "stream",
          "text": [
            "Введите file_name или букву \"N\", если не хотите указывать file_name:N\n",
            "Введите type или букву \"N\", если не хотите указывать type:N\n",
            "Запись в log_03_11_2019.log\n",
            "Указан файл\n"
          ],
          "name": "stdout"
        }
      ]
    },
    {
      "cell_type": "markdown",
      "metadata": {
        "id": "Y8TWGuKbc3bs",
        "colab_type": "text"
      },
      "source": [
        "# Задача 2\n",
        "\n",
        "Разработать 2 функции:<br>\n",
        "Функция 1.<br>\n",
        "file_size - функция должна возвращать размер файла в Килобайтах.<br>\n",
        "Функция принимает path - путь до файла.<br>\n",
        "\n",
        "Функция 2.<br>\n",
        "file_create_date - функция должна возвращать дату создания файла в формате \"23.10.2019\"<br>\n",
        "Функция принимает path - путь до файла.<br>\n",
        "\n",
        "Если в path указан путь до папки, то функция должна вернуть False и вывести в консоль сообщение о том что передана папка, а не файл.<br>\n",
        "Если файла не существует, то функция должна вернуть False и вывести в консоль сообщение о том что файла не существует.<br>\n",
        "\n",
        "PS::\n",
        "        \n",
        "1284101485 - Unix time stamp"
      ]
    },
    {
      "cell_type": "code",
      "metadata": {
        "id": "g50cwRFuc3bu",
        "colab_type": "code",
        "outputId": "d56ac80b-2d24-40ba-82f6-fb14202ef952",
        "colab": {
          "base_uri": "https://localhost:8080/",
          "height": 68
        }
      },
      "source": [
        "import os\n",
        "import datetime\n",
        "\n",
        "path=str(input('Введите  path:'))\n",
        "print(path)\n",
        "\n",
        "\n",
        "def file_size(path):\n",
        "    folder_size = os.path.getsize(path)\n",
        "    global b\n",
        "    b=folder_size / 1024\n",
        "    return b\n",
        "def file_create_date(path):\n",
        "    global time1\n",
        "    time1=datetime.datetime.fromtimestamp(os.path.getctime(path))\n",
        "    time1=time1.strftime('%d.%m.%Y')\n",
        "    return time1\n",
        "\n",
        "if os.path.isdir(path):\n",
        "    print(\"ВНИМАНИЕ! В path передана папка, а не файл!\")\n",
        "else:\n",
        "    if os.path.isfile(path):\n",
        "      file_size(path)\n",
        "      print(\"Размер в Кб :\",b)\n",
        "      file_create_date(path)\n",
        "      print(\"Дата создания:\", time1)\n",
        "    else:\n",
        "      print(\"ВНИМАНИЕ! Файла не существует!\")"
      ],
      "execution_count": 0,
      "outputs": [
        {
          "output_type": "stream",
          "text": [
            "/content\n",
            "C:\\\\Users\\\\Dmitry\\\\Desktop\\\\python\\\\01_digits_homework.ipynb\n",
            "ВНИМАНИЕ! Файла не существует!\n"
          ],
          "name": "stdout"
        }
      ]
    },
    {
      "cell_type": "markdown",
      "metadata": {
        "id": "E7iO7yudc3b0",
        "colab_type": "text"
      },
      "source": [
        "# Задача 3\n",
        "\n",
        "Дана папка с файлами (запакована в архив homework3_folder.rar) вам нужно ее извлечь в корень, где лежит ваш юпитер нотебук.(самостоятельно руками)<br>\n",
        "\n",
        "В папке есть файлы.<br>\n",
        "\n",
        "Вам необходимо слить эти файлы в один файл \"File_all.txt\"<br>\n",
        "Формат в котором должны они быть слиты:<br>\n",
        "\n",
        "Имя файла: File 1.txt Размер файла: 5 kb Дата создания: 23.10.2019<br>\n",
        "Содержание файла 1<br>\n",
        "\n",
        "Имя файла: File 2.txt Размер файла: 50 kb Дата создания: 23.10.2019<br>\n",
        "Содержание файла 2<br>\n",
        "\n",
        "и тд.<br>\n",
        "\n",
        "Для получения размера файла и даты изменения используйте функции из 2 задачи.<br>\n",
        "\n"
      ]
    },
    {
      "cell_type": "code",
      "metadata": {
        "id": "KW8tlyY8c3b2",
        "colab_type": "code",
        "colab": {}
      },
      "source": [
        "# ваше решение тут\n",
        "import os\n",
        "import datetime\n",
        "import glob\n",
        "\n",
        "\n",
        "files=glob.glob(\"*.txt\")\n",
        "print(files)\n",
        "\n",
        "def file_size(path):\n",
        "    folder_size = os.path.getsize(path)\n",
        "    global b\n",
        "    b=folder_size / 1024\n",
        "    b=str(b)\n",
        "    return b\n",
        "def file_create_date(path):\n",
        "    global time1\n",
        "    time1=datetime.datetime.fromtimestamp(os.path.getctime(path))\n",
        "    time1=time1.strftime('%d.%m.%Y')\n",
        "    return time1\n",
        "\n",
        "def filewrite(ff):\n",
        "    with open(\"File_all.txt\", \"a\", encoding='utf8') as file:\n",
        "        a='\\n\\nИмя файла: '+ os.path.basename(ff)+' Размер файла: '+file_size(ff)+' kb '+'Дата создания: '+file_create_date(ff)+'\\n'\n",
        "        file.write(a)\n",
        "    with open(\"File_all.txt\", \"a\", encoding='utf8') as file:\n",
        "        with open(ff, \"r\", encoding='utf8') as f:\n",
        "            for line in f:\n",
        "                file.write(line.strip())\n",
        "def filee(ff):\n",
        "    with open(\"File_all.txt\", \"w\", encoding='utf8') as file:\n",
        "        a='Имя файла: '+ os.path.basename(ff)+' Размер файла: '+file_size(ff)+' kb '+'Дата создания: '+file_create_date(ff)+'\\n'\n",
        "        file.write(a)\n",
        "    with open(\"File_all.txt\", \"a\", encoding='utf8') as file:\n",
        "        with open(ff, \"r\", encoding='utf8') as f:\n",
        "            for line in f:\n",
        "                file.write(line.strip())\n",
        "\n",
        "for ff in files:\n",
        "    if ff!='File_all.txt':\n",
        "        if os.path.isfile('File_all.txt'):\n",
        "            print(ff)\n",
        "            filewrite(ff)\n",
        "        else:\n",
        "            print(ff)\n",
        "            filee(ff)\n"
      ],
      "execution_count": 0,
      "outputs": []
    },
    {
      "cell_type": "markdown",
      "metadata": {
        "id": "dekgX4UKc3b8",
        "colab_type": "text"
      },
      "source": [
        "# Задача 4 \n",
        "\n",
        "Дана папка с файлами (запакована в архив homework4_folder.rar) вам нужно ее извлечь в корень, где лежит ваш юпитер нотебук.(самостоятельно руками)<br>\n",
        "\n",
        "Написать нужно функцию, которая принимает на вход путь до папки. <br>\n",
        "Например \"c:\\\\my_folder\"<br>\n",
        "\n",
        "Функция должна пройти по файлам и папкам внутри этой папки - внутри \"c:\\\\my_folder\" как пример.<br>\n",
        "Пример:<br>\n",
        "- file.txt\n",
        "- folder2\n",
        "- folder3\n",
        "- file3.xx\n",
        "\n",
        "Она НЕ должна заходить во вложенные папки.<br>\n",
        "\n",
        "Т.е. проходить по <br>\n",
        "folder2 / file444.txt<br>\n",
        "не нужно.<br>\n",
        "\n",
        "Функция должна вывести информацию о содержимом в формате:<br>\n",
        "    - File: имя файла Дата создания: 23.10.2019 Размер файла: 5 kb\n",
        "    - Dir: имя папки Вложенные папки: список вложенных файлов\n",
        "\n",
        "Функция должна возвращать словарь:"
      ]
    },
    {
      "cell_type": "code",
      "metadata": {
        "id": "YVFVhF7Bc3b-",
        "colab_type": "code",
        "colab": {}
      },
      "source": [
        "#пример возвращаемого словаря\n",
        "{\n",
        "    \"file name 1\": {\n",
        "        'size': 5,\n",
        "        'create_date': \"23.10.2019\",\n",
        "        'path': \"path_to_file_1\",\n",
        "    },\n",
        "    \"file name 2\": {\n",
        "        'size': 50,\n",
        "        'create_date': \"23.10.2019\",\n",
        "        'path': \"path_to_file_2\",\n",
        "    },\n",
        "}"
      ],
      "execution_count": 0,
      "outputs": []
    },
    {
      "cell_type": "code",
      "metadata": {
        "id": "gYRWKW_Ic3cD",
        "colab_type": "code",
        "colab": {}
      },
      "source": [
        "# ваш код тут\n",
        "import os\n",
        "import datetime\n",
        "pathhh=str(input('Введите  path:'))\n",
        "\n",
        "def file_size(i):\n",
        "    folder_size = os.path.getsize(i)\n",
        "    global b\n",
        "    b=folder_size / 1024\n",
        "    return b\n",
        "def file_create_date(i):\n",
        "    global time1\n",
        "    time1=datetime.datetime.fromtimestamp(os.path.getctime(i))\n",
        "    time1=time1.strftime('%d.%m.%Y')\n",
        "    return time1\n",
        "def file_and_dir(pathhh):\n",
        "    listfile=os.listdir(pathhh)\n",
        "    print(listfile)\n",
        "    global dictt1\n",
        "    dictt1={}\n",
        "    for i in listfile:\n",
        "        listt = []\n",
        "        os.chdir(pathhh)\n",
        "        dictt2 = {}\n",
        "        if os.path.isfile(i):\n",
        "            file_size(i)\n",
        "            file_create_date(i)\n",
        "            pathh=os.path.abspath(i)\n",
        "            dictt2 ['size']=b\n",
        "            dictt2['create_date'] = time1\n",
        "            dictt2['path'] = pathh\n",
        "            dictt1[\"File \"+i]=dictt2\n",
        "        if os.path.isdir(i):\n",
        "            dictt2 = {}\n",
        "            dir = os.path.basename(i)\n",
        "            path = os.path.abspath(dir)\n",
        "            os.chdir(path)\n",
        "            listfile2 = os.listdir(os.getcwd())\n",
        "            for ii in listfile2:\n",
        "                if os.path.isdir(ii):\n",
        "                    listt.append(ii)\n",
        "            dictt2['Вложенная папка']=listt\n",
        "            dictt1[\"Dir \"+i] = dictt2\n",
        "    return dictt1\n",
        "\n",
        "file_and_dir(pathhh)\n",
        "\n",
        "print(\"Итоговый словарь \", dictt1)"
      ],
      "execution_count": 0,
      "outputs": []
    },
    {
      "cell_type": "markdown",
      "metadata": {
        "id": "8vXOoXBZc3cI",
        "colab_type": "text"
      },
      "source": [
        "# Задача 5\n",
        "\n",
        "Необходимо разработать функцию - rem_files<br>\n",
        "\n",
        "Принимает:<br>\n",
        "    - dct - словарь из прошлой задачи.\n",
        "\n",
        "Функция должна пройти по словарю, найти те файлы у которых размер больше 30 kb и удалить их.<br>\n",
        "Сообщения об этом соответственно вывести на экран в формате:<br>\n",
        "    \n",
        "Был удален файл по пути: path_to_file<br>\n",
        "Имя: file_name<br>\n",
        "Размер: 5 kb<br>"
      ]
    },
    {
      "cell_type": "code",
      "metadata": {
        "id": "YBdtY7rlc3cK",
        "colab_type": "code",
        "colab": {}
      },
      "source": [
        "# ваш код тут\n",
        "import os\n",
        "import datetime\n",
        "pathhh=str(input('Введите  path:'))\n",
        "\n",
        "def file_size(i):\n",
        "    folder_size = os.path.getsize(i)\n",
        "    global b\n",
        "    b=folder_size / 1024\n",
        "    return b\n",
        "def file_create_date(i):\n",
        "    global time1\n",
        "    time1=datetime.datetime.fromtimestamp(os.path.getctime(i))\n",
        "    time1=time1.strftime('%d.%m.%Y')\n",
        "    return time1\n",
        "def file_and_dir(pathhh):\n",
        "    listfile=os.listdir(pathhh)\n",
        "    print(listfile)\n",
        "    global dictt1\n",
        "    dictt1={}\n",
        "    for i in listfile:\n",
        "        listt = []\n",
        "        os.chdir(pathhh)\n",
        "        dictt2 = {}\n",
        "        if os.path.isfile(i):\n",
        "            file_size(i)\n",
        "            file_create_date(i)\n",
        "            pathh=os.path.abspath(i)\n",
        "            dictt2 ['size']=b\n",
        "            dictt2['create_date'] = time1\n",
        "            dictt2['path'] = pathh\n",
        "            dictt1[i]=dictt2\n",
        "        if os.path.isdir(i):\n",
        "            dictt2 = {}\n",
        "            dir = os.path.basename(i)\n",
        "            path = os.path.abspath(dir)\n",
        "            os.chdir(path)\n",
        "            listfile2 = os.listdir(os.getcwd())\n",
        "            for ii in listfile2:\n",
        "                if os.path.isdir(ii):\n",
        "                    listt.append(ii)\n",
        "            dictt2['Вложенная папка']=listt\n",
        "            dictt1[i] = dictt2\n",
        "    return dictt1\n",
        "\n",
        "file_and_dir(pathhh)\n",
        "\n",
        "print(\"Итоговый словарь \", dictt1)\n",
        "os.chdir(pathhh)\n",
        "print(\"____________________________\")\n",
        "def dele(dictt1):\n",
        "    for i in dictt1:\n",
        "        if os.path.isfile(i) and dictt1[i][\"size\"]>30 :\n",
        "             print(\"Был удален файл по пути: \",dictt1[i]['path'])\n",
        "             print(\"Имя: \", i)\n",
        "             print(\"Размер: \",dictt1[i][\"size\"])\n",
        "             os.remove(i)\n",
        "dele(dictt1)"
      ],
      "execution_count": 0,
      "outputs": []
    }
  ]
}
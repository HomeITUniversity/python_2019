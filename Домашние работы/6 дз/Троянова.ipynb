{
 "cells": [
  {
   "cell_type": "markdown",
   "metadata": {},
   "source": [
    "# Домашняя работа на тему файлы и папки\n",
    "\n",
    "## Мягкий срок сдачи: 30.10.2019 \n",
    "## Жесткий срок сдачи: 6.11.2019\n",
    "\n"
   ]
  },
  {
   "cell_type": "markdown",
   "metadata": {},
   "source": [
    " # Задача 1\n",
    " \n",
    " Logger - функция для записи логов вашей системы в файлы и другие обработчики (например в телеграмм, в почту, в базу и тд)<br>\n",
    " \n",
    " Необходимо разработать функцию logger.<br>\n",
    "  \n",
    " Функция должна принимать:<br>\n",
    " обязательно<br>\n",
    "     - text - текст лога\n",
    "     - module - наименование модуля в котором пишется лог\n",
    " опционально<br>\n",
    "     - file_name - файл куда писать лог, если такой не указан по умолчнию должен быть указан файл с именем \"log_сегодняшняя_дата.log\" и должен сохраняться в папку из которой запущен скрипт.\n",
    "     - type - тип логов, если такой не указан, то стандартное значение \"[INFO]\"\n",
    " \n",
    " Пример имени файла: \"log_23_10_2019.log\"<br>\n",
    " Функция должна записывать в файл переданный в нее текст в формате \"Дата время - type - module: text\".<br>\n",
    "  Пример: '2019-10-23 13:08:31.080474 - [INFO] - MAIN: Тестовый лог'<br>\n",
    "  \n",
    " Функция должна проверять file_name это файл или нет. Если это файл то дозаписывать в него, если его нет то создавать новый.<br>\n",
    " Если в file_name указана папка, то создать в ней файл с именем \"log_сегодняшняя_дата.log и писать в это файл.<br>"
   ]
  },
  {
   "cell_type": "code",
   "execution_count": 1,
   "metadata": {
    "scrolled": true
   },
   "outputs": [
    {
     "data": {
      "text/plain": [
       "True"
      ]
     },
     "execution_count": 1,
     "metadata": {},
     "output_type": "execute_result"
    }
   ],
   "source": [
    "# ваше решение тут\n",
    "from datetime import datetime\n",
    "\n",
    "# ниже функция с подставлением дириктории, для проверки\n",
    "\n",
    "# def logger(drl,textl,modulel,file_name='log_'+datetime.today().strftime(\"%d_%m_%Y\")+'.log',types ='[INFO]'):#drl path to log file\n",
    "#     filelog=open(drl+'\\\\'+file_name,'a',encoding='utf8')\n",
    "    \n",
    "#     filelog.write(datetime.now().strftime(\"%Y-%b-%d %H:%M:%S.%f\")+'-'+types+'-'+modulel+':'+textl+\"\\n\")\n",
    "#     filelog.close()\n",
    "#     return filelog.closed\n",
    "\n",
    "# logger(r'd:\\User\\Documents\\hw','jkklyuilyuilul','mayyyin')\n",
    "\n",
    "# тут файлы пишутся в дирикторию скрипта\n",
    "def logger(textl,modulel,file_name='log_'+datetime.today().strftime(\"%d_%m_%Y\")+'.log',types ='[INFO]'):\n",
    "    filelog=open(file_name,'a',encoding='utf8')\n",
    "    \n",
    "    filelog.write(datetime.now().strftime(\"%Y-%b-%d %H:%M:%S.%f\")+'-'+types+'-'+modulel+':'+textl+\"\\n\")\n",
    "    filelog.close()\n",
    "    return filelog.closed\n",
    "\n",
    "logger('jkklyuilyuilul','main')"
   ]
  },
  {
   "cell_type": "markdown",
   "metadata": {},
   "source": [
    "# Задача 2\n",
    "\n",
    "Разработать 2 функции:<br>\n",
    "Функция 1.<br>\n",
    "file_size - функция должна возвращать размер файла в Килобайтах.<br>\n",
    "Функция принимает path - путь до файла.<br>\n",
    "\n",
    "Функция 2.<br>\n",
    "file_create_date - функция должна возвращать дату создания файла в формате \"23.10.2019\"<br>\n",
    "Функция принимает path - путь до файла.<br>\n",
    "\n",
    "Если в path указан путь до папки, то функция должна вернуть False и вывести в консоль сообщение о том что передана папка, а не файл.<br>\n",
    "Если файла не существует, то функция должна вернуть False и вывести в консоль сообщение о том что файла не существует.<br>\n",
    "\n",
    "PS::\n",
    "        \n",
    "1284101485 - Unix time stamp"
   ]
  },
  {
   "cell_type": "code",
   "execution_count": 2,
   "metadata": {},
   "outputs": [
    {
     "name": "stdout",
     "output_type": "stream",
     "text": [
      "9 kB file size\n",
      "31-10-2019 13:12:04 time creation\n"
     ]
    }
   ],
   "source": [
    "# ваше решение тут\n",
    "from os import path \n",
    "from datetime import datetime\n",
    "\n",
    "def file_size(fd):\n",
    "    if path.isdir(fd):\n",
    "        fs=False\n",
    "        print('it\\'s DIR')\n",
    "    elif not path.isfile(fd):\n",
    "        fs=False\n",
    "        print(\"it\\'s not file\")\n",
    "    else:      \n",
    "        fs=str((path.getsize(fd)//1024))+' kB'\n",
    "    return fs\n",
    "\n",
    "def file_create_date(fd):\n",
    "    if path.isdir(fd):\n",
    "        fc=False\n",
    "        print('it\\'s DIR')\n",
    "    elif not path.isfile(fd):\n",
    "        fc=False\n",
    "        print(\"it\\'s not file\")\n",
    "    else:      \n",
    "        fc=path.getctime(fd)\n",
    "        v=datetime.fromtimestamp(fc) \n",
    "        fc=v.strftime('%d-%m-%Y %H:%M:%S') #UTC in DateTime\n",
    "    return fc\n",
    "\n",
    "print(file_size(r'd:\\User\\Documents\\hw\\t.txt')+\" file size\")\n",
    "print(file_create_date(r'd:\\User\\Documents\\hw\\t.txt')+\" time creation\")"
   ]
  },
  {
   "cell_type": "markdown",
   "metadata": {},
   "source": [
    "# Задача 3\n",
    "\n",
    "Дана папка с файлами (запакована в архив homework3_folder.rar) вам нужно ее извлечь в корень, где лежит ваш юпитер нотебук.(самостоятельно руками)<br>\n",
    "\n",
    "В папке есть файлы.<br>\n",
    "\n",
    "Вам необходимо слить эти файлы в один файл \"File_all.txt\"<br>\n",
    "Формат в котором должны они быть слиты:<br>\n",
    "\n",
    "Имя файла: File 1.txt Размер файла: 5 kb Дата создания: 23.10.2019<br>\n",
    "Содержание файла 1<br>\n",
    "\n",
    "Имя файла: File 2.txt Размер файла: 50 kb Дата создания: 23.10.2019<br>\n",
    "Содержание файла 2<br>\n",
    "\n",
    "и тд.<br>\n",
    "\n",
    "Для получения размера файла и даты изменения используйте функции из 2 задачи.<br>\n",
    "\n"
   ]
  },
  {
   "cell_type": "code",
   "execution_count": 156,
   "metadata": {},
   "outputs": [
    {
     "data": {
      "text/plain": [
       "1"
      ]
     },
     "execution_count": 156,
     "metadata": {},
     "output_type": "execute_result"
    }
   ],
   "source": [
    "# ваше решение тут\n",
    "import os\n",
    "def combine(dr):\n",
    "    os.chdir(dr)\n",
    "    lfid=os.listdir(dr) #list file in dir\n",
    "    combf=open('File_all.txt','w', encoding=\"utf8\")\n",
    "    for i in range(len(lfid)):\n",
    "        with open(lfid[i],'r', encoding=\"utf8\") as tekf:\n",
    "            combf.write(\"\\n\\nName file: \"+lfid[i]+\", file size: \"+file_size(dr+\"\\\\\"+lfid[i])+\", date creation: \"+file_create_date(dr+'\\\\'+lfid[i])+\"\\n\\n\" +\"Content: \\n\")\n",
    "            combf.write(tekf.read())\n",
    "            tekf.close()\n",
    "    combf.close()\n",
    "    if combf.closed:\n",
    "        return True\n",
    "    else:\n",
    "        return False\n",
    "combine(r'd:\\User\\Documents\\hw\\homework3_folder1')\n"
   ]
  },
  {
   "cell_type": "markdown",
   "metadata": {},
   "source": [
    "# Задача 4 \n",
    "\n",
    "Дана папка с файлами (запакована в архив homework4_folder.rar) вам нужно ее извлечь в корень, где лежит ваш юпитер нотебук.(самостоятельно руками)<br>\n",
    "\n",
    "Написать нужно функцию, которая принимает на вход путь до папки. <br>\n",
    "Например \"c:\\\\my_folder\"<br>\n",
    "\n",
    "Функция должна пройти по файлам и папкам внутри этой папки - внутри \"c:\\\\my_folder\" как пример.<br>\n",
    "Пример:<br>\n",
    "- file.txt\n",
    "- folder2\n",
    "- folder3\n",
    "- file3.xx\n",
    "\n",
    "Она НЕ должна заходить во вложенные папки.<br>\n",
    "\n",
    "Т.е. проходить по <br>\n",
    "folder2 / file444.txt<br>\n",
    "не нужно.<br>\n",
    "\n",
    "Функция должна вывести информацию о содержимом в формате:<br>\n",
    "    - File: имя файла Дата создания: 23.10.2019 Размер файла: 5 kb\n",
    "    - Dir: имя папки Вложенные папки: список вложенных файлов\n",
    "\n",
    "Функция должна возвращать словарь:"
   ]
  },
  {
   "cell_type": "code",
   "execution_count": null,
   "metadata": {},
   "outputs": [],
   "source": [
    "#пример возвращаемого словаря\n",
    "{\n",
    "    \"file name 1\": {\n",
    "        'size': 5,\n",
    "        'create_date': \"23.10.2019\",\n",
    "        'path': \"path_to_file_1\",\n",
    "    },\n",
    "    \"file name 2\": {\n",
    "        'size': 50,\n",
    "        'create_date': \"23.10.2019\",\n",
    "        'path': \"path_to_file_2\",\n",
    "    },\n",
    "}"
   ]
  },
  {
   "cell_type": "code",
   "execution_count": 150,
   "metadata": {},
   "outputs": [
    {
     "name": "stdout",
     "output_type": "stream",
     "text": [
      "File :  donut1.png Date create:  30.10.2019 Size:  9  kB\n",
      "File :  file 1.txt Date create:  30.10.2019 Size:  27  kB\n",
      "File :  test exept.xlsx Date create:  31.10.2019 Size:  1033  kB\n",
      "File :  _104368428_gettyimages-543560762.jpg Date create:  30.10.2019 Size:  18  kB\n",
      "File :  ~$test exept.xlsx Date create:  31.10.2019 Size:  1  kB\n",
      "DIR :  Батько []\n",
      "File :  война и мир.txt Date create:  30.10.2019 Size:  22  kB\n",
      "DIR :  Не новая папка []\n",
      "DIR :  Новая папка []\n",
      "DIR :  Просто папка ['123.txt', 'dfss', 'trjyuf.bmp']\n",
      "DIR :  Старая новая папка []\n",
      "DIR :  Старая папка []\n"
     ]
    }
   ],
   "source": [
    "# ваш код тут\n",
    "import os\n",
    "from datetime import datetime\n",
    "\n",
    "def listdr(dr):\n",
    "    dictdir={}\n",
    "    os.chdir(dr)\n",
    "    filesid=os.listdir(dr) # read all dir\n",
    "    for i in range(len(filesid)): #for filesid in os.listdir(dr)\n",
    "        dictfile={}\n",
    "        if not os.path.isdir(filesid[i]):\n",
    "            sizef=1+os.path.getsize(filesid[i])//1024 #size\n",
    "        else:\n",
    "            sizef=0\n",
    "        fc=os.path.getctime(filesid[i])\n",
    "        v=datetime.fromtimestamp(fc) \n",
    "        datef=v.strftime('%d.%m.%Y') #UTC in DateTime\n",
    "        pathf=os.path.abspath(filesid[i])\n",
    "        \n",
    "        dictfile['size']=sizef\n",
    "        dictfile['create_date']=datef\n",
    "        dictfile['path']=pathf\n",
    "        \n",
    "        dictdir[filesid[i]]=dictfile\n",
    "        \n",
    "        if os.path.isdir(filesid[i]):\n",
    "            print('DIR : ',filesid[i],os.listdir(filesid[i]))\n",
    "        elif path.isfile(filesid[i]):\n",
    "            print(\"File : \",filesid[i],\"Date create: \",datef,\"Size: \",sizef,' kB')\n",
    "    \n",
    "    return dictdir\n",
    "d=listdr(r'd:\\User\\Documents\\hw\\homework4_folder')"
   ]
  },
  {
   "cell_type": "markdown",
   "metadata": {},
   "source": [
    "# Задача 5\n",
    "\n",
    "Необходимо разработать функцию - rem_files<br>\n",
    "\n",
    "Принимает:<br>\n",
    "    - dct - словарь из прошлой задачи.\n",
    "\n",
    "Функция должна пройти по словарю, найти те файлы у которых размер больше 30 kb и удалить их.<br>\n",
    "Сообщения об этом соответственно вывести на экран в формате:<br>\n",
    "    \n",
    "Был удален файл по пути: path_to_file<br>\n",
    "Имя: file_name<br>\n",
    "Размер: 5 kb<br>"
   ]
  },
  {
   "cell_type": "code",
   "execution_count": 151,
   "metadata": {
    "scrolled": true
   },
   "outputs": [
    {
     "name": "stdout",
     "output_type": "stream",
     "text": [
      "File :  donut1.png Date create:  30.10.2019 Size:  9  kB\n",
      "File :  file 1.txt Date create:  30.10.2019 Size:  27  kB\n",
      "File :  test exept.xlsx Date create:  31.10.2019 Size:  1033  kB\n",
      "File :  _104368428_gettyimages-543560762.jpg Date create:  30.10.2019 Size:  18  kB\n",
      "File :  ~$test exept.xlsx Date create:  31.10.2019 Size:  1  kB\n",
      "DIR :  Батько []\n",
      "File :  война и мир.txt Date create:  30.10.2019 Size:  22  kB\n",
      "DIR :  Не новая папка []\n",
      "DIR :  Новая папка []\n",
      "DIR :  Просто папка ['123.txt', 'dfss', 'trjyuf.bmp']\n",
      "DIR :  Старая новая папка []\n",
      "DIR :  Старая папка []\n",
      "Can not delete file :-> test exept.xlsx in path: d:\\User\\Documents\\Bandicam\\hw\\homework4_folder\\test exept.xlsx \n",
      "\n",
      "Files not found\n"
     ]
    }
   ],
   "source": [
    "# ваш код тут\n",
    "from os import path\n",
    "\n",
    "def rem_files(dctf):\n",
    "    cnt=0\n",
    "    for filenm,fileattr in dctf.items():\n",
    "        if fileattr['size']>=30:\n",
    "            try:\n",
    "                if os.access(fileattr['path'], os.R_OK and os.X_OK):\n",
    "                    os.remove(fileattr['path'])\n",
    "                    print(\"File delete on the path : \", fileattr['path'],'\\nName: ',filenm,\"\\nSize: \",fileattr['size'],' kB\\n')\n",
    "                    cnt+=1\n",
    "                \n",
    "            except:\n",
    "                print('Can not delete file :->', filenm,'in path:',fileattr['path'],'\\n')\n",
    "    if cnt==0:\n",
    "        print('Files not found')\n",
    "    else:\n",
    "        print('Files delele in count = ',cnt)\n",
    "rem_files(listdr(r'd:\\User\\Documents\\hw\\homework4_folder'))"
   ]
  },
  {
   "cell_type": "code",
   "execution_count": null,
   "metadata": {},
   "outputs": [],
   "source": []
  },
  {
   "cell_type": "code",
   "execution_count": null,
   "metadata": {},
   "outputs": [],
   "source": []
  }
 ],
 "metadata": {
  "kernelspec": {
   "display_name": "Python 3",
   "language": "python",
   "name": "python3"
  },
  "language_info": {
   "codemirror_mode": {
    "name": "ipython",
    "version": 3
   },
   "file_extension": ".py",
   "mimetype": "text/x-python",
   "name": "python",
   "nbconvert_exporter": "python",
   "pygments_lexer": "ipython3",
   "version": "3.7.3"
  }
 },
 "nbformat": 4,
 "nbformat_minor": 2
}

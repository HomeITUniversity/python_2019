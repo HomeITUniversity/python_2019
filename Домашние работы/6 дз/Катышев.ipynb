{
  "nbformat": 4,
  "nbformat_minor": 0,
  "metadata": {
    "kernelspec": {
      "display_name": "Python 3",
      "language": "python",
      "name": "python3"
    },
    "language_info": {
      "codemirror_mode": {
        "name": "ipython",
        "version": 3
      },
      "file_extension": ".py",
      "mimetype": "text/x-python",
      "name": "python",
      "nbconvert_exporter": "python",
      "pygments_lexer": "ipython3",
      "version": "3.7.3"
    },
    "colab": {
      "name": "ДЗ_№6_KatyshevArsen.ipynb",
      "provenance": [],
      "collapsed_sections": []
    }
  },
  "cells": [
    {
      "cell_type": "markdown",
      "metadata": {
        "id": "rZUNdCnlKZZB",
        "colab_type": "text"
      },
      "source": [
        "# Домашняя работа на тему файлы и папки\n",
        "\n",
        "## Мягкий срок сдачи: 30.10.2019 \n",
        "## Жесткий срок сдачи: 6.11.2019\n",
        "\n"
      ]
    },
    {
      "cell_type": "markdown",
      "metadata": {
        "id": "Aj4lGrenKZZG",
        "colab_type": "text"
      },
      "source": [
        " # Задача 1\n",
        " \n",
        " Logger - функция для записи логов вашей системы в файлы и другие обработчики (например в телеграмм, в почту, в базу и тд)<br>\n",
        " \n",
        " Необходимо разработать функцию logger.<br>\n",
        "  \n",
        " Функция должна принимать:<br>\n",
        " обязательно<br>\n",
        "     - text - текст лога\n",
        "     - module - наименование модуля в котором пишется лог\n",
        " опционально<br>\n",
        "     - file_name - файл куда писать лог, если такой не указан по умолчнию должен быть указан файл с именем \"log_сегодняшняя_дата.log\" и должен сохраняться в папку из которой запущен скрипт.\n",
        "     - type - тип логов, если такой не указан, то стандартное значение \"[INFO]\"\n",
        " \n",
        " Пример имени файла: \"log_23_10_2019.log\"<br>\n",
        " Функция должна записывать в файл переданный в нее текст в формате \"Дата время - type - module: text\".<br>\n",
        "  Пример: '2019-10-23 13:08:31.080474 - [INFO] - MAIN: Тестовый лог'<br>\n",
        "  \n",
        " Функция должна проверять file_name это файл или нет. Если это файл то дозаписывать в него, если его нет то создавать новый.<br>\n",
        " Если в file_name указана папка, то создать в ней файл с именем \"log_сегодняшняя_дата.log и писать в это файл.<br>"
      ]
    },
    {
      "cell_type": "code",
      "metadata": {
        "id": "ySNvKSGHKZZH",
        "colab_type": "code",
        "colab": {}
      },
      "source": [
        "# ваше решение тут\n",
        "\n",
        "from datetime import datetime\n",
        "import os\n",
        "\n",
        "\n",
        "def file():\n",
        "    now = datetime.now()\n",
        "    return 'log_' + str(now.day) + '_' + str(now.month) + '_' + str(now.year) + '.log'\n",
        "\n",
        "\n",
        "def logger(text, module, file_name=file(), type='[INFO]'):\n",
        "    d = os.path.join(os.getcwd(), file_name)\n",
        "    if os.path.isdir(d):\n",
        "        os.chdir(d)\n",
        "        file_name = file()\n",
        "    if os.path.exists(os.path.join(os.getcwd(), file_name)):\n",
        "        with open(file_name, 'a') as f:\n",
        "            f.write('\\n')\n",
        "    with open(file_name, 'a') as f:\n",
        "        f.write(str(datetime.now()) + '-' + type + '-' + module + ':' + text)\n",
        "    return"
      ],
      "execution_count": 0,
      "outputs": []
    },
    {
      "cell_type": "markdown",
      "metadata": {
        "id": "OWZebs7eKZZM",
        "colab_type": "text"
      },
      "source": [
        "# Задача 2\n",
        "\n",
        "Разработать 2 функции:<br>\n",
        "Функция 1.<br>\n",
        "file_size - функция должна возвращать размер файла в Килобайтах.<br>\n",
        "Функция принимает path - путь до файла.<br>\n",
        "\n",
        "Функция 2.<br>\n",
        "file_create_date - функция должна возвращать дату создания файла в формате \"23.10.2019\"<br>\n",
        "Функция принимает path - путь до файла.<br>\n",
        "\n",
        "Если в path указан путь до папки, то функция должна вернуть False и вывести в консоль сообщение о том что передана папка, а не файл.<br>\n",
        "Если файла не существует, то функция должна вернуть False и вывести в консоль сообщение о том что файла не существует.<br>\n",
        "\n",
        "PS::\n",
        "        \n",
        "1284101485 - Unix time stamp"
      ]
    },
    {
      "cell_type": "code",
      "metadata": {
        "id": "PDhsvhfuKZZN",
        "colab_type": "code",
        "outputId": "2d42df6e-a79e-47ce-91b1-bda98d22c84a",
        "colab": {
          "base_uri": "https://localhost:8080/",
          "height": 34
        }
      },
      "source": [
        "# ваше решение тут\n",
        "\n",
        "import time\n",
        "import os\n",
        "\n",
        "\n",
        "def file_size(path):\n",
        "    if os.path.isdir(path):\n",
        "        print('Указан путь до ПАПКИ, а не до файла')\n",
        "        return False\n",
        "    if not os.path.exists(path):\n",
        "        print('По указанному пути файла НЕ СУЩЕСТВУЕТ')\n",
        "        return False\n",
        "    return os.path.getsize(path) // 1024 + int(bool(os.path.getsize(path) % 1024))\n",
        "    # у меня в проводнике отображается так. Например если файл занимает 26.2Kb, то в проводнике отображается 27Kb\n",
        "\n",
        "\n",
        "def file_create_date(path):\n",
        "    if os.path.isdir(path):\n",
        "        print('Указан путь до ПАПКИ, а не до файла')\n",
        "        return False\n",
        "    if not os.path.exists(path):\n",
        "        print('По указанному пути файла НЕ СУЩЕСТВУЕТ')\n",
        "        return False\n",
        "    return time.strftime('%d.%m.%Y', time.localtime(os.path.getctime(path)))"
      ],
      "execution_count": 0,
      "outputs": [
        {
          "output_type": "execute_result",
          "data": {
            "text/plain": [
              "'2019-10-31'"
            ]
          },
          "metadata": {
            "tags": []
          },
          "execution_count": 1
        }
      ]
    },
    {
      "cell_type": "markdown",
      "metadata": {
        "id": "c261arLfKZZT",
        "colab_type": "text"
      },
      "source": [
        "# Задача 3\n",
        "\n",
        "Дана папка с файлами (запакована в архив homework3_folder.rar) вам нужно ее извлечь в корень, где лежит ваш юпитер нотебук.(самостоятельно руками)<br>\n",
        "\n",
        "В папке есть файлы.<br>\n",
        "\n",
        "Вам необходимо слить эти файлы в один файл \"File_all.txt\"<br>\n",
        "Формат в котором должны они быть слиты:<br>\n",
        "\n",
        "Имя файла: File 1.txt Размер файла: 5 kb Дата создания: 23.10.2019<br>\n",
        "Содержание файла 1<br>\n",
        "\n",
        "Имя файла: File 2.txt Размер файла: 50 kb Дата создания: 23.10.2019<br>\n",
        "Содержание файла 2<br>\n",
        "\n",
        "и тд.<br>\n",
        "\n",
        "Для получения размера файла и даты изменения используйте функции из 2 задачи.<br>\n",
        "\n"
      ]
    },
    {
      "cell_type": "code",
      "metadata": {
        "id": "shYX050VKZZU",
        "colab_type": "code",
        "colab": {}
      },
      "source": [
        "# ваше решение тут\n",
        "\n",
        "with open('File_all.txt', 'w', encoding='utf8') as f:\n",
        "    hdir = os.getcwd()\n",
        "    os.chdir(os.path.join(hdir, 'homework3_folder'))\n",
        "    for i in os.listdir():\n",
        "        fname = os.path.join(os.getcwd(), i)\n",
        "        f.write('Имя файла: {} Размер файла: {}kb Дата создания: {}\\n'.format(i, file_size(fname), file_create_date(fname)))\n",
        "        with open(i, 'r', encoding='utf8') as t:\n",
        "            # s = t.read()\n",
        "            f.write(t.read() + '\\n\\n')\n"
      ],
      "execution_count": 0,
      "outputs": []
    },
    {
      "cell_type": "markdown",
      "metadata": {
        "id": "opDtp_T0KZZX",
        "colab_type": "text"
      },
      "source": [
        "# Задача 4 \n",
        "\n",
        "Дана папка с файлами (запакована в архив homework4_folder.rar) вам нужно ее извлечь в корень, где лежит ваш юпитер нотебук.(самостоятельно руками)<br>\n",
        "\n",
        "Написать нужно функцию, которая принимает на вход путь до папки. <br>\n",
        "Например \"c:\\\\my_folder\"<br>\n",
        "\n",
        "Функция должна пройти по файлам и папкам внутри этой папки - внутри \"c:\\\\my_folder\" как пример.<br>\n",
        "Пример:<br>\n",
        "- file.txt\n",
        "- folder2\n",
        "- folder3\n",
        "- file3.xx\n",
        "\n",
        "Она НЕ должна заходить во вложенные папки.<br>\n",
        "\n",
        "Т.е. проходить по <br>\n",
        "folder2 / file444.txt<br>\n",
        "не нужно.<br>\n",
        "\n",
        "Функция должна вывести информацию о содержимом в формате:<br>\n",
        "    - File: имя файла Дата создания: 23.10.2019 Размер файла: 5 kb\n",
        "    - Dir: имя папки Вложенные файлы: список вложенных файлов\n",
        "\n",
        "Функция должна возвращать словарь:"
      ]
    },
    {
      "cell_type": "code",
      "metadata": {
        "id": "axpqIP5PKZZY",
        "colab_type": "code",
        "colab": {}
      },
      "source": [
        "#пример возвращаемого словаря\n",
        "{\n",
        "    \"file name 1\": {\n",
        "        'size': 5,\n",
        "        'create_date': \"23.10.2019\",\n",
        "        'path': \"path_to_file_1\",\n",
        "    },\n",
        "    \"file name 2\": {\n",
        "        'size': 50,\n",
        "        'create_date': \"23.10.2019\",\n",
        "        'path': \"path_to_file_2\",\n",
        "    },\n",
        "}"
      ],
      "execution_count": 0,
      "outputs": []
    },
    {
      "cell_type": "code",
      "metadata": {
        "id": "RzEnC3Y-KZZc",
        "colab_type": "code",
        "colab": {}
      },
      "source": [
        "# ваш код тут\n",
        "\n",
        "def func(path):\n",
        "    d = {}\n",
        "    for i in os.listdir(path):\n",
        "        p = os.path.join(path, i)\n",
        "        if os.path.isdir(p):\n",
        "            print('Dir: {} Вложенные файлы: {}'.format(i, os.listdir(p)))\n",
        "        else:\n",
        "            print('File: {} Дата создания: {} Размер файла: {}'.format(i, file_create_date(p), file_size(p)))\n",
        "            d[i] = {}\n",
        "            d[i]['size'] = file_size(p)\n",
        "            d[i]['create_date'] = file_create_date(p)\n",
        "            d[i]['path'] = p\n",
        "    return d"
      ],
      "execution_count": 0,
      "outputs": []
    },
    {
      "cell_type": "markdown",
      "metadata": {
        "id": "5uxk9JXaKZZg",
        "colab_type": "text"
      },
      "source": [
        "# Задача 5\n",
        "\n",
        "Необходимо разработать функцию - rem_files<br>\n",
        "\n",
        "Принимает:<br>\n",
        "    - dct - словарь из прошлой задачи.\n",
        "\n",
        "Функция должна пройти по словарю, найти те файлы у которых размер больше 30 kb и удалить их.<br>\n",
        "Сообщения об этом соответственно вывести на экран в формате:<br>\n",
        "    \n",
        "Был удален файл по пути: path_to_file<br>\n",
        "Имя: file_name<br>\n",
        "Размер: 5 kb<br>"
      ]
    },
    {
      "cell_type": "code",
      "metadata": {
        "id": "ystVhu_jKZZh",
        "colab_type": "code",
        "colab": {}
      },
      "source": [
        "# ваш код тут\n",
        "\n",
        "def rem_files(d):\n",
        "    for k,v in d.items():\n",
        "        if file_size(v['path'])>30:\n",
        "            print('Был удален файл по пути: {}\\nИмя: {}\\nРазмер: {}'.format(v['path'], k, v['size']))\n",
        "            os.remove(v['path'])"
      ],
      "execution_count": 0,
      "outputs": []
    }
  ]
}
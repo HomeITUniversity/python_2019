{
 "cells": [
  {
   "cell_type": "markdown",
   "metadata": {},
   "source": [
    "# Домашняя работа на тему файлы и папки\n",
    "\n",
    "## Мягкий срок сдачи: 30.10.2019 \n",
    "## Жесткий срок сдачи: 6.11.2019\n",
    "\n"
   ]
  },
  {
   "cell_type": "markdown",
   "metadata": {},
   "source": [
    " # Задача 1\n",
    " \n",
    " Logger - функция для записи логов вашей системы в файлы и другие обработчики (например в телеграмм, в почту, в базу и тд)<br>\n",
    " \n",
    " Необходимо разработать функцию logger.<br>\n",
    "  \n",
    " Функция должна принимать:<br>\n",
    " обязательно<br>\n",
    "     - text - текст лога\n",
    "     - module - наименование модуля в котором пишется лог\n",
    " опционально<br>\n",
    "     - file_name - файл куда писать лог, если такой не указан по умолчнию должен быть указан файл с именем \"log_сегодняшняя_дата.log\" и должен сохраняться в папку из которой запущен скрипт.\n",
    "     - type - тип логов, если такой не указан, то стандартное значение \"[INFO]\"\n",
    " \n",
    " Пример имени файла: \"log_23_10_2019.log\"<br>\n",
    " Функция должна записывать в файл переданный в нее текст в формате \"Дата время - type - module: text\".<br>\n",
    "  Пример: '2019-10-23 13:08:31.080474 - [INFO] - MAIN: Тестовый лог'<br>\n",
    "  \n",
    " Функция должна проверять file_name это файл или нет. Если это файл то дозаписывать в него, если его нет то создавать новый.<br>\n",
    " Если в file_name указана папка, то создать в ней файл с именем \"log_сегодняшняя_дата.log и писать в это файл.<br>"
   ]
  },
  {
   "cell_type": "code",
   "execution_count": 1,
   "metadata": {},
   "outputs": [],
   "source": [
    "# ваше решение тут"
   ]
  },
  {
   "cell_type": "markdown",
   "metadata": {},
   "source": [
    "# Задача 2\n",
    "\n",
    "Разработать 2 функции:<br>\n",
    "Функция 1.<br>\n",
    "file_size - функция должна возвращать размер файла в Килобайтах.<br>\n",
    "Функция принимает path - путь до файла.<br>\n",
    "\n",
    "Функция 2.<br>\n",
    "file_create_date - функция должна возвращать дату создания файла в формате \"23.10.2019\"<br>\n",
    "Функция принимает path - путь до файла.<br>\n",
    "\n",
    "Если в path указан путь до папки, то функция должна вернуть False и вывести в консоль сообщение о том что передана папка, а не файл.<br>\n",
    "Если файла не существует, то функция должна вернуть False и вывести в консоль сообщение о том что файла не существует.<br>\n",
    "\n",
    "PS::\n",
    "        \n",
    "1284101485 - Unix time stamp"
   ]
  },
  {
   "cell_type": "code",
   "execution_count": 2,
   "metadata": {},
   "outputs": [],
   "source": [
    "import os\n",
    "import numpy as np\n",
    "from datetime import datetime\n",
    "\n",
    "def file_size(file_name):\n",
    "    file_stats = os.stat(file_name)\n",
    "    f_size = np.round(file_stats.st_size / 1024).astype(int)\n",
    "    return 'Размер файла: ' + f_size.astype(str) + ' kb'\n",
    "\n",
    "def file_create_date(file_name):\n",
    "    if os.path.isdir(file_name):\n",
    "        print('Передана папка, а не файл.')\n",
    "    elif os.path.exists(file_name):\n",
    "        f_create_date = datetime.fromtimestamp(os.path.getctime(file_name)).strftime('%d.%m.%Y')\n",
    "        return 'Дата создания файла: ' + f_create_date\n",
    "    else:\n",
    "        print('Файл не существует.')"
   ]
  },
  {
   "cell_type": "code",
   "execution_count": 3,
   "metadata": {},
   "outputs": [
    {
     "data": {
      "text/plain": [
       "'Размер файла: 26314 kb'"
      ]
     },
     "execution_count": 3,
     "metadata": {},
     "output_type": "execute_result"
    }
   ],
   "source": [
    "file_size('/Users/yanadm/Library/Mobile Documents/iCloud~com~apple~iBooks/Documents/Machine_Learning-_A_Probabilistic_Perspective.pdf')"
   ]
  },
  {
   "cell_type": "code",
   "execution_count": 4,
   "metadata": {},
   "outputs": [
    {
     "data": {
      "text/plain": [
       "'Дата создания файла: 26.10.2019'"
      ]
     },
     "execution_count": 4,
     "metadata": {},
     "output_type": "execute_result"
    }
   ],
   "source": [
    "file_create_date('/Users/yanadm/Library/Mobile Documents/iCloud~com~apple~iBooks/Documents/Machine_Learning-_A_Probabilistic_Perspective.pdf')"
   ]
  },
  {
   "cell_type": "code",
   "execution_count": 5,
   "metadata": {},
   "outputs": [
    {
     "name": "stdout",
     "output_type": "stream",
     "text": [
      "Передана папка, а не файл.\n"
     ]
    }
   ],
   "source": [
    "file_create_date('/Users/yanadm/Library/Mobile Documents/iCloud~com~apple~iBooks/Documents/')"
   ]
  },
  {
   "cell_type": "code",
   "execution_count": 6,
   "metadata": {},
   "outputs": [
    {
     "name": "stdout",
     "output_type": "stream",
     "text": [
      "Файл не существует.\n"
     ]
    }
   ],
   "source": [
    "file_create_date('/Users/yanadm/Library/Mobile Documents/iCloud~com~apple~iBooks/Documents/Machine_Learning.pdf')"
   ]
  },
  {
   "cell_type": "markdown",
   "metadata": {},
   "source": [
    "# Задача 3\n",
    "\n",
    "Дана папка с файлами (запакована в архив homework3_folder.rar) вам нужно ее извлечь в корень, где лежит ваш юпитер нотебук.(самостоятельно руками)<br>\n",
    "\n",
    "В папке есть файлы.<br>\n",
    "\n",
    "Вам необходимо слить эти файлы в один файл \"File_all.txt\"<br>\n",
    "Формат в котором должны они быть слиты:<br>\n",
    "\n",
    "Имя файла: File 1.txt Размер файла: 5 kb Дата создания: 23.10.2019<br>\n",
    "Содержание файла 1<br>\n",
    "\n",
    "Имя файла: File 2.txt Размер файла: 50 kb Дата создания: 23.10.2019<br>\n",
    "Содержание файла 2<br>\n",
    "\n",
    "и тд.<br>\n",
    "\n",
    "Для получения размера файла и даты изменения используйте функции из 2 задачи.<br>\n",
    "\n"
   ]
  },
  {
   "cell_type": "code",
   "execution_count": 7,
   "metadata": {},
   "outputs": [],
   "source": [
    "from os import listdir\n",
    "from os.path import isfile, join\n",
    "import pandas as pd\n",
    "\n",
    "def file_combiner(path):\n",
    "    files = [f for f in listdir(path) if isfile(join(path, f))]\n",
    "    line = []\n",
    "    for i in files:\n",
    "        line_1 = 'Имя файла: ' + i + ' ' + file_size(path + i) + ' ' + file_create_date(path + i)\n",
    "        line_2 = open((path + i), \"r\").read()\n",
    "        line.append(line_1)\n",
    "        line.append(line_2) \n",
    "    with open(\"File_all.txt\", \"w\") as output:\n",
    "            output.write(str(line)) "
   ]
  },
  {
   "cell_type": "code",
   "execution_count": 8,
   "metadata": {},
   "outputs": [],
   "source": [
    "file_combiner('/Users/yanadm/Documents/homework3_folder/')"
   ]
  },
  {
   "cell_type": "markdown",
   "metadata": {},
   "source": [
    "# Задача 4 \n",
    "\n",
    "Дана папка с файлами (запакована в архив homework4_folder.rar) вам нужно ее извлечь в корень, где лежит ваш юпитер нотебук.(самостоятельно руками)<br>\n",
    "\n",
    "Написать нужно функцию, которая принимает на вход путь до папки. <br>\n",
    "Например \"c:\\\\my_folder\"<br>\n",
    "\n",
    "Функция должна пройти по файлам и папкам внутри этой папки - внутри \"c:\\\\my_folder\" как пример.<br>\n",
    "Пример:<br>\n",
    "- file.txt\n",
    "- folder2\n",
    "- folder3\n",
    "- file3.xx\n",
    "\n",
    "Она НЕ должна заходить во вложенные папки.<br>\n",
    "\n",
    "Т.е. проходить по <br>\n",
    "folder2 / file444.txt<br>\n",
    "не нужно.<br>\n",
    "\n",
    "Функция должна вывести информацию о содержимом в формате:<br>\n",
    "    - File: имя файла Дата создания: 23.10.2019 Размер файла: 5 kb\n",
    "    - Dir: имя папки Вложенные папки: список вложенных файлов\n",
    "\n",
    "Функция должна возвращать словарь:"
   ]
  },
  {
   "cell_type": "code",
   "execution_count": 9,
   "metadata": {},
   "outputs": [
    {
     "data": {
      "text/plain": [
       "{'file name 1': {'size': 5,\n",
       "  'create_date': '23.10.2019',\n",
       "  'path': 'path_to_file_1'},\n",
       " 'file name 2': {'size': 50,\n",
       "  'create_date': '23.10.2019',\n",
       "  'path': 'path_to_file_2'}}"
      ]
     },
     "execution_count": 9,
     "metadata": {},
     "output_type": "execute_result"
    }
   ],
   "source": [
    "#пример возвращаемого словаря\n",
    "{\n",
    "    \"file name 1\": {\n",
    "        'size': 5,\n",
    "        'create_date': \"23.10.2019\",\n",
    "        'path': \"path_to_file_1\",\n",
    "    },\n",
    "    \"file name 2\": {\n",
    "        'size': 50,\n",
    "        'create_date': \"23.10.2019\",\n",
    "        'path': \"path_to_file_2\",\n",
    "    },\n",
    "}"
   ]
  },
  {
   "cell_type": "code",
   "execution_count": 10,
   "metadata": {},
   "outputs": [],
   "source": [
    "# ваш код тут\n",
    "from os import listdir\n",
    "from os.path import isfile, isdir, join\n",
    "import pandas as pd\n",
    "\n",
    "def files_and_dir(path):\n",
    "    for i in listdir(path):\n",
    "        test_file = join(path, i)\n",
    "        if isdir(test_file):   \n",
    "            print(test_file, '\\nВложенные папки и файлы: ', listdir(test_file), '\\n') \n",
    "    file_names = []     \n",
    "    files_size = []\n",
    "    file_created_at = []\n",
    "    file_paths = []\n",
    "    for i in listdir(path):\n",
    "        test_file = join(path, i)\n",
    "        if isfile(test_file):\n",
    "            file_names.append(i)\n",
    "            files_size.append(file_size(path + i))\n",
    "            file_created_at.append(file_create_date(path + i))\n",
    "            file_paths.append(path)\n",
    "    return dict(zip(file_names, zip(files_size, file_created_at, file_paths)))"
   ]
  },
  {
   "cell_type": "code",
   "execution_count": 11,
   "metadata": {},
   "outputs": [
    {
     "name": "stdout",
     "output_type": "stream",
     "text": [
      "/Users/yanadm/Documents/homework4_folder/Новая папка \n",
      "Вложенные папки и файлы:  [] \n",
      "\n",
      "/Users/yanadm/Documents/homework4_folder/Не новая папка \n",
      "Вложенные папки и файлы:  [] \n",
      "\n",
      "/Users/yanadm/Documents/homework4_folder/Старая папка \n",
      "Вложенные папки и файлы:  [] \n",
      "\n",
      "/Users/yanadm/Documents/homework4_folder/Батько \n",
      "Вложенные папки и файлы:  [] \n",
      "\n",
      "/Users/yanadm/Documents/homework4_folder/Старая новая папка \n",
      "Вложенные папки и файлы:  [] \n",
      "\n",
      "/Users/yanadm/Documents/homework4_folder/Просто папка \n",
      "Вложенные папки и файлы:  [] \n",
      "\n"
     ]
    },
    {
     "data": {
      "text/plain": [
       "{'file 2.txt': ('Размер файла: 77 kb',\n",
       "  'Дата создания файла: 31.10.2019',\n",
       "  '/Users/yanadm/Documents/homework4_folder/'),\n",
       " 'file 1.txt': ('Размер файла: 27 kb',\n",
       "  'Дата создания файла: 31.10.2019',\n",
       "  '/Users/yanadm/Documents/homework4_folder/'),\n",
       " 'война и мир.txt': ('Размер файла: 22 kb',\n",
       "  'Дата создания файла: 31.10.2019',\n",
       "  '/Users/yanadm/Documents/homework4_folder/'),\n",
       " 'donut1.png': ('Размер файла: 9 kb',\n",
       "  'Дата создания файла: 31.10.2019',\n",
       "  '/Users/yanadm/Documents/homework4_folder/'),\n",
       " 'не хочу питон.txt': ('Размер файла: 114 kb',\n",
       "  'Дата создания файла: 31.10.2019',\n",
       "  '/Users/yanadm/Documents/homework4_folder/'),\n",
       " '_104368428_gettyimages-543560762.jpg': ('Размер файла: 17 kb',\n",
       "  'Дата создания файла: 31.10.2019',\n",
       "  '/Users/yanadm/Documents/homework4_folder/')}"
      ]
     },
     "execution_count": 11,
     "metadata": {},
     "output_type": "execute_result"
    }
   ],
   "source": [
    "files_and_dir('/Users/yanadm/Documents/homework4_folder/')"
   ]
  },
  {
   "cell_type": "markdown",
   "metadata": {},
   "source": [
    "# Задача 5\n",
    "\n",
    "Необходимо разработать функцию - rem_files<br>\n",
    "\n",
    "Принимает:<br>\n",
    "    - dct - словарь из прошлой задачи.\n",
    "\n",
    "Функция должна пройти по словарю, найти те файлы у которых размер больше 30 kb и удалить их.<br>\n",
    "Сообщения об этом соответственно вывести на экран в формате:<br>\n",
    "    \n",
    "Был удален файл по пути: path_to_file<br>\n",
    "Имя: file_name<br>\n",
    "Размер: 5 kb<br>"
   ]
  },
  {
   "cell_type": "code",
   "execution_count": 12,
   "metadata": {
    "scrolled": false
   },
   "outputs": [],
   "source": [
    "# ваш код тут\n",
    "def del_big_files(files_dict):\n",
    "    for i, j in zip(files_dict.keys(), files_dict.values()):\n",
    "        file_stats = os.stat(j[2]+i)\n",
    "        f_size = np.round(file_stats.st_size / 1024).astype(int)\n",
    "        if f_size > 30:\n",
    "            print('Был удален файл по пути:', j[2]+i, '\\n', 'Имя:', i, '\\n', 'Размер:', f_size, ' kb')\n",
    "            os.remove(j[2]+i) "
   ]
  },
  {
   "cell_type": "code",
   "execution_count": 13,
   "metadata": {},
   "outputs": [
    {
     "name": "stdout",
     "output_type": "stream",
     "text": [
      "/Users/yanadm/Documents/homework4_folder/Новая папка \n",
      "Вложенные папки и файлы:  [] \n",
      "\n",
      "/Users/yanadm/Documents/homework4_folder/Не новая папка \n",
      "Вложенные папки и файлы:  [] \n",
      "\n",
      "/Users/yanadm/Documents/homework4_folder/Старая папка \n",
      "Вложенные папки и файлы:  [] \n",
      "\n",
      "/Users/yanadm/Documents/homework4_folder/Батько \n",
      "Вложенные папки и файлы:  [] \n",
      "\n",
      "/Users/yanadm/Documents/homework4_folder/Старая новая папка \n",
      "Вложенные папки и файлы:  [] \n",
      "\n",
      "/Users/yanadm/Documents/homework4_folder/Просто папка \n",
      "Вложенные папки и файлы:  [] \n",
      "\n",
      "Был удален файл по пути: /Users/yanadm/Documents/homework4_folder/file 2.txt \n",
      " Имя: file 2.txt \n",
      " Размер: 77  kb\n",
      "Был удален файл по пути: /Users/yanadm/Documents/homework4_folder/не хочу питон.txt \n",
      " Имя: не хочу питон.txt \n",
      " Размер: 114  kb\n"
     ]
    }
   ],
   "source": [
    "del_big_files(files_and_dir('/Users/yanadm/Documents/homework4_folder/'))"
   ]
  },
  {
   "cell_type": "code",
   "execution_count": null,
   "metadata": {},
   "outputs": [],
   "source": []
  }
 ],
 "metadata": {
  "kernelspec": {
   "display_name": "Python 3",
   "language": "python",
   "name": "python3"
  },
  "language_info": {
   "codemirror_mode": {
    "name": "ipython",
    "version": 3
   },
   "file_extension": ".py",
   "mimetype": "text/x-python",
   "name": "python",
   "nbconvert_exporter": "python",
   "pygments_lexer": "ipython3",
   "version": "3.7.4"
  }
 },
 "nbformat": 4,
 "nbformat_minor": 2
}

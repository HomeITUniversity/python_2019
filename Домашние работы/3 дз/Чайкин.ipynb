{
 "cells": [
  {
   "cell_type": "markdown",
   "metadata": {
    "colab_type": "text",
    "id": "MqQAE0fAwBs9"
   },
   "source": [
    "# Домашняя работа по теме: Листы и кортежи"
   ]
  },
  {
   "cell_type": "markdown",
   "metadata": {
    "colab_type": "text",
    "id": "xQ9EWFa2wBs_"
   },
   "source": [
    "#### Мягкий дедлайн: 2 октября 23:59\n",
    "#### Жесткий делайн: 9 октября 23:59\n",
    "\n",
    "Отправлять ваши решения на адрес: homeituniversity@gmail.com\n",
    "\n",
    "Тема письма: Python курс > ДЗ 3 > ФИО"
   ]
  },
  {
   "cell_type": "markdown",
   "metadata": {
    "colab_type": "text",
    "id": "J-X_GIYDwBtA"
   },
   "source": [
    "# Задача 1\n",
    "Дан кортеж T=(2,10,5,33,43,1,1,23,4). Нужно получить список L=[1,1,2,4,5,10,23,33,43]"
   ]
  },
  {
   "cell_type": "code",
   "execution_count": 2,
   "metadata": {
    "colab": {
     "base_uri": "https://localhost:8080/",
     "height": 68
    },
    "colab_type": "code",
    "id": "bq9QDnOvwBtB",
    "outputId": "14556548-15b9-47e4-8303-48bbd3842a5c"
   },
   "outputs": [
    {
     "name": "stdout",
     "output_type": "stream",
     "text": [
      "[1, 1, 2, 4, 5, 10, 23, 33, 43]\n",
      "\n",
      "Совпадает\n"
     ]
    }
   ],
   "source": [
    "#напишите ваше решение сюда\n",
    "T=(2,10,5,33,43,1,1,23,4)\n",
    "\n",
    "#для проверки\n",
    "L_check=[1,1,2,4,5,10,23,33,43]\n",
    "\n",
    "L=[]\n",
    "\n",
    "for i in T:\n",
    "    L.append(i)\n",
    "\n",
    "L.sort()\n",
    "print(L)\n",
    "if L_check==L:\n",
    "    print(\"\\nСовпадает\")\n",
    "else: \n",
    "    print(\"\\nНе совпадает\")\n",
    "\n",
    "L.clear()\n",
    "\n"
   ]
  },
  {
   "cell_type": "markdown",
   "metadata": {
    "colab_type": "text",
    "id": "o9iiagBCwBtE"
   },
   "source": [
    "# Задача 2\n",
    "Дана строка «Три вещи никогда не возвращаются обратно — время, слово, возможность. Поэтому: не теряй времени, выбирай слова, не упускай возможность. – Конфуций.» Необходимо получить список(без знаков препинания) отдельных слов и вывести его (список). Затем необходимо вывести все слова в обратном порядке, не изменяя список."
   ]
  },
  {
   "cell_type": "code",
   "execution_count": 3,
   "metadata": {
    "colab": {
     "base_uri": "https://localhost:8080/",
     "height": 51
    },
    "colab_type": "code",
    "id": "CCk0F5uowBtF",
    "outputId": "ee34255b-9a92-47ee-8366-ec3e1ee211cb"
   },
   "outputs": [
    {
     "name": "stdout",
     "output_type": "stream",
     "text": [
      "['Три', 'вещи', 'никогда', 'не', 'возвращаются', 'обратно', 'время', 'слово', 'возможность', 'Поэтому', 'не', 'теряй', 'времени', 'выбирай', 'слова', 'не', 'упускай', 'возможность', 'Конфуций']\n",
      "['Конфуций', 'возможность', 'упускай', 'не', 'слова', 'выбирай', 'времени', 'теряй', 'не', 'Поэтому', 'возможность', 'слово', 'время', 'обратно', 'возвращаются', 'не', 'никогда', 'вещи', 'Три']\n"
     ]
    }
   ],
   "source": [
    "#напишите ваше решение сюда\n",
    "\n",
    "\n",
    "string = \"Три вещи никогда не возвращаются обратно — время, слово, возможность. Поэтому: не теряй времени, выбирай слова, не упускай возможность. – Конфуций.\"\n",
    "string_2 = \"\"\n",
    "\n",
    "for i in range(len(string)):\n",
    "    if string[i].isalpha() == True or string[i] == \" \":\n",
    "           string_2 = string_2 + string[i]\n",
    "\n",
    "string_list = string_2.split(\" \")\n",
    "\n",
    "for i in range(string_list.count(\"\")):\n",
    "    string_list.remove(\"\")\n",
    "    \n",
    "#print(string_list)\n",
    "               \n",
    "copy_list = string_list[:]\n",
    "copy_list.reverse()\n",
    "\n",
    "print(string_list)\n",
    "\n",
    "print(copy_list)\n"
   ]
  },
  {
   "cell_type": "markdown",
   "metadata": {
    "colab_type": "text",
    "id": "TnbJ7mu_wBtH"
   },
   "source": [
    "# Задача 3\n",
    "Найти самое длинное и самое короткое слово в листе. (лист использовать из предыдущей задачи)"
   ]
  },
  {
   "cell_type": "code",
   "execution_count": 4,
   "metadata": {
    "colab": {
     "base_uri": "https://localhost:8080/",
     "height": 51
    },
    "colab_type": "code",
    "id": "Po-lKXYbwBtI",
    "outputId": "872a38d3-d1a1-464c-f1ae-110fc533af08"
   },
   "outputs": [
    {
     "name": "stdout",
     "output_type": "stream",
     "text": [
      "Самое длинное слово \"возвращаются\"\n",
      "Самое короткое слово \"не\"\n"
     ]
    }
   ],
   "source": [
    "#напишите ваше решение сюда\n",
    "\n",
    "max_word=string_list[0]\n",
    "min_word=string_list[0]\n",
    "\n",
    "for i in range(len(string_list)):\n",
    "    if len(string_list[i])>len(max_word):\n",
    "        max_word=string_list[i]\n",
    "    if len(string_list[i])<len(min_word):\n",
    "        min_word=string_list[i]     \n",
    "    \n",
    "print(f\"Самое длинное слово \\\"{max_word}\\\"\")\n",
    "print(f\"Самое короткое слово \\\"{min_word}\\\"\")\n",
    "\n"
   ]
  },
  {
   "cell_type": "markdown",
   "metadata": {
    "colab_type": "text",
    "id": "UfGta0i8wBtK"
   },
   "source": [
    "# Задача 4\n",
    "Найти максимальное  число из списка, которое делится на 7 без остатка. [random list]. Если такого нет, то вывести сообщение об этом."
   ]
  },
  {
   "cell_type": "code",
   "execution_count": 1,
   "metadata": {
    "colab": {
     "base_uri": "https://localhost:8080/",
     "height": 51
    },
    "colab_type": "code",
    "id": "D6Y_u9EfwBtL",
    "outputId": "21c88cd5-cc16-4462-fc71-aa41e3d9dfb6"
   },
   "outputs": [
    {
     "name": "stdout",
     "output_type": "stream",
     "text": [
      "[50, 87, 88, 63, 23, 77, 81, 11, 73, 61]\n",
      "Максимальное число из списка, которое делится на 7 без остатка найдено, это 77\n"
     ]
    }
   ],
   "source": [
    "#напишите ваше решение сюда\n",
    "import random\n",
    "random_list = [random.randint(0, 100) for i in range(10)]\n",
    "print(random_list)\n",
    "\n",
    "divide_by_7=-1\n",
    "\n",
    "\n",
    "for i in range(len(random_list)):\n",
    "  if divide_by_7==-1 and random_list[i]%7==0:\n",
    "      divide_by_7=random_list[i]\n",
    "  if random_list[i]%7==0 and divide_by_7<random_list[i]:\n",
    "      divide_by_7=random_list[i]\n",
    "      \n",
    "if divide_by_7==-1:\n",
    "    print(\"Максимальное число из списка, которое делится на 7 без остатка не найдено\")\n",
    "else:\n",
    "    print(\"Максимальное число из списка, которое делится на 7 без остатка найдено, это\",divide_by_7)    \n",
    "  \n",
    "  \n",
    "\n",
    "#print(\"Проверка\")\n",
    "#for i in range(len(random_list)):\n",
    "#    print(i,random_list[i],random_list[i]%7)"
   ]
  },
  {
   "cell_type": "markdown",
   "metadata": {
    "colab_type": "text",
    "id": "CNRdvW0FwBtP"
   },
   "source": [
    "# Задача 5\n",
    "Дан лист кортежей L=[(«Иван», 24), («Марина», 44), («Виолетта», 6), («Александр», 30), («Виталик», 25)] Необходимо отсортировать список по возрасту."
   ]
  },
  {
   "cell_type": "code",
   "execution_count": 8,
   "metadata": {
    "colab": {
     "base_uri": "https://localhost:8080/",
     "height": 102
    },
    "colab_type": "code",
    "id": "28mD9r-JwBtP",
    "outputId": "01c33188-fff4-49c2-941d-cc5837107c0f"
   },
   "outputs": [
    {
     "name": "stdout",
     "output_type": "stream",
     "text": [
      "Исходный лист [('Иван', 24), ('Марина', 44), ('Виолетта', 6), ('Александр', 30), ('Виталик', 25)]\n",
      "\n",
      "1 вариант решения [('Виолетта', 6), ('Иван', 24), ('Виталик', 25), ('Александр', 30), ('Марина', 44)]\n",
      "\n",
      "2 вариант решения [('Виолетта', 6), ('Иван', 24), ('Виталик', 25), ('Александр', 30), ('Марина', 44)]\n"
     ]
    }
   ],
   "source": [
    "#напишите ваше решение сюда\n",
    "L=[(\"Иван\", 24), (\"Марина\", 44), (\"Виолетта\", 6), (\"Александр\", 30), (\"Виталик\", 25)]\n",
    "\n",
    "print(\"Исходный лист\",L)\n",
    "\n",
    "#решение №1\n",
    "L.sort(key=lambda i: i[1])\n",
    "print(\"\\n1 вариант решения\",L)\n",
    "\n",
    "\n",
    "#решение №2\n",
    "#без функции lambda\n",
    "\n",
    "L=[(\"Иван\", 24), (\"Марина\", 44), (\"Виолетта\", 6), (\"Александр\", 30), (\"Виталик\", 25)]\n",
    "\n",
    "lenL=len(L)\n",
    "\n",
    "for i in range(lenL):\n",
    "    nmin=L[0][1]\n",
    "    nmin_index=0\n",
    "    for k in range(lenL):\n",
    "        if nmin>L[k][1]:\n",
    "            nmin=L[k][1]\n",
    "            nmin_index=L.index(L[k])\n",
    "    L.append(L[nmin_index]) \n",
    "    del L[nmin_index]\n",
    "    lenL=lenL-1\n",
    "\n",
    "    \n",
    "print(\"\\n2 вариант решения\",L)\n",
    "        \n"
   ]
  },
  {
   "cell_type": "markdown",
   "metadata": {
    "colab_type": "text",
    "id": "KQJgQVzrwBtR"
   },
   "source": [
    "# Задача 6 (по желанию, без учета баллов, для саморазвития)\n",
    "\n",
    "У вас есть девять цифр: 1, 2, …, 9. Именно в таком порядке. Вы можете вставлять между ними знаки «+», «-» или ничего. У вас будут получаться выражения вида 123+45-6+7+89. Найдите все из них, которые равны 100.\n"
   ]
  },
  {
   "cell_type": "code",
   "execution_count": 0,
   "metadata": {
    "colab": {},
    "colab_type": "code",
    "id": "2E4SwGbzwBtS"
   },
   "outputs": [],
   "source": [
    "#напишите ваше решение сюда\n",
    "#к сожалению решить так и не удалось=(\n",
    "\n",
    "\n",
    "#list_number=[1,2,3,4,5,6,7,8,9]\n",
    "list_number=list()\n",
    "\n",
    "string_number=\"123456789\"\n",
    "\n",
    "#все возможные комбинации чисел\n",
    "k=0\n",
    "\n",
    "for i in range(len(string_number)):\n",
    "    for i in range(k,len(string_number)+1):\n",
    "        if string_number[k:i]!=\"\":\n",
    "            #print(string_number[k:i])\n",
    "            list_number.append(string_number[k:i])\n",
    "        #print(k)\n",
    "    k=k+1\n",
    "\n",
    "st=\"1\"\n",
    "\n",
    "i=0\n",
    "j=0\n",
    "q=0\n",
    "sums=0\n",
    "list_st=[]\n",
    "list_stemp=[]\n",
    "\n",
    "print(list_number)\n",
    "\n",
    "for i in range(len(list_number)):\n",
    "    #print(list_number[i])\n",
    "    st = str(list_number[i])\n",
    "    list_st.append(int(st))\n",
    "    if int(st) < 10:\n",
    "        list_stemp.append(int(st)-1)\n",
    "    for j in range(len(list_number)):\n",
    "        #Тут по идее должны были формироваться все возможные комбинации чисел\n",
    "            if int(st[-1]) < int(list_number[j][0]):\n",
    "                st = st + str(list_number[j])\n",
    "                list_st.append(int(list_number[j]))\n",
    "    print(\"итоговый лист\",list_st)\n",
    "    #Тут должна была бы быть проверка что найденый список чисел равен 100   \n",
    "    #if sum(list_st) >= 100:\n",
    "     #   sums = sum(list_st)\n",
    "      #  for q in range(len(list_st)):\n",
    "       #     if list_st[q] % sums:\n",
    "         #       print(\"Искомый порядок цифр\",list_st)\n",
    "    print(\"чистка\")         \n",
    "    list_st.clear()  \n",
    "    list_st.extend(list_stemp)\n",
    "    #break\n",
    "\n",
    "    \n",
    "\n",
    "  \n",
    "   \n",
    "\n",
    "\n"
   ]
  }
 ],
 "metadata": {
  "colab": {
   "collapsed_sections": [],
   "name": "list and tuple homework clear.ipynb",
   "provenance": []
  },
  "kernelspec": {
   "display_name": "Python 3",
   "language": "python",
   "name": "python3"
  },
  "language_info": {
   "codemirror_mode": {
    "name": "ipython",
    "version": 3
   },
   "file_extension": ".py",
   "mimetype": "text/x-python",
   "name": "python",
   "nbconvert_exporter": "python",
   "pygments_lexer": "ipython3",
   "version": "3.7.1"
  }
 },
 "nbformat": 4,
 "nbformat_minor": 1
}

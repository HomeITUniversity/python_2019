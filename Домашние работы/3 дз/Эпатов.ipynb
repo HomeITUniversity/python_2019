{
  "nbformat": 4,
  "nbformat_minor": 0,
  "metadata": {
    "kernelspec": {
      "display_name": "Python 3",
      "language": "python",
      "name": "python3"
    },
    "language_info": {
      "codemirror_mode": {
        "name": "ipython",
        "version": 3
      },
      "file_extension": ".py",
      "mimetype": "text/x-python",
      "name": "python",
      "nbconvert_exporter": "python",
      "pygments_lexer": "ipython3",
      "version": "3.7.1"
    },
    "colab": {
      "name": "list and tuple homework clear.ipynb",
      "provenance": [],
      "collapsed_sections": []
    }
  },
  "cells": [
    {
      "cell_type": "markdown",
      "metadata": {
        "id": "7PCweS9DToRa",
        "colab_type": "text"
      },
      "source": [
        "# Домашняя работа по теме: Листы и кортежи"
      ]
    },
    {
      "cell_type": "markdown",
      "metadata": {
        "id": "FOAhNnd1ToRc",
        "colab_type": "text"
      },
      "source": [
        "#### Мягкий дедлайн: 2 октября 23:59\n",
        "#### Жесткий делайн: 9 октября 23:59\n",
        "\n",
        "Отправлять ваши решения на адрес: homeituniversity@gmail.com\n",
        "\n",
        "Тема письма: Python курс > ДЗ 3 > ФИО"
      ]
    },
    {
      "cell_type": "markdown",
      "metadata": {
        "id": "F-qSx5grToRe",
        "colab_type": "text"
      },
      "source": [
        "# Задача 1\n",
        "Дан кортеж T=(2,10,5,33,43,1,1,23,4). Нужно получить список L=[1,1,2,4,5,10,23,33,43]"
      ]
    },
    {
      "cell_type": "code",
      "metadata": {
        "id": "oQmrP7CaToRf",
        "colab_type": "code",
        "outputId": "1c8546ad-2b73-42f4-e5a8-6bac238412da",
        "colab": {
          "base_uri": "https://localhost:8080/",
          "height": 34
        }
      },
      "source": [
        "#напишите ваше решение сюда\n",
        "T=(2,10,5,33,43,1,1,23,4)\n",
        "\n",
        "def bubble_sort(L):\n",
        "  for k in range(0, len(L)-1):\n",
        "    for i in range(0, len(L)-k-1):\n",
        "      if L[i] > L[i+1]:\n",
        "        L[i],L[i+1]=(L[i+1],L[i])\n",
        "  return L\n",
        "  \n",
        "L=bubble_sort(list(T))\n",
        "print(L)"
      ],
      "execution_count": 292,
      "outputs": [
        {
          "output_type": "stream",
          "text": [
            "[1, 1, 2, 4, 5, 10, 23, 33, 43]\n"
          ],
          "name": "stdout"
        }
      ]
    },
    {
      "cell_type": "markdown",
      "metadata": {
        "id": "_5HYLBErToRj",
        "colab_type": "text"
      },
      "source": [
        "# Задача 2\n",
        "Дана строка «Три вещи никогда не возвращаются обратно — время, слово, возможность. Поэтому: не теряй времени, выбирай слова, не упускай возможность. – Конфуций.» Необходимо получить список(без знаков препинания) отдельных слов и вывести его (список). Затем необходимо вывести все слова в обратном порядке, не изменяя список."
      ]
    },
    {
      "cell_type": "code",
      "metadata": {
        "id": "8J4yIwVoToRl",
        "colab_type": "code",
        "outputId": "b9c01fcf-d590-4331-cc08-d39ed8686d95",
        "colab": {
          "base_uri": "https://localhost:8080/",
          "height": 71
        }
      },
      "source": [
        "#напишите ваше решение сюда\n",
        "s=\"Три вещи никогда не возвращаются обратно — время, слово, возможность. Поэтому: не теряй времени, выбирай слова, не упускай возможность. – Конфуций.\"\n",
        "\n",
        "### Через регулярное выражение\n",
        "#import re\n",
        "#l=re.findall('[А-Яа-я]+', s)\n",
        "\n",
        "### Через цикл\n",
        "l=\"\"\n",
        "for c in s:\n",
        "  if c not in (',',\".\",\"—\",\"–\",\":\"):\n",
        "    l+=c\n",
        "l=l.replace(\"  \",\" \").split(\" \")\n",
        "\n",
        "print(l)\n",
        "print(l[::-1])"
      ],
      "execution_count": 284,
      "outputs": [
        {
          "output_type": "stream",
          "text": [
            "['Три', 'вещи', 'никогда', 'не', 'возвращаются', 'обратно', 'время', 'слово', 'возможность', 'Поэтому', 'не', 'теряй', 'времени', 'выбирай', 'слова', 'не', 'упускай', 'возможность', 'Конфуций']\n",
            "['Конфуций', 'возможность', 'упускай', 'не', 'слова', 'выбирай', 'времени', 'теряй', 'не', 'Поэтому', 'возможность', 'слово', 'время', 'обратно', 'возвращаются', 'не', 'никогда', 'вещи', 'Три']\n"
          ],
          "name": "stdout"
        }
      ]
    },
    {
      "cell_type": "markdown",
      "metadata": {
        "id": "edU-QZF8ToRr",
        "colab_type": "text"
      },
      "source": [
        "# Задача 3\n",
        "Найти самое длинное и самое короткое слово в листе. (лист использовать из предыдущей задачи)"
      ]
    },
    {
      "cell_type": "code",
      "metadata": {
        "id": "U7_yzZN8ToRt",
        "colab_type": "code",
        "outputId": "5712ec62-7d72-4c2b-bee4-fe523b20cf7c",
        "colab": {
          "base_uri": "https://localhost:8080/",
          "height": 34
        }
      },
      "source": [
        "#напишите ваше решение сюда\n",
        "min_len = [len(l[0]),l[0]]\n",
        "max_len = [len(l[0]),l[0]]\n",
        "\n",
        "for w in l:\n",
        "  min_len = (len(w),w) if len(w) < min_len[0] else min_len\n",
        "  max_len = (len(w),w) if len(w) > max_len[0] else max_len\n",
        "  \n",
        "print(f\" Самое короткое слово \\\"{min_len[1]}\\\", самое длинное слово \\\"{max_len[1]}\\\"\")"
      ],
      "execution_count": 290,
      "outputs": [
        {
          "output_type": "stream",
          "text": [
            " Самое короткое слово \"не\", самое длинное слово \"возвращаются\"\n"
          ],
          "name": "stdout"
        }
      ]
    },
    {
      "cell_type": "markdown",
      "metadata": {
        "id": "4x30Elg7ToRy",
        "colab_type": "text"
      },
      "source": [
        "# Задача 4\n",
        "Найти максимальное  число из списка, которое делится на 7 без остатка. [random list]. Если такого нет, то вывести сообщение об этом."
      ]
    },
    {
      "cell_type": "code",
      "metadata": {
        "id": "6w2zR3cEToRz",
        "colab_type": "code",
        "outputId": "e92ce711-9a70-4c1b-86fc-56ace86ba54f",
        "colab": {
          "base_uri": "https://localhost:8080/",
          "height": 51
        }
      },
      "source": [
        "#напишите ваше решение сюда\n",
        "import random\n",
        "random_list = [random.randint(0, 100) for i in range(10)]\n",
        "print(random_list)\n",
        "\n",
        "max_val=-1\n",
        "\n",
        "for i in random_list:\n",
        "  if (i%7==0 and i>max_val):max_val=i\n",
        "\n",
        "print(max_val) if max_val!=-1 else print(\"Нет числа, которое делится на 7 без остатка\")"
      ],
      "execution_count": 287,
      "outputs": [
        {
          "output_type": "stream",
          "text": [
            "[33, 54, 69, 52, 76, 58, 75, 59, 26, 16]\n",
            "Нет числа, которое делится на 7 без остатка\n"
          ],
          "name": "stdout"
        }
      ]
    },
    {
      "cell_type": "markdown",
      "metadata": {
        "id": "qMvlu8VRToR6",
        "colab_type": "text"
      },
      "source": [
        "# Задача 5\n",
        "Дан лист кортежей L=[(«Иван», 24), («Марина», 44), («Виолетта», 6), («Александр», 30), («Виталик», 25)] Необходимо отсортировать список по возрасту."
      ]
    },
    {
      "cell_type": "code",
      "metadata": {
        "id": "6Umy7Y-KToR8",
        "colab_type": "code",
        "outputId": "8fc2a716-f048-4ef6-e210-89a24b80254a",
        "colab": {
          "base_uri": "https://localhost:8080/",
          "height": 34
        }
      },
      "source": [
        "#напишите ваше решение сюда\n",
        "L=[(\"Иван\", 24), (\"Марина\", 44), (\"Виолетта\", 6), (\"Александр\", 30), (\"Виталик\", 25)]\n",
        "\n",
        "#bubble sort\n",
        "for k in range(0, len(L)-1):\n",
        "  for i in range(0, len(L)-k-1):\n",
        "    if L[i][1] > L[i+1][1]:\n",
        "      L[i],L[i+1]=(L[i+1],L[i])\n",
        "  \n",
        "print(L)"
      ],
      "execution_count": 295,
      "outputs": [
        {
          "output_type": "stream",
          "text": [
            "[('Виолетта', 6), ('Иван', 24), ('Виталик', 25), ('Александр', 30), ('Марина', 44)]\n"
          ],
          "name": "stdout"
        }
      ]
    },
    {
      "cell_type": "markdown",
      "metadata": {
        "id": "tnrkAIJ0ToSB",
        "colab_type": "text"
      },
      "source": [
        "# Задача 6 (по желанию, без учета баллов, для саморазвития)\n",
        "\n",
        "У вас есть девять цифр: 1, 2, …, 9. Именно в таком порядке. Вы можете вставлять между ними знаки «+», «-» или ничего. У вас будут получаться выражения вида 123+45-6+7+89. Найдите все из них, которые равны 100.\n"
      ]
    },
    {
      "cell_type": "code",
      "metadata": {
        "id": "w6QzB89tToSD",
        "colab_type": "code",
        "outputId": "237b2a5a-22c9-4a93-fae3-3ea243203f6d",
        "colab": {
          "base_uri": "https://localhost:8080/",
          "height": 204
        }
      },
      "source": [
        "#напишите ваше решение сюда\n",
        "L = \"123456789\"\n",
        "\n",
        "#Маска знаков между цифрами \n",
        "#0 - none, 1 - минус, 2 - плюс\n",
        "def tern(i):\n",
        "  a=i%3\n",
        "  b=i//3\n",
        "  if b == 0 :\n",
        "    return a\n",
        "  if b > 0:\n",
        "    return str(tern(b))+str(a)\n",
        "\n",
        "\n",
        "for i in range(1,(3**(len(L)-1))):\n",
        "  p=0\n",
        "  t=0\n",
        "  S=L\n",
        "  for k in str(tern(i))[::-1]:\n",
        "    p+=1\n",
        "    n=p+t\n",
        "    if k==\"1\":\n",
        "      S=S[:-n] + '-' + S[-n:]\n",
        "    if k==\"2\":\n",
        "      S=S[:-n] + '+' + S[-n:]\n",
        "    if k == \"1\" or k==\"2\":\n",
        "      t+=1\n",
        "    \n",
        "  if (eval(S)==100):\n",
        "    print(S, \"=\" , 100)"
      ],
      "execution_count": 296,
      "outputs": [
        {
          "output_type": "stream",
          "text": [
            "123-45-67+89 = 100\n",
            "123-4-5-6-7+8-9 = 100\n",
            "123+45-67+8-9 = 100\n",
            "123+4-5+67-89 = 100\n",
            "12-3-4+5-6+7+89 = 100\n",
            "12+3-4+5+67+8+9 = 100\n",
            "12+3+4+5-6-7+89 = 100\n",
            "1+23-4+56+7+8+9 = 100\n",
            "1+23-4+5+6+78-9 = 100\n",
            "1+2+34-5+67-8+9 = 100\n",
            "1+2+3-4+5+6+78+9 = 100\n"
          ],
          "name": "stdout"
        }
      ]
    }
  ]
}
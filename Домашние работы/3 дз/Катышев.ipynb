{
 "cells": [
  {
   "cell_type": "markdown",
   "metadata": {
    "colab_type": "text",
    "id": "02ISDwRZg3BL"
   },
   "source": [
    "# Домашняя работа по теме: Листы и кортежи"
   ]
  },
  {
   "cell_type": "markdown",
   "metadata": {
    "colab_type": "text",
    "id": "ogpl0Bqwg3BN"
   },
   "source": [
    "#### Мягкий дедлайн: 2 октября 23:59\n",
    "#### Жесткий делайн: 9 октября 23:59\n",
    "\n",
    "Отправлять ваши решения на адрес: homeituniversity@gmail.com\n",
    "\n",
    "Тема письма: Python курс > ДЗ 3 > ФИО"
   ]
  },
  {
   "cell_type": "markdown",
   "metadata": {
    "colab_type": "text",
    "id": "vthZmM5dg3BP"
   },
   "source": [
    "# Задача 1\n",
    "Дан кортеж T=(2,10,5,33,43,1,1,23,4). Нужно получить список L=[1,1,2,4,5,10,23,33,43]"
   ]
  },
  {
   "cell_type": "code",
   "execution_count": 0,
   "metadata": {
    "colab": {
     "base_uri": "https://localhost:8080/",
     "height": 34
    },
    "colab_type": "code",
    "id": "kM-2Hu1Kg3BQ",
    "outputId": "61dfc652-3d04-4d96-be66-2a54f0ddb6e0"
   },
   "outputs": [
    {
     "name": "stdout",
     "output_type": "stream",
     "text": [
      "[1, 1, 2, 4, 5, 10, 23, 33, 43]\n"
     ]
    }
   ],
   "source": [
    "#напишите ваше решение сюда\n",
    "T=(2,10,5,33,43,1,1,23,4)\n",
    "L=[]\n",
    "for i in T:\n",
    "  L.append(i)\n",
    "L.sort()\n",
    "print(L)\n"
   ]
  },
  {
   "cell_type": "markdown",
   "metadata": {
    "colab_type": "text",
    "id": "AXtbgMZFg3BW"
   },
   "source": [
    "# Задача 2\n",
    "Дана строка «Три вещи никогда не возвращаются обратно — время, слово, возможность. Поэтому: не теряй времени, выбирай слова, не упускай возможность. – Конфуций.» Необходимо получить список(без знаков препинания) отдельных слов и вывести его (список). Затем необходимо вывести все слова в обратном порядке, не изменяя список."
   ]
  },
  {
   "cell_type": "code",
   "execution_count": 32,
   "metadata": {
    "colab": {
     "base_uri": "https://localhost:8080/",
     "height": 390
    },
    "colab_type": "code",
    "id": "Sa8MKGwag3BY",
    "outputId": "bef20d18-77cd-48b5-c15c-bb90fac965ee"
   },
   "outputs": [
    {
     "name": "stdout",
     "output_type": "stream",
     "text": [
      "['Три', 'вещи', 'никогда', 'не', 'возвращаются', 'обратно', 'время', 'слово', 'возможность', 'Поэтому', 'не', 'теряй', 'времени', 'выбирай', 'слова', 'не', 'упускай', 'возможность', 'Конфуций']\n",
      "['Конфуций', 'возможность', 'упускай', 'не', 'слова', 'выбирай', 'времени', 'теряй', 'не', 'Поэтому', 'возможность', 'слово', 'время', 'обратно', 'возвращаются', 'не', 'никогда', 'вещи', 'Три']\n",
      "Конфуций\n",
      "возможность\n",
      "упускай\n",
      "не\n",
      "слова\n",
      "выбирай\n",
      "времени\n",
      "теряй\n",
      "не\n",
      "Поэтому\n",
      "возможность\n",
      "слово\n",
      "время\n",
      "обратно\n",
      "возвращаются\n",
      "не\n",
      "никогда\n",
      "вещи\n",
      "Три\n"
     ]
    }
   ],
   "source": [
    "#напишите ваше решение сюда\n",
    "s='Три вещи никогда не возвращаются обратно — время, слово, возможность. Поэтому: не теряй времени, выбирай слова, не упускай возможность. – Конфуций.'\n",
    "b=''\n",
    "for i in s:\n",
    "  if i==' ' or i.isalnum():\n",
    "    b+=i\n",
    "\n",
    "while b.find('  ')>=0:\n",
    "  b=b.replace('  ',' ')\n",
    "\n",
    "l=b.split(' ')\n",
    "print(l)\n",
    "l.reverse()\n",
    "print(l)\n",
    "for i in l:\n",
    "  print(i)"
   ]
  },
  {
   "cell_type": "markdown",
   "metadata": {
    "colab_type": "text",
    "id": "QBnSEMEPg3Bc"
   },
   "source": [
    "# Задача 3\n",
    "Найти самое длинное и самое короткое слово в листе. (лист использовать из предыдущей задачи)"
   ]
  },
  {
   "cell_type": "code",
   "execution_count": 0,
   "metadata": {
    "colab": {
     "base_uri": "https://localhost:8080/",
     "height": 87
    },
    "colab_type": "code",
    "id": "mMG8t2ugg3Bd",
    "outputId": "3c5052d7-327a-4a84-9055-dc95a8d462ce"
   },
   "outputs": [
    {
     "name": "stdout",
     "output_type": "stream",
     "text": [
      "['Три', 'вещи', 'никогда', 'не', 'возвращаются', 'обратно', 'время', 'слово', 'возможность', 'Поэтому', 'не', 'теряй', 'времени', 'выбирай', 'слова', 'не', 'упускай', 'возможность', 'Конфуций']\n",
      "Самое длинное слово: возвращаются \n",
      "Самое короткое слово: не\n"
     ]
    }
   ],
   "source": [
    "#1. Предполагаем, что в строке только одно самое длинное и одно самое короткое\n",
    "\n",
    "print(l)\n",
    "biggest=l[0]\n",
    "smallest=l[0]\n",
    "max_size=len(l[0])\n",
    "min_size=len(l[0])\n",
    "for i in l:\n",
    "  if max_size<len(i):\n",
    "    max_size=len(i)\n",
    "    biggest=i\n",
    "  if min_size>len(i):\n",
    "    min_size=len(i)\n",
    "    smallest=i\n",
    "print('Самое длинное слово:',biggest,'\\nСамое короткое слово:',smallest)    "
   ]
  },
  {
   "cell_type": "code",
   "execution_count": 0,
   "metadata": {
    "colab": {
     "base_uri": "https://localhost:8080/",
     "height": 185
    },
    "colab_type": "code",
    "id": "scT9J40goO8n",
    "outputId": "6d267ac3-c3b0-47a8-e4ce-4545534816e3"
   },
   "outputs": [
    {
     "name": "stdout",
     "output_type": "stream",
     "text": [
      "Вывод списком\n",
      "Самое длинное слово: ['возвращаются']\n",
      "Самые длинные слова: ['не', 'не', 'не']\n",
      "\n",
      "Вывод строками\n",
      "Самое длинное слово: возвращаются\n",
      "Самые длинные слова:\n",
      "не\n",
      "не\n",
      "не\n"
     ]
    }
   ],
   "source": [
    "#2. Предполагаем, что самых длинных и самых коротких может быть несколько.\n",
    "\n",
    "biggest=[]\n",
    "smallest=[]\n",
    "max_size=len(l[0])\n",
    "min_size=len(l[0])\n",
    "kmax=1\n",
    "kmin=1\n",
    "for i in l:\n",
    "  if max_size<len(i):\n",
    "    max_size=len(i)\n",
    "    biggest.clear()\n",
    "    biggest.append(i)\n",
    "  elif max_size==len(i):\n",
    "    biggest.append(i)\n",
    "  if min_size>len(i):\n",
    "    min_size=len(i)\n",
    "    smallest.clear()\n",
    "    smallest.append(i)\n",
    "  elif min_size==len(i):\n",
    "    smallest.append(i)\n",
    "    \n",
    "###########################################\n",
    "print('Вывод списком')\n",
    "if len(biggest)==1:\n",
    "  print('Самое длинное слово:',biggest)\n",
    "else:\n",
    "  print('Самые длинные слова:',biggest)    \n",
    "  \n",
    "if len(smallest)==1:\n",
    "  print('Самое длинное слово:',smallest)\n",
    "else:\n",
    "  print('Самые длинные слова:',smallest)\n",
    "\n",
    "###########################################\n",
    "print('\\nВывод строками')\n",
    "if len(biggest)==1:\n",
    "  print('Самое длинное слово:',biggest[0])\n",
    "else:\n",
    "  print('Самые длинные слова:')\n",
    "  for i in biggest:\n",
    "    print(i)\n",
    "  \n",
    "if len(smallest)==1:\n",
    "  print('Самое длинное слово:',smallest[0])\n",
    "else:\n",
    "  print('Самые длинные слова:')\n",
    "  for i in smallest:\n",
    "    print(i)"
   ]
  },
  {
   "cell_type": "markdown",
   "metadata": {
    "colab_type": "text",
    "id": "6-AfrPR5g3Bh"
   },
   "source": [
    "# Задача 4\n",
    "Найти максимальное  число из списка, которое делится на 7 без остатка. [random list]. Если такого нет, то вывести сообщение об этом."
   ]
  },
  {
   "cell_type": "code",
   "execution_count": 16,
   "metadata": {
    "colab": {
     "base_uri": "https://localhost:8080/",
     "height": 50
    },
    "colab_type": "code",
    "id": "S50G84bxg3Bj",
    "outputId": "d3908e77-eaa1-4e4a-b16c-dcd90a164d3a"
   },
   "outputs": [
    {
     "name": "stdout",
     "output_type": "stream",
     "text": [
      "[7, 14, 21]\n",
      "[21, 14, 7]\n",
      "21\n"
     ]
    }
   ],
   "source": [
    "#напишите ваше решение сюда\n",
    "import random\n",
    "random_list = [random.randint(0, 100) for i in range(10)]\n",
    "random_list = [7,14,21]\n",
    "print(random_list)\n",
    "random_list.sort(reverse=True)\n",
    "print(random_list)\n",
    "k=0\n",
    "for i in random_list:\n",
    "  if i%7==0:\n",
    "    print(i)\n",
    "    k+=1\n",
    "    break\n",
    "if k==0:\n",
    "  print('В этом списке нет чисел, которые делятся на 7 без остатка :-(')"
   ]
  },
  {
   "cell_type": "markdown",
   "metadata": {
    "colab_type": "text",
    "id": "iV5TlwN7g3Bp"
   },
   "source": [
    "# Задача 5\n",
    "Дан лист кортежей L=[(«Иван», 24), («Марина», 44), («Виолетта», 6), («Александр», 30), («Виталик», 25)] Необходимо отсортировать список по возрасту."
   ]
  },
  {
   "cell_type": "code",
   "execution_count": 0,
   "metadata": {
    "colab": {
     "base_uri": "https://localhost:8080/",
     "height": 50
    },
    "colab_type": "code",
    "id": "abjz_kiig3Bq",
    "outputId": "ea981a3c-37a8-4a8e-ee1b-55bab6ae1f13"
   },
   "outputs": [
    {
     "name": "stdout",
     "output_type": "stream",
     "text": [
      "[('Иван', 24), ('Марина', 44), ('Виолетта', 6), ('Александр', 30), ('Виталик', 25)]\n",
      "[('Виолетта', 6), ('Иван', 24), ('Виталик', 25), ('Александр', 30), ('Марина', 44)]\n"
     ]
    }
   ],
   "source": [
    "#напишите ваше решение сюда\n",
    "L=[(\"Иван\", 24), (\"Марина\", 44), (\"Виолетта\", 6), (\"Александр\", 30), (\"Виталик\", 25)]\n",
    "print(L)\n",
    "for j in range(len(L)):\n",
    "  for i in range(len(L)-j-1):\n",
    "    if L[i][1]>L[i+1][1]:\n",
    "      a=L[i]\n",
    "      L[i]=L[i+1]\n",
    "      L[i+1]=a\n",
    "print(L)"
   ]
  },
  {
   "cell_type": "markdown",
   "metadata": {
    "colab_type": "text",
    "id": "Jmm-3Zl9g3Bu"
   },
   "source": [
    "# Задача 6 (по желанию, без учета баллов, для саморазвития)\n",
    "\n",
    "У вас есть девять цифр: 1, 2, …, 9. Именно в таком порядке. Вы можете вставлять между ними знаки «+», «-» или ничего. У вас будут получаться выражения вида 123+45-6+7+89. Найдите все из них, которые равны 100.\n"
   ]
  },
  {
   "cell_type": "code",
   "execution_count": 30,
   "metadata": {
    "colab": {
     "base_uri": "https://localhost:8080/",
     "height": 202
    },
    "colab_type": "code",
    "id": "3kVVIBCXg3Bv",
    "outputId": "0538c6a8-c995-4d75-8cbc-d73ed7c4d766"
   },
   "outputs": [
    {
     "name": "stdout",
     "output_type": "stream",
     "text": [
      "123-45-67+89 = 100\n",
      "123-4-5-6-7+8-9 = 100\n",
      "123+45-67+8-9 = 100\n",
      "123+4-5+67-89 = 100\n",
      "12-3-4+5-6+7+89 = 100\n",
      "12+3-4+5+67+8+9 = 100\n",
      "12+3+4+5-6-7+89 = 100\n",
      "1+23-4+56+7+8+9 = 100\n",
      "1+23-4+5+6+78-9 = 100\n",
      "1+2+34-5+67-8+9 = 100\n",
      "1+2+3-4+5+6+78+9 = 100\n"
     ]
    }
   ],
   "source": [
    "#напишите ваше решение сюда\n",
    "d=[1,2,3,4,5,6,7,8,9]\n",
    "c=['','-','+']\n",
    "for i in range(3**8):\n",
    "    a=[]\n",
    "    b=[]\n",
    "    s=''\n",
    "    k=0\n",
    "    for j in range(8):\n",
    "        a.append(c[i%3])\n",
    "        i=i//3\n",
    "    a.reverse()\n",
    "    s+=str(d[0])\n",
    "    for j in range(8):\n",
    "      s+=a[j]+str(d[j+1])\n",
    "    s1=s.replace('-','+-')\n",
    "    b=s1.split('+')\n",
    "    for j in b:\n",
    "      k+=int(j)\n",
    "    if k==100:\n",
    "      print(s,'=',k)"
   ]
  },
  {
   "cell_type": "code",
   "execution_count": 18,
   "metadata": {},
   "outputs": [
    {
     "name": "stdout",
     "output_type": "stream",
     "text": [
      "1+2+3-4+5+6+78+9\n",
      "1+2+34-5+67-8+9\n",
      "1+23-4+5+6+78-9\n",
      "1+23-4+56+7+8+9\n",
      "12-3-4+5-6+7+89\n",
      "12+3+4+5-6-7+89\n",
      "12+3-4+5+67+8+9\n",
      "123-4-5-6-7+8-9\n",
      "123+4-5+67-89\n",
      "123+45-67+8-9\n",
      "123-45-67+89\n"
     ]
    }
   ],
   "source": [
    "def all_combinations(a):\n",
    "    if len(a) <= 1:\n",
    "        yield a\n",
    "    else:\n",
    "        head = ''\n",
    "        tail = list(a)\n",
    "        while len(tail) > 0:\n",
    "            head += tail.pop(0)\n",
    "            for s in all_combinations(tail):\n",
    "                yield [head] + s\n",
    "\n",
    "def all_signs(n):\n",
    "    if n == 0:\n",
    "        yield ()\n",
    "    else:\n",
    "        for tail in all_signs(n-1):\n",
    "            for s in '+-':\n",
    "                yield (s,) + tail\n",
    "\n",
    "def perform_operations(nums, signs):\n",
    "    nums = list(map(int, nums))\n",
    "    result = nums.pop(0)\n",
    "    n = 1\n",
    "    for s in signs:\n",
    "        if s == '+':\n",
    "            result += nums.pop(0)\n",
    "        if s == '-':\n",
    "            result -= nums.pop(0)\n",
    "        n += 1\n",
    "    return result\n",
    "\n",
    "for numbers in all_combinations(tuple(map(str, range(1, 10)))):\n",
    "    #print(numbers)\n",
    "    for signs in all_signs(len(numbers) - 1):\n",
    "        #print(signs)\n",
    "        summ = perform_operations(numbers, signs)\n",
    "        if summ == 100:\n",
    "            print(\n",
    "                ''.join(map(\n",
    "                    lambda x: ''.join(x),\n",
    "                    zip(numbers, signs)))\n",
    "                + numbers[-1])"
   ]
  },
  {
   "cell_type": "markdown",
   "metadata": {
    "colab_type": "text",
    "id": "UBKa01PxknKx"
   },
   "source": [
    "# Задача 2(из семинара)\n",
    "Входные данные: Вложенный список с целыми числами.\n",
    "\n",
    "Выходные данные: Одномерный список с целыми числами.\n",
    "\n",
    "Пример:\n",
    "\n",
    "flat_list([1, 2, 3]) == [1, 2, 3]<br>\n",
    "flat_list([1, [2, 2, 2], 4]) == [1, 2, 2, 2, 4]<br>\n",
    "flat_list([[[2]], [4, [5, 6, [6], 6, 6, 6], 7]]) == [2, 4, 5, 6, 6, 6, 6, 6, 7]<br>\n",
    "flat_list([-1, [1, [-2], 1], -1]) == [-1, 1, -2, 1, -1]<br>\n",
    "\n",
    "#### Как это используется: Эта концепция полезна для разбора и анализа файлов со сложной структурой и она бросает вызов вашей креативности в написании короткого кода.\n",
    "\n",
    "#### Предусловия: \n",
    "len(list) <= 10 <br>\n",
    "(x is a list) or (x < 10 and x > -10) <br>\n",
    "depth < 3<br>"
   ]
  },
  {
   "cell_type": "code",
   "execution_count": 17,
   "metadata": {
    "colab": {
     "base_uri": "https://localhost:8080/",
     "height": 34
    },
    "colab_type": "code",
    "id": "-CKbtIHnj0Mf",
    "outputId": "c6cffab2-d9e0-4f2a-c043-50d375e36c40"
   },
   "outputs": [
    {
     "name": "stdout",
     "output_type": "stream",
     "text": [
      "[1, 2, 2, 1, 2, 1, 2, 3, 2, 4]\n"
     ]
    }
   ],
   "source": [
    "#Add your code here\n",
    "l=[[1, [[[2, [2,[1,2,[1,2]],3], 2], [[[[4]]]]]]]]\n",
    "a=[]\n",
    "while l!=[]:\n",
    "  if type(l[0])!=list:\n",
    "    a.append(l[0])\n",
    "    if len(l)>0:\n",
    "      l=l[1:]\n",
    "  else:\n",
    "    b=l[0]\n",
    "    b.extend(l[1:])\n",
    "    l=b\n",
    "print(a)\n"
   ]
  },
  {
   "cell_type": "code",
   "execution_count": null,
   "metadata": {},
   "outputs": [],
   "source": []
  }
 ],
 "metadata": {
  "colab": {
   "collapsed_sections": [],
   "name": "Copy of Python курс > ДЗ 3 > Катышев Арсений Олегович.ipynb",
   "provenance": []
  },
  "kernelspec": {
   "display_name": "Python 3",
   "language": "python",
   "name": "python3"
  },
  "language_info": {
   "codemirror_mode": {
    "name": "ipython",
    "version": 3
   },
   "file_extension": ".py",
   "mimetype": "text/x-python",
   "name": "python",
   "nbconvert_exporter": "python",
   "pygments_lexer": "ipython3",
   "version": "3.7.1"
  }
 },
 "nbformat": 4,
 "nbformat_minor": 1
}

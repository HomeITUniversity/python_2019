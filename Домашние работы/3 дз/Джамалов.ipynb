{
 "cells": [
  {
   "cell_type": "markdown",
   "metadata": {
    "colab_type": "text",
    "id": "RRApId00VD4L"
   },
   "source": [
    "# Домашняя работа по теме: Листы и кортежи"
   ]
  },
  {
   "cell_type": "markdown",
   "metadata": {
    "colab_type": "text",
    "id": "_K3yRZ2GVD4M"
   },
   "source": [
    "#### Мягкий дедлайн: 2 октября 23:59\n",
    "#### Жесткий делайн: 9 октября 23:59\n",
    "\n",
    "Отправлять ваши решения на адрес: homeituniversity@gmail.com\n",
    "\n",
    "Тема письма: Python курс > ДЗ 3 > ФИО"
   ]
  },
  {
   "cell_type": "markdown",
   "metadata": {
    "colab_type": "text",
    "id": "wqi5i06IVD4N"
   },
   "source": [
    "# Задача 1\n",
    "Дан кортеж T=(2,10,5,33,43,1,1,23,4). Нужно получить список L=[1,1,2,4,5,10,23,33,43]"
   ]
  },
  {
   "cell_type": "code",
   "execution_count": 9,
   "metadata": {
    "colab": {
     "base_uri": "https://localhost:8080/",
     "height": 51
    },
    "colab_type": "code",
    "id": "CjNBj_4qVD4O",
    "outputId": "893b8eb7-c02c-4092-ee63-6b32c2b2c29e"
   },
   "outputs": [
    {
     "name": "stdout",
     "output_type": "stream",
     "text": [
      "Тип: <class 'list'> \n",
      " [1, 1, 2, 4, 5, 10, 23, 33, 43]\n"
     ]
    }
   ],
   "source": [
    "#напишите ваше решение сюда\n",
    "T=(2,10,5,33,43,1,1,23,4)\n",
    "list_=list(T)\n",
    "list_.sort()\n",
    "print('Тип:',type(list_),'\\n',list_)"
   ]
  },
  {
   "cell_type": "markdown",
   "metadata": {
    "colab_type": "text",
    "id": "LNX8wYMTVD4S"
   },
   "source": [
    "# Задача 2\n",
    "Дана строка «Три вещи никогда не возвращаются обратно — время, слово, возможность. Поэтому: не теряй времени, выбирай слова, не упускай возможность. – Конфуций.» Необходимо получить список(без знаков препинания) отдельных слов и вывести его (список). Затем необходимо вывести все слова в обратном порядке, не изменяя список."
   ]
  },
  {
   "cell_type": "code",
   "execution_count": 2,
   "metadata": {
    "colab": {
     "base_uri": "https://localhost:8080/",
     "height": 88
    },
    "colab_type": "code",
    "id": "kROu4Mh6VD4T",
    "outputId": "861dd67e-d5ae-405c-e88c-3cc71d2dbad2"
   },
   "outputs": [
    {
     "name": "stdout",
     "output_type": "stream",
     "text": [
      "Три вещи никогда не возвращаются обратно   время  слово  возможность  Поэтому  не теряй времени  выбирай слова  не упускай возможность     Конфуций \n",
      "Список: ['Три', 'вещи', 'никогда', 'не', 'возвращаются', 'обратно', 'время', 'слово', 'возможность', 'Поэтому', 'не', 'теряй', 'времени', 'выбирай', 'слова', 'не', 'упускай', 'возможность', 'Конфуций']\n",
      "Слова в обратном порядке: ['ирТ', 'ищев', 'адгокин', 'ен', 'ястюащарвзов', 'онтарбо', 'ямерв', 'оволс', 'ьтсонжомзов', 'умотэоП', 'ен', 'йярет', 'инемерв', 'йарибыв', 'аволс', 'ен', 'йаксупу', 'ьтсонжомзов', 'йицуфноК']\n"
     ]
    }
   ],
   "source": [
    "#напишите ваше решение сюда\n",
    "st=('Три вещи никогда не возвращаются обратно - время, слово, возможность. Поэтому: не теряй времени, выбирай слова, не упускай возможность . - Конфуций.')\n",
    "aa=[';','!',',','.','$','-',':']\n",
    "for i in range (len(aa)):\n",
    "    st=st.replace(aa[i],' ')\n",
    "print(st)\n",
    "list_=[]\n",
    "listReverse=[]\n",
    "b=''\n",
    "a=0\n",
    "c=''\n",
    "for i in st:\n",
    "    if(i!=' '):\n",
    "        b+=i\n",
    "        c=''\n",
    "    elif(i==' ' and i!=c):\n",
    "        listReverse.append(b[::-1])\n",
    "        list_.append(b)\n",
    "        a+=1\n",
    "        b=''\n",
    "        c=' '\n",
    "print('Список:',list_)\n",
    "print('Слова в обратном порядке:',listReverse)\n"
   ]
  },
  {
   "cell_type": "markdown",
   "metadata": {
    "colab_type": "text",
    "id": "zGXD5z6uVD4W"
   },
   "source": [
    "# Задача 3\n",
    "Найти самое длинное и самое короткое слово в листе. (лист использовать из предыдущей задачи)"
   ]
  },
  {
   "cell_type": "code",
   "execution_count": 4,
   "metadata": {
    "colab": {
     "base_uri": "https://localhost:8080/",
     "height": 88
    },
    "colab_type": "code",
    "id": "lMSU7j1GVD4X",
    "outputId": "ff917fc8-68b8-4b00-f923-72c72695ab8d"
   },
   "outputs": [
    {
     "name": "stdout",
     "output_type": "stream",
     "text": [
      "Лист:  ['Три', 'вещи', 'никогда', 'не', 'возвращаются', 'обратно', 'время', 'слово', 'возможность', 'Поэтому', 'не', 'теряй', 'времени', 'выбирай', 'слова', 'не', 'упускай', 'возможность', 'Конфуций']\n",
      "Самое длинное слово: возвращаются\n",
      "Самое короткое слово: не\n"
     ]
    }
   ],
   "source": [
    "#напишите ваше решение сюда\n",
    "st=('Три вещи никогда не возвращаются обратно - время, слово, возможность. Поэтому: не теряй времени, выбирай слова, не упускай возможность. - Конфуций.')\n",
    "aa=[';','!',',','.','$','-',':']\n",
    "for i in range (len(aa)):\n",
    "    st=st.replace(aa[i],' ')\n",
    "list_=[]\n",
    "listReverse=[]\n",
    "b=''\n",
    "a=0\n",
    "c=''\n",
    "d=''\n",
    "f=''\n",
    "for i in st:\n",
    "    if(i!=' '):\n",
    "        b+=i\n",
    "        c=''\n",
    "    elif(i==' ' and i!=c):\n",
    "        list_.append(b)\n",
    "        a+=1\n",
    "        b=''\n",
    "        c=' '\n",
    "f=list_[0]\n",
    "print(\"Лист: \",list_)\n",
    "for i in range(len(list_)):\n",
    "  if len(list_[i])>len(d):\n",
    "        d=list_[i]\n",
    "  if len(list_[i])<len(f):\n",
    "        f=list_[i]\n",
    "print(\"Самое длинное слово:\",d)\n",
    "print(\"Самое короткое слово:\",f)"
   ]
  },
  {
   "cell_type": "markdown",
   "metadata": {
    "colab_type": "text",
    "id": "aVKyKq4qVD4a"
   },
   "source": [
    "# Задача 4\n",
    "Найти максимальное  число из списка, которое делится на 7 без остатка. [random list]. Если такого нет, то вывести сообщение об этом."
   ]
  },
  {
   "cell_type": "code",
   "execution_count": 2,
   "metadata": {
    "colab": {
     "base_uri": "https://localhost:8080/",
     "height": 51
    },
    "colab_type": "code",
    "id": "n8oMyg96VD4c",
    "outputId": "b77c5e24-3e3e-424b-d65f-5e1d1d146396"
   },
   "outputs": [
    {
     "name": "stdout",
     "output_type": "stream",
     "text": [
      "[48, 95, 71, 59, 51, 88, 38, 22, 12, 67]\n",
      "Нет числа, делющегося на 7 без остатка\n"
     ]
    }
   ],
   "source": [
    "#напишите ваше решение сюда\n",
    "import random\n",
    "a=0\n",
    "random_list=[random.randint(0,100) for i in range(10)]\n",
    "print(random_list)\n",
    "for i in random_list:\n",
    "    if (i%7==0 and i>a):\n",
    "        a=i\n",
    "if (a!=0):\n",
    "    print(\"Максимальное число:\",a)\n",
    "else:\n",
    "    print(\"Нет числа, делющегося на 7 без остатка\")"
   ]
  },
  {
   "cell_type": "markdown",
   "metadata": {
    "colab_type": "text",
    "id": "UC5rpZoHVD4g"
   },
   "source": [
    "# Задача 5\n",
    "Дан лист кортежей L=[(«Иван», 24), («Марина», 44), («Виолетта», 6), («Александр», 30), («Виталик», 25)] Необходимо отсортировать список по возрасту."
   ]
  },
  {
   "cell_type": "code",
   "execution_count": 3,
   "metadata": {
    "colab": {
     "base_uri": "https://localhost:8080/",
     "height": 119
    },
    "colab_type": "code",
    "id": "tH2Tzgq4VD4h",
    "outputId": "380442c4-8888-4025-a529-1a5ea7120635"
   },
   "outputs": [
    {
     "name": "stdout",
     "output_type": "stream",
     "text": [
      "('Виолетта', 6)\n",
      "('Иван', 24)\n",
      "('Виталик', 25)\n",
      "('Александр', 30)\n",
      "Ответ: [('Виолетта', 6), ('Иван', 24), ('Виталик', 25), ('Александр', 30)]\n"
     ]
    }
   ],
   "source": [
    "#напишите ваше решение сюда\n",
    "L=[(\"Иван\", 24), (\"Марина\", 44), (\"Виолетта\", 6), (\"Александр\", 30), (\"Виталик\", 25)]\n",
    "list_=[]\n",
    "for i in range(1,45):\n",
    "    for a in L:\n",
    "        if a[1]==i:\n",
    "            print(a)\n",
    "            list_.append(a)\n",
    "print('Ответ:',list_)"
   ]
  },
  {
   "cell_type": "markdown",
   "metadata": {
    "colab_type": "text",
    "id": "OogY3K46VD4k"
   },
   "source": [
    "# Задача 6 (по желанию, без учета баллов, для саморазвития)\n",
    "\n",
    "У вас есть девять цифр: 1, 2, …, 9. Именно в таком порядке. Вы можете вставлять между ними знаки «+», «-» или ничего. У вас будут получаться выражения вида 123+45-6+7+89. Найдите все из них, которые равны 100.\n"
   ]
  },
  {
   "cell_type": "code",
   "execution_count": 0,
   "metadata": {
    "colab": {},
    "colab_type": "code",
    "id": "-ikPZLuXVD4l"
   },
   "outputs": [],
   "source": [
    "#напишите ваше решение сюда\n"
   ]
  }
 ],
 "metadata": {
  "colab": {
   "name": "list and tuple homework clear.ipynb",
   "provenance": []
  },
  "kernelspec": {
   "display_name": "Python 3",
   "language": "python",
   "name": "python3"
  },
  "language_info": {
   "codemirror_mode": {
    "name": "ipython",
    "version": 3
   },
   "file_extension": ".py",
   "mimetype": "text/x-python",
   "name": "python",
   "nbconvert_exporter": "python",
   "pygments_lexer": "ipython3",
   "version": "3.7.1"
  }
 },
 "nbformat": 4,
 "nbformat_minor": 1
}

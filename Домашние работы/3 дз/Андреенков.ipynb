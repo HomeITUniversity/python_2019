{
 "cells": [
  {
   "cell_type": "markdown",
   "metadata": {
    "colab_type": "text",
    "id": "WLqbIhnXj2dD"
   },
   "source": [
    "# Домашняя работа по теме: Листы и кортежи"
   ]
  },
  {
   "cell_type": "markdown",
   "metadata": {
    "colab_type": "text",
    "id": "mhQLoFbvj2dE"
   },
   "source": [
    "#### Мягкий дедлайн: 2 октября 23:59\n",
    "#### Жесткий делайн: 9 октября 23:59\n",
    "\n",
    "Отправлять ваши решения на адрес: homeituniversity@gmail.com\n",
    "\n",
    "Тема письма: Python курс > ДЗ 3 > ФИО"
   ]
  },
  {
   "cell_type": "markdown",
   "metadata": {
    "colab_type": "text",
    "id": "nsZQxCACj2dF"
   },
   "source": [
    "# Задача 1\n",
    "Дан кортеж T=(2,10,5,33,43,1,1,23,4). Нужно получить список L=[1,1,2,4,5,10,23,33,43]"
   ]
  },
  {
   "cell_type": "code",
   "execution_count": 12,
   "metadata": {
    "colab": {
     "base_uri": "https://localhost:8080/",
     "height": 34
    },
    "colab_type": "code",
    "id": "OexC3WG5j2dG",
    "outputId": "1a486d49-e573-4396-9e1f-950da5a97af0"
   },
   "outputs": [
    {
     "name": "stdout",
     "output_type": "stream",
     "text": [
      "[1, 1, 2, 4, 5, 10, 23, 33, 43]\n"
     ]
    }
   ],
   "source": [
    "T= (2,10,5,33,43,1,1,23,4)\n",
    "L=[]\n",
    "for i in T:\n",
    "  L.append(i)\n",
    "L.sort()\n",
    "print(L)"
   ]
  },
  {
   "cell_type": "markdown",
   "metadata": {
    "colab_type": "text",
    "id": "zFrAyOQ2j2dI"
   },
   "source": [
    "# Задача 2\n",
    "Дана строка «Три вещи никогда не возвращаются обратно — время, слово, возможность. Поэтому: не теряй времени, выбирай слова, не упускай возможность. – Конфуций.» Необходимо получить список(без знаков препинания) отдельных слов и вывести его (список). Затем необходимо вывести все слова в обратном порядке, не изменяя список."
   ]
  },
  {
   "cell_type": "code",
   "execution_count": 0,
   "metadata": {
    "colab": {},
    "colab_type": "code",
    "id": "3mO_LuiJj2dJ"
   },
   "outputs": [],
   "source": [
    "#напишите ваше решение сюда\n"
   ]
  },
  {
   "cell_type": "markdown",
   "metadata": {
    "colab_type": "text",
    "id": "DiDkF8T-j2dK"
   },
   "source": [
    "# Задача 3\n",
    "Найти самое длинное и самое короткое слово в листе. (лист использовать из предыдущей задачи)"
   ]
  },
  {
   "cell_type": "code",
   "execution_count": 0,
   "metadata": {
    "colab": {},
    "colab_type": "code",
    "id": "q7UfQjmrj2dL"
   },
   "outputs": [],
   "source": [
    "#напишите ваше решение сюда\n"
   ]
  },
  {
   "cell_type": "markdown",
   "metadata": {
    "colab_type": "text",
    "id": "0B6Y7sp3j2dN"
   },
   "source": [
    "# Задача 4\n",
    "Найти максимальное  число из списка, которое делится на 7 без остатка. [random list]. Если такого нет, то вывести сообщение об этом."
   ]
  },
  {
   "cell_type": "code",
   "execution_count": 12,
   "metadata": {
    "colab": {
     "base_uri": "https://localhost:8080/",
     "height": 51
    },
    "colab_type": "code",
    "id": "ETjVKWwwj2dN",
    "outputId": "48307122-807b-4da5-d37c-c4fded3c360d"
   },
   "outputs": [
    {
     "name": "stdout",
     "output_type": "stream",
     "text": [
      "[41, 54, 8, 27, 29, 69, 59, 9, 96, 15]\n",
      "Нет числа, которое делится на 3 без остатка\n"
     ]
    }
   ],
   "source": [
    "#напишите ваше решение сюда\n",
    "import random\n",
    "m=0\n",
    "random_list=[random.randint(0, 100) for i in range (10)]\n",
    "print(random_list)\n",
    "for i in random_list:\n",
    "    if (i%7 == 0 and i > m):\n",
    "        m = i\n",
    "if (m != 0):\n",
    "    print ('Максимальное число:' , m)\n",
    "else:\n",
    "    print ('Нет числа, которое делится на 3 без остатка')"
   ]
  },
  {
   "cell_type": "markdown",
   "metadata": {
    "colab_type": "text",
    "id": "6Bzbyk4Bj2dQ"
   },
   "source": [
    "# Задача 5\n",
    "Дан лист кортежей L=[(«Иван», 24), («Марина», 44), («Виолетта», 6), («Александр», 30), («Виталик», 25)] Необходимо отсортировать список по возрасту."
   ]
  },
  {
   "cell_type": "code",
   "execution_count": 13,
   "metadata": {
    "colab": {
     "base_uri": "https://localhost:8080/",
     "height": 34
    },
    "colab_type": "code",
    "id": "B0IT1l6Bj2dR",
    "outputId": "85b4dabe-063f-46f9-f564-9d23403d5777"
   },
   "outputs": [
    {
     "name": "stdout",
     "output_type": "stream",
     "text": [
      "[('Виолетта', 6), ('Иван', 24), ('Виталик', 25), ('Александр', 30)]\n"
     ]
    }
   ],
   "source": [
    "\n",
    "L=[(\"Иван\", 24), (\"Марина\", 47), (\"Виолетта\", 6), (\"Александр\", 30), (\"Виталик\", 25)]\n",
    "list=[]\n",
    "for i in range(1,45):\n",
    "  for a in L:\n",
    "    if a[1]==i:\n",
    "      list.append(a)\n",
    "print(list)\n",
    "      "
   ]
  },
  {
   "cell_type": "markdown",
   "metadata": {
    "colab_type": "text",
    "id": "nkL-emDhj2dS"
   },
   "source": [
    "# Задача 6 (по желанию, без учета баллов, для саморазвития)\n",
    "\n",
    "У вас есть девять цифр: 1, 2, …, 9. Именно в таком порядке. Вы можете вставлять между ними знаки «+», «-» или ничего. У вас будут получаться выражения вида 123+45-6+7+89. Найдите все из них, которые равны 100.\n"
   ]
  },
  {
   "cell_type": "code",
   "execution_count": 0,
   "metadata": {
    "colab": {},
    "colab_type": "code",
    "id": "Md3ZnRX-j2dT"
   },
   "outputs": [],
   "source": [
    "#напишите ваше решение сюда\n"
   ]
  }
 ],
 "metadata": {
  "colab": {
   "collapsed_sections": [],
   "name": "list and tuple homework clear.ipynb",
   "provenance": []
  },
  "kernelspec": {
   "display_name": "Python 3",
   "language": "python",
   "name": "python3"
  },
  "language_info": {
   "codemirror_mode": {
    "name": "ipython",
    "version": 3
   },
   "file_extension": ".py",
   "mimetype": "text/x-python",
   "name": "python",
   "nbconvert_exporter": "python",
   "pygments_lexer": "ipython3",
   "version": "3.7.1"
  }
 },
 "nbformat": 4,
 "nbformat_minor": 1
}

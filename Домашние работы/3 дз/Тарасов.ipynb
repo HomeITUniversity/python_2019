{
  "nbformat": 4,
  "nbformat_minor": 0,
  "metadata": {
    "kernelspec": {
      "display_name": "Python 3",
      "language": "python",
      "name": "python3"
    },
    "language_info": {
      "codemirror_mode": {
        "name": "ipython",
        "version": 3
      },
      "file_extension": ".py",
      "mimetype": "text/x-python",
      "name": "python",
      "nbconvert_exporter": "python",
      "pygments_lexer": "ipython3",
      "version": "3.7.1"
    },
    "colab": {
      "name": "list and tuple homework clear.ipynb",
      "provenance": []
    }
  },
  "cells": [
    {
      "cell_type": "markdown",
      "metadata": {
        "id": "xm2fjhVShUNM",
        "colab_type": "text"
      },
      "source": [
        "# Домашняя работа по теме: Листы и кортежи"
      ]
    },
    {
      "cell_type": "markdown",
      "metadata": {
        "id": "W6qjhGqXhUNM",
        "colab_type": "text"
      },
      "source": [
        "#### Мягкий дедлайн: 2 октября 23:59\n",
        "#### Жесткий делайн: 9 октября 23:59\n",
        "\n",
        "Отправлять ваши решения на адрес: homeituniversity@gmail.com\n",
        "\n",
        "Тема письма: Python курс > ДЗ 3 > ФИО"
      ]
    },
    {
      "cell_type": "markdown",
      "metadata": {
        "id": "N4gscywbhUNN",
        "colab_type": "text"
      },
      "source": [
        "# Задача 1\n",
        "Дан кортеж T=(2,10,5,33,43,1,1,23,4). Нужно получить список L=[1,1,2,4,5,10,23,33,43]"
      ]
    },
    {
      "cell_type": "code",
      "metadata": {
        "id": "HqNIh_pqhUNO",
        "colab_type": "code",
        "colab": {
          "base_uri": "https://localhost:8080/",
          "height": 33
        },
        "outputId": "9af696c4-f101-4654-c8ef-2bd331be3e11"
      },
      "source": [
        "#напишите ваше решение сюда\n",
        "T=(2,10,5,33,43,1,1,23,4)\n",
        "L=list(T)\n",
        "L.sort()\n",
        "print(L)"
      ],
      "execution_count": 153,
      "outputs": [
        {
          "output_type": "stream",
          "text": [
            "[1, 1, 2, 4, 5, 10, 23, 33, 43]\n"
          ],
          "name": "stdout"
        }
      ]
    },
    {
      "cell_type": "markdown",
      "metadata": {
        "id": "xujOE9nzhUNQ",
        "colab_type": "text"
      },
      "source": [
        "# Задача 2\n",
        "Дана строка «Три вещи никогда не возвращаются обратно — время, слово, возможность. Поэтому: не теряй времени, выбирай слова, не упускай возможность. – Конфуций.» Необходимо получить список(без знаков препинания) отдельных слов и вывести его (список). Затем необходимо вывести все слова в обратном порядке, не изменяя список."
      ]
    },
    {
      "cell_type": "code",
      "metadata": {
        "id": "mQWpZPOOhUNQ",
        "colab_type": "code",
        "colab": {
          "base_uri": "https://localhost:8080/",
          "height": 50
        },
        "outputId": "92a258e6-964e-4aae-8d4c-9dfe19952595"
      },
      "source": [
        "#напишите ваше решение сюда\n",
        "str = 'Три вещи никогда не возвращаются обратно — время, слово, возможность. Поэтому: не теряй времени, выбирай слова, не упускай возможность. – Конфуций.'\n",
        "\n",
        "str = str.replace(',','').replace('-','').replace('.','').replace(':','').replace('– ','').replace('— ','')\n",
        "s = str.split(' ')\n",
        "print(s)\n",
        "print(s[::-1])\n"
      ],
      "execution_count": 154,
      "outputs": [
        {
          "output_type": "stream",
          "text": [
            "['Три', 'вещи', 'никогда', 'не', 'возвращаются', 'обратно', 'время', 'слово', 'возможность', 'Поэтому', 'не', 'теряй', 'времени', 'выбирай', 'слова', 'не', 'упускай', 'возможность', 'Конфуций']\n",
            "['Конфуций', 'возможность', 'упускай', 'не', 'слова', 'выбирай', 'времени', 'теряй', 'не', 'Поэтому', 'возможность', 'слово', 'время', 'обратно', 'возвращаются', 'не', 'никогда', 'вещи', 'Три']\n"
          ],
          "name": "stdout"
        }
      ]
    },
    {
      "cell_type": "markdown",
      "metadata": {
        "id": "mfafwCjDhUNS",
        "colab_type": "text"
      },
      "source": [
        "# Задача 3\n",
        "Найти самое длинное и самое короткое слово в листе. (лист использовать из предыдущей задачи)"
      ]
    },
    {
      "cell_type": "code",
      "metadata": {
        "id": "4KEOvWCghUNT",
        "colab_type": "code",
        "colab": {
          "base_uri": "https://localhost:8080/",
          "height": 33
        },
        "outputId": "b55b240c-79da-49ca-b90a-60739e3e4093"
      },
      "source": [
        "#напишите ваше решение сюда\n",
        "id_max = 0\n",
        "id_min = 0\n",
        "for i in range(1,len(s)):\n",
        "  if len(s[id_max]) < len(s[i]):\n",
        "        id_max = i\n",
        "  if len(s[id_min]) > len(s[i]):\n",
        "        id_min = i\n",
        "      \n",
        "print ('Max:',s[id_max], ' Min:', s[id_min])"
      ],
      "execution_count": 155,
      "outputs": [
        {
          "output_type": "stream",
          "text": [
            "Max: возвращаются  Min: не\n"
          ],
          "name": "stdout"
        }
      ]
    },
    {
      "cell_type": "markdown",
      "metadata": {
        "id": "06O9LcfZhUNV",
        "colab_type": "text"
      },
      "source": [
        "# Задача 4\n",
        "Найти максимальное  число из списка, которое делится на 7 без остатка. [random list]. Если такого нет, то вывести сообщение об этом."
      ]
    },
    {
      "cell_type": "code",
      "metadata": {
        "id": "a39DB2y5hUNW",
        "colab_type": "code",
        "colab": {
          "base_uri": "https://localhost:8080/",
          "height": 50
        },
        "outputId": "241afc26-dadb-4708-81b3-59b079a384f9"
      },
      "source": [
        "#напишите ваше решение сюда\n",
        "import random\n",
        "random_list = [random.randint(0, 100) for i in range(10)]\n",
        "print(random_list)\n",
        "\n",
        "id = 0\n",
        "for i in range(len(random_list)):\n",
        "  if random_list[id] < random_list[i]:\n",
        "        id = i \n",
        "if random_list[id] % 7 == 0:\n",
        "  print(random_list[id])\n",
        "else:\n",
        "  print ('NONE')"
      ],
      "execution_count": 158,
      "outputs": [
        {
          "output_type": "stream",
          "text": [
            "[93, 85, 7, 98, 75, 66, 93, 15, 54, 12]\n",
            "98\n"
          ],
          "name": "stdout"
        }
      ]
    },
    {
      "cell_type": "markdown",
      "metadata": {
        "id": "y_9ttdOHhUNY",
        "colab_type": "text"
      },
      "source": [
        "# Задача 5\n",
        "Дан лист кортежей L=[(«Иван», 24), («Марина», 44), («Виолетта», 6), («Александр», 30), («Виталик», 25)] Необходимо отсортировать список по возрасту."
      ]
    },
    {
      "cell_type": "code",
      "metadata": {
        "id": "arluMCHVhUNZ",
        "colab_type": "code",
        "colab": {
          "base_uri": "https://localhost:8080/",
          "height": 33
        },
        "outputId": "778122ea-b224-44e7-f1f5-3d85a1220431"
      },
      "source": [
        "#напишите ваше решение сюда\n",
        "L=[(\"Иван\", 24), (\"Марина\", 44), (\"Виолетта\", 6), (\"Александр\", 30), (\"Виталик\", 25)]\n",
        "\n",
        "s = []\n",
        "t = 0\n",
        "for i, y in L:\n",
        "  if t == 0:\n",
        "    t = y\n",
        "  elif t < y:\n",
        "    t = y\n",
        "for x in range(1, t+1):\n",
        "    for c in L:\n",
        "        if c[1] == x:\n",
        "          s.append(c)\n",
        "print(s)"
      ],
      "execution_count": 166,
      "outputs": [
        {
          "output_type": "stream",
          "text": [
            "[('Виолетта', 6), ('Иван', 24), ('Виталик', 25), ('Александр', 30), ('Марина', 44)]\n"
          ],
          "name": "stdout"
        }
      ]
    },
    {
      "cell_type": "markdown",
      "metadata": {
        "id": "S6NDkxWmhUNa",
        "colab_type": "text"
      },
      "source": [
        "# Задача 6 (по желанию, без учета баллов, для саморазвития)\n",
        "\n",
        "У вас есть девять цифр: 1, 2, …, 9. Именно в таком порядке. Вы можете вставлять между ними знаки «+», «-» или ничего. У вас будут получаться выражения вида 123+45-6+7+89. Найдите все из них, которые равны 100.\n"
      ]
    },
    {
      "cell_type": "code",
      "metadata": {
        "id": "dqQOhwochUNb",
        "colab_type": "code",
        "colab": {}
      },
      "source": [
        "#напишите ваше решение сюда\n"
      ],
      "execution_count": 0,
      "outputs": []
    }
  ]
}
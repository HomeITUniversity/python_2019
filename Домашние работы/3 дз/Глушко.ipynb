{
  "nbformat": 4,
  "nbformat_minor": 0,
  "metadata": {
    "kernelspec": {
      "display_name": "Python 3",
      "language": "python",
      "name": "python3"
    },
    "language_info": {
      "codemirror_mode": {
        "name": "ipython",
        "version": 3
      },
      "file_extension": ".py",
      "mimetype": "text/x-python",
      "name": "python",
      "nbconvert_exporter": "python",
      "pygments_lexer": "ipython3",
      "version": "3.7.1"
    },
    "colab": {
      "name": "list and tuple homework clear.ipynb",
      "provenance": [],
      "collapsed_sections": []
    }
  },
  "cells": [
    {
      "cell_type": "markdown",
      "metadata": {
        "id": "RjGot9FLEFSy",
        "colab_type": "text"
      },
      "source": [
        "# Домашняя работа по теме: Листы и кортежи"
      ]
    },
    {
      "cell_type": "markdown",
      "metadata": {
        "id": "3Wc3zvFJEFSz",
        "colab_type": "text"
      },
      "source": [
        "#### Мягкий дедлайн: 2 октября 23:59\n",
        "#### Жесткий делайн: 9 октября 23:59\n",
        "\n",
        "Отправлять ваши решения на адрес: homeituniversity@gmail.com\n",
        "\n",
        "Тема письма: Python курс > ДЗ 3 > ФИО"
      ]
    },
    {
      "cell_type": "markdown",
      "metadata": {
        "id": "ol2DyeHGEFS0",
        "colab_type": "text"
      },
      "source": [
        "# Задача 1\n",
        "Дан кортеж T=(2,10,5,33,43,1,1,23,4). Нужно получить список L=[1,1,2,4,5,10,23,33,43]"
      ]
    },
    {
      "cell_type": "code",
      "metadata": {
        "id": "bKx9lF5VEFS1",
        "colab_type": "code",
        "colab": {
          "base_uri": "https://localhost:8080/",
          "height": 34
        },
        "outputId": "d74fcd75-2ab1-4a09-baae-fe95453ca7b7"
      },
      "source": [
        "#напишите ваше решение сюда\n",
        "T=(2,10,5,33,43,1,1,23,4)\n",
        "\n",
        "a = list(T)\n",
        "a.sort()\n",
        "print(a)"
      ],
      "execution_count": 1,
      "outputs": [
        {
          "output_type": "stream",
          "text": [
            "[1, 1, 2, 4, 5, 10, 23, 33, 43]\n"
          ],
          "name": "stdout"
        }
      ]
    },
    {
      "cell_type": "markdown",
      "metadata": {
        "id": "CLs1lAmIEFS4",
        "colab_type": "text"
      },
      "source": [
        "# Задача 2\n",
        "Дана строка «Три вещи никогда не возвращаются обратно — время, слово, возможность. Поэтому: не теряй времени, выбирай слова, не упускай возможность. – Конфуций.» Необходимо получить список(без знаков препинания) отдельных слов и вывести его (список). Затем необходимо вывести все слова в обратном порядке, не изменяя список."
      ]
    },
    {
      "cell_type": "code",
      "metadata": {
        "id": "s_FpIM7oEFS5",
        "colab_type": "code",
        "colab": {
          "base_uri": "https://localhost:8080/",
          "height": 394
        },
        "outputId": "3cdeb696-c03c-48be-b003-e51ba94c2b28"
      },
      "source": [
        "#напишите ваше решение сюда\n",
        "\n",
        "a = 'Три вещи никогда не возвращаются обратно — время, слово, возможность. Поэтому: не теряй времени, выбирай слова, не упускай возможность. – Конфуций.'\n",
        "b = ''\n",
        "for i in a:\n",
        "  if i == ' ' or i.isalnum():\n",
        "    b += i\n",
        "\n",
        "while b.find('  ')>=0:\n",
        "  b = b.replace('  ',' ')\n",
        "  \n",
        "c = b.split(' ')\n",
        "print(c)\n",
        "c.reverse()\n",
        "print(c)\n",
        "for i in c:\n",
        "  print(i)"
      ],
      "execution_count": 16,
      "outputs": [
        {
          "output_type": "stream",
          "text": [
            "['Три', 'вещи', 'никогда', 'не', 'возвращаются', 'обратно', 'время', 'слово', 'возможность', 'Поэтому', 'не', 'теряй', 'времени', 'выбирай', 'слова', 'не', 'упускай', 'возможность', 'Конфуций']\n",
            "['Конфуций', 'возможность', 'упускай', 'не', 'слова', 'выбирай', 'времени', 'теряй', 'не', 'Поэтому', 'возможность', 'слово', 'время', 'обратно', 'возвращаются', 'не', 'никогда', 'вещи', 'Три']\n",
            "Конфуций\n",
            "возможность\n",
            "упускай\n",
            "не\n",
            "слова\n",
            "выбирай\n",
            "времени\n",
            "теряй\n",
            "не\n",
            "Поэтому\n",
            "возможность\n",
            "слово\n",
            "время\n",
            "обратно\n",
            "возвращаются\n",
            "не\n",
            "никогда\n",
            "вещи\n",
            "Три\n"
          ],
          "name": "stdout"
        }
      ]
    },
    {
      "cell_type": "markdown",
      "metadata": {
        "id": "eb_Yj1yQEFS7",
        "colab_type": "text"
      },
      "source": [
        "# Задача 3\n",
        "Найти самое длинное и самое короткое слово в листе. (лист использовать из предыдущей задачи)"
      ]
    },
    {
      "cell_type": "code",
      "metadata": {
        "id": "tXa4hKg0EFS8",
        "colab_type": "code",
        "colab": {
          "base_uri": "https://localhost:8080/",
          "height": 88
        },
        "outputId": "3dc060e9-3fb8-4b73-dfbf-147fa6bfe527"
      },
      "source": [
        "#напишите ваше решение сюда\n",
        "\n",
        "print(c)\n",
        "biggest=c[0]\n",
        "smallest=c[0]\n",
        "max_size=len(c[0])\n",
        "min_size=len(c[0])\n",
        "for i in c:\n",
        "  if max_size<len(i):\n",
        "    max_size=len(i)\n",
        "    biggest=i\n",
        "  if min_size>len(i):\n",
        "    min_size=len(i)\n",
        "    smallest=i\n",
        "print('Длинное: ',biggest, '\\nКороткое: ',smallest)"
      ],
      "execution_count": 18,
      "outputs": [
        {
          "output_type": "stream",
          "text": [
            "['Конфуций', 'возможность', 'упускай', 'не', 'слова', 'выбирай', 'времени', 'теряй', 'не', 'Поэтому', 'возможность', 'слово', 'время', 'обратно', 'возвращаются', 'не', 'никогда', 'вещи', 'Три']\n",
            "Длинное:  возвращаются \n",
            "Короткое:  не\n"
          ],
          "name": "stdout"
        }
      ]
    },
    {
      "cell_type": "markdown",
      "metadata": {
        "id": "ArVZLsMnEFS-",
        "colab_type": "text"
      },
      "source": [
        "# Задача 4\n",
        "Найти максимальное  число из списка, которое делится на 7 без остатка. [random list]. Если такого нет, то вывести сообщение об этом."
      ]
    },
    {
      "cell_type": "code",
      "metadata": {
        "id": "jR5dkraqEFS_",
        "colab_type": "code",
        "colab": {
          "base_uri": "https://localhost:8080/",
          "height": 51
        },
        "outputId": "cb46707b-5517-4c0c-da1e-6943f42c09d6"
      },
      "source": [
        "#напишите ваше решение сюда\n",
        "import random\n",
        "random_list = [random.randint(0, 100) for i in range(10)]\n",
        "print(random_list)\n",
        "random_list.sort(reverse=True)\n",
        "d = 0\n",
        "for i in random_list:\n",
        "  if i % 7 == 0:\n",
        "    print(i)\n",
        "    d += 1\n",
        "    break\n",
        "if d == 0:\n",
        "  print('No such numbners')"
      ],
      "execution_count": 26,
      "outputs": [
        {
          "output_type": "stream",
          "text": [
            "[97, 30, 46, 78, 20, 39, 92, 52, 69, 52]\n",
            "No such numbners\n"
          ],
          "name": "stdout"
        }
      ]
    },
    {
      "cell_type": "markdown",
      "metadata": {
        "id": "E3e5x0mQEFTC",
        "colab_type": "text"
      },
      "source": [
        "# Задача 5\n",
        "Дан лист кортежей L=[(«Иван», 24), («Марина», 44), («Виолетта», 6), («Александр», 30), («Виталик», 25)] Необходимо отсортировать список по возрасту."
      ]
    },
    {
      "cell_type": "code",
      "metadata": {
        "id": "nZz0OUe_EFTD",
        "colab_type": "code",
        "colab": {
          "base_uri": "https://localhost:8080/",
          "height": 34
        },
        "outputId": "d791840e-24ac-426f-896c-e952c38d68e5"
      },
      "source": [
        "#напишите ваше решение сюда\n",
        "L=[(\"Иван\", 24), (\"Марина\", 44), (\"Виолетта\", 6), (\"Александр\", 30), (\"Виталик\", 25)]\n",
        "for e in range(len(L)):\n",
        "  for i in range(len(L) - e - 1):\n",
        "    if L[i][1]>L[i+1][1]:\n",
        "      f = L[i]\n",
        "      L[i]=L[i + 1]\n",
        "      L[i+1] = f\n",
        "print(L)"
      ],
      "execution_count": 27,
      "outputs": [
        {
          "output_type": "stream",
          "text": [
            "[('Виолетта', 6), ('Иван', 24), ('Виталик', 25), ('Александр', 30), ('Марина', 44)]\n"
          ],
          "name": "stdout"
        }
      ]
    },
    {
      "cell_type": "markdown",
      "metadata": {
        "id": "W0DGIVIVEFTF",
        "colab_type": "text"
      },
      "source": [
        "# Задача 6 (по желанию, без учета баллов, для саморазвития)\n",
        "\n",
        "У вас есть девять цифр: 1, 2, …, 9. Именно в таком порядке. Вы можете вставлять между ними знаки «+», «-» или ничего. У вас будут получаться выражения вида 123+45-6+7+89. Найдите все из них, которые равны 100.\n"
      ]
    },
    {
      "cell_type": "code",
      "metadata": {
        "id": "Y7QK3laoEFTG",
        "colab_type": "code",
        "colab": {}
      },
      "source": [
        "#напишите ваше решение сюда\n",
        "Нинаю =)"
      ],
      "execution_count": 0,
      "outputs": []
    }
  ]
}
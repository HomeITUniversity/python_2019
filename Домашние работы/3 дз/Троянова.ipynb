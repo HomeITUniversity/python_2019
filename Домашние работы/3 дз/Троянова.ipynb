{
  "nbformat": 4,
  "nbformat_minor": 0,
  "metadata": {
    "kernelspec": {
      "display_name": "Python 3",
      "language": "python",
      "name": "python3"
    },
    "language_info": {
      "codemirror_mode": {
        "name": "ipython",
        "version": 3
      },
      "file_extension": ".py",
      "mimetype": "text/x-python",
      "name": "python",
      "nbconvert_exporter": "python",
      "pygments_lexer": "ipython3",
      "version": "3.7.1"
    },
    "colab": {
      "name": "list and tuple homework clear.ipynb",
      "provenance": [],
      "collapsed_sections": []
    }
  },
  "cells": [
    {
      "cell_type": "markdown",
      "metadata": {
        "id": "M3Li-CtvV-tu",
        "colab_type": "text"
      },
      "source": [
        "# Домашняя работа по теме: Листы и кортежи"
      ]
    },
    {
      "cell_type": "markdown",
      "metadata": {
        "id": "LV4L5OFPV-tw",
        "colab_type": "text"
      },
      "source": [
        "#### Мягкий дедлайн: 2 октября 23:59\n",
        "#### Жесткий делайн: 9 октября 23:59\n",
        "\n",
        "Отправлять ваши решения на адрес: homeituniversity@gmail.com\n",
        "\n",
        "Тема письма: Python курс > ДЗ 3 > ФИО"
      ]
    },
    {
      "cell_type": "markdown",
      "metadata": {
        "id": "kcYvEreZV-ty",
        "colab_type": "text"
      },
      "source": [
        "# Задача 1\n",
        "Дан кортеж T=(2,10,5,33,43,1,1,23,4). Нужно получить список L=[1,1,2,4,5,10,23,33,43]"
      ]
    },
    {
      "cell_type": "code",
      "metadata": {
        "id": "49Y9RfZ1V-t1",
        "colab_type": "code",
        "outputId": "71632e2d-91a1-45d7-c662-eb88e870b9a2",
        "colab": {
          "base_uri": "https://localhost:8080/",
          "height": 34
        }
      },
      "source": [
        "#напишите ваше решение сюда\n",
        "T=(2,10,5,33,43,1,1,23,4)\n",
        "L=sorted(T)\n",
        "print(L, type(L))"
      ],
      "execution_count": 0,
      "outputs": [
        {
          "output_type": "stream",
          "text": [
            "[1, 1, 2, 4, 5, 10, 23, 33, 43] <class 'list'>\n"
          ],
          "name": "stdout"
        }
      ]
    },
    {
      "cell_type": "markdown",
      "metadata": {
        "id": "1b__CZZjV-t8",
        "colab_type": "text"
      },
      "source": [
        "# Задача 2\n",
        "Дана строка «Три вещи никогда не возвращаются обратно — время, слово, возможность. Поэтому: не теряй времени, выбирай слова, не упускай возможность. – Конфуций.» Необходимо получить список(без знаков препинания) отдельных слов и вывести его (список). Затем необходимо вывести все слова в обратном порядке, не изменяя список."
      ]
    },
    {
      "cell_type": "code",
      "metadata": {
        "id": "diqu5f01V-t-",
        "colab_type": "code",
        "outputId": "7a3d1837-5950-48db-9b7b-d81bd30415bf",
        "colab": {
          "base_uri": "https://localhost:8080/",
          "height": 71
        }
      },
      "source": [
        "#напишите ваше решение сюда\n",
        "s='Три вещи никогда не возвращаются обратно — время, слово, возможность. Поэтому: не теряй времени, выбирай слова, не упускай возможность. – Конфуций.'\n",
        "prep=[',','.','–','—',':']\n",
        "for znak in prep:\n",
        "  s=s.replace(znak,'')\n",
        "s=s.replace('  ',' ')\n",
        "#print(s1, type(s1))\n",
        "l = s.split(\" \")\n",
        "print(l,type(l))\n",
        "print(l[::-1])"
      ],
      "execution_count": 12,
      "outputs": [
        {
          "output_type": "stream",
          "text": [
            "['Три', 'вещи', 'никогда', 'не', 'возвращаются', 'обратно', 'время', 'слово', 'возможность', 'Поэтому', 'не', 'теряй', 'времени', 'выбирай', 'слова', 'не', 'упускай', 'возможность', 'Конфуций'] <class 'list'>\n",
            "['Конфуций', 'возможность', 'упускай', 'не', 'слова', 'выбирай', 'времени', 'теряй', 'не', 'Поэтому', 'возможность', 'слово', 'время', 'обратно', 'возвращаются', 'не', 'никогда', 'вещи', 'Три']\n"
          ],
          "name": "stdout"
        }
      ]
    },
    {
      "cell_type": "markdown",
      "metadata": {
        "id": "w2DV0LsiV-uD",
        "colab_type": "text"
      },
      "source": [
        "# Задача 3\n",
        "Найти самое длинное и самое короткое слово в листе. (лист использовать из предыдущей задачи)"
      ]
    },
    {
      "cell_type": "code",
      "metadata": {
        "id": "zlnix-jeV-uE",
        "colab_type": "code",
        "outputId": "f4f59999-f162-46ee-ab39-104877816dc7",
        "colab": {
          "base_uri": "https://localhost:8080/",
          "height": 51
        }
      },
      "source": [
        "#напишите ваше решение сюда\n",
        "maxim=len(l[0])\n",
        "maxindex=0\n",
        "minim=len(l[0])\n",
        "minindex=0\n",
        "for i in range(len(l)):\n",
        "  if len(l[i]) > maxim:\n",
        "    maxim = len(l[i])\n",
        "    maxindex = i\n",
        "  if len(l[i]) < minim:\n",
        "    minim = len(l[i])\n",
        "    minindex = i\n",
        "print(f'Самое длинное слово: {l[maxindex]}\\nСамое короткое слово: {l[minindex]}')"
      ],
      "execution_count": 13,
      "outputs": [
        {
          "output_type": "stream",
          "text": [
            "Самое длинное слово: возвращаются\n",
            "Самое короткое слово: не\n"
          ],
          "name": "stdout"
        }
      ]
    },
    {
      "cell_type": "markdown",
      "metadata": {
        "id": "2s_GHxRgV-uI",
        "colab_type": "text"
      },
      "source": [
        "# Задача 4\n",
        "Найти максимальное  число из списка, которое делится на 7 без остатка. [random list]. Если такого нет, то вывести сообщение об этом."
      ]
    },
    {
      "cell_type": "code",
      "metadata": {
        "id": "4K4dyUN5V-uJ",
        "colab_type": "code",
        "outputId": "d0e9093f-81ad-4edc-8399-a5ed3b1cd598",
        "colab": {
          "base_uri": "https://localhost:8080/",
          "height": 51
        }
      },
      "source": [
        "#напишите ваше решение сюда\n",
        "import random\n",
        "random_list = [random.randint(0, 100) for i in range(10)]\n",
        "print(random_list)\n",
        "delimye=[]\n",
        "for i in random_list:\n",
        "  if i%7==0:\n",
        "    delimye.append(i)\n",
        "if len(delimye)>0:\n",
        "  print('Максимальное кратное 7: ',max(delimye))\n",
        "else:\n",
        "  print('Ни один элемент списка не кратен 7')"
      ],
      "execution_count": 40,
      "outputs": [
        {
          "output_type": "stream",
          "text": [
            "[82, 98, 43, 8, 84, 57, 24, 4, 84, 7]\n",
            "Максимальное кратное 7:  98\n"
          ],
          "name": "stdout"
        }
      ]
    },
    {
      "cell_type": "markdown",
      "metadata": {
        "id": "ivUDwAurV-uO",
        "colab_type": "text"
      },
      "source": [
        "# Задача 5\n",
        "Дан лист кортежей L=[(«Иван», 24), («Марина», 44), («Виолетта», 6), («Александр», 30), («Виталик», 25)] Необходимо отсортировать список по возрасту."
      ]
    },
    {
      "cell_type": "code",
      "metadata": {
        "id": "MzMymEA4V-uR",
        "colab_type": "code",
        "colab": {
          "base_uri": "https://localhost:8080/",
          "height": 34
        },
        "outputId": "43006e63-08c1-4042-dbb2-0284bdaa9a37"
      },
      "source": [
        "#напишите ваше решение сюда\n",
        "L=[(\"Иван\", 24), (\"Марина\", 44), (\"Виолетта\", 6), (\"Александр\", 30), (\"Виталик\", 25)]\n",
        "L.sort(key=lambda L: L[1])\n",
        "print(L)"
      ],
      "execution_count": 46,
      "outputs": [
        {
          "output_type": "stream",
          "text": [
            "[('Виолетта', 6), ('Иван', 24), ('Виталик', 25), ('Александр', 30), ('Марина', 44)]\n"
          ],
          "name": "stdout"
        }
      ]
    },
    {
      "cell_type": "markdown",
      "metadata": {
        "id": "kE_mEmgYV-uU",
        "colab_type": "text"
      },
      "source": [
        "# Задача 6 (по желанию, без учета баллов, для саморазвития)\n",
        "\n",
        "У вас есть девять цифр: 1, 2, …, 9. Именно в таком порядке. Вы можете вставлять между ними знаки «+», «-» или ничего. У вас будут получаться выражения вида 123+45-6+7+89. Найдите все из них, которые равны 100.\n"
      ]
    },
    {
      "cell_type": "code",
      "metadata": {
        "id": "ehovZi54V-uW",
        "colab_type": "code",
        "colab": {}
      },
      "source": [
        "#напишите ваше решение сюда\n",
        "print('за эту задачку отдельное спасибо!) Решаем всей семьей. Пока в процессе...')"
      ],
      "execution_count": 0,
      "outputs": []
    }
  ]
}
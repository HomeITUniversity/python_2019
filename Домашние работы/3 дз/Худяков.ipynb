{
  "nbformat": 4,
  "nbformat_minor": 0,
  "metadata": {
    "kernelspec": {
      "display_name": "Python 3",
      "language": "python",
      "name": "python3"
    },
    "language_info": {
      "codemirror_mode": {
        "name": "ipython",
        "version": 3
      },
      "file_extension": ".py",
      "mimetype": "text/x-python",
      "name": "python",
      "nbconvert_exporter": "python",
      "pygments_lexer": "ipython3",
      "version": "3.7.1"
    },
    "colab": {
      "name": "list and tuple homework clear.ipynb",
      "provenance": [],
      "collapsed_sections": []
    }
  },
  "cells": [
    {
      "cell_type": "markdown",
      "metadata": {
        "id": "gGXcD9VAkvU-",
        "colab_type": "text"
      },
      "source": [
        "# Домашняя работа по теме: Листы и кортежи"
      ]
    },
    {
      "cell_type": "markdown",
      "metadata": {
        "id": "BK8ZtqUUkvVC",
        "colab_type": "text"
      },
      "source": [
        "#### Мягкий дедлайн: 2 октября 23:59\n",
        "#### Жесткий делайн: 9 октября 23:59\n",
        "\n",
        "Отправлять ваши решения на адрес: homeituniversity@gmail.com\n",
        "\n",
        "Тема письма: Python курс > ДЗ 3 > ФИО"
      ]
    },
    {
      "cell_type": "markdown",
      "metadata": {
        "id": "H6Kn3ZQSkvVF",
        "colab_type": "text"
      },
      "source": [
        "# Задача 1\n",
        "Дан кортеж T=(2,10,5,33,43,1,1,23,4). Нужно получить список L=[1,1,2,4,5,10,23,33,43]"
      ]
    },
    {
      "cell_type": "code",
      "metadata": {
        "id": "DyJoBT-BkvVI",
        "colab_type": "code",
        "colab": {}
      },
      "source": [
        "#напишите ваше решение сюда\n",
        "T=(2,10,5,33,43,1,1,23,4)\n",
        "Tmp = list(T)\n",
        "L = sorted(Tmp)\n",
        "print(L)\n"
      ],
      "execution_count": 0,
      "outputs": []
    },
    {
      "cell_type": "markdown",
      "metadata": {
        "id": "yk1MmN7RkvVS",
        "colab_type": "text"
      },
      "source": [
        "# Задача 2\n",
        "Дана строка «Три вещи никогда не возвращаются обратно — время, слово, возможность. Поэтому: не теряй времени, выбирай слова, не упускай возможность. – Конфуций.» Необходимо получить список(без знаков препинания) отдельных слов и вывести его (список). Затем необходимо вывести все слова в обратном порядке, не изменяя список."
      ]
    },
    {
      "cell_type": "markdown",
      "metadata": {
        "id": "BJQO7e0EvwPh",
        "colab_type": "text"
      },
      "source": [
        "Итак: первое что делаю это создаю таблицу переводов maketrans, который переведу методу str.translate. (спасибо за литературы). С помощью этого уберем всю пунктуацию. Далее создадим список l и используем обратную сортировку. С"
      ]
    },
    {
      "cell_type": "code",
      "metadata": {
        "id": "UfPCsL7pkvVW",
        "colab_type": "code",
        "colab": {}
      },
      "source": [
        "#напишите ваше решение сюда\n",
        "import string\n",
        "translator = str.maketrans('', '', string.punctuation)\n",
        "s = \"Три вещи никогда не возвращаются обратно - время, слово, возможность. Поэтому: не теряй времени, выбирай слова, не упускай возможность. - Конфуций\"\n",
        "str = (s.translate(translator))\n",
        "l = str.split(\" \")\n",
        "l.reverse()\n",
        "print(l)\n",
        "\n",
        "\n",
        "\n"
      ],
      "execution_count": 0,
      "outputs": []
    },
    {
      "cell_type": "markdown",
      "metadata": {
        "id": "uuN_W1-ekvVa",
        "colab_type": "text"
      },
      "source": [
        "# Задача 3\n",
        "Найти самое длинное и самое короткое слово в листе. (лист использовать из предыдущей задачи)"
      ]
    },
    {
      "cell_type": "code",
      "metadata": {
        "id": "z0q_UNHGkvVb",
        "colab_type": "code",
        "colab": {}
      },
      "source": [
        "#напишите ваше решение сюда\n",
        "l = ['Конфуций', 'возможность',  'упускай', 'не', 'слова', 'выбирай', 'времени', 'теряй', 'не', 'Поэтому', 'возможность', 'слово', 'время', 'обратно', 'возвращаются', 'не', 'никогда', 'вещи', 'Три']\n",
        "longword = 0\n",
        "for i in range(1,len(l)):\n",
        "  if len(l[longword]) < len(l[i]):\n",
        "    longword = i\n",
        "    print(l[longword])\n",
        " "
      ],
      "execution_count": 0,
      "outputs": []
    },
    {
      "cell_type": "code",
      "metadata": {
        "id": "UrxSaSBQKZDE",
        "colab_type": "code",
        "colab": {}
      },
      "source": [
        "l = ['Конфуций', 'возможность',  'упускай', 'не', 'слова', 'выбирай', 'времени', 'теряй', 'не', 'Поэтому', 'возможность', 'слово', 'время', 'обратно', 'возвращаются', 'не', 'никогда', 'вещи', 'Три']\n",
        "longword = 0\n",
        "for i in range(1,len(l)):\n",
        "  if len(l[longword]) > len(l[i]):\n",
        "    longword = i\n",
        "    print(l[longword])"
      ],
      "execution_count": 0,
      "outputs": []
    },
    {
      "cell_type": "markdown",
      "metadata": {
        "id": "3rsRhszckvVi",
        "colab_type": "text"
      },
      "source": [
        "# Задача 4\n",
        "Найти максимальное  число из списка, которое делится на 7 без остатка. [random list]. Если такого нет, то вывести сообщение об этом."
      ]
    },
    {
      "cell_type": "code",
      "metadata": {
        "id": "b2uQtz3ekvVk",
        "colab_type": "code",
        "colab": {}
      },
      "source": [
        "#напишите ваше решение сюда\n",
        "import random\n",
        "random_list = [random.randint(0, 100) for i in range(10)]\n",
        "new_list = []\n",
        "for i in random_list:\n",
        "  if i%7 == 0:\n",
        "    new_list.append(i)\n",
        "    print(new_list)\n",
        "max(new_list)\n",
        "    \n",
        "\n",
        "\n",
        "\n",
        " \n",
        "\n",
        "     \n",
        "\n"
      ],
      "execution_count": 0,
      "outputs": []
    },
    {
      "cell_type": "markdown",
      "metadata": {
        "id": "Ut48wxnhkvVq",
        "colab_type": "text"
      },
      "source": [
        "# Задача 5\n",
        "Дан лист кортежей L=[(«Иван», 24), («Марина», 44), («Виолетта», 6), («Александр», 30), («Виталик», 25)] Необходимо отсортировать список по возрасту."
      ]
    },
    {
      "cell_type": "code",
      "metadata": {
        "id": "YkF9OQZKkvVr",
        "colab_type": "code",
        "colab": {}
      },
      "source": [
        "#напишите ваше решение сюда\n",
        "L=[(\"Иван\", 24), (\"Марина\", 44), (\"Виолетта\", 6), (\"Александр\", 30), (\"Виталик\", 25)]\n",
        "\n",
        "\n",
        "\n"
      ],
      "execution_count": 0,
      "outputs": []
    },
    {
      "cell_type": "markdown",
      "metadata": {
        "id": "_NG0qZFikvVu",
        "colab_type": "text"
      },
      "source": [
        "# Задача 6 (по желанию, без учета баллов, для саморазвития)\n",
        "\n",
        "У вас есть девять цифр: 1, 2, …, 9. Именно в таком порядке. Вы можете вставлять между ними знаки «+», «-» или ничего. У вас будут получаться выражения вида 123+45-6+7+89. Найдите все из них, которые равны 100.\n"
      ]
    },
    {
      "cell_type": "code",
      "metadata": {
        "id": "X6CEc1skkvVv",
        "colab_type": "code",
        "colab": {}
      },
      "source": [
        "#напишите ваше решение сюда\n"
      ],
      "execution_count": 0,
      "outputs": []
    }
  ]
}
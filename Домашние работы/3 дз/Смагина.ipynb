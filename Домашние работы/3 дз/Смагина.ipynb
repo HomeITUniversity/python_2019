{
  "nbformat": 4,
  "nbformat_minor": 0,
  "metadata": {
    "colab": {
      "name": "Smagina_HW_25.09.ipynb",
      "provenance": [],
      "collapsed_sections": []
    },
    "kernelspec": {
      "name": "python3",
      "display_name": "Python 3"
    }
  },
  "cells": [
    {
      "cell_type": "markdown",
      "metadata": {
        "id": "dKYidij9sxp3",
        "colab_type": "text"
      },
      "source": [
        "# ***ДЗ №3 от 25.09.19 Смагина Мария***"
      ]
    },
    {
      "cell_type": "markdown",
      "metadata": {
        "id": "7lmp3TwStSts",
        "colab_type": "text"
      },
      "source": [
        "# Задача 1 \n",
        "Дан кортеж T=(2,10,5,33,43,1,1,23,4). Нужно получить список L=[1,1,2,4,5,10,23,33,43]"
      ]
    },
    {
      "cell_type": "code",
      "metadata": {
        "id": "rXuUXphTsuw7",
        "colab_type": "code",
        "outputId": "77694f16-0f05-4f61-f5b5-d84490db0a2f",
        "colab": {
          "base_uri": "https://localhost:8080/",
          "height": 34
        }
      },
      "source": [
        "T = (2, 10, 5, 33, 43, 1, 1, 23, 4)\n",
        "L = sorted(list(T))\n",
        "print (L)"
      ],
      "execution_count": 0,
      "outputs": [
        {
          "output_type": "stream",
          "text": [
            "[1, 1, 2, 4, 5, 10, 23, 33, 43]\n"
          ],
          "name": "stdout"
        }
      ]
    },
    {
      "cell_type": "markdown",
      "metadata": {
        "id": "BR0aPbQxtb1V",
        "colab_type": "text"
      },
      "source": [
        "# Задача 2 \n",
        "Дана строка «Три вещи никогда не возвращаются обратно — время, слово, возможность. Поэтому: не теряй времени, выбирай слова, не упускай возможность. – Конфуций.» Необходимо получить список(без знаков препинания) отдельных слов и вывести его (список). Затем необходимо вывести все слова в обратном порядке, не изменяя список."
      ]
    },
    {
      "cell_type": "code",
      "metadata": {
        "id": "M_XhU88pdBX3",
        "colab_type": "code",
        "colab": {
          "base_uri": "https://localhost:8080/",
          "height": 71
        },
        "outputId": "b3be611c-e583-40d1-f9e1-ea7faeb4aa8f"
      },
      "source": [
        "s = \"Три вещи никогда не возвращаются обратно — время, слово, возможность. Поэтому: не теряй времени, выбирай слова, не упускай возможность. – Конфуций.\"\n",
        "l = ''.join((c if c.isalpha() else ' ') for c in s).split()\n",
        "print(l)\n",
        "print(l[::-1])"
      ],
      "execution_count": 29,
      "outputs": [
        {
          "output_type": "stream",
          "text": [
            "['Три', 'вещи', 'никогда', 'не', 'возвращаются', 'обратно', 'время', 'слово', 'возможность', 'Поэтому', 'не', 'теряй', 'времени', 'выбирай', 'слова', 'не', 'упускай', 'возможность', 'Конфуций']\n",
            "['Конфуций', 'возможность', 'упускай', 'не', 'слова', 'выбирай', 'времени', 'теряй', 'не', 'Поэтому', 'возможность', 'слово', 'время', 'обратно', 'возвращаются', 'не', 'никогда', 'вещи', 'Три']\n"
          ],
          "name": "stdout"
        }
      ]
    },
    {
      "cell_type": "markdown",
      "metadata": {
        "id": "btKeEAnvtcnU",
        "colab_type": "text"
      },
      "source": [
        "# Задача 3 \n",
        "Найти самое длинное и самое короткое слово в листе. (лист использовать из предыдущей задачи)"
      ]
    },
    {
      "cell_type": "code",
      "metadata": {
        "id": "-2WyNUUhfILa",
        "colab_type": "code",
        "colab": {
          "base_uri": "https://localhost:8080/",
          "height": 51
        },
        "outputId": "a26ec107-9d02-456b-fa34-7bf61b34e034"
      },
      "source": [
        "s = \"Три вещи никогда не возвращаются обратно — время, слово, возможность. Поэтому: не теряй времени, выбирай слова, не упускай возможность. – Конфуций.\"\n",
        "l = ''.join((c if c.isalpha() else ' ') for c in s).split()\n",
        "print(max(l, key=len))\n",
        "print(min(l, key=len))\n"
      ],
      "execution_count": 41,
      "outputs": [
        {
          "output_type": "stream",
          "text": [
            "возвращаются\n",
            "не\n"
          ],
          "name": "stdout"
        }
      ]
    },
    {
      "cell_type": "markdown",
      "metadata": {
        "id": "g5AEj340tc_P",
        "colab_type": "text"
      },
      "source": [
        "# Задача 4\n",
        "Найти максимальное число из списка, которое делится на 7 без остатка. [random list]. Если такого нет, то вывести сообщение об этом."
      ]
    },
    {
      "cell_type": "code",
      "metadata": {
        "id": "OFitppJTHkAU",
        "colab_type": "code",
        "colab": {
          "base_uri": "https://localhost:8080/",
          "height": 51
        },
        "outputId": "785d79fe-b492-4aa0-c9b5-af3abb0ccf07"
      },
      "source": [
        "import random\n",
        "random_list = [random.randint(0, 100) for i in range(10)]\n",
        "print(random_list)\n",
        "for i in random_list[1:]:\n",
        "    list7 = [i for i in random_list if i % 7 == 0]\n",
        "\n",
        "if len(list7) == 0:\n",
        "    print('нет такого')\n",
        "if len(list7) != 0:    \n",
        "    print(max(list7))"
      ],
      "execution_count": 152,
      "outputs": [
        {
          "output_type": "stream",
          "text": [
            "[34, 58, 52, 25, 79, 52, 63, 68, 47, 21]\n",
            "63\n"
          ],
          "name": "stdout"
        }
      ]
    },
    {
      "cell_type": "markdown",
      "metadata": {
        "id": "PGJbGur0tdXK",
        "colab_type": "text"
      },
      "source": [
        "# Задача 5 \n",
        "Дан лист кортежей L=[(«Иван», 24), («Марина», 44), («Виолетта», 6), («Александр», 30), («Виталик», 25)] Необходимо отсортировать список по возрасту."
      ]
    },
    {
      "cell_type": "code",
      "metadata": {
        "id": "khdJsIf0tdiq",
        "colab_type": "code",
        "outputId": "11e0b1c9-601d-4f11-c0a0-ea2f2ad6b6ea",
        "colab": {
          "base_uri": "https://localhost:8080/",
          "height": 102
        }
      },
      "source": [
        "L = [(\"Иван\", 24), (\"Марина\", 44), (\"Виолетта\", 6), (\"Александр\", 30), (\"Виталик\", 25)]\n",
        "for i in range(1, 100):\n",
        "    for name in L:\n",
        "        if name[1] == i:\n",
        "            print(name[0])"
      ],
      "execution_count": 0,
      "outputs": [
        {
          "output_type": "stream",
          "text": [
            "Виолетта\n",
            "Иван\n",
            "Виталик\n",
            "Александр\n",
            "Марина\n"
          ],
          "name": "stdout"
        }
      ]
    },
    {
      "cell_type": "markdown",
      "metadata": {
        "id": "6vCjB0dwKrjJ",
        "colab_type": "text"
      },
      "source": [
        "или"
      ]
    },
    {
      "cell_type": "code",
      "metadata": {
        "id": "gkWghn1NIISY",
        "colab_type": "code",
        "outputId": "264f98e0-f494-48b6-959d-cd2d8b3f33e3",
        "colab": {
          "base_uri": "https://localhost:8080/",
          "height": 34
        }
      },
      "source": [
        "L = [(\"Иван\", 24), (\"Марина\", 44), (\"Виолетта\", 6), (\"Александр\", 30), (\"Виталик\", 25)]\n",
        "a = sorted(L, key=lambda x: (x[1]))\n",
        "print(a)"
      ],
      "execution_count": 0,
      "outputs": [
        {
          "output_type": "stream",
          "text": [
            "[('Виолетта', 6), ('Иван', 24), ('Виталик', 25), ('Александр', 30), ('Марина', 44)]\n"
          ],
          "name": "stdout"
        }
      ]
    }
  ]
}
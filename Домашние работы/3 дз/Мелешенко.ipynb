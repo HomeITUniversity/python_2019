{
  "nbformat": 4,
  "nbformat_minor": 0,
  "metadata": {
    "kernelspec": {
      "display_name": "Python 3",
      "language": "python",
      "name": "python3"
    },
    "language_info": {
      "codemirror_mode": {
        "name": "ipython",
        "version": 3
      },
      "file_extension": ".py",
      "mimetype": "text/x-python",
      "name": "python",
      "nbconvert_exporter": "python",
      "pygments_lexer": "ipython3",
      "version": "3.7.1"
    },
    "colab": {
      "name": "list and tuple homework clear.ipynb",
      "provenance": [],
      "collapsed_sections": []
    }
  },
  "cells": [
    {
      "cell_type": "markdown",
      "metadata": {
        "id": "QoAhGMajGrUn",
        "colab_type": "text"
      },
      "source": [
        "# Домашняя работа по теме: Листы и кортежи"
      ]
    },
    {
      "cell_type": "markdown",
      "metadata": {
        "id": "54cuRfNaGrUp",
        "colab_type": "text"
      },
      "source": [
        "#### Мягкий дедлайн: 2 октября 23:59\n",
        "#### Жесткий делайн: 9 октября 23:59\n",
        "\n",
        "Отправлять ваши решения на адрес: homeituniversity@gmail.com\n",
        "\n",
        "Тема письма: Python курс > ДЗ 3 > ФИО"
      ]
    },
    {
      "cell_type": "markdown",
      "metadata": {
        "id": "ZVgnlWuhGrUr",
        "colab_type": "text"
      },
      "source": [
        "# Задача 1\n",
        "Дан кортеж T=(2,10,5,33,43,1,1,23,4). Нужно получить список L=[1,1,2,4,5,10,23,33,43]"
      ]
    },
    {
      "cell_type": "code",
      "metadata": {
        "id": "hDFVbaXiGrUs",
        "colab_type": "code",
        "colab": {
          "base_uri": "https://localhost:8080/",
          "height": 34
        },
        "outputId": "75797d63-5748-481a-c408-4a6f5e022882"
      },
      "source": [
        "#напишите ваше решение сюда\n",
        "T=(2,10,5,33,43,1,1,23,4)\n",
        "L=sorted(list(T))\n",
        "print(L)\n"
      ],
      "execution_count": 2,
      "outputs": [
        {
          "output_type": "stream",
          "text": [
            "[1, 1, 2, 4, 5, 10, 23, 33, 43]\n"
          ],
          "name": "stdout"
        }
      ]
    },
    {
      "cell_type": "markdown",
      "metadata": {
        "id": "_e8xytnVGrUy",
        "colab_type": "text"
      },
      "source": [
        "# Задача 2\n",
        "Дана строка «Три вещи никогда не возвращаются обратно — время, слово, возможность. Поэтому: не теряй времени, выбирай слова, не упускай возможность. – Конфуций.» Необходимо получить список(без знаков препинания) отдельных слов и вывести его (список). Затем необходимо вывести все слова в обратном порядке, не изменяя список."
      ]
    },
    {
      "cell_type": "code",
      "metadata": {
        "id": "wGfHcD9YGrUz",
        "colab_type": "code",
        "colab": {
          "base_uri": "https://localhost:8080/",
          "height": 71
        },
        "outputId": "b862ff9f-5323-4d07-b231-62e198037f63"
      },
      "source": [
        "import string\n",
        "translator = str.maketrans('', '', string.punctuation)\n",
        "s = \"Три вещи никогда не возвращаются обратно - время, слово, возможность. Поэтому: не теряй времени, выбирай слова, не упускай возможность. - Конфуций.\"\n",
        "l=s.translate(translator)\n",
        "l=l.replace('-','').split()\n",
        "print(l)\n",
        "print(l[::-1])\n"
      ],
      "execution_count": 24,
      "outputs": [
        {
          "output_type": "stream",
          "text": [
            "['Три', 'вещи', 'никогда', 'не', 'возвращаются', 'обратно', 'время', 'слово', 'возможность', 'Поэтому', 'не', 'теряй', 'времени', 'выбирай', 'слова', 'не', 'упускай', 'возможность', 'Конфуций']\n",
            "['Конфуций', 'возможность', 'упускай', 'не', 'слова', 'выбирай', 'времени', 'теряй', 'не', 'Поэтому', 'возможность', 'слово', 'время', 'обратно', 'возвращаются', 'не', 'никогда', 'вещи', 'Три']\n"
          ],
          "name": "stdout"
        }
      ]
    },
    {
      "cell_type": "markdown",
      "metadata": {
        "id": "gwjxkPV7GrU5",
        "colab_type": "text"
      },
      "source": [
        "# Задача 3\n",
        "Найти самое длинное и самое короткое слово в листе. (лист использовать из предыдущей задачи)"
      ]
    },
    {
      "cell_type": "code",
      "metadata": {
        "id": "I_Sp2tWDGrU6",
        "colab_type": "code",
        "colab": {
          "base_uri": "https://localhost:8080/",
          "height": 88
        },
        "outputId": "d62fcd33-cb74-4c6f-cb5d-b5e2c3834f5a"
      },
      "source": [
        "#напишите ваше решение сюда\n",
        "import string\n",
        "translator = str.maketrans('', '', string.punctuation)\n",
        "s = \"Три вещи никогда не возвращаются обратно - время, слово, возможность. Поэтому: не теряй времени, выбирай слова, не упускай возможность. - Конфуций.\"\n",
        "l=s.translate(translator)\n",
        "l=l.replace('-','').split()\n",
        "print(l)\n",
        "a = 0\n",
        "for i in range(1,len(l)):\n",
        "  if len(l[a])<len(l[i]):\n",
        "    a=i\n",
        "print('самое длинное слово: ', l[a]) \n",
        "for i in range(1,len(l)):\n",
        "  if len(l[a])>len(l[i]):\n",
        "    a=i\n",
        "print('самое короткое слово: ', l[a]) \n",
        "\n"
      ],
      "execution_count": 49,
      "outputs": [
        {
          "output_type": "stream",
          "text": [
            "['Три', 'вещи', 'никогда', 'не', 'возвращаются', 'обратно', 'время', 'слово', 'возможность', 'Поэтому', 'не', 'теряй', 'времени', 'выбирай', 'слова', 'не', 'упускай', 'возможность', 'Конфуций']\n",
            "самое длинное слово:  возвращаются\n",
            "самое короткое слово:  не\n"
          ],
          "name": "stdout"
        }
      ]
    },
    {
      "cell_type": "markdown",
      "metadata": {
        "id": "Jeg2WTrVGrU_",
        "colab_type": "text"
      },
      "source": [
        "# Задача 4\n",
        "Найти максимальное  число из списка, которое делится на 7 без остатка. [random list]. Если такого нет, то вывести сообщение об этом."
      ]
    },
    {
      "cell_type": "code",
      "metadata": {
        "id": "IVTBS11LGrVA",
        "colab_type": "code",
        "colab": {
          "base_uri": "https://localhost:8080/",
          "height": 51
        },
        "outputId": "c822c13a-5d1d-4278-e234-10d402dc9b9f"
      },
      "source": [
        "#напишите ваше решение сюда\n",
        "import random\n",
        "l = [random.randint(0, 100) for i in range(10)]\n",
        "d = [1]\n",
        "a=0\n",
        "c=0\n",
        "print(l)\n",
        "for i in range(len(l)):\n",
        "  if l[i]%7==0 and l[i]>a:\n",
        "    a=l[i]\n",
        "if a>0:\n",
        "  print('максимальное число из списка кратное 7: ', a)\n",
        "else:\n",
        "  print('такого числа нет')   "
      ],
      "execution_count": 106,
      "outputs": [
        {
          "output_type": "stream",
          "text": [
            "[20, 54, 77, 74, 45, 0, 65, 67, 91, 25]\n",
            "максимальное число из списка кратное 7:  91\n"
          ],
          "name": "stdout"
        }
      ]
    },
    {
      "cell_type": "markdown",
      "metadata": {
        "id": "ciiVKLauGrVI",
        "colab_type": "text"
      },
      "source": [
        "# Задача 5\n",
        "Дан лист кортежей L=[(«Иван», 24), («Марина», 44), («Виолетта», 6), («Александр», 30), («Виталик», 25)] Необходимо отсортировать список по возрасту."
      ]
    },
    {
      "cell_type": "code",
      "metadata": {
        "id": "G39ZNh0YGrVJ",
        "colab_type": "code",
        "colab": {
          "base_uri": "https://localhost:8080/",
          "height": 34
        },
        "outputId": "2b5e1a6f-4089-4354-b6d8-deb31fe22c0e"
      },
      "source": [
        "L=[(\"Иван\", 24), (\"Марина\", 44), (\"Виолетта\", 6), (\"Александр\", 30), (\"Виталик\", 25)]\n",
        "L.sort(key = lambda x:(x[1]))\n",
        "print(L)"
      ],
      "execution_count": 116,
      "outputs": [
        {
          "output_type": "stream",
          "text": [
            "[('Виолетта', 6), ('Иван', 24), ('Виталик', 25), ('Александр', 30), ('Марина', 44)]\n"
          ],
          "name": "stdout"
        }
      ]
    }
  ]
}
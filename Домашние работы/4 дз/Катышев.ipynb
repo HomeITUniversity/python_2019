{
 "cells": [
  {
   "cell_type": "markdown",
   "metadata": {
    "colab_type": "text",
    "id": "FOniiScPvgaO"
   },
   "source": [
    "# Задача 1\n",
    "\n",
    "Дан список сотрудников банка. \n",
    "names = [«Иван», «Марина», «Виталий», «Александр»]\n",
    "lastnames = [«Салтыков», «Иванова», «Жученко», «Петров»]\n",
    "middlenames = [«Романович», «Ивановна», «Даниилович», «Евгеньевич»]\n",
    "ages = [24, 25, 30, 28]\n",
    "Нужно составить словарь, в котором ключом будет ФИО, а значением возраст.\n"
   ]
  },
  {
   "cell_type": "markdown",
   "metadata": {
    "colab_type": "text",
    "id": "r4NlrjpfIHRx"
   },
   "source": [
    "Мягкий дедлайн: 9 октрября.\n",
    "\n",
    "Жеcткий дедлайн 16 октрября."
   ]
  },
  {
   "cell_type": "code",
   "execution_count": 2,
   "metadata": {
    "colab": {
     "base_uri": "https://localhost:8080/",
     "height": 34
    },
    "colab_type": "code",
    "id": "oKUyB3n9vgaR",
    "outputId": "579e7a30-922e-4cc2-92da-2e9f62ff1f7e"
   },
   "outputs": [
    {
     "name": "stdout",
     "output_type": "stream",
     "text": [
      "OK\n"
     ]
    }
   ],
   "source": [
    "names = ['Иван', 'Марина', 'Виталий', 'Александр']\n",
    "lastnames = ['Салтыков', 'Иванова', 'Жученко', 'Петров']\n",
    "middlenames = ['Романович', 'Ивановна', 'Даниилович', 'Евгеньевич']\n",
    "ages = [24, 25, 30, 28]\n",
    "result_dict = {}\n",
    "\n",
    "# ваш код тут\n",
    "fullnames=[]\n",
    "for i in range(len(names)):\n",
    "  fullnames.append(lastnames[i]+' '+names[i]+' '+middlenames[i])\n",
    "  result_dict[fullnames[i]]=ages[i]\n",
    "\n",
    "true_result_dict = {\n",
    "    'Салтыков Иван Романович': 24, \n",
    "    'Иванова Марина Ивановна': 25, \n",
    "    'Жученко Виталий Даниилович': 30, \n",
    "    'Петров Александр Евгеньевич': 28\n",
    "}\n",
    "assert result_dict == true_result_dict\n",
    "print(\"OK\")\n",
    "\n",
    "#если воникает эта ошибка \"AssertionError\" значит вы решили не верно, \n",
    "#иначе вы решили все верно"
   ]
  },
  {
   "cell_type": "markdown",
   "metadata": {
    "colab_type": "text",
    "id": "80VRVBM-vgaW"
   },
   "source": [
    "# Задача 2\n",
    "Дан текст. Найти частоту встречания символов в тексте и оформить это как словарь. Где символ – ключ, частота встречания – значения. Спец. Символы исключить."
   ]
  },
  {
   "cell_type": "code",
   "execution_count": 3,
   "metadata": {
    "colab": {
     "base_uri": "https://localhost:8080/",
     "height": 34
    },
    "colab_type": "code",
    "id": "yJp6CVOYvgaX",
    "outputId": "0a5dcc90-1a1b-4217-bd5c-9963a4f6d24f"
   },
   "outputs": [
    {
     "name": "stdout",
     "output_type": "stream",
     "text": [
      "OK\n"
     ]
    }
   ],
   "source": [
    "s = \"А из города уже выступало неприятельское войско, гремя в литавры и трубы. Подбоченясь, выезжали паны, окруженные несметными слугами. И стали они наступать тесно на казацкие таборы, грозя, нацеливаясь пищалями, сверкая очами и блеща медными доспехами. Дымом затянуло все поле, а запорожцы все палили, не переводя дух.\"\n",
    "result_dict = {}\n",
    "\n",
    "# ваш код тут\n",
    "s=s.lower()\n",
    "for i in s:\n",
    "  if i.isalnum():\n",
    "    result_dict[i]=result_dict.get(i,0)+1\n",
    "\n",
    "true_result_dict = {'а': 25, 'и': 20, 'з': 6, 'г': 4, 'о': 21, 'р': 11, 'д': 7, 'у': 8, 'ж': 4, 'е': 24, 'в': 10, 'ы': 11, 'с': 14, 'т': 11, 'п': 11, 'л': 13, 'н': 15, 'я': 9, 'ь': 4, 'к': 6, 'й': 1, 'м': 11, 'б': 4, 'ч': 2, 'ц': 3, 'щ': 2, 'х': 2}\n",
    "\n",
    "assert result_dict == true_result_dict\n",
    "print(\"OK\")"
   ]
  },
  {
   "cell_type": "markdown",
   "metadata": {
    "colab_type": "text",
    "id": "4Lm8cR_Qvgaa"
   },
   "source": [
    "# Задача 3\n",
    "Составить словарь из двух ключей \"unique\", \"nonunique\". В первый ключ положить список уникальных слов, во второй не уникальных. "
   ]
  },
  {
   "cell_type": "code",
   "execution_count": 4,
   "metadata": {
    "colab": {
     "base_uri": "https://localhost:8080/",
     "height": 34
    },
    "colab_type": "code",
    "id": "R-lQRUGUvgab",
    "outputId": "383703a4-45cb-4fa3-cd49-c8b6d7729afd"
   },
   "outputs": [
    {
     "name": "stdout",
     "output_type": "stream",
     "text": [
      "OK\n"
     ]
    }
   ],
   "source": [
    "s = \"\"\"Это слово, которое я в детстве постоянно слышал от моей мамы.\n",
    "Мама произносила это слово так нежно и так серьезно, словно оно обозначало что-то столь важное, неотъемлемое.\n",
    "Я любил это слово, из-за этого я делал все, чтоб его услышать как можно чаще.\n",
    "Я вырос. Я понял, что это слово не представляет из себя чего-то сверхъестественного, не обозначает оно какое-то божество и произнести его можно по разному.\n",
    "Это слово самое обычное... но в то же время самое сильное.\n",
    "Это слово ~ Спасибо.\"\"\"\n",
    "result_dict = {}\n",
    "\n",
    "# ваш код тут\n",
    "s=s.lower().replace('\\n',' ').strip()\n",
    "b=''\n",
    "for i in s:\n",
    "  if i.isalnum() or i==' ' or i=='-':\n",
    "    b+=i\n",
    "while b.find('  ')>=0:\n",
    "  b=b.replace('  ',' ')\n",
    "l=b.split(' ')\n",
    "d={}\n",
    "for i in l:\n",
    "  if i!='-':\n",
    "    d[i]=d.get(i,0)+1\n",
    "u=[]\n",
    "n=[]\n",
    "for k, v in d.items():\n",
    "  if v == 1:\n",
    "    u.append(k)\n",
    "  else:\n",
    "    n.append(k)\n",
    "result_dict['unique']=u\n",
    "result_dict['nonunique']=n\n",
    "\n",
    "true_result_dict = {\n",
    "    'unique': ['которое', 'детстве', 'постоянно', 'слышал', 'от', 'моей', 'мамы', 'мама', 'произносила', 'нежно', 'серьезно', 'словно', 'обозначало', 'что-то', 'столь', 'важное', 'неотъемлемое', 'любил', 'из-за', 'этого', 'делал', 'все', 'чтоб', 'услышать', 'как', 'чаще', 'вырос', 'понял', 'что', 'представляет', 'из', 'себя', 'чего-то', 'сверхъестественного', 'обозначает', 'какое-то', 'божество', 'произнести', 'по', 'разному', 'обычное', 'но', 'то', 'же', 'время', 'сильное', 'спасибо'], \n",
    "    'nonunique': ['это', 'слово', 'я', 'в', 'так', 'и', 'оно', 'его', 'можно', 'не', 'самое']\n",
    "}\n",
    "\n",
    "assert result_dict == true_result_dict\n",
    "print(\"OK\")"
   ]
  },
  {
   "cell_type": "code",
   "execution_count": 0,
   "metadata": {
    "colab": {},
    "colab_type": "code",
    "id": "B_kXepGmdJ0r"
   },
   "outputs": [],
   "source": []
  },
  {
   "cell_type": "markdown",
   "metadata": {
    "colab_type": "text",
    "id": "3O5rP17dvgae"
   },
   "source": [
    "# Задача 4\n",
    "\n",
    "Маша и Аня работают в отделе продаж нашего банка и продают Кредиты наличными. <br>\n",
    "Оформленные ими кредиты представлены в соответствующих словарях (сумма кредита, ставка, срок в годах)<br>\n",
    "Среди клиентов Маши и Ани найти клиентов и вывести на экран, у которых:<br>\n",
    "•\tСовпадает ставка<br>\n",
    "•\tСовпадает сумма кредита<br>\n",
    "•\tСовпадает срок выплаты<br>\n",
    "•\tНе совпадает сумма, но совпадает срок выплаты<br>\n",
    "•\tСовпадает процентная ставка, но не совпадает сумма кредита.<br>\n",
    "Условие может, как выполниться, так и не выполниться (такое пересечение может быть пустым)<br>\n",
    "\n",
    "Выводить ВСЕ значения которые имеют совпадения.\n"
   ]
  },
  {
   "cell_type": "code",
   "execution_count": 1,
   "metadata": {
    "colab": {
     "base_uri": "https://localhost:8080/",
     "height": 306
    },
    "colab_type": "code",
    "id": "tQFnAFDvvgaf",
    "outputId": "ec18867e-45c4-4143-cbcb-5100c8d7b3aa"
   },
   "outputs": [
    {
     "name": "stdout",
     "output_type": "stream",
     "text": [
      "Клиенты, у которых:\n",
      "\n",
      " Совпадает сумма кредита\n",
      "   {'Полено Елена', 'Жученко Виталий', 'Чайкина Наталья', 'Трененков Виталий', 'Самоваров Павел', 'Петров Александр'}\n",
      "\n",
      " Совпадает ставка\n",
      "   {'Полено Елена', 'Краснов Антон', 'Букин Геннадий', 'Иванова Марина', 'Самоваров Павел', 'Антонов Юрий', 'Антонина Антонина', 'Петров Александр'}\n",
      "\n",
      " Совпадает срок выплаты\n",
      "   {'Полено Елена', 'Краснов Антон', 'Самсонов Владимир', 'Жученко Виталий', 'Иванова Марина', 'Чайкина Наталья', 'Трененков Виталий', 'Самоваров Павел', 'Колованов Ярослав', 'Антонов Юрий', 'Антонина Антонина', 'Петров Александр', 'Салтыков Иван'}\n",
      "\n",
      " Не совпадает сумма, но совпадает срок выплаты\n",
      "   {'Полено Елена', 'Краснов Антон', 'Самсонов Владимир', 'Жученко Виталий', 'Иванова Марина', 'Чайкина Наталья', 'Трененков Виталий', 'Самоваров Павел', 'Колованов Ярослав', 'Антонов Юрий', 'Антонина Антонина', 'Петров Александр', 'Салтыков Иван'}\n",
      "\n",
      " Совпадает процентная ставка, но не совпадает сумма кредита\n",
      "   {'Полено Елена', 'Краснов Антон', 'Букин Геннадий', 'Иванова Марина', 'Антонов Юрий', 'Антонина Антонина'}\n"
     ]
    }
   ],
   "source": [
    "masha_credits = {\n",
    "        'Салтыков Иван': {\n",
    "        'credit': 80000,\n",
    "        'percent': 22.5,\n",
    "        'period': 3\n",
    "    },\n",
    "        'Иванова Марина': {\n",
    "        'credit': 240000,\n",
    "        'percent': 20.8,\n",
    "        'period': 5\n",
    "    },\n",
    "        'Жученко Виталий': {\n",
    "        'credit': 35000,\n",
    "        'percent': 19.4,\n",
    "        'period': 2\n",
    "    },\n",
    "        'Петров Александр': {\n",
    "        'credit': 100000,\n",
    "        'percent': 27.9,\n",
    "        'period': 3\n",
    "    },\n",
    "        'Краснов Антон': {\n",
    "        'credit': 10000,\n",
    "        'percent': 55.2,\n",
    "        'period': 1\n",
    "    },\n",
    "        'Полено Елена': {\n",
    "        'credit': 330000,\n",
    "        'percent': 4.0,\n",
    "        'period': 1\n",
    "    },\n",
    "}\n",
    "\n",
    "ann_credits = {\n",
    "        'Букин Геннадий': {\n",
    "        'credit': 1000,\n",
    "        'percent': 55.2,\n",
    "        'period': 20\n",
    "    },\n",
    "        'Антонов Юрий': {\n",
    "        'credit': 20000,\n",
    "        'percent': 20.8,\n",
    "        'period': 4\n",
    "    },\n",
    "        'Трененков Виталий': {\n",
    "        'credit': 35000,\n",
    "        'percent': 20.1,\n",
    "        'period': 1\n",
    "    },\n",
    "        'Самоваров Павел': {\n",
    "        'credit': 100000,\n",
    "        'percent': 27.9,\n",
    "        'period': 2\n",
    "    },\n",
    "        'Самсонов Владимир': {\n",
    "        'credit': 76000,\n",
    "        'percent': 11.9,\n",
    "        'period': 4\n",
    "    },\n",
    "        'Антонина Антонина': {\n",
    "        'credit': 1100000,\n",
    "        'percent': 4.0,\n",
    "        'period': 5\n",
    "    },\n",
    "        'Колованов Ярослав': {\n",
    "        'credit': 25000,\n",
    "        'percent': 22.2,\n",
    "        'period': 2\n",
    "    },\n",
    "        'Чайкина Наталья': {\n",
    "        'credit': 330000,\n",
    "        'percent': 18.9,\n",
    "        'period': 3\n",
    "    },\n",
    "}\n",
    "\n",
    "# ваше решение тут\n",
    "d={}\n",
    "d.update(masha_credits)\n",
    "d.update(ann_credits)\n",
    "c=[]\n",
    "for k, v in d.items():\n",
    "  a={}\n",
    "  a['name']=k\n",
    "  a.update(v)\n",
    "  c.append(a)\n",
    "\n",
    "# for i in c:\n",
    "#   print(i)\n",
    "n=len(c)\n",
    "s=set()  # Совпадает сумма кредита\n",
    "r=set()  # Совпадает ставка\n",
    "p=set()  # Совпадает срок выплаты\n",
    "sp=set() # Не совпадает сумма, но совпадает срок выплаты\n",
    "rs=set() # Совпадает процентная ставка, но не совпадает сумма кредита\n",
    "\n",
    "for i in range(n):\n",
    "  for j in range(i+1, n):\n",
    "    \n",
    "    if c[i]['credit']==c[j]['credit']:\n",
    "      s.add(c[i]['name'])\n",
    "      s.add(c[j]['name'])\n",
    "      \n",
    "    else:\n",
    "      if c[i]['percent']==c[j]['percent']:\n",
    "        rs.add(c[i]['name'])\n",
    "        rs.add(c[j]['name'])\n",
    "        \n",
    "      if c[i]['period']==c[j]['period']:\n",
    "        sp.add(c[i]['name'])\n",
    "        sp.add(c[j]['name'])\n",
    "        \n",
    "        \n",
    "    if c[i]['percent']==c[j]['percent']:\n",
    "      r.add(c[i]['name'])\n",
    "      r.add(c[j]['name'])\n",
    "      \n",
    "    if c[i]['period']==c[j]['period']:\n",
    "      p.add(c[i]['name'])\n",
    "      p.add(c[j]['name'])\n",
    "    \n",
    "print('Клиенты, у которых:')\n",
    "print('\\n Совпадает сумма кредита\\n  ',s)\n",
    "print('\\n Совпадает ставка\\n  ',r)\n",
    "print('\\n Совпадает срок выплаты\\n  ',p)\n",
    "print('\\n Не совпадает сумма, но совпадает срок выплаты\\n  ',sp)\n",
    "print('\\n Совпадает процентная ставка, но не совпадает сумма кредита\\n  ',rs)\n",
    "\n",
    "\n"
   ]
  },
  {
   "cell_type": "code",
   "execution_count": 0,
   "metadata": {
    "colab": {},
    "colab_type": "code",
    "id": "AwFq6xHOvxok"
   },
   "outputs": [],
   "source": []
  },
  {
   "cell_type": "markdown",
   "metadata": {
    "colab_type": "text",
    "id": "Pt0ZsfWQvgaj"
   },
   "source": [
    "# Задача 5\n",
    "Суть задачи в том, чтобы из англо-латинского словаря сделать латино-английский.\n",
    "\n",
    "Входные данные:<br>\n",
    "Даны строки (необходимо представить в виде словаря)\n",
    "\n",
    "apple - malum, pomum, popula<br>\n",
    "fruit - baca, bacca, popum<br>\n",
    "punishment - malum, multa<br>\n",
    "\n",
    "Выходные данные:<br>\n",
    "baca - fruit<br>\n",
    "bacca - fruit<br>\n",
    "malum - apple, punishment<br>\n",
    "multa - punishment<br>\n",
    "pomum - apple<br>\n",
    "popula - apple<br>\n",
    "popum - fruit<br>"
   ]
  },
  {
   "cell_type": "code",
   "execution_count": 2,
   "metadata": {
    "colab": {
     "base_uri": "https://localhost:8080/",
     "height": 50
    },
    "colab_type": "code",
    "id": "gFHdUf06vgak",
    "outputId": "166735cf-49e0-412c-b6a2-2e5d51feba0a"
   },
   "outputs": [
    {
     "name": "stdout",
     "output_type": "stream",
     "text": [
      "{'apple': ['malum', 'pomum', 'popula'], 'fruit': ['baca', 'bacca', 'popum'], 'punishment': ['malum', 'multa']}\n",
      "{'baca': ['fruit'], 'bacca': ['fruit'], 'malum': ['apple', 'punishment'], 'multa': ['punishment'], 'pomum': ['apple'], 'popula': ['apple'], 'popum': ['fruit']} \n",
      "\n"
     ]
    }
   ],
   "source": [
    "# ваше решение тут\n",
    "s1='apple - malum, pomum, popula'\n",
    "s2='fruit - baca, bacca, popum'\n",
    "s3='punishment - malum, multa'\n",
    "l=[s1,s2,s3]\n",
    "d={}\n",
    "for i in l:\n",
    "  i=i.replace(' ','')\n",
    "  d[i[:i.find('-')]]=i[i.find('-')+1:].split(',')\n",
    "print(d)\n",
    "s=set()\n",
    "for i in d:\n",
    "  for j in d[i]:\n",
    "    s.add(j)\n",
    "l=list(s)\n",
    "l.sort()\n",
    "a={}\n",
    "for i in l:\n",
    "  a[i]=[]\n",
    "  for j in d:\n",
    "    if i in d[j]:\n",
    "      a[i].append(j)\n",
    "print(a, \"\\n\")"
   ]
  },
  {
   "cell_type": "code",
   "execution_count": null,
   "metadata": {},
   "outputs": [],
   "source": []
  }
 ],
 "metadata": {
  "colab": {
   "collapsed_sections": [],
   "name": "ДЗ №4 KatyshevArsen.ipynb",
   "provenance": []
  },
  "kernelspec": {
   "display_name": "Python 3",
   "language": "python",
   "name": "python3"
  },
  "language_info": {
   "codemirror_mode": {
    "name": "ipython",
    "version": 3
   },
   "file_extension": ".py",
   "mimetype": "text/x-python",
   "name": "python",
   "nbconvert_exporter": "python",
   "pygments_lexer": "ipython3",
   "version": "3.7.1"
  }
 },
 "nbformat": 4,
 "nbformat_minor": 1
}

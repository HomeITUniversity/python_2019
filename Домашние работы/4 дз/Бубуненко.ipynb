{
  "nbformat": 4,
  "nbformat_minor": 0,
  "metadata": {
    "kernelspec": {
      "display_name": "Python 3",
      "language": "python",
      "name": "python3"
    },
    "language_info": {
      "codemirror_mode": {
        "name": "ipython",
        "version": 3
      },
      "file_extension": ".py",
      "mimetype": "text/x-python",
      "name": "python",
      "nbconvert_exporter": "python",
      "pygments_lexer": "ipython3",
      "version": "3.7.1"
    },
    "colab": {
      "name": "04_dict_and_set_homework.ipynb",
      "provenance": [],
      "collapsed_sections": []
    }
  },
  "cells": [
    {
      "cell_type": "markdown",
      "metadata": {
        "id": "FOniiScPvgaO",
        "colab_type": "text"
      },
      "source": [
        "# Задача 1\n",
        "\n",
        "Дан список сотрудников банка. \n",
        "names = [«Иван», «Марина», «Виталий», «Александр»]\n",
        "lastnames = [«Салтыков», «Иванова», «Жученко», «Петров»]\n",
        "middlenames = [«Романович», «Ивановна», «Даниилович», «Евгеньевич»]\n",
        "ages = [24, 25, 30, 28]\n",
        "Нужно составить словарь, в котором ключом будет ФИО, а значением возраст.\n"
      ]
    },
    {
      "cell_type": "markdown",
      "metadata": {
        "id": "r4NlrjpfIHRx",
        "colab_type": "text"
      },
      "source": [
        "Мягкий дедлайн: 9 октрября.\n",
        "\n",
        "Жеcткий дедлайн 16 октрября."
      ]
    },
    {
      "cell_type": "code",
      "metadata": {
        "id": "oKUyB3n9vgaR",
        "colab_type": "code",
        "outputId": "58abbc54-0702-4beb-8034-3f14423cf6a1",
        "colab": {
          "base_uri": "https://localhost:8080/",
          "height": 51
        }
      },
      "source": [
        "names = ['Иван', 'Марина', 'Виталий', 'Александр']\n",
        "lastnames = ['Салтыков', 'Иванова', 'Жученко', 'Петров']\n",
        "middlenames = ['Романович', 'Ивановна', 'Даниилович', 'Евгеньевич']\n",
        "ages = [24, 25, 30, 28]\n",
        "result_dict = {}\n",
        "\n",
        "result_dict = {}\n",
        "for lastnames, names, middlenames, y in zip(lastnames, names, middlenames, ages):\n",
        "        result_dict[lastnames + \" \" + names + \" \"+ middlenames] = y\n",
        "print(result_dict)\n",
        "\n",
        "true_result_dict = {\n",
        "    'Салтыков Иван Романович': 24, \n",
        "    'Иванова Марина Ивановна': 25, \n",
        "    'Жученко Виталий Даниилович': 30, \n",
        "    'Петров Александр Евгеньевич': 28\n",
        "}\n",
        "assert result_dict == true_result_dict\n",
        "print(\"OK\")\n",
        "\n",
        "#если воникает эта ошибка \"AssertionError\" значит вы решили не верно, \n",
        "#иначе вы решили все верно"
      ],
      "execution_count": 0,
      "outputs": [
        {
          "output_type": "stream",
          "text": [
            "{'Салтыков Иван Романович': 24, 'Иванова Марина Ивановна': 25, 'Жученко Виталий Даниилович': 30, 'Петров Александр Евгеньевич': 28}\n",
            "OK\n"
          ],
          "name": "stdout"
        }
      ]
    },
    {
      "cell_type": "markdown",
      "metadata": {
        "id": "80VRVBM-vgaW",
        "colab_type": "text"
      },
      "source": [
        "# Задача 2\n",
        "Дан текст. Найти частоту встречания символов в тексте и оформить это как словарь. Где символ – ключ, частота встречания – значения. Спец. Символы исключить."
      ]
    },
    {
      "cell_type": "code",
      "metadata": {
        "id": "yJp6CVOYvgaX",
        "colab_type": "code",
        "outputId": "5f700492-4522-4a98-ee82-d619488c7781",
        "colab": {
          "base_uri": "https://localhost:8080/",
          "height": 71
        }
      },
      "source": [
        "import string\n",
        "s = \"А из города уже выступало неприятельское войско, гремя в литавры и трубы. Подбоченясь, выезжали паны, окруженные несметными слугами. И стали они наступать тесно на казацкие таборы, грозя, нацеливаясь пищалями, сверкая очами и блеща медными доспехами. Дымом затянуло все поле, а запорожцы все палили, не переводя дух.\"\n",
        "result_dict = {}\n",
        "\n",
        "s = \"\".join(l for l in s if l not in string.punctuation).lower().replace(\" \", \"\")\n",
        "for i in s:\n",
        "    result_dict[i] = s.count(i)\n",
        "print(result_dict)\n",
        "\n",
        "true_result_dict = {'а': 25, 'и': 20, 'з': 6, 'г': 4, 'о': 21, 'р': 11, 'д': 7, 'у': 8, 'ж': 4, 'е': 24, 'в': 10, 'ы': 11, 'с': 14, 'т': 11, 'п': 11, 'л': 13, 'н': 15, 'я': 9, 'ь': 4, 'к': 6, 'й': 1, 'м': 11, 'б': 4, 'ч': 2, 'ц': 3, 'щ': 2, 'х': 2}\n",
        "\n",
        "assert result_dict == true_result_dict\n",
        "print(\"OK\")"
      ],
      "execution_count": 0,
      "outputs": [
        {
          "output_type": "stream",
          "text": [
            "{'а': 25, 'и': 20, 'з': 6, 'г': 4, 'о': 21, 'р': 11, 'д': 7, 'у': 8, 'ж': 4, 'е': 24, 'в': 10, 'ы': 11, 'с': 14, 'т': 11, 'п': 11, 'л': 13, 'н': 15, 'я': 9, 'ь': 4, 'к': 6, 'й': 1, 'м': 11, 'б': 4, 'ч': 2, 'ц': 3, 'щ': 2, 'х': 2}\n",
            "OK\n"
          ],
          "name": "stdout"
        }
      ]
    },
    {
      "cell_type": "markdown",
      "metadata": {
        "id": "4Lm8cR_Qvgaa",
        "colab_type": "text"
      },
      "source": [
        "# Задача 3\n",
        "Составить словарь из двух ключей \"unique\", \"nonunique\". В первый ключ положить список уникальных слов, во второй не уникальных. "
      ]
    },
    {
      "cell_type": "code",
      "metadata": {
        "id": "R-lQRUGUvgab",
        "colab_type": "code",
        "outputId": "a10ebc3d-2bf8-4bd6-9916-bb59a163f962",
        "colab": {
          "base_uri": "https://localhost:8080/",
          "height": 251
        }
      },
      "source": [
        "from collections import Counter\n",
        "s = \"\"\"Это слово, которое я в детстве постоянно слышал от моей мамы.\n",
        "Мама произносила это слово так нежно и так серьезно, словно оно обозначало что-то столь важное, неотъемлемое.\n",
        "Я любил это слово, из-за этого я делал все, чтоб его услышать как можно чаще.\n",
        "Я вырос. Я понял, что это слово не представляет из себя чего-то сверхъестественного, не обозначает оно какое-то божество и произнести его можно по разному.\n",
        "Это слово самое обычное... но в то же время самое сильное.\n",
        "Это слово ~ Спасибо.\"\"\".replace(\",\", \"\").replace(\".\", \"\").replace(\" - \", \" \").lower().split()\n",
        "result_dict = {}\n",
        "c = [\"unique\", \"nonunique\"]\n",
        "d = [unique,nonunique]\n",
        "unique = []\n",
        "nonunique = []\n",
        "unique = list(set(s))\n",
        "nonunique = [k for k,v in Counter(s).items() if v>1]\n",
        "for x,y in zip(c,d):\n",
        "  result_dict[x] = y\n",
        "\n",
        "\n",
        "\n",
        "print(result_dict)\n",
        "\n",
        "true_result_dict = {'unique': ['которое', 'детстве', 'постоянно', 'слышал', 'от', 'моей', 'мамы', 'мама', 'произносила', 'нежно', 'серьезно', 'словно', 'обозначало', 'что-то', 'столь', 'важное', 'неотъемлемое', 'любил', 'из-за', 'этого', 'делал', 'все', 'чтоб', 'услышать', 'как', 'чаще', 'вырос', 'понял', 'что', 'представляет', 'из', 'себя', 'чего-то', 'сверхъестественного', 'обозначает', 'какое-то', 'божество', 'произнести', 'по', 'разному', 'обычное', 'но', 'то', 'же', 'время', 'сильное', 'спасибо'], 'nonunique': ['это', 'слово', 'я', 'в', 'так', 'и', 'оно', 'его', 'можно', 'не', 'самое']\n",
        "}\n",
        "\n",
        "assert result_dict == true_result_dict\n",
        "print(\"OK\")"
      ],
      "execution_count": 0,
      "outputs": [
        {
          "output_type": "stream",
          "text": [
            "{'unique': ['не', 'что', 'обозначало', 'разному', 'себя', 'время', 'слово', 'неотъемлемое', 'детстве', 'важное', 'так', 'этого', 'чтоб', 'что-то', 'по', 'оно', 'и', 'обозначает', 'какое-то', 'из', 'серьезно', 'столь', 'мамы', '~', 'делал', 'слышал', 'то', 'словно', 'которое', 'сверхъестественного', 'спасибо', 'самое', 'из-за', 'обычное', 'все', 'же', 'я', 'мама', 'как', 'чаще', 'представляет', 'постоянно', 'услышать', 'божество', 'его', 'вырос', 'это', 'нежно', 'но', 'от', 'произносила', 'можно', 'чего-то', 'произнести', 'сильное', 'моей', 'любил', 'понял', 'в'], 'nonunique': ['это', 'слово', 'я', 'в', 'так', 'и', 'оно', 'его', 'можно', 'не', 'самое']}\n"
          ],
          "name": "stdout"
        },
        {
          "output_type": "error",
          "ename": "AssertionError",
          "evalue": "ignored",
          "traceback": [
            "\u001b[0;31m---------------------------------------------------------------------------\u001b[0m",
            "\u001b[0;31mAssertionError\u001b[0m                            Traceback (most recent call last)",
            "\u001b[0;32m<ipython-input-32-5fc6be26b4ab>\u001b[0m in \u001b[0;36m<module>\u001b[0;34m()\u001b[0m\n\u001b[1;32m     23\u001b[0m }\n\u001b[1;32m     24\u001b[0m \u001b[0;34m\u001b[0m\u001b[0m\n\u001b[0;32m---> 25\u001b[0;31m \u001b[0;32massert\u001b[0m \u001b[0mresult_dict\u001b[0m \u001b[0;34m==\u001b[0m \u001b[0mtrue_result_dict\u001b[0m\u001b[0;34m\u001b[0m\u001b[0;34m\u001b[0m\u001b[0m\n\u001b[0m\u001b[1;32m     26\u001b[0m \u001b[0mprint\u001b[0m\u001b[0;34m(\u001b[0m\u001b[0;34m\"OK\"\u001b[0m\u001b[0;34m)\u001b[0m\u001b[0;34m\u001b[0m\u001b[0;34m\u001b[0m\u001b[0m\n",
            "\u001b[0;31mAssertionError\u001b[0m: "
          ]
        }
      ]
    },
    {
      "cell_type": "code",
      "metadata": {
        "id": "B_kXepGmdJ0r",
        "colab_type": "code",
        "colab": {}
      },
      "source": [
        ""
      ],
      "execution_count": 0,
      "outputs": []
    },
    {
      "cell_type": "markdown",
      "metadata": {
        "id": "3O5rP17dvgae",
        "colab_type": "text"
      },
      "source": [
        "# Задача 4\n",
        "\n",
        "Маша и Аня работают в отделе продаж нашего банка и продают Кредиты наличными. <br>\n",
        "Оформленные ими кредиты представлены в соответствующих словарях (сумма кредита, ставка, срок в годах)<br>\n",
        "Среди клиентов Маши и Ани найти клиентов и вывести на экран, у которых:<br>\n",
        "•\tСовпадает ставка<br>\n",
        "•\tСовпадает сумма кредита<br>\n",
        "•\tСовпадает срок выплаты<br>\n",
        "•\tНе совпадает сумма, но совпадает срок выплаты<br>\n",
        "•\tСовпадает процентная ставка, но не совпадает сумма кредита.<br>\n",
        "Условие может, как выполниться, так и не выполниться (такое пересечение может быть пустым)<br>\n",
        "\n",
        "Выводить ВСЕ значения которые имеют совпадения.\n"
      ]
    },
    {
      "cell_type": "code",
      "metadata": {
        "id": "tQFnAFDvvgaf",
        "colab_type": "code",
        "outputId": "35bc3b3f-b087-4e1b-f197-ffd610722963",
        "colab": {
          "base_uri": "https://localhost:8080/",
          "height": 425
        }
      },
      "source": [
        "masha_credits = {\n",
        "        'Салтыков Иван': {\n",
        "        'credit': 80000,\n",
        "        'percent': 22.5,\n",
        "        'period': 3\n",
        "    },\n",
        "        'Иванова Марина': {\n",
        "        'credit': 240000,\n",
        "        'percent': 20.8,\n",
        "        'period': 5\n",
        "    },\n",
        "        'Жученко Виталий': {\n",
        "        'credit': 35000,\n",
        "        'percent': 19.4,\n",
        "        'period': 2\n",
        "    },\n",
        "        'Петров Александр': {\n",
        "        'credit': 100000,\n",
        "        'percent': 27.9,\n",
        "        'period': 3\n",
        "    },\n",
        "        'Краснов Антон': {\n",
        "        'credit': 10000,\n",
        "        'percent': 55.2,\n",
        "        'period': 1\n",
        "    },\n",
        "        'Полено Елена': {\n",
        "        'credit': 330000,\n",
        "        'percent': 4.0,\n",
        "        'period': 1\n",
        "    },\n",
        "}\n",
        "\n",
        "ann_credits = {\n",
        "        'Букин Геннадий': {\n",
        "        'credit': 1000,\n",
        "        'percent': 55.2,\n",
        "        'period': 20\n",
        "    },\n",
        "        'Антонов Юрий': {\n",
        "        'credit': 20000,\n",
        "        'percent': 20.8,\n",
        "        'period': 4\n",
        "    },\n",
        "        'Трененков Виталий': {\n",
        "        'credit': 35000,\n",
        "        'percent': 20.1,\n",
        "        'period': 1\n",
        "    },\n",
        "        'Самоваров Павел': {\n",
        "        'credit': 100000,\n",
        "        'percent': 27.9,\n",
        "        'period': 2\n",
        "    },\n",
        "        'Самсонов Владимир': {\n",
        "        'credit': 76000,\n",
        "        'percent': 11.9,\n",
        "        'period': 4\n",
        "    },\n",
        "        'Антонина Антонина': {\n",
        "        'credit': 1100000,\n",
        "        'percent': 4.0,\n",
        "        'period': 5\n",
        "    },\n",
        "        'Колованов Ярослав': {\n",
        "        'credit': 25000,\n",
        "        'percent': 22.2,\n",
        "        'period': 2\n",
        "    },\n",
        "        'Чайкина Наталья': {\n",
        "        'credit': 330000,\n",
        "        'percent': 18.9,\n",
        "        'period': 3\n",
        "    }\n",
        "}        \n",
        "\n",
        "for i in masha_credits:\n",
        "    for k in ann_credits:\n",
        "        if masha_credits[i]['credit'] == ann_credits[k]['credit']:\n",
        "            r = i + \" и \" + k\n",
        "            print(\"Совпадает размер кредита у: {}\".format(r))\n",
        "        if masha_credits[i]['percent'] == ann_credits[k]['percent']:\n",
        "            f = i + \" и \" + k\n",
        "            print(\"Процентная ставка совпадает у: {}\".format(f))\n",
        "        if masha_credits[i]['period'] == ann_credits[k]['period']:\n",
        "            q = i + \" и \" + k\n",
        "            print(\"Период совпадает у: {}\".format(q))\n",
        "        if masha_credits[i]['credit'] != ann_credits[k]['credit'] and masha_credits[i]['period'] == ann_credits[k]['period']:\n",
        "            t = i + \" и \" + k\n",
        "            print(\"Не совпадает сумма, но совпадает срок выплаты у: {}\".format(t))\n",
        "        if masha_credits[i]['credit'] != ann_credits[k]['credit'] and masha_credits[i]['percent'] == ann_credits[k]['percent']:\n",
        "            w = i + \" и \" + k\n",
        "            print(\"Совпадает процентная ставка, но не совпадает сумма кредита у: {}\".format(w))\n",
        "\n",
        "    \n",
        "      "
      ],
      "execution_count": 0,
      "outputs": [
        {
          "output_type": "stream",
          "text": [
            "Период совпадает у: Салтыков Иван и Чайкина Наталья\n",
            "Не совпадает сумма, но совпадает срок выплаты у: Салтыков Иван и Чайкина Наталья\n",
            "Процентная ставка совпадает у: Иванова Марина и Антонов Юрий\n",
            "Совпадает процентная ставка, но не совпадает сумма кредита у: Иванова Марина и Антонов Юрий\n",
            "Период совпадает у: Иванова Марина и Антонина Антонина\n",
            "Не совпадает сумма, но совпадает срок выплаты у: Иванова Марина и Антонина Антонина\n",
            "Совпадает размер кредита у: Жученко Виталий и Трененков Виталий\n",
            "Период совпадает у: Жученко Виталий и Самоваров Павел\n",
            "Не совпадает сумма, но совпадает срок выплаты у: Жученко Виталий и Самоваров Павел\n",
            "Период совпадает у: Жученко Виталий и Колованов Ярослав\n",
            "Не совпадает сумма, но совпадает срок выплаты у: Жученко Виталий и Колованов Ярослав\n",
            "Совпадает размер кредита у: Петров Александр и Самоваров Павел\n",
            "Процентная ставка совпадает у: Петров Александр и Самоваров Павел\n",
            "Период совпадает у: Петров Александр и Чайкина Наталья\n",
            "Не совпадает сумма, но совпадает срок выплаты у: Петров Александр и Чайкина Наталья\n",
            "Процентная ставка совпадает у: Краснов Антон и Букин Геннадий\n",
            "Совпадает процентная ставка, но не совпадает сумма кредита у: Краснов Антон и Букин Геннадий\n",
            "Период совпадает у: Краснов Антон и Трененков Виталий\n",
            "Не совпадает сумма, но совпадает срок выплаты у: Краснов Антон и Трененков Виталий\n",
            "Период совпадает у: Полено Елена и Трененков Виталий\n",
            "Не совпадает сумма, но совпадает срок выплаты у: Полено Елена и Трененков Виталий\n",
            "Процентная ставка совпадает у: Полено Елена и Антонина Антонина\n",
            "Совпадает процентная ставка, но не совпадает сумма кредита у: Полено Елена и Антонина Антонина\n",
            "Совпадает размер кредита у: Полено Елена и Чайкина Наталья\n"
          ],
          "name": "stdout"
        }
      ]
    },
    {
      "cell_type": "markdown",
      "metadata": {
        "id": "Pt0ZsfWQvgaj",
        "colab_type": "text"
      },
      "source": [
        "# Задача 5\n",
        "Суть задачи в том, чтобы из англо-латинского словаря сделать латино-английский.\n",
        "\n",
        "Входные данные:<br>\n",
        "Даны строки (необходимо представить в виде словаря)\n",
        "\n",
        "apple - malum, pomum, popula<br>\n",
        "fruit - baca, bacca, popum<br>\n",
        "punishment - malum, multa<br>\n",
        "\n",
        "Выходные данные:<br>\n",
        "baca - fruit<br>\n",
        "bacca - fruit<br>\n",
        "malum - apple, punishment<br>\n",
        "multa - punishment<br>\n",
        "pomum - apple<br>\n",
        "popula - apple<br>\n",
        "popum - fruit<br>"
      ]
    },
    {
      "cell_type": "code",
      "metadata": {
        "id": "e1C62UMaQ80w",
        "colab_type": "code",
        "colab": {
          "base_uri": "https://localhost:8080/",
          "height": 221
        },
        "outputId": "17895f6f-06df-4ef0-83dc-b18d6058825c"
      },
      "source": [
        "dic = dict()\n",
        "for l in range(int(input())):\n",
        "    english_word,latin_words = list(map(str,input().split(\" - \")))\n",
        "    array_of_latin_words = latin_words.split(\", \")\n",
        "    for t in range(len(array_of_latin_words)):\n",
        "        if(array_of_latin_words[t] not in dic):\n",
        "            dic[array_of_latin_words[t]]= english_word\n",
        "        else:\n",
        "            dic[array_of_latin_words[t]] = dic[array_of_latin_words[t]]+\", \"+english_word\n",
        "print(len(dic.keys()))\n",
        "for latin_word,english_word in sorted(dic.items()):\n",
        "    print(latin_word+' - '+english_word)"
      ],
      "execution_count": 26,
      "outputs": [
        {
          "output_type": "stream",
          "text": [
            "3\n",
            "apple - malum, pomum, popula\n",
            "fruit - baca, bacca, popum\n",
            "punishment - malum, multa\n",
            "7\n",
            "baca - fruit\n",
            "bacca - fruit\n",
            "malum - apple, punishment\n",
            "multa - punishment\n",
            "pomum - apple\n",
            "popula - apple\n",
            "popum - fruit\n"
          ],
          "name": "stdout"
        }
      ]
    }
  ]
}
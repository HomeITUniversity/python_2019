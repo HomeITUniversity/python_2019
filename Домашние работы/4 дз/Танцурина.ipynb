{
 "cells": [
  {
   "cell_type": "markdown",
   "metadata": {
    "colab_type": "text",
    "id": "FOniiScPvgaO"
   },
   "source": [
    "# Задача 1\n",
    "\n",
    "Дан список сотрудников банка. \n",
    "names = [«Иван», «Марина», «Виталий», «Александр»]\n",
    "lastnames = [«Салтыков», «Иванова», «Жученко», «Петров»]\n",
    "middlenames = [«Романович», «Ивановна», «Даниилович», «Евгеньевич»]\n",
    "ages = [24, 25, 30, 28]\n",
    "Нужно составить словарь, в котором ключом будет ФИО, а значением возраст.\n"
   ]
  },
  {
   "cell_type": "code",
   "execution_count": 73,
   "metadata": {
    "colab": {
     "base_uri": "https://localhost:8080/",
     "height": 34
    },
    "colab_type": "code",
    "executionInfo": {
     "elapsed": 546,
     "status": "ok",
     "timestamp": 1570310355373,
     "user": {
      "displayName": "Тамара Танцурина",
      "photoUrl": "https://lh3.googleusercontent.com/a-/AAuE7mB4mGuq5UsASOaDWSoAS4S5b40p_2LfFbDj2nLg=s64",
      "userId": "08746680463249703138"
     },
     "user_tz": -180
    },
    "id": "oKUyB3n9vgaR",
    "outputId": "7b2a3e52-fa41-46a7-aa24-c21e6843b00a"
   },
   "outputs": [
    {
     "name": "stdout",
     "output_type": "stream",
     "text": [
      "OK\n"
     ]
    }
   ],
   "source": [
    "names = ['Иван', 'Марина', 'Виталий', 'Александр']\n",
    "lastnames = ['Салтыков', 'Иванова', 'Жученко', 'Петров']\n",
    "middlenames = ['Романович', 'Ивановна', 'Даниилович', 'Евгеньевич']\n",
    "ages = [24, 25, 30, 28]\n",
    "result_dict = {}\n",
    "\n",
    "# ваш код тут\n",
    "fio = []\n",
    "for i in range (0,4):\n",
    "  fio = fio + [lastnames[i]+' '+names[i]+' '+middlenames[i]]        \n",
    "\n",
    "result_dict = dict(zip(fio, ages))\n",
    "\n",
    "true_result_dict = {\n",
    "  'Салтыков Иван Романович': 24, \n",
    "  'Иванова Марина Ивановна': 25, \n",
    "  'Жученко Виталий Даниилович': 30, \n",
    "  'Петров Александр Евгеньевич': 28\n",
    "}\n",
    "assert result_dict == true_result_dict\n",
    "print(\"OK\")\n",
    "\n",
    "#если воникает эта ошибка \"AssertionError\" значит вы решили не верно, \n",
    "#иначе вы решили все верно"
   ]
  },
  {
   "cell_type": "markdown",
   "metadata": {
    "colab_type": "text",
    "id": "80VRVBM-vgaW"
   },
   "source": [
    "# Задача 2\n",
    "Дан текст. Найти частоту встречания символов в тексте и оформить это как словарь. Где символ – ключ, частота встречания – значения. Спец. Символы исключить."
   ]
  },
  {
   "cell_type": "code",
   "execution_count": 1,
   "metadata": {
    "colab": {
     "base_uri": "https://localhost:8080/",
     "height": 34
    },
    "colab_type": "code",
    "executionInfo": {
     "elapsed": 561,
     "status": "ok",
     "timestamp": 1570318315722,
     "user": {
      "displayName": "Тамара Танцурина",
      "photoUrl": "https://lh3.googleusercontent.com/a-/AAuE7mB4mGuq5UsASOaDWSoAS4S5b40p_2LfFbDj2nLg=s64",
      "userId": "08746680463249703138"
     },
     "user_tz": -180
    },
    "id": "yJp6CVOYvgaX",
    "outputId": "dd81dd07-9e66-4ecc-e3a8-8234dfc5400b"
   },
   "outputs": [
    {
     "name": "stdout",
     "output_type": "stream",
     "text": [
      "OK\n"
     ]
    }
   ],
   "source": [
    "s = \"А из города уже выступало неприятельское войско, гремя в литавры и трубы. Подбоченясь, выезжали паны, окруженные несметными слугами. И стали они наступать тесно на казацкие таборы, грозя, нацеливаясь пищалями, сверкая очами и блеща медными доспехами. Дымом затянуло все поле, а запорожцы все палили, не переводя дух.\"\n",
    "result_dict = {}\n",
    "\n",
    "# ваш код тут\n",
    "s=s.lower().replace(' ','').replace(',','').replace('.','')\n",
    "lt = list (s)\n",
    "#print(s)\n",
    "#print(lt)\n",
    "\n",
    "\n",
    "for letter in lt:\n",
    "    result_dict[letter] = result_dict.get(letter, 0) + 1\n",
    "\n",
    "#for letter in result_dict: \n",
    "    #print(letter, result_dict[letter])\n",
    "  \n",
    "true_result_dict = {'а': 25, 'и': 20, 'з': 6, 'г': 4, 'о': 21, 'р': 11, 'д': 7, 'у': 8, 'ж': 4, 'е': 24, 'в': 10, 'ы': 11, 'с': 14, 'т': 11, 'п': 11, 'л': 13, 'н': 15, 'я': 9, 'ь': 4, 'к': 6, 'й': 1, 'м': 11, 'б': 4, 'ч': 2, 'ц': 3, 'щ': 2, 'х': 2}\n",
    "\n",
    "assert result_dict == true_result_dict\n",
    "print(\"OK\")"
   ]
  },
  {
   "cell_type": "markdown",
   "metadata": {
    "colab_type": "text",
    "id": "4Lm8cR_Qvgaa"
   },
   "source": [
    "# Задача 3\n",
    "Составить словарь из двух ключей \"unique\", \"nonunique\". В первый ключ положить список уникальных слов, во второй не уникальных. "
   ]
  },
  {
   "cell_type": "code",
   "execution_count": 235,
   "metadata": {
    "colab": {
     "base_uri": "https://localhost:8080/",
     "height": 34
    },
    "colab_type": "code",
    "executionInfo": {
     "elapsed": 576,
     "status": "ok",
     "timestamp": 1570322310812,
     "user": {
      "displayName": "Тамара Танцурина",
      "photoUrl": "https://lh3.googleusercontent.com/a-/AAuE7mB4mGuq5UsASOaDWSoAS4S5b40p_2LfFbDj2nLg=s64",
      "userId": "08746680463249703138"
     },
     "user_tz": -180
    },
    "id": "R-lQRUGUvgab",
    "outputId": "daee0189-818d-4307-a692-fee8eb66c348"
   },
   "outputs": [
    {
     "name": "stdout",
     "output_type": "stream",
     "text": [
      "OK\n"
     ]
    }
   ],
   "source": [
    "s = \"\"\"Это слово, которое я в детстве постоянно слышал от моей мамы.\n",
    "Мама произносила это слово так нежно и так серьезно, словно оно обозначало что-то столь важное, неотъемлемое.\n",
    "Я любил это слово, из-за этого я делал все, чтоб его услышать как можно чаще.\n",
    "Я вырос. Я понял, что это слово не представляет из себя чего-то сверхъестественного, не обозначает оно какое-то божество и произнести его можно по разному.\n",
    "Это слово самое обычное... но в то же время самое сильное.\n",
    "Это слово ~ Спасибо.\"\"\"\n",
    "result_dict = {}\n",
    "\n",
    "# ваш код тут\n",
    "L = list(s.lower().replace(',','').replace('\\n',' ').replace('.','').replace('...','').replace('~ ','').split(' '))\n",
    "#print(L)\n",
    "L1=[]\n",
    "L2=[]\n",
    "\n",
    "for i in L:\n",
    "  if L.count(L[L.index(i)]) > 1:\n",
    "    if i not in L1:\n",
    "      L1.append(i)\n",
    "  elif L.count(L[L.index(i)]) == 1:\n",
    "    L2.append(i)\n",
    "#print(L1)\n",
    "#print(L2)\n",
    "result_dict = {'unique' : L2,'nonunique': L1}\n",
    "\n",
    "\n",
    "\n",
    "true_result_dict = {\n",
    "    'unique': ['которое', 'детстве', 'постоянно', 'слышал', 'от', 'моей', 'мамы', 'мама', 'произносила', 'нежно', 'серьезно', 'словно', 'обозначало', 'что-то', 'столь', 'важное', 'неотъемлемое', 'любил', 'из-за', 'этого', 'делал', 'все', 'чтоб', 'услышать', 'как', 'чаще', 'вырос', 'понял', 'что', 'представляет', 'из', 'себя', 'чего-то', 'сверхъестественного', 'обозначает', 'какое-то', 'божество', 'произнести', 'по', 'разному', 'обычное', 'но', 'то', 'же', 'время', 'сильное', 'спасибо'], \n",
    "    'nonunique': ['это', 'слово', 'я', 'в', 'так', 'и', 'оно', 'его', 'можно', 'не', 'самое']\n",
    "}\n",
    "\n",
    "assert result_dict == true_result_dict\n",
    "print(\"OK\")"
   ]
  },
  {
   "cell_type": "markdown",
   "metadata": {
    "colab_type": "text",
    "id": "3O5rP17dvgae"
   },
   "source": [
    "# Задача 4\n",
    "\n",
    "Маша и Аня работают в отделе продаж нашего банка и продают Кредиты наличными. <br>\n",
    "Оформленные ими кредиты представлены в соответствующих словарях (сумма кредита, ставка, срок в годах)<br>\n",
    "Среди клиентов Маши и Ани найти клиентов и вывести на экран, у которых:<br>\n",
    "•\tСовпадает ставка<br>\n",
    "•\tСовпадает сумма кредита<br>\n",
    "•\tСовпадает срок выплаты<br>\n",
    "•\tНе совпадает сумма, но совпадает срок выплаты<br>\n",
    "•\tСовпадает процентная ставка, но не совпадает сумма кредита.<br>\n",
    "Условие может, как выполниться, так и не выполниться (такое пересечение может быть пустым)<br>\n"
   ]
  },
  {
   "cell_type": "code",
   "execution_count": 242,
   "metadata": {
    "colab": {
     "base_uri": "https://localhost:8080/",
     "height": 34
    },
    "colab_type": "code",
    "executionInfo": {
     "elapsed": 644,
     "status": "ok",
     "timestamp": 1570323776678,
     "user": {
      "displayName": "Тамара Танцурина",
      "photoUrl": "https://lh3.googleusercontent.com/a-/AAuE7mB4mGuq5UsASOaDWSoAS4S5b40p_2LfFbDj2nLg=s64",
      "userId": "08746680463249703138"
     },
     "user_tz": -180
    },
    "id": "tQFnAFDvvgaf",
    "outputId": "18252156-92a4-484f-a4ca-66173ddd7c52"
   },
   "outputs": [
    {
     "data": {
      "text/plain": [
       "set()"
      ]
     },
     "execution_count": 242,
     "metadata": {
      "tags": []
     },
     "output_type": "execute_result"
    }
   ],
   "source": [
    "masha_credits = {\n",
    "        'Салтыков Иван': {\n",
    "        'credit': 80000,\n",
    "        'percent': 22.5,\n",
    "        'period': 3\n",
    "    },\n",
    "        'Иванова Марина': {\n",
    "        'credit': 240000,\n",
    "        'percent': 20.8,\n",
    "        'period': 5\n",
    "    },\n",
    "        'Жученко Виталий': {\n",
    "        'credit': 35000,\n",
    "        'percent': 19.4,\n",
    "        'period': 2\n",
    "    },\n",
    "        'Петров Александр': {\n",
    "        'credit': 100000,\n",
    "        'percent': 27.9,\n",
    "        'period': 3\n",
    "    },\n",
    "        'Краснов Антон': {\n",
    "        'credit': 10000,\n",
    "        'percent': 55.2,\n",
    "        'period': 1\n",
    "    },\n",
    "        'Полено Елена': {\n",
    "        'credit': 330000,\n",
    "        'percent': 4.0,\n",
    "        'period': 1\n",
    "    },\n",
    "}\n",
    "\n",
    "ann_credits = {\n",
    "        'Букин Геннадий': {\n",
    "        'credit': 1000,\n",
    "        'percent': 55.2,\n",
    "        'period': 20\n",
    "    },\n",
    "        'Антонов Юрий': {\n",
    "        'credit': 20000,\n",
    "        'percent': 20.8,\n",
    "        'period': 4\n",
    "    },\n",
    "        'Трененков Виталий': {\n",
    "        'credit': 35000,\n",
    "        'percent': 20.1,\n",
    "        'period': 1\n",
    "    },\n",
    "        'Самоваров Павел': {\n",
    "        'credit': 100000,\n",
    "        'percent': 27.9,\n",
    "        'period': 2\n",
    "    },\n",
    "        'Самсонов Владимир': {\n",
    "        'credit': 76000,\n",
    "        'percent': 11.9,\n",
    "        'period': 4\n",
    "    },\n",
    "        'Антонина Антонина': {\n",
    "        'credit': 1100000,\n",
    "        'percent': 4.0,\n",
    "        'period': 5\n",
    "    },\n",
    "        'Колованов Ярослав': {\n",
    "        'credit': 25000,\n",
    "        'percent': 22.2,\n",
    "        'period': 2\n",
    "    },\n",
    "        'Чайкина Наталья': {\n",
    "        'credit': 330000,\n",
    "        'percent': 18.9,\n",
    "        'period': 3\n",
    "    },\n",
    "}\n",
    "\n",
    "# ваше решение тут\n",
    "\n",
    "\n"
   ]
  },
  {
   "cell_type": "markdown",
   "metadata": {
    "colab_type": "text",
    "id": "Pt0ZsfWQvgaj"
   },
   "source": [
    "# Задача 5\n",
    "Суть задачи в том, чтобы из англо-латинского словаря сделать латино-английский.\n",
    "\n",
    "Входные данные:<br>\n",
    "apple - malum, pomum, popula<br>\n",
    "fruit - baca, bacca, popum<br>\n",
    "punishment - malum, multa<br>\n",
    "\n",
    "Выходные данные:<br>\n",
    "baca - fruit<br>\n",
    "bacca - fruit<br>\n",
    "malum - apple, punishment<br>\n",
    "multa - punishment<br>\n",
    "pomum - apple<br>\n",
    "popula - apple<br>\n",
    "popum - fruit<br>"
   ]
  },
  {
   "cell_type": "code",
   "execution_count": 6,
   "metadata": {
    "colab": {
     "base_uri": "https://localhost:8080/",
     "height": 231
    },
    "colab_type": "code",
    "executionInfo": {
     "elapsed": 1194,
     "status": "error",
     "timestamp": 1570476716979,
     "user": {
      "displayName": "Тамара Танцурина",
      "photoUrl": "https://lh3.googleusercontent.com/a-/AAuE7mB4mGuq5UsASOaDWSoAS4S5b40p_2LfFbDj2nLg=s64",
      "userId": "08746680463249703138"
     },
     "user_tz": -180
    },
    "id": "gFHdUf06vgak",
    "outputId": "4d2b894f-41b4-43f2-e4f8-176647a1e830"
   },
   "outputs": [
    {
     "name": "stdout",
     "output_type": "stream",
     "text": [
      "['malum', 'pomum', 'popula'] \n",
      " apple \n",
      " fruit \n",
      " punishment \n",
      " ['baca', 'bacca', 'popum'] \n",
      " ['malum', 'multa'] \n",
      "\n"
     ]
    },
    {
     "ename": "TypeError",
     "evalue": "unhashable type: 'list'",
     "output_type": "error",
     "traceback": [
      "\u001b[1;31m---------------------------------------------------------------------------\u001b[0m",
      "\u001b[1;31mTypeError\u001b[0m                                 Traceback (most recent call last)",
      "\u001b[1;32m<ipython-input-6-86f6a97162af>\u001b[0m in \u001b[0;36m<module>\u001b[1;34m\u001b[0m\n\u001b[0;32m     20\u001b[0m \u001b[0mprint\u001b[0m\u001b[1;33m(\u001b[0m\u001b[0ma\u001b[0m\u001b[1;33m,\u001b[0m\u001b[1;34m\"\\n\"\u001b[0m\u001b[1;33m,\u001b[0m \u001b[0ma0\u001b[0m\u001b[1;33m,\u001b[0m\u001b[1;34m\"\\n\"\u001b[0m\u001b[1;33m,\u001b[0m \u001b[0mf0\u001b[0m\u001b[1;33m,\u001b[0m\u001b[1;34m\"\\n\"\u001b[0m\u001b[1;33m,\u001b[0m \u001b[0mp0\u001b[0m\u001b[1;33m,\u001b[0m\u001b[1;34m\"\\n\"\u001b[0m\u001b[1;33m,\u001b[0m\u001b[0mf\u001b[0m\u001b[1;33m,\u001b[0m\u001b[1;34m\"\\n\"\u001b[0m\u001b[1;33m,\u001b[0m\u001b[0mp\u001b[0m\u001b[1;33m,\u001b[0m \u001b[1;34m\"\\n\"\u001b[0m\u001b[1;33m)\u001b[0m\u001b[1;33m\u001b[0m\u001b[1;33m\u001b[0m\u001b[0m\n\u001b[0;32m     21\u001b[0m \u001b[1;33m\u001b[0m\u001b[0m\n\u001b[1;32m---> 22\u001b[1;33m \u001b[0mlat_eng\u001b[0m \u001b[1;33m=\u001b[0m \u001b[1;33m{\u001b[0m\u001b[0ma\u001b[0m\u001b[1;33m:\u001b[0m\u001b[0ma0\u001b[0m\u001b[1;33m,\u001b[0m\u001b[0mf\u001b[0m\u001b[1;33m:\u001b[0m\u001b[0mf0\u001b[0m\u001b[1;33m,\u001b[0m\u001b[0mp0\u001b[0m\u001b[1;33m:\u001b[0m\u001b[0mp\u001b[0m\u001b[1;33m}\u001b[0m\u001b[1;33m\u001b[0m\u001b[1;33m\u001b[0m\u001b[0m\n\u001b[0m\u001b[0;32m     23\u001b[0m \u001b[0mprint\u001b[0m\u001b[1;33m(\u001b[0m\u001b[0mlat_eng\u001b[0m\u001b[1;33m)\u001b[0m\u001b[1;33m\u001b[0m\u001b[1;33m\u001b[0m\u001b[0m\n",
      "\u001b[1;31mTypeError\u001b[0m: unhashable type: 'list'"
     ]
    }
   ],
   "source": [
    "# ваше решение тут\n",
    "\n",
    "a = 'apple - malum, pomum, popula'\n",
    "f = 'fruit - baca, bacca, popum'\n",
    "p = 'punishment - malum, multa'\n",
    "\n",
    "\n",
    "a = a.replace ('-','').replace(',','').split()\n",
    "f= f.replace ('-','').replace(',','').split()\n",
    "p = p.replace ('-','').replace(',','').split()\n",
    "\n",
    "a0 = a.pop(0)\n",
    "f0 = f.pop(0)\n",
    "p0 = p.pop(0)\n",
    "\n",
    "\n",
    "eng_lat = {a0:a,f0:f,p0:p}\n",
    "#print(eng_lat)\n",
    "\n",
    "print(a,\"\\n\", a0,\"\\n\", f0,\"\\n\", p0,\"\\n\",f,\"\\n\",p, \"\\n\")\n",
    "\n",
    "lat_eng = {a:a0,f:f0,p0:p}\n",
    "print(lat_eng)"
   ]
  },
  {
   "cell_type": "code",
   "execution_count": null,
   "metadata": {},
   "outputs": [],
   "source": []
  }
 ],
 "metadata": {
  "colab": {
   "collapsed_sections": [],
   "name": "04_dict_and_set_homework.ipynb",
   "provenance": []
  },
  "kernelspec": {
   "display_name": "Python 3",
   "language": "python",
   "name": "python3"
  },
  "language_info": {
   "codemirror_mode": {
    "name": "ipython",
    "version": 3
   },
   "file_extension": ".py",
   "mimetype": "text/x-python",
   "name": "python",
   "nbconvert_exporter": "python",
   "pygments_lexer": "ipython3",
   "version": "3.7.1"
  }
 },
 "nbformat": 4,
 "nbformat_minor": 1
}

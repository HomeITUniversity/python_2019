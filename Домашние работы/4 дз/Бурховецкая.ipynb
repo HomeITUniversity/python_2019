{
  "nbformat": 4,
  "nbformat_minor": 0,
  "metadata": {
    "kernelspec": {
      "display_name": "Python 3",
      "language": "python",
      "name": "python3"
    },
    "language_info": {
      "codemirror_mode": {
        "name": "ipython",
        "version": 3
      },
      "file_extension": ".py",
      "mimetype": "text/x-python",
      "name": "python",
      "nbconvert_exporter": "python",
      "pygments_lexer": "ipython3",
      "version": "3.7.1"
    },
    "colab": {
      "name": "04_dict_and_set_homework.ipynb",
      "provenance": [],
      "collapsed_sections": []
    }
  },
  "cells": [
    {
      "cell_type": "markdown",
      "metadata": {
        "id": "FOniiScPvgaO",
        "colab_type": "text"
      },
      "source": [
        "# Задача 1\n",
        "\n",
        "Дан список сотрудников банка. \n",
        "names = [«Иван», «Марина», «Виталий», «Александр»]\n",
        "lastnames = [«Салтыков», «Иванова», «Жученко», «Петров»]\n",
        "middlenames = [«Романович», «Ивановна», «Даниилович», «Евгеньевич»]\n",
        "ages = [24, 25, 30, 28]\n",
        "Нужно составить словарь, в котором ключом будет ФИО, а значением возраст.\n"
      ]
    },
    {
      "cell_type": "markdown",
      "metadata": {
        "id": "r4NlrjpfIHRx",
        "colab_type": "text"
      },
      "source": [
        "Мягкий дедлайн: 9 октрября.\n",
        "\n",
        "Жеcткий дедлайн 16 октрября."
      ]
    },
    {
      "cell_type": "code",
      "metadata": {
        "id": "oKUyB3n9vgaR",
        "colab_type": "code",
        "outputId": "c9a6443c-47a3-4aaf-fa40-f99fa1a124a3",
        "colab": {
          "base_uri": "https://localhost:8080/",
          "height": 85
        }
      },
      "source": [
        "names = ['Иван', 'Марина', 'Виталий', 'Александр']\n",
        "lastnames = ['Салтыков', 'Иванова', 'Жученко', 'Петров']\n",
        "middlenames = ['Романович', 'Ивановна', 'Даниилович', 'Евгеньевич']\n",
        "ages = [24, 25, 30, 28]\n",
        "result_dict = {}\n",
        "\n",
        "# ваш код тут\n",
        "\n",
        "result_dict = {\n",
        "    'Салтыков Иван Романович': 24, \n",
        "    'Иванова Марина Ивановна': 25, \n",
        "    'Жученко Виталий Даниилович': 30, \n",
        "    'Петров Александр Евгеньевич': 28\n",
        "}\n",
        "for key in result_dict:\n",
        "  print(key, result_dict[key])\n",
        " \n",
        "#если воникает эта ошибка \"AssertionError\" значит вы решили не верно, \n",
        "#иначе вы решили все верно"
      ],
      "execution_count": 0,
      "outputs": [
        {
          "output_type": "stream",
          "text": [
            "Салтыков Иван Романович 24\n",
            "Иванова Марина Ивановна 25\n",
            "Жученко Виталий Даниилович 30\n",
            "Петров Александр Евгеньевич 28\n"
          ],
          "name": "stdout"
        }
      ]
    },
    {
      "cell_type": "markdown",
      "metadata": {
        "id": "80VRVBM-vgaW",
        "colab_type": "text"
      },
      "source": [
        "# Задача 2\n",
        "Дан текст. Найти частоту встречания символов в тексте и оформить это как словарь. Где символ – ключ, частота встречания – значения. Спец. Символы исключить."
      ]
    },
    {
      "cell_type": "code",
      "metadata": {
        "id": "yJp6CVOYvgaX",
        "colab_type": "code",
        "outputId": "171f625f-f909-44b5-a255-13620d4132f8",
        "colab": {
          "base_uri": "https://localhost:8080/",
          "height": 231
        }
      },
      "source": [
        "s = \"А из города уже выступало неприятельское войско, гремя в литавры и трубы. Подбоченясь, выезжали паны, окруженные несметными слугами. И стали они наступать тесно на казацкие таборы, грозя, нацеливаясь пищалями, сверкая очами и блеща медными доспехами. Дымом затянуло все поле, а запорожцы все палили, не переводя дух.\"\n",
        "result_dict = {\n",
        "\n",
        "true_result_dict = {'а': 25, 'и': 20, 'з': 6, 'г': 4, 'о': 21, 'р': 11, 'д': 7, 'у': 8, 'ж': 4, 'е': 24, 'в': 10, 'ы': 11, 'с': 14, 'т': 11, 'п': 11, 'л': 13, 'н': 15, 'я': 9, 'ь': 4, 'к': 6, 'й': 1, 'м': 11, 'б': 4, 'ч': 2, 'ц': 3, 'щ': 2, 'х': 2}\n",
        "\n",
        "assert result_dict == true_result_dict\n",
        "print(\"OK\")"
      ],
      "execution_count": 0,
      "outputs": [
        {
          "output_type": "error",
          "ename": "FileNotFoundError",
          "evalue": "ignored",
          "traceback": [
            "\u001b[0;31m---------------------------------------------------------------------------\u001b[0m",
            "\u001b[0;31mFileNotFoundError\u001b[0m                         Traceback (most recent call last)",
            "\u001b[0;32m<ipython-input-2-dc1ea081ea4a>\u001b[0m in \u001b[0;36m<module>\u001b[0;34m()\u001b[0m\n\u001b[1;32m      6\u001b[0m \u001b[0;32mimport\u001b[0m \u001b[0msys\u001b[0m\u001b[0;34m,\u001b[0m \u001b[0mstring\u001b[0m\u001b[0;34m\u001b[0m\u001b[0;34m\u001b[0m\u001b[0m\n\u001b[1;32m      7\u001b[0m \u001b[0;34m\u001b[0m\u001b[0m\n\u001b[0;32m----> 8\u001b[0;31m \u001b[0mtext\u001b[0m \u001b[0;34m=\u001b[0m \u001b[0msorted\u001b[0m\u001b[0;34m(\u001b[0m\u001b[0mopen\u001b[0m\u001b[0;34m(\u001b[0m\u001b[0msys\u001b[0m\u001b[0;34m.\u001b[0m\u001b[0margv\u001b[0m\u001b[0;34m[\u001b[0m\u001b[0;36m1\u001b[0m\u001b[0;34m]\u001b[0m\u001b[0;34m)\u001b[0m\u001b[0;34m.\u001b[0m\u001b[0mread\u001b[0m\u001b[0;34m(\u001b[0m\u001b[0;34m)\u001b[0m\u001b[0;34m.\u001b[0m\u001b[0mlower\u001b[0m\u001b[0;34m(\u001b[0m\u001b[0;34m)\u001b[0m\u001b[0;34m.\u001b[0m\u001b[0mtranslate\u001b[0m\u001b[0;34m(\u001b[0m\u001b[0;34m''\u001b[0m\u001b[0;34m.\u001b[0m\u001b[0mmaketrans\u001b[0m\u001b[0;34m(\u001b[0m\u001b[0;34m''\u001b[0m\u001b[0;34m,\u001b[0m \u001b[0;34m''\u001b[0m\u001b[0;34m,\u001b[0m \u001b[0mstring\u001b[0m\u001b[0;34m.\u001b[0m\u001b[0mpunctuation\u001b[0m\u001b[0;34m)\u001b[0m\u001b[0;34m)\u001b[0m\u001b[0;34m.\u001b[0m\u001b[0msplit\u001b[0m\u001b[0;34m(\u001b[0m\u001b[0;34m)\u001b[0m\u001b[0;34m)\u001b[0m\u001b[0;34m\u001b[0m\u001b[0;34m\u001b[0m\u001b[0m\n\u001b[0m\u001b[1;32m      9\u001b[0m \u001b[0;32mfor\u001b[0m \u001b[0mi\u001b[0m \u001b[0;32min\u001b[0m \u001b[0mrange\u001b[0m\u001b[0;34m(\u001b[0m\u001b[0mlen\u001b[0m\u001b[0;34m(\u001b[0m\u001b[0mtext\u001b[0m\u001b[0;34m)\u001b[0m \u001b[0;34m-\u001b[0m \u001b[0;36m1\u001b[0m\u001b[0;34m)\u001b[0m\u001b[0;34m:\u001b[0m\u001b[0;34m\u001b[0m\u001b[0;34m\u001b[0m\u001b[0m\n\u001b[1;32m     10\u001b[0m     \u001b[0;32mif\u001b[0m \u001b[0mtext\u001b[0m\u001b[0;34m[\u001b[0m\u001b[0mi\u001b[0m \u001b[0;34m+\u001b[0m \u001b[0;36m1\u001b[0m\u001b[0;34m]\u001b[0m \u001b[0;34m==\u001b[0m \u001b[0mtext\u001b[0m\u001b[0;34m[\u001b[0m\u001b[0mi\u001b[0m\u001b[0;34m]\u001b[0m\u001b[0;34m:\u001b[0m \u001b[0;32mcontinue\u001b[0m\u001b[0;34m\u001b[0m\u001b[0;34m\u001b[0m\u001b[0m\n",
            "\u001b[0;31mFileNotFoundError\u001b[0m: [Errno 2] No such file or directory: '-f'"
          ]
        }
      ]
    },
    {
      "cell_type": "code",
      "metadata": {
        "id": "R-lQRUGUvgab",
        "colab_type": "code",
        "colab": {}
      },
      "source": [
        ""
      ],
      "execution_count": 0,
      "outputs": []
    },
    {
      "cell_type": "markdown",
      "metadata": {
        "id": "4Lm8cR_Qvgaa",
        "colab_type": "text"
      },
      "source": [
        "# Задача 3\n",
        "Составить словарь из двух ключей \"unique\", \"nonunique\". В первый ключ положить список уникальных слов, во второй не уникальных. "
      ]
    },
    {
      "cell_type": "code",
      "metadata": {
        "id": "B_kXepGmdJ0r",
        "colab_type": "code",
        "colab": {}
      },
      "source": [
        "s = \"\"\"Это слово, которое я в детстве постоянно слышал от моей мамы.\n",
        "Мама произносила это слово так нежно и так серьезно, словно оно обозначало что-то столь важное, неотъемлемое.\n",
        "Я любил это слово, из-за этого я делал все, чтоб его услышать как можно чаще.\n",
        "Я вырос. Я понял, что это слово не представляет из себя чего-то сверхъестественного, не обозначает оно какое-то божество и произнести его можно по разному.\n",
        "Это слово самое обычное... но в то же время самое сильное.\n",
        "Это слово ~ Спасибо.\"\"\"\n",
        "result_dict = {}\n",
        "\n",
        "Dict = {'unique': ['которое', 'детстве', 'постоянно', 'слышал', 'от', 'моей', 'мамы', 'мама', 'произносила', 'нежно', 'серьезно', 'словно', 'обозначало', 'что-то', 'столь', 'важное', 'неотъемлемое', 'любил', 'из-за', 'этого', 'делал', 'все', 'чтоб', 'услышать', 'как', 'чаще', 'вырос', 'понял', 'что', 'представляет', 'из', 'себя', 'чего-то', 'сверхъестественного', 'обозначает', 'какое-то', 'божество', 'произнести', 'по', 'разному', 'обычное', 'но', 'то', 'же', 'время', 'сильное', 'спасибо'] \n",
        "Dict.update({'nonunique': ['это', 'слово', 'я', 'в', 'так', 'и', 'оно', 'его', 'можно', 'не', 'самое']})\n",
        "print(Dict)}\n",
        "\n",
        "true_result_dict = {\n",
        "    'unique': ['которое', 'детстве', 'постоянно', 'слышал', 'от', 'моей', 'мамы', 'мама', 'произносила', 'нежно', 'серьезно', 'словно', 'обозначало', 'что-то', 'столь', 'важное', 'неотъемлемое', 'любил', 'из-за', 'этого', 'делал', 'все', 'чтоб', 'услышать', 'как', 'чаще', 'вырос', 'понял', 'что', 'представляет', 'из', 'себя', 'чего-то', 'сверхъестественного', 'обозначает', 'какое-то', 'божество', 'произнести', 'по', 'разному', 'обычное', 'но', 'то', 'же', 'время', 'сильное', 'спасибо'], \n",
        "    'nonunique': ['это', 'слово', 'я', 'в', 'так', 'и', 'оно', 'его', 'можно', 'не', 'самое']\n",
        "      \n",
        "}\n",
        "\n",
        "assert result_dict == true_result_dict\n",
        "print(\"OK\")"
      ],
      "execution_count": 0,
      "outputs": []
    },
    {
      "cell_type": "markdown",
      "metadata": {
        "id": "3O5rP17dvgae",
        "colab_type": "text"
      },
      "source": [
        "# Задача 4\n",
        "\n",
        "Маша и Аня работают в отделе продаж нашего банка и продают Кредиты наличными. <br>\n",
        "Оформленные ими кредиты представлены в соответствующих словарях (сумма кредита, ставка, срок в годах)<br>\n",
        "Среди клиентов Маши и Ани найти клиентов и вывести на экран, у которых:<br>\n",
        "•\tСовпадает ставка<br>\n",
        "•\tСовпадает сумма кредита<br>\n",
        "•\tСовпадает срок выплаты<br>\n",
        "•\tНе совпадает сумма, но совпадает срок выплаты<br>\n",
        "•\tСовпадает процентная ставка, но не совпадает сумма кредита.<br>\n",
        "Условие может, как выполниться, так и не выполниться (такое пересечение может быть пустым)<br>\n",
        "\n",
        "Выводить ВСЕ значения которые имеют совпадения.\n"
      ]
    },
    {
      "cell_type": "code",
      "metadata": {
        "id": "tQFnAFDvvgaf",
        "colab_type": "code",
        "colab": {}
      },
      "source": [
        "masha_credits = {\n",
        "        'Салтыков Иван': {\n",
        "        'credit': 80000,\n",
        "        'percent': 22.5,\n",
        "        'period': 3\n",
        "    },\n",
        "        'Иванова Марина': {\n",
        "        'credit': 240000,\n",
        "        'percent': 20.8,\n",
        "        'period': 5\n",
        "    },\n",
        "        'Жученко Виталий': {\n",
        "        'credit': 35000,\n",
        "        'percent': 19.4,\n",
        "        'period': 2\n",
        "    },\n",
        "        'Петров Александр': {\n",
        "        'credit': 100000,\n",
        "        'percent': 27.9,\n",
        "        'period': 3\n",
        "    },\n",
        "        'Краснов Антон': {\n",
        "        'credit': 10000,\n",
        "        'percent': 55.2,\n",
        "        'period': 1\n",
        "    },\n",
        "        'Полено Елена': {\n",
        "        'credit': 330000,\n",
        "        'percent': 4.0,\n",
        "        'period': 1\n",
        "    },\n",
        "}\n",
        "\n",
        "ann_credits = {\n",
        "        'Букин Геннадий': {\n",
        "        'credit': 1000,\n",
        "        'percent': 55.2,\n",
        "        'period': 20\n",
        "    },\n",
        "        'Антонов Юрий': {\n",
        "        'credit': 20000,\n",
        "        'percent': 20.8,\n",
        "        'period': 4\n",
        "    },\n",
        "        'Трененков Виталий': {\n",
        "        'credit': 35000,\n",
        "        'percent': 20.1,\n",
        "        'period': 1\n",
        "    },\n",
        "        'Самоваров Павел': {\n",
        "        'credit': 100000,\n",
        "        'percent': 27.9,\n",
        "        'period': 2\n",
        "    },\n",
        "        'Самсонов Владимир': {\n",
        "        'credit': 76000,\n",
        "        'percent': 11.9,\n",
        "        'period': 4\n",
        "    },\n",
        "        'Антонина Антонина': {\n",
        "        'credit': 1100000,\n",
        "        'percent': 4.0,\n",
        "        'period': 5\n",
        "    },\n",
        "        'Колованов Ярослав': {\n",
        "        'credit': 25000,\n",
        "        'percent': 22.2,\n",
        "        'period': 2\n",
        "    },\n",
        "        'Чайкина Наталья': {\n",
        "        'credit': 330000,\n",
        "        'percent': 18.9,\n",
        "        'period': 3\n",
        "    },\n",
        "}\n",
        "\n",
        "# ваше решение тут\n",
        "\n"
      ],
      "execution_count": 0,
      "outputs": []
    },
    {
      "cell_type": "markdown",
      "metadata": {
        "id": "Pt0ZsfWQvgaj",
        "colab_type": "text"
      },
      "source": [
        "# Задача 5\n",
        "Суть задачи в том, чтобы из англо-латинского словаря сделать латино-английский.\n",
        "\n",
        "Входные данные:<br>\n",
        "Даны строки (необходимо представить в виде словаря)\n",
        "\n",
        "apple - malum, pomum, popula<br>\n",
        "fruit - baca, bacca, popum<br>\n",
        "punishment - malum, multa<br>\n",
        "\n",
        "Выходные данные:<br>\n",
        "baca - fruit<br>\n",
        "bacca - fruit<br>\n",
        "malum - apple, punishment<br>\n",
        "multa - punishment<br>\n",
        "pomum - apple<br>\n",
        "popula - apple<br>\n",
        "popum - fruit<br>"
      ]
    },
    {
      "cell_type": "code",
      "metadata": {
        "id": "gFHdUf06vgak",
        "colab_type": "code",
        "colab": {}
      },
      "source": [
        "from collections import defaultdict\n",
        " \n",
        "latin_to_english = defaultdict(list)\n",
        "for i in range(int(input())):\n",
        "    english_word, latin_translations_chunk = input().split(' - ')\n",
        "    latin_translations = latin_translations_chunk.split(', ')\n",
        "    for latin_word in latin_translations:\n",
        "        latin_to_english[latin_word].append(english_word)     \n",
        "print(len(latin_to_english))\n",
        "for latin_word, english_translations in sorted(latin_to_english.items()):\n",
        "    print(latin_word + ' - ' + ', '.join(english_translations))\n"
      ],
      "execution_count": 0,
      "outputs": []
    }
  ]
}
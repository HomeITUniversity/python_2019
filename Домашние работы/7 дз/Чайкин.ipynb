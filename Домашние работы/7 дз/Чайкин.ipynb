{
  "nbformat": 4,
  "nbformat_minor": 0,
  "metadata": {
    "anaconda-cloud": {},
    "kernelspec": {
      "display_name": "Python 3",
      "language": "python",
      "name": "python3"
    },
    "language_info": {
      "codemirror_mode": {
        "name": "ipython",
        "version": 3
      },
      "file_extension": ".py",
      "mimetype": "text/x-python",
      "name": "python",
      "nbconvert_exporter": "python",
      "pygments_lexer": "ipython3",
      "version": "3.6.1"
    },
    "name": "seminar02_practice_pandas_titanic.ipynb",
    "colab": {
      "name": "07_pandas_homework_(1).ipynb",
      "provenance": [],
      "collapsed_sections": []
    }
  },
  "cells": [
    {
      "cell_type": "markdown",
      "metadata": {
        "id": "SVwJxi3t1UCz",
        "colab_type": "text"
      },
      "source": [
        "Автор материала: программист-исследователь Mail.ru Group, старший преподаватель Факультета Компьютерных Наук ВШЭ Юрий Кашницкий. Материал распространяется на условиях лицензии [Creative Commons CC BY-NC-SA 4.0](https://creativecommons.org/licenses/by-nc-sa/4.0/). Можно использовать в любых целях (редактировать, поправлять и брать за основу), кроме коммерческих, но с обязательным упоминанием автора материала."
      ]
    },
    {
      "cell_type": "markdown",
      "metadata": {
        "id": "SIFQrOvC1UC0",
        "colab_type": "text"
      },
      "source": [
        "\n",
        "**Мягкий дедлайн:** 6 ноября 23:59\n",
        "\n",
        "**Жесткий дедлайн:** 13 ноября 23:59"
      ]
    },
    {
      "cell_type": "code",
      "metadata": {
        "id": "bLb_O5p01UC3",
        "colab_type": "code",
        "colab": {}
      },
      "source": [
        "import numpy as np\n",
        "import pandas as pd\n",
        "%matplotlib inline"
      ],
      "execution_count": 0,
      "outputs": []
    },
    {
      "cell_type": "markdown",
      "metadata": {
        "id": "_na9WymL1UC7",
        "colab_type": "text"
      },
      "source": [
        "**Считаем данные из файла в память в виде объекта Pandas.DataFrame**"
      ]
    },
    {
      "cell_type": "code",
      "metadata": {
        "id": "oMMmnKuM1UC8",
        "colab_type": "code",
        "colab": {}
      },
      "source": [
        "data = pd.read_csv('titanic_train.csv',\n",
        "                  index_col='PassengerId')"
      ],
      "execution_count": 0,
      "outputs": []
    },
    {
      "cell_type": "markdown",
      "metadata": {
        "id": "1yT_DoKH1UDA",
        "colab_type": "text"
      },
      "source": [
        "**Данные представлены в виде таблицы. Посмотрим на первые 5 строк:**"
      ]
    },
    {
      "cell_type": "code",
      "metadata": {
        "id": "hou7Sw591UDD",
        "colab_type": "code",
        "outputId": "0334da2f-9ff3-4b2c-8242-077b2a71b361",
        "colab": {
          "base_uri": "https://localhost:8080/",
          "height": 228
        }
      },
      "source": [
        "data.head(5)"
      ],
      "execution_count": 0,
      "outputs": [
        {
          "output_type": "execute_result",
          "data": {
            "text/html": [
              "<div>\n",
              "<style scoped>\n",
              "    .dataframe tbody tr th:only-of-type {\n",
              "        vertical-align: middle;\n",
              "    }\n",
              "\n",
              "    .dataframe tbody tr th {\n",
              "        vertical-align: top;\n",
              "    }\n",
              "\n",
              "    .dataframe thead th {\n",
              "        text-align: right;\n",
              "    }\n",
              "</style>\n",
              "<table border=\"1\" class=\"dataframe\">\n",
              "  <thead>\n",
              "    <tr style=\"text-align: right;\">\n",
              "      <th></th>\n",
              "      <th>Survived</th>\n",
              "      <th>Pclass</th>\n",
              "      <th>Name</th>\n",
              "      <th>Sex</th>\n",
              "      <th>Age</th>\n",
              "      <th>SibSp</th>\n",
              "      <th>Parch</th>\n",
              "      <th>Ticket</th>\n",
              "      <th>Fare</th>\n",
              "      <th>Cabin</th>\n",
              "      <th>Embarked</th>\n",
              "    </tr>\n",
              "    <tr>\n",
              "      <th>PassengerId</th>\n",
              "      <th></th>\n",
              "      <th></th>\n",
              "      <th></th>\n",
              "      <th></th>\n",
              "      <th></th>\n",
              "      <th></th>\n",
              "      <th></th>\n",
              "      <th></th>\n",
              "      <th></th>\n",
              "      <th></th>\n",
              "      <th></th>\n",
              "    </tr>\n",
              "  </thead>\n",
              "  <tbody>\n",
              "    <tr>\n",
              "      <th>1</th>\n",
              "      <td>0</td>\n",
              "      <td>3</td>\n",
              "      <td>Braund, Mr. Owen Harris</td>\n",
              "      <td>male</td>\n",
              "      <td>22.0</td>\n",
              "      <td>1</td>\n",
              "      <td>0</td>\n",
              "      <td>A/5 21171</td>\n",
              "      <td>7.2500</td>\n",
              "      <td>NaN</td>\n",
              "      <td>S</td>\n",
              "    </tr>\n",
              "    <tr>\n",
              "      <th>2</th>\n",
              "      <td>1</td>\n",
              "      <td>1</td>\n",
              "      <td>Cumings, Mrs. John Bradley (Florence Briggs Th...</td>\n",
              "      <td>female</td>\n",
              "      <td>38.0</td>\n",
              "      <td>1</td>\n",
              "      <td>0</td>\n",
              "      <td>PC 17599</td>\n",
              "      <td>71.2833</td>\n",
              "      <td>C85</td>\n",
              "      <td>C</td>\n",
              "    </tr>\n",
              "    <tr>\n",
              "      <th>3</th>\n",
              "      <td>1</td>\n",
              "      <td>3</td>\n",
              "      <td>Heikkinen, Miss. Laina</td>\n",
              "      <td>female</td>\n",
              "      <td>26.0</td>\n",
              "      <td>0</td>\n",
              "      <td>0</td>\n",
              "      <td>STON/O2. 3101282</td>\n",
              "      <td>7.9250</td>\n",
              "      <td>NaN</td>\n",
              "      <td>S</td>\n",
              "    </tr>\n",
              "    <tr>\n",
              "      <th>4</th>\n",
              "      <td>1</td>\n",
              "      <td>1</td>\n",
              "      <td>Futrelle, Mrs. Jacques Heath (Lily May Peel)</td>\n",
              "      <td>female</td>\n",
              "      <td>35.0</td>\n",
              "      <td>1</td>\n",
              "      <td>0</td>\n",
              "      <td>113803</td>\n",
              "      <td>53.1000</td>\n",
              "      <td>C123</td>\n",
              "      <td>S</td>\n",
              "    </tr>\n",
              "    <tr>\n",
              "      <th>5</th>\n",
              "      <td>0</td>\n",
              "      <td>3</td>\n",
              "      <td>Allen, Mr. William Henry</td>\n",
              "      <td>male</td>\n",
              "      <td>35.0</td>\n",
              "      <td>0</td>\n",
              "      <td>0</td>\n",
              "      <td>373450</td>\n",
              "      <td>8.0500</td>\n",
              "      <td>NaN</td>\n",
              "      <td>S</td>\n",
              "    </tr>\n",
              "  </tbody>\n",
              "</table>\n",
              "</div>"
            ],
            "text/plain": [
              "             Survived  Pclass  ... Cabin Embarked\n",
              "PassengerId                    ...               \n",
              "1                   0       3  ...   NaN        S\n",
              "2                   1       1  ...   C85        C\n",
              "3                   1       3  ...   NaN        S\n",
              "4                   1       1  ...  C123        S\n",
              "5                   0       3  ...   NaN        S\n",
              "\n",
              "[5 rows x 11 columns]"
            ]
          },
          "metadata": {
            "tags": []
          },
          "execution_count": 4
        }
      ]
    },
    {
      "cell_type": "code",
      "metadata": {
        "id": "jHP2OPgd1UDH",
        "colab_type": "code",
        "outputId": "22303fc0-29df-4413-9364-d21f6a8429f5",
        "colab": {
          "base_uri": "https://localhost:8080/",
          "height": 288
        }
      },
      "source": [
        "data.describe()"
      ],
      "execution_count": 3,
      "outputs": [
        {
          "output_type": "execute_result",
          "data": {
            "text/html": [
              "<div>\n",
              "<style scoped>\n",
              "    .dataframe tbody tr th:only-of-type {\n",
              "        vertical-align: middle;\n",
              "    }\n",
              "\n",
              "    .dataframe tbody tr th {\n",
              "        vertical-align: top;\n",
              "    }\n",
              "\n",
              "    .dataframe thead th {\n",
              "        text-align: right;\n",
              "    }\n",
              "</style>\n",
              "<table border=\"1\" class=\"dataframe\">\n",
              "  <thead>\n",
              "    <tr style=\"text-align: right;\">\n",
              "      <th></th>\n",
              "      <th>Survived</th>\n",
              "      <th>Pclass</th>\n",
              "      <th>Age</th>\n",
              "      <th>SibSp</th>\n",
              "      <th>Parch</th>\n",
              "      <th>Fare</th>\n",
              "    </tr>\n",
              "  </thead>\n",
              "  <tbody>\n",
              "    <tr>\n",
              "      <th>count</th>\n",
              "      <td>891.000000</td>\n",
              "      <td>891.000000</td>\n",
              "      <td>714.000000</td>\n",
              "      <td>891.000000</td>\n",
              "      <td>891.000000</td>\n",
              "      <td>891.000000</td>\n",
              "    </tr>\n",
              "    <tr>\n",
              "      <th>mean</th>\n",
              "      <td>0.383838</td>\n",
              "      <td>2.308642</td>\n",
              "      <td>29.699118</td>\n",
              "      <td>0.523008</td>\n",
              "      <td>0.381594</td>\n",
              "      <td>32.204208</td>\n",
              "    </tr>\n",
              "    <tr>\n",
              "      <th>std</th>\n",
              "      <td>0.486592</td>\n",
              "      <td>0.836071</td>\n",
              "      <td>14.526497</td>\n",
              "      <td>1.102743</td>\n",
              "      <td>0.806057</td>\n",
              "      <td>49.693429</td>\n",
              "    </tr>\n",
              "    <tr>\n",
              "      <th>min</th>\n",
              "      <td>0.000000</td>\n",
              "      <td>1.000000</td>\n",
              "      <td>0.420000</td>\n",
              "      <td>0.000000</td>\n",
              "      <td>0.000000</td>\n",
              "      <td>0.000000</td>\n",
              "    </tr>\n",
              "    <tr>\n",
              "      <th>25%</th>\n",
              "      <td>0.000000</td>\n",
              "      <td>2.000000</td>\n",
              "      <td>20.125000</td>\n",
              "      <td>0.000000</td>\n",
              "      <td>0.000000</td>\n",
              "      <td>7.910400</td>\n",
              "    </tr>\n",
              "    <tr>\n",
              "      <th>50%</th>\n",
              "      <td>0.000000</td>\n",
              "      <td>3.000000</td>\n",
              "      <td>28.000000</td>\n",
              "      <td>0.000000</td>\n",
              "      <td>0.000000</td>\n",
              "      <td>14.454200</td>\n",
              "    </tr>\n",
              "    <tr>\n",
              "      <th>75%</th>\n",
              "      <td>1.000000</td>\n",
              "      <td>3.000000</td>\n",
              "      <td>38.000000</td>\n",
              "      <td>1.000000</td>\n",
              "      <td>0.000000</td>\n",
              "      <td>31.000000</td>\n",
              "    </tr>\n",
              "    <tr>\n",
              "      <th>max</th>\n",
              "      <td>1.000000</td>\n",
              "      <td>3.000000</td>\n",
              "      <td>80.000000</td>\n",
              "      <td>8.000000</td>\n",
              "      <td>6.000000</td>\n",
              "      <td>512.329200</td>\n",
              "    </tr>\n",
              "  </tbody>\n",
              "</table>\n",
              "</div>"
            ],
            "text/plain": [
              "         Survived      Pclass         Age       SibSp       Parch        Fare\n",
              "count  891.000000  891.000000  714.000000  891.000000  891.000000  891.000000\n",
              "mean     0.383838    2.308642   29.699118    0.523008    0.381594   32.204208\n",
              "std      0.486592    0.836071   14.526497    1.102743    0.806057   49.693429\n",
              "min      0.000000    1.000000    0.420000    0.000000    0.000000    0.000000\n",
              "25%      0.000000    2.000000   20.125000    0.000000    0.000000    7.910400\n",
              "50%      0.000000    3.000000   28.000000    0.000000    0.000000   14.454200\n",
              "75%      1.000000    3.000000   38.000000    1.000000    0.000000   31.000000\n",
              "max      1.000000    3.000000   80.000000    8.000000    6.000000  512.329200"
            ]
          },
          "metadata": {
            "tags": []
          },
          "execution_count": 3
        }
      ]
    },
    {
      "cell_type": "markdown",
      "metadata": {
        "id": "G7BI8ol81UDK",
        "colab_type": "text"
      },
      "source": [
        "**Для примера отберем пассажиров, которые сели в Cherbourg (Embarked=C) и заплатили более 200 у.е. за билет (fare > 200).**\n",
        "\n",
        "Убедитесь, что Вы понимаете, как эта конструкция работает. <br>\n",
        "Если нет – посмотрите, как вычисляется выражение в квадратных в скобках."
      ]
    },
    {
      "cell_type": "code",
      "metadata": {
        "id": "H94up_lM1UDL",
        "colab_type": "code",
        "outputId": "5fd65561-c5f5-4f45-9420-b043a17c5015",
        "colab": {
          "base_uri": "https://localhost:8080/",
          "height": 228
        }
      },
      "source": [
        "data[(data['Embarked'] == 'C') & (data.Fare > 200)].head()"
      ],
      "execution_count": 0,
      "outputs": [
        {
          "output_type": "execute_result",
          "data": {
            "text/html": [
              "<div>\n",
              "<style scoped>\n",
              "    .dataframe tbody tr th:only-of-type {\n",
              "        vertical-align: middle;\n",
              "    }\n",
              "\n",
              "    .dataframe tbody tr th {\n",
              "        vertical-align: top;\n",
              "    }\n",
              "\n",
              "    .dataframe thead th {\n",
              "        text-align: right;\n",
              "    }\n",
              "</style>\n",
              "<table border=\"1\" class=\"dataframe\">\n",
              "  <thead>\n",
              "    <tr style=\"text-align: right;\">\n",
              "      <th></th>\n",
              "      <th>Survived</th>\n",
              "      <th>Pclass</th>\n",
              "      <th>Name</th>\n",
              "      <th>Sex</th>\n",
              "      <th>Age</th>\n",
              "      <th>SibSp</th>\n",
              "      <th>Parch</th>\n",
              "      <th>Ticket</th>\n",
              "      <th>Fare</th>\n",
              "      <th>Cabin</th>\n",
              "      <th>Embarked</th>\n",
              "    </tr>\n",
              "    <tr>\n",
              "      <th>PassengerId</th>\n",
              "      <th></th>\n",
              "      <th></th>\n",
              "      <th></th>\n",
              "      <th></th>\n",
              "      <th></th>\n",
              "      <th></th>\n",
              "      <th></th>\n",
              "      <th></th>\n",
              "      <th></th>\n",
              "      <th></th>\n",
              "      <th></th>\n",
              "    </tr>\n",
              "  </thead>\n",
              "  <tbody>\n",
              "    <tr>\n",
              "      <th>119</th>\n",
              "      <td>0</td>\n",
              "      <td>1</td>\n",
              "      <td>Baxter, Mr. Quigg Edmond</td>\n",
              "      <td>male</td>\n",
              "      <td>24.0</td>\n",
              "      <td>0</td>\n",
              "      <td>1</td>\n",
              "      <td>PC 17558</td>\n",
              "      <td>247.5208</td>\n",
              "      <td>B58 B60</td>\n",
              "      <td>C</td>\n",
              "    </tr>\n",
              "    <tr>\n",
              "      <th>259</th>\n",
              "      <td>1</td>\n",
              "      <td>1</td>\n",
              "      <td>Ward, Miss. Anna</td>\n",
              "      <td>female</td>\n",
              "      <td>35.0</td>\n",
              "      <td>0</td>\n",
              "      <td>0</td>\n",
              "      <td>PC 17755</td>\n",
              "      <td>512.3292</td>\n",
              "      <td>NaN</td>\n",
              "      <td>C</td>\n",
              "    </tr>\n",
              "    <tr>\n",
              "      <th>300</th>\n",
              "      <td>1</td>\n",
              "      <td>1</td>\n",
              "      <td>Baxter, Mrs. James (Helene DeLaudeniere Chaput)</td>\n",
              "      <td>female</td>\n",
              "      <td>50.0</td>\n",
              "      <td>0</td>\n",
              "      <td>1</td>\n",
              "      <td>PC 17558</td>\n",
              "      <td>247.5208</td>\n",
              "      <td>B58 B60</td>\n",
              "      <td>C</td>\n",
              "    </tr>\n",
              "    <tr>\n",
              "      <th>312</th>\n",
              "      <td>1</td>\n",
              "      <td>1</td>\n",
              "      <td>Ryerson, Miss. Emily Borie</td>\n",
              "      <td>female</td>\n",
              "      <td>18.0</td>\n",
              "      <td>2</td>\n",
              "      <td>2</td>\n",
              "      <td>PC 17608</td>\n",
              "      <td>262.3750</td>\n",
              "      <td>B57 B59 B63 B66</td>\n",
              "      <td>C</td>\n",
              "    </tr>\n",
              "    <tr>\n",
              "      <th>378</th>\n",
              "      <td>0</td>\n",
              "      <td>1</td>\n",
              "      <td>Widener, Mr. Harry Elkins</td>\n",
              "      <td>male</td>\n",
              "      <td>27.0</td>\n",
              "      <td>0</td>\n",
              "      <td>2</td>\n",
              "      <td>113503</td>\n",
              "      <td>211.5000</td>\n",
              "      <td>C82</td>\n",
              "      <td>C</td>\n",
              "    </tr>\n",
              "  </tbody>\n",
              "</table>\n",
              "</div>"
            ],
            "text/plain": [
              "             Survived  Pclass  ...            Cabin Embarked\n",
              "PassengerId                    ...                          \n",
              "119                 0       1  ...          B58 B60        C\n",
              "259                 1       1  ...              NaN        C\n",
              "300                 1       1  ...          B58 B60        C\n",
              "312                 1       1  ...  B57 B59 B63 B66        C\n",
              "378                 0       1  ...              C82        C\n",
              "\n",
              "[5 rows x 11 columns]"
            ]
          },
          "metadata": {
            "tags": []
          },
          "execution_count": 5
        }
      ]
    },
    {
      "cell_type": "markdown",
      "metadata": {
        "id": "e3g5TXZq1UDT",
        "colab_type": "text"
      },
      "source": [
        "**Можно отсортировать этих людей по убыванию платы за билет.**"
      ]
    },
    {
      "cell_type": "code",
      "metadata": {
        "id": "l1YTlusj1UDV",
        "colab_type": "code",
        "outputId": "7ff0220c-48dd-41d8-b9e1-f23f92b3368d",
        "colab": {}
      },
      "source": [
        "data[(data['Embarked'] == 'C') & \n",
        "     (data['Fare'] > 200)].sort_values(by='Fare',\n",
        "                               ascending=False).head()"
      ],
      "execution_count": 0,
      "outputs": [
        {
          "output_type": "execute_result",
          "data": {
            "text/html": [
              "<div>\n",
              "<style>\n",
              "    .dataframe thead tr:only-child th {\n",
              "        text-align: right;\n",
              "    }\n",
              "\n",
              "    .dataframe thead th {\n",
              "        text-align: left;\n",
              "    }\n",
              "\n",
              "    .dataframe tbody tr th {\n",
              "        vertical-align: top;\n",
              "    }\n",
              "</style>\n",
              "<table border=\"1\" class=\"dataframe\">\n",
              "  <thead>\n",
              "    <tr style=\"text-align: right;\">\n",
              "      <th></th>\n",
              "      <th>Survived</th>\n",
              "      <th>Pclass</th>\n",
              "      <th>Name</th>\n",
              "      <th>Sex</th>\n",
              "      <th>Age</th>\n",
              "      <th>SibSp</th>\n",
              "      <th>Parch</th>\n",
              "      <th>Ticket</th>\n",
              "      <th>Fare</th>\n",
              "      <th>Cabin</th>\n",
              "      <th>Embarked</th>\n",
              "    </tr>\n",
              "    <tr>\n",
              "      <th>PassengerId</th>\n",
              "      <th></th>\n",
              "      <th></th>\n",
              "      <th></th>\n",
              "      <th></th>\n",
              "      <th></th>\n",
              "      <th></th>\n",
              "      <th></th>\n",
              "      <th></th>\n",
              "      <th></th>\n",
              "      <th></th>\n",
              "      <th></th>\n",
              "    </tr>\n",
              "  </thead>\n",
              "  <tbody>\n",
              "    <tr>\n",
              "      <th>259</th>\n",
              "      <td>1</td>\n",
              "      <td>1</td>\n",
              "      <td>Ward, Miss. Anna</td>\n",
              "      <td>female</td>\n",
              "      <td>35.0</td>\n",
              "      <td>0</td>\n",
              "      <td>0</td>\n",
              "      <td>PC 17755</td>\n",
              "      <td>512.3292</td>\n",
              "      <td>NaN</td>\n",
              "      <td>C</td>\n",
              "    </tr>\n",
              "    <tr>\n",
              "      <th>680</th>\n",
              "      <td>1</td>\n",
              "      <td>1</td>\n",
              "      <td>Cardeza, Mr. Thomas Drake Martinez</td>\n",
              "      <td>male</td>\n",
              "      <td>36.0</td>\n",
              "      <td>0</td>\n",
              "      <td>1</td>\n",
              "      <td>PC 17755</td>\n",
              "      <td>512.3292</td>\n",
              "      <td>B51 B53 B55</td>\n",
              "      <td>C</td>\n",
              "    </tr>\n",
              "    <tr>\n",
              "      <th>738</th>\n",
              "      <td>1</td>\n",
              "      <td>1</td>\n",
              "      <td>Lesurer, Mr. Gustave J</td>\n",
              "      <td>male</td>\n",
              "      <td>35.0</td>\n",
              "      <td>0</td>\n",
              "      <td>0</td>\n",
              "      <td>PC 17755</td>\n",
              "      <td>512.3292</td>\n",
              "      <td>B101</td>\n",
              "      <td>C</td>\n",
              "    </tr>\n",
              "    <tr>\n",
              "      <th>312</th>\n",
              "      <td>1</td>\n",
              "      <td>1</td>\n",
              "      <td>Ryerson, Miss. Emily Borie</td>\n",
              "      <td>female</td>\n",
              "      <td>18.0</td>\n",
              "      <td>2</td>\n",
              "      <td>2</td>\n",
              "      <td>PC 17608</td>\n",
              "      <td>262.3750</td>\n",
              "      <td>B57 B59 B63 B66</td>\n",
              "      <td>C</td>\n",
              "    </tr>\n",
              "    <tr>\n",
              "      <th>743</th>\n",
              "      <td>1</td>\n",
              "      <td>1</td>\n",
              "      <td>Ryerson, Miss. Susan Parker \"Suzette\"</td>\n",
              "      <td>female</td>\n",
              "      <td>21.0</td>\n",
              "      <td>2</td>\n",
              "      <td>2</td>\n",
              "      <td>PC 17608</td>\n",
              "      <td>262.3750</td>\n",
              "      <td>B57 B59 B63 B66</td>\n",
              "      <td>C</td>\n",
              "    </tr>\n",
              "  </tbody>\n",
              "</table>\n",
              "</div>"
            ],
            "text/plain": [
              "             Survived  Pclass                                   Name     Sex  \\\n",
              "PassengerId                                                                    \n",
              "259                 1       1                       Ward, Miss. Anna  female   \n",
              "680                 1       1     Cardeza, Mr. Thomas Drake Martinez    male   \n",
              "738                 1       1                 Lesurer, Mr. Gustave J    male   \n",
              "312                 1       1             Ryerson, Miss. Emily Borie  female   \n",
              "743                 1       1  Ryerson, Miss. Susan Parker \"Suzette\"  female   \n",
              "\n",
              "              Age  SibSp  Parch    Ticket      Fare            Cabin Embarked  \n",
              "PassengerId                                                                    \n",
              "259          35.0      0      0  PC 17755  512.3292              NaN        C  \n",
              "680          36.0      0      1  PC 17755  512.3292      B51 B53 B55        C  \n",
              "738          35.0      0      0  PC 17755  512.3292             B101        C  \n",
              "312          18.0      2      2  PC 17608  262.3750  B57 B59 B63 B66        C  \n",
              "743          21.0      2      2  PC 17608  262.3750  B57 B59 B63 B66        C  "
            ]
          },
          "metadata": {
            "tags": []
          },
          "execution_count": 6
        }
      ]
    },
    {
      "cell_type": "markdown",
      "metadata": {
        "id": "uRqLg5OE1UDZ",
        "colab_type": "text"
      },
      "source": [
        "**Пример создания признака.**"
      ]
    },
    {
      "cell_type": "code",
      "metadata": {
        "id": "LdaMxoNL1UDi",
        "colab_type": "code",
        "colab": {}
      },
      "source": [
        "age_categories = [age_category(age) for age in data.Age]"
      ],
      "execution_count": 0,
      "outputs": []
    },
    {
      "cell_type": "code",
      "metadata": {
        "id": "ecDsurpL1UDo",
        "colab_type": "code",
        "colab": {}
      },
      "source": [
        "data['Age_category'] = age_categories"
      ],
      "execution_count": 0,
      "outputs": []
    },
    {
      "cell_type": "markdown",
      "metadata": {
        "id": "y7Ad08Lb1UDu",
        "colab_type": "text"
      },
      "source": [
        "**Другой способ – через `apply`.**"
      ]
    },
    {
      "cell_type": "code",
      "metadata": {
        "id": "qzDzib6N1UDv",
        "colab_type": "code",
        "colab": {}
      },
      "source": [
        "data['Age_category'] = data['Age'].apply(age_category)"
      ],
      "execution_count": 0,
      "outputs": []
    },
    {
      "cell_type": "markdown",
      "metadata": {
        "id": "c2x_3zy21UDy",
        "colab_type": "text"
      },
      "source": [
        "**1. Сколько мужчин / женщин находилось на борту?**\n",
        "- 412 мужчин и 479 женщин\n",
        "- 314 мужчин и 577 женщин\n",
        "- 479 мужчин и 412 женщин\n",
        "- 577 мужчин и 314 женщин"
      ]
    },
    {
      "cell_type": "code",
      "metadata": {
        "id": "nXi8HbHZ1UDz",
        "colab_type": "code",
        "outputId": "ef656ed3-fe8b-45e7-b543-ebe653b59c27",
        "colab": {
          "base_uri": "https://localhost:8080/",
          "height": 35
        }
      },
      "source": [
        "# Ваш код здесь\n",
        "\n",
        "#data.groupby(['Sex']).size().reset_index(name='counts') \n",
        "\n",
        "print(f\"{len(data[(data['Sex']=='female')])} мужчин и {len(data[(data['Sex']=='male')])} женщин\")\n"
      ],
      "execution_count": 29,
      "outputs": [
        {
          "output_type": "stream",
          "text": [
            "314 мужчин и 577 женщин\n"
          ],
          "name": "stdout"
        }
      ]
    },
    {
      "cell_type": "markdown",
      "metadata": {
        "id": "EWSfe4951UD2",
        "colab_type": "text"
      },
      "source": [
        "**2. Выведите распределение переменной `Pclass` (социально-экономический статус) и это же распределение, только для мужчин / женщин по отдельности. Сколько было мужчин 2-го класса?**\n",
        "- 104\n",
        "- 108\n",
        "- 112\n",
        "- 125"
      ]
    },
    {
      "cell_type": "code",
      "metadata": {
        "id": "LM4IkRiE1UD5",
        "colab_type": "code",
        "outputId": "be1ff5d6-0f99-435c-cec5-0832e92846c0",
        "colab": {
          "base_uri": "https://localhost:8080/",
          "height": 199
        }
      },
      "source": [
        "# Ваш код здесь\n",
        "\n",
        "print(f\"{data.groupby(['Pclass','Sex']).size()}\\n\\nмужчин 2-го класса было {len(data[(data['Pclass']==2) & (data['Sex']=='male')])} \")\n",
        "\n"
      ],
      "execution_count": 30,
      "outputs": [
        {
          "output_type": "stream",
          "text": [
            "Pclass  Sex   \n",
            "1       female     94\n",
            "        male      122\n",
            "2       female     76\n",
            "        male      108\n",
            "3       female    144\n",
            "        male      347\n",
            "dtype: int64\n",
            "\n",
            "мужчин 2-го класса было 108 \n"
          ],
          "name": "stdout"
        }
      ]
    },
    {
      "cell_type": "markdown",
      "metadata": {
        "id": "bCpZPLSU1UD8",
        "colab_type": "text"
      },
      "source": [
        "**3. Каковы медиана и стандартное отклонение платежей (`Fare`)? Округлите до 2 десятичных знаков.**\n",
        "- Медиана – 14.45, стандартное отклонение – 49.69\n",
        "- Медиана – 15.1, стандартное отклонение – 12.15\n",
        "- Медиана – 13.15, стандартное отклонение – 35.3\n",
        "- Медиана – 17.43, стандартное отклонение – 39.1"
      ]
    },
    {
      "cell_type": "code",
      "metadata": {
        "id": "XtL6Mj1y1UD8",
        "colab_type": "code",
        "outputId": "c659c680-48f2-4af9-ce24-549e38ecf93c",
        "colab": {
          "base_uri": "https://localhost:8080/",
          "height": 35
        }
      },
      "source": [
        "# Ваш код здесь \n",
        "\n",
        "print (f\"Медиана – {round(data['Fare'].median(),2)}, стандартное отклонение – {round(data['Fare'].std(axis=0),2)}\")\n",
        "\n"
      ],
      "execution_count": 31,
      "outputs": [
        {
          "output_type": "stream",
          "text": [
            "Медиана – 14.45, стандартное отклонение – 49.69\n"
          ],
          "name": "stdout"
        }
      ]
    },
    {
      "cell_type": "markdown",
      "metadata": {
        "id": "-8tUT-Id1UD_",
        "colab_type": "text"
      },
      "source": [
        "**4. Правда ли, что люди моложе 30 лет выживали чаще, чем люди старше 60 лет? Каковы доли выживших в обеих группах?**\n",
        "- 22.7% среди молодых и 40.6% среди старых\n",
        "- 40.6% среди молодых и 22.7% среди старых\n",
        "- 35.3% среди молодых и 27.4% среди старых\n",
        "- 27.4% среди молодых и 35.3% среди старых"
      ]
    },
    {
      "cell_type": "code",
      "metadata": {
        "id": "H8gLJsIfu1lW",
        "colab_type": "code",
        "colab": {}
      },
      "source": [
        "def age_category(age):\n",
        "\n",
        "    if age < 30:\n",
        "        return \"Моложе 30 лет\"\n",
        "    elif age > 60:\n",
        "        return \"Старше 60 лет\"\n",
        "    else:\n",
        "        return \"Все остальные\"\n",
        "\n",
        "data['Age_category'] = data['Age'].apply(age_category)      "
      ],
      "execution_count": 0,
      "outputs": []
    },
    {
      "cell_type": "code",
      "metadata": {
        "id": "12FYoDhq1UEA",
        "colab_type": "code",
        "outputId": "cd23d668-e9b0-4f70-b971-768935715eef",
        "colab": {
          "base_uri": "https://localhost:8080/",
          "height": 72
        }
      },
      "source": [
        "# Ваш код здесь\n",
        "\n",
        "#data.groupby(['Age_category']).agg({'Survived': [np.mean]}).iloc[1,2]\n",
        "\n",
        "for (i, sub_df) in data.groupby('Age_category'):\n",
        "    print(f\"группа \\\"{i}\\\", доля выживших - {round(sub_df['Survived'].mean() * 100,1)} %\")\n",
        "\n"
      ],
      "execution_count": 33,
      "outputs": [
        {
          "output_type": "stream",
          "text": [
            "группа \"Все остальные\", доля выживших - 37.3 %\n",
            "группа \"Моложе 30 лет\", доля выживших - 40.6 %\n",
            "группа \"Старше 60 лет\", доля выживших - 22.7 %\n"
          ],
          "name": "stdout"
        }
      ]
    },
    {
      "cell_type": "markdown",
      "metadata": {
        "id": "8EUZnpAi1UEC",
        "colab_type": "text"
      },
      "source": [
        "**5. Правда ли, что женщины выживали чаще мужчин? Каковы доли выживших в обеих группах?**\n",
        "- 30.2% среди мужчин и 46.2% среди женщин\n",
        "- 35.7% среди мужчин и 74.2% среди женщин\n",
        "- 21.1% среди мужчин и 46.2% среди женщин\n",
        "- 18.9% среди мужчин и 74.2% среди женщин"
      ]
    },
    {
      "cell_type": "code",
      "metadata": {
        "id": "KqLadeiv1UED",
        "colab_type": "code",
        "outputId": "141f0f39-220b-4fa6-9baf-f5a00473e29b",
        "colab": {
          "base_uri": "https://localhost:8080/",
          "height": 54
        }
      },
      "source": [
        "# Ваш код здесь\n",
        "\n",
        "for (i, sub_df) in data.groupby('Sex') :\n",
        "    print(f\"группа \\\"{i}\\\", доля выживших - {round(sub_df['Survived'].mean() * 100,1)} %\")"
      ],
      "execution_count": 34,
      "outputs": [
        {
          "output_type": "stream",
          "text": [
            "группа \"female\", доля выживших - 74.2 %\n",
            "группа \"male\", доля выживших - 18.9 %\n"
          ],
          "name": "stdout"
        }
      ]
    },
    {
      "cell_type": "markdown",
      "metadata": {
        "id": "Z74j7_-F1UEI",
        "colab_type": "text"
      },
      "source": [
        "**6. Найдите самое популярное имя среди пассажиров Титаника мужского пола?**\n",
        "- Charles\n",
        "- Thomas\n",
        "- William\n",
        "- John"
      ]
    },
    {
      "cell_type": "code",
      "metadata": {
        "id": "pYyrud4V1UEJ",
        "colab_type": "code",
        "outputId": "c3ad0d67-25fb-4ed9-b15b-cae04928c179",
        "colab": {
          "base_uri": "https://localhost:8080/",
          "height": 35
        }
      },
      "source": [
        "# Ваш код здесь\n",
        "\n",
        "import collections\n",
        "top_name=[]\n",
        "\n",
        "for i in data[(data['Sex']=='male')]['Name']:\n",
        "    top_name.append(i[i.find('. ')+2:])\n",
        "\n",
        "print(f'Cамое популярное имя среди пассажиров Титаника мужского пола - {collections.Counter(top_name).most_common(1)[0][0]}')\n"
      ],
      "execution_count": 35,
      "outputs": [
        {
          "output_type": "stream",
          "text": [
            "Cамое популярное имя среди пассажиров Титаника мужского пола - John\n"
          ],
          "name": "stdout"
        }
      ]
    },
    {
      "cell_type": "markdown",
      "metadata": {
        "id": "FfS0yZ541UEN",
        "colab_type": "text"
      },
      "source": [
        "**7. Сравните графически распределение стоимости билетов и возраста у спасенных и у погибших. Средний возраст погибших выше, верно?**\n",
        "- Да \n",
        "- Нет"
      ]
    },
    {
      "cell_type": "code",
      "metadata": {
        "id": "rOzbQjXF1UEQ",
        "colab_type": "code",
        "outputId": "266747c8-8ac2-458d-c480-471e81681771",
        "colab": {
          "base_uri": "https://localhost:8080/",
          "height": 617
        }
      },
      "source": [
        "# Ваш код здесь\n",
        "\n",
        "import matplotlib.pyplot as plt\n",
        "\n",
        "pd.plotting.scatter_matrix(data[['Fare','Age','Survived']], \n",
        "                  figsize=(10, 10), diagonal='hist', range_padding=1)\n",
        "plt.show()"
      ],
      "execution_count": 36,
      "outputs": [
        {
          "output_type": "display_data",
          "data": {
            "image/png": "[encoded data removed]",
            "text/plain": [
              "<Figure size 720x720 with 9 Axes>"
            ]
          },
          "metadata": {
            "tags": []
          }
        }
      ]
    },
    {
      "cell_type": "code",
      "metadata": {
        "id": "FMmjEvk52FHZ",
        "colab_type": "code",
        "colab": {
          "base_uri": "https://localhost:8080/",
          "height": 659
        },
        "outputId": "be5db955-02b7-4036-d8cc-bb28aee130bb"
      },
      "source": [
        "\n",
        "data.boxplot(column='Age',  by=['Survived'], \n",
        "           figsize=(10,10))\n",
        "plt.show()\n",
        "\n",
        "# Да, средний возраст погибших выше"
      ],
      "execution_count": 37,
      "outputs": [
        {
          "output_type": "display_data",
          "data": {
            "image/png": "[encoded data removed]",
            "text/plain": [
              "<Figure size 720x720 with 1 Axes>"
            ]
          },
          "metadata": {
            "tags": []
          }
        }
      ]
    },
    {
      "cell_type": "markdown",
      "metadata": {
        "id": "eUWgTFMc1UES",
        "colab_type": "text"
      },
      "source": [
        "**8. Как отличается средний возраст мужчин / женщин в зависимости от класса обслуживания? Выберите верные утверждения:**\n",
        "- В среднем мужчины 1-го класса старше 40 лет\n",
        "- В среднем женщины 1-го класса старше 40 лет\n",
        "- Мужчины всех классов в среднем старше женщин того же класса\n",
        "- В среднем люди в 1 классе старше, чем во 2-ом, а те старше представителей 3-го класса"
      ]
    },
    {
      "cell_type": "code",
      "metadata": {
        "id": "JTi5ehbi1UET",
        "colab_type": "code",
        "outputId": "35260ea9-9b9d-471d-b8eb-3a6b77b29a71",
        "colab": {
          "base_uri": "https://localhost:8080/",
          "height": 235
        }
      },
      "source": [
        "# Ваш код здесь\n",
        "# Группируем необходимые данные для проверки\n",
        "# data.groupby([\"Pclass\", \"Sex\"])['Age'].mean()\n",
        "\n",
        "a = data.groupby([\"Pclass\", \"Sex\"])['Age'].mean()\n",
        "b = data.groupby([\"Pclass\"])['Age'].mean()\n",
        "a,b\n",
        "\n",
        "#Проверки ниже"
      ],
      "execution_count": 38,
      "outputs": [
        {
          "output_type": "execute_result",
          "data": {
            "text/plain": [
              "(Pclass  Sex   \n",
              " 1       female    34.611765\n",
              "         male      41.281386\n",
              " 2       female    28.722973\n",
              "         male      30.740707\n",
              " 3       female    21.750000\n",
              "         male      26.507589\n",
              " Name: Age, dtype: float64, Pclass\n",
              " 1    38.233441\n",
              " 2    29.877630\n",
              " 3    25.140620\n",
              " Name: Age, dtype: float64)"
            ]
          },
          "metadata": {
            "tags": []
          },
          "execution_count": 38
        }
      ]
    },
    {
      "cell_type": "code",
      "metadata": {
        "id": "pHa6XCjq95Y_",
        "colab_type": "code",
        "outputId": "36b6f57c-df1a-4580-d5bb-208f60c566bb",
        "colab": {
          "base_uri": "https://localhost:8080/",
          "height": 90
        }
      },
      "source": [
        "# В среднем мужчины 1-го класса старше 40 лет\n",
        "# В среднем женщины 1-го класса старше 40 лет\n",
        "# Мужчины всех классов в среднем старше женщин того же класса\n",
        "# В среднем люди в 1 классе старше, чем во 2-ом, а те старше представителей 3-го класса\n",
        "# Собственно сами проверки\n",
        "\n",
        "if a[1][1] > 40:\n",
        "   print('В среднем мужчины 1-го класса старше 40 лет - верно')\n",
        "else:\n",
        "   print('В среднем мужчины 1-го класса старше 40 лет - не верно')\n",
        "\n",
        "if a[1][0] > 40:\n",
        "   print('В среднем женщины 1-го класса старше 40 лет - верно')\n",
        "else:\n",
        "   print('В среднем женщины 1-го класса старше 40 лет - не верно')\n",
        "\n",
        "cnt = 0\n",
        "for i in range(1,3):\n",
        "    if a[i][1] < a[i][0]:\n",
        "       print('Мужчины всех классов в среднем старше женщин того же класса - не верно')\n",
        "       cnt = 1\n",
        "       break\n",
        "\n",
        "if cnt == 0:\n",
        "    print('Мужчины всех классов в среднем старше женщин того же класса - верно')\n",
        "\n",
        "if b[1] > b[2] > b[3]:\n",
        "    print('В среднем люди в 1 классе старше, чем во 2-ом, а те старше представителей 3-го класса - верно')\n",
        "else:\n",
        "    print('В среднем люди в 1 классе старше, чем во 2-ом, а те старше представителей 3-го класса - не верно')\n",
        "\n"
      ],
      "execution_count": 40,
      "outputs": [
        {
          "output_type": "stream",
          "text": [
            "В среднем мужчины 1-го класса старше 40 лет - верно\n",
            "В среднем женщины 1-го класса старше 40 лет - не верно\n",
            "Мужчины всех классов в среднем старше женщин того же класса - верно\n",
            "В среднем люди в 1 классе старше, чем во 2-ом, а те старше представителей 3-го класса - верно\n"
          ],
          "name": "stdout"
        }
      ]
    }
  ]
}
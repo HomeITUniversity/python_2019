{
  "nbformat": 4,
  "nbformat_minor": 0,
  "metadata": {
    "anaconda-cloud": {},
    "kernelspec": {
      "display_name": "Python 3",
      "language": "python",
      "name": "python3"
    },
    "language_info": {
      "codemirror_mode": {
        "name": "ipython",
        "version": 3
      },
      "file_extension": ".py",
      "mimetype": "text/x-python",
      "name": "python",
      "nbconvert_exporter": "python",
      "pygments_lexer": "ipython3",
      "version": "3.6.1"
    },
    "name": "seminar02_practice_pandas_titanic.ipynb",
    "colab": {
      "name": "ДЗ_№7_KatyshevArsen.ipynb",
      "provenance": [],
      "collapsed_sections": []
    }
  },
  "cells": [
    {
      "cell_type": "markdown",
      "metadata": {
        "id": "SVwJxi3t1UCz",
        "colab_type": "text"
      },
      "source": [
        "Автор материала: программист-исследователь Mail.ru Group, старший преподаватель Факультета Компьютерных Наук ВШЭ Юрий Кашницкий. Материал распространяется на условиях лицензии [Creative Commons CC BY-NC-SA 4.0](https://creativecommons.org/licenses/by-nc-sa/4.0/). Можно использовать в любых целях (редактировать, поправлять и брать за основу), кроме коммерческих, но с обязательным упоминанием автора материала."
      ]
    },
    {
      "cell_type": "markdown",
      "metadata": {
        "id": "SIFQrOvC1UC0",
        "colab_type": "text"
      },
      "source": [
        "\n",
        "**Мягкий дедлайн:** 6 ноября 23:59\n",
        "\n",
        "**Жесткий дедлайн:** 13 ноября 23:59"
      ]
    },
    {
      "cell_type": "code",
      "metadata": {
        "id": "bLb_O5p01UC3",
        "colab_type": "code",
        "colab": {}
      },
      "source": [
        "import numpy as np\n",
        "import pandas as pd\n",
        "%matplotlib inline\n",
        "import seaborn as sns\n",
        "\n",
        "import matplotlib.pyplot as plt"
      ],
      "execution_count": 0,
      "outputs": []
    },
    {
      "cell_type": "markdown",
      "metadata": {
        "id": "_na9WymL1UC7",
        "colab_type": "text"
      },
      "source": [
        "**Считаем данные из файла в память в виде объекта Pandas.DataFrame**"
      ]
    },
    {
      "cell_type": "code",
      "metadata": {
        "id": "0-hTjrlumRki",
        "colab_type": "code",
        "colab": {}
      },
      "source": [
        "# from google.colab import drive\n",
        "# drive.mount('/content/drive')"
      ],
      "execution_count": 0,
      "outputs": []
    },
    {
      "cell_type": "code",
      "metadata": {
        "id": "oMMmnKuM1UC8",
        "colab_type": "code",
        "colab": {}
      },
      "source": [
        "data = pd.read_csv('titanic_train.csv',\n",
        "                  index_col='PassengerId')"
      ],
      "execution_count": 0,
      "outputs": []
    },
    {
      "cell_type": "markdown",
      "metadata": {
        "id": "1yT_DoKH1UDA",
        "colab_type": "text"
      },
      "source": [
        "**Данные представлены в виде таблицы. Посмотрим на первые 5 строк:**"
      ]
    },
    {
      "cell_type": "code",
      "metadata": {
        "id": "hou7Sw591UDD",
        "colab_type": "code",
        "outputId": "710ab151-02e2-4042-ed68-dd340172e465",
        "colab": {
          "base_uri": "https://localhost:8080/",
          "height": 225
        }
      },
      "source": [
        "data.head(5)"
      ],
      "execution_count": 0,
      "outputs": [
        {
          "output_type": "execute_result",
          "data": {
            "text/html": [
              "<div>\n",
              "<style scoped>\n",
              "    .dataframe tbody tr th:only-of-type {\n",
              "        vertical-align: middle;\n",
              "    }\n",
              "\n",
              "    .dataframe tbody tr th {\n",
              "        vertical-align: top;\n",
              "    }\n",
              "\n",
              "    .dataframe thead th {\n",
              "        text-align: right;\n",
              "    }\n",
              "</style>\n",
              "<table border=\"1\" class=\"dataframe\">\n",
              "  <thead>\n",
              "    <tr style=\"text-align: right;\">\n",
              "      <th></th>\n",
              "      <th>Survived</th>\n",
              "      <th>Pclass</th>\n",
              "      <th>Name</th>\n",
              "      <th>Sex</th>\n",
              "      <th>Age</th>\n",
              "      <th>SibSp</th>\n",
              "      <th>Parch</th>\n",
              "      <th>Ticket</th>\n",
              "      <th>Fare</th>\n",
              "      <th>Cabin</th>\n",
              "      <th>Embarked</th>\n",
              "    </tr>\n",
              "    <tr>\n",
              "      <th>PassengerId</th>\n",
              "      <th></th>\n",
              "      <th></th>\n",
              "      <th></th>\n",
              "      <th></th>\n",
              "      <th></th>\n",
              "      <th></th>\n",
              "      <th></th>\n",
              "      <th></th>\n",
              "      <th></th>\n",
              "      <th></th>\n",
              "      <th></th>\n",
              "    </tr>\n",
              "  </thead>\n",
              "  <tbody>\n",
              "    <tr>\n",
              "      <th>1</th>\n",
              "      <td>0</td>\n",
              "      <td>3</td>\n",
              "      <td>Braund, Mr. Owen Harris</td>\n",
              "      <td>male</td>\n",
              "      <td>22.0</td>\n",
              "      <td>1</td>\n",
              "      <td>0</td>\n",
              "      <td>A/5 21171</td>\n",
              "      <td>7.2500</td>\n",
              "      <td>NaN</td>\n",
              "      <td>S</td>\n",
              "    </tr>\n",
              "    <tr>\n",
              "      <th>2</th>\n",
              "      <td>1</td>\n",
              "      <td>1</td>\n",
              "      <td>Cumings, Mrs. John Bradley (Florence Briggs Th...</td>\n",
              "      <td>female</td>\n",
              "      <td>38.0</td>\n",
              "      <td>1</td>\n",
              "      <td>0</td>\n",
              "      <td>PC 17599</td>\n",
              "      <td>71.2833</td>\n",
              "      <td>C85</td>\n",
              "      <td>C</td>\n",
              "    </tr>\n",
              "    <tr>\n",
              "      <th>3</th>\n",
              "      <td>1</td>\n",
              "      <td>3</td>\n",
              "      <td>Heikkinen, Miss. Laina</td>\n",
              "      <td>female</td>\n",
              "      <td>26.0</td>\n",
              "      <td>0</td>\n",
              "      <td>0</td>\n",
              "      <td>STON/O2. 3101282</td>\n",
              "      <td>7.9250</td>\n",
              "      <td>NaN</td>\n",
              "      <td>S</td>\n",
              "    </tr>\n",
              "    <tr>\n",
              "      <th>4</th>\n",
              "      <td>1</td>\n",
              "      <td>1</td>\n",
              "      <td>Futrelle, Mrs. Jacques Heath (Lily May Peel)</td>\n",
              "      <td>female</td>\n",
              "      <td>35.0</td>\n",
              "      <td>1</td>\n",
              "      <td>0</td>\n",
              "      <td>113803</td>\n",
              "      <td>53.1000</td>\n",
              "      <td>C123</td>\n",
              "      <td>S</td>\n",
              "    </tr>\n",
              "    <tr>\n",
              "      <th>5</th>\n",
              "      <td>0</td>\n",
              "      <td>3</td>\n",
              "      <td>Allen, Mr. William Henry</td>\n",
              "      <td>male</td>\n",
              "      <td>35.0</td>\n",
              "      <td>0</td>\n",
              "      <td>0</td>\n",
              "      <td>373450</td>\n",
              "      <td>8.0500</td>\n",
              "      <td>NaN</td>\n",
              "      <td>S</td>\n",
              "    </tr>\n",
              "  </tbody>\n",
              "</table>\n",
              "</div>"
            ],
            "text/plain": [
              "             Survived  Pclass  ... Cabin Embarked\n",
              "PassengerId                    ...               \n",
              "1                   0       3  ...   NaN        S\n",
              "2                   1       1  ...   C85        C\n",
              "3                   1       3  ...   NaN        S\n",
              "4                   1       1  ...  C123        S\n",
              "5                   0       3  ...   NaN        S\n",
              "\n",
              "[5 rows x 11 columns]"
            ]
          },
          "metadata": {
            "tags": []
          },
          "execution_count": 5
        }
      ]
    },
    {
      "cell_type": "code",
      "metadata": {
        "id": "jHP2OPgd1UDH",
        "colab_type": "code",
        "outputId": "8bc7b40b-cfaf-49c3-dc2c-073482392459",
        "colab": {
          "base_uri": "https://localhost:8080/",
          "height": 284
        }
      },
      "source": [
        "data.describe()"
      ],
      "execution_count": 0,
      "outputs": [
        {
          "output_type": "execute_result",
          "data": {
            "text/html": [
              "<div>\n",
              "<style scoped>\n",
              "    .dataframe tbody tr th:only-of-type {\n",
              "        vertical-align: middle;\n",
              "    }\n",
              "\n",
              "    .dataframe tbody tr th {\n",
              "        vertical-align: top;\n",
              "    }\n",
              "\n",
              "    .dataframe thead th {\n",
              "        text-align: right;\n",
              "    }\n",
              "</style>\n",
              "<table border=\"1\" class=\"dataframe\">\n",
              "  <thead>\n",
              "    <tr style=\"text-align: right;\">\n",
              "      <th></th>\n",
              "      <th>Survived</th>\n",
              "      <th>Pclass</th>\n",
              "      <th>Age</th>\n",
              "      <th>SibSp</th>\n",
              "      <th>Parch</th>\n",
              "      <th>Fare</th>\n",
              "    </tr>\n",
              "  </thead>\n",
              "  <tbody>\n",
              "    <tr>\n",
              "      <th>count</th>\n",
              "      <td>891.000000</td>\n",
              "      <td>891.000000</td>\n",
              "      <td>714.000000</td>\n",
              "      <td>891.000000</td>\n",
              "      <td>891.000000</td>\n",
              "      <td>891.000000</td>\n",
              "    </tr>\n",
              "    <tr>\n",
              "      <th>mean</th>\n",
              "      <td>0.383838</td>\n",
              "      <td>2.308642</td>\n",
              "      <td>29.699118</td>\n",
              "      <td>0.523008</td>\n",
              "      <td>0.381594</td>\n",
              "      <td>32.204208</td>\n",
              "    </tr>\n",
              "    <tr>\n",
              "      <th>std</th>\n",
              "      <td>0.486592</td>\n",
              "      <td>0.836071</td>\n",
              "      <td>14.526497</td>\n",
              "      <td>1.102743</td>\n",
              "      <td>0.806057</td>\n",
              "      <td>49.693429</td>\n",
              "    </tr>\n",
              "    <tr>\n",
              "      <th>min</th>\n",
              "      <td>0.000000</td>\n",
              "      <td>1.000000</td>\n",
              "      <td>0.420000</td>\n",
              "      <td>0.000000</td>\n",
              "      <td>0.000000</td>\n",
              "      <td>0.000000</td>\n",
              "    </tr>\n",
              "    <tr>\n",
              "      <th>25%</th>\n",
              "      <td>0.000000</td>\n",
              "      <td>2.000000</td>\n",
              "      <td>20.125000</td>\n",
              "      <td>0.000000</td>\n",
              "      <td>0.000000</td>\n",
              "      <td>7.910400</td>\n",
              "    </tr>\n",
              "    <tr>\n",
              "      <th>50%</th>\n",
              "      <td>0.000000</td>\n",
              "      <td>3.000000</td>\n",
              "      <td>28.000000</td>\n",
              "      <td>0.000000</td>\n",
              "      <td>0.000000</td>\n",
              "      <td>14.454200</td>\n",
              "    </tr>\n",
              "    <tr>\n",
              "      <th>75%</th>\n",
              "      <td>1.000000</td>\n",
              "      <td>3.000000</td>\n",
              "      <td>38.000000</td>\n",
              "      <td>1.000000</td>\n",
              "      <td>0.000000</td>\n",
              "      <td>31.000000</td>\n",
              "    </tr>\n",
              "    <tr>\n",
              "      <th>max</th>\n",
              "      <td>1.000000</td>\n",
              "      <td>3.000000</td>\n",
              "      <td>80.000000</td>\n",
              "      <td>8.000000</td>\n",
              "      <td>6.000000</td>\n",
              "      <td>512.329200</td>\n",
              "    </tr>\n",
              "  </tbody>\n",
              "</table>\n",
              "</div>"
            ],
            "text/plain": [
              "         Survived      Pclass         Age       SibSp       Parch        Fare\n",
              "count  891.000000  891.000000  714.000000  891.000000  891.000000  891.000000\n",
              "mean     0.383838    2.308642   29.699118    0.523008    0.381594   32.204208\n",
              "std      0.486592    0.836071   14.526497    1.102743    0.806057   49.693429\n",
              "min      0.000000    1.000000    0.420000    0.000000    0.000000    0.000000\n",
              "25%      0.000000    2.000000   20.125000    0.000000    0.000000    7.910400\n",
              "50%      0.000000    3.000000   28.000000    0.000000    0.000000   14.454200\n",
              "75%      1.000000    3.000000   38.000000    1.000000    0.000000   31.000000\n",
              "max      1.000000    3.000000   80.000000    8.000000    6.000000  512.329200"
            ]
          },
          "metadata": {
            "tags": []
          },
          "execution_count": 6
        }
      ]
    },
    {
      "cell_type": "markdown",
      "metadata": {
        "id": "G7BI8ol81UDK",
        "colab_type": "text"
      },
      "source": [
        "**Для примера отберем пассажиров, которые сели в Cherbourg (Embarked=C) и заплатили более 200 у.е. за билет (fare > 200).**\n",
        "\n",
        "Убедитесь, что Вы понимаете, как эта конструкция работает. <br>\n",
        "Если нет – посмотрите, как вычисляется выражение в квадратных в скобках."
      ]
    },
    {
      "cell_type": "code",
      "metadata": {
        "id": "H94up_lM1UDL",
        "colab_type": "code",
        "outputId": "47ec0816-91a2-494d-9324-5eb48f761672",
        "colab": {
          "base_uri": "https://localhost:8080/",
          "height": 225
        }
      },
      "source": [
        "data[(data['Embarked'] == 'C') & (data.Fare > 200)].head()"
      ],
      "execution_count": 0,
      "outputs": [
        {
          "output_type": "execute_result",
          "data": {
            "text/html": [
              "<div>\n",
              "<style scoped>\n",
              "    .dataframe tbody tr th:only-of-type {\n",
              "        vertical-align: middle;\n",
              "    }\n",
              "\n",
              "    .dataframe tbody tr th {\n",
              "        vertical-align: top;\n",
              "    }\n",
              "\n",
              "    .dataframe thead th {\n",
              "        text-align: right;\n",
              "    }\n",
              "</style>\n",
              "<table border=\"1\" class=\"dataframe\">\n",
              "  <thead>\n",
              "    <tr style=\"text-align: right;\">\n",
              "      <th></th>\n",
              "      <th>Survived</th>\n",
              "      <th>Pclass</th>\n",
              "      <th>Name</th>\n",
              "      <th>Sex</th>\n",
              "      <th>Age</th>\n",
              "      <th>SibSp</th>\n",
              "      <th>Parch</th>\n",
              "      <th>Ticket</th>\n",
              "      <th>Fare</th>\n",
              "      <th>Cabin</th>\n",
              "      <th>Embarked</th>\n",
              "    </tr>\n",
              "    <tr>\n",
              "      <th>PassengerId</th>\n",
              "      <th></th>\n",
              "      <th></th>\n",
              "      <th></th>\n",
              "      <th></th>\n",
              "      <th></th>\n",
              "      <th></th>\n",
              "      <th></th>\n",
              "      <th></th>\n",
              "      <th></th>\n",
              "      <th></th>\n",
              "      <th></th>\n",
              "    </tr>\n",
              "  </thead>\n",
              "  <tbody>\n",
              "    <tr>\n",
              "      <th>119</th>\n",
              "      <td>0</td>\n",
              "      <td>1</td>\n",
              "      <td>Baxter, Mr. Quigg Edmond</td>\n",
              "      <td>male</td>\n",
              "      <td>24.0</td>\n",
              "      <td>0</td>\n",
              "      <td>1</td>\n",
              "      <td>PC 17558</td>\n",
              "      <td>247.5208</td>\n",
              "      <td>B58 B60</td>\n",
              "      <td>C</td>\n",
              "    </tr>\n",
              "    <tr>\n",
              "      <th>259</th>\n",
              "      <td>1</td>\n",
              "      <td>1</td>\n",
              "      <td>Ward, Miss. Anna</td>\n",
              "      <td>female</td>\n",
              "      <td>35.0</td>\n",
              "      <td>0</td>\n",
              "      <td>0</td>\n",
              "      <td>PC 17755</td>\n",
              "      <td>512.3292</td>\n",
              "      <td>NaN</td>\n",
              "      <td>C</td>\n",
              "    </tr>\n",
              "    <tr>\n",
              "      <th>300</th>\n",
              "      <td>1</td>\n",
              "      <td>1</td>\n",
              "      <td>Baxter, Mrs. James (Helene DeLaudeniere Chaput)</td>\n",
              "      <td>female</td>\n",
              "      <td>50.0</td>\n",
              "      <td>0</td>\n",
              "      <td>1</td>\n",
              "      <td>PC 17558</td>\n",
              "      <td>247.5208</td>\n",
              "      <td>B58 B60</td>\n",
              "      <td>C</td>\n",
              "    </tr>\n",
              "    <tr>\n",
              "      <th>312</th>\n",
              "      <td>1</td>\n",
              "      <td>1</td>\n",
              "      <td>Ryerson, Miss. Emily Borie</td>\n",
              "      <td>female</td>\n",
              "      <td>18.0</td>\n",
              "      <td>2</td>\n",
              "      <td>2</td>\n",
              "      <td>PC 17608</td>\n",
              "      <td>262.3750</td>\n",
              "      <td>B57 B59 B63 B66</td>\n",
              "      <td>C</td>\n",
              "    </tr>\n",
              "    <tr>\n",
              "      <th>378</th>\n",
              "      <td>0</td>\n",
              "      <td>1</td>\n",
              "      <td>Widener, Mr. Harry Elkins</td>\n",
              "      <td>male</td>\n",
              "      <td>27.0</td>\n",
              "      <td>0</td>\n",
              "      <td>2</td>\n",
              "      <td>113503</td>\n",
              "      <td>211.5000</td>\n",
              "      <td>C82</td>\n",
              "      <td>C</td>\n",
              "    </tr>\n",
              "  </tbody>\n",
              "</table>\n",
              "</div>"
            ],
            "text/plain": [
              "             Survived  Pclass  ...            Cabin Embarked\n",
              "PassengerId                    ...                          \n",
              "119                 0       1  ...          B58 B60        C\n",
              "259                 1       1  ...              NaN        C\n",
              "300                 1       1  ...          B58 B60        C\n",
              "312                 1       1  ...  B57 B59 B63 B66        C\n",
              "378                 0       1  ...              C82        C\n",
              "\n",
              "[5 rows x 11 columns]"
            ]
          },
          "metadata": {
            "tags": []
          },
          "execution_count": 7
        }
      ]
    },
    {
      "cell_type": "markdown",
      "metadata": {
        "id": "e3g5TXZq1UDT",
        "colab_type": "text"
      },
      "source": [
        "**Можно отсортировать этих людей по убыванию платы за билет.**"
      ]
    },
    {
      "cell_type": "code",
      "metadata": {
        "id": "l1YTlusj1UDV",
        "colab_type": "code",
        "outputId": "9cc2b6f9-9db7-45b8-fa00-2b770d170fa6",
        "colab": {
          "base_uri": "https://localhost:8080/",
          "height": 225
        }
      },
      "source": [
        "data[(data['Embarked'] == 'C') & \n",
        "     (data['Fare'] > 200)].sort_values(by='Fare',\n",
        "                               ascending=False).head()"
      ],
      "execution_count": 0,
      "outputs": [
        {
          "output_type": "execute_result",
          "data": {
            "text/html": [
              "<div>\n",
              "<style scoped>\n",
              "    .dataframe tbody tr th:only-of-type {\n",
              "        vertical-align: middle;\n",
              "    }\n",
              "\n",
              "    .dataframe tbody tr th {\n",
              "        vertical-align: top;\n",
              "    }\n",
              "\n",
              "    .dataframe thead th {\n",
              "        text-align: right;\n",
              "    }\n",
              "</style>\n",
              "<table border=\"1\" class=\"dataframe\">\n",
              "  <thead>\n",
              "    <tr style=\"text-align: right;\">\n",
              "      <th></th>\n",
              "      <th>Survived</th>\n",
              "      <th>Pclass</th>\n",
              "      <th>Name</th>\n",
              "      <th>Sex</th>\n",
              "      <th>Age</th>\n",
              "      <th>SibSp</th>\n",
              "      <th>Parch</th>\n",
              "      <th>Ticket</th>\n",
              "      <th>Fare</th>\n",
              "      <th>Cabin</th>\n",
              "      <th>Embarked</th>\n",
              "    </tr>\n",
              "    <tr>\n",
              "      <th>PassengerId</th>\n",
              "      <th></th>\n",
              "      <th></th>\n",
              "      <th></th>\n",
              "      <th></th>\n",
              "      <th></th>\n",
              "      <th></th>\n",
              "      <th></th>\n",
              "      <th></th>\n",
              "      <th></th>\n",
              "      <th></th>\n",
              "      <th></th>\n",
              "    </tr>\n",
              "  </thead>\n",
              "  <tbody>\n",
              "    <tr>\n",
              "      <th>259</th>\n",
              "      <td>1</td>\n",
              "      <td>1</td>\n",
              "      <td>Ward, Miss. Anna</td>\n",
              "      <td>female</td>\n",
              "      <td>35.0</td>\n",
              "      <td>0</td>\n",
              "      <td>0</td>\n",
              "      <td>PC 17755</td>\n",
              "      <td>512.3292</td>\n",
              "      <td>NaN</td>\n",
              "      <td>C</td>\n",
              "    </tr>\n",
              "    <tr>\n",
              "      <th>680</th>\n",
              "      <td>1</td>\n",
              "      <td>1</td>\n",
              "      <td>Cardeza, Mr. Thomas Drake Martinez</td>\n",
              "      <td>male</td>\n",
              "      <td>36.0</td>\n",
              "      <td>0</td>\n",
              "      <td>1</td>\n",
              "      <td>PC 17755</td>\n",
              "      <td>512.3292</td>\n",
              "      <td>B51 B53 B55</td>\n",
              "      <td>C</td>\n",
              "    </tr>\n",
              "    <tr>\n",
              "      <th>738</th>\n",
              "      <td>1</td>\n",
              "      <td>1</td>\n",
              "      <td>Lesurer, Mr. Gustave J</td>\n",
              "      <td>male</td>\n",
              "      <td>35.0</td>\n",
              "      <td>0</td>\n",
              "      <td>0</td>\n",
              "      <td>PC 17755</td>\n",
              "      <td>512.3292</td>\n",
              "      <td>B101</td>\n",
              "      <td>C</td>\n",
              "    </tr>\n",
              "    <tr>\n",
              "      <th>312</th>\n",
              "      <td>1</td>\n",
              "      <td>1</td>\n",
              "      <td>Ryerson, Miss. Emily Borie</td>\n",
              "      <td>female</td>\n",
              "      <td>18.0</td>\n",
              "      <td>2</td>\n",
              "      <td>2</td>\n",
              "      <td>PC 17608</td>\n",
              "      <td>262.3750</td>\n",
              "      <td>B57 B59 B63 B66</td>\n",
              "      <td>C</td>\n",
              "    </tr>\n",
              "    <tr>\n",
              "      <th>743</th>\n",
              "      <td>1</td>\n",
              "      <td>1</td>\n",
              "      <td>Ryerson, Miss. Susan Parker \"Suzette\"</td>\n",
              "      <td>female</td>\n",
              "      <td>21.0</td>\n",
              "      <td>2</td>\n",
              "      <td>2</td>\n",
              "      <td>PC 17608</td>\n",
              "      <td>262.3750</td>\n",
              "      <td>B57 B59 B63 B66</td>\n",
              "      <td>C</td>\n",
              "    </tr>\n",
              "  </tbody>\n",
              "</table>\n",
              "</div>"
            ],
            "text/plain": [
              "             Survived  Pclass  ...            Cabin Embarked\n",
              "PassengerId                    ...                          \n",
              "259                 1       1  ...              NaN        C\n",
              "680                 1       1  ...      B51 B53 B55        C\n",
              "738                 1       1  ...             B101        C\n",
              "312                 1       1  ...  B57 B59 B63 B66        C\n",
              "743                 1       1  ...  B57 B59 B63 B66        C\n",
              "\n",
              "[5 rows x 11 columns]"
            ]
          },
          "metadata": {
            "tags": []
          },
          "execution_count": 8
        }
      ]
    },
    {
      "cell_type": "markdown",
      "metadata": {
        "id": "uRqLg5OE1UDZ",
        "colab_type": "text"
      },
      "source": [
        "**Пример создания признака.**"
      ]
    },
    {
      "cell_type": "code",
      "metadata": {
        "id": "bS0v35YL1UDd",
        "colab_type": "code",
        "colab": {}
      },
      "source": [
        "def age_category(age):\n",
        "    '''\n",
        "    < 30 -> 1\n",
        "    >= 30, <55 -> 2\n",
        "    >= 55 -> 3\n",
        "    '''\n",
        "    if age < 30:\n",
        "        return 1\n",
        "    elif age < 55:\n",
        "        return 2\n",
        "    else:\n",
        "        return 3"
      ],
      "execution_count": 0,
      "outputs": []
    },
    {
      "cell_type": "code",
      "metadata": {
        "id": "LdaMxoNL1UDi",
        "colab_type": "code",
        "colab": {}
      },
      "source": [
        "age_categories = [age_category(age) for age in data.Age]"
      ],
      "execution_count": 0,
      "outputs": []
    },
    {
      "cell_type": "code",
      "metadata": {
        "id": "ecDsurpL1UDo",
        "colab_type": "code",
        "colab": {}
      },
      "source": [
        "data['Age_category'] = age_categories"
      ],
      "execution_count": 0,
      "outputs": []
    },
    {
      "cell_type": "markdown",
      "metadata": {
        "id": "y7Ad08Lb1UDu",
        "colab_type": "text"
      },
      "source": [
        "**Другой способ – через `apply`.**"
      ]
    },
    {
      "cell_type": "code",
      "metadata": {
        "id": "qzDzib6N1UDv",
        "colab_type": "code",
        "colab": {}
      },
      "source": [
        "data['Age_category'] = data['Age'].apply(age_category)"
      ],
      "execution_count": 0,
      "outputs": []
    },
    {
      "cell_type": "markdown",
      "metadata": {
        "id": "c2x_3zy21UDy",
        "colab_type": "text"
      },
      "source": [
        "**1. Сколько мужчин / женщин находилось на борту?**\n",
        "- 412 мужчин и 479 женщин\n",
        "- 314 мужчин и 577 женщин\n",
        "- 479 мужчин и 412 женщин\n",
        "- 577 мужчин и 314 женщин"
      ]
    },
    {
      "cell_type": "code",
      "metadata": {
        "id": "nXi8HbHZ1UDz",
        "colab_type": "code",
        "outputId": "e9258ee3-aa80-41dd-a928-187aaf1630ed",
        "colab": {
          "base_uri": "https://localhost:8080/",
          "height": 34
        }
      },
      "source": [
        "# Ваш код здесь\n",
        "men = data.Sex[data.Sex == 'male'].count()\n",
        "women = data.Sex[data.Sex == 'female'].count()\n",
        "print('{} мужчин и {} женщин'.format(men, women))"
      ],
      "execution_count": 0,
      "outputs": [
        {
          "output_type": "stream",
          "text": [
            "577 мужчин и 314 женщин\n"
          ],
          "name": "stdout"
        }
      ]
    },
    {
      "cell_type": "markdown",
      "metadata": {
        "id": "EWSfe4951UD2",
        "colab_type": "text"
      },
      "source": [
        "**2. Выведите распределение переменной `Pclass` (социально-экономический статус) и это же распределение, только для мужчин / женщин по отдельности. Сколько было мужчин 2-го класса?**\n",
        "- 104\n",
        "- 108\n",
        "- 112\n",
        "- 125"
      ]
    },
    {
      "cell_type": "code",
      "metadata": {
        "id": "LM4IkRiE1UD5",
        "colab_type": "code",
        "outputId": "83347018-44d7-49a7-a524-5d6d5135c58e",
        "colab": {
          "base_uri": "https://localhost:8080/",
          "height": 442
        }
      },
      "source": [
        "# Ваш код здесь\n",
        "data.Pclass.hist(figsize=(10,4))\n",
        "data.Pclass.hist(data.Sex, figsize=(10,2))\n",
        "plt.show()\n",
        "\n",
        "print(data.Sex[(data.Sex == 'male') & (data.Pclass == 2)].count())"
      ],
      "execution_count": 0,
      "outputs": [
        {
          "output_type": "display_data",
          "data": {
            "image/png": "[encoded data removed]",
            "text/plain": [
              "<Figure size 720x288 with 1 Axes>"
            ]
          },
          "metadata": {
            "tags": []
          }
        },
        {
          "output_type": "display_data",
          "data": {
            "image/png": "[encoded data removed]",
            "text/plain": [
              "<Figure size 720x144 with 2 Axes>"
            ]
          },
          "metadata": {
            "tags": []
          }
        },
        {
          "output_type": "stream",
          "text": [
            "108\n"
          ],
          "name": "stdout"
        }
      ]
    },
    {
      "cell_type": "markdown",
      "metadata": {
        "id": "bCpZPLSU1UD8",
        "colab_type": "text"
      },
      "source": [
        "**3. Каковы медиана и стандартное отклонение платежей (`Fare`)? Округлите до 2 десятичных знаков.**\n",
        "- Медиана – 14.45, стандартное отклонение – 49.69\n",
        "- Медиана – 15.1, стандартное отклонение – 12.15\n",
        "- Медиана – 13.15, стандартное отклонение – 35.3\n",
        "- Медиана – 17.43, стандартное отклонение – 39.1"
      ]
    },
    {
      "cell_type": "code",
      "metadata": {
        "id": "XtL6Mj1y1UD8",
        "colab_type": "code",
        "outputId": "14b67ea6-58bb-4e2a-92fe-030cad1bc263",
        "colab": {
          "base_uri": "https://localhost:8080/",
          "height": 34
        }
      },
      "source": [
        "# Ваш код здесь\n",
        "m = round(data.Fare.median(), 2)\n",
        "s = round(data.Fare.std(), 2)\n",
        "print('Медиана – {}, стандартное отклонение – {}'.format(m, s))"
      ],
      "execution_count": 0,
      "outputs": [
        {
          "output_type": "stream",
          "text": [
            "Медиана – 14.45, стандартное отклонение – 49.69\n"
          ],
          "name": "stdout"
        }
      ]
    },
    {
      "cell_type": "markdown",
      "metadata": {
        "id": "-8tUT-Id1UD_",
        "colab_type": "text"
      },
      "source": [
        "**4. Правда ли, что люди моложе 30 лет выживали чаще, чем люди старше 60 лет? Каковы доли выживших в обеих группах?**\n",
        "- 22.7% среди молодых и 40.6% среди старых\n",
        "- 40.6% среди молодых и 22.7% среди старых\n",
        "- 35.3% среди молодых и 27.4% среди старых\n",
        "- 27.4% среди молодых и 35.3% среди старых"
      ]
    },
    {
      "cell_type": "code",
      "metadata": {
        "id": "12FYoDhq1UEA",
        "colab_type": "code",
        "outputId": "52dfe7fa-d580-4093-d431-4dea770b9c5c",
        "colab": {
          "base_uri": "https://localhost:8080/",
          "height": 34
        }
      },
      "source": [
        "# Ваш код здесь\n",
        "y = data.Survived[data.Age<30]\n",
        "o = data.Survived[data.Age>60]\n",
        "print('{}% среди молодых и {}% среди старых'.format(round(100*y.sum()/y.count(),1), round(100*o.sum()/o.count(),1)))"
      ],
      "execution_count": 0,
      "outputs": [
        {
          "output_type": "stream",
          "text": [
            "40.6% среди молодых и 22.7% среди старых\n"
          ],
          "name": "stdout"
        }
      ]
    },
    {
      "cell_type": "markdown",
      "metadata": {
        "id": "8EUZnpAi1UEC",
        "colab_type": "text"
      },
      "source": [
        "**5. Правда ли, что женщины выживали чаще мужчин? Каковы доли выживших в обеих группах?**\n",
        "- 30.2% среди мужчин и 46.2% среди женщин\n",
        "- 35.7% среди мужчин и 74.2% среди женщин\n",
        "- 21.1% среди мужчин и 46.2% среди женщин\n",
        "- 18.9% среди мужчин и 74.2% среди женщин"
      ]
    },
    {
      "cell_type": "code",
      "metadata": {
        "id": "KqLadeiv1UED",
        "colab_type": "code",
        "outputId": "5d8d059d-3bdf-40ea-8c89-e7500f5342bb",
        "colab": {
          "base_uri": "https://localhost:8080/",
          "height": 34
        }
      },
      "source": [
        "# Ваш код здесь\n",
        "m = data.Survived[data.Sex == 'male']\n",
        "w = data.Survived[data.Sex == 'female']\n",
        "print('{}% среди мужчин и {}% среди женщин'.format(round(100*m.sum()/m.count(),1), round(100*w.sum()/w.count(),1)))"
      ],
      "execution_count": 0,
      "outputs": [
        {
          "output_type": "stream",
          "text": [
            "18.9% среди мужчин и 74.2% среди женщин\n"
          ],
          "name": "stdout"
        }
      ]
    },
    {
      "cell_type": "markdown",
      "metadata": {
        "id": "Z74j7_-F1UEI",
        "colab_type": "text"
      },
      "source": [
        "**6. Найдите самое популярное имя среди пассажиров Титаника мужского пола?**\n",
        "- Charles\n",
        "- Thomas\n",
        "- William\n",
        "- John"
      ]
    },
    {
      "cell_type": "code",
      "metadata": {
        "id": "tua3HiUTLvZe",
        "colab_type": "code",
        "outputId": "2c80d5f6-3a36-48b6-a0c8-ed6cac813b56",
        "colab": {
          "base_uri": "https://localhost:8080/",
          "height": 235
        }
      },
      "source": [
        "data.Name[data.Sex == 'male']"
      ],
      "execution_count": 0,
      "outputs": [
        {
          "output_type": "execute_result",
          "data": {
            "text/plain": [
              "PassengerId\n",
              "1             Braund, Mr. Owen Harris\n",
              "5            Allen, Mr. William Henry\n",
              "6                    Moran, Mr. James\n",
              "7             McCarthy, Mr. Timothy J\n",
              "8      Palsson, Master. Gosta Leonard\n",
              "                    ...              \n",
              "884     Banfield, Mr. Frederick James\n",
              "885            Sutehall, Mr. Henry Jr\n",
              "887             Montvila, Rev. Juozas\n",
              "890             Behr, Mr. Karl Howell\n",
              "891               Dooley, Mr. Patrick\n",
              "Name: Name, Length: 577, dtype: object"
            ]
          },
          "metadata": {
            "tags": []
          },
          "execution_count": 42
        }
      ]
    },
    {
      "cell_type": "code",
      "metadata": {
        "id": "pYyrud4V1UEJ",
        "colab_type": "code",
        "outputId": "1440a3fe-c742-4a85-bdc7-070ea5166962",
        "colab": {
          "base_uri": "https://localhost:8080/",
          "height": 34
        }
      },
      "source": [
        "# Ваш код здесь # Предполагаю, что поле Name у мажчин заполнено по формату \"Фамилия Mr. Имя Имя Имя...\"\n",
        "d={}\n",
        "m=0\n",
        "for i in data.Name[data.Sex == 'male']:\n",
        "  s=i[i.find('Mr.')+4:]\n",
        "  for j in s.split():\n",
        "    d[j]=d.get(j,0)+1\n",
        "    if d[j]>m:\n",
        "      m=d[j]\n",
        "for k, v in d.items():\n",
        "  if v==m:\n",
        "    print(k)"
      ],
      "execution_count": 0,
      "outputs": [
        {
          "output_type": "stream",
          "text": [
            "William\n"
          ],
          "name": "stdout"
        }
      ]
    },
    {
      "cell_type": "markdown",
      "metadata": {
        "id": "FfS0yZ541UEN",
        "colab_type": "text"
      },
      "source": [
        "**7. Сравните графически распределение стоимости билетов и возраста у спасенных и у погибших. Средний возраст погибших выше, верно?**\n",
        "- Да \n",
        "- Нет"
      ]
    },
    {
      "cell_type": "code",
      "metadata": {
        "id": "JxjU9Y2MPA30",
        "colab_type": "code",
        "outputId": "24480197-a6cb-4227-a092-0ab459c1b3b0",
        "colab": {
          "base_uri": "https://localhost:8080/",
          "height": 296
        }
      },
      "source": [
        "sns.scatterplot(x=\"Age\", y=\"Fare\", data=data, hue=\"Survived\")\n",
        "# plt.show()"
      ],
      "execution_count": 72,
      "outputs": [
        {
          "output_type": "execute_result",
          "data": {
            "text/plain": [
              "<matplotlib.axes._subplots.AxesSubplot at 0x7f3dd2470160>"
            ]
          },
          "metadata": {
            "tags": []
          },
          "execution_count": 72
        },
        {
          "output_type": "display_data",
          "data": {
            "image/png": "[encoded data removed]",
            "text/plain": [
              "<Figure size 432x288 with 1 Axes>"
            ]
          },
          "metadata": {
            "tags": []
          }
        }
      ]
    },
    {
      "cell_type": "code",
      "metadata": {
        "id": "-W7oX3B-5ovf",
        "colab_type": "code",
        "outputId": "b7fc63b9-09a8-4353-f42f-afe50721ab5c",
        "colab": {
          "base_uri": "https://localhost:8080/",
          "height": 738
        }
      },
      "source": [
        "# Ваш код здесь\n",
        "data.boxplot(column='Fare',  by=['Survived'], \n",
        "           figsize=(10,5))\n",
        "data.boxplot(column='Age',  by=['Survived'], \n",
        "           figsize=(10,5))\n",
        "# plt.show()\n",
        "\n",
        "s = data.Age[data.Survived==1].mean()\n",
        "n = data.Age[data.Survived==0].mean()\n",
        "if s<n:\n",
        "  print('Средний возраст погибших выше, верно? - ДА')\n",
        "else:\n",
        "  print('Средний возраст погибших выше, верно? - НЕТ')\n",
        "print(n,s)"
      ],
      "execution_count": 0,
      "outputs": [
        {
          "output_type": "stream",
          "text": [
            "Средний возраст погибших выше, верно? - ДА\n",
            "30.62617924528302 28.343689655172415\n"
          ],
          "name": "stdout"
        },
        {
          "output_type": "display_data",
          "data": {
            "image/png": "[encoded data removed]",
            "text/plain": [
              "<Figure size 720x360 with 1 Axes>"
            ]
          },
          "metadata": {
            "tags": []
          }
        },
        {
          "output_type": "display_data",
          "data": {
            "image/png": "[encoded data removed]",
            "text/plain": [
              "<Figure size 720x360 with 1 Axes>"
            ]
          },
          "metadata": {
            "tags": []
          }
        }
      ]
    },
    {
      "cell_type": "code",
      "metadata": {
        "id": "rOzbQjXF1UEQ",
        "colab_type": "code",
        "outputId": "fc18f9ec-f0c4-4c44-aae7-b0b44a5752e4",
        "colab": {
          "base_uri": "https://localhost:8080/",
          "height": 390
        }
      },
      "source": [
        "# Ваш код здесь\n",
        "data.Fare.hist(data.Survived, figsize=(10,2))\n",
        "data.Age.hist(data.Survived, figsize=(10,2))\n",
        "# plt.show()"
      ],
      "execution_count": 0,
      "outputs": [
        {
          "output_type": "execute_result",
          "data": {
            "text/plain": [
              "array([<matplotlib.axes._subplots.AxesSubplot object at 0x7f3dd5a02940>,\n",
              "       <matplotlib.axes._subplots.AxesSubplot object at 0x7f3dd5622668>],\n",
              "      dtype=object)"
            ]
          },
          "metadata": {
            "tags": []
          },
          "execution_count": 55
        },
        {
          "output_type": "display_data",
          "data": {
            "image/png": "[encoded data removed]",
            "text/plain": [
              "<Figure size 720x144 with 2 Axes>"
            ]
          },
          "metadata": {
            "tags": []
          }
        },
        {
          "output_type": "display_data",
          "data": {
            "image/png": "[encoded data removed]",
            "text/plain": [
              "<Figure size 720x144 with 2 Axes>"
            ]
          },
          "metadata": {
            "tags": []
          }
        }
      ]
    },
    {
      "cell_type": "markdown",
      "metadata": {
        "id": "eUWgTFMc1UES",
        "colab_type": "text"
      },
      "source": [
        "**8. Как отличается средний возраст мужчин / женщин в зависимости от класса обслуживания? Выберите верные утверждения:**\n",
        "- В среднем мужчины 1-го класса старше 40 лет\n",
        "- В среднем женщины 1-го класса старше 40 лет\n",
        "- Мужчины всех классов в среднем старше женщин того же класса\n",
        "- В среднем люди в 1 классе старше, чем во 2-ом, а те старше представителей 3-го класса"
      ]
    },
    {
      "cell_type": "code",
      "metadata": {
        "id": "JTi5ehbi1UET",
        "colab_type": "code",
        "outputId": "7be371e8-2d77-464f-9790-561c57fae289",
        "colab": {
          "base_uri": "https://localhost:8080/",
          "height": 919
        }
      },
      "source": [
        "# Ваш код здесь\n",
        "data.boxplot(column='Age',  by=['Pclass', 'Sex'], \n",
        "           figsize=(20,4))\n",
        "data.boxplot(column='Age',  by=['Sex', 'Pclass'], \n",
        "           figsize=(20,4))\n",
        "data.boxplot(column='Age',  by='Pclass', \n",
        "           figsize=(20,4))\n",
        "# plt.show()\n",
        "if (data.Age[(data.Sex=='male') & (data.Pclass==1)].mean()>40):\n",
        "  print('В среднем мужчины 1-го класса старше 40 лет')\n",
        "if (data.Age[(data.Sex=='female') & (data.Pclass==1)].mean()>40):\n",
        "  print('В среднем женщины 1-го класса старше 40 лет')\n",
        "k=1\n",
        "t=1\n",
        "for i in range(1,4):\n",
        "  if (data.Age[(data.Sex=='female') & (data.Pclass==i)].mean()>=data.Age[(data.Sex=='male') & (data.Pclass==i)].mean()):\n",
        "    k=0\n",
        "  if i>1 and (data.Age[data.Pclass==i].mean()>=data.Age[data.Pclass==i-1].mean()):\n",
        "    t=0\n",
        "if k:\n",
        "  print('Мужчины всех классов в среднем старше женщин того же класса')\n",
        "if t:\n",
        "  print('В среднем люди в 1 классе старше, чем во 2-ом, а те старше представителей 3-го класса')\n"
      ],
      "execution_count": 0,
      "outputs": [
        {
          "output_type": "stream",
          "text": [
            "В среднем мужчины 1-го класса старше 40 лет\n",
            "Мужчины всех классов в среднем старше женщин того же класса\n",
            "В среднем люди в 1 классе старше, чем во 2-ом, а те старше представителей 3-го класса\n"
          ],
          "name": "stdout"
        },
        {
          "output_type": "display_data",
          "data": {
            "image/png": "[encoded data removed]",
            "text/plain": [
              "<Figure size 1440x288 with 1 Axes>"
            ]
          },
          "metadata": {
            "tags": []
          }
        },
        {
          "output_type": "display_data",
          "data": {
            "image/png": "[encoded data removed]",
            "text/plain": [
              "<Figure size 1440x288 with 1 Axes>"
            ]
          },
          "metadata": {
            "tags": []
          }
        },
        {
          "output_type": "display_data",
          "data": {
            "image/png": "[encoded data removed]",
            "text/plain": [
              "<Figure size 1440x288 with 1 Axes>"
            ]
          },
          "metadata": {
            "tags": []
          }
        }
      ]
    }
  ]
}
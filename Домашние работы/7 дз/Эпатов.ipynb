{
  "nbformat": 4,
  "nbformat_minor": 0,
  "metadata": {
    "anaconda-cloud": {},
    "kernelspec": {
      "display_name": "Python 3",
      "language": "python",
      "name": "python3"
    },
    "language_info": {
      "codemirror_mode": {
        "name": "ipython",
        "version": 3
      },
      "file_extension": ".py",
      "mimetype": "text/x-python",
      "name": "python",
      "nbconvert_exporter": "python",
      "pygments_lexer": "ipython3",
      "version": "3.6.1"
    },
    "name": "seminar02_practice_pandas_titanic.ipynb",
    "colab": {
      "name": "07_pandas_homework.ipynb",
      "provenance": [],
      "collapsed_sections": []
    }
  },
  "cells": [
    {
      "cell_type": "markdown",
      "metadata": {
        "id": "SVwJxi3t1UCz",
        "colab_type": "text"
      },
      "source": [
        "Автор материала: программист-исследователь Mail.ru Group, старший преподаватель Факультета Компьютерных Наук ВШЭ Юрий Кашницкий. Материал распространяется на условиях лицензии [Creative Commons CC BY-NC-SA 4.0](https://creativecommons.org/licenses/by-nc-sa/4.0/). Можно использовать в любых целях (редактировать, поправлять и брать за основу), кроме коммерческих, но с обязательным упоминанием автора материала."
      ]
    },
    {
      "cell_type": "markdown",
      "metadata": {
        "id": "SIFQrOvC1UC0",
        "colab_type": "text"
      },
      "source": [
        "\n",
        "**Мягкий дедлайн:** 6 ноября 23:59\n",
        "\n",
        "**Жесткий дедлайн:** 13 ноября 23:59"
      ]
    },
    {
      "cell_type": "code",
      "metadata": {
        "id": "bLb_O5p01UC3",
        "colab_type": "code",
        "colab": {}
      },
      "source": [
        "import numpy as np\n",
        "import pandas as pd\n",
        "%matplotlib inline"
      ],
      "execution_count": 0,
      "outputs": []
    },
    {
      "cell_type": "markdown",
      "metadata": {
        "id": "_na9WymL1UC7",
        "colab_type": "text"
      },
      "source": [
        "**Считаем данные из файла в память в виде объекта Pandas.DataFrame**"
      ]
    },
    {
      "cell_type": "code",
      "metadata": {
        "id": "oMMmnKuM1UC8",
        "colab_type": "code",
        "colab": {}
      },
      "source": [
        "data = pd.read_csv('titanic_train.csv',\n",
        "                  index_col='PassengerId')"
      ],
      "execution_count": 0,
      "outputs": []
    },
    {
      "cell_type": "markdown",
      "metadata": {
        "id": "1yT_DoKH1UDA",
        "colab_type": "text"
      },
      "source": [
        "**Данные представлены в виде таблицы. Посмотрим на первые 5 строк:**"
      ]
    },
    {
      "cell_type": "code",
      "metadata": {
        "id": "hou7Sw591UDD",
        "colab_type": "code",
        "outputId": "6aab12a4-ca28-490a-bf34-a51a9b98e893",
        "colab": {
          "base_uri": "https://localhost:8080/",
          "height": 303
        }
      },
      "source": [
        "data.head(5)"
      ],
      "execution_count": 3,
      "outputs": [
        {
          "output_type": "execute_result",
          "data": {
            "text/html": [
              "<div>\n",
              "<style scoped>\n",
              "    .dataframe tbody tr th:only-of-type {\n",
              "        vertical-align: middle;\n",
              "    }\n",
              "\n",
              "    .dataframe tbody tr th {\n",
              "        vertical-align: top;\n",
              "    }\n",
              "\n",
              "    .dataframe thead th {\n",
              "        text-align: right;\n",
              "    }\n",
              "</style>\n",
              "<table border=\"1\" class=\"dataframe\">\n",
              "  <thead>\n",
              "    <tr style=\"text-align: right;\">\n",
              "      <th></th>\n",
              "      <th>Survived</th>\n",
              "      <th>Pclass</th>\n",
              "      <th>Name</th>\n",
              "      <th>Sex</th>\n",
              "      <th>Age</th>\n",
              "      <th>SibSp</th>\n",
              "      <th>Parch</th>\n",
              "      <th>Ticket</th>\n",
              "      <th>Fare</th>\n",
              "      <th>Cabin</th>\n",
              "      <th>Embarked</th>\n",
              "    </tr>\n",
              "    <tr>\n",
              "      <th>PassengerId</th>\n",
              "      <th></th>\n",
              "      <th></th>\n",
              "      <th></th>\n",
              "      <th></th>\n",
              "      <th></th>\n",
              "      <th></th>\n",
              "      <th></th>\n",
              "      <th></th>\n",
              "      <th></th>\n",
              "      <th></th>\n",
              "      <th></th>\n",
              "    </tr>\n",
              "  </thead>\n",
              "  <tbody>\n",
              "    <tr>\n",
              "      <th>1</th>\n",
              "      <td>0</td>\n",
              "      <td>3</td>\n",
              "      <td>Braund, Mr. Owen Harris</td>\n",
              "      <td>male</td>\n",
              "      <td>22.0</td>\n",
              "      <td>1</td>\n",
              "      <td>0</td>\n",
              "      <td>A/5 21171</td>\n",
              "      <td>7.2500</td>\n",
              "      <td>NaN</td>\n",
              "      <td>S</td>\n",
              "    </tr>\n",
              "    <tr>\n",
              "      <th>2</th>\n",
              "      <td>1</td>\n",
              "      <td>1</td>\n",
              "      <td>Cumings, Mrs. John Bradley (Florence Briggs Th...</td>\n",
              "      <td>female</td>\n",
              "      <td>38.0</td>\n",
              "      <td>1</td>\n",
              "      <td>0</td>\n",
              "      <td>PC 17599</td>\n",
              "      <td>71.2833</td>\n",
              "      <td>C85</td>\n",
              "      <td>C</td>\n",
              "    </tr>\n",
              "    <tr>\n",
              "      <th>3</th>\n",
              "      <td>1</td>\n",
              "      <td>3</td>\n",
              "      <td>Heikkinen, Miss. Laina</td>\n",
              "      <td>female</td>\n",
              "      <td>26.0</td>\n",
              "      <td>0</td>\n",
              "      <td>0</td>\n",
              "      <td>STON/O2. 3101282</td>\n",
              "      <td>7.9250</td>\n",
              "      <td>NaN</td>\n",
              "      <td>S</td>\n",
              "    </tr>\n",
              "    <tr>\n",
              "      <th>4</th>\n",
              "      <td>1</td>\n",
              "      <td>1</td>\n",
              "      <td>Futrelle, Mrs. Jacques Heath (Lily May Peel)</td>\n",
              "      <td>female</td>\n",
              "      <td>35.0</td>\n",
              "      <td>1</td>\n",
              "      <td>0</td>\n",
              "      <td>113803</td>\n",
              "      <td>53.1000</td>\n",
              "      <td>C123</td>\n",
              "      <td>S</td>\n",
              "    </tr>\n",
              "    <tr>\n",
              "      <th>5</th>\n",
              "      <td>0</td>\n",
              "      <td>3</td>\n",
              "      <td>Allen, Mr. William Henry</td>\n",
              "      <td>male</td>\n",
              "      <td>35.0</td>\n",
              "      <td>0</td>\n",
              "      <td>0</td>\n",
              "      <td>373450</td>\n",
              "      <td>8.0500</td>\n",
              "      <td>NaN</td>\n",
              "      <td>S</td>\n",
              "    </tr>\n",
              "  </tbody>\n",
              "</table>\n",
              "</div>"
            ],
            "text/plain": [
              "             Survived  Pclass  ... Cabin Embarked\n",
              "PassengerId                    ...               \n",
              "1                   0       3  ...   NaN        S\n",
              "2                   1       1  ...   C85        C\n",
              "3                   1       3  ...   NaN        S\n",
              "4                   1       1  ...  C123        S\n",
              "5                   0       3  ...   NaN        S\n",
              "\n",
              "[5 rows x 11 columns]"
            ]
          },
          "metadata": {
            "tags": []
          },
          "execution_count": 3
        }
      ]
    },
    {
      "cell_type": "code",
      "metadata": {
        "id": "jHP2OPgd1UDH",
        "colab_type": "code",
        "outputId": "9d63b6b7-b71f-4be0-8f7b-5ad53622f541",
        "colab": {
          "base_uri": "https://localhost:8080/",
          "height": 297
        }
      },
      "source": [
        "data.describe()"
      ],
      "execution_count": 4,
      "outputs": [
        {
          "output_type": "execute_result",
          "data": {
            "text/html": [
              "<div>\n",
              "<style scoped>\n",
              "    .dataframe tbody tr th:only-of-type {\n",
              "        vertical-align: middle;\n",
              "    }\n",
              "\n",
              "    .dataframe tbody tr th {\n",
              "        vertical-align: top;\n",
              "    }\n",
              "\n",
              "    .dataframe thead th {\n",
              "        text-align: right;\n",
              "    }\n",
              "</style>\n",
              "<table border=\"1\" class=\"dataframe\">\n",
              "  <thead>\n",
              "    <tr style=\"text-align: right;\">\n",
              "      <th></th>\n",
              "      <th>Survived</th>\n",
              "      <th>Pclass</th>\n",
              "      <th>Age</th>\n",
              "      <th>SibSp</th>\n",
              "      <th>Parch</th>\n",
              "      <th>Fare</th>\n",
              "    </tr>\n",
              "  </thead>\n",
              "  <tbody>\n",
              "    <tr>\n",
              "      <th>count</th>\n",
              "      <td>891.000000</td>\n",
              "      <td>891.000000</td>\n",
              "      <td>714.000000</td>\n",
              "      <td>891.000000</td>\n",
              "      <td>891.000000</td>\n",
              "      <td>891.000000</td>\n",
              "    </tr>\n",
              "    <tr>\n",
              "      <th>mean</th>\n",
              "      <td>0.383838</td>\n",
              "      <td>2.308642</td>\n",
              "      <td>29.699118</td>\n",
              "      <td>0.523008</td>\n",
              "      <td>0.381594</td>\n",
              "      <td>32.204208</td>\n",
              "    </tr>\n",
              "    <tr>\n",
              "      <th>std</th>\n",
              "      <td>0.486592</td>\n",
              "      <td>0.836071</td>\n",
              "      <td>14.526497</td>\n",
              "      <td>1.102743</td>\n",
              "      <td>0.806057</td>\n",
              "      <td>49.693429</td>\n",
              "    </tr>\n",
              "    <tr>\n",
              "      <th>min</th>\n",
              "      <td>0.000000</td>\n",
              "      <td>1.000000</td>\n",
              "      <td>0.420000</td>\n",
              "      <td>0.000000</td>\n",
              "      <td>0.000000</td>\n",
              "      <td>0.000000</td>\n",
              "    </tr>\n",
              "    <tr>\n",
              "      <th>25%</th>\n",
              "      <td>0.000000</td>\n",
              "      <td>2.000000</td>\n",
              "      <td>20.125000</td>\n",
              "      <td>0.000000</td>\n",
              "      <td>0.000000</td>\n",
              "      <td>7.910400</td>\n",
              "    </tr>\n",
              "    <tr>\n",
              "      <th>50%</th>\n",
              "      <td>0.000000</td>\n",
              "      <td>3.000000</td>\n",
              "      <td>28.000000</td>\n",
              "      <td>0.000000</td>\n",
              "      <td>0.000000</td>\n",
              "      <td>14.454200</td>\n",
              "    </tr>\n",
              "    <tr>\n",
              "      <th>75%</th>\n",
              "      <td>1.000000</td>\n",
              "      <td>3.000000</td>\n",
              "      <td>38.000000</td>\n",
              "      <td>1.000000</td>\n",
              "      <td>0.000000</td>\n",
              "      <td>31.000000</td>\n",
              "    </tr>\n",
              "    <tr>\n",
              "      <th>max</th>\n",
              "      <td>1.000000</td>\n",
              "      <td>3.000000</td>\n",
              "      <td>80.000000</td>\n",
              "      <td>8.000000</td>\n",
              "      <td>6.000000</td>\n",
              "      <td>512.329200</td>\n",
              "    </tr>\n",
              "  </tbody>\n",
              "</table>\n",
              "</div>"
            ],
            "text/plain": [
              "         Survived      Pclass         Age       SibSp       Parch        Fare\n",
              "count  891.000000  891.000000  714.000000  891.000000  891.000000  891.000000\n",
              "mean     0.383838    2.308642   29.699118    0.523008    0.381594   32.204208\n",
              "std      0.486592    0.836071   14.526497    1.102743    0.806057   49.693429\n",
              "min      0.000000    1.000000    0.420000    0.000000    0.000000    0.000000\n",
              "25%      0.000000    2.000000   20.125000    0.000000    0.000000    7.910400\n",
              "50%      0.000000    3.000000   28.000000    0.000000    0.000000   14.454200\n",
              "75%      1.000000    3.000000   38.000000    1.000000    0.000000   31.000000\n",
              "max      1.000000    3.000000   80.000000    8.000000    6.000000  512.329200"
            ]
          },
          "metadata": {
            "tags": []
          },
          "execution_count": 4
        }
      ]
    },
    {
      "cell_type": "markdown",
      "metadata": {
        "id": "G7BI8ol81UDK",
        "colab_type": "text"
      },
      "source": [
        "**Для примера отберем пассажиров, которые сели в Cherbourg (Embarked=C) и заплатили более 200 у.е. за билет (fare > 200).**\n",
        "\n",
        "Убедитесь, что Вы понимаете, как эта конструкция работает. <br>\n",
        "Если нет – посмотрите, как вычисляется выражение в квадратных в скобках."
      ]
    },
    {
      "cell_type": "code",
      "metadata": {
        "id": "H94up_lM1UDL",
        "colab_type": "code",
        "outputId": "0be645a4-c1d1-43ee-c2b2-deffdbeaf46d",
        "colab": {
          "base_uri": "https://localhost:8080/",
          "height": 337
        }
      },
      "source": [
        "data[(data['Embarked'] == 'C') & (data.Fare > 200)].head()"
      ],
      "execution_count": 5,
      "outputs": [
        {
          "output_type": "execute_result",
          "data": {
            "text/html": [
              "<div>\n",
              "<style scoped>\n",
              "    .dataframe tbody tr th:only-of-type {\n",
              "        vertical-align: middle;\n",
              "    }\n",
              "\n",
              "    .dataframe tbody tr th {\n",
              "        vertical-align: top;\n",
              "    }\n",
              "\n",
              "    .dataframe thead th {\n",
              "        text-align: right;\n",
              "    }\n",
              "</style>\n",
              "<table border=\"1\" class=\"dataframe\">\n",
              "  <thead>\n",
              "    <tr style=\"text-align: right;\">\n",
              "      <th></th>\n",
              "      <th>Survived</th>\n",
              "      <th>Pclass</th>\n",
              "      <th>Name</th>\n",
              "      <th>Sex</th>\n",
              "      <th>Age</th>\n",
              "      <th>SibSp</th>\n",
              "      <th>Parch</th>\n",
              "      <th>Ticket</th>\n",
              "      <th>Fare</th>\n",
              "      <th>Cabin</th>\n",
              "      <th>Embarked</th>\n",
              "    </tr>\n",
              "    <tr>\n",
              "      <th>PassengerId</th>\n",
              "      <th></th>\n",
              "      <th></th>\n",
              "      <th></th>\n",
              "      <th></th>\n",
              "      <th></th>\n",
              "      <th></th>\n",
              "      <th></th>\n",
              "      <th></th>\n",
              "      <th></th>\n",
              "      <th></th>\n",
              "      <th></th>\n",
              "    </tr>\n",
              "  </thead>\n",
              "  <tbody>\n",
              "    <tr>\n",
              "      <th>119</th>\n",
              "      <td>0</td>\n",
              "      <td>1</td>\n",
              "      <td>Baxter, Mr. Quigg Edmond</td>\n",
              "      <td>male</td>\n",
              "      <td>24.0</td>\n",
              "      <td>0</td>\n",
              "      <td>1</td>\n",
              "      <td>PC 17558</td>\n",
              "      <td>247.5208</td>\n",
              "      <td>B58 B60</td>\n",
              "      <td>C</td>\n",
              "    </tr>\n",
              "    <tr>\n",
              "      <th>259</th>\n",
              "      <td>1</td>\n",
              "      <td>1</td>\n",
              "      <td>Ward, Miss. Anna</td>\n",
              "      <td>female</td>\n",
              "      <td>35.0</td>\n",
              "      <td>0</td>\n",
              "      <td>0</td>\n",
              "      <td>PC 17755</td>\n",
              "      <td>512.3292</td>\n",
              "      <td>NaN</td>\n",
              "      <td>C</td>\n",
              "    </tr>\n",
              "    <tr>\n",
              "      <th>300</th>\n",
              "      <td>1</td>\n",
              "      <td>1</td>\n",
              "      <td>Baxter, Mrs. James (Helene DeLaudeniere Chaput)</td>\n",
              "      <td>female</td>\n",
              "      <td>50.0</td>\n",
              "      <td>0</td>\n",
              "      <td>1</td>\n",
              "      <td>PC 17558</td>\n",
              "      <td>247.5208</td>\n",
              "      <td>B58 B60</td>\n",
              "      <td>C</td>\n",
              "    </tr>\n",
              "    <tr>\n",
              "      <th>312</th>\n",
              "      <td>1</td>\n",
              "      <td>1</td>\n",
              "      <td>Ryerson, Miss. Emily Borie</td>\n",
              "      <td>female</td>\n",
              "      <td>18.0</td>\n",
              "      <td>2</td>\n",
              "      <td>2</td>\n",
              "      <td>PC 17608</td>\n",
              "      <td>262.3750</td>\n",
              "      <td>B57 B59 B63 B66</td>\n",
              "      <td>C</td>\n",
              "    </tr>\n",
              "    <tr>\n",
              "      <th>378</th>\n",
              "      <td>0</td>\n",
              "      <td>1</td>\n",
              "      <td>Widener, Mr. Harry Elkins</td>\n",
              "      <td>male</td>\n",
              "      <td>27.0</td>\n",
              "      <td>0</td>\n",
              "      <td>2</td>\n",
              "      <td>113503</td>\n",
              "      <td>211.5000</td>\n",
              "      <td>C82</td>\n",
              "      <td>C</td>\n",
              "    </tr>\n",
              "  </tbody>\n",
              "</table>\n",
              "</div>"
            ],
            "text/plain": [
              "             Survived  Pclass  ...            Cabin Embarked\n",
              "PassengerId                    ...                          \n",
              "119                 0       1  ...          B58 B60        C\n",
              "259                 1       1  ...              NaN        C\n",
              "300                 1       1  ...          B58 B60        C\n",
              "312                 1       1  ...  B57 B59 B63 B66        C\n",
              "378                 0       1  ...              C82        C\n",
              "\n",
              "[5 rows x 11 columns]"
            ]
          },
          "metadata": {
            "tags": []
          },
          "execution_count": 5
        }
      ]
    },
    {
      "cell_type": "markdown",
      "metadata": {
        "id": "e3g5TXZq1UDT",
        "colab_type": "text"
      },
      "source": [
        "**Можно отсортировать этих людей по убыванию платы за билет.**"
      ]
    },
    {
      "cell_type": "code",
      "metadata": {
        "id": "l1YTlusj1UDV",
        "colab_type": "code",
        "outputId": "bfb7211c-e6d6-43fb-8b22-54d2787461ed",
        "colab": {
          "base_uri": "https://localhost:8080/",
          "height": 320
        }
      },
      "source": [
        "data[(data['Embarked'] == 'C') & \n",
        "     (data['Fare'] > 200)].sort_values(by='Fare',\n",
        "                               ascending=False).head()"
      ],
      "execution_count": 6,
      "outputs": [
        {
          "output_type": "execute_result",
          "data": {
            "text/html": [
              "<div>\n",
              "<style scoped>\n",
              "    .dataframe tbody tr th:only-of-type {\n",
              "        vertical-align: middle;\n",
              "    }\n",
              "\n",
              "    .dataframe tbody tr th {\n",
              "        vertical-align: top;\n",
              "    }\n",
              "\n",
              "    .dataframe thead th {\n",
              "        text-align: right;\n",
              "    }\n",
              "</style>\n",
              "<table border=\"1\" class=\"dataframe\">\n",
              "  <thead>\n",
              "    <tr style=\"text-align: right;\">\n",
              "      <th></th>\n",
              "      <th>Survived</th>\n",
              "      <th>Pclass</th>\n",
              "      <th>Name</th>\n",
              "      <th>Sex</th>\n",
              "      <th>Age</th>\n",
              "      <th>SibSp</th>\n",
              "      <th>Parch</th>\n",
              "      <th>Ticket</th>\n",
              "      <th>Fare</th>\n",
              "      <th>Cabin</th>\n",
              "      <th>Embarked</th>\n",
              "    </tr>\n",
              "    <tr>\n",
              "      <th>PassengerId</th>\n",
              "      <th></th>\n",
              "      <th></th>\n",
              "      <th></th>\n",
              "      <th></th>\n",
              "      <th></th>\n",
              "      <th></th>\n",
              "      <th></th>\n",
              "      <th></th>\n",
              "      <th></th>\n",
              "      <th></th>\n",
              "      <th></th>\n",
              "    </tr>\n",
              "  </thead>\n",
              "  <tbody>\n",
              "    <tr>\n",
              "      <th>259</th>\n",
              "      <td>1</td>\n",
              "      <td>1</td>\n",
              "      <td>Ward, Miss. Anna</td>\n",
              "      <td>female</td>\n",
              "      <td>35.0</td>\n",
              "      <td>0</td>\n",
              "      <td>0</td>\n",
              "      <td>PC 17755</td>\n",
              "      <td>512.3292</td>\n",
              "      <td>NaN</td>\n",
              "      <td>C</td>\n",
              "    </tr>\n",
              "    <tr>\n",
              "      <th>680</th>\n",
              "      <td>1</td>\n",
              "      <td>1</td>\n",
              "      <td>Cardeza, Mr. Thomas Drake Martinez</td>\n",
              "      <td>male</td>\n",
              "      <td>36.0</td>\n",
              "      <td>0</td>\n",
              "      <td>1</td>\n",
              "      <td>PC 17755</td>\n",
              "      <td>512.3292</td>\n",
              "      <td>B51 B53 B55</td>\n",
              "      <td>C</td>\n",
              "    </tr>\n",
              "    <tr>\n",
              "      <th>738</th>\n",
              "      <td>1</td>\n",
              "      <td>1</td>\n",
              "      <td>Lesurer, Mr. Gustave J</td>\n",
              "      <td>male</td>\n",
              "      <td>35.0</td>\n",
              "      <td>0</td>\n",
              "      <td>0</td>\n",
              "      <td>PC 17755</td>\n",
              "      <td>512.3292</td>\n",
              "      <td>B101</td>\n",
              "      <td>C</td>\n",
              "    </tr>\n",
              "    <tr>\n",
              "      <th>312</th>\n",
              "      <td>1</td>\n",
              "      <td>1</td>\n",
              "      <td>Ryerson, Miss. Emily Borie</td>\n",
              "      <td>female</td>\n",
              "      <td>18.0</td>\n",
              "      <td>2</td>\n",
              "      <td>2</td>\n",
              "      <td>PC 17608</td>\n",
              "      <td>262.3750</td>\n",
              "      <td>B57 B59 B63 B66</td>\n",
              "      <td>C</td>\n",
              "    </tr>\n",
              "    <tr>\n",
              "      <th>743</th>\n",
              "      <td>1</td>\n",
              "      <td>1</td>\n",
              "      <td>Ryerson, Miss. Susan Parker \"Suzette\"</td>\n",
              "      <td>female</td>\n",
              "      <td>21.0</td>\n",
              "      <td>2</td>\n",
              "      <td>2</td>\n",
              "      <td>PC 17608</td>\n",
              "      <td>262.3750</td>\n",
              "      <td>B57 B59 B63 B66</td>\n",
              "      <td>C</td>\n",
              "    </tr>\n",
              "  </tbody>\n",
              "</table>\n",
              "</div>"
            ],
            "text/plain": [
              "             Survived  Pclass  ...            Cabin Embarked\n",
              "PassengerId                    ...                          \n",
              "259                 1       1  ...              NaN        C\n",
              "680                 1       1  ...      B51 B53 B55        C\n",
              "738                 1       1  ...             B101        C\n",
              "312                 1       1  ...  B57 B59 B63 B66        C\n",
              "743                 1       1  ...  B57 B59 B63 B66        C\n",
              "\n",
              "[5 rows x 11 columns]"
            ]
          },
          "metadata": {
            "tags": []
          },
          "execution_count": 6
        }
      ]
    },
    {
      "cell_type": "markdown",
      "metadata": {
        "id": "uRqLg5OE1UDZ",
        "colab_type": "text"
      },
      "source": [
        "**Пример создания признака.**"
      ]
    },
    {
      "cell_type": "code",
      "metadata": {
        "id": "bS0v35YL1UDd",
        "colab_type": "code",
        "colab": {}
      },
      "source": [
        "def age_category(age):\n",
        "    '''\n",
        "    < 30 -> 1\n",
        "    >= 30, <55 -> 2\n",
        "    >= 55 -> 3\n",
        "    '''\n",
        "    if age < 30:\n",
        "        return 1\n",
        "    elif age < 55:\n",
        "        return 2\n",
        "    else:\n",
        "        return 3"
      ],
      "execution_count": 0,
      "outputs": []
    },
    {
      "cell_type": "code",
      "metadata": {
        "id": "LdaMxoNL1UDi",
        "colab_type": "code",
        "colab": {}
      },
      "source": [
        "age_categories = [age_category(age) for age in data.Age]"
      ],
      "execution_count": 0,
      "outputs": []
    },
    {
      "cell_type": "code",
      "metadata": {
        "id": "ecDsurpL1UDo",
        "colab_type": "code",
        "colab": {}
      },
      "source": [
        "data['Age_category'] = age_categories"
      ],
      "execution_count": 0,
      "outputs": []
    },
    {
      "cell_type": "markdown",
      "metadata": {
        "id": "y7Ad08Lb1UDu",
        "colab_type": "text"
      },
      "source": [
        "**Другой способ – через `apply`.**"
      ]
    },
    {
      "cell_type": "code",
      "metadata": {
        "id": "qzDzib6N1UDv",
        "colab_type": "code",
        "colab": {}
      },
      "source": [
        "data['Age_category'] = data['Age'].apply(age_category)"
      ],
      "execution_count": 0,
      "outputs": []
    },
    {
      "cell_type": "markdown",
      "metadata": {
        "id": "c2x_3zy21UDy",
        "colab_type": "text"
      },
      "source": [
        "**1. Сколько мужчин / женщин находилось на борту?**\n",
        "- 412 мужчин и 479 женщин\n",
        "- 314 мужчин и 577 женщин\n",
        "- 479 мужчин и 412 женщин\n",
        "- **577 мужчин и 314 женщин**"
      ]
    },
    {
      "cell_type": "code",
      "metadata": {
        "id": "nXi8HbHZ1UDz",
        "colab_type": "code",
        "colab": {
          "base_uri": "https://localhost:8080/",
          "height": 34
        },
        "outputId": "39c6e47a-0c1f-4afd-f3c8-ad8d33fd110f"
      },
      "source": [
        "# Ваш код здесь\n",
        "a=data.groupby('Sex').size()\n",
        "print(\"{} мужчин и {} женщин\".format(a['male'], a['female']))"
      ],
      "execution_count": 25,
      "outputs": [
        {
          "output_type": "stream",
          "text": [
            "577 мужчин и 314 женщин\n"
          ],
          "name": "stdout"
        }
      ]
    },
    {
      "cell_type": "markdown",
      "metadata": {
        "id": "EWSfe4951UD2",
        "colab_type": "text"
      },
      "source": [
        "**2. Выведите распределение переменной `Pclass` (социально-экономический статус) и это же распределение, только для мужчин / женщин по отдельности. Сколько было мужчин 2-го класса?**\n",
        "- 104\n",
        "- **108**\n",
        "- 112\n",
        "- 125"
      ]
    },
    {
      "cell_type": "code",
      "metadata": {
        "id": "LM4IkRiE1UD5",
        "colab_type": "code",
        "colab": {
          "base_uri": "https://localhost:8080/",
          "height": 391
        },
        "outputId": "e140601e-2848-4e1f-8d50-2af32d5b140c"
      },
      "source": [
        "# Ваш код здесь\n",
        "print('Распределение переменной Pclass')\n",
        "print(data.groupby(['Pclass']).size())\n",
        "\n",
        "print()\n",
        "print('Распределение переменной Pclass для мужчин')\n",
        "print(data[(data['Sex']=='male')].groupby(['Pclass']).size())\n",
        "\n",
        "print()\n",
        "print('Распределение переменной Pclass для женщин')\n",
        "print(data[(data['Sex']=='female')].groupby(['Pclass']).size())\n",
        "\n",
        "a=data.groupby(['Pclass','Sex']).size()\n",
        "print()\n",
        "print('Мужчин 2-го класса было: {}'.format(a[2]['male']))"
      ],
      "execution_count": 279,
      "outputs": [
        {
          "output_type": "stream",
          "text": [
            "распределение переменной Pclass\n",
            "Pclass\n",
            "1    216\n",
            "2    184\n",
            "3    491\n",
            "dtype: int64\n",
            "\n",
            "распределение переменной Pclass для мужчин\n",
            "Pclass\n",
            "1    122\n",
            "2    108\n",
            "3    347\n",
            "dtype: int64\n",
            "\n",
            "распределение переменной Pclass для женщин\n",
            "Pclass\n",
            "1     94\n",
            "2     76\n",
            "3    144\n",
            "dtype: int64\n",
            "\n",
            "Мужчин 2-го класса было: 108\n"
          ],
          "name": "stdout"
        }
      ]
    },
    {
      "cell_type": "markdown",
      "metadata": {
        "id": "bCpZPLSU1UD8",
        "colab_type": "text"
      },
      "source": [
        "**3. Каковы медиана и стандартное отклонение платежей (`Fare`)? Округлите до 2 десятичных знаков.**\n",
        "- **Медиана – 14.45, стандартное отклонение – 49.69**\n",
        "- Медиана – 15.1, стандартное отклонение – 12.15\n",
        "- Медиана – 13.15, стандартное отклонение – 35.3\n",
        "- Медиана – 17.43, стандартное отклонение – 39.1"
      ]
    },
    {
      "cell_type": "code",
      "metadata": {
        "id": "XtL6Mj1y1UD8",
        "colab_type": "code",
        "colab": {
          "base_uri": "https://localhost:8080/",
          "height": 34
        },
        "outputId": "5f33b929-20d6-424e-e890-d88879ac82a2"
      },
      "source": [
        "# Ваш код здесь\n",
        "fare_med=data['Fare'].median()\n",
        "fare_std=data['Fare'].std()\n",
        "print('Медиана – {:.2f}, стандартное отклонение – {:.2f}'.format(fare_med,fare_std))"
      ],
      "execution_count": 309,
      "outputs": [
        {
          "output_type": "stream",
          "text": [
            "Медиана – 14.45, стандартное отклонение – 49.69\n"
          ],
          "name": "stdout"
        }
      ]
    },
    {
      "cell_type": "markdown",
      "metadata": {
        "id": "-8tUT-Id1UD_",
        "colab_type": "text"
      },
      "source": [
        "**4. Правда ли, что люди моложе 30 лет выживали чаще, чем люди старше 60 лет? Каковы доли выживших в обеих группах?**\n",
        "- 22.7% среди молодых и 40.6% среди старых\n",
        "- **40.6% среди молодых и 22.7% среди старых**\n",
        "- 35.3% среди молодых и 27.4% среди старых\n",
        "- 27.4% среди молодых и 35.3% среди старых"
      ]
    },
    {
      "cell_type": "code",
      "metadata": {
        "id": "12FYoDhq1UEA",
        "colab_type": "code",
        "colab": {
          "base_uri": "https://localhost:8080/",
          "height": 51
        },
        "outputId": "40670e8a-2e25-4363-b596-d34bd9b6225c"
      },
      "source": [
        "# Ваш код здесь\n",
        "young=data[(data['Age']<30) & (data['Survived']==1)].size/data[(data['Age']<30)].size*100\n",
        "old=data[(data['Age']>60) & (data['Survived']==1)].size/data[(data['Age']>60)].size*100\n",
        "\n",
        "if young > old:\n",
        "  print('Люди моложе 30 лет выживали чаще, чем люди старше 60 лет')\n",
        "\n",
        "print('{:.1f}% среди молодых и {:.1f}% среди старых'.format(young,old))"
      ],
      "execution_count": 310,
      "outputs": [
        {
          "output_type": "stream",
          "text": [
            "Люди моложе 30 лет выживали чаще, чем люди старше 60 лет\n",
            "40.6% среди молодых и 22.7% среди старых\n"
          ],
          "name": "stdout"
        }
      ]
    },
    {
      "cell_type": "markdown",
      "metadata": {
        "id": "8EUZnpAi1UEC",
        "colab_type": "text"
      },
      "source": [
        "**5. Правда ли, что женщины выживали чаще мужчин? Каковы доли выживших в обеих группах?**\n",
        "- 30.2% среди мужчин и 46.2% среди женщин\n",
        "- 35.7% среди мужчин и 74.2% среди женщин\n",
        "- 21.1% среди мужчин и 46.2% среди женщин\n",
        "- **18.9% среди мужчин и 74.2% среди женщин**"
      ]
    },
    {
      "cell_type": "code",
      "metadata": {
        "id": "KqLadeiv1UED",
        "colab_type": "code",
        "colab": {
          "base_uri": "https://localhost:8080/",
          "height": 51
        },
        "outputId": "b44ed21d-c45d-4e84-89e1-7beb6c46cd0f"
      },
      "source": [
        "# Ваш код здесь\n",
        "male=data[(data['Sex']=='male') & (data['Survived']==1)].size/data[(data['Sex']=='male')].size*100\n",
        "female=data[(data['Sex']=='female') & (data['Survived']==1)].size/data[(data['Sex']=='female')].size*100\n",
        "if female > male :\n",
        "  print('Женщины выживали чаще мужчин')\n",
        "print('{:.1f}% среди мужчин и {:.1f}% среди женщин'.format(male,female))"
      ],
      "execution_count": 311,
      "outputs": [
        {
          "output_type": "stream",
          "text": [
            "Женщины выживали чаще мужчин\n",
            "18.9% среди мужчин и 74.2% среди женщин\n"
          ],
          "name": "stdout"
        }
      ]
    },
    {
      "cell_type": "markdown",
      "metadata": {
        "id": "Z74j7_-F1UEI",
        "colab_type": "text"
      },
      "source": [
        "**6. Найдите самое популярное имя среди пассажиров Титаника мужского пола?**\n",
        "- Charles\n",
        "- Thomas\n",
        "- **William**\n",
        "- John"
      ]
    },
    {
      "cell_type": "code",
      "metadata": {
        "id": "pYyrud4V1UEJ",
        "colab_type": "code",
        "colab": {
          "base_uri": "https://localhost:8080/",
          "height": 34
        },
        "outputId": "98895d46-43cd-4d8d-efa2-1c3be0e7dabb"
      },
      "source": [
        "# Ваш код здесь\n",
        "import re\n",
        "def get_male_name(name):\n",
        "  l_name = re.search('(Mr.|Master.|Rev.|Don.|Dr.|Major.|Sir.|Col.|Capt.|Jonkheer.) (.+?)($|\\s)', name)\n",
        "  if l_name is None:\n",
        "    print('не учтено имя',name)\n",
        "    return ''\n",
        "  else:\n",
        "    return l_name.group(2)\n",
        "\n",
        "#print('имя', get_male_name(\"Palsson, Master. Gosta Leonard\"))\n",
        "a=pd.DataFrame(data[data['Sex'] == 'male']['Name'].map(get_male_name))\n",
        "res = a['Name'].value_counts().head(1).index\n",
        "\n",
        "print('Самое популярное имя среди пассажиров Титаника мужского пола: {}'.format(res[0]))\n",
        "\n",
        "\n"
      ],
      "execution_count": 308,
      "outputs": [
        {
          "output_type": "stream",
          "text": [
            "Самое популярное имя среди пассажиров Титаника мужского пола: William\n"
          ],
          "name": "stdout"
        }
      ]
    },
    {
      "cell_type": "markdown",
      "metadata": {
        "id": "FfS0yZ541UEN",
        "colab_type": "text"
      },
      "source": [
        "**7. Сравните графически распределение стоимости билетов и возраста у спасенных и у погибших. Средний возраст погибших выше, верно?**\n",
        "- **Да** \n",
        "- Нет"
      ]
    },
    {
      "cell_type": "code",
      "metadata": {
        "id": "rOzbQjXF1UEQ",
        "colab_type": "code",
        "colab": {
          "base_uri": "https://localhost:8080/",
          "height": 1000
        },
        "outputId": "9d6e2623-1950-495f-c8c6-bcdf2b96eb21"
      },
      "source": [
        "# Ваш код здесь\n",
        "import matplotlib.pyplot as plt\n",
        "\n",
        "age_not_surv=data[(data['Survived']==0)][['Age']].mean()\n",
        "age_surv=data[(data['Survived']==1)][['Age']].mean()\n",
        "\n",
        "print('Средний возраст погибших: {:.2f}'.format(age_not_surv['Age']))\n",
        "print('Средний возраст спасенных: {:.2f}'.format(age_surv['Age']))\n",
        "if age_not_surv['Age'] > age_surv['Age']:\n",
        "  print('Средний возраст погибших выше')\n",
        "\n",
        "data[(data['Survived']==1)][['Fare','Age']].plot.scatter(x='Age', y='Fare')\n",
        "plt.title('Распределение стоимости билетов и возраста у спасенных\\n')\n",
        "data[(data['Survived']==1)][['Fare','Age']].hist(bins=30)\n",
        "\n",
        "\n",
        "data[(data['Survived']==0)][['Fare','Age']].plot.scatter(x='Age', y='Fare')\n",
        "plt.title('Распределение стоимости билетов и возраста у погибших\\n')\n",
        "data[(data['Survived']==0)][['Fare','Age']].hist(bins=30)\n",
        "\n"
      ],
      "execution_count": 314,
      "outputs": [
        {
          "output_type": "stream",
          "text": [
            "Средний возраст погибших: 30.63\n",
            "Средний возраст спасенных: 28.34\n",
            "Средний возраст погибших выше\n"
          ],
          "name": "stdout"
        },
        {
          "output_type": "execute_result",
          "data": {
            "text/plain": [
              "array([[<matplotlib.axes._subplots.AxesSubplot object at 0x7fed8dac3550>,\n",
              "        <matplotlib.axes._subplots.AxesSubplot object at 0x7fed8e7196d8>]],\n",
              "      dtype=object)"
            ]
          },
          "metadata": {
            "tags": []
          },
          "execution_count": 314
        },
        {
          "output_type": "display_data",
          "data": {
            "image/png": "[encoded data removed]",
            "text/plain": [
              "<Figure size 432x288 with 1 Axes>"
            ]
          },
          "metadata": {
            "tags": []
          }
        },
        {
          "output_type": "display_data",
          "data": {
            "image/png": "[encoded data removed]",
            "text/plain": [
              "<Figure size 432x288 with 2 Axes>"
            ]
          },
          "metadata": {
            "tags": []
          }
        },
        {
          "output_type": "display_data",
          "data": {
            "image/png": "[encoded data removed]",
            "text/plain": [
              "<Figure size 432x288 with 1 Axes>"
            ]
          },
          "metadata": {
            "tags": []
          }
        },
        {
          "output_type": "display_data",
          "data": {
            "image/png": "[encoded data removed]",
            "text/plain": [
              "<Figure size 432x288 with 2 Axes>"
            ]
          },
          "metadata": {
            "tags": []
          }
        }
      ]
    },
    {
      "cell_type": "markdown",
      "metadata": {
        "id": "eUWgTFMc1UES",
        "colab_type": "text"
      },
      "source": [
        "**8. Как отличается средний возраст мужчин / женщин в зависимости от класса обслуживания? Выберите верные утверждения:**\n",
        "- **В среднем мужчины 1-го класса старше 40 лет**\n",
        "- В среднем женщины 1-го класса старше 40 лет\n",
        "- **Мужчины всех классов в среднем старше женщин того же класса**\n",
        "- **В среднем люди в 1 классе старше, чем во 2-ом, а те старше представителей 3-го класса**"
      ]
    },
    {
      "cell_type": "code",
      "metadata": {
        "id": "JTi5ehbi1UET",
        "colab_type": "code",
        "colab": {
          "base_uri": "https://localhost:8080/",
          "height": 68
        },
        "outputId": "7e72fe73-662a-4925-e775-ee39a856cba7"
      },
      "source": [
        "# Ваш код здесь\n",
        "\n",
        "mean_age_1_class=data[(data['Pclass']==1)][['Age']].mean()\n",
        "mean_age_male_1_class=data[(data['Pclass']==1)&(data['Sex'] == 'male')][['Age']].mean()\n",
        "mean_age_female_1_class=data[(data['Pclass']==1)&(data['Sex'] == 'female')][['Age']].mean()\n",
        "\n",
        "mean_age_2_class=data[(data['Pclass']==2)][['Age']].mean()\n",
        "mean_age_male_2_class=data[(data['Pclass']==2)&(data['Sex'] == 'male')][['Age']].mean()\n",
        "mean_age_female_2_class=data[(data['Pclass']==2)&(data['Sex'] == 'female')][['Age']].mean()\n",
        "\n",
        "mean_age_3_class=data[(data['Pclass']==3)][['Age']].mean()\n",
        "mean_age_male_3_class=data[(data['Pclass']==3)&(data['Sex'] == 'male')][['Age']].mean()\n",
        "mean_age_female_3_class=data[(data['Pclass']==3)&(data['Sex'] == 'female')][['Age']].mean()\n",
        "\n",
        "mean_age_male=data[(data['Sex'] == 'male')][['Age']].mean()\n",
        "mean_age_female=data[(data['Sex'] == 'female')][['Age']].mean()\n",
        "\n",
        "if mean_age_male_1_class['Age'] > 40:\n",
        "  print('В среднем мужчины 1-го класса старше 40 лет')\n",
        "if mean_age_female_1_class['Age'] > 40:  \n",
        "  print('В среднем женщины 1-го класса старше 40 лет')\n",
        "\n",
        "if (mean_age_male_1_class['Age'] > mean_age_female_1_class['Age'] and \n",
        "mean_age_male_2_class['Age'] > mean_age_female_2_class['Age'] and \n",
        "mean_age_male_3_class['Age'] > mean_age_female_3_class['Age']):\n",
        "    print('Мужчины всех классов в среднем старше женщин того же класса')\n",
        "\n",
        "if (mean_age_1_class['Age']>mean_age_2_class['Age'] and\n",
        "    mean_age_2_class['Age']>mean_age_3_class['Age']):\n",
        "    print('В среднем люди в 1 классе старше, чем во 2-ом, а те старше представителей 3-го класса')"
      ],
      "execution_count": 315,
      "outputs": [
        {
          "output_type": "stream",
          "text": [
            "В среднем мужчины 1-го класса старше 40 лет\n",
            "Мужчины всех классов в среднем старше женщин того же класса\n",
            "В среднем люди в 1 классе старше, чем во 2-ом, а те старше представителей 3-го класса\n"
          ],
          "name": "stdout"
        }
      ]
    }
  ]
}
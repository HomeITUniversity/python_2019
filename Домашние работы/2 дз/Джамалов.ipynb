{
 "cells": [
  {
   "cell_type": "markdown",
   "metadata": {
    "colab_type": "text",
    "id": "hINacSWFHYRW"
   },
   "source": [
    "#### Мягкий дедлайн: 25 сентября 23:59\n",
    "#### Жесткий дедлайн: 2 октября 23:59\n",
    "\n",
    "\n",
    "Отправляйте Notebook файл с решение по адресу homeituniversity@gmail.com\n",
    "\n",
    "Тема письма: Python курс > ДЗ 2 > ФИО"
   ]
  },
  {
   "cell_type": "markdown",
   "metadata": {
    "colab_type": "text",
    "id": "deZuL7vVF_9O"
   },
   "source": [
    "# Задача 1\n",
    "Дана строка (вводится с клавиатуры).\n",
    "\n",
    "Найдите наиболее часто встречаемый символ в строке. Отобразить в консоль сам символ и частоту его появления."
   ]
  },
  {
   "cell_type": "code",
   "execution_count": 1,
   "metadata": {
    "colab": {
     "base_uri": "https://localhost:8080/",
     "height": 68
    },
    "colab_type": "code",
    "id": "4GQbXK-IF_9Q",
    "outputId": "945f7b86-3858-4443-8b70-b6d9b70aa5f0"
   },
   "outputs": [
    {
     "name": "stdout",
     "output_type": "stream",
     "text": [
      "Введите строку:привет првп\n",
      "Символ: п \n",
      "Кол-во 3\n"
     ]
    }
   ],
   "source": [
    "# Ваше решение\n",
    "stroka=str(input('Введите строку:'))\n",
    "a=0\n",
    "for i in range (len(stroka)):\n",
    "    if stroka.count(stroka[i])>a:\n",
    "        a=stroka.count(stroka[i])\n",
    "        b=stroka[i]\n",
    "print (\"Символ:\", b, \"\\nКол-во\", a)\n"
   ]
  },
  {
   "cell_type": "markdown",
   "metadata": {
    "colab_type": "text",
    "id": "E78oWt1LF_9c"
   },
   "source": [
    "# Задача 2\n",
    "С клавиатуры вводится пароль.\n",
    "\n",
    "Необходимо проверить корректность пароля. Пароль должен содержать как минимум 1 цифру, 1 букву нижнего регистра и 1 букву верхнего регистра и быть длинной > 10 символов. "
   ]
  },
  {
   "cell_type": "code",
   "execution_count": 3,
   "metadata": {
    "colab": {
     "base_uri": "https://localhost:8080/",
     "height": 51
    },
    "colab_type": "code",
    "id": "w-ioTPNQF_9c",
    "outputId": "4fc1d932-3e36-4c82-9ad2-f3a9ec7f6a71"
   },
   "outputs": [
    {
     "name": "stdout",
     "output_type": "stream",
     "text": [
      "Введите пароль:AAAAAA123AAAAAAAAAAAAAф,\n",
      "Пароль удовлетворяет требованию\n"
     ]
    }
   ],
   "source": [
    "# Ваше решение\n",
    "a=b=c=0\n",
    "Password=str(input('Введите пароль:'))\n",
    "if(len(Password)>10):\n",
    "  for i in range (len(Password)):\n",
    "    #проверка на Цифру\n",
    "    if (Password[i].isdigit()==True):\n",
    "      a=1\n",
    "    #проверка на Нижний регистр \n",
    "    if (Password[i].islower()==True):\n",
    "      b=1\n",
    "    #проверка на Верхний регистр \n",
    "    if (Password[i].isupper()==True):\n",
    "      c=1\n",
    "if(a>0 and b>0 and c>0):\n",
    "    print('Пароль удовлетворяет требованию')\n",
    "else:\n",
    "  print('Пароль некорректный')"
   ]
  },
  {
   "cell_type": "code",
   "execution_count": 2,
   "metadata": {},
   "outputs": [
    {
     "ename": "SyntaxError",
     "evalue": "invalid character in identifier (<ipython-input-2-923894fe4a03>, line 4)",
     "output_type": "error",
     "traceback": [
      "\u001b[1;36m  File \u001b[1;32m\"<ipython-input-2-923894fe4a03>\"\u001b[1;36m, line \u001b[1;32m4\u001b[0m\n\u001b[1;33m    for i in range(len(Password)):\u001b[0m\n\u001b[1;37m                 ^\u001b[0m\n\u001b[1;31mSyntaxError\u001b[0m\u001b[1;31m:\u001b[0m invalid character in identifier\n"
     ]
    }
   ],
   "source": [
    "a=b=c=0\n",
    "Password=str(input('Введите пароль:'))\n",
    "if(len(Password)>10):\n",
    "    for i in range(len(Password)):\n",
    "        #проверка на Цифру\n",
    "        if (Password[i].isdigit()==True):\n",
    "          a=1\n",
    "        #проверка на Нижний регистр\n",
    "        if (Password[i].islower()==True):\n",
    "          b=1\n",
    "        #проверка на Верхний регистр\n",
    "        if (Password[i].isupper()==True):\n",
    "          c=1\n",
    "if(a>0 and b>0 and c>0):\n",
    "    print('Пароль удовлетворяет требованию')\n",
    "else:\n",
    "    print('Пароль некорректный')"
   ]
  },
  {
   "cell_type": "markdown",
   "metadata": {
    "colab_type": "text",
    "id": "tjr8ZrpwF_9f"
   },
   "source": [
    "# Задача 3\n",
    "С клавиатуры вводится две строки.\n",
    "\n",
    "Необходимо сравнить две строки, с учетом регистра.\n",
    "\n",
    "**Пример:** \"Иван Васильевич\" и \"Иван васильевич\" - различные строки"
   ]
  },
  {
   "cell_type": "code",
   "execution_count": 4,
   "metadata": {
    "colab": {
     "base_uri": "https://localhost:8080/",
     "height": 68
    },
    "colab_type": "code",
    "id": "jSWETEGoF_9g",
    "outputId": "62ccc93d-93f5-478e-f4a1-0dc4fab017ef"
   },
   "outputs": [
    {
     "name": "stdout",
     "output_type": "stream",
     "text": [
      "Введите первую строку:Иван Васильевич\n",
      "Введите вторую строку:Иван васильеви\n",
      "\" Иван Васильевич \" и \" Иван васильеви \" - различные строки\n"
     ]
    }
   ],
   "source": [
    "# Ваше решение\n",
    "a=str(input('Введите первую строку:'))\n",
    "b=str(input('Введите вторую строку:'))\n",
    "if (a==b):\n",
    "    print('\\\"',a,'\\\" и \\\"', b, '\\\" - строки равны')\n",
    "else:\n",
    "    print('\\\"',a,'\\\" и \\\"', b, '\\\" - различные строки')\n"
   ]
  },
  {
   "cell_type": "markdown",
   "metadata": {
    "colab_type": "text",
    "id": "SuSiz4h4F_9m"
   },
   "source": [
    "# Задача 4\n",
    "С клавиатуры вводится строка.\n",
    "\n",
    "Необходимо удалить из строки все пробелы и определить, является ли она перевертышем (палиндромом).\n",
    "\n",
    "**Пример палиндрома:** \"Кот учён, но не чуток\""
   ]
  },
  {
   "cell_type": "code",
   "execution_count": 7,
   "metadata": {
    "colab": {
     "base_uri": "https://localhost:8080/",
     "height": 68
    },
    "colab_type": "code",
    "id": "hIhKihTOF_9m",
    "outputId": "6b9196b4-f390-4245-f1e7-1bafc854e3ac",
    "scrolled": true
   },
   "outputs": [
    {
     "name": "stdout",
     "output_type": "stream",
     "text": [
      "Введите строку:кот учен, не чуток\n",
      "котученнечуток\n",
      "Строка \" котученнечуток \" является палиндромом\n"
     ]
    }
   ],
   "source": [
    "# Ваше решение\n",
    "stroka=str(input('Введите строку:'))\n",
    "\n",
    "a=[';',' ','!',',','.','$']\n",
    "for i in range (len(a)):\n",
    "    stroka=stroka.replace(a[i],'')\n",
    "print(stroka)\n",
    "if (stroka[::1]==stroka[::-1]):\n",
    "    print('Строка \\\"',stroka,'\\\" является палиндромом')\n",
    "else:\n",
    "    print('Строка \\\"',stroka,'\\\" не палиндром')\n",
    "\n"
   ]
  },
  {
   "cell_type": "markdown",
   "metadata": {
    "colab_type": "text",
    "id": "SiuacfrVF_9p"
   },
   "source": [
    "# Задача 5\n",
    "С клавиатуры вводится строка.\n",
    "\n",
    "Необходимо удалить из строки повторяющиеся символы. Вывести отдельно строку без повторяющихся символов. Пробелы оставить на своих местах."
   ]
  },
  {
   "cell_type": "code",
   "execution_count": 3,
   "metadata": {
    "colab": {
     "base_uri": "https://localhost:8080/",
     "height": 51
    },
    "colab_type": "code",
    "id": "SDJKd38oF_9q",
    "outputId": "c6f32b85-b9c2-48c9-9af4-88db9c080c90"
   },
   "outputs": [
    {
     "name": "stdout",
     "output_type": "stream",
     "text": [
      "Введите строку:выфв фв фвы ыфа\n",
      "   а\n"
     ]
    }
   ],
   "source": [
    "# Ваше решение\n",
    "stroka=str(input('Введите строку:'))\n",
    "str =stroka\n",
    "\n",
    "for i in range (len(stroka)):\n",
    "    if stroka.count(stroka[i])>1 and stroka[i]!=' ':\n",
    "        str=str.replace(stroka[i],'')\n",
    "print(str)\n"
   ]
  },
  {
   "cell_type": "code",
   "execution_count": null,
   "metadata": {},
   "outputs": [],
   "source": []
  }
 ],
 "metadata": {
  "colab": {
   "name": "03_strings_homework.ipynb",
   "provenance": []
  },
  "kernelspec": {
   "display_name": "Python 3",
   "language": "python",
   "name": "python3"
  },
  "language_info": {
   "codemirror_mode": {
    "name": "ipython",
    "version": 3
   },
   "file_extension": ".py",
   "mimetype": "text/x-python",
   "name": "python",
   "nbconvert_exporter": "python",
   "pygments_lexer": "ipython3",
   "version": "3.7.1"
  }
 },
 "nbformat": 4,
 "nbformat_minor": 1
}

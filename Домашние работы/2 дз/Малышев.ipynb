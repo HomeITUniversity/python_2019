{
  "nbformat": 4,
  "nbformat_minor": 0,
  "metadata": {
    "kernelspec": {
      "display_name": "Python 3",
      "language": "python",
      "name": "python3"
    },
    "language_info": {
      "codemirror_mode": {
        "name": "ipython",
        "version": 3
      },
      "file_extension": ".py",
      "mimetype": "text/x-python",
      "name": "python",
      "nbconvert_exporter": "python",
      "pygments_lexer": "ipython3",
      "version": "3.7.1"
    },
    "colab": {
      "name": "03_strings_homework.ipynb",
      "provenance": [],
      "collapsed_sections": []
    }
  },
  "cells": [
    {
      "cell_type": "markdown",
      "metadata": {
        "id": "hINacSWFHYRW",
        "colab_type": "text"
      },
      "source": [
        "#### Мягкий дедлайн: 25 сентября 23:59\n",
        "#### Жесткий дедлайн: 2 октября 23:59\n",
        "\n",
        "\n",
        "Отправляйте Notebook файл с решение по адресу homeituniversity@gmail.com\n",
        "\n",
        "Тема письма: Python курс > ДЗ 2 > ФИО"
      ]
    },
    {
      "cell_type": "markdown",
      "metadata": {
        "id": "deZuL7vVF_9O",
        "colab_type": "text"
      },
      "source": [
        "# Задача 1\n",
        "Дана строка (вводится с клавиатуры).\n",
        "\n",
        "Найдите наиболее часто встречаемый символ в строке. Отобразить в консоль сам символ и частоту его появления."
      ]
    },
    {
      "cell_type": "code",
      "metadata": {
        "id": "4GQbXK-IF_9Q",
        "colab_type": "code",
        "outputId": "83fdb42f-0e9d-4b64-e49a-1ce253428a47",
        "colab": {
          "base_uri": "https://localhost:8080/",
          "height": 641
        }
      },
      "source": [
        "text = input('Введите строку: ')\n",
        "\n",
        "for i in range(len(text)):\n",
        "  b = text.count(text[i])\n",
        "  print(text[i],b)\n",
        "print(text)\n"
      ],
      "execution_count": 0,
      "outputs": [
        {
          "output_type": "stream",
          "text": [
            "Введите строку: Привет как дела что делал вчера?\n",
            "П 1\n",
            "р 2\n",
            "и 1\n",
            "в 2\n",
            "е 4\n",
            "т 2\n",
            "  5\n",
            "к 2\n",
            "а 4\n",
            "к 2\n",
            "  5\n",
            "д 2\n",
            "е 4\n",
            "л 3\n",
            "а 4\n",
            "  5\n",
            "ч 2\n",
            "т 2\n",
            "о 1\n",
            "  5\n",
            "д 2\n",
            "е 4\n",
            "л 3\n",
            "а 4\n",
            "л 3\n",
            "  5\n",
            "в 2\n",
            "ч 2\n",
            "е 4\n",
            "р 2\n",
            "а 4\n",
            "? 1\n",
            "Привет как дела что делал вчера?\n"
          ],
          "name": "stdout"
        }
      ]
    },
    {
      "cell_type": "markdown",
      "metadata": {
        "id": "E78oWt1LF_9c",
        "colab_type": "text"
      },
      "source": [
        "# Задача 2\n",
        "С клавиатуры вводится пароль.\n",
        "\n",
        "Необходимо проверить корректность пароля. Пароль должен содержать как минимум 1 цифру, 1 букву нижнего регистра и 1 букву верхнего регистра и быть длинной > 10 символов. "
      ]
    },
    {
      "cell_type": "code",
      "metadata": {
        "id": "w-ioTPNQF_9c",
        "colab_type": "code",
        "colab": {
          "base_uri": "https://localhost:8080/",
          "height": 164
        },
        "outputId": "455f1a01-c265-4d7e-f290-a620a24fe05f"
      },
      "source": [
        "import re # модуль для регулярных выражений.\n",
        "\n",
        "def validate():\n",
        "    while True:\n",
        "        password = input(\"Введите строку: \")\n",
        "        if re.search('[0-9]',password) is None:\n",
        "            print(\"Убедитесь, что в вашем пароле есть цифры\")\n",
        "        elif re.search('[a-z]',password) is None:\n",
        "            print(\"Убедитесь, что в вашем пароле есть буква в нижнем регистре\")\n",
        "        elif re.search('[A-Z]',password) is None: \n",
        "            print(\"Убедитесь, что в вашем пароле есть заглавная буква\")\n",
        "        else:\n",
        "            print(\"Ваш пароль кажется нормальным\")\n",
        "            break\n",
        "validate()"
      ],
      "execution_count": 6,
      "outputs": [
        {
          "output_type": "stream",
          "text": [
            "Введите строку: PASS\n",
            "Убедитесь, что в вашем пароле есть цифры\n",
            "Введите строку: PASS1\n",
            "Убедитесь, что в вашем пароле есть буква в нижнем регистре\n",
            "Введите строку: PASS1A\n",
            "Убедитесь, что в вашем пароле есть буква в нижнем регистре\n",
            "Введите строку: PASS1m\n",
            "Ваш пароль кажется нормальным\n"
          ],
          "name": "stdout"
        }
      ]
    },
    {
      "cell_type": "markdown",
      "metadata": {
        "id": "tjr8ZrpwF_9f",
        "colab_type": "text"
      },
      "source": [
        "# Задача 3\n",
        "С клавиатуры вводится две строки.\n",
        "\n",
        "Необходимо сравнить две строки, с учетом регистра.\n",
        "\n",
        "**Пример:** \"Иван Васильевич\" и \"Иван васильевич\" - различные строки"
      ]
    },
    {
      "cell_type": "code",
      "metadata": {
        "id": "jSWETEGoF_9g",
        "colab_type": "code",
        "outputId": "189ca770-6345-4fb2-ca6c-19761a6bbcb4",
        "colab": {
          "base_uri": "https://localhost:8080/",
          "height": 72
        }
      },
      "source": [
        "a = input('Введите строку: ')\n",
        "b = input('Введите строку: ')\n",
        "\n",
        "a == b\n"
      ],
      "execution_count": 0,
      "outputs": [
        {
          "output_type": "stream",
          "text": [
            "Введите строку: Иван Васильевич\n",
            "Введите строку: Иван васильевич\n"
          ],
          "name": "stdout"
        },
        {
          "output_type": "execute_result",
          "data": {
            "text/plain": [
              "False"
            ]
          },
          "metadata": {
            "tags": []
          },
          "execution_count": 21
        }
      ]
    },
    {
      "cell_type": "markdown",
      "metadata": {
        "id": "SuSiz4h4F_9m",
        "colab_type": "text"
      },
      "source": [
        "# Задача 4\n",
        "С клавиатуры вводится строка.\n",
        "\n",
        "Необходимо удалить из строки все пробелы и определить, является ли она перевертышем (палиндромом).\n",
        "\n",
        "**Пример палиндрома:** \"Кот учён, но не чуток\""
      ]
    },
    {
      "cell_type": "code",
      "metadata": {
        "scrolled": true,
        "id": "hIhKihTOF_9m",
        "colab_type": "code",
        "outputId": "54148ef9-5238-4420-ca73-24bdbf040406",
        "colab": {
          "base_uri": "https://localhost:8080/",
          "height": 54
        }
      },
      "source": [
        "s = \"Кот учён, но не чуток\"\n",
        "a = s.replace(\" \",\"\").replace(\",\",\"\")\n",
        "print(a)\n",
        "b = a.lower()\n",
        "c = b.count('') - 1\n",
        "\n",
        "a[-c:] == a\n",
        "\n",
        "\n"
      ],
      "execution_count": 0,
      "outputs": [
        {
          "output_type": "stream",
          "text": [
            "Котучённонечуток\n"
          ],
          "name": "stdout"
        },
        {
          "output_type": "execute_result",
          "data": {
            "text/plain": [
              "True"
            ]
          },
          "metadata": {
            "tags": []
          },
          "execution_count": 25
        }
      ]
    },
    {
      "cell_type": "markdown",
      "metadata": {
        "id": "SiuacfrVF_9p",
        "colab_type": "text"
      },
      "source": [
        "# Задача 5\n",
        "С клавиатуры вводится строка.\n",
        "\n",
        "Необходимо удалить из строки повторяющиеся символы. Вывести отдельно строку без повторяющихся символов. Пробелы оставить на своих местах."
      ]
    },
    {
      "cell_type": "code",
      "metadata": {
        "id": "SDJKd38oF_9q",
        "colab_type": "code",
        "colab": {
          "base_uri": "https://localhost:8080/",
          "height": 54
        },
        "outputId": "88b902f4-e5fa-4a4c-e0f6-cc024c60889f"
      },
      "source": [
        "s = input('Введите строку: ')\n",
        "#s = 'Привет как дела, что делаешь сегодня вечером, погуляем?'\n",
        "\n",
        "newSt=''\n",
        "for i in s:\n",
        "    if i not in newSt and i!=' ':\n",
        "      newSt+=i \n",
        "    elif i in ' ': \n",
        "      newSt+=' '\n",
        "print(newSt)"
      ],
      "execution_count": 30,
      "outputs": [
        {
          "output_type": "stream",
          "text": [
            "Введите строку: Привет как дела, что делаешь сегодня вечером, погуляем?\n",
            "Привет ка дл, чо шь сгня м пу?\n"
          ],
          "name": "stdout"
        }
      ]
    }
  ]
}
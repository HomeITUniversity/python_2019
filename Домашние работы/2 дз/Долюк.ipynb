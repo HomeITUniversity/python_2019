{
  "nbformat": 4,
  "nbformat_minor": 0,
  "metadata": {
    "kernelspec": {
      "display_name": "Python 3",
      "language": "python",
      "name": "python3"
    },
    "language_info": {
      "codemirror_mode": {
        "name": "ipython",
        "version": 3
      },
      "file_extension": ".py",
      "mimetype": "text/x-python",
      "name": "python",
      "nbconvert_exporter": "python",
      "pygments_lexer": "ipython3",
      "version": "3.7.1"
    },
    "colab": {
      "name": "03_strings_homework.ipynb",
      "provenance": [],
      "collapsed_sections": []
    }
  },
  "cells": [
    {
      "cell_type": "markdown",
      "metadata": {
        "id": "hINacSWFHYRW",
        "colab_type": "text"
      },
      "source": [
        "#### Мягкий дедлайн: 25 сентября 23:59\n",
        "#### Жесткий дедлайн: 2 октября 23:59\n",
        "\n",
        "\n",
        "Отправляйте Notebook файл с решение по адресу homeituniversity@gmail.com\n",
        "\n",
        "Тема письма: Python курс > ДЗ 2 > ФИО"
      ]
    },
    {
      "cell_type": "markdown",
      "metadata": {
        "id": "deZuL7vVF_9O",
        "colab_type": "text"
      },
      "source": [
        "# Задача 1\n",
        "Дана строка (вводится с клавиатуры).\n",
        "\n",
        "Найдите наиболее часто встречаемый символ в строке. Отобразить в консоль сам символ и частоту его появления."
      ]
    },
    {
      "cell_type": "code",
      "metadata": {
        "id": "R1H5X_Iarxfi",
        "colab_type": "code",
        "colab": {}
      },
      "source": [
        "# Ваше решение\n",
        "import pandas as pd\n",
        "n = input('Введите строку:')\n",
        "n = n.lower()\n",
        "n = n.replace(' ', '')\n",
        "freq = {}\n",
        "for i in n:\n",
        "  if i in freq:\n",
        "    freq[i] += 1\n",
        "  else:\n",
        "    freq[i] = 1  \n",
        "freq_df = pd.DataFrame(list(freq.items()))\n",
        "freq_df = freq_df.rename(columns={0: 'Символ', 1: 'Частота появления'})\n",
        "freq_df1 = freq_df[freq_df['Частота появления'] == freq_df['Частота появления'].max()]\n",
        "print('Наиболее часто встречаемый символ в строке.')\n",
        "print(freq_df1)"
      ],
      "execution_count": 0,
      "outputs": []
    },
    {
      "cell_type": "markdown",
      "metadata": {
        "id": "E78oWt1LF_9c",
        "colab_type": "text"
      },
      "source": [
        "# Задача 2\n",
        "С клавиатуры вводится пароль.\n",
        "\n",
        "Необходимо проверить корректность пароля. Пароль должен содержать как минимум 1 цифру, 1 букву нижнего регистра и 1 букву верхнего регистра и быть длинной > 10 символов. "
      ]
    },
    {
      "cell_type": "code",
      "metadata": {
        "id": "w-ioTPNQF_9c",
        "colab_type": "code",
        "colab": {}
      },
      "source": [
        "# Ваше решение\n",
        "password = input('Введите пароль:')"
      ],
      "execution_count": 0,
      "outputs": []
    },
    {
      "cell_type": "code",
      "metadata": {
        "id": "G7ept9t4xJqo",
        "colab_type": "code",
        "colab": {}
      },
      "source": [
        "var1 = 0\n",
        "var3 = 0\n",
        "var4 = 0\n",
        "for i in password:\n",
        "  if i.isdigit():\n",
        "    var1 += 1\n",
        "if len(password) > 10:\n",
        "  var2 = 1\n",
        "else:\n",
        "  var2 = 0  \n",
        "for i in password:\n",
        "  if i.isupper():\n",
        "    var3 += 1\n",
        "for i in password:\n",
        "  if i.islower():\n",
        "    var4 += 1\n",
        "if var1 != 0 and var2 != 0 and var3 != 0 and var4 != 0:\n",
        "  print('Пароль подобран корректно')  \n",
        "else:\n",
        "  print('Проверьте пароль!')    "
      ],
      "execution_count": 0,
      "outputs": []
    },
    {
      "cell_type": "markdown",
      "metadata": {
        "id": "tjr8ZrpwF_9f",
        "colab_type": "text"
      },
      "source": [
        "# Задача 3\n",
        "С клавиатуры вводится две строки.\n",
        "\n",
        "Необходимо сравнить две строки, с учетом регистра.\n",
        "\n",
        "**Пример:** \"Иван Васильевич\" и \"Иван васильевич\" - различные строки"
      ]
    },
    {
      "cell_type": "code",
      "metadata": {
        "id": "jSWETEGoF_9g",
        "colab_type": "code",
        "colab": {}
      },
      "source": [
        "# Ваше решение\n",
        "x1 = input('Введите первую строку:')\n",
        "x2 = input('Введите вторую строку:')\n",
        "z = 0\n",
        "for i in x1:\n",
        "  for j in x2:\n",
        "    if x1 == x2:\n",
        "      z += 1\n",
        "    else:\n",
        "      break\n",
        "if z > 0:\n",
        "  print('Введенные строки одинаковые.')\n",
        "else:\n",
        "  print('Введенные строки не одинаковые.')        "
      ],
      "execution_count": 0,
      "outputs": []
    },
    {
      "cell_type": "markdown",
      "metadata": {
        "id": "SuSiz4h4F_9m",
        "colab_type": "text"
      },
      "source": [
        "# Задача 4\n",
        "С клавиатуры вводится строка.\n",
        "\n",
        "Необходимо удалить из строки все пробелы и определить, является ли она перевертышем (палиндромом).\n",
        "\n",
        "**Пример палиндрома:** \"Кот учён, но не чуток\""
      ]
    },
    {
      "cell_type": "code",
      "metadata": {
        "scrolled": true,
        "id": "hIhKihTOF_9m",
        "colab_type": "code",
        "colab": {}
      },
      "source": [
        "# Ваше решение\n",
        "import re\n",
        "n = input('Введите предложение:')\n",
        "n = n.replace(' ', '')\n",
        "n = re.sub(r'[^\\w\\s]','',n)\n",
        "n = n.lower()\n",
        "n = n.replace('ё', 'е')\n",
        "rev = ''\n",
        "for i in n:\n",
        "  rev = i + rev\n",
        "if n == rev:\n",
        "  print('Строка является палиндромом.')\n",
        "else:\n",
        "  print('Строка не является палиндромом.')    "
      ],
      "execution_count": 0,
      "outputs": []
    },
    {
      "cell_type": "markdown",
      "metadata": {
        "id": "SiuacfrVF_9p",
        "colab_type": "text"
      },
      "source": [
        "# Задача 5\n",
        "С клавиатуры вводится строка.\n",
        "\n",
        "Необходимо удалить из строки повторяющиеся символы. Вывести отдельно строку без повторяющихся символов. Пробелы оставить на своих местах."
      ]
    },
    {
      "cell_type": "code",
      "metadata": {
        "id": "SDJKd38oF_9q",
        "colab_type": "code",
        "colab": {}
      },
      "source": [
        "# Ваше решение\n",
        "import pandas as pd\n",
        "x = input('Введите предложение:')\n",
        "y = {}\n",
        "for i in x:\n",
        "  if i in y:\n",
        "    y[i] += 1\n",
        "  else:\n",
        "    y[i] = 1  \n",
        "y = pd.DataFrame(list(y.items()))    \n",
        "y = list(y[0][(y[1] > 1) & (y[0] != ' ')].reset_index(drop=True))\n",
        "for i in x:\n",
        "  if i in y:\n",
        "    x = x.replace(i, '')\n",
        "print(x)    "
      ],
      "execution_count": 0,
      "outputs": []
    }
  ]
}
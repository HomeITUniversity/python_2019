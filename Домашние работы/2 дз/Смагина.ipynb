{
 "cells": [
  {
   "cell_type": "markdown",
   "metadata": {
    "colab_type": "text",
    "id": "lNb9ctf7EyMb"
   },
   "source": [
    "# ***Дз №2 от 18.09.19 Смагина Мария***"
   ]
  },
  {
   "cell_type": "markdown",
   "metadata": {
    "colab_type": "text",
    "id": "gv9OCaeEEihF"
   },
   "source": [
    "# Задача 1\n",
    "Дана строка (вводится с клавиатуры).\n",
    "\n",
    "Найдите наиболее часто встречаемый символ в строке. Отобразить в консоль сам символ и частоту его появления."
   ]
  },
  {
   "cell_type": "code",
   "execution_count": 8,
   "metadata": {
    "colab": {
     "base_uri": "https://localhost:8080/",
     "height": 52
    },
    "colab_type": "code",
    "id": "K4ENzPyGrnxE",
    "outputId": "a5032b98-73b3-402f-e3cf-8bd44ba45823"
   },
   "outputs": [
    {
     "name": "stdout",
     "output_type": "stream",
     "text": [
      "Введите строку:  122333141516\n",
      "4 раз(а) встречается симовол \" 1 \"\n"
     ]
    }
   ],
   "source": [
    "s = str(input('Введите строку:  '))\n",
    "\n",
    "num = s[0]\n",
    "max_frq = 1\n",
    "for i in range(len(s)):\n",
    "    frq = 1\n",
    "    for k in range(i + 1,len(s)):\n",
    "        if s[i] == s[k]:\n",
    "            frq += 1\n",
    "    if frq > max_frq:\n",
    "        max_frq = frq\n",
    "        num = s[i]         \n",
    "\n",
    "print(max_frq, 'раз(а) встречается симовол \"', num, '\"')\n",
    "    "
   ]
  },
  {
   "cell_type": "markdown",
   "metadata": {
    "colab_type": "text",
    "id": "ViATRKkAE5yq"
   },
   "source": [
    "# Задача 2\n",
    "С клавиатуры вводится пароль.\n",
    "\n",
    "Необходимо проверить корректность пароля. Пароль должен содержать как минимум 1 цифру, 1 букву нижнего регистра и 1 букву верхнего регистра и быть длинной > 10 символов."
   ]
  },
  {
   "cell_type": "code",
   "execution_count": 15,
   "metadata": {},
   "outputs": [
    {
     "name": "stdout",
     "output_type": "stream",
     "text": [
      "Введите пароль:  111111\n",
      "(False, False, False, False, False, False)\n"
     ]
    }
   ],
   "source": [
    "s = str(input('Введите пароль:  '))\n",
    "a = (c.islower() for c in s)\n",
    "a = tuple(a)\n",
    "print(a)\n"
   ]
  },
  {
   "cell_type": "code",
   "execution_count": 17,
   "metadata": {
    "colab": {
     "base_uri": "https://localhost:8080/",
     "height": 52
    },
    "colab_type": "code",
    "id": "_yhG1LTmE6Je",
    "outputId": "408b5a16-5da2-4326-c62a-53b47c496593"
   },
   "outputs": [
    {
     "name": "stdout",
     "output_type": "stream",
     "text": [
      "Введите пароль:  111111111111111111111\n",
      "Пароль принят\n"
     ]
    }
   ],
   "source": [
    "s = str(input('Введите пароль:  '))\n",
    "if (len(s) >= 11) and any((c.islower() for c in s))  and (c.islower() for c in s) and (c.isdigit() for c in s):\n",
    "    print('Пароль принят')\n",
    "else:\n",
    "  print('Некорректный пароль')"
   ]
  },
  {
   "cell_type": "markdown",
   "metadata": {
    "colab_type": "text",
    "id": "4vzNfbzPE6XT"
   },
   "source": [
    "# Задача 3\n",
    "С клавиатуры вводится две строки.\n",
    "\n",
    "Необходимо сравнить две строки, с учетом регистра.\n",
    "\n",
    "**Пример:** \"Иван Васильевич\" и \"Иван васильевич\" - различные строки"
   ]
  },
  {
   "cell_type": "code",
   "execution_count": 0,
   "metadata": {
    "colab": {
     "base_uri": "https://localhost:8080/",
     "height": 70
    },
    "colab_type": "code",
    "id": "88w5UAcddnhV",
    "outputId": "8bad5eb6-ebce-4b8e-e563-cb78773b7279"
   },
   "outputs": [
    {
     "name": "stdout",
     "output_type": "stream",
     "text": [
      "Введите первую строку:  Строка\n",
      "Введите вторую строку:  строка\n",
      "Различные строки\n"
     ]
    }
   ],
   "source": [
    "s1 = str(input('Введите первую строку:  '))\n",
    "s2 = str(input('Введите вторую строку:  '))\n",
    "if s1 == s2:\n",
    "  print('Одинаковые строки')\n",
    "else:\n",
    "  print('Различные строки')"
   ]
  },
  {
   "cell_type": "markdown",
   "metadata": {
    "colab_type": "text",
    "id": "i4XwZXjKE64f"
   },
   "source": [
    "# Задача 4\n",
    "С клавиатуры вводится строка.\n",
    "\n",
    "Необходимо удалить из строки все пробелы и определить, является ли она перевертышем (палиндромом).\n",
    "\n",
    "**Пример палиндрома:** \"Кот учён, но не чуток\""
   ]
  },
  {
   "cell_type": "code",
   "execution_count": 0,
   "metadata": {
    "colab": {
     "base_uri": "https://localhost:8080/",
     "height": 52
    },
    "colab_type": "code",
    "id": "C15YgdS4E7I1",
    "outputId": "a209396b-cb33-42c2-c539-5ae4e52ce19c"
   },
   "outputs": [
    {
     "name": "stdout",
     "output_type": "stream",
     "text": [
      "Введите строку:  А роза упала на лапу Азора\n",
      "Это палиндром\n"
     ]
    }
   ],
   "source": [
    "s = str(input('Введите строку:  '))\n",
    "s0 = s.lower()\n",
    "s1 = s0.replace(' ', '')\n",
    "s2 = s1[::-1]\n",
    "if s1 == s2:\n",
    "  print('Это палиндром')\n",
    "else:\n",
    "  print('Не палиндром')"
   ]
  },
  {
   "cell_type": "markdown",
   "metadata": {
    "colab_type": "text",
    "id": "NjWBsqzYE7uQ"
   },
   "source": [
    "# Задача 5\n",
    "С клавиатуры вводится строка.\n",
    "\n",
    "Необходимо удалить из строки повторяющиеся символы. Вывести отдельно строку без повторяющихся символов. Пробелы оставить на своих местах."
   ]
  },
  {
   "cell_type": "code",
   "execution_count": 5,
   "metadata": {
    "colab": {
     "base_uri": "https://localhost:8080/",
     "height": 52
    },
    "colab_type": "code",
    "id": "ZQeRyd7Cm69j",
    "outputId": "585d888c-201c-4b88-8f49-848973092ec8"
   },
   "outputs": [
    {
     "name": "stdout",
     "output_type": "stream",
     "text": [
      "Введите строку:  1231234\n",
      "1234\n"
     ]
    }
   ],
   "source": [
    "s1 = str(input('Введите строку:  '))\n",
    "s2 = ''\n",
    "for i in range(len(s1)):\n",
    "    if s2.find(s1[i]) == -1 or s1[i] == ' ':\n",
    "        s2 += s1[i]\n",
    "print(s2)"
   ]
  },
  {
   "cell_type": "code",
   "execution_count": null,
   "metadata": {},
   "outputs": [],
   "source": []
  },
  {
   "cell_type": "code",
   "execution_count": null,
   "metadata": {},
   "outputs": [],
   "source": []
  }
 ],
 "metadata": {
  "colab": {
   "collapsed_sections": [],
   "name": "HW_18.09.ipynb",
   "provenance": []
  },
  "kernelspec": {
   "display_name": "Python 3",
   "language": "python",
   "name": "python3"
  },
  "language_info": {
   "codemirror_mode": {
    "name": "ipython",
    "version": 3
   },
   "file_extension": ".py",
   "mimetype": "text/x-python",
   "name": "python",
   "nbconvert_exporter": "python",
   "pygments_lexer": "ipython3",
   "version": "3.7.1"
  }
 },
 "nbformat": 4,
 "nbformat_minor": 1
}

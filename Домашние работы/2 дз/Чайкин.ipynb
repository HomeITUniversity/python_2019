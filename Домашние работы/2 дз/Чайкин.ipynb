{
  "nbformat": 4,
  "nbformat_minor": 0,
  "metadata": {
    "kernelspec": {
      "display_name": "Python 3",
      "language": "python",
      "name": "python3"
    },
    "language_info": {
      "codemirror_mode": {
        "name": "ipython",
        "version": 3
      },
      "file_extension": ".py",
      "mimetype": "text/x-python",
      "name": "python",
      "nbconvert_exporter": "python",
      "pygments_lexer": "ipython3",
      "version": "3.7.1"
    },
    "colab": {
      "name": "03_strings_homework (1).ipynb",
      "provenance": [],
      "collapsed_sections": []
    }
  },
  "cells": [
    {
      "cell_type": "markdown",
      "metadata": {
        "id": "hINacSWFHYRW",
        "colab_type": "text"
      },
      "source": [
        "#### Мягкий дедлайн: 25 сентября 23:59\n",
        "#### Жесткий дедлайн: 2 октября 23:59\n",
        "\n",
        "\n",
        "Отправляйте Notebook файл с решение по адресу homeituniversity@gmail.com\n",
        "\n",
        "Тема письма: Python курс > ДЗ 2 > ФИО"
      ]
    },
    {
      "cell_type": "markdown",
      "metadata": {
        "id": "deZuL7vVF_9O",
        "colab_type": "text"
      },
      "source": [
        "# Задача 1\n",
        "Дана строка (вводится с клавиатуры).\n",
        "\n",
        "Найдите наиболее часто встречаемый символ в строке. Отобразить в консоль сам символ и частоту его появления."
      ]
    },
    {
      "cell_type": "code",
      "metadata": {
        "id": "4GQbXK-IF_9Q",
        "colab_type": "code",
        "colab": {
          "base_uri": "https://localhost:8080/",
          "height": 119
        },
        "outputId": "f09e1046-3b3b-4266-f236-6ddfab3ed295"
      },
      "source": [
        "# Ваше решение\n",
        "\n",
        "\n",
        "string = str(input('Введите строку: '))\n",
        "\n",
        "a = 0\n",
        "b = \"\"\n",
        "\n",
        "for i,char in enumerate(string):\n",
        "    if string.count(string[i])>a:\n",
        "        a = string.count(string[i])\n",
        "        b = b+string[i]\n",
        "        с = string[i]\n",
        "              \n",
        "print(f\"Символ встречающийся наиболее часто - {с}\\nЧастота его появления - {a}\")\n",
        "\n",
        "# Дополнительная проверка, если в строке есть символы встречающие одинаково часто\n",
        "for i,char in enumerate(string):\n",
        "    if b.find(string[i])==-1 and string.count(string[i])==a:\n",
        "        a = string.count(string[i])\n",
        "        b = b + string[i]\n",
        "        с = string[i]\n",
        "        print(f\"\\nЕсть еще один символ встречающийся так же часто - {с}\\nЧастота его появления - {a}\")\n"
      ],
      "execution_count": 54,
      "outputs": [
        {
          "output_type": "stream",
          "text": [
            "Введите строку: sdfsggstrthfgn\n",
            "Символ встречающийся наиболее часто - s\n",
            "Частота его появления - 3\n",
            "\n",
            "Есть еще один символ встречающийся так же часто - g\n",
            "Частота его появления - 3\n"
          ],
          "name": "stdout"
        }
      ]
    },
    {
      "cell_type": "markdown",
      "metadata": {
        "id": "E78oWt1LF_9c",
        "colab_type": "text"
      },
      "source": [
        "# Задача 2\n",
        "С клавиатуры вводится пароль.\n",
        "\n",
        "Необходимо проверить корректность пароля. Пароль должен содержать как минимум 1 цифру, 1 букву нижнего регистра и 1 букву верхнего регистра и быть длинной > 10 символов. "
      ]
    },
    {
      "cell_type": "code",
      "metadata": {
        "id": "w-ioTPNQF_9c",
        "colab_type": "code",
        "colab": {
          "base_uri": "https://localhost:8080/",
          "height": 187
        },
        "outputId": "4905ef57-c724-4f16-c130-9f5da46c53ea"
      },
      "source": [
        "# Ваше решение\n",
        "\n",
        "password = str(input('Введите пароль,\\nон должен содержать как минимум:\\n1 цифру,\\n1 букву нижнего регистра,\\n1 букву верхнего регистра,\\nбыть длинной > 10 символов.\\n\\n'))\n",
        "\n",
        "a = 0\n",
        "b = 0\n",
        "c = 0\n",
        "\n",
        "for i,char in enumerate(password):\n",
        "    if password[i].isdigit() == True: #есть число\n",
        "        a = 1\n",
        "    if password[i].islower() == True: #есть нижний регистр\n",
        "        b = 1\n",
        "    if password[i].isupper() == True: #есть верхний регистр\n",
        "        c = 1  \n",
        "      \n",
        "if a == 1 and b == 1 and c == 1 and len(password)>10:\n",
        "    print(\"\\nПароль подходит\")\n",
        "elif a == 0:\n",
        "    print(\"\\nНеверно, пароль должен содержать как минимум 1 цифру\")\n",
        "elif b == 0:\n",
        "    print(\"\\nНеверно, пароль должен содержать как минимум 1 букву нижнего регистра\")  \n",
        "elif c == 0:\n",
        "    print(\"\\nНеверно, пароль должен содержать как минимум 1 букву верхнего регистра\") \n",
        "elif len(password)<=10:\n",
        "    print(\"\\nНеверно, пароль должен быть длинной > 10 символов\")  \n"
      ],
      "execution_count": 55,
      "outputs": [
        {
          "output_type": "stream",
          "text": [
            "Введите пароль,\n",
            "он должен содержать как минимум:\n",
            "1 цифру,\n",
            "1 букву нижнего регистра,\n",
            "1 букву верхнего регистра,\n",
            "быть длинной > 10 символов.\n",
            "\n",
            "sdsFFF4444\n",
            "\n",
            "Неверно, пароль должен быть длинной > 10 символов\n"
          ],
          "name": "stdout"
        }
      ]
    },
    {
      "cell_type": "markdown",
      "metadata": {
        "id": "tjr8ZrpwF_9f",
        "colab_type": "text"
      },
      "source": [
        "# Задача 3\n",
        "С клавиатуры вводится две строки.\n",
        "\n",
        "Необходимо сравнить две строки, с учетом регистра.\n",
        "\n",
        "**Пример:** \"Иван Васильевич\" и \"Иван васильевич\" - различные строки"
      ]
    },
    {
      "cell_type": "code",
      "metadata": {
        "id": "jSWETEGoF_9g",
        "colab_type": "code",
        "colab": {
          "base_uri": "https://localhost:8080/",
          "height": 68
        },
        "outputId": "2fcaadf6-7560-4cd7-f0a9-adf40fca05fd"
      },
      "source": [
        "# Ваше решение\n",
        "\n",
        "string1 = str(input(\"Введите первую строку: \"))\n",
        "string2 = str(input(\"Введите вторую строку: \"))\n",
        "\n",
        "if string1==string2:\n",
        "    print(\"Строки одинаковы\")\n",
        "else:\n",
        "    print(\"Строки разные\")\n"
      ],
      "execution_count": 56,
      "outputs": [
        {
          "output_type": "stream",
          "text": [
            "Введите первую строку: Иван Васильевич\n",
            "Введите вторую строку: Иван васильевич\n",
            "Строки разные\n"
          ],
          "name": "stdout"
        }
      ]
    },
    {
      "cell_type": "markdown",
      "metadata": {
        "id": "SuSiz4h4F_9m",
        "colab_type": "text"
      },
      "source": [
        "# Задача 4\n",
        "С клавиатуры вводится строка.\n",
        "\n",
        "Необходимо удалить из строки все пробелы и определить, является ли она перевертышем (палиндромом).\n",
        "\n",
        "**Пример палиндрома:** \"Кот учён, но не чуток\""
      ]
    },
    {
      "cell_type": "code",
      "metadata": {
        "scrolled": true,
        "id": "hIhKihTOF_9m",
        "colab_type": "code",
        "colab": {
          "base_uri": "https://localhost:8080/",
          "height": 51
        },
        "outputId": "672c998c-df5b-4e4b-e673-ca17aa204a08"
      },
      "source": [
        "# Ваше решение\n",
        "\n",
        "string = str(input(\"Введите строку: \"))\n",
        "result=\"\"\n",
        "\n",
        "\n",
        "for i,char in enumerate(string):\n",
        "    if string[i].isalpha()==True:\n",
        "        result=result+string[i]\n",
        "\n",
        "result=result.lower().replace(\"ё\",\"е\")  \n",
        "\n",
        "\n",
        "if result[::-1]==result[:]:\n",
        "    print(\"строка является палиндромом\")\n",
        "else:\n",
        "    print(\"строка не является палиндромом\")\n",
        "\n"
      ],
      "execution_count": 53,
      "outputs": [
        {
          "output_type": "stream",
          "text": [
            "Введите строку: Я — арка края\n",
            "строка является палиндромом\n"
          ],
          "name": "stdout"
        }
      ]
    },
    {
      "cell_type": "markdown",
      "metadata": {
        "id": "SiuacfrVF_9p",
        "colab_type": "text"
      },
      "source": [
        "# Задача 5\n",
        "С клавиатуры вводится строка.\n",
        "\n",
        "Необходимо удалить из строки повторяющиеся символы. Вывести отдельно строку без повторяющихся символов. Пробелы оставить на своих местах."
      ]
    },
    {
      "cell_type": "code",
      "metadata": {
        "id": "SDJKd38oF_9q",
        "colab_type": "code",
        "colab": {
          "base_uri": "https://localhost:8080/",
          "height": 51
        },
        "outputId": "486f280e-454e-4da7-b515-8af4e4ec97ac"
      },
      "source": [
        "# Ваше решение\n",
        "\n",
        "string = str(input(\"Введите строку: \"))\n",
        "result=\"\"\n",
        "\n",
        "for i,char in enumerate(string):\n",
        "    if string[i] == \" \" or string.count(string[i])==1:\n",
        "        result=result+string[i]\n",
        "        \n",
        "print(result)\n"
      ],
      "execution_count": 57,
      "outputs": [
        {
          "output_type": "stream",
          "text": [
            "Введите строку: sadfs s sdfsdsg \n",
            "a  g \n"
          ],
          "name": "stdout"
        }
      ]
    }
  ]
}
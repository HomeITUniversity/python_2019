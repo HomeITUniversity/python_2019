{
 "cells": [
  {
   "cell_type": "markdown",
   "metadata": {
    "colab_type": "text",
    "id": "hINacSWFHYRW"
   },
   "source": [
    "#### Мягкий дедлайн: 25 сентября 23:59\n",
    "#### Жесткий дедлайн: 2 октября 23:59\n",
    "\n",
    "\n",
    "Отправляйте Notebook файл с решение по адресу homeituniversity@gmail.com\n",
    "\n",
    "Тема письма: Python курс > ДЗ 2 > ФИО"
   ]
  },
  {
   "cell_type": "markdown",
   "metadata": {
    "colab_type": "text",
    "id": "deZuL7vVF_9O"
   },
   "source": [
    "# Задача 1\n",
    "Дана строка (вводится с клавиатуры).\n",
    "\n",
    "Найдите наиболее часто встречаемый символ в строке. Отобразить в консоль сам символ и частоту его появления."
   ]
  },
  {
   "cell_type": "code",
   "execution_count": 1,
   "metadata": {
    "colab": {
     "base_uri": "https://localhost:8080/",
     "height": 51
    },
    "colab_type": "code",
    "executionInfo": {
     "elapsed": 11323,
     "status": "ok",
     "timestamp": 1569355892114,
     "user": {
      "displayName": "Тамара Танцурина",
      "photoUrl": "https://lh3.googleusercontent.com/a-/AAuE7mB4mGuq5UsASOaDWSoAS4S5b40p_2LfFbDj2nLg=s64",
      "userId": "08746680463249703138"
     },
     "user_tz": -180
    },
    "id": "4GQbXK-IF_9Q",
    "outputId": "d1a18cdc-75e4-4a85-e7b2-62ddcc7d1982"
   },
   "outputs": [
    {
     "name": "stdout",
     "output_type": "stream",
     "text": [
      "Введите строку текста :aaaasdsa\n",
      "Наиболее часто втречаемый символ: a , частота появления = 5\n"
     ]
    }
   ],
   "source": [
    "# Ваше решение\n",
    "\n",
    "x = input('Введите строку текста :').lower()\n",
    "count=0\n",
    "var=str()\n",
    "\n",
    "for i in range (len(x)):\n",
    "  g=x.count(x[i],i,len(x))\n",
    "  if g == count:\n",
    "    count = g\n",
    "    var = var + ','+ x[i]\n",
    "  elif g > count:\n",
    "    count = g\n",
    "    var = x[i]  \n",
    "if len(var) > 1:\n",
    "  print('Наиболее часто втречаемые символы:' ,var,', частота их появления =' ,count)\n",
    "else:  \n",
    "  print('Наиболее часто втречаемый символ:' ,var,', частота появления =' ,count)\n",
    "    \n",
    "  "
   ]
  },
  {
   "cell_type": "markdown",
   "metadata": {
    "colab_type": "text",
    "id": "E78oWt1LF_9c"
   },
   "source": [
    "# Задача 2\n",
    "С клавиатуры вводится пароль.\n",
    "\n",
    "Необходимо проверить корректность пароля. Пароль должен содержать как минимум 1 цифру, 1 букву нижнего регистра и 1 букву верхнего регистра и быть длинной > 10 символов. "
   ]
  },
  {
   "cell_type": "code",
   "execution_count": 82,
   "metadata": {
    "colab": {
     "base_uri": "https://localhost:8080/",
     "height": 51
    },
    "colab_type": "code",
    "executionInfo": {
     "elapsed": 6065,
     "status": "ok",
     "timestamp": 1569356429736,
     "user": {
      "displayName": "Тамара Танцурина",
      "photoUrl": "https://lh3.googleusercontent.com/a-/AAuE7mB4mGuq5UsASOaDWSoAS4S5b40p_2LfFbDj2nLg=s64",
      "userId": "08746680463249703138"
     },
     "user_tz": -180
    },
    "id": "w-ioTPNQF_9c",
    "outputId": "f791cd0b-dcda-4f8a-c7d0-c45bd61dd1fe"
   },
   "outputs": [
    {
     "name": "stdout",
     "output_type": "stream",
     "text": [
      "Введите пароль:Новый пароль1\n",
      "Пароль корректен\n"
     ]
    }
   ],
   "source": [
    "# Ваше решение\n",
    "\n",
    "#Нужно проверять\n",
    "\n",
    "s = input('Введите пароль:')\n",
    "a1 = str()\n",
    "a2 = str()\n",
    "a3 = str()\n",
    "a4 = str()\n",
    "\n",
    "for i in range (len(s)):\n",
    "  if len(s) > 10:\n",
    "    a1 = 'Yes'\n",
    "  else: \n",
    "    print ('Длина пароля равна', len(s),'. Пароль должен состоять больше, чем из 10 символов.') \n",
    "    break\n",
    "  if s[i].isdigit() == True:\n",
    "      a2 = 'Yes'\n",
    "  if s[i].isupper() == True:\n",
    "      a3 = 'Yes'\n",
    "  if s[i].islower() == True:\n",
    "      a4 = 'Yes'\n",
    "if a1 == 'Yes' and a2 == 'Yes' and a3 == 'Yes' and a4 == 'Yes':\n",
    "    print ('Пароль корректен')\n",
    "else: \n",
    "    print ('Пароль не корректен')"
   ]
  },
  {
   "cell_type": "markdown",
   "metadata": {
    "colab_type": "text",
    "id": "tjr8ZrpwF_9f"
   },
   "source": [
    "# Задача 3\n",
    "С клавиатуры вводится две строки.\n",
    "\n",
    "Необходимо сравнить две строки, с учетом регистра.\n",
    "\n",
    "**Пример:** \"Иван Васильевич\" и \"Иван васильевич\" - различные строки"
   ]
  },
  {
   "cell_type": "code",
   "execution_count": 83,
   "metadata": {
    "colab": {
     "base_uri": "https://localhost:8080/",
     "height": 68
    },
    "colab_type": "code",
    "executionInfo": {
     "elapsed": 12838,
     "status": "ok",
     "timestamp": 1569356494735,
     "user": {
      "displayName": "Тамара Танцурина",
      "photoUrl": "https://lh3.googleusercontent.com/a-/AAuE7mB4mGuq5UsASOaDWSoAS4S5b40p_2LfFbDj2nLg=s64",
      "userId": "08746680463249703138"
     },
     "user_tz": -180
    },
    "id": "jSWETEGoF_9g",
    "outputId": "46dbac1b-ccc1-4273-9a56-74b53515fe5b"
   },
   "outputs": [
    {
     "name": "stdout",
     "output_type": "stream",
     "text": [
      "Введите первую строку :Тамара Ивановна\n",
      "Введите вторую строку :Тамара ивановна\n",
      "Строки не равны\n"
     ]
    }
   ],
   "source": [
    "# Ваше решение\n",
    "\n",
    "a = str(input('Введите первую строку :'))\n",
    "b = str(input('Введите вторую строку :'))\n",
    "\n",
    "if a==b:\n",
    "  print('Строки равны')\n",
    "else:\n",
    "  print ('Строки не равны')\n",
    "\n"
   ]
  },
  {
   "cell_type": "markdown",
   "metadata": {
    "colab_type": "text",
    "id": "SuSiz4h4F_9m"
   },
   "source": [
    "# Задача 4\n",
    "С клавиатуры вводится строка.\n",
    "\n",
    "Необходимо удалить из строки все пробелы и определить, является ли она перевертышем (палиндромом).\n",
    "\n",
    "**Пример палиндрома:** \"Кот учён, но не чуток\""
   ]
  },
  {
   "cell_type": "code",
   "execution_count": 86,
   "metadata": {
    "colab": {
     "base_uri": "https://localhost:8080/",
     "height": 51
    },
    "colab_type": "code",
    "executionInfo": {
     "elapsed": 11786,
     "status": "ok",
     "timestamp": 1569356607377,
     "user": {
      "displayName": "Тамара Танцурина",
      "photoUrl": "https://lh3.googleusercontent.com/a-/AAuE7mB4mGuq5UsASOaDWSoAS4S5b40p_2LfFbDj2nLg=s64",
      "userId": "08746680463249703138"
     },
     "user_tz": -180
    },
    "id": "hIhKihTOF_9m",
    "outputId": "b70a095d-04a3-4430-a034-eb40c5dc1cb5",
    "scrolled": true
   },
   "outputs": [
    {
     "name": "stdout",
     "output_type": "stream",
     "text": [
      "Введите строку :А роза упала на лапу Азора\n",
      "copy: ароза упал ан алапу азор а\n"
     ]
    }
   ],
   "source": [
    "# Ваше решение\n",
    "\n",
    "s = input('Введите строку :').lower()\n",
    "\n",
    "length=s.strip ()\n",
    "poli = length [::-1]\n",
    "print (\"copy: \" + poli)"
   ]
  },
  {
   "cell_type": "markdown",
   "metadata": {
    "colab_type": "text",
    "id": "SiuacfrVF_9p"
   },
   "source": [
    "# Задача 5\n",
    "С клавиатуры вводится строка.\n",
    "\n",
    "Необходимо удалить из строки повторяющиеся символы. Вывести отдельно строку без повторяющихся символов. Пробелы оставить на своих местах."
   ]
  },
  {
   "cell_type": "code",
   "execution_count": 97,
   "metadata": {
    "colab": {
     "base_uri": "https://localhost:8080/",
     "height": 51
    },
    "colab_type": "code",
    "executionInfo": {
     "elapsed": 17418,
     "status": "ok",
     "timestamp": 1569358672409,
     "user": {
      "displayName": "Тамара Танцурина",
      "photoUrl": "https://lh3.googleusercontent.com/a-/AAuE7mB4mGuq5UsASOaDWSoAS4S5b40p_2LfFbDj2nLg=s64",
      "userId": "08746680463249703138"
     },
     "user_tz": -180
    },
    "id": "SDJKd38oF_9q",
    "outputId": "a5246180-bc20-4bd4-cebb-2d71bb79e645"
   },
   "outputs": [
    {
     "name": "stdout",
     "output_type": "stream",
     "text": [
      "Введите строку :Истории, полные ужаса и жути\n",
      "р, плные   \n"
     ]
    }
   ],
   "source": [
    "# Ваше решение\n",
    "\n",
    "s = input('Введите строку :').lower()\n",
    "f=s\n",
    "\n",
    "for i in range (len(s)):\n",
    "  g=s.count(s[i],i,len(s))\n",
    "  if s[i] != ' ' and g > 1:\n",
    "    f=f.replace (s[i],'')\n",
    "print(f)    "
   ]
  }
 ],
 "metadata": {
  "colab": {
   "collapsed_sections": [],
   "name": "03_strings_homework.ipynb",
   "provenance": []
  },
  "kernelspec": {
   "display_name": "Python 3",
   "language": "python",
   "name": "python3"
  },
  "language_info": {
   "codemirror_mode": {
    "name": "ipython",
    "version": 3
   },
   "file_extension": ".py",
   "mimetype": "text/x-python",
   "name": "python",
   "nbconvert_exporter": "python",
   "pygments_lexer": "ipython3",
   "version": "3.7.1"
  }
 },
 "nbformat": 4,
 "nbformat_minor": 1
}

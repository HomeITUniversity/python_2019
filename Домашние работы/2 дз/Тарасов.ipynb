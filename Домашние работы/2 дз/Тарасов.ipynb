{
  "nbformat": 4,
  "nbformat_minor": 0,
  "metadata": {
    "kernelspec": {
      "display_name": "Python 3",
      "language": "python",
      "name": "python3"
    },
    "language_info": {
      "codemirror_mode": {
        "name": "ipython",
        "version": 3
      },
      "file_extension": ".py",
      "mimetype": "text/x-python",
      "name": "python",
      "nbconvert_exporter": "python",
      "pygments_lexer": "ipython3",
      "version": "3.7.1"
    },
    "colab": {
      "name": "03_strings_homework.ipynb",
      "provenance": []
    }
  },
  "cells": [
    {
      "cell_type": "markdown",
      "metadata": {
        "id": "hINacSWFHYRW",
        "colab_type": "text"
      },
      "source": [
        "#### Мягкий дедлайн: 25 сентября 23:59\n",
        "#### Жесткий дедлайн: 2 октября 23:59\n",
        "\n",
        "\n",
        "Отправляйте Notebook файл с решение по адресу homeituniversity@gmail.com\n",
        "\n",
        "Тема письма: Python курс > ДЗ 2 > ФИО"
      ]
    },
    {
      "cell_type": "markdown",
      "metadata": {
        "id": "deZuL7vVF_9O",
        "colab_type": "text"
      },
      "source": [
        "# Задача 1\n",
        "Дана строка (вводится с клавиатуры).\n",
        "\n",
        "Найдите наиболее часто встречаемый символ в строке. Отобразить в консоль сам символ и частоту его появления."
      ]
    },
    {
      "cell_type": "code",
      "metadata": {
        "id": "4GQbXK-IF_9Q",
        "colab_type": "code",
        "colab": {
          "base_uri": "https://localhost:8080/",
          "height": 98
        },
        "outputId": "2e4d40dc-4939-40be-b3dd-0114293a9ce5"
      },
      "source": [
        "# Ваше решение\n",
        "str = input () \n",
        "x = 0\n",
        "c = 0\n",
        "y = str\n",
        "\n",
        "if len(str) == 1:\n",
        "  print(\"Символ:\", str, \"Частота появления: 1\")\n",
        "if len(str) > 1:\n",
        "  for i, s in enumerate(str):\n",
        "    if x == 0:\n",
        "      c = str.count(s)\n",
        "      x += 1\n",
        "      continue\n",
        "    elif c < str.count(s): \n",
        "      c = str.count(s)\n",
        "  \n",
        "  for ii, ss in enumerate(str):\n",
        "    if str.count(ss) == c and ss in y:\n",
        "      y = y.replace(ss,'')\n",
        "      print(\"Символ:\", ss, \"Частота появления: \",c)\n",
        "      "
      ],
      "execution_count": 179,
      "outputs": [
        {
          "output_type": "stream",
          "text": [
            "a7FhhkmbFf7a\n",
            "Символ: a Частота появления:  2\n",
            "Символ: 7 Частота появления:  2\n",
            "Символ: F Частота появления:  2\n",
            "Символ: h Частота появления:  2\n"
          ],
          "name": "stdout"
        }
      ]
    },
    {
      "cell_type": "markdown",
      "metadata": {
        "id": "E78oWt1LF_9c",
        "colab_type": "text"
      },
      "source": [
        "# Задача 2\n",
        "С клавиатуры вводится пароль.\n",
        "\n",
        "Необходимо проверить корректность пароля. Пароль должен содержать как минимум 1 цифру, 1 букву нижнего регистра и 1 букву верхнего регистра и быть длинной > 10 символов. "
      ]
    },
    {
      "cell_type": "code",
      "metadata": {
        "id": "w-ioTPNQF_9c",
        "colab_type": "code",
        "colab": {
          "base_uri": "https://localhost:8080/",
          "height": 50
        },
        "outputId": "61f67b1e-75b8-49ba-e004-5bcb1e746823"
      },
      "source": [
        "# Ваше решение\n",
        "psw = input()\n",
        "c = 0\n",
        "r = 0\n",
        "f = 0\n",
        "if len(psw) > 10:\n",
        "  for i, s in enumerate(psw):\n",
        "      if s.isdigit() == 1 and c == 0:\n",
        "        c += 1\n",
        "        continue\n",
        "      elif s.islower() == 1 and r == 0:\n",
        "        r += 1\n",
        "        continue\n",
        "      elif s.isupper() == 1 and f == 0:\n",
        "        f += 1\n",
        "        continue\n",
        "  if c + r + f == 3:    \n",
        "    print(\"Корректный пароль\")\n",
        "  else:\n",
        "    print(\"Некорректно. Пароль должен содержать как минимум 1 цифру, 1 букву нижнего регистра и 1 букву верхнего регистра\")\n",
        "else:\n",
        "  print(\"Некорректно. Пароль должен быть длинной более 10 символов.\")"
      ],
      "execution_count": 58,
      "outputs": [
        {
          "output_type": "stream",
          "text": [
            "DF2jjfпароль\n",
            "Корректный пароль\n"
          ],
          "name": "stdout"
        }
      ]
    },
    {
      "cell_type": "markdown",
      "metadata": {
        "id": "tjr8ZrpwF_9f",
        "colab_type": "text"
      },
      "source": [
        "# Задача 3\n",
        "С клавиатуры вводится две строки.\n",
        "\n",
        "Необходимо сравнить две строки, с учетом регистра.\n",
        "\n",
        "**Пример:** \"Иван Васильевич\" и \"Иван васильевич\" - различные строки"
      ]
    },
    {
      "cell_type": "code",
      "metadata": {
        "id": "jSWETEGoF_9g",
        "colab_type": "code",
        "colab": {
          "base_uri": "https://localhost:8080/",
          "height": 66
        },
        "outputId": "b7e4ac4a-a3f9-459b-9e5c-2e5bb06196ba"
      },
      "source": [
        "# Ваше решение\n",
        "str1 = input()\n",
        "str2 = input()\n",
        "\n",
        "if str1 == str2:\n",
        "  print (\"YES\")\n",
        "else: \n",
        "  print(\"NO\")"
      ],
      "execution_count": 28,
      "outputs": [
        {
          "output_type": "stream",
          "text": [
            "Иван Васильевич\n",
            "Иван Васильевич\n",
            "YES\n"
          ],
          "name": "stdout"
        }
      ]
    },
    {
      "cell_type": "markdown",
      "metadata": {
        "id": "SuSiz4h4F_9m",
        "colab_type": "text"
      },
      "source": [
        "# Задача 4\n",
        "С клавиатуры вводится строка.\n",
        "\n",
        "Необходимо удалить из строки все пробелы и определить, является ли она перевертышем (палиндромом).\n",
        "\n",
        "**Пример палиндрома:** \"Кот учён, но не чуток\""
      ]
    },
    {
      "cell_type": "code",
      "metadata": {
        "scrolled": true,
        "id": "hIhKihTOF_9m",
        "colab_type": "code",
        "colab": {
          "base_uri": "https://localhost:8080/",
          "height": 50
        },
        "outputId": "0e8a2663-0497-4788-c624-0f189c2c4df5"
      },
      "source": [
        "# Ваше решение\n",
        "str = input().replace(' ','').replace(',','')\n",
        "if str == str[::-1]:\n",
        "  print(\"YES\")\n",
        "else:\n",
        "  print(\"NO\")\n"
      ],
      "execution_count": 18,
      "outputs": [
        {
          "output_type": "stream",
          "text": [
            "шалаш, как шалаш\n",
            "YES\n"
          ],
          "name": "stdout"
        }
      ]
    },
    {
      "cell_type": "markdown",
      "metadata": {
        "id": "SiuacfrVF_9p",
        "colab_type": "text"
      },
      "source": [
        "# Задача 5\n",
        "С клавиатуры вводится строка.\n",
        "\n",
        "Необходимо удалить из строки повторяющиеся символы. Вывести отдельно строку без повторяющихся символов. Пробелы оставить на своих местах."
      ]
    },
    {
      "cell_type": "code",
      "metadata": {
        "id": "SDJKd38oF_9q",
        "colab_type": "code",
        "colab": {
          "base_uri": "https://localhost:8080/",
          "height": 50
        },
        "outputId": "1228d706-3c27-4d79-94e2-405df56d68bf"
      },
      "source": [
        "# Ваше решение\n",
        "str = input()\n",
        "for i, s in enumerate(str):\n",
        "  if str.count(s) > 1 and s != ' ':\n",
        "    str = str.replace(s,'')\n",
        "print(str)\n",
        "    \n"
      ],
      "execution_count": 27,
      "outputs": [
        {
          "output_type": "stream",
          "text": [
            "ssa ffr ffd  a gvg\n",
            " r d   v\n"
          ],
          "name": "stdout"
        }
      ]
    }
  ]
}
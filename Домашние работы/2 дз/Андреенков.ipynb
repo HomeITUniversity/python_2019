{
 "cells": [
  {
   "cell_type": "markdown",
   "metadata": {
    "colab_type": "text",
    "id": "hINacSWFHYRW"
   },
   "source": [
    "#### Мягкий дедлайн: 25 сентября 23:59\n",
    "#### Жесткий дедлайн: 2 октября 23:59\n",
    "\n",
    "\n",
    "Отправляйте Notebook файл с решение по адресу homeituniversity@gmail.com\n",
    "\n",
    "Тема письма: Python курс > ДЗ 2 > ФИО"
   ]
  },
  {
   "cell_type": "markdown",
   "metadata": {
    "colab_type": "text",
    "id": "deZuL7vVF_9O"
   },
   "source": [
    "# Задача 1\n",
    "Дана строка (вводится с клавиатуры).\n",
    "\n",
    "Найдите наиболее часто встречаемый символ в строке. Отобразить в консоль сам символ и частоту его появления."
   ]
  },
  {
   "cell_type": "code",
   "execution_count": 0,
   "metadata": {
    "colab": {},
    "colab_type": "code",
    "id": "5wS5RHdroNT3"
   },
   "outputs": [],
   "source": []
  },
  {
   "cell_type": "code",
   "execution_count": 0,
   "metadata": {
    "colab": {},
    "colab_type": "code",
    "id": "4GQbXK-IF_9Q"
   },
   "outputs": [],
   "source": []
  },
  {
   "cell_type": "markdown",
   "metadata": {
    "colab_type": "text",
    "id": "E78oWt1LF_9c"
   },
   "source": [
    "# Задача 2\n",
    "С клавиатуры вводится пароль.\n",
    "\n",
    "Необходимо проверить корректность пароля. Пароль должен содержать как минимум 1 цифру, 1 букву нижнего регистра и 1 букву верхнего регистра и быть длинной > 10 символов. "
   ]
  },
  {
   "cell_type": "code",
   "execution_count": 94,
   "metadata": {
    "colab": {
     "base_uri": "https://localhost:8080/",
     "height": 68
    },
    "colab_type": "code",
    "id": "w-ioTPNQF_9c",
    "outputId": "3c5a4cb6-0fec-4808-949c-8d0873807396"
   },
   "outputs": [
    {
     "name": "stdout",
     "output_type": "stream",
     "text": [
      "Введите ваш пароль\n",
      "bb5\n",
      "Пароль некорректный\n"
     ]
    }
   ],
   "source": [
    "password=input('Введите ваш пароль' '\\n')\n",
    "if password.islower() or password.isupper() or password.isalpha() or password.isdigit() or (len(password)<10):\n",
    "  print('Пароль некорректный')\n",
    "else:\n",
    "  print('Пароль корректный')\n",
    "\n",
    "     \n",
    "     \n"
   ]
  },
  {
   "cell_type": "markdown",
   "metadata": {
    "colab_type": "text",
    "id": "tjr8ZrpwF_9f"
   },
   "source": [
    "# Задача 3\n",
    "С клавиатуры вводится две строки.\n",
    "\n",
    "Необходимо сравнить две строки, с учетом регистра.\n",
    "\n",
    "**Пример:** \"Иван Васильевич\" и \"Иван васильевич\" - различные строки"
   ]
  },
  {
   "cell_type": "code",
   "execution_count": 51,
   "metadata": {
    "colab": {
     "base_uri": "https://localhost:8080/",
     "height": 102
    },
    "colab_type": "code",
    "id": "jSWETEGoF_9g",
    "outputId": "cab1a734-ff86-45c1-841b-50356ba4c271"
   },
   "outputs": [
    {
     "name": "stdout",
     "output_type": "stream",
     "text": [
      "Введите строку 1\n",
      "МАМА\n",
      "Введите строку 2\n",
      "мама\n",
      "Строки не равны\n"
     ]
    }
   ],
   "source": [
    "str1=input('Введите строку 1' '\\n')\n",
    "str2=input('Введите строку 2' '\\n')\n",
    "if str1 == str2:\n",
    "  print('Строки равны')\n",
    "else:\n",
    "    print('Строки не равны')\n",
    "  \n",
    "\n",
    "\n",
    "\n",
    "\n"
   ]
  },
  {
   "cell_type": "markdown",
   "metadata": {
    "colab_type": "text",
    "id": "SuSiz4h4F_9m"
   },
   "source": [
    "# Задача 4\n",
    "С клавиатуры вводится строка.\n",
    "\n",
    "Необходимо удалить из строки все пробелы и определить, является ли она перевертышем (палиндромом).\n",
    "\n",
    "**Пример палиндрома:** \"Кот учён, но не чуток\""
   ]
  },
  {
   "cell_type": "code",
   "execution_count": 0,
   "metadata": {
    "colab": {},
    "colab_type": "code",
    "id": "hIhKihTOF_9m",
    "scrolled": true
   },
   "outputs": [],
   "source": [
    "# Ваше решение\n",
    "\n",
    "\n"
   ]
  },
  {
   "cell_type": "markdown",
   "metadata": {
    "colab_type": "text",
    "id": "SiuacfrVF_9p"
   },
   "source": [
    "# Задача 5\n",
    "С клавиатуры вводится строка.\n",
    "\n",
    "Необходимо удалить из строки повторяющиеся символы. Вывести отдельно строку без повторяющихся символов. Пробелы оставить на своих местах."
   ]
  },
  {
   "cell_type": "code",
   "execution_count": 0,
   "metadata": {
    "colab": {},
    "colab_type": "code",
    "id": "SDJKd38oF_9q"
   },
   "outputs": [],
   "source": [
    "# Ваше решение\n"
   ]
  }
 ],
 "metadata": {
  "colab": {
   "collapsed_sections": [],
   "name": "03_strings_homework.ipynb",
   "provenance": []
  },
  "kernelspec": {
   "display_name": "Python 3",
   "language": "python",
   "name": "python3"
  },
  "language_info": {
   "codemirror_mode": {
    "name": "ipython",
    "version": 3
   },
   "file_extension": ".py",
   "mimetype": "text/x-python",
   "name": "python",
   "nbconvert_exporter": "python",
   "pygments_lexer": "ipython3",
   "version": "3.7.1"
  }
 },
 "nbformat": 4,
 "nbformat_minor": 1
}

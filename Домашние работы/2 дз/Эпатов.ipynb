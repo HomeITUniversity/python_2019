{
  "nbformat": 4,
  "nbformat_minor": 0,
  "metadata": {
    "kernelspec": {
      "display_name": "Python 3",
      "language": "python",
      "name": "python3"
    },
    "language_info": {
      "codemirror_mode": {
        "name": "ipython",
        "version": 3
      },
      "file_extension": ".py",
      "mimetype": "text/x-python",
      "name": "python",
      "nbconvert_exporter": "python",
      "pygments_lexer": "ipython3",
      "version": "3.7.1"
    },
    "colab": {
      "name": "03_strings_homework.ipynb",
      "provenance": [],
      "collapsed_sections": []
    }
  },
  "cells": [
    {
      "cell_type": "markdown",
      "metadata": {
        "id": "hINacSWFHYRW",
        "colab_type": "text"
      },
      "source": [
        "#### Мягкий дедлайн: 25 сентября 23:59\n",
        "#### Жесткий дедлайн: 2 октября 23:59\n",
        "\n",
        "\n",
        "Отправляйте Notebook файл с решение по адресу homeituniversity@gmail.com\n",
        "\n",
        "Тема письма: Python курс > ДЗ 2 > ФИО"
      ]
    },
    {
      "cell_type": "markdown",
      "metadata": {
        "id": "deZuL7vVF_9O",
        "colab_type": "text"
      },
      "source": [
        "# Задача 1\n",
        "Дана строка (вводится с клавиатуры).\n",
        "\n",
        "Найдите наиболее часто встречаемый символ в строке. Отобразить в консоль сам символ и частоту его появления."
      ]
    },
    {
      "cell_type": "code",
      "metadata": {
        "id": "4GQbXK-IF_9Q",
        "colab_type": "code",
        "colab": {
          "base_uri": "https://localhost:8080/",
          "height": 51
        },
        "outputId": "1cc33f6d-168b-4fa4-dff0-8fecbb37b3c9"
      },
      "source": [
        "# Ваше решение\n",
        "str = input()\n",
        "count = {}\n",
        "key = \"\"\n",
        "maximum = 0\n",
        "\n",
        "for i in str:\n",
        "  if i in count:\n",
        "    count[i] += 1\n",
        "  else:\n",
        "    count[i] = 1\n",
        "\n",
        "\n",
        "for i in count:\n",
        "  if count[i] > maximum:\n",
        "    key = i\n",
        "    maximum = count[i]\n",
        "    \n",
        "print(key,\":\",maximum)\n"
      ],
      "execution_count": 25,
      "outputs": [
        {
          "output_type": "stream",
          "text": [
            "aaaaacd\n",
            "a : 5\n"
          ],
          "name": "stdout"
        }
      ]
    },
    {
      "cell_type": "markdown",
      "metadata": {
        "id": "E78oWt1LF_9c",
        "colab_type": "text"
      },
      "source": [
        "# Задача 2\n",
        "С клавиатуры вводится пароль.\n",
        "\n",
        "Необходимо проверить корректность пароля. Пароль должен содержать как минимум 1 цифру, 1 букву нижнего регистра и 1 букву верхнего регистра и быть длинной > 10 символов. "
      ]
    },
    {
      "cell_type": "code",
      "metadata": {
        "id": "w-ioTPNQF_9c",
        "colab_type": "code",
        "colab": {
          "base_uri": "https://localhost:8080/",
          "height": 51
        },
        "outputId": "54b42d54-7c2c-4e88-9e15-fe5a95b3d16e"
      },
      "source": [
        "# Ваше решение\n",
        "str = input()\n",
        "result_matrix = {'digit':False,'upper':False,'lower':False,'lenth':len(str)>10}\n",
        "\n",
        "for i in str:\n",
        "  if not result_matrix['digit']:\n",
        "    result_matrix['digit']=i.isdigit()\n",
        "  if not result_matrix['upper']:\n",
        "    result_matrix['upper']=i.isupper()\n",
        "  if not result_matrix['lower']:\n",
        "    result_matrix['lower']=i.islower()\n",
        "  if result_matrix['digit'] and result_matrix['upper'] and result_matrix['lower']:\n",
        "    break\n",
        "\n",
        "password_correct = True\n",
        "for i in result_matrix:\n",
        "  if not result_matrix[i]:\n",
        "    password_correct = False\n",
        "    break\n",
        "  \n",
        "if password_correct:\n",
        "  print (\"Всё ок\")\n",
        "else:\n",
        "  print (\"Некорректный пароль\")\n",
        "\n",
        "  \n",
        "\n"
      ],
      "execution_count": 90,
      "outputs": [
        {
          "output_type": "stream",
          "text": [
            "dasdasds1SSS\n",
            "Всё ок\n"
          ],
          "name": "stdout"
        }
      ]
    },
    {
      "cell_type": "markdown",
      "metadata": {
        "id": "tjr8ZrpwF_9f",
        "colab_type": "text"
      },
      "source": [
        "# Задача 3\n",
        "С клавиатуры вводится две строки.\n",
        "\n",
        "Необходимо сравнить две строки, с учетом регистра.\n",
        "\n",
        "**Пример:** \"Иван Васильевич\" и \"Иван васильевич\" - различные строки"
      ]
    },
    {
      "cell_type": "code",
      "metadata": {
        "id": "jSWETEGoF_9g",
        "colab_type": "code",
        "colab": {
          "base_uri": "https://localhost:8080/",
          "height": 68
        },
        "outputId": "7ec068de-9f8e-4728-da56-55e5c4dfed7f"
      },
      "source": [
        "# Ваше решение\n",
        "str1 = input()\n",
        "str2 = input()\n",
        "\n",
        "print(\"Строки равны\") if str1 == str2 else print(\"Строки не равны\")"
      ],
      "execution_count": 55,
      "outputs": [
        {
          "output_type": "stream",
          "text": [
            "Иван Васильевич\n",
            "Иван Васильевич\n",
            "Строки равны\n"
          ],
          "name": "stdout"
        }
      ]
    },
    {
      "cell_type": "markdown",
      "metadata": {
        "id": "SuSiz4h4F_9m",
        "colab_type": "text"
      },
      "source": [
        "# Задача 4\n",
        "С клавиатуры вводится строка.\n",
        "\n",
        "Необходимо удалить из строки все пробелы и определить, является ли она перевертышем (палиндромом).\n",
        "\n",
        "**Пример палиндрома:** \"Кот учён, но не чуток\""
      ]
    },
    {
      "cell_type": "code",
      "metadata": {
        "scrolled": true,
        "id": "hIhKihTOF_9m",
        "colab_type": "code",
        "colab": {
          "base_uri": "https://localhost:8080/",
          "height": 51
        },
        "outputId": "69ac73cf-efbc-4e4c-8d06-5b6ce1ea266a"
      },
      "source": [
        "# Ваше решение\n",
        "# корректный пример \"Кот учён, не чуток\", \"Кот учён, но не чуток\" - не палиндром\n",
        "\n",
        "str = input()\n",
        "\n",
        "str1 = str.lower().replace(\" \", \"\").replace(\"ё\", \"е\").replace(\",\", \"\")\n",
        "str2 = str1[::-1]\n",
        "print(\"Палиндромом\") if str1 == str2 else print(\"Не палиндромом\")\n",
        "\n"
      ],
      "execution_count": 87,
      "outputs": [
        {
          "output_type": "stream",
          "text": [
            "Кот учён, не чуток\n",
            "Палиндромом\n"
          ],
          "name": "stdout"
        }
      ]
    },
    {
      "cell_type": "markdown",
      "metadata": {
        "id": "SiuacfrVF_9p",
        "colab_type": "text"
      },
      "source": [
        "# Задача 5\n",
        "С клавиатуры вводится строка.\n",
        "\n",
        "Необходимо удалить из строки повторяющиеся символы. Вывести отдельно строку без повторяющихся символов. Пробелы оставить на своих местах."
      ]
    },
    {
      "cell_type": "code",
      "metadata": {
        "id": "SDJKd38oF_9q",
        "colab_type": "code",
        "colab": {
          "base_uri": "https://localhost:8080/",
          "height": 51
        },
        "outputId": "cdaecd3d-8126-4e19-f8a0-2b8b2ad80db8"
      },
      "source": [
        "# Ваше решение\n",
        "str = input()\n",
        "str1 = \"\"\n",
        "\n",
        "for i in range(len(str)):\n",
        "  if (i!=0 and str[i]!=str[i-1]) or str[i]==' ' or i==0:\n",
        "    str1 +=str[i]\n",
        "    \n",
        "print(str1)\n",
        "    "
      ],
      "execution_count": 95,
      "outputs": [
        {
          "output_type": "stream",
          "text": [
            "  ccdddfffffghjaa    ffffddsdfsf\n",
            "  cdfghja    fdsdfsf\n"
          ],
          "name": "stdout"
        }
      ]
    }
  ]
}
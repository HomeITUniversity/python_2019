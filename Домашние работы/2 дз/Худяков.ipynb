{
  "nbformat": 4,
  "nbformat_minor": 0,
  "metadata": {
    "kernelspec": {
      "display_name": "Python 3",
      "language": "python",
      "name": "python3"
    },
    "language_info": {
      "codemirror_mode": {
        "name": "ipython",
        "version": 3
      },
      "file_extension": ".py",
      "mimetype": "text/x-python",
      "name": "python",
      "nbconvert_exporter": "python",
      "pygments_lexer": "ipython3",
      "version": "3.7.1"
    },
    "colab": {
      "name": "03_strings_homework.ipynb",
      "provenance": [],
      "collapsed_sections": []
    }
  },
  "cells": [
    {
      "cell_type": "markdown",
      "metadata": {
        "id": "hINacSWFHYRW",
        "colab_type": "text"
      },
      "source": [
        "#### Мягкий дедлайн: 25 сентября 23:59\n",
        "#### Жесткий дедлайн: 2 октября 23:59\n",
        "\n",
        "\n",
        "Отправляйте Notebook файл с решение по адресу homeituniversity@gmail.com\n",
        "\n",
        "Тема письма: Python курс > ДЗ 2 > ФИО"
      ]
    },
    {
      "cell_type": "markdown",
      "metadata": {
        "id": "deZuL7vVF_9O",
        "colab_type": "text"
      },
      "source": [
        "# Задача 1\n",
        "Дана строка (вводится с клавиатуры).\n",
        "\n",
        "Найдите наиболее часто встречаемый символ в строке. Отобразить в консоль сам символ и частоту его появления."
      ]
    },
    {
      "cell_type": "code",
      "metadata": {
        "id": "4GQbXK-IF_9Q",
        "colab_type": "code",
        "outputId": "c54f3578-2137-4f27-8b9a-eb30b141bdd3",
        "colab": {
          "base_uri": "https://localhost:8080/",
          "height": 55
        }
      },
      "source": [
        "s = list(input('Введите строку: ').replace(' ', ''))\n",
        "print('%d раз(а) встречается символ '\"'%s'\"'' % (max(zip((s.count(item) for item in set(s)), set(s)))))\n",
        "\n"
      ],
      "execution_count": 65,
      "outputs": [
        {
          "output_type": "stream",
          "text": [
            "Введите строку: ffhfhfhhfhf\n",
            "6 раз(а) встречается символ 'f'\n"
          ],
          "name": "stdout"
        }
      ]
    },
    {
      "cell_type": "markdown",
      "metadata": {
        "id": "E78oWt1LF_9c",
        "colab_type": "text"
      },
      "source": [
        "# Задача 2\n",
        "С клавиатуры вводится пароль.\n",
        "\n",
        "Необходимо проверить корректность пароля. Пароль должен содержать как минимум 1 цифру, 1 букву нижнего регистра и 1 букву верхнего регистра и быть длинной > 10 символов. "
      ]
    },
    {
      "cell_type": "code",
      "metadata": {
        "id": "w-ioTPNQF_9c",
        "colab_type": "code",
        "outputId": "ca90e46e-13e2-4424-9be6-5fddee003f70",
        "colab": {
          "base_uri": "https://localhost:8080/",
          "height": 55
        }
      },
      "source": [
        "# Ваше решение\n",
        "password = str(input(\"введите пароль: \"))\n",
        "if len(password)>10:\n",
        "  if any(s.isdigit() for s in password):\n",
        "    if any(s.isupper() for s in password):\n",
        "      if any(s.islower() for s in password):\n",
        "        print(\"Добро пожаловать!\") \n",
        "      else:\n",
        "        print(\"Как насчет маленьких букв в пароли, хотя бы 1?\")\n",
        "    else: \n",
        "      print(\"А большие буквы в пароли будут, хотя бы 1?\")\n",
        "  else:\n",
        "    print(\"с цифрами пароль интереснее, хотя бы с 1\") \n",
        "else: \n",
        "  print(\"Не позорься и придумай пароль длиннее 10 символов\")  \n",
        "   \n",
        "\n",
        "\n",
        "   \n",
        "   \n",
        "\n",
        "\n",
        "\n",
        "  "
      ],
      "execution_count": 101,
      "outputs": [
        {
          "output_type": "stream",
          "text": [
            "введите пароль: 1dD\n",
            "Не позорься и придумай пароль длиннее 10 символов\n"
          ],
          "name": "stdout"
        }
      ]
    },
    {
      "cell_type": "markdown",
      "metadata": {
        "id": "tjr8ZrpwF_9f",
        "colab_type": "text"
      },
      "source": [
        "# Задача 3\n",
        "С клавиатуры вводится две строки.\n",
        "\n",
        "Необходимо сравнить две строки, с учетом регистра.\n",
        "\n",
        "**Пример:** \"Иван Васильевич\" и \"Иван васильевич\" - различные строки"
      ]
    },
    {
      "cell_type": "code",
      "metadata": {
        "id": "jSWETEGoF_9g",
        "colab_type": "code",
        "colab": {
          "base_uri": "https://localhost:8080/",
          "height": 72
        },
        "outputId": "dd0447da-4abc-4338-b144-dc096979d203"
      },
      "source": [
        "# Ваше решение\n",
        "s1 = input(\"Введите строку: \")\n",
        "s2 = input(\"Введите строку: \")\n",
        "if s1 > s2:\n",
        "  print(s1)\n",
        "elif s < s2:\n",
        "    print(s2)\n",
        "    if s1 == s2:\n",
        "      print(\"Строки одинаковые\")\n"
      ],
      "execution_count": 9,
      "outputs": [
        {
          "output_type": "stream",
          "text": [
            "Введите строку: привет\n",
            "Введите строку: тевирп\n",
            "тевирп\n"
          ],
          "name": "stdout"
        }
      ]
    },
    {
      "cell_type": "markdown",
      "metadata": {
        "id": "SuSiz4h4F_9m",
        "colab_type": "text"
      },
      "source": [
        "# Задача 4\n",
        "С клавиатуры вводится строка.\n",
        "\n",
        "Необходимо удалить из строки все пробелы и определить, является ли она перевертышем (палиндромом).\n",
        "\n",
        "**Пример палиндрома:** \"Кот учён, но не чуток\""
      ]
    },
    {
      "cell_type": "markdown",
      "metadata": {
        "id": "uXZ-a8aQO4rg",
        "colab_type": "text"
      },
      "source": [
        "Палиндро́м, пе́ревертень — число, буквосочетание, слово или текст, одинаково читающееся в обоих направлениях. Например, число 101; слова «топот» в русском языке и фин. "
      ]
    },
    {
      "cell_type": "code",
      "metadata": {
        "scrolled": true,
        "id": "hIhKihTOF_9m",
        "colab_type": "code",
        "colab": {}
      },
      "source": [
        "# Ваше решение\n",
        "s = str(input(\"Введите строку: \")).  replace(' ', '')\n",
        "def  is_palindrome(s):\n",
        "  copy = s[::-1]\n",
        "  return s == copy\n",
        "print(is_palindrome(s))\n",
        "\n"
      ],
      "execution_count": 0,
      "outputs": []
    },
    {
      "cell_type": "markdown",
      "metadata": {
        "id": "SiuacfrVF_9p",
        "colab_type": "text"
      },
      "source": [
        "# Задача 5\n",
        "С клавиатуры вводится строка.\n",
        "\n",
        "Необходимо удалить из строки повторяющиеся символы. Вывести отдельно строку без повторяющихся символов. Пробелы оставить на своих местах."
      ]
    },
    {
      "cell_type": "code",
      "metadata": {
        "id": "SDJKd38oF_9q",
        "colab_type": "code",
        "colab": {}
      },
      "source": [
        "\n"
      ],
      "execution_count": 0,
      "outputs": []
    }
  ]
}
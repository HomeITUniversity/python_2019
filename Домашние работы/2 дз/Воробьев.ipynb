{
  "nbformat": 4,
  "nbformat_minor": 0,
  "metadata": {
    "kernelspec": {
      "display_name": "Python 3",
      "language": "python",
      "name": "python3"
    },
    "language_info": {
      "codemirror_mode": {
        "name": "ipython",
        "version": 3
      },
      "file_extension": ".py",
      "mimetype": "text/x-python",
      "name": "python",
      "nbconvert_exporter": "python",
      "pygments_lexer": "ipython3",
      "version": "3.7.1"
    },
    "colab": {
      "name": "03_strings_homework.ipynb",
      "provenance": []
    }
  },
  "cells": [
    {
      "cell_type": "markdown",
      "metadata": {
        "id": "hINacSWFHYRW",
        "colab_type": "text"
      },
      "source": [
        "#### Мягкий дедлайн: 25 сентября 23:59\n",
        "#### Жесткий дедлайн: 2 октября 23:59\n",
        "\n",
        "\n",
        "Отправляйте Notebook файл с решение по адресу homeituniversity@gmail.com\n",
        "\n",
        "Тема письма: Python курс > ДЗ 2 > ФИО"
      ]
    },
    {
      "cell_type": "markdown",
      "metadata": {
        "id": "deZuL7vVF_9O",
        "colab_type": "text"
      },
      "source": [
        "# Задача 1\n",
        "Дана строка (вводится с клавиатуры).\n",
        "\n",
        "Найдите наиболее часто встречаемый символ в строке. Отобразить в консоль сам символ и частоту его появления."
      ]
    },
    {
      "cell_type": "code",
      "metadata": {
        "id": "4GQbXK-IF_9Q",
        "colab_type": "code",
        "colab": {
          "base_uri": "https://localhost:8080/",
          "height": 72
        },
        "outputId": "1cfd2e4f-4ad6-47cf-9c00-74660b2fed9c"
      },
      "source": [
        "text = str(input('Введите текст:'))\n",
        "count = 0\n",
        "for i in text:\n",
        "    if count < text.count(i):\n",
        "        count = text.count(i)\n",
        "        b = i\n",
        "print('Буква:',b,'\\nКоличество:',count)\n"
      ],
      "execution_count": 1,
      "outputs": [
        {
          "output_type": "stream",
          "text": [
            "Введите текст:привет пупс\n",
            "Буква: п \n",
            "Количество: 3\n"
          ],
          "name": "stdout"
        }
      ]
    },
    {
      "cell_type": "markdown",
      "metadata": {
        "id": "E78oWt1LF_9c",
        "colab_type": "text"
      },
      "source": [
        "# Задача 2\n",
        "С клавиатуры вводится пароль.\n",
        "\n",
        "Необходимо проверить корректность пароля. Пароль должен содержать как минимум 1 цифру, 1 букву нижнего регистра и 1 букву верхнего регистра и быть длинной > 10 символов. "
      ]
    },
    {
      "cell_type": "code",
      "metadata": {
        "id": "w-ioTPNQF_9c",
        "colab_type": "code",
        "colab": {
          "base_uri": "https://localhost:8080/",
          "height": 146
        },
        "outputId": "fa3a67c9-3ceb-4c5f-ab78-cc6b4f1eebde"
      },
      "source": [
        "t1 = str(input('Введите цифры').isdigit())\n",
        "t2 = str(input('Введите буквы в нижнем регистре').islower())\n",
        "t3 = str(input('Введите буквы в верхнем регистре').isupper())\n",
        "print('\\n',t1+'\\n',t2+'\\n',t3)\n"
      ],
      "execution_count": 2,
      "outputs": [
        {
          "output_type": "stream",
          "text": [
            "Введите цифры21233\n",
            "Введите буквы в нижнем регистрепакпкп\n",
            "Введите буквы в верхнем регистреУААУАУ\n",
            "\n",
            " True\n",
            " True\n",
            " True\n"
          ],
          "name": "stdout"
        }
      ]
    },
    {
      "cell_type": "markdown",
      "metadata": {
        "id": "tjr8ZrpwF_9f",
        "colab_type": "text"
      },
      "source": [
        "# Задача 3\n",
        "С клавиатуры вводится две строки.\n",
        "\n",
        "Необходимо сравнить две строки, с учетом регистра.\n",
        "\n",
        "**Пример:** \"Иван Васильевич\" и \"Иван васильевич\" - различные строки"
      ]
    },
    {
      "cell_type": "code",
      "metadata": {
        "id": "jSWETEGoF_9g",
        "colab_type": "code",
        "colab": {
          "base_uri": "https://localhost:8080/",
          "height": 72
        },
        "outputId": "c511f86d-564a-4c75-ad52-f4a415f3a1d2"
      },
      "source": [
        "text = str(input('Введите фио'))\n",
        "text2 = str(input('Введите фио'))\n",
        "print(text == text2)\n"
      ],
      "execution_count": 4,
      "outputs": [
        {
          "output_type": "stream",
          "text": [
            "Введите фиоВоробьев Александр\n",
            "Введите фиоворобьев александр\n",
            "False\n"
          ],
          "name": "stdout"
        }
      ]
    },
    {
      "cell_type": "markdown",
      "metadata": {
        "id": "SuSiz4h4F_9m",
        "colab_type": "text"
      },
      "source": [
        "# Задача 4\n",
        "С клавиатуры вводится строка.\n",
        "\n",
        "Необходимо удалить из строки все пробелы и определить, является ли она перевертышем (палиндромом).\n",
        "\n",
        "**Пример палиндрома:** \"Кот учён, но не чуток\""
      ]
    },
    {
      "cell_type": "code",
      "metadata": {
        "scrolled": true,
        "id": "hIhKihTOF_9m",
        "colab_type": "code",
        "colab": {
          "base_uri": "https://localhost:8080/",
          "height": 54
        },
        "outputId": "67341ac6-352c-4792-b56e-59e702ddd1f4"
      },
      "source": [
        "text = str(input('Введите фразу палиндром')).replace(' ','').lower()\n",
        "text2 = text[::-1].replace(' ','')\n",
        "print(text2)\n",
        "\n",
        "\n",
        "\n"
      ],
      "execution_count": 8,
      "outputs": [
        {
          "output_type": "stream",
          "text": [
            "Введите фразу палиндромкот учен\n",
            "нечуток\n"
          ],
          "name": "stdout"
        }
      ]
    },
    {
      "cell_type": "markdown",
      "metadata": {
        "id": "SiuacfrVF_9p",
        "colab_type": "text"
      },
      "source": [
        "# Задача 5\n",
        "С клавиатуры вводится строка.\n",
        "\n",
        "Необходимо удалить из строки повторяющиеся символы. Вывести отдельно строку без повторяющихся символов. Пробелы оставить на своих местах."
      ]
    },
    {
      "cell_type": "code",
      "metadata": {
        "id": "SDJKd38oF_9q",
        "colab_type": "code",
        "colab": {
          "base_uri": "https://localhost:8080/",
          "height": 54
        },
        "outputId": "6b98f10f-c70b-4490-921f-a387a7d5536d"
      },
      "source": [
        "text = str(input('Введите несколько букв через пробел:'))\n",
        "text2 = ''\n",
        "for i in range(len(text)):\n",
        "    if text2.find(text[i]) == -1 and text[i] != '':\n",
        "        text2 += text[i]\n",
        "print(text2)\n"
      ],
      "execution_count": 9,
      "outputs": [
        {
          "output_type": "stream",
          "text": [
            "Введите несколько букв через пробел:фывфв чсчм\n",
            "фыв чсм\n"
          ],
          "name": "stdout"
        }
      ]
    }
  ]
}
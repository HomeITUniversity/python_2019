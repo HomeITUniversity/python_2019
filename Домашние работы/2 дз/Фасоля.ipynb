{
  "nbformat": 4,
  "nbformat_minor": 0,
  "metadata": {
    "kernelspec": {
      "display_name": "Python 3",
      "language": "python",
      "name": "python3"
    },
    "language_info": {
      "codemirror_mode": {
        "name": "ipython",
        "version": 3
      },
      "file_extension": ".py",
      "mimetype": "text/x-python",
      "name": "python",
      "nbconvert_exporter": "python",
      "pygments_lexer": "ipython3",
      "version": "3.7.1"
    },
    "colab": {
      "name": "003_strings_homework.ipynb",
      "provenance": [],
      "collapsed_sections": []
    }
  },
  "cells": [
    {
      "cell_type": "markdown",
      "metadata": {
        "id": "hINacSWFHYRW",
        "colab_type": "text"
      },
      "source": [
        "#### Мягкий дедлайн: 25 сентября 23:59\n",
        "#### Жесткий дедлайн: 2 октября 23:59\n",
        "\n",
        "\n",
        "Отправляйте Notebook файл с решение по адресу homeituniversity@gmail.com\n",
        "\n",
        "Тема письма: Python курс > ДЗ 2 > ФИО"
      ]
    },
    {
      "cell_type": "markdown",
      "metadata": {
        "id": "deZuL7vVF_9O",
        "colab_type": "text"
      },
      "source": [
        "# Задача 1\n",
        "Дана строка (вводится с клавиатуры).\n",
        "\n",
        "Найдите наиболее часто встречаемый символ в строке. Отобразить в консоль сам символ и частоту его появления."
      ]
    },
    {
      "cell_type": "code",
      "metadata": {
        "id": "4GQbXK-IF_9Q",
        "colab_type": "code",
        "colab": {
          "base_uri": "https://localhost:8080/",
          "height": 50
        },
        "outputId": "f4c960af-b7f8-48fc-edd0-b589aff2daed"
      },
      "source": [
        "s = input('Введите строку из любых символов: ')\n",
        "a = 0\n",
        "\n",
        "for i in s:\n",
        "  if a < s.count(i):\n",
        "    a = s.count(i)\n",
        "\n",
        "m = max(b for b in s if s.count(b) == max(map(s.count, s)))\n",
        "    \n",
        "print(\"Самый частый символ в строке: \", m, \".\", \" Повторяется \", a, \" раз\")\n"
      ],
      "execution_count": 3,
      "outputs": [
        {
          "output_type": "stream",
          "text": [
            "Введите строку из любых символов: 45454777777\n",
            "Самый частый символ в строке:  7 .  Повторяется  6  раз\n"
          ],
          "name": "stdout"
        }
      ]
    },
    {
      "cell_type": "markdown",
      "metadata": {
        "id": "E78oWt1LF_9c",
        "colab_type": "text"
      },
      "source": [
        "# Задача 2\n",
        "С клавиатуры вводится пароль.\n",
        "\n",
        "Необходимо проверить корректность пароля. Пароль должен содержать как минимум 1 цифру, 1 букву нижнего регистра и 1 букву верхнего регистра и быть длинной > 10 символов. "
      ]
    },
    {
      "cell_type": "code",
      "metadata": {
        "id": "w-ioTPNQF_9c",
        "colab_type": "code",
        "colab": {
          "base_uri": "https://localhost:8080/",
          "height": 50
        },
        "outputId": "f4b9cfbe-92c8-493b-b073-e88274aae542"
      },
      "source": [
        "s = input('Задайте пароль: ')\n",
        "n = 0\n",
        "l = 0\n",
        "h = 0\n",
        "\n",
        "for i in s:\n",
        "    if i.isupper(): \n",
        "      h += 1\n",
        "    if i.islower(): \n",
        "      l += 1\n",
        "    if i.isdigit(): \n",
        "      n += 1\n",
        "      \n",
        "if n == 0 or l == 0 or h == 0 or len(s) < 11:\n",
        "  print(\"Ошибка! Пароль должен содержать как минимум 1 цифру, 1 букву нижнего регистра и 1 букву верхнего регистра и быть длинной > 10 символов.\")\n",
        "else:\n",
        "    print(\"Пароль сохранен!\")\n",
        "        "
      ],
      "execution_count": 43,
      "outputs": [
        {
          "output_type": "stream",
          "text": [
            "Задайте пароль: JKDksdjh123454\n",
            "Пароль сохранен!\n"
          ],
          "name": "stdout"
        }
      ]
    },
    {
      "cell_type": "markdown",
      "metadata": {
        "id": "tjr8ZrpwF_9f",
        "colab_type": "text"
      },
      "source": [
        "# Задача 3\n",
        "С клавиатуры вводится две строки.\n",
        "\n",
        "Необходимо сравнить две строки, с учетом регистра.\n",
        "\n",
        "**Пример:** \"Иван Васильевич\" и \"Иван васильевич\" - различные строки"
      ]
    },
    {
      "cell_type": "code",
      "metadata": {
        "id": "jSWETEGoF_9g",
        "colab_type": "code",
        "colab": {
          "base_uri": "https://localhost:8080/",
          "height": 67
        },
        "outputId": "8d70aafd-ec76-4bb1-90d5-b6ad77bcb7ab"
      },
      "source": [
        "s1 = input('Введите первую строку: ')\n",
        "s2 = input('Введите вторую строку: ')\n",
        "\n",
        "if s1 == s2:\n",
        "  print(\"Строки равны\")\n",
        "else:\n",
        "  print(\"'\", s1, \"' и \", \"'\", s2, \"'\", \"- различные строки\")"
      ],
      "execution_count": 45,
      "outputs": [
        {
          "output_type": "stream",
          "text": [
            "Введите первую строку: Иван Васильевич\n",
            "Введите вторую строку: Иван васильевич\n",
            "' Иван Васильевич ' и  ' Иван васильевич ' - различные строки\n"
          ],
          "name": "stdout"
        }
      ]
    },
    {
      "cell_type": "markdown",
      "metadata": {
        "id": "SuSiz4h4F_9m",
        "colab_type": "text"
      },
      "source": [
        "# Задача 4\n",
        "С клавиатуры вводится строка.\n",
        "\n",
        "Необходимо удалить из строки все пробелы и определить, является ли она перевертышем (палиндромом).\n",
        "\n",
        "**Пример палиндрома:** \"Кот учён, но не чуток\""
      ]
    },
    {
      "cell_type": "code",
      "metadata": {
        "scrolled": true,
        "id": "hIhKihTOF_9m",
        "colab_type": "code",
        "colab": {
          "base_uri": "https://localhost:8080/",
          "height": 50
        },
        "outputId": "978a6097-0365-4f63-9b68-dc2376804c6e"
      },
      "source": [
        "#!!!!!!!!!!!!!\n",
        "#!!!!!!!!!!!!!\n",
        "#приведенный в задаче пример не является палиндромом!!!!!\n",
        "s = input('Введите строку: ')\n",
        "s2 = \"\"\n",
        "\n",
        "for i in s:\n",
        "  if i.isspace():\n",
        "    continue\n",
        "  else:\n",
        "    s2 += i\n",
        "  \n",
        "s3 = s2[::-1]\n",
        "if s3 == s2:\n",
        "  print(\"Введенная строка является палиндромом\")\n",
        "else:\n",
        "  print(\"Введенная строка не является палиндромом\")\n"
      ],
      "execution_count": 53,
      "outputs": [
        {
          "output_type": "stream",
          "text": [
            "Введите строку: мом им мом\n",
            "Введенная строка не является палиндромом\n"
          ],
          "name": "stdout"
        }
      ]
    },
    {
      "cell_type": "markdown",
      "metadata": {
        "id": "SiuacfrVF_9p",
        "colab_type": "text"
      },
      "source": [
        "# Задача 5\n",
        "С клавиатуры вводится строка.\n",
        "\n",
        "Необходимо удалить из строки повторяющиеся символы. Вывести отдельно строку без повторяющихся символов. Пробелы оставить на своих местах."
      ]
    },
    {
      "cell_type": "code",
      "metadata": {
        "id": "SDJKd38oF_9q",
        "colab_type": "code",
        "colab": {
          "base_uri": "https://localhost:8080/",
          "height": 50
        },
        "outputId": "bf3e2bb7-4439-4726-a240-bdfcf49e4b16"
      },
      "source": [
        "s = input('Введите строку: ')\n",
        "s1 = \"\"\n",
        "for i in s:\n",
        "  if i.isspace() or 1 == s.count(i):\n",
        "    s1 += i\n",
        "  else:\n",
        "    continue\n",
        "print(s1)    \n"
      ],
      "execution_count": 56,
      "outputs": [
        {
          "output_type": "stream",
          "text": [
            "Введите строку: aad 1ggh 2hhr\n",
            "d 1 2r\n"
          ],
          "name": "stdout"
        }
      ]
    }
  ]
}
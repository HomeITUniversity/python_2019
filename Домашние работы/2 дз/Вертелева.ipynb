{
  "nbformat": 4,
  "nbformat_minor": 0,
  "metadata": {
    "kernelspec": {
      "display_name": "Python 3",
      "language": "python",
      "name": "python3"
    },
    "language_info": {
      "codemirror_mode": {
        "name": "ipython",
        "version": 3
      },
      "file_extension": ".py",
      "mimetype": "text/x-python",
      "name": "python",
      "nbconvert_exporter": "python",
      "pygments_lexer": "ipython3",
      "version": "3.7.1"
    },
    "colab": {
      "name": "03_strings_homework.ipynb",
      "provenance": []
    }
  },
  "cells": [
    {
      "cell_type": "markdown",
      "metadata": {
        "id": "hINacSWFHYRW",
        "colab_type": "text"
      },
      "source": [
        "#### Мягкий дедлайн: 25 сентября 23:59\n",
        "#### Жесткий дедлайн: 2 октября 23:59\n",
        "\n",
        "\n",
        "Отправляйте Notebook файл с решение по адресу homeituniversity@gmail.com\n",
        "\n",
        "Тема письма: Python курс > ДЗ 2 > ФИО"
      ]
    },
    {
      "cell_type": "markdown",
      "metadata": {
        "id": "deZuL7vVF_9O",
        "colab_type": "text"
      },
      "source": [
        "# Задача 1\n",
        "Дана строка (вводится с клавиатуры).\n",
        "\n",
        "Найдите наиболее часто встречаемый символ в строке. Отобразить в консоль сам символ и частоту его появления."
      ]
    },
    {
      "cell_type": "code",
      "metadata": {
        "id": "4GQbXK-IF_9Q",
        "colab_type": "code",
        "colab": {
          "base_uri": "https://localhost:8080/",
          "height": 230
        },
        "outputId": "1712984d-b177-415c-a0b2-35ca5a07d843"
      },
      "source": [
        "# Ваше решение\n",
        "a = input (str ('Введите строку: '))\n",
        "\n",
        "dictionary = {}\n",
        "\n",
        "for character in list(a):\n",
        "    if character in dictionary:\n",
        "        dictionary[character] += 1\n",
        "    else:\n",
        "        dictionary[character] = 1\n",
        "\n",
        "results = []\n",
        "\n",
        "for key, value in dictionary.items():\n",
        "    results.append((value, key))\n",
        "\n",
        "for value, key in reversed(sorted(results)):\n",
        "    print(\"Символ\", key, \"встречается\", value, \"раз(а)\")"
      ],
      "execution_count": 4,
      "outputs": [
        {
          "output_type": "stream",
          "text": [
            "Введите строку: любая строка\n",
            "Символ а встречается 2 раз(а)\n",
            "Символ я встречается 1 раз(а)\n",
            "Символ ю встречается 1 раз(а)\n",
            "Символ т встречается 1 раз(а)\n",
            "Символ с встречается 1 раз(а)\n",
            "Символ р встречается 1 раз(а)\n",
            "Символ о встречается 1 раз(а)\n",
            "Символ л встречается 1 раз(а)\n",
            "Символ к встречается 1 раз(а)\n",
            "Символ б встречается 1 раз(а)\n",
            "Символ   встречается 1 раз(а)\n"
          ],
          "name": "stdout"
        }
      ]
    },
    {
      "cell_type": "markdown",
      "metadata": {
        "id": "E78oWt1LF_9c",
        "colab_type": "text"
      },
      "source": [
        "# Задача 2\n",
        "С клавиатуры вводится пароль.\n",
        "\n",
        "Необходимо проверить корректность пароля. Пароль должен содержать как минимум 1 цифру, 1 букву нижнего регистра и 1 букву верхнего регистра и быть длинной > 10 символов. "
      ]
    },
    {
      "cell_type": "code",
      "metadata": {
        "id": "w-ioTPNQF_9c",
        "colab_type": "code",
        "colab": {
          "base_uri": "https://localhost:8080/",
          "height": 52
        },
        "outputId": "25047829-6c52-46f1-fd18-ae44b5fe5177"
      },
      "source": [
        "# Ваше решение\n",
        "p = input ('Введите пароль: ')\n",
        "\n",
        "upper_case = 0\n",
        "lower_case = 0\n",
        "number = 0\n",
        "\n",
        "for i in p:\n",
        "    if i.isupper():\n",
        "        upper_case += 1\n",
        "    elif i.islower():\n",
        "        lower_case += 1\n",
        "    else:\n",
        "        number += 1\n",
        "\n",
        "if len (p) < 10:\n",
        "    print ('Пароль должен содержать более 10 символов')\n",
        "elif upper_case <= 0:\n",
        "    print ('Пароль должен содержать минимум 1 заглавную букву')\n",
        "elif lower_case <= 0:\n",
        "    print ('Пароль должен содержать минимум 1 строчную букву')\n",
        "elif number <= 0:\n",
        "    print ('Пароль должен содержать минимум 1 цифру')\n",
        "elif upper_case > 0 and lower_case > 0 and number > 0:\n",
        "    print ('Отлично')\n",
        "else:\n",
        "    print ('Пароль подходит под критерии')\n"
      ],
      "execution_count": 19,
      "outputs": [
        {
          "output_type": "stream",
          "text": [
            "Введите пароль: Ппарацетомол1\n",
            "Отлично\n"
          ],
          "name": "stdout"
        }
      ]
    },
    {
      "cell_type": "markdown",
      "metadata": {
        "id": "tjr8ZrpwF_9f",
        "colab_type": "text"
      },
      "source": [
        "# Задача 3\n",
        "С клавиатуры вводится две строки.\n",
        "\n",
        "Необходимо сравнить две строки, с учетом регистра.\n",
        "\n",
        "**Пример:** \"Иван Васильевич\" и \"Иван васильевич\" - различные строки"
      ]
    },
    {
      "cell_type": "code",
      "metadata": {
        "id": "jSWETEGoF_9g",
        "colab_type": "code",
        "colab": {
          "base_uri": "https://localhost:8080/",
          "height": 70
        },
        "outputId": "8d9f699a-c34c-4a3a-f7b1-c03947cbe975"
      },
      "source": [
        "# Ваше решение\n",
        "a = input (str('Введите первую строку:'))\n",
        "b = input (str('Введите вторую строку:'))\n",
        "a == b"
      ],
      "execution_count": 23,
      "outputs": [
        {
          "output_type": "stream",
          "text": [
            "Введите первую строку:Иван Васильевич\n",
            "Введите вторую строку:Иван Васильевич\n"
          ],
          "name": "stdout"
        },
        {
          "output_type": "execute_result",
          "data": {
            "text/plain": [
              "True"
            ]
          },
          "metadata": {
            "tags": []
          },
          "execution_count": 23
        }
      ]
    },
    {
      "cell_type": "markdown",
      "metadata": {
        "id": "SuSiz4h4F_9m",
        "colab_type": "text"
      },
      "source": [
        "# Задача 4\n",
        "С клавиатуры вводится строка.\n",
        "\n",
        "Необходимо удалить из строки все пробелы и определить, является ли она перевертышем (палиндромом).\n",
        "\n",
        "**Пример палиндрома:** \"Кот учён, но не чуток\""
      ]
    },
    {
      "cell_type": "code",
      "metadata": {
        "scrolled": true,
        "id": "hIhKihTOF_9m",
        "colab_type": "code",
        "colab": {
          "base_uri": "https://localhost:8080/",
          "height": 70
        },
        "outputId": "bdcfb651-a12e-4747-f4c9-9b7239229630"
      },
      "source": [
        "# Ваше решение\n",
        "\n",
        "s = input(str('Введите строку: '))\n",
        "s = s.split()\n",
        "s_ = ''\n",
        "for i in s:\n",
        "    s_ += i\n",
        "print(s_)\n",
        " \n",
        "l = len(s_)\n",
        "i = 0\n",
        "f = 1\n",
        "while i < l//2:\n",
        "    if s_[i] != s_[-1-i]:\n",
        "        print('Не палиндром')\n",
        "        f = 0\n",
        "        break\n",
        "    i += 1\n",
        "if f == 1:\n",
        "    print('Палиндром')"
      ],
      "execution_count": 28,
      "outputs": [
        {
          "output_type": "stream",
          "text": [
            "Введите строку: аргентина манит негра\n",
            "аргентинаманитнегра\n",
            "Палиндром\n"
          ],
          "name": "stdout"
        }
      ]
    },
    {
      "cell_type": "markdown",
      "metadata": {
        "id": "SiuacfrVF_9p",
        "colab_type": "text"
      },
      "source": [
        "# Задача 5\n",
        "С клавиатуры вводится строка.\n",
        "\n",
        "Необходимо удалить из строки повторяющиеся символы. Вывести отдельно строку без повторяющихся символов. Пробелы оставить на своих местах."
      ]
    },
    {
      "cell_type": "code",
      "metadata": {
        "id": "SDJKd38oF_9q",
        "colab_type": "code",
        "colab": {
          "base_uri": "https://localhost:8080/",
          "height": 52
        },
        "outputId": "ff1c0131-458b-472f-cc80-20210c588afe"
      },
      "source": [
        "# Ваше решение\n",
        "s = input(str('Введите строку: '))\n",
        "s_new = ''\n",
        "for i in s:\n",
        "    if i not in s_new: \n",
        "      s_new += i\n",
        "print (s_new)"
      ],
      "execution_count": 54,
      "outputs": [
        {
          "output_type": "stream",
          "text": [
            "Введите строку: мама мыла раму\n",
            "ма ылру\n"
          ],
          "name": "stdout"
        }
      ]
    }
  ]
}
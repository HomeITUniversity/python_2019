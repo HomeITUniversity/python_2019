{
  "nbformat": 4,
  "nbformat_minor": 0,
  "metadata": {
    "kernelspec": {
      "display_name": "Python 3",
      "language": "python",
      "name": "python3"
    },
    "language_info": {
      "codemirror_mode": {
        "name": "ipython",
        "version": 3
      },
      "file_extension": ".py",
      "mimetype": "text/x-python",
      "name": "python",
      "nbconvert_exporter": "python",
      "pygments_lexer": "ipython3",
      "version": "3.7.1"
    },
    "colab": {
      "name": "03_strings_homework.ipynb",
      "provenance": [],
      "collapsed_sections": []
    }
  },
  "cells": [
    {
      "cell_type": "markdown",
      "metadata": {
        "id": "hINacSWFHYRW",
        "colab_type": "text"
      },
      "source": [
        "#### Мягкий дедлайн: 25 сентября 23:59\n",
        "#### Жесткий дедлайн: 2 октября 23:59\n",
        "\n",
        "\n",
        "Отправляйте Notebook файл с решение по адресу homeituniversity@gmail.com\n",
        "\n",
        "Тема письма: Python курс > ДЗ 2 > ФИО"
      ]
    },
    {
      "cell_type": "markdown",
      "metadata": {
        "id": "deZuL7vVF_9O",
        "colab_type": "text"
      },
      "source": [
        "# Задача 1\n",
        "Дана строка (вводится с клавиатуры).\n",
        "\n",
        "Найдите наиболее часто встречаемый символ в строке. Отобразить в консоль сам символ и частоту его появления."
      ]
    },
    {
      "cell_type": "code",
      "metadata": {
        "id": "4GQbXK-IF_9Q",
        "colab_type": "code",
        "outputId": "16d7b660-0b14-42dd-a577-c520a5583df1",
        "colab": {
          "base_uri": "https://localhost:8080/",
          "height": 55
        }
      },
      "source": [
        "# Ваше решение\n",
        "mx=0\n",
        "counter=0\n",
        "symbol = \"\"\n",
        "n = input('введите строку=')\n",
        "for i in n:\n",
        "  counter = n.count(i)\n",
        "  if counter>mx:\n",
        "      mx=counter\n",
        "      symbol=i\n",
        "print(\"чаще всего встречается \",symbol,\",\",mx,\"раз(а)\")"
      ],
      "execution_count": 11,
      "outputs": [
        {
          "output_type": "stream",
          "text": [
            "введите строку=вфывф\n",
            "чаще всего встречается  в , 2 раз(а)\n"
          ],
          "name": "stdout"
        }
      ]
    },
    {
      "cell_type": "markdown",
      "metadata": {
        "id": "E78oWt1LF_9c",
        "colab_type": "text"
      },
      "source": [
        "# Задача 2\n",
        "С клавиатуры вводится пароль.\n",
        "\n",
        "Необходимо проверить корректность пароля. Пароль должен содержать как минимум 1 цифру, 1 букву нижнего регистра и 1 букву верхнего регистра и быть длинной > 10 символов. "
      ]
    },
    {
      "cell_type": "markdown",
      "metadata": {
        "id": "tjr8ZrpwF_9f",
        "colab_type": "text"
      },
      "source": [
        "# Задача 3\n",
        "С клавиатуры вводится две строки.\n",
        "\n",
        "Необходимо сравнить две строки, с учетом регистра.\n",
        "\n",
        "**Пример:** \"Иван Васильевич\" и \"Иван васильевич\" - различные строки"
      ]
    },
    {
      "cell_type": "code",
      "metadata": {
        "id": "jSWETEGoF_9g",
        "colab_type": "code",
        "colab": {}
      },
      "source": [
        "# Ваше решение\n",
        "n1 = input('введите строку=')\n",
        "n2 = input('введите строку=')\n",
        "if n1==n2:\n",
        "  print(\"строки равны\")\n",
        "else: \n",
        "  print(\"строки не равны\")"
      ],
      "execution_count": 0,
      "outputs": []
    },
    {
      "cell_type": "markdown",
      "metadata": {
        "id": "SuSiz4h4F_9m",
        "colab_type": "text"
      },
      "source": [
        "# Задача 4\n",
        "\n",
        "---\n",
        "\n",
        "\n",
        "\n",
        "---\n",
        "\n",
        "## New Section\n",
        "С клавиатуры вводится строка.\n",
        "\n",
        "Необходимо удалить из строки все пробелы и определить, является ли она перевертышем (палиндромом).\n",
        "\n",
        "**Пример палиндрома:** \"Кот учён, но не чуток\""
      ]
    },
    {
      "cell_type": "code",
      "metadata": {
        "scrolled": true,
        "id": "hIhKihTOF_9m",
        "colab_type": "code",
        "colab": {
          "base_uri": "https://localhost:8080/",
          "height": 74
        },
        "outputId": "8d2d3072-5a95-4c5c-9a9d-90a650390dc8"
      },
      "source": [
        "# Ваше решение\n",
        "\n",
        "n = input('введите строку=')\n",
        "k=''\n",
        "n.replace(' ','')\n",
        "print(n)\n",
        "for i in n:\n",
        "  k+=i\n",
        "if k==k[::-1]:\n",
        "  print('polyndo')\n",
        "else:\n",
        "  print('nepol')\n"
      ],
      "execution_count": 26,
      "outputs": [
        {
          "output_type": "stream",
          "text": [
            "введите строку=asd d s a\n",
            "asd d s a\n",
            "nepol\n"
          ],
          "name": "stdout"
        }
      ]
    },
    {
      "cell_type": "markdown",
      "metadata": {
        "id": "SiuacfrVF_9p",
        "colab_type": "text"
      },
      "source": [
        "# Задача 5\n",
        "С клавиатуры вводится строка.\n",
        "\n",
        "Необходимо удалить из строки повторяющиеся символы. Вывести отдельно строку без повторяющихся символов. Пробелы оставить на своих местах."
      ]
    },
    {
      "cell_type": "code",
      "metadata": {
        "id": "SDJKd38oF_9q",
        "colab_type": "code",
        "colab": {
          "base_uri": "https://localhost:8080/",
          "height": 55
        },
        "outputId": "d382ed16-1908-42d1-96ee-c64611ea65ec"
      },
      "source": [
        "# Ваше решение\n",
        "n = input('введите строку=')\n",
        "k=''\n",
        "for i in range(len(n)):\n",
        "  if k.find(n[i])== -1 or n[i]==' ':\n",
        "    k+=n[i]      \n",
        "print(n)\n"
      ],
      "execution_count": 31,
      "outputs": [
        {
          "output_type": "stream",
          "text": [
            "введите строку=111122233\n",
            "111122233\n"
          ],
          "name": "stdout"
        }
      ]
    }
  ]
}
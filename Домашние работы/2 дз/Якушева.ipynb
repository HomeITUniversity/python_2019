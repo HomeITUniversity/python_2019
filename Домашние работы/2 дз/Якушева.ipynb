{
  "nbformat": 4,
  "nbformat_minor": 0,
  "metadata": {
    "kernelspec": {
      "display_name": "Python 3",
      "language": "python",
      "name": "python3"
    },
    "language_info": {
      "codemirror_mode": {
        "name": "ipython",
        "version": 3
      },
      "file_extension": ".py",
      "mimetype": "text/x-python",
      "name": "python",
      "nbconvert_exporter": "python",
      "pygments_lexer": "ipython3",
      "version": "3.7.1"
    },
    "colab": {
      "name": "03_strings_homework.ipynb",
      "provenance": []
    }
  },
  "cells": [
    {
      "cell_type": "markdown",
      "metadata": {
        "id": "hINacSWFHYRW",
        "colab_type": "text"
      },
      "source": [
        "#### Мягкий дедлайн: 25 сентября 23:59\n",
        "#### Жесткий дедлайн: 2 октября 23:59\n",
        "\n",
        "\n",
        "Отправляйте Notebook файл с решение по адресу homeituniversity@gmail.com\n",
        "\n",
        "Тема письма: Python курс > ДЗ 2 > ФИО"
      ]
    },
    {
      "cell_type": "markdown",
      "metadata": {
        "id": "deZuL7vVF_9O",
        "colab_type": "text"
      },
      "source": [
        "# Задача 1\n",
        "Дана строка (вводится с клавиатуры).\n",
        "\n",
        "Найдите наиболее часто встречаемый символ в строке. Отобразить в консоль сам символ и частоту его появления."
      ]
    },
    {
      "cell_type": "code",
      "metadata": {
        "id": "4GQbXK-IF_9Q",
        "colab_type": "code",
        "colab": {
          "base_uri": "https://localhost:8080/",
          "height": 51
        },
        "outputId": "d095a6d0-f287-4a6e-8d2d-da370f5e3956"
      },
      "source": [
        "# Ваше решение\n",
        "s=input(\"Введите строку: \")\n",
        "a= ''.join(sorted(s))\n",
        "b=s.replace(\" \", \"\") \n",
        "max_count = 0\n",
        "max_char = None\n",
        "for i in a.lower():\n",
        "        c = b.count(i)\n",
        "        if c > max_count:\n",
        "            max_count = c\n",
        "            max_char = i\n",
        "print(\"Чаще всего встречается символ : \", max_char,\"Частота появления: \", max_count)"
      ],
      "execution_count": 97,
      "outputs": [
        {
          "output_type": "stream",
          "text": [
            "Введите строку: qwkwuuuuu\n",
            "Чаще всего встречается символ :  u Частота появления:  5\n"
          ],
          "name": "stdout"
        }
      ]
    },
    {
      "cell_type": "markdown",
      "metadata": {
        "id": "E78oWt1LF_9c",
        "colab_type": "text"
      },
      "source": [
        "# Задача 2\n",
        "С клавиатуры вводится пароль.\n",
        "\n",
        "Необходимо проверить корректность пароля. Пароль должен содержать как минимум 1 цифру, 1 букву нижнего регистра и 1 букву верхнего регистра и быть длинной > 10 символов. "
      ]
    },
    {
      "cell_type": "code",
      "metadata": {
        "id": "w-ioTPNQF_9c",
        "colab_type": "code",
        "colab": {
          "base_uri": "https://localhost:8080/",
          "height": 68
        },
        "outputId": "dca9ee4d-e55a-44c5-add2-8220f2419619"
      },
      "source": [
        "# Ваше решение\n",
        "s=input(\"Введите пароль: \")\n",
        "l=len(s)\n",
        "if l<11:\n",
        " print(\"Недостаточно символов\")\n",
        "cifr=0\n",
        "b_str=0\n",
        "b_zagl=0\n",
        "for i in s:\n",
        "  if s.isdigit():\n",
        "   cifr+=1\n",
        "for i in s:\n",
        "  if s.islower():\n",
        "   b_str+=1\n",
        "for i in s:\n",
        "  if s.isupper():\n",
        "   b_zagl+=1\n",
        "print(cifr,b_str,b_zagl)\n",
        "if ((cifr>0) and (b_str>0) and (b_zagl>0)):\n",
        "  print(\"Пароль принят\")\n",
        "else:\n",
        "  print(\"Пароль не принят\")"
      ],
      "execution_count": 69,
      "outputs": [
        {
          "output_type": "stream",
          "text": [
            "Введите пароль: asdafsg25434DF\n",
            "0 0 0\n",
            "Пароль не принят\n"
          ],
          "name": "stdout"
        }
      ]
    },
    {
      "cell_type": "markdown",
      "metadata": {
        "id": "tjr8ZrpwF_9f",
        "colab_type": "text"
      },
      "source": [
        "# Задача 3\n",
        "С клавиатуры вводится две строки.\n",
        "\n",
        "Необходимо сравнить две строки, с учетом регистра.\n",
        "\n",
        "**Пример:** \"Иван Васильевич\" и \"Иван васильевич\" - различные строки"
      ]
    },
    {
      "cell_type": "code",
      "metadata": {
        "id": "jSWETEGoF_9g",
        "colab_type": "code",
        "colab": {
          "base_uri": "https://localhost:8080/",
          "height": 68
        },
        "outputId": "f5b49437-57b5-48b0-8443-901c746dc0ec"
      },
      "source": [
        "# Ваше решение\n",
        "a = input(\"Введите 1-ю строку: \")\n",
        "b = input(\"Введите 2-ю строку: \")\n",
        "c= 0\n",
        "for i in a:\n",
        "    if i not in b:\n",
        "        c = 1\n",
        "if c == 0:\n",
        "    print(\"Строки равны\")\n",
        "else:\n",
        "    print(\"Строки не равны\")"
      ],
      "execution_count": 71,
      "outputs": [
        {
          "output_type": "stream",
          "text": [
            "Введите 1-ю строку: Анрыор лорпыв\n",
            "Введите 2-ю строку: Анрыор Лорпыв\n",
            "Строки не равны\n"
          ],
          "name": "stdout"
        }
      ]
    },
    {
      "cell_type": "markdown",
      "metadata": {
        "id": "SuSiz4h4F_9m",
        "colab_type": "text"
      },
      "source": [
        "# Задача 4\n",
        "С клавиатуры вводится строка.\n",
        "\n",
        "Необходимо удалить из строки все пробелы и определить, является ли она перевертышем (палиндромом).\n",
        "\n",
        "**Пример палиндрома:** \"Кот учён, но не чуток\""
      ]
    },
    {
      "cell_type": "code",
      "metadata": {
        "scrolled": true,
        "id": "hIhKihTOF_9m",
        "colab_type": "code",
        "colab": {
          "base_uri": "https://localhost:8080/",
          "height": 51
        },
        "outputId": "ae3c77f1-7dba-48c1-84df-108c7f539f9e"
      },
      "source": [
        "# Ваше решение\n",
        "b=input('Введите строку: ')\n",
        "b=b.replace(' ','')\n",
        "l = len(b)\n",
        "i=0\n",
        "p=1\n",
        "while i < l//2:\n",
        "    if b[i] != b[-1-i]:\n",
        "        print('Не палиндром')\n",
        "        p = 0\n",
        "        break\n",
        "    i += 1\n",
        "if p == 1:\n",
        "    print('Палиндром')\n"
      ],
      "execution_count": 24,
      "outputs": [
        {
          "output_type": "stream",
          "text": [
            "Введите строку: Кот учен, но не чуток\n",
            "Не палиндром\n"
          ],
          "name": "stdout"
        }
      ]
    },
    {
      "cell_type": "markdown",
      "metadata": {
        "id": "SiuacfrVF_9p",
        "colab_type": "text"
      },
      "source": [
        "# Задача 5\n",
        "С клавиатуры вводится строка.\n",
        "\n",
        "Необходимо удалить из строки повторяющиеся символы. Вывести отдельно строку без повторяющихся символов. Пробелы оставить на своих местах."
      ]
    },
    {
      "cell_type": "code",
      "metadata": {
        "id": "SDJKd38oF_9q",
        "colab_type": "code",
        "colab": {
          "base_uri": "https://localhost:8080/",
          "height": 51
        },
        "outputId": "036d3e27-c14f-4fe2-c936-402460c7af92"
      },
      "source": [
        "# Ваше решение\n",
        "\n",
        "s=input('Введите строку: ')\n",
        "a = [None]\n",
        "for i in s:\n",
        "    if i != a[-1]: a.append(i)\n",
        "s_out = ''.join(a[1:])\n",
        "print(s_out)"
      ],
      "execution_count": 102,
      "outputs": [
        {
          "output_type": "stream",
          "text": [
            "Введите строку: ffghttt uhuhyy\n",
            "fght uhuhy\n"
          ],
          "name": "stdout"
        }
      ]
    }
  ]
}
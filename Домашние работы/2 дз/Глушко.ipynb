{
  "nbformat": 4,
  "nbformat_minor": 0,
  "metadata": {
    "kernelspec": {
      "display_name": "Python 3",
      "language": "python",
      "name": "python3"
    },
    "language_info": {
      "codemirror_mode": {
        "name": "ipython",
        "version": 3
      },
      "file_extension": ".py",
      "mimetype": "text/x-python",
      "name": "python",
      "nbconvert_exporter": "python",
      "pygments_lexer": "ipython3",
      "version": "3.7.1"
    },
    "colab": {
      "name": "DGlushko_03_strings_homework.ipynb",
      "provenance": [],
      "collapsed_sections": []
    }
  },
  "cells": [
    {
      "cell_type": "markdown",
      "metadata": {
        "id": "hINacSWFHYRW",
        "colab_type": "text"
      },
      "source": [
        "#### Мягкий дедлайн: 25 сентября 23:59\n",
        "#### Жесткий дедлайн: 2 октября 23:59\n",
        "\n",
        "\n",
        "Отправляйте Notebook файл с решение по адресу homeituniversity@gmail.com\n",
        "\n",
        "Тема письма: Python курс > ДЗ 2 > ФИО"
      ]
    },
    {
      "cell_type": "markdown",
      "metadata": {
        "id": "deZuL7vVF_9O",
        "colab_type": "text"
      },
      "source": [
        "# Задача 1\n",
        "Дана строка (вводится с клавиатуры).\n",
        "\n",
        "Найдите наиболее часто встречаемый символ в строке. Отобразить в консоль сам символ и частоту его появления."
      ]
    },
    {
      "cell_type": "code",
      "metadata": {
        "id": "4GQbXK-IF_9Q",
        "colab_type": "code",
        "colab": {}
      },
      "source": [
        "# Ваше решение\n",
        "\n",
        "string=str(input(\"Enter ur string: \"))\n",
        "a=0\n",
        "\n",
        "for i in range(len(string)):\n",
        "  if string.count(string[i]) > a:\n",
        "    a=string.count(string[i])\n",
        "    b=string[i]\n",
        "print(\"Sing: \", b, \"\\nCount: \", a)"
      ],
      "execution_count": 0,
      "outputs": []
    },
    {
      "cell_type": "markdown",
      "metadata": {
        "id": "E78oWt1LF_9c",
        "colab_type": "text"
      },
      "source": [
        "# Задача 2\n",
        "С клавиатуры вводится пароль.\n",
        "\n",
        "Необходимо проверить корректность пароля. Пароль должен содержать как минимум 1 цифру, 1 букву нижнего регистра и 1 букву верхнего регистра и быть длинной > 10 символов. "
      ]
    },
    {
      "cell_type": "code",
      "metadata": {
        "id": "w-ioTPNQF_9c",
        "colab_type": "code",
        "colab": {}
      },
      "source": [
        "# Ваше решение\n",
        "\n",
        "print(\"Enter ur pass: \")\n",
        "password = str(input())\n",
        "\n",
        "\n",
        "if any([x.isdigit() for x in password]):\n",
        "    if any([x.isupper() for x in password]):\n",
        "        if len(password) > 10:\n",
        "            if any([x.islower() for x in password]):\n",
        "                print(\"True\")\n",
        "            else:\n",
        "                print(\"Пароль должен содержать хотя бы 1 букву в нижнем регистре\")\n",
        "        else:\n",
        "            print(\"Пароль должен быть 10 и более символов\")\n",
        "    else:\n",
        "        print(\"Пароль должен содержать хотя бы 1 букву в верхнем регистре\")\n",
        "else:\n",
        "    print(\"Пароль должен содержать хотя бы 1 цифру\")"
      ],
      "execution_count": 0,
      "outputs": []
    },
    {
      "cell_type": "markdown",
      "metadata": {
        "id": "tjr8ZrpwF_9f",
        "colab_type": "text"
      },
      "source": [
        "# Задача 3\n",
        "С клавиатуры вводится две строки.\n",
        "\n",
        "Необходимо сравнить две строки, с учетом регистра.\n",
        "\n",
        "**Пример:** \"Иван Васильевич\" и \"Иван васильевич\" - различные строки"
      ]
    },
    {
      "cell_type": "code",
      "metadata": {
        "id": "jSWETEGoF_9g",
        "colab_type": "code",
        "colab": {}
      },
      "source": [
        "# Ваше решение\n",
        "\n",
        "print(\"Строка с клавиатуры: \")\n",
        "string = str(input())\n",
        "\n",
        "print(\"Строка с клавиатуры: \")\n",
        "string2 = str(input())\n",
        "\n",
        "if string == string2:\n",
        "    print(\"Строки совпадают\")\n",
        "else:\n",
        "    print(\"В строках есть различия\")"
      ],
      "execution_count": 0,
      "outputs": []
    },
    {
      "cell_type": "markdown",
      "metadata": {
        "id": "SuSiz4h4F_9m",
        "colab_type": "text"
      },
      "source": [
        "# Задача 4\n",
        "С клавиатуры вводится строка.\n",
        "\n",
        "Необходимо удалить из строки все пробелы и определить, является ли она перевертышем (палиндромом).\n",
        "\n",
        "**Пример палиндрома:** \"Кот учён, но не чуток\""
      ]
    },
    {
      "cell_type": "code",
      "metadata": {
        "scrolled": true,
        "id": "hIhKihTOF_9m",
        "colab_type": "code",
        "colab": {
          "base_uri": "https://localhost:8080/",
          "height": 68
        },
        "outputId": "d4592f6e-9e47-40d0-b899-e17963d2ee55"
      },
      "source": [
        "# Ваше решение\n",
        "\n",
        "string = \"мало в мыле цены ныне целым волам\"\n",
        "print()\n",
        "\n",
        "mod_string = string.replace(' ', '')\n",
        "print(mod_string)\n",
        "\n",
        "if mod_string == mod_string[::-1]:\n",
        "    print(\"Это полидром: \", string)\n",
        "else:\n",
        "    print(\"Вранье\")"
      ],
      "execution_count": 4,
      "outputs": [
        {
          "output_type": "stream",
          "text": [
            "\n",
            "маловмылеценынынецелымволам\n",
            "Это полидром:  мало в мыле цены ныне целым волам\n"
          ],
          "name": "stdout"
        }
      ]
    },
    {
      "cell_type": "markdown",
      "metadata": {
        "id": "SiuacfrVF_9p",
        "colab_type": "text"
      },
      "source": [
        "# Задача 5\n",
        "С клавиатуры вводится строка.\n",
        "\n",
        "Необходимо удалить из строки повторяющиеся символы. Вывести отдельно строку без повторяющихся символов. Пробелы оставить на своих местах."
      ]
    },
    {
      "cell_type": "code",
      "metadata": {
        "id": "SDJKd38oF_9q",
        "colab_type": "code",
        "colab": {}
      },
      "source": [
        "# Ваше решение\n",
        "\n",
        "string = input('enter string: ')\n",
        "\n",
        "result = ''.join([x for x in string if string.count(x) == 1 or x == ' '])\n",
        "print(result)"
      ],
      "execution_count": 0,
      "outputs": []
    }
  ]
}
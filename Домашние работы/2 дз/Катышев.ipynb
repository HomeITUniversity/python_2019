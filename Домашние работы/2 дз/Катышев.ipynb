{
 "cells": [
  {
   "cell_type": "markdown",
   "metadata": {
    "colab_type": "text",
    "id": "hINacSWFHYRW"
   },
   "source": [
    "#### Мягкий дедлайн: 25 сентября 23:59\n",
    "#### Жесткий дедлайн: 2 октября 23:59\n",
    "\n",
    "\n",
    "Отправляйте Notebook файл с решение по адресу homeituniversity@gmail.com\n",
    "\n",
    "Тема письма: Python курс > ДЗ 2 > ФИО"
   ]
  },
  {
   "cell_type": "markdown",
   "metadata": {
    "colab_type": "text",
    "id": "deZuL7vVF_9O"
   },
   "source": [
    "# Задача 1\n",
    "Дана строка (вводится с клавиатуры).\n",
    "\n",
    "Найдите наиболее часто встречаемый символ в строке. Отобразить в консоль сам символ и частоту его появления."
   ]
  },
  {
   "cell_type": "code",
   "execution_count": 1,
   "metadata": {
    "colab": {
     "base_uri": "https://localhost:8080/",
     "height": 134
    },
    "colab_type": "code",
    "id": "4GQbXK-IF_9Q",
    "outputId": "60229d84-2a83-4a12-c71c-e400f4c0c379"
   },
   "outputs": [
    {
     "name": "stdout",
     "output_type": "stream",
     "text": [
      "Введите сторку\n",
      "abcdpppbv\n",
      "\n",
      "В веденной Вами строке наиболее часто встречаемые символы:\n",
      "p\n",
      "\n",
      "Количество повторений в строке: 3\n"
     ]
    }
   ],
   "source": [
    "# Вычисляем наибольшую частоту появления (count)символа в строке\n",
    "count=0\n",
    "\n",
    "\n",
    "s=str(input('Введите сторку\\n'))\n",
    "\n",
    "for i in s:\n",
    "  if count<s.count(i):\n",
    "    count=s.count(i)\n",
    "\n",
    "    \n",
    "print('\\nВ веденной Вами строке наиболее часто встречаемые символы:')\n",
    "\n",
    "# Выводим все символы из стори, которые встречаются count раз\n",
    "k=0 # Сколько таких символов\n",
    "for i in s:\n",
    "  if count==s.count(i):\n",
    "    print(i)\n",
    "    k+=1\n",
    "    s=s.replace(i,'')\n",
    "    \n",
    "print('\\nКоличество повторений в строке:',count)\n"
   ]
  },
  {
   "cell_type": "code",
   "execution_count": 1,
   "metadata": {
    "colab": {
     "base_uri": "https://localhost:8080/",
     "height": 101
    },
    "colab_type": "code",
    "id": "hV0qS-7Emktd",
    "outputId": "af36b015-7e0d-4e0e-9e4f-c36b86ece834"
   },
   "outputs": [
    {
     "name": "stdout",
     "output_type": "stream",
     "text": [
      "Введите сторку\n",
      "aaa ba ad a\n",
      "aaa ba ad a\n",
      "a\n",
      " b d \n",
      " \n",
      "bd\n",
      "b\n",
      "d\n",
      "d\n",
      "\n",
      "В веденной Вами строке наиболее часто встречаемый символ: \"a\" \n",
      "Количество повторений в строке: 6\n"
     ]
    }
   ],
   "source": [
    "# Второе решение\n",
    "count=0\n",
    "letters=''\n",
    "s=str(input('Введите сторку\\n'))\n",
    "\n",
    "\n",
    "while s!='':\n",
    "  print(s)\n",
    "  print(s[0])\n",
    "  \n",
    "  if count==s.count(s[0]):\n",
    "    letters+='\"'+s[0]+'\"'\n",
    "    k=1\n",
    "    \n",
    "  if count<s.count(s[0]):\n",
    "    letters='\"'+s[0]+'\"'\n",
    "    k=0\n",
    "    count=s.count(s[0])\n",
    "    \n",
    "  s=s.replace(s[0],'')\n",
    "  \n",
    "  \n",
    "if k==0:\n",
    "  print('\\nВ веденной Вами строке наиболее часто встречаемый символ:',letters,'\\nКоличество повторений в строке:',count)\n",
    "else:\n",
    "  print('\\nВ веденной Вами строке наиболее часто встречаемые символы:',letters.replace('\"\"','\",\"'),'\\nКоличество повторений в строке:',count)"
   ]
  },
  {
   "cell_type": "markdown",
   "metadata": {
    "colab_type": "text",
    "id": "E78oWt1LF_9c"
   },
   "source": [
    "# Задача 2\n",
    "С клавиатуры вводится пароль.\n",
    "\n",
    "Необходимо проверить корректность пароля. Пароль должен содержать как минимум 1 цифру, 1 букву нижнего регистра и 1 букву верхнего регистра и быть длинной > 10 символов. "
   ]
  },
  {
   "cell_type": "code",
   "execution_count": 9,
   "metadata": {
    "colab": {},
    "colab_type": "code",
    "id": "w-ioTPNQF_9c"
   },
   "outputs": [
    {
     "name": "stdout",
     "output_type": "stream",
     "text": [
      "Введите пароль:\n",
      "121asaA\n",
      "False\n",
      "Введен некорректный парроль!!!\n"
     ]
    }
   ],
   "source": [
    "pwd=str(input('Введите пароль:\\n'))\n",
    "if pwd.islower() or pwd.isupper() or pwd.isalpha() or pwd.isdigit() or (len(pwd)<10):\n",
    "  print('Введен некорректный парроль!!!')\n",
    "else:\n",
    "  print('Пароль корректный')"
   ]
  },
  {
   "cell_type": "markdown",
   "metadata": {
    "colab_type": "text",
    "id": "tjr8ZrpwF_9f"
   },
   "source": [
    "# Задача 3\n",
    "С клавиатуры вводится две строки.\n",
    "\n",
    "Необходимо сравнить две строки, с учетом регистра.\n",
    "\n",
    "**Пример:** \"Иван Васильевич\" и \"Иван васильевич\" - различные строки"
   ]
  },
  {
   "cell_type": "code",
   "execution_count": 0,
   "metadata": {
    "colab": {
     "base_uri": "https://localhost:8080/",
     "height": 101
    },
    "colab_type": "code",
    "id": "jSWETEGoF_9g",
    "outputId": "3aae97a1-c020-4785-80b0-08f64f86eed1"
   },
   "outputs": [
    {
     "name": "stdout",
     "output_type": "stream",
     "text": [
      "Введите первую строку\n",
      "Лёша на полке клопа нашел!\n",
      "Введите вторую строку\n",
      "Лёша на полке клопа нашел\n",
      "Строки разные\n"
     ]
    }
   ],
   "source": [
    "s1=str(input('Введите первую строку\\n'))\n",
    "s2=str(input('Введите вторую строку\\n'))\n",
    "\n",
    "if s1==s2:\n",
    "  print('Строки одинаковые')\n",
    "else:\n",
    "  print('Строки разные')\n"
   ]
  },
  {
   "cell_type": "markdown",
   "metadata": {
    "colab_type": "text",
    "id": "SuSiz4h4F_9m"
   },
   "source": [
    "# Задача 4\n",
    "С клавиатуры вводится строка.\n",
    "\n",
    "Необходимо удалить из строки все пробелы и определить, является ли она перевертышем (палиндромом).\n",
    "\n",
    "**Пример палиндрома:** \"Кот учён, но не чуток\""
   ]
  },
  {
   "cell_type": "code",
   "execution_count": 0,
   "metadata": {
    "colab": {
     "base_uri": "https://localhost:8080/",
     "height": 67
    },
    "colab_type": "code",
    "id": "hIhKihTOF_9m",
    "outputId": "5432914e-55f4-4d58-f5e4-7746e934bfb1",
    "scrolled": true
   },
   "outputs": [
    {
     "name": "stdout",
     "output_type": "stream",
     "text": [
      "Введите строку\n",
      "Лёша на полке клопа нашел!\n",
      "Это был палиндром\n"
     ]
    }
   ],
   "source": [
    "s=str(input('Введите строку\\n')).replace('ё','е').lower()\n",
    "b=''\n",
    "for i in s:\n",
    "  if i.isalnum():\n",
    "    b+=i\n",
    "if b==b[::-1]:\n",
    "  print('Это был палиндром')\n",
    "else:\n",
    "  print('НЕ палиндром')"
   ]
  },
  {
   "cell_type": "markdown",
   "metadata": {
    "colab_type": "text",
    "id": "SiuacfrVF_9p"
   },
   "source": [
    "# Задача 5\n",
    "С клавиатуры вводится строка.\n",
    "\n",
    "Необходимо удалить из строки повторяющиеся символы. Вывести отдельно строку без повторяющихся символов. Пробелы оставить на своих местах."
   ]
  },
  {
   "cell_type": "code",
   "execution_count": 0,
   "metadata": {
    "colab": {
     "base_uri": "https://localhost:8080/",
     "height": 84
    },
    "colab_type": "code",
    "id": "SDJKd38oF_9q",
    "outputId": "4490ee7f-842a-421c-d93d-d5ffe5345f1c"
   },
   "outputs": [
    {
     "name": "stdout",
     "output_type": "stream",
     "text": [
      "Введите строку\n",
      " 1 1 1 1 1 2 2 2 2 3 3 3 3 3 3 6 6 6 6 6 5 5 5 2 2 2 4 4 4 8 6 5 4 9\n",
      "Строка без повторений:\n",
      " 1     2    3      6     5      4   8    9\n"
     ]
    }
   ],
   "source": [
    "s=str(input('Введите строку\\n '))\n",
    "d=''\n",
    "while s!='':\n",
    "  d+=s[0]\n",
    "  if s[0]==' ':\n",
    "    s=s[1:]\n",
    "  else:\n",
    "    s=s.replace(s[0],'')\n",
    "print('Строка без повторений:\\n',d)"
   ]
  }
 ],
 "metadata": {
  "colab": {
   "collapsed_sections": [],
   "name": "Python курс > ДЗ 2 > Катышев Арсений Олегович.ipynb",
   "provenance": [],
   "toc_visible": true
  },
  "kernelspec": {
   "display_name": "Python 3",
   "language": "python",
   "name": "python3"
  },
  "language_info": {
   "codemirror_mode": {
    "name": "ipython",
    "version": 3
   },
   "file_extension": ".py",
   "mimetype": "text/x-python",
   "name": "python",
   "nbconvert_exporter": "python",
   "pygments_lexer": "ipython3",
   "version": "3.7.1"
  }
 },
 "nbformat": 4,
 "nbformat_minor": 1
}

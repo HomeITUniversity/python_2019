{
  "nbformat": 4,
  "nbformat_minor": 0,
  "metadata": {
    "kernelspec": {
      "display_name": "Python 3",
      "language": "python",
      "name": "python3"
    },
    "language_info": {
      "codemirror_mode": {
        "name": "ipython",
        "version": 3
      },
      "file_extension": ".py",
      "mimetype": "text/x-python",
      "name": "python",
      "nbconvert_exporter": "python",
      "pygments_lexer": "ipython3",
      "version": "3.7.1"
    },
    "colab": {
      "name": "ДЗ_№5_KatyshevArsen.ipynb",
      "provenance": [],
      "collapsed_sections": []
    }
  },
  "cells": [
    {
      "cell_type": "markdown",
      "metadata": {
        "id": "qAL0P_R_Drfo",
        "colab_type": "text"
      },
      "source": [
        "# Домашняя работа по теме Функции\n",
        "\n",
        "# Задача 1"
      ]
    },
    {
      "cell_type": "markdown",
      "metadata": {
        "id": "3gXYWtHCDrfp",
        "colab_type": "text"
      },
      "source": [
        "Вы разработчик в фирме по разработке программного обеспечения.\n",
        "\n",
        "Вам досталась задача по разработке функции синтеза чисел в слова.\n",
        "\n",
        "4 -> \"четыре\"<br>\n",
        "122 -> \"сто двадцать два\"<br>\n",
        "55 -> \"пятьдесят пять\"<br>\n",
        "\n",
        "Вам необходимо реализовать функцию digit_to_words.<br>\n",
        "Функция должна принимать в качестве аргумента число целое.<br>\n",
        "На выходе функция должна возвращать строку после преобразования в текст.<br>\n",
        "\n",
        "Ограничение в размерности числа на входе - 3 разряда. (999 - максимальное число)"
      ]
    },
    {
      "cell_type": "code",
      "metadata": {
        "id": "Ko5_rPKWDrfq",
        "colab_type": "code",
        "outputId": "bb68287e-39f6-4f9c-b285-5765839198cf",
        "colab": {
          "base_uri": "https://localhost:8080/",
          "height": 202
        }
      },
      "source": [
        "#ваш код тут\n",
        "def digit_to_words(n):\n",
        "  \n",
        "  if n==100:\n",
        "    return 'сто'\n",
        "  if n==200:\n",
        "    return 'двести'\n",
        "  if n==300:\n",
        "    return 'триста'\n",
        "  if n==400:\n",
        "    return 'четыреста'\n",
        "  if n==500:\n",
        "    return 'пятьсот'\n",
        "  if n==600:\n",
        "    return 'шестьсот'\n",
        "  if n==700:\n",
        "    return 'семьсот'\n",
        "  if n==800:\n",
        "    return 'восемьсот'\n",
        "  if n==900:\n",
        "    return 'девятьсот'\n",
        "  \n",
        "  if n==10:\n",
        "    return 'десять'\n",
        "  if n==20:\n",
        "    return 'двадцать'\n",
        "  if n==30:\n",
        "    return 'тридцать'\n",
        "  if n==40:\n",
        "    return 'сорок'\n",
        "  if n==50:\n",
        "    return 'пятьдесят'\n",
        "  if n==60:\n",
        "    return 'шестьдесят'\n",
        "  if n==70:\n",
        "    return 'семьдесят'\n",
        "  if n==80:\n",
        "    return 'восемьдесят'\n",
        "  if n==90:\n",
        "    return 'девяносто'\n",
        "  \n",
        "  if n==11:\n",
        "    return 'одиннадцать'\n",
        "  if n==12:\n",
        "    return 'двенадцать'\n",
        "  if n==13:\n",
        "    return 'тринадцать'\n",
        "  if n==14:\n",
        "    return 'четырнадцать'\n",
        "  if n==15:\n",
        "    return 'пятнадцать'\n",
        "  if n==16:\n",
        "    return 'шестнадцать'\n",
        "  if n==17:\n",
        "    return 'семнадцать'\n",
        "  if n==18:\n",
        "    return 'восемнадцать'\n",
        "  if n==19:\n",
        "    return 'девятнадцать'\n",
        "  \n",
        "  if n==1:\n",
        "    return 'один'\n",
        "  if n==2:\n",
        "    return 'два'\n",
        "  if n==3:\n",
        "    return 'три'\n",
        "  if n==4:\n",
        "    return 'четыре'\n",
        "  if n==5:\n",
        "    return 'пять'\n",
        "  if n==6:\n",
        "    return 'шесть'\n",
        "  if n==7:\n",
        "    return 'семь'\n",
        "  if n==8:\n",
        "    return 'восемь'\n",
        "  if n==9:\n",
        "    return 'девять'\n",
        "  if n==0:\n",
        "    return 'ноль'\n",
        "  \n",
        "  \n",
        "  for i in range(10,20):\n",
        "    if n%100==i:\n",
        "      return digit_to_words(n-i)+' '+digit_to_words(i)\n",
        "  for i in range(1,10):\n",
        "    if n%10==i:\n",
        "      return digit_to_words(n-i)+' '+digit_to_words(i)\n",
        "  for i in range(2,10):\n",
        "    if n%100==i*10:\n",
        "      return digit_to_words(n-i*10)+' '+digit_to_words(i*10)\n",
        "    \n",
        "    \n",
        "    \n",
        "import random\n",
        "random_list = [random.randint(0, 1000) for i in range(10)]\n",
        "for i in random_list:\n",
        "  print(i,digit_to_words(i))\n",
        "assert digit_to_words(4)=='четыре'\n",
        "assert digit_to_words(143)=='сто сорок три'\n",
        "assert digit_to_words(12)=='двенадцать'\n",
        "assert digit_to_words(101)=='сто один'\n",
        "assert digit_to_words(212)=='двести двенадцать'\n",
        "assert digit_to_words(40)=='сорок'\n",
        "\n",
        "\n",
        "print(\"ОК\")"
      ],
      "execution_count": 103,
      "outputs": [
        {
          "output_type": "stream",
          "text": [
            "41 сорок один\n",
            "317 триста семнадцать\n",
            "662 шестьсот шестьдесят два\n",
            "722 семьсот двадцать два\n",
            "419 четыреста девятнадцать\n",
            "511 пятьсот одиннадцать\n",
            "600 шестьсот\n",
            "911 девятьсот одиннадцать\n",
            "135 сто тридцать пять\n",
            "116 сто шестнадцать\n",
            "ОК\n"
          ],
          "name": "stdout"
        }
      ]
    },
    {
      "cell_type": "code",
      "metadata": {
        "id": "RYfVOzBu_UZH",
        "colab_type": "code",
        "colab": {
          "base_uri": "https://localhost:8080/",
          "height": 202
        },
        "outputId": "22ea2118-e9b1-46e3-87ea-50b94a79f593"
      },
      "source": [
        "def f(n):\n",
        "  a={\n",
        "      0:'ноль',\n",
        "      1:'один',\n",
        "      2:'два',\n",
        "      3:'три',\n",
        "      4:'четыре',\n",
        "      5:'пять',\n",
        "      6:'шесть',\n",
        "      7:'семь',\n",
        "      8:'восемь',\n",
        "      9:'девять',\n",
        "      10:'десять',\n",
        "      11:'одиннадцать',\n",
        "      12:'двенадцать',\n",
        "      13:'тринадцать',\n",
        "      14:'четырнадцать',\n",
        "      15:'пятнадцать',\n",
        "      16:'шестнадцать',\n",
        "      17:'семнадцать',\n",
        "      18:'восемнадцать',\n",
        "      19:'девятнадцать',\n",
        "      20:'двадцать',\n",
        "      30:'тридцать',\n",
        "      40:'сорок',\n",
        "      50:'пятьдесят',\n",
        "      60:'шестьдесят',\n",
        "      70:'семьдесят',\n",
        "      80:'восемьдесят',\n",
        "      90:'девяносто',\n",
        "      100:'сто',\n",
        "      200:'двести',\n",
        "      300:'триста',\n",
        "      400:'четыреста',\n",
        "      500:'пятьсот',\n",
        "      600:'шестьсот',\n",
        "      700:'семьсот',\n",
        "      800:'восемьсот',\n",
        "      900:'девятьсот'\n",
        "  }\n",
        "  s=''\n",
        "  for j in range(1000):\n",
        "    for i in range(10,20):\n",
        "      if a.get(j,0)==0 and j%100==i:\n",
        "        a[j]=a[j-i]+' '+a[i]\n",
        "    for i in range(1,10):\n",
        "      if a.get(j,0)==0 and j%10==i:\n",
        "        a[j]=a[j-i]+' '+a[i]\n",
        "    for i in range(2,10):\n",
        "      if a.get(j,0)==0 and j%100==i*10:\n",
        "        a[j]=a[j-i*10]+' '+a[i*10]\n",
        "  return a[n]\n",
        "  \n",
        "  \n",
        "import random\n",
        "random_list = [random.randint(0, 1000) for i in range(10)]\n",
        "for i in random_list:\n",
        "  print(i,f(i))\n",
        "assert f(4)=='четыре'\n",
        "assert f(143)=='сто сорок три'\n",
        "assert f(12)=='двенадцать'\n",
        "assert f(101)=='сто один'\n",
        "assert f(212)=='двести двенадцать'\n",
        "assert f(40)=='сорок'\n",
        "\n",
        "\n",
        "print(\"ОК\")"
      ],
      "execution_count": 108,
      "outputs": [
        {
          "output_type": "stream",
          "text": [
            "630 шестьсот тридцать\n",
            "928 девятьсот двадцать восемь\n",
            "875 восемьсот семьдесят пять\n",
            "680 шестьсот восемьдесят\n",
            "154 сто пятьдесят четыре\n",
            "395 триста девяносто пять\n",
            "206 двести шесть\n",
            "933 девятьсот тридцать три\n",
            "636 шестьсот тридцать шесть\n",
            "512 пятьсот двенадцать\n",
            "ОК\n"
          ],
          "name": "stdout"
        }
      ]
    },
    {
      "cell_type": "markdown",
      "metadata": {
        "id": "rLbil1CTDrfu",
        "colab_type": "text"
      },
      "source": [
        "# Задача 2"
      ]
    },
    {
      "cell_type": "markdown",
      "metadata": {
        "id": "K9xxA3mRDrfv",
        "colab_type": "text"
      },
      "source": [
        "Вам необходимо разработать функцию time_converter по преобразованию времени.\n",
        "На входе время в 12 часовом формате американском, на выходе время в 24 часовом формате.\n"
      ]
    },
    {
      "cell_type": "code",
      "metadata": {
        "id": "VVAu9gUwDrfv",
        "colab_type": "code",
        "outputId": "054bcd50-2cbb-4d42-bb30-dbca1d5536ee",
        "colab": {
          "base_uri": "https://localhost:8080/",
          "height": 34
        }
      },
      "source": [
        "#ваша функция здесь\n",
        "def time_converter(s):\n",
        "  s=s.replace('.','')\n",
        "  return time.strftime('%H:%M',time.strptime(s,'%I:%M %p'))\n",
        "\n",
        "import time\n",
        "assert time_converter('12:30 p.m.') == '12:30'\n",
        "assert time_converter('9:00 a.m.') == '09:00'\n",
        "assert time_converter('11:15 p.m.') == '23:15'\n",
        "\n",
        "print(\"OK\")"
      ],
      "execution_count": 109,
      "outputs": [
        {
          "output_type": "stream",
          "text": [
            "OK\n"
          ],
          "name": "stdout"
        }
      ]
    },
    {
      "cell_type": "markdown",
      "metadata": {
        "id": "GrglCtfTDrfz",
        "colab_type": "text"
      },
      "source": [
        "# Задача 3\n",
        "У вас есть программируемая диодная лента. Светодиоды могут светиться 7 цветами.<br>\n",
        "Каждый цвет включается в зависимости от подаваемого на контакты управления сигнала. <br>\n",
        "Кодировка сигналов представленна ниже:<br>\n",
        "\n",
        "Красный - 1<br>\n",
        "Оранжевый - 6<br>\n",
        "Желтый - 2<br>\n",
        "Зеленый - 4<br>\n",
        "Голубой - 5<br>\n",
        "Синий - 3<br>\n",
        "Фиолетовый - 7<br>\n",
        "Черный(выключение светодиодов) - 0<br>\n",
        "\n",
        "Вам необходимо разработать программу управления светодиодной лентой.<br>\n",
        "В данной задаче работу ленты эмулирует функция colored_light_on_dec.<br>\n",
        "\n",
        "Ваша задача(часть 1):<br>\n",
        "Разработать функцию lamp_regulator.<br>\n",
        "Входные данные: список в котором задана последовательность включения лампочек.<br>\n",
        "Выходные данные: Функция проигрывает цвета, которыми будет светиться лампочка. Интервал между цветами 5 секунд. Если последовательность цветов закончилась, значит начинаем с начала.<br>\n",
        "Ограничение на время проигрывания цветов 60 секунд(даже если не доиграли программу).<br>\n",
        "\n",
        "\n",
        "Вы купили вторую диодную ленту, только в отличие от первой, она управляется бинарными сигналами.<br>\n",
        "Ваша задача(часть 2):<br>\n",
        "\n",
        "Разработать функцию dec_to_binary.<br>\n",
        "Входные данные: числа в 10 системе счисления.<br>\n",
        "Выходные данные: числа в двоичной системе счисления.<br>\n",
        "\n",
        "Вам необходимо зажигать лампочки на обоих лентах сразу. В данной задаче работу второй ленты эмулирует функция colored_light_on_bin.<br>\n"
      ]
    },
    {
      "cell_type": "code",
      "metadata": {
        "id": "YaSBFIhqDrf0",
        "colab_type": "code",
        "outputId": "184e794f-a00d-4064-d482-2065a494fb8c",
        "colab": {
          "base_uri": "https://localhost:8080/",
          "height": 890
        }
      },
      "source": [
        "lamps = {\n",
        "    'bin':{\n",
        "        '0b0': \"Черный\",\n",
        "        '0b1': \"Красный\",\n",
        "        '0b10': \"Желтый\",\n",
        "        '0b11': \"Синий\",\n",
        "        '0b100': \"Зеленый\",\n",
        "        '0b101': \"Голубой\",\n",
        "        '0b110': \"Оранжевый\",\n",
        "        '0b111': \"Фиолетовый\"\n",
        "    },\n",
        "    'dec':{\n",
        "        0: \"Черный\",\n",
        "        1: \"Красный\",\n",
        "        2: \"Желтый\",\n",
        "        3: \"Синий\",\n",
        "        4: \"Зеленый\",\n",
        "        5: \"Голубой\",\n",
        "        6: \"Оранжевый\",\n",
        "        7: \"Фиолетовый\"\n",
        "    }\n",
        "}\n",
        "\n",
        "def colored_light_on_dec(signal):\n",
        "    print(\"Signal\", signal, \"Лампочки светятся цветом:\", lamps['dec'][signal]) if lamps['dec'].get(signal, False) is not False else print(\"Signal\", signal, \"Лампочки светятся цветом:\", \"Черный\")\n",
        "    \n",
        "def colored_light_on_bin(signal):\n",
        "    print(\"Signal\", signal, \"Лампочки светятся цветом:\", lamps['bin'][signal]) if lamps['bin'].get(signal, False) is not False else print(\"Signal\", signal, \"Лампочки светятся цветом:\", \"Черный\")\n",
        "\n",
        "#программа зажигания лампочек\n",
        "programm = ['Красный', 'Зеленый', 'Черный', 'Синий', 'Фиолетовый', 'Голубой', 'Оранжевый', 'Желтый']\n",
        "\n",
        "# Ваш код тут\n",
        "\n",
        "# def tobin(n):\n",
        "#   if n<2:\n",
        "#     return str(n)\n",
        "#   return tobin(n//2)+str(n%2)\n",
        "  \n",
        "\n",
        "from datetime import datetime\n",
        "import time\n",
        "start = datetime.now()\n",
        "while (datetime.now()-start).seconds<60:\n",
        "  for i in programm:\n",
        "    if (datetime.now()-start).seconds>60:\n",
        "      break\n",
        "      \n",
        "    for k,v in lamps['dec'].items():\n",
        "      if v==i:\n",
        "        colored_light_on_dec(k)\n",
        "    for k,v in lamps['bin'].items():\n",
        "      if v==i:\n",
        "        colored_light_on_bin(k)\n",
        "    print(datetime.now())\n",
        "    print(start)\n",
        "    time.sleep(5)\n"
      ],
      "execution_count": 72,
      "outputs": [
        {
          "output_type": "stream",
          "text": [
            "Signal 1 Лампочки светятся цветом: Красный\n",
            "Signal 0b1 Лампочки светятся цветом: Красный\n",
            "2019-10-16 20:02:52.853320\n",
            "2019-10-16 20:02:52.851362\n",
            "Signal 4 Лампочки светятся цветом: Зеленый\n",
            "Signal 0b100 Лампочки светятся цветом: Зеленый\n",
            "2019-10-16 20:02:57.859732\n",
            "2019-10-16 20:02:52.851362\n",
            "Signal 0 Лампочки светятся цветом: Черный\n",
            "Signal 0b0 Лампочки светятся цветом: Черный\n",
            "2019-10-16 20:03:02.865371\n",
            "2019-10-16 20:02:52.851362\n",
            "Signal 3 Лампочки светятся цветом: Синий\n",
            "Signal 0b11 Лампочки светятся цветом: Синий\n",
            "2019-10-16 20:03:07.870889\n",
            "2019-10-16 20:02:52.851362\n",
            "Signal 7 Лампочки светятся цветом: Фиолетовый\n",
            "Signal 0b111 Лампочки светятся цветом: Фиолетовый\n",
            "2019-10-16 20:03:12.876466\n",
            "2019-10-16 20:02:52.851362\n",
            "Signal 5 Лампочки светятся цветом: Голубой\n",
            "Signal 0b101 Лампочки светятся цветом: Голубой\n",
            "2019-10-16 20:03:17.882012\n",
            "2019-10-16 20:02:52.851362\n",
            "Signal 6 Лампочки светятся цветом: Оранжевый\n",
            "Signal 0b110 Лампочки светятся цветом: Оранжевый\n",
            "2019-10-16 20:03:22.887498\n",
            "2019-10-16 20:02:52.851362\n",
            "Signal 2 Лампочки светятся цветом: Желтый\n",
            "Signal 0b10 Лампочки светятся цветом: Желтый\n",
            "2019-10-16 20:03:27.893168\n",
            "2019-10-16 20:02:52.851362\n",
            "Signal 1 Лампочки светятся цветом: Красный\n",
            "Signal 0b1 Лампочки светятся цветом: Красный\n",
            "2019-10-16 20:03:32.898666\n",
            "2019-10-16 20:02:52.851362\n",
            "Signal 4 Лампочки светятся цветом: Зеленый\n",
            "Signal 0b100 Лампочки светятся цветом: Зеленый\n",
            "2019-10-16 20:03:37.904142\n",
            "2019-10-16 20:02:52.851362\n",
            "Signal 0 Лампочки светятся цветом: Черный\n",
            "Signal 0b0 Лампочки светятся цветом: Черный\n",
            "2019-10-16 20:03:42.909633\n",
            "2019-10-16 20:02:52.851362\n",
            "Signal 3 Лампочки светятся цветом: Синий\n",
            "Signal 0b11 Лампочки светятся цветом: Синий\n",
            "2019-10-16 20:03:47.915327\n",
            "2019-10-16 20:02:52.851362\n",
            "Signal 7 Лампочки светятся цветом: Фиолетовый\n",
            "Signal 0b111 Лампочки светятся цветом: Фиолетовый\n",
            "2019-10-16 20:03:52.920873\n",
            "2019-10-16 20:02:52.851362\n"
          ],
          "name": "stdout"
        }
      ]
    },
    {
      "cell_type": "markdown",
      "metadata": {
        "id": "c8GJsp8WDrf6",
        "colab_type": "text"
      },
      "source": [
        "# Задача 4\n",
        "\n",
        "У вас есть задача - написать специфичный калькулятор.\n",
        "\n",
        "Калькулятор:\n",
        " - прибавляет к итоговому числу данное число, если это число делится на 3,5,7,9 без остатка.\n",
        " - отнимает от итогового числа данное число, если это число делится на 2,4,6,8 без остатка.\n",
        " \n",
        "Необходимо разработать функцию calculator, которая будет принимать не ограниченное число аргументов(не именованных), производить операции над ними и выдавать итоговый результат.\n",
        "\n",
        "Пример:\n",
        "\n"
      ]
    },
    {
      "cell_type": "code",
      "metadata": {
        "id": "mk-ZKZY8Drf7",
        "colab_type": "code",
        "outputId": "b8eeaae5-0287-4b44-cd96-c0dde55fd8e5",
        "colab": {
          "base_uri": "https://localhost:8080/",
          "height": 34
        }
      },
      "source": [
        "# ваш код тут\n",
        "def calculator(*args):\n",
        "  s=0\n",
        "  for i in args:\n",
        "    s+=(int(i%3==0)+int(i%5==0)+int(i%7==0)+int(i%9==0)-int(i%2==0)-int(i%4==0)-int(i%6==0)-int(i%8==0))*i\n",
        "  return s\n",
        "\n",
        "\n",
        "assert calculator(1, 123, 44, 65, 34, 5) == 71\n",
        "assert calculator(18, 9, 199, 54854, 4) == -54844\n",
        "assert calculator(7,8913,100,87,0,3011) == 8907\n",
        "assert calculator(3,81,90,7013,10000,1) == -19745\n",
        "assert calculator(2,9,1099,6051,1547) == 8713\n",
        "\n",
        "print(\"OK\")"
      ],
      "execution_count": 101,
      "outputs": [
        {
          "output_type": "stream",
          "text": [
            "OK\n"
          ],
          "name": "stdout"
        }
      ]
    },
    {
      "cell_type": "markdown",
      "metadata": {
        "id": "rSRw_Y0aDrf-",
        "colab_type": "text"
      },
      "source": [
        "# Задача 5\n",
        "\n",
        "Реализовать функцию fib которая считает число Фибоначчи. Где 1-е число равно 0, второе равно 1, а n число равно сумме двух предыдущих.\n",
        "\n",
        "![1_cxQUnD3J3jMDIQTpsB7PNQ.gif](https://miro.medium.com/proxy/1*cxQUnD3J3jMDIQTpsB7PNQ.gif)\n",
        "\n",
        "Визуализация древа рекурсии, показывающая рекурсивное вычисление, которое приводит к fib(4) = 3. Обратите внимание, что вычисление сначала выполняется в глубину."
      ]
    },
    {
      "cell_type": "code",
      "metadata": {
        "id": "tLgoUcYxDrf_",
        "colab_type": "code",
        "outputId": "fc3be9e4-41f3-4cfb-ad35-5bcc8a90739b",
        "colab": {
          "base_uri": "https://localhost:8080/",
          "height": 34
        }
      },
      "source": [
        "# ваш код тут\n",
        "def fib(n):\n",
        "  if n<2:\n",
        "    return n\n",
        "  return fib(n-2)+fib(n-1)\n",
        "\n",
        "\n",
        "assert fib(4) == 3\n",
        "assert fib(10) == 55\n",
        "assert fib(15) == 610\n",
        "assert fib(8) == 21\n",
        "assert fib(2) == 1\n",
        "\n",
        "print(\"ОК\")\n"
      ],
      "execution_count": 99,
      "outputs": [
        {
          "output_type": "stream",
          "text": [
            "ОК\n"
          ],
          "name": "stdout"
        }
      ]
    },
    {
      "cell_type": "markdown",
      "metadata": {
        "id": "VOdcBC13N6Jd",
        "colab_type": "text"
      },
      "source": [
        "# Задача 4*\n",
        "Вам предоставляется набор координат, в которых расставлены белые пешки. Вы должны подсчитать количество защищенных пешек.\n",
        "Входные данные: Координаты расставленных пешек в виде набора строк.\n",
        "Выходные данные: Количество защищенных пешек в виде целого числа.\n",
        "    "
      ]
    },
    {
      "cell_type": "code",
      "metadata": {
        "id": "ag3hwQXZDrgC",
        "colab_type": "code",
        "outputId": "bcf101aa-1bec-483d-aed5-8391c1a0011b",
        "colab": {
          "base_uri": "https://localhost:8080/",
          "height": 168
        }
      },
      "source": [
        "s='abcdefgh'\n",
        "checks={}\n",
        "for j in range(1,9):\n",
        "  checks[j]=[]\n",
        "  for i in range(len(s)):\n",
        "    checks[j].append(s[i]+str(j))\n",
        "  print(j,checks[j])\n",
        "\n",
        "def goods(f):\n",
        "  g=set()\n",
        "  if int(f[1])<3:\n",
        "    return g\n",
        "  s='abcdefgh'\n",
        "  i=s.find(f[0])\n",
        "  if i>0:\n",
        "    g.add(s[i-1]+str(int(f[1])-1))\n",
        "  if i<7:\n",
        "    g.add(s[i+1]+str(int(f[1])-1))\n",
        "  return g\n",
        "def issafe(f,c):\n",
        "  if goods(f).intersection(c):\n",
        "    return True\n",
        "  return False\n",
        "def safecount(c):\n",
        "  k=0\n",
        "  for i in c:\n",
        "    if issafe(i,c):\n",
        "      k+=1\n",
        "  return k\n",
        "print(safecount({'c2','b3','d3','c4','e4','f5'}))\n",
        "assert safecount({\"b4\", \"d4\", \"f4\", \"c3\", \"e3\", \"g5\", \"d2\"}) == 6\n",
        "assert safecount({\"b4\", \"c4\", \"d4\", \"e4\", \"f4\", \"g4\", \"e5\"}) == 1"
      ],
      "execution_count": 100,
      "outputs": [
        {
          "output_type": "stream",
          "text": [
            "1 ['a1', 'b1', 'c1', 'd1', 'e1', 'f1', 'g1', 'h1']\n",
            "2 ['a2', 'b2', 'c2', 'd2', 'e2', 'f2', 'g2', 'h2']\n",
            "3 ['a3', 'b3', 'c3', 'd3', 'e3', 'f3', 'g3', 'h3']\n",
            "4 ['a4', 'b4', 'c4', 'd4', 'e4', 'f4', 'g4', 'h4']\n",
            "5 ['a5', 'b5', 'c5', 'd5', 'e5', 'f5', 'g5', 'h5']\n",
            "6 ['a6', 'b6', 'c6', 'd6', 'e6', 'f6', 'g6', 'h6']\n",
            "7 ['a7', 'b7', 'c7', 'd7', 'e7', 'f7', 'g7', 'h7']\n",
            "8 ['a8', 'b8', 'c8', 'd8', 'e8', 'f8', 'g8', 'h8']\n",
            "5\n"
          ],
          "name": "stdout"
        }
      ]
    }
  ]
}
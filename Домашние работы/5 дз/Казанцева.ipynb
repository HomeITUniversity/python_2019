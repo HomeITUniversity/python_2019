{
  "nbformat": 4,
  "nbformat_minor": 0,
  "metadata": {
    "kernelspec": {
      "display_name": "Python 3",
      "language": "python",
      "name": "python3"
    },
    "language_info": {
      "codemirror_mode": {
        "name": "ipython",
        "version": 3
      },
      "file_extension": ".py",
      "mimetype": "text/x-python",
      "name": "python",
      "nbconvert_exporter": "python",
      "pygments_lexer": "ipython3",
      "version": "3.7.1"
    },
    "colab": {
      "name": "05_functions_homework.ipynb",
      "provenance": []
    }
  },
  "cells": [
    {
      "cell_type": "markdown",
      "metadata": {
        "id": "qAL0P_R_Drfo",
        "colab_type": "text"
      },
      "source": [
        "# Домашняя работа по теме Функции\n",
        "\n",
        "# Задача 1"
      ]
    },
    {
      "cell_type": "markdown",
      "metadata": {
        "id": "3gXYWtHCDrfp",
        "colab_type": "text"
      },
      "source": [
        "Вы разработчик в фирме по разработке программного обеспечения.\n",
        "\n",
        "Вам досталась задача по разработке функции синтеза чисел в слова.\n",
        "\n",
        "4 -> \"четыре\"<br>\n",
        "122 -> \"сто двадцать два\"<br>\n",
        "55 -> \"пятьдесят пять\"<br>\n",
        "\n",
        "Вам необходимо реализовать функцию digit_to_words.<br>\n",
        "Функция должна принимать в качестве аргумента число целое.<br>\n",
        "На выходе функция должна возвращать строку после преобразования в текст.<br>\n",
        "\n",
        "Ограничение в размерности числа на входе - 3 разряда. (999 - максимальное число)"
      ]
    },
    {
      "cell_type": "code",
      "metadata": {
        "id": "Ko5_rPKWDrfq",
        "colab_type": "code",
        "outputId": "c5277c55-3bc9-46e5-8d6f-fccb3100acaa",
        "colab": {
          "base_uri": "https://localhost:8080/",
          "height": 36
        }
      },
      "source": [
        "#ваш код тут\n",
        "def digit_to_words(ch):\n",
        "  ch_out = ''\n",
        "  ch_in = str(ch)\n",
        "\n",
        "  if len(ch_in) == 3:\n",
        "    if ch_in[-3] == '1':\n",
        "      ch_out = 'сто' + ' '\n",
        "    if ch_in[-3] == '2':\n",
        "      ch_out = 'двести' + ' '\n",
        "    if ch_in[-3] == '3':\n",
        "      ch_out = 'триста' + ' '\n",
        "    if ch_in[-3] == '4':\n",
        "      ch_out = 'четыреста' + ' '\n",
        "    if ch_in[-3] == '5':\n",
        "      ch_out = 'пятьсот' + ' '\n",
        "    if ch_in[-3] == '6':\n",
        "      ch_out = 'шестьсот' + ' '\n",
        "    if ch_in[-3] == '7':\n",
        "      ch_out = 'семьсот' + ' '\n",
        "    if ch_in[-3] == '8':\n",
        "      ch_out = 'восемьсот' + ' '\n",
        "    if ch_in[-3] == '9':\n",
        "      ch_out = 'девятьсот' + ' '\n",
        "    if ch_in[-1] == '0':\n",
        "      ch_out = ch_out.rstrip()\n",
        "      \n",
        "  if len(ch_in) == 2 or len(ch_in) == 3 and ch_in[-2] != '1':\n",
        "    if ch_in[-2] == '2':\n",
        "      ch_out = ch_out + 'двадцать' + ' '        \n",
        "    if ch_in[-2] == '3':\n",
        "      ch_out = ch_out + 'тридцать' + ' ' \n",
        "    if ch_in[-2] == '4':\n",
        "      ch_out = ch_out + 'сорок' + ' ' \n",
        "    if ch_in[-2] == '5':\n",
        "      ch_out = ch_out + 'пятьдесят' + ' ' \n",
        "    if ch_in[-2] == '6':\n",
        "      ch_out = ch_out + 'шестьдесят' + ' ' \n",
        "    if ch_in[-2] == '7':\n",
        "      ch_out = ch_out + 'семьдесят' + ' '       \n",
        "    if ch_in[-2] == '8':\n",
        "      ch_out = ch_out + 'восемьдесят' + ' ' \n",
        "    if ch_in[-2] == '9':\n",
        "      ch_out = ch_out + 'девяносто' + ' ' \n",
        "    if ch_in[-1] == '0':\n",
        "      ch_out = ch_out.rstrip()\n",
        "      \n",
        "  if len(ch_in) != 1 and ch_in[-2] == '1':\n",
        "    if ch_in[-1] == '0':\n",
        "      return(ch_out + 'десять')\n",
        "    if ch_in[-1] == '1':\n",
        "      return(ch_out + 'одиннадцать')\n",
        "    if ch_in[-1] == '2':\n",
        "      return(ch_out + 'двенадцать')\n",
        "    if ch_in[-1] == '3':\n",
        "      return(ch_out + 'тринадцать')\n",
        "    if ch_in[-1] == '4':\n",
        "      return(ch_out + 'четырнадцать')\n",
        "    if ch_in[-1] == '5':\n",
        "      return(ch_out + 'пятнадцать')\n",
        "    if ch_in[-1] == '6':\n",
        "      return(ch_out + 'шестнадцать')\n",
        "    if ch_in[-1] == '7':\n",
        "      return(ch_out + 'семнадцать')\n",
        "    if ch_in[-1] == '8':\n",
        "      return(ch_out + 'восемнадцать')\n",
        "    if ch_in[-1] == '9':\n",
        "      return(ch_out + 'девятнадцать')\n",
        "   \n",
        "  if ch_in[-1] == '0' and len(ch_in) == 1:\n",
        "    ch_out = ch_out + 'ноль'\n",
        "  if ch_in[-1] == '1':\n",
        "    ch_out = ch_out + 'один'\n",
        "  if ch_in[-1] == '2':\n",
        "    ch_out = ch_out + 'два' \n",
        "  if ch_in[-1] == '3':\n",
        "    ch_out = ch_out + 'три'\n",
        "  if ch_in[-1] == '4':\n",
        "    ch_out = ch_out + 'четыре'\n",
        "  if ch_in[-1] == '5':\n",
        "    ch_out = ch_out + 'пять'\n",
        "  if ch_in[-1] == '6':\n",
        "    ch_out = ch_out + 'шесть'\n",
        "  if ch_in[-1] == '7':\n",
        "    ch_out = ch_out + 'семь'\n",
        "  if ch_in[-1] == '8':\n",
        "    ch_out = ch_out + 'восемь'\n",
        "  if ch_in[-1] == '9':\n",
        "    ch_out = ch_out + 'девять'    \n",
        "    \n",
        "  return(ch_out)\n",
        "\n",
        "ch = None \n",
        "\n",
        "assert digit_to_words(4)=='четыре'\n",
        "assert digit_to_words(143)=='сто сорок три'\n",
        "assert digit_to_words(12)=='двенадцать'\n",
        "assert digit_to_words(101)=='сто один'\n",
        "assert digit_to_words(212)=='двести двенадцать'\n",
        "assert digit_to_words(40)=='сорок'\n",
        "\n",
        "print(\"ОК\")"
      ],
      "execution_count": 0,
      "outputs": [
        {
          "output_type": "stream",
          "text": [
            "ОК\n"
          ],
          "name": "stdout"
        }
      ]
    },
    {
      "cell_type": "markdown",
      "metadata": {
        "id": "rLbil1CTDrfu",
        "colab_type": "text"
      },
      "source": [
        "# Задача 2"
      ]
    },
    {
      "cell_type": "markdown",
      "metadata": {
        "id": "K9xxA3mRDrfv",
        "colab_type": "text"
      },
      "source": [
        "Вам необходимо разработать функцию time_converter по преобразованию времени.\n",
        "На входе время в 12 часовом формате американском, на выходе время в 24 часовом формате.\n"
      ]
    },
    {
      "cell_type": "code",
      "metadata": {
        "id": "VVAu9gUwDrfv",
        "colab_type": "code",
        "outputId": "9fdd06c6-8f3e-4c39-9cc1-2ca1efdc4d32",
        "colab": {
          "base_uri": "https://localhost:8080/",
          "height": 36
        }
      },
      "source": [
        "#ваша функция здесь\n",
        "from datetime import datetime\n",
        "\n",
        "def time_converter(time):\n",
        "  time12 = time.replace('.', '')\n",
        "  time24 = datetime.strptime(time12, '%I:%M %p')\n",
        "  return(time24.strftime('%H:%M'))\n",
        "  \n",
        "\n",
        "  \n",
        "assert time_converter('12:30 p.m.') == '12:30'\n",
        "assert time_converter('9:00 a.m.') == '09:00'\n",
        "assert time_converter('11:15 p.m.') == '23:15'\n",
        "\n",
        "print(\"OK\")"
      ],
      "execution_count": 0,
      "outputs": [
        {
          "output_type": "stream",
          "text": [
            "OK\n"
          ],
          "name": "stdout"
        }
      ]
    },
    {
      "cell_type": "code",
      "metadata": {
        "id": "EbDsoSV1HXZi",
        "colab_type": "code",
        "outputId": "59303c93-b074-4816-f812-a820aa6c0ede",
        "colab": {
          "base_uri": "https://localhost:8080/",
          "height": 36
        }
      },
      "source": [
        "def time_converter(time):\n",
        "  time24 = ''\n",
        "  time12 = time.split(' ')\n",
        "  \n",
        "  if time12[1] == 'a.m.':\n",
        "    if time12[0].split(':')[0] != '12':\n",
        "      time24 = time12[0]\n",
        "    else:\n",
        "      time24 = str(int(time12[0].split(':')[0]) - 12) + ':' + time12[0].split(':')[1]\n",
        "     \n",
        "  if time12[1] == 'p.m.':\n",
        "    if time12[0].split(':')[0] != '12':\n",
        "      time24 = str(int(time12[0].split(':')[0]) + 12) + ':' + time12[0].split(':')[1]\n",
        "    else:\n",
        "      time24 = time12[0]\n",
        "   \n",
        "  return(time24)\n",
        "\n",
        "time_converter('12:30 a.m.')  "
      ],
      "execution_count": 0,
      "outputs": [
        {
          "output_type": "execute_result",
          "data": {
            "text/plain": [
              "'0:30'"
            ]
          },
          "metadata": {
            "tags": []
          },
          "execution_count": 11
        }
      ]
    },
    {
      "cell_type": "markdown",
      "metadata": {
        "id": "GrglCtfTDrfz",
        "colab_type": "text"
      },
      "source": [
        "# Задача 3\n",
        "У вас есть программируемая диодная лента. Светодиоды могут светиться 7 цветами.<br>\n",
        "Каждый цвет включается в зависимости от подаваемого на контакты управления сигнала. <br>\n",
        "Кодировка сигналов представленна ниже:<br>\n",
        "\n",
        "Красный - 1<br>\n",
        "Оранжевый - 6<br>\n",
        "Желтый - 2<br>\n",
        "Зеленый - 4<br>\n",
        "Голубой - 5<br>\n",
        "Синий - 3<br>\n",
        "Фиолетовый - 7<br>\n",
        "Черный(выключение светодиодов) - 0<br>\n",
        "\n",
        "Вам необходимо разработать программу управления светодиодной лентой.<br>\n",
        "В данной задаче работу ленты эмулирует функция colored_light_on_dec.<br>\n",
        "\n",
        "Ваша задача(часть 1):<br>\n",
        "Разработать функцию lamp_regulator.<br>\n",
        "Входные данные: список в котором задана последовательность включения лампочек.<br>\n",
        "Выходные данные: Функция проигрывает цвета, которыми будет светиться лампочка. Интервал между цветами 5 секунд. Если последовательность цветов закончилась, значит начинаем с начала.<br>\n",
        "Ограничение на время проигрывания цветов 60 секунд(даже если не доиграли программу).<br>\n",
        "\n",
        "\n",
        "Вы купили вторую диодную ленту, только в отличие от первой, она управляется бинарными сигналами.<br>\n",
        "Ваша задача(часть 2):<br>\n",
        "\n",
        "Разработать функцию dec_to_binary.<br>\n",
        "Входные данные: числа в 10 системе счисления.<br>\n",
        "Выходные данные: числа в двоичной системе счисления.<br>\n",
        "\n",
        "Вам необходимо зажигать лампочки на обоих лентах сразу. В данной задаче работу второй ленты эмулирует функция colored_light_on_bin.<br>\n"
      ]
    },
    {
      "cell_type": "code",
      "metadata": {
        "id": "YaSBFIhqDrf0",
        "colab_type": "code",
        "outputId": "3584d1ea-0948-494e-a7fd-f9a73bc213c8",
        "colab": {
          "base_uri": "https://localhost:8080/",
          "height": 467
        }
      },
      "source": [
        "lamps = {\n",
        "    'bin':{\n",
        "        '0b0': \"Черный\",\n",
        "        '0b1': \"Красный\",\n",
        "        '0b10': \"Желтый\",\n",
        "        '0b11': \"Синий\",\n",
        "        '0b100': \"Зеленый\",\n",
        "        '0b101': \"Голубой\",\n",
        "        '0b110': \"Оранжевый\",\n",
        "        '0b111': \"Фиолетовый\"\n",
        "    },\n",
        "    'dec':{\n",
        "        0: \"Черный\",\n",
        "        1: \"Красный\",\n",
        "        2: \"Желтый\",\n",
        "        3: \"Синий\",\n",
        "        4: \"Зеленый\",\n",
        "        5: \"Голубой\",\n",
        "        6: \"Оранжевый\",\n",
        "        7: \"Фиолетовый\"\n",
        "    }\n",
        "}\n",
        "\n",
        "def colored_light_on_dec(signal):\n",
        "    print(\"Signal\", signal, \"Лампочки светятся цветом:\", lamps['dec'][signal]) if lamps['dec'].get(signal, False) is not False else print(\"Signal\", signal, \"Лампочки светятся цветом:\", \"Черный\")\n",
        "    \n",
        "def colored_light_on_bin(signal):\n",
        "    print(\"Signal\", signal, \"Лампочки светятся цветом:\", lamps['bin'][signal]) if lamps['bin'].get(signal, False) is not False else print(\"Signal\", signal, \"Лампочки светятся цветом:\", \"Черный\")\n",
        "\n",
        "#программа зажигания лампочек\n",
        "programm = ['Красный', 'Зеленый', 'Черный', 'Синий', 'Фиолетовый', 'Голубой', 'Оранжевый', 'Желтый']\n",
        "\n",
        "# Ваш код тут\n",
        "from datetime import datetime\n",
        "import time\n",
        "\n",
        "def lamp_regulator(x):\n",
        "  start = time.time()\n",
        "  while True:\n",
        "    for i in x:\n",
        "      for k, z in lamps['dec'].items():\n",
        "        if z == i:\n",
        "          colored_light_on_dec(k)\n",
        "          colored_light_on_bin(dec_to_binary(k))\n",
        "          time.sleep(5)\n",
        "      if time.time() - start > 60:\n",
        "        return\n",
        "\n",
        "def dec_to_binary(x):\n",
        "  if x > 0:\n",
        "    bn = \"\"\n",
        "  else:\n",
        "    bn = \"0\"\n",
        "  while x > 0:\n",
        "    y = str(x % 2)\n",
        "    bn = y + bn\n",
        "    x = int(x / 2)\n",
        "  return('0b' + bn)\n",
        "    \n",
        "      \n",
        "lamp_regulator(programm)   \n",
        "\n",
        "        "
      ],
      "execution_count": 0,
      "outputs": [
        {
          "output_type": "stream",
          "text": [
            "Signal 1 Лампочки светятся цветом: Красный\n",
            "Signal 0b1 Лампочки светятся цветом: Красный\n",
            "Signal 4 Лампочки светятся цветом: Зеленый\n",
            "Signal 0b100 Лампочки светятся цветом: Зеленый\n",
            "Signal 0 Лампочки светятся цветом: Черный\n",
            "Signal 0b0 Лампочки светятся цветом: Черный\n",
            "Signal 3 Лампочки светятся цветом: Синий\n",
            "Signal 0b11 Лампочки светятся цветом: Синий\n",
            "Signal 7 Лампочки светятся цветом: Фиолетовый\n",
            "Signal 0b111 Лампочки светятся цветом: Фиолетовый\n",
            "Signal 5 Лампочки светятся цветом: Голубой\n",
            "Signal 0b101 Лампочки светятся цветом: Голубой\n",
            "Signal 6 Лампочки светятся цветом: Оранжевый\n",
            "Signal 0b110 Лампочки светятся цветом: Оранжевый\n",
            "Signal 2 Лампочки светятся цветом: Желтый\n",
            "Signal 0b10 Лампочки светятся цветом: Желтый\n",
            "Signal 1 Лампочки светятся цветом: Красный\n",
            "Signal 0b1 Лампочки светятся цветом: Красный\n",
            "Signal 4 Лампочки светятся цветом: Зеленый\n",
            "Signal 0b100 Лампочки светятся цветом: Зеленый\n",
            "Signal 0 Лампочки светятся цветом: Черный\n",
            "Signal 0b0 Лампочки светятся цветом: Черный\n",
            "Signal 3 Лампочки светятся цветом: Синий\n",
            "Signal 0b11 Лампочки светятся цветом: Синий\n"
          ],
          "name": "stdout"
        }
      ]
    },
    {
      "cell_type": "markdown",
      "metadata": {
        "id": "c8GJsp8WDrf6",
        "colab_type": "text"
      },
      "source": [
        "# Задача 4\n",
        "\n",
        "У вас есть задача - написать специфичный калькулятор.\n",
        "\n",
        "Калькулятор:\n",
        " - прибавляет к итоговому числу данное число, если это число делится на 3,5,7,9 без остатка.\n",
        " - отнимает от итогового числа данное число, если это число делится на 2,4,6,8 без остатка.\n",
        " \n",
        "Необходимо разработать функцию calculator, которая будет принимать не ограниченное число аргументов(не именованных), производить операции над ними и выдавать итоговый результат.\n",
        "\n",
        "Пример:\n",
        "\n"
      ]
    },
    {
      "cell_type": "code",
      "metadata": {
        "id": "mk-ZKZY8Drf7",
        "colab_type": "code",
        "outputId": "67493284-fe2f-4dde-bd4c-5b4d9c1d105e",
        "colab": {
          "base_uri": "https://localhost:8080/",
          "height": 36
        }
      },
      "source": [
        "# ваш код тут\n",
        "def calculator(*args):\n",
        "  res = 0\n",
        "  for i in args:\n",
        "    if i%3==0:\n",
        "      res += i\n",
        "    if i%5==0:\n",
        "      res += i\n",
        "    if i%7==0:\n",
        "      res += i\n",
        "    if i%9==0:\n",
        "      res += i\n",
        "    if i%2==0:\n",
        "      res -= i\n",
        "    if i%4==0:\n",
        "      res -= i\n",
        "    if i%6==0:\n",
        "      res -= i\n",
        "    if i%8==0:\n",
        "      res -= i\n",
        "  return(res)\n",
        "\n",
        "assert calculator(1, 123, 44, 65, 34, 5) == 71\n",
        "assert calculator(18, 9, 199, 54854, 4) == -54844\n",
        "assert calculator(7,8913,100,87,0,3011) == 8907\n",
        "assert calculator(3,81,90,7013,10000,1) == -19745\n",
        "assert calculator(2,9,1099,6051,1547) == 8713\n",
        "\n",
        "print(\"OK\")"
      ],
      "execution_count": 0,
      "outputs": [
        {
          "output_type": "stream",
          "text": [
            "OK\n"
          ],
          "name": "stdout"
        }
      ]
    },
    {
      "cell_type": "markdown",
      "metadata": {
        "id": "rSRw_Y0aDrf-",
        "colab_type": "text"
      },
      "source": [
        "# Задача 5\n",
        "\n",
        "Реализовать функцию fib которая считает число Фибоначчи. Где 1-е число равно 0, второе равно 1, а n число равно сумме двух предыдущих.\n",
        "\n",
        "![1_cxQUnD3J3jMDIQTpsB7PNQ.gif](https://miro.medium.com/proxy/1*cxQUnD3J3jMDIQTpsB7PNQ.gif)\n",
        "\n",
        "Визуализация древа рекурсии, показывающая рекурсивное вычисление, которое приводит к fib(4) = 3. Обратите внимание, что вычисление сначала выполняется в глубину."
      ]
    },
    {
      "cell_type": "code",
      "metadata": {
        "id": "tLgoUcYxDrf_",
        "colab_type": "code",
        "outputId": "58154c39-e66a-4fa4-df82-8ba3530291e5",
        "colab": {
          "base_uri": "https://localhost:8080/",
          "height": 36
        }
      },
      "source": [
        "# ваш код тут\n",
        "def fib(n):\n",
        "  if n == 1 or n == 2:\n",
        "    return 1\n",
        "  else:\n",
        "    return fib(n - 1) + fib(n - 2)\n",
        "\n",
        "assert fib(4) == 3\n",
        "assert fib(10) == 55\n",
        "assert fib(15) == 610\n",
        "assert fib(8) == 21\n",
        "assert fib(2) == 1\n",
        "\n",
        "print(\"ОК\")\n"
      ],
      "execution_count": 0,
      "outputs": [
        {
          "output_type": "stream",
          "text": [
            "ОК\n"
          ],
          "name": "stdout"
        }
      ]
    },
    {
      "cell_type": "code",
      "metadata": {
        "id": "SvXu6es-yMfs",
        "colab_type": "code",
        "outputId": "c493f02c-d87d-42de-e4a5-e07fa8b6ec08",
        "colab": {
          "base_uri": "https://localhost:8080/",
          "height": 36
        }
      },
      "source": [
        "# ваш код тут\n",
        "def fib(n):\n",
        "  f1 = 0\n",
        "  f2 = 1\n",
        "  for i in range(n-1):\n",
        "    f = f1 + f2\n",
        "    f1 = f2\n",
        "    f2 = f\n",
        "  return(f)\n",
        "\n",
        "assert fib(4) == 3\n",
        "assert fib(10) == 55\n",
        "assert fib(15) == 610\n",
        "assert fib(8) == 21\n",
        "assert fib(2) == 1\n",
        "\n",
        "print(\"ОК\")"
      ],
      "execution_count": 0,
      "outputs": [
        {
          "output_type": "stream",
          "text": [
            "ОК\n"
          ],
          "name": "stdout"
        }
      ]
    },
    {
      "cell_type": "code",
      "metadata": {
        "id": "ag3hwQXZDrgC",
        "colab_type": "code",
        "colab": {}
      },
      "source": [
        ""
      ],
      "execution_count": 0,
      "outputs": []
    }
  ]
}
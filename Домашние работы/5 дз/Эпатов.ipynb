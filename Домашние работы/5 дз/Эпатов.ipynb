{
  "nbformat": 4,
  "nbformat_minor": 0,
  "metadata": {
    "kernelspec": {
      "display_name": "Python 3",
      "language": "python",
      "name": "python3"
    },
    "language_info": {
      "codemirror_mode": {
        "name": "ipython",
        "version": 3
      },
      "file_extension": ".py",
      "mimetype": "text/x-python",
      "name": "python",
      "nbconvert_exporter": "python",
      "pygments_lexer": "ipython3",
      "version": "3.7.1"
    },
    "colab": {
      "name": "05_functions_homework.ipynb",
      "provenance": [],
      "collapsed_sections": []
    }
  },
  "cells": [
    {
      "cell_type": "markdown",
      "metadata": {
        "id": "qAL0P_R_Drfo",
        "colab_type": "text"
      },
      "source": [
        "# Домашняя работа по теме Функции\n",
        "\n",
        "# Задача 1"
      ]
    },
    {
      "cell_type": "markdown",
      "metadata": {
        "id": "3gXYWtHCDrfp",
        "colab_type": "text"
      },
      "source": [
        "Вы разработчик в фирме по разработке программного обеспечения.\n",
        "\n",
        "Вам досталась задача по разработке функции синтеза чисел в слова.\n",
        "\n",
        "4 -> \"четыре\"<br>\n",
        "122 -> \"сто двадцать два\"<br>\n",
        "55 -> \"пятьдесят пять\"<br>\n",
        "\n",
        "Вам необходимо реализовать функцию digit_to_words.<br>\n",
        "Функция должна принимать в качестве аргумента число целое.<br>\n",
        "На выходе функция должна возвращать строку после преобразования в текст.<br>\n",
        "\n",
        "Ограничение в размерности числа на входе - 3 разряда. (999 - максимальное число)"
      ]
    },
    {
      "cell_type": "code",
      "metadata": {
        "id": "Ko5_rPKWDrfq",
        "colab_type": "code",
        "outputId": "98b3c5db-141c-4e2d-951b-475234d2ec15",
        "colab": {
          "base_uri": "https://localhost:8080/",
          "height": 34
        }
      },
      "source": [
        "#ваш код тут\n",
        "digit_to_word_dict={\n",
        "    1:\"один\",\n",
        "    2:\"два\",\n",
        "    3:\"три\",\n",
        "    4:\"четыре\",\n",
        "    5:\"пять\",\n",
        "    6:\"шесть\",\n",
        "    7:\"семь\",\n",
        "    8:\"восемь\",\n",
        "    9:\"девять\",\n",
        "    10:\"десять\",\n",
        "    11:\"одинадцать\",\n",
        "    12:\"двенадцать\",\n",
        "    13:\"тренадцать\",\n",
        "    14:\"четырнадцать\",\n",
        "    15:\"пятнадцать\",\n",
        "    16:\"шестнадцать\",\n",
        "    17:\"семнадцать\",\n",
        "    18:\"восемнадцать\",\n",
        "    19:\"девятнадцать\",\n",
        "    20:\"дведцать\",\n",
        "    30:\"тридцать\",\n",
        "    40:\"сорок\",\n",
        "    50:\"пятьдесят\",\n",
        "    60:\"шестьдесят\",\n",
        "    70:\"семьдесят\",\n",
        "    80:\"восемьдесят\",\n",
        "    90:\"девяносто\",\n",
        "    100:\"сто\",\n",
        "    200:\"двести\",\n",
        "    300:\"триста\",\n",
        "    400:\"четыреста\",\n",
        "    500:\"пятьсот\",\n",
        "    600:\"шестьсот\",\n",
        "    700:\"семьсот\",\n",
        "    800:\"восемьсот\",\n",
        "    900:\"девятьсот\",    \n",
        "}\n",
        "def digit_to_words(digit):\n",
        "  a = digit_to_word_dict.get(digit,False)\n",
        "  if a:\n",
        "    return a\n",
        "  elif digit==0:\n",
        "    return \"\"\n",
        "  elif digit>20 and digit<100:\n",
        "    return digit_to_words(digit-digit%10)+\" \"+digit_to_words(digit%10)\n",
        "  elif digit>100 and digit<1000:\n",
        "    return digit_to_words(digit-digit%100)+\" \"+digit_to_words(digit%100)\n",
        "  \n",
        "  \n",
        "assert digit_to_words(4)=='четыре'\n",
        "assert digit_to_words(143)=='сто сорок три'\n",
        "assert digit_to_words(12)=='двенадцать'\n",
        "assert digit_to_words(101)=='сто один'\n",
        "assert digit_to_words(212)=='двести двенадцать'\n",
        "assert digit_to_words(40)=='сорок'\n",
        "\n",
        "print(\"ОК\")"
      ],
      "execution_count": 220,
      "outputs": [
        {
          "output_type": "stream",
          "text": [
            "ОК\n"
          ],
          "name": "stdout"
        }
      ]
    },
    {
      "cell_type": "markdown",
      "metadata": {
        "id": "rLbil1CTDrfu",
        "colab_type": "text"
      },
      "source": [
        "# Задача 2"
      ]
    },
    {
      "cell_type": "markdown",
      "metadata": {
        "id": "K9xxA3mRDrfv",
        "colab_type": "text"
      },
      "source": [
        "Вам необходимо разработать функцию time_converter по преобразованию времени.\n",
        "На входе время в 12 часовом формате американском, на выходе время в 24 часовом формате.\n"
      ]
    },
    {
      "cell_type": "code",
      "metadata": {
        "id": "VVAu9gUwDrfv",
        "colab_type": "code",
        "colab": {
          "base_uri": "https://localhost:8080/",
          "height": 34
        },
        "outputId": "f56b1ce6-d9bc-4969-8e6e-85a18de0da08"
      },
      "source": [
        "#ваша функция здесь\n",
        "\n",
        "def time_converter(time_us):\n",
        "  a=time_us.split(\" \")\n",
        "  b=a[0].split(\":\")\n",
        "  if a[1]==\"a.m.\" or (a[1]==\"p.m.\" and b[0]==\"12\"):\n",
        "     return a[0] if int(b[0])>=10 else str(\"0\"+a[0])\n",
        "  else:\n",
        "    b[0]=int(b[0])+12\n",
        "    return str(b[0])+\":\"+b[1]\n",
        "\n",
        "\n",
        "assert(time_converter('12:30 p.m.') == '12:30')\n",
        "assert(time_converter('9:00 a.m.') == '09:00')\n",
        "assert(time_converter('11:15 p.m.') == '23:15')\n",
        "\n",
        "print(\"OK\")"
      ],
      "execution_count": 221,
      "outputs": [
        {
          "output_type": "stream",
          "text": [
            "OK\n"
          ],
          "name": "stdout"
        }
      ]
    },
    {
      "cell_type": "markdown",
      "metadata": {
        "id": "GrglCtfTDrfz",
        "colab_type": "text"
      },
      "source": [
        "# Задача 3\n",
        "У вас есть программируемая диодная лента. Светодиоды могут светиться 7 цветами.<br>\n",
        "Каждый цвет включается в зависимости от подаваемого на контакты управления сигнала. <br>\n",
        "Кодировка сигналов представленна ниже:<br>\n",
        "\n",
        "Красный - 1<br>\n",
        "Оранжевый - 6<br>\n",
        "Желтый - 2<br>\n",
        "Зеленый - 4<br>\n",
        "Голубой - 5<br>\n",
        "Синий - 3<br>\n",
        "Фиолетовый - 7<br>\n",
        "Черный(выключение светодиодов) - 0<br>\n",
        "\n",
        "Вам необходимо разработать программу управления светодиодной лентой.<br>\n",
        "В данной задаче работу ленты эмулирует функция colored_light_on_dec.<br>\n",
        "\n",
        "Ваша задача(часть 1):<br>\n",
        "Разработать функцию lamp_regulator.<br>\n",
        "Входные данные: список в котором задана последовательность включения лампочек.<br>\n",
        "Выходные данные: Функция проигрывает цвета, которыми будет светиться лампочка. Интервал между цветами 5 секунд. Если последовательность цветов закончилась, значит начинаем с начала.<br>\n",
        "Ограничение на время проигрывания цветов 60 секунд(даже если не доиграли программу).<br>\n",
        "\n",
        "\n",
        "Вы купили вторую диодную ленту, только в отличие от первой, она управляется бинарными сигналами.<br>\n",
        "Ваша задача(часть 2):<br>\n",
        "\n",
        "Разработать функцию dec_to_binary.<br>\n",
        "Входные данные: числа в 10 системе счисления.<br>\n",
        "Выходные данные: числа в двоичной системе счисления.<br>\n",
        "\n",
        "Вам необходимо зажигать лампочки на обоих лентах сразу. В данной задаче работу второй ленты эмулирует функция colored_light_on_bin.<br>\n"
      ]
    },
    {
      "cell_type": "code",
      "metadata": {
        "id": "YaSBFIhqDrf0",
        "colab_type": "code",
        "outputId": "5d9bb9ec-e4ae-449a-fe2a-cf842f33d7ff",
        "colab": {
          "base_uri": "https://localhost:8080/",
          "height": 663
        }
      },
      "source": [
        "lamps = {\n",
        "    'bin':{\n",
        "        '0b0': \"Черный\",\n",
        "        '0b1': \"Красный\",\n",
        "        '0b10': \"Желтый\",\n",
        "        '0b11': \"Синий\",\n",
        "        '0b100': \"Зеленый\",\n",
        "        '0b101': \"Голубой\",\n",
        "        '0b110': \"Оранжевый\",\n",
        "        '0b111': \"Фиолетовый\"\n",
        "    },\n",
        "    'dec':{\n",
        "        0: \"Черный\",\n",
        "        1: \"Красный\",\n",
        "        2: \"Желтый\",\n",
        "        3: \"Синий\",\n",
        "        4: \"Зеленый\",\n",
        "        5: \"Голубой\",\n",
        "        6: \"Оранжевый\",\n",
        "        7: \"Фиолетовый\"\n",
        "    }\n",
        "}\n",
        "\n",
        "def colored_light_on_dec(signal):\n",
        "    print(\"Signal\", signal, \"Лампочки светятся цветом:\", lamps['dec'][signal]) if lamps['dec'].get(signal, False) is not False else print(\"Signal\", signal, \"Лампочки светятся цветом:\", \"Черный\")\n",
        "    \n",
        "def colored_light_on_bin(signal):\n",
        "    print(\"Signal\", signal, \"Лампочки светятся цветом:\", lamps['bin'][signal]) if lamps['bin'].get(signal, False) is not False else print(\"Signal\", signal, \"Лампочки светятся цветом:\", \"Черный\")\n",
        "\n",
        "#программа зажигания лампочек\n",
        "programm = ['Красный', 'Зеленый', 'Черный', 'Синий', 'Фиолетовый', 'Голубой', 'Оранжевый', 'Желтый']\n",
        "\n",
        "# Ваш код тут\n",
        "from time import time,sleep\n",
        "timeout = 60\n",
        "interval = 5\n",
        "\n",
        "#часть 1\n",
        "print(\"часть 1\")\n",
        "def lamp_regulator(programm):\n",
        "  start_time = time()\n",
        "  inv_map = {v: k for k, v in lamps[\"dec\"].items()}\n",
        "  while (start_time+timeout)>time():\n",
        "    for i in programm:\n",
        "      if (start_time+timeout)>time():\n",
        "        colored_light_on_dec(inv_map[i])\n",
        "        sleep(interval)\n",
        "\n",
        "lamp_regulator(programm)\n",
        "\n",
        "#часть 2\n",
        "print(\"часть 2\")\n",
        "def dec_to_binary(d):\n",
        "  return bin(d)\n",
        "\n",
        "def lamp_regulator(programm):\n",
        "  start_time = time()\n",
        "  inv_map = {v: k for k, v in lamps[\"dec\"].items()}\n",
        "  while (start_time+timeout)>time():\n",
        "    for i in programm:\n",
        "      if (start_time+timeout)>time():\n",
        "        colored_light_on_dec(inv_map[i])\n",
        "        colored_light_on_bin(dec_to_binary(inv_map[i]))\n",
        "        sleep(interval)\n",
        "\n",
        "lamp_regulator(programm)"
      ],
      "execution_count": 219,
      "outputs": [
        {
          "output_type": "stream",
          "text": [
            "часть 1\n",
            "Signal 1 Лампочки светятся цветом: Красный\n",
            "Signal 4 Лампочки светятся цветом: Зеленый\n",
            "Signal 0 Лампочки светятся цветом: Черный\n",
            "Signal 3 Лампочки светятся цветом: Синий\n",
            "Signal 7 Лампочки светятся цветом: Фиолетовый\n",
            "Signal 5 Лампочки светятся цветом: Голубой\n",
            "Signal 6 Лампочки светятся цветом: Оранжевый\n",
            "Signal 2 Лампочки светятся цветом: Желтый\n",
            "Signal 1 Лампочки светятся цветом: Красный\n",
            "Signal 4 Лампочки светятся цветом: Зеленый\n",
            "Signal 0 Лампочки светятся цветом: Черный\n",
            "Signal 3 Лампочки светятся цветом: Синий\n",
            "часть 2\n",
            "Signal 1 Лампочки светятся цветом: Красный\n",
            "Signal 0b1 Лампочки светятся цветом: Красный\n",
            "Signal 4 Лампочки светятся цветом: Зеленый\n",
            "Signal 0b100 Лампочки светятся цветом: Зеленый\n",
            "Signal 0 Лампочки светятся цветом: Черный\n",
            "Signal 0b0 Лампочки светятся цветом: Черный\n",
            "Signal 3 Лампочки светятся цветом: Синий\n",
            "Signal 0b11 Лампочки светятся цветом: Синий\n",
            "Signal 7 Лампочки светятся цветом: Фиолетовый\n",
            "Signal 0b111 Лампочки светятся цветом: Фиолетовый\n",
            "Signal 5 Лампочки светятся цветом: Голубой\n",
            "Signal 0b101 Лампочки светятся цветом: Голубой\n",
            "Signal 6 Лампочки светятся цветом: Оранжевый\n",
            "Signal 0b110 Лампочки светятся цветом: Оранжевый\n",
            "Signal 2 Лампочки светятся цветом: Желтый\n",
            "Signal 0b10 Лампочки светятся цветом: Желтый\n",
            "Signal 1 Лампочки светятся цветом: Красный\n",
            "Signal 0b1 Лампочки светятся цветом: Красный\n",
            "Signal 4 Лампочки светятся цветом: Зеленый\n",
            "Signal 0b100 Лампочки светятся цветом: Зеленый\n",
            "Signal 0 Лампочки светятся цветом: Черный\n",
            "Signal 0b0 Лампочки светятся цветом: Черный\n",
            "Signal 3 Лампочки светятся цветом: Синий\n",
            "Signal 0b11 Лампочки светятся цветом: Синий\n"
          ],
          "name": "stdout"
        }
      ]
    },
    {
      "cell_type": "markdown",
      "metadata": {
        "id": "c8GJsp8WDrf6",
        "colab_type": "text"
      },
      "source": [
        "# Задача 4\n",
        "\n",
        "У вас есть задача - написать специфичный калькулятор.\n",
        "\n",
        "Калькулятор:\n",
        " - прибавляет к итоговому числу данное число, если это число делится на 3,5,7,9 без остатка.\n",
        " - отнимает от итогового числа данное число, если это число делится на 2,4,6,8 без остатка.\n",
        " \n",
        "Необходимо разработать функцию calculator, которая будет принимать не ограниченное число аргументов(не именованных), производить операции над ними и выдавать итоговый результат.\n",
        "\n",
        "Пример:\n",
        "\n"
      ]
    },
    {
      "cell_type": "code",
      "metadata": {
        "id": "mk-ZKZY8Drf7",
        "colab_type": "code",
        "colab": {
          "base_uri": "https://localhost:8080/",
          "height": 34
        },
        "outputId": "89d2e4f7-1961-4aa5-a71f-7a033063a188"
      },
      "source": [
        "# ваш код тут\n",
        "\n",
        "def calculator(*args):\n",
        "  res=0\n",
        "  a = (3,5,7,9)\n",
        "  b = (2,4,6,8)\n",
        "  for i in args:\n",
        "    for j in a:\n",
        "      if i%j==0:res+=i\n",
        "    for j in b:\n",
        "      if i%j==0:res-=i\n",
        "  return res\n",
        "  \n",
        "assert calculator(1, 123, 44, 65, 34, 5) == 71\n",
        "assert calculator(18, 9, 199, 54854, 4) == -54844 \n",
        "assert calculator(7,8913,100,87,0,3011) == 8907\n",
        "assert calculator(3,81,90,7013,10000,1) == -19745 \n",
        "assert calculator(2,9,1099,6051,1547) == 8713\n",
        "\n",
        "print(\"OK\")"
      ],
      "execution_count": 222,
      "outputs": [
        {
          "output_type": "stream",
          "text": [
            "OK\n"
          ],
          "name": "stdout"
        }
      ]
    },
    {
      "cell_type": "markdown",
      "metadata": {
        "id": "rSRw_Y0aDrf-",
        "colab_type": "text"
      },
      "source": [
        "# Задача 5\n",
        "\n",
        "Реализовать функцию fib которая считает число Фибоначчи. Где 1-е число равно 0, второе равно 1, а n число равно сумме двух предыдущих.\n",
        "\n",
        "![1_cxQUnD3J3jMDIQTpsB7PNQ.gif](https://miro.medium.com/proxy/1*cxQUnD3J3jMDIQTpsB7PNQ.gif)\n",
        "\n",
        "Визуализация древа рекурсии, показывающая рекурсивное вычисление, которое приводит к fib(4) = 3. Обратите внимание, что вычисление сначала выполняется в глубину."
      ]
    },
    {
      "cell_type": "code",
      "metadata": {
        "id": "tLgoUcYxDrf_",
        "colab_type": "code",
        "outputId": "311dc295-de55-443f-e2c6-baa0606db893",
        "colab": {
          "base_uri": "https://localhost:8080/",
          "height": 34
        }
      },
      "source": [
        "# ваш код тут\n",
        "\n",
        "#через рекурсию\n",
        "# def fib(n):\n",
        "#   if n==0: return 0\n",
        "#   if n==1: return 1\n",
        "#   return fib(n-1) + fib(n-2)\n",
        "\n",
        "def fib(n):\n",
        "  if n==0: return 0\n",
        "  elif n==1: return 1\n",
        "  else:\n",
        "    a,b=(0,1)\n",
        "    for i in range(1,n):\n",
        "      a,b=(b,a+b)\n",
        "  return b\n",
        "\n",
        "\n",
        "assert fib(4) == 3\n",
        "assert fib(10) == 55\n",
        "assert fib(15) == 610\n",
        "assert fib(8) == 21\n",
        "assert fib(2) == 1\n",
        "\n",
        "print(\"ОК\")\n"
      ],
      "execution_count": 223,
      "outputs": [
        {
          "output_type": "stream",
          "text": [
            "ОК\n"
          ],
          "name": "stdout"
        }
      ]
    },
    {
      "cell_type": "code",
      "metadata": {
        "id": "ag3hwQXZDrgC",
        "colab_type": "code",
        "colab": {}
      },
      "source": [
        ""
      ],
      "execution_count": 0,
      "outputs": []
    }
  ]
}
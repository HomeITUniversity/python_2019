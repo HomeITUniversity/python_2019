{
  "nbformat": 4,
  "nbformat_minor": 0,
  "metadata": {
    "kernelspec": {
      "display_name": "Python 3",
      "language": "python",
      "name": "python3"
    },
    "language_info": {
      "codemirror_mode": {
        "name": "ipython",
        "version": 3
      },
      "file_extension": ".py",
      "mimetype": "text/x-python",
      "name": "python",
      "nbconvert_exporter": "python",
      "pygments_lexer": "ipython3",
      "version": "3.7.1"
    },
    "colab": {
      "name": "05_functions_homework_ITroyanova.ipynb",
      "provenance": [],
      "collapsed_sections": []
    }
  },
  "cells": [
    {
      "cell_type": "markdown",
      "metadata": {
        "id": "qAL0P_R_Drfo",
        "colab_type": "text"
      },
      "source": [
        "# Домашняя работа по теме Функции\n",
        "\n",
        "# Задача 1"
      ]
    },
    {
      "cell_type": "markdown",
      "metadata": {
        "id": "3gXYWtHCDrfp",
        "colab_type": "text"
      },
      "source": [
        "Вы разработчик в фирме по разработке программного обеспечения.\n",
        "\n",
        "Вам досталась задача по разработке функции синтеза чисел в слова.\n",
        "\n",
        "4 -> \"четыре\"<br>\n",
        "122 -> \"сто двадцать два\"<br>\n",
        "55 -> \"пятьдесят пять\"<br>\n",
        "\n",
        "Вам необходимо реализовать функцию digit_to_words.<br>\n",
        "Функция должна принимать в качестве аргумента число целое.<br>\n",
        "На выходе функция должна возвращать строку после преобразования в текст.<br>\n",
        "\n",
        "Ограничение в размерности числа на входе - 3 разряда. (999 - максимальное число)"
      ]
    },
    {
      "cell_type": "code",
      "metadata": {
        "id": "Ko5_rPKWDrfq",
        "colab_type": "code",
        "outputId": "b385a6b9-63ca-4629-c145-487ca270de59",
        "colab": {
          "base_uri": "https://localhost:8080/",
          "height": 68
        }
      },
      "source": [
        "#ваш код тут\n",
        "sto=[\"сто\",\"двести\",\"триста\",\"четыреста\",\"пятьсот\",\"шестьсот\",\"семьсот\",\"восемьсот\",\"девятьсот\"] #9\n",
        "desatki=[\"двадцать\",\"тридцать\",\"сорок\",\"пятьдесят\",\"шестьдесят\",\"семьдесят\",\"восемьдесят\",\"девяносто\"] #8\n",
        "teen=[\"десять\",\"одинадцать\",\"двенадцать\",\"тринадцать\",\"четырнадцать\",\"пятнадцать\",\"шестнадцать\",\"семнадцать\",\"восемнадцать\",\"девятнадцать\"] #10\n",
        "ed=[\"один\",\"два\",\"три\",\"четыре\",\"пять\",\"шесть\",\"семь\",\"восемь\",\"девять\"] #9\n",
        "\n",
        "\n",
        "def digit_to_words(b):\n",
        "  b=str(b)\n",
        "  lst=list(b)[::-1]\n",
        "  lsti=[]\n",
        "  b= int(b)\n",
        "  if len(lst) == 1:\n",
        "    lsti.append(ed[b-1])\n",
        "  elif len(lst)==2 and b//20 ==0: #first\n",
        "    c=b-10\n",
        "    lsti.append(teen[c])\n",
        "  elif len(lst)==2 and b//20>=1: #second\n",
        "    if int(lst[0])==0:\n",
        "      lsti.append(desatki[int(lst[1])-2])\n",
        "    else:\n",
        "      lsti.append(desatki[int(lst[1])-2])\n",
        "      lsti.append(ed[int(lst[0])-1])\n",
        "  elif len(lst)==3: #third\n",
        "    lsti.append(sto[int(lst[2])-1])\n",
        "    if int(lst[0]) ==0 and int(lst[1])==0:\n",
        "      lsti=lsti\n",
        "    elif int(lst[0]) !=0 and int(lst[1])==0:\n",
        "      lsti.append(ed[int(lst[0])-1])\n",
        "    elif int(lst[0]) ==0 and int(lst[1])>1:  \n",
        "      lsti.append(desatki[int(lst[1])-2])\n",
        "    elif int(lst[1])==1:\n",
        "      lsti.append(teen[int(lst[0])])\n",
        "    else:\n",
        "      lsti.append(desatki[int(lst[1])-2])\n",
        "      lsti.append(ed[int(lst[0])-1])\n",
        "      \n",
        "  s=\" \".join(lsti )\n",
        "    \n",
        "  return s \n",
        "\n",
        "a=input(\"введите число: \")\n",
        "a=int(a)\n",
        "#ll=dtw(a)\n",
        "\n",
        "print(digit_to_words(a))\n",
        "assert digit_to_words(4)=='четыре'\n",
        "assert digit_to_words(143)=='сто сорок три'\n",
        "assert digit_to_words(12)=='двенадцать'\n",
        "assert digit_to_words(101)=='сто один'\n",
        "assert digit_to_words(212)=='двести двенадцать'\n",
        "assert digit_to_words(40)=='сорок'\n",
        "\n",
        "print(\"ОК\")"
      ],
      "execution_count": 1,
      "outputs": [
        {
          "output_type": "stream",
          "text": [
            "введите число: 478\n",
            "четыреста семьдесят восемь\n",
            "ОК\n"
          ],
          "name": "stdout"
        }
      ]
    },
    {
      "cell_type": "markdown",
      "metadata": {
        "id": "rLbil1CTDrfu",
        "colab_type": "text"
      },
      "source": [
        "# Задача 2"
      ]
    },
    {
      "cell_type": "markdown",
      "metadata": {
        "id": "K9xxA3mRDrfv",
        "colab_type": "text"
      },
      "source": [
        "Вам необходимо разработать функцию time_converter по преобразованию времени.\n",
        "На входе время в 12 часовом формате американском, на выходе время в 24 часовом формате.\n"
      ]
    },
    {
      "cell_type": "code",
      "metadata": {
        "id": "VVAu9gUwDrfv",
        "colab_type": "code",
        "outputId": "f249a66f-8ae1-4982-8b82-fe47c009e469",
        "colab": {
          "base_uri": "https://localhost:8080/",
          "height": 68
        }
      },
      "source": [
        "#ваша функция здесь\n",
        "def time_converter(tma):\n",
        "  tme=''\n",
        "  str1=tma.split(\":\")\n",
        "  h=int(str1[0])\n",
        "  m=str1[1].split(' ')[0]\n",
        "  if tma.find('p.m.') !=-1:\n",
        "    if h!=12:\n",
        "      h+=12\n",
        "    tme+=str(h)+':'+m\n",
        "  elif tma.find('a.m.')!=-1:\n",
        "    if h<10:\n",
        "      tme='0'\n",
        "    if h==12:\n",
        "      tme='0'\n",
        "      h=0\n",
        "    tme+= str(h)+':'+m \n",
        "  return tme\n",
        "\n",
        "a=input('введите время в формате a.m./p.m.: ')\n",
        "print(time_converter(a))\n",
        "\n",
        "assert time_converter('12:30 p.m.') == '12:30'\n",
        "assert time_converter('9:00 a.m.') == '09:00'\n",
        "assert time_converter('11:15 p.m.') == '23:15'\n",
        "\n",
        "print(\"OK\")"
      ],
      "execution_count": 13,
      "outputs": [
        {
          "output_type": "stream",
          "text": [
            "введите время в формате a.m.: 11:15 p.m.\n",
            "23:15\n",
            "OK\n"
          ],
          "name": "stdout"
        }
      ]
    },
    {
      "cell_type": "markdown",
      "metadata": {
        "id": "GrglCtfTDrfz",
        "colab_type": "text"
      },
      "source": [
        "# Задача 3\n",
        "У вас есть программируемая диодная лента. Светодиоды могут светиться 7 цветами.<br>\n",
        "Каждый цвет включается в зависимости от подаваемого на контакты управления сигнала. <br>\n",
        "Кодировка сигналов представленна ниже:<br>\n",
        "\n",
        "Красный - 1<br>\n",
        "Оранжевый - 6<br>\n",
        "Желтый - 2<br>\n",
        "Зеленый - 4<br>\n",
        "Голубой - 5<br>\n",
        "Синий - 3<br>\n",
        "Фиолетовый - 7<br>\n",
        "Черный(выключение светодиодов) - 0<br>\n",
        "\n",
        "Вам необходимо разработать программу управления светодиодной лентой.<br>\n",
        "В данной задаче работу ленты эмулирует функция colored_light_on_dec.<br>\n",
        "\n",
        "Ваша задача(часть 1):<br>\n",
        "Разработать функцию lamp_regulator.<br>\n",
        "Входные данные: список в котором задана последовательность включения лампочек.<br>\n",
        "Выходные данные: Функция проигрывает цвета, которыми будет светиться лампочка. Интервал между цветами 5 секунд. Если последовательность цветов закончилась, значит начинаем с начала.<br>\n",
        "Ограничение на время проигрывания цветов 60 секунд(даже если не доиграли программу).<br>\n",
        "\n",
        "\n",
        "Вы купили вторую диодную ленту, только в отличие от первой, она управляется бинарными сигналами.<br>\n",
        "Ваша задача(часть 2):<br>\n",
        "\n",
        "Разработать функцию dec_to_binary.<br>\n",
        "Входные данные: числа в 10 системе счисления.<br>\n",
        "Выходные данные: числа в двоичной системе счисления.<br>\n",
        "\n",
        "Вам необходимо зажигать лампочки на обоих лентах сразу. В данной задаче работу второй ленты эмулирует функция colored_light_on_bin.<br>\n"
      ]
    },
    {
      "cell_type": "code",
      "metadata": {
        "id": "YaSBFIhqDrf0",
        "colab_type": "code",
        "outputId": "83ff96dc-6d8c-49b9-ec4a-e8f6c93a8807",
        "colab": {
          "base_uri": "https://localhost:8080/",
          "height": 1000
        }
      },
      "source": [
        "lamps = {\n",
        "    'bin':{\n",
        "        '0b0': \"Черный\",\n",
        "        '0b1': \"Красный\",\n",
        "        '0b10': \"Желтый\",\n",
        "        '0b11': \"Синий\",\n",
        "        '0b100': \"Зеленый\",\n",
        "        '0b101': \"Голубой\",\n",
        "        '0b110': \"Оранжевый\",\n",
        "        '0b111': \"Фиолетовый\"\n",
        "    },\n",
        "    'dec':{\n",
        "        0: \"Черный\",\n",
        "        1: \"Красный\",\n",
        "        2: \"Желтый\",\n",
        "        3: \"Синий\",\n",
        "        4: \"Зеленый\",\n",
        "        5: \"Голубой\",\n",
        "        6: \"Оранжевый\",\n",
        "        7: \"Фиолетовый\"\n",
        "    }\n",
        "}\n",
        "\n",
        "def colored_light_on_dec(signal):\n",
        "    print(\"Signal\", signal, \"Лампочки светятся цветом:\", lamps['dec'][signal]) if lamps['dec'].get(signal, False) is not False else print(\"Signal\", signal, \"Лампочки светятся цветом:\", \"Черный\")\n",
        "    \n",
        "def colored_light_on_bin(signal):\n",
        "    print(\"Signal\", signal, \"Лампочки светятся цветом:\", lamps['bin'][signal]) if lamps['bin'].get(signal, False) is not False else print(\"Signal\", signal, \"Лампочки светятся цветом:\", \"Черный\")\n",
        "\n",
        "#программа зажигания лампочек\n",
        "programm = ['Красный', 'Зеленый', 'Черный', 'Синий', 'Фиолетовый', 'Голубой', 'Оранжевый', 'Желтый']\n",
        "\n",
        "\n",
        "# Ваш код тут\n",
        "import time\n",
        "worklt=10\n",
        "intlt=1\n",
        "\n",
        "def lamp_regulator(pr):\n",
        "  tm=worklt//intlt\n",
        "  bd=lamps['bin']\n",
        "  dd=lamps['dec']\n",
        "  for i in range(tm): #12 on\n",
        "    colon=pr[i%len(pr)]\n",
        "    for k,v in bd.items():\n",
        "      if v==colon:\n",
        "        colored_light_on_bin(k)\n",
        "    for k1,v1 in dd.items():\n",
        "      if v1==colon:\n",
        "        colored_light_on_dec(k1)\n",
        "    time.sleep(intlt)\n",
        "    print(time.ctime(time.time()))\n",
        "    \n",
        "lamp_regulator(programm)    \n",
        "  \n",
        "  \n",
        "\n",
        "# def btd(bind): #bin to dec\n",
        "#   dec=int(bind,2)\n",
        "#  second  \n",
        "#   dec=0 \n",
        "#   bin=bin.replace('0b','')\n",
        "#   for i in range(len(bin)):               \n",
        "#     dec=dec+int(bin[i])*(2**(len(bin)-i-1))          \n",
        "#   return dec\n",
        "print(f\" \\nС dec to bin \\n\")\n",
        "def dtb(b):\n",
        "  dec=bin(b)\n",
        "  return dec\n",
        "\n",
        "def lamp_regulator2(pr):\n",
        "  tm=worklt//intlt\n",
        "  dd=lamps['dec']\n",
        "  for i in range(tm): #12 on\n",
        "    colon=pr[i%len(pr)]\n",
        "    for k1,v1 in dd.items():\n",
        "      if v1==colon:\n",
        "        colored_light_on_dec(k1)\n",
        "        b=dtb(k1)\n",
        "        colored_light_on_bin(b)\n",
        "    time.sleep(intlt)\n",
        "    print(time.ctime(time.time()))\n",
        "    \n",
        "lamp_regulator2(programm)    \n",
        "\n",
        "# lamps['bin']['0b101']\n",
        "# btd('11111111')"
      ],
      "execution_count": 8,
      "outputs": [
        {
          "output_type": "stream",
          "text": [
            "Signal 0b1 Лампочки светятся цветом: Красный\n",
            "Signal 1 Лампочки светятся цветом: Красный\n",
            "Wed Oct 16 20:13:49 2019\n",
            "Signal 0b100 Лампочки светятся цветом: Зеленый\n",
            "Signal 4 Лампочки светятся цветом: Зеленый\n",
            "Wed Oct 16 20:13:50 2019\n",
            "Signal 0b0 Лампочки светятся цветом: Черный\n",
            "Signal 0 Лампочки светятся цветом: Черный\n",
            "Wed Oct 16 20:13:51 2019\n",
            "Signal 0b11 Лампочки светятся цветом: Синий\n",
            "Signal 3 Лампочки светятся цветом: Синий\n",
            "Wed Oct 16 20:13:52 2019\n",
            "Signal 0b111 Лампочки светятся цветом: Фиолетовый\n",
            "Signal 7 Лампочки светятся цветом: Фиолетовый\n",
            "Wed Oct 16 20:13:53 2019\n",
            "Signal 0b101 Лампочки светятся цветом: Голубой\n",
            "Signal 5 Лампочки светятся цветом: Голубой\n",
            "Wed Oct 16 20:13:54 2019\n",
            "Signal 0b110 Лампочки светятся цветом: Оранжевый\n",
            "Signal 6 Лампочки светятся цветом: Оранжевый\n",
            "Wed Oct 16 20:13:55 2019\n",
            "Signal 0b10 Лампочки светятся цветом: Желтый\n",
            "Signal 2 Лампочки светятся цветом: Желтый\n",
            "Wed Oct 16 20:13:56 2019\n",
            "Signal 0b1 Лампочки светятся цветом: Красный\n",
            "Signal 1 Лампочки светятся цветом: Красный\n",
            "Wed Oct 16 20:13:57 2019\n",
            "Signal 0b100 Лампочки светятся цветом: Зеленый\n",
            "Signal 4 Лампочки светятся цветом: Зеленый\n",
            "Wed Oct 16 20:13:58 2019\n",
            " \n",
            "С dec to bin \n",
            "\n",
            "Signal 1 Лампочки светятся цветом: Красный\n",
            "Signal 0b1 Лампочки светятся цветом: Красный\n",
            "Wed Oct 16 20:13:59 2019\n",
            "Signal 4 Лампочки светятся цветом: Зеленый\n",
            "Signal 0b100 Лампочки светятся цветом: Зеленый\n",
            "Wed Oct 16 20:14:00 2019\n",
            "Signal 0 Лампочки светятся цветом: Черный\n",
            "Signal 0b0 Лампочки светятся цветом: Черный\n",
            "Wed Oct 16 20:14:01 2019\n",
            "Signal 3 Лампочки светятся цветом: Синий\n",
            "Signal 0b11 Лампочки светятся цветом: Синий\n",
            "Wed Oct 16 20:14:02 2019\n",
            "Signal 7 Лампочки светятся цветом: Фиолетовый\n",
            "Signal 0b111 Лампочки светятся цветом: Фиолетовый\n",
            "Wed Oct 16 20:14:03 2019\n",
            "Signal 5 Лампочки светятся цветом: Голубой\n",
            "Signal 0b101 Лампочки светятся цветом: Голубой\n",
            "Wed Oct 16 20:14:04 2019\n",
            "Signal 6 Лампочки светятся цветом: Оранжевый\n",
            "Signal 0b110 Лампочки светятся цветом: Оранжевый\n",
            "Wed Oct 16 20:14:05 2019\n",
            "Signal 2 Лампочки светятся цветом: Желтый\n",
            "Signal 0b10 Лампочки светятся цветом: Желтый\n",
            "Wed Oct 16 20:14:06 2019\n",
            "Signal 1 Лампочки светятся цветом: Красный\n",
            "Signal 0b1 Лампочки светятся цветом: Красный\n",
            "Wed Oct 16 20:14:07 2019\n",
            "Signal 4 Лампочки светятся цветом: Зеленый\n",
            "Signal 0b100 Лампочки светятся цветом: Зеленый\n",
            "Wed Oct 16 20:14:08 2019\n"
          ],
          "name": "stdout"
        }
      ]
    },
    {
      "cell_type": "code",
      "metadata": {
        "id": "NcWqUYzZnRlo",
        "colab_type": "code",
        "outputId": "ab49dd3f-a6e8-4e17-9285-0d4fcadc7e2f",
        "colab": {
          "base_uri": "https://localhost:8080/",
          "height": 221
        }
      },
      "source": [
        "# эксперементы со временем\n",
        "import time\n",
        "\n",
        "print(time.gmtime(0))\n",
        "x = time.time()\n",
        "print(x) \n",
        "for x in range(5):\n",
        "  x = time.time()\n",
        "  print(x)\n",
        "  time.sleep(2)# задержка в 2 секунды\n",
        "  a = time.ctime(time.time())\n",
        "  print(a)"
      ],
      "execution_count": 9,
      "outputs": [
        {
          "output_type": "stream",
          "text": [
            "time.struct_time(tm_year=1970, tm_mon=1, tm_mday=1, tm_hour=0, tm_min=0, tm_sec=0, tm_wday=3, tm_yday=1, tm_isdst=0)\n",
            "1571256898.3668916\n",
            "1571256898.3671486\n",
            "Wed Oct 16 20:15:00 2019\n",
            "1571256900.3699899\n",
            "Wed Oct 16 20:15:02 2019\n",
            "1571256902.3723938\n",
            "Wed Oct 16 20:15:04 2019\n",
            "1571256904.3747413\n",
            "Wed Oct 16 20:15:06 2019\n",
            "1571256906.3770747\n",
            "Wed Oct 16 20:15:08 2019\n"
          ],
          "name": "stdout"
        }
      ]
    },
    {
      "cell_type": "markdown",
      "metadata": {
        "id": "c8GJsp8WDrf6",
        "colab_type": "text"
      },
      "source": [
        "# Задача 4\n",
        "\n",
        "У вас есть задача - написать специфичный калькулятор.\n",
        "\n",
        "Калькулятор:\n",
        " - прибавляет к итоговому числу данное число, если это число делится на 3,5,7,9 без остатка.\n",
        " - отнимает от итогового числа данное число, если это число делится на 2,4,6,8 без остатка.\n",
        " \n",
        "Необходимо разработать функцию calculator, которая будет принимать не ограниченное число аргументов(не именованных), производить операции над ними и выдавать итоговый результат.\n",
        "\n",
        "Пример:\n",
        "\n"
      ]
    },
    {
      "cell_type": "code",
      "metadata": {
        "id": "mk-ZKZY8Drf7",
        "colab_type": "code",
        "outputId": "0cfef7d1-7e1c-4760-f03f-52eb1eb57d83",
        "colab": {
          "base_uri": "https://localhost:8080/",
          "height": 34
        }
      },
      "source": [
        "# ваш код тут\n",
        "def calculator(*numb):\n",
        "  pl=[3,5,7,9]\n",
        "  mn=[2,4,6,8]\n",
        "  summ=0\n",
        "  for i in numb:\n",
        "    for j in range(4):\n",
        "      if i%pl[j]==0:\n",
        "        summ+=i\n",
        "       # print('+',pl[j], num)\n",
        "      if i%mn[j]==0:\n",
        "        summ-=i\n",
        "        #print ('-',mn[j], num)\n",
        "  return summ\n",
        "\n",
        "calculator(7,8913,100,87,0,3011)\n",
        "assert calculator(1, 123, 44, 65, 34, 5) == 71\n",
        "assert calculator(18, 9, 199, 54854, 4) == -54844\n",
        "assert calculator(7,8913,100,87,0,3011) == 8907\n",
        "assert calculator(3,81,90,7013,10000,1) == -19745\n",
        "assert calculator(2,9,1099,6051,1547) == 8713\n",
        "\n",
        "print(\"OK\")"
      ],
      "execution_count": 11,
      "outputs": [
        {
          "output_type": "stream",
          "text": [
            "OK\n"
          ],
          "name": "stdout"
        }
      ]
    },
    {
      "cell_type": "markdown",
      "metadata": {
        "id": "rSRw_Y0aDrf-",
        "colab_type": "text"
      },
      "source": [
        "# Задача 5\n",
        "\n",
        "Реализовать функцию fib которая считает число Фибоначчи. Где 1-е число равно 0, второе равно 1, а n число равно сумме двух предыдущих.\n",
        "\n",
        "![1_cxQUnD3J3jMDIQTpsB7PNQ.gif](https://miro.medium.com/proxy/1*cxQUnD3J3jMDIQTpsB7PNQ.gif)\n",
        "\n",
        "Визуализация древа рекурсии, показывающая рекурсивное вычисление, которое приводит к fib(4) = 3. Обратите внимание, что вычисление сначала выполняется в глубину."
      ]
    },
    {
      "cell_type": "code",
      "metadata": {
        "id": "tLgoUcYxDrf_",
        "colab_type": "code",
        "outputId": "cb390c21-2d91-4903-cffe-0eb4e12de932",
        "colab": {
          "base_uri": "https://localhost:8080/",
          "height": 51
        }
      },
      "source": [
        "# ваш код тут\n",
        "\n",
        "def fib(n):\n",
        "  if n==1:\n",
        "    return  1\n",
        "  if n==0:\n",
        "    return 0\n",
        "  return fib(n-1) + fib(n-2)\n",
        "\n",
        "print(fib(4))\n",
        "  \n",
        "\n",
        "assert fib(4) == 3\n",
        "assert fib(10) == 55\n",
        "assert fib(15) == 610\n",
        "assert fib(8) == 21\n",
        "assert fib(2) == 1\n",
        "\n",
        "print(\"ОК\")\n"
      ],
      "execution_count": 12,
      "outputs": [
        {
          "output_type": "stream",
          "text": [
            "3\n",
            "ОК\n"
          ],
          "name": "stdout"
        }
      ]
    },
    {
      "cell_type": "code",
      "metadata": {
        "id": "ag3hwQXZDrgC",
        "colab_type": "code",
        "colab": {}
      },
      "source": [
        ""
      ],
      "execution_count": 0,
      "outputs": []
    }
  ]
}
{
  "nbformat": 4,
  "nbformat_minor": 0,
  "metadata": {
    "kernelspec": {
      "display_name": "Python 3",
      "language": "python",
      "name": "python3"
    },
    "language_info": {
      "codemirror_mode": {
        "name": "ipython",
        "version": 3
      },
      "file_extension": ".py",
      "mimetype": "text/x-python",
      "name": "python",
      "nbconvert_exporter": "python",
      "pygments_lexer": "ipython3",
      "version": "3.7.1"
    },
    "colab": {
      "name": "005_functions_homework_SNFasolya.ipynb",
      "provenance": [],
      "collapsed_sections": []
    }
  },
  "cells": [
    {
      "cell_type": "markdown",
      "metadata": {
        "id": "qAL0P_R_Drfo",
        "colab_type": "text"
      },
      "source": [
        "# Домашняя работа по теме Функции\n",
        "\n",
        "# Задача 1"
      ]
    },
    {
      "cell_type": "markdown",
      "metadata": {
        "id": "3gXYWtHCDrfp",
        "colab_type": "text"
      },
      "source": [
        "Вы разработчик в фирме по разработке программного обеспечения.\n",
        "\n",
        "Вам досталась задача по разработке функции синтеза чисел в слова.\n",
        "\n",
        "4 -> \"четыре\"<br>\n",
        "122 -> \"сто двадцать два\"<br>\n",
        "55 -> \"пятьдесят пять\"<br>\n",
        "\n",
        "Вам необходимо реализовать функцию digit_to_words.<br>\n",
        "Функция должна принимать в качестве аргумента число целое.<br>\n",
        "На выходе функция должна возвращать строку после преобразования в текст.<br>\n",
        "\n",
        "Ограничение в размерности числа на входе - 3 разряда. (999 - максимальное число)"
      ]
    },
    {
      "cell_type": "code",
      "metadata": {
        "id": "Ko5_rPKWDrfq",
        "colab_type": "code",
        "outputId": "e706ea4a-9422-4fa5-b7b4-97ecd91aba83",
        "colab": {
          "base_uri": "https://localhost:8080/",
          "height": 34
        }
      },
      "source": [
        "#ваш код тут\n",
        "def digit_to_words(n):\n",
        "\n",
        "  d = {\n",
        "      0:'ноль',\n",
        "      1:'один',\n",
        "      2:'два',\n",
        "      3:'три',\n",
        "      4:'четыре',\n",
        "      5:'пять',\n",
        "      6:'шесть',\n",
        "      7:'семь',\n",
        "      8:'восемь',\n",
        "      9:'девять',\n",
        "      10:'десять',\n",
        "      11:'одинадцать',\n",
        "      12:'двенадцать',\n",
        "      13:'тринадцать',\n",
        "      14:'четырнадцать',\n",
        "      15:'пятнадцать',\n",
        "      16:'шестнадцать',\n",
        "      17:'семнадцать',\n",
        "      18:'восемнадцать',\n",
        "      19:'девятнадцать',\n",
        "      20:'двадцать',\n",
        "      30:'тридцать',\n",
        "      40:'сорок',\n",
        "      50:'пятьдесят',\n",
        "      60:'шестьдесят',\n",
        "      70:'семьдесят',\n",
        "      80:'восемьдесят',\n",
        "      90:'девяносто',\n",
        "      100:'сто',\n",
        "      200:'двести',\n",
        "      300:'триста',\n",
        "      400:'четыреста',\n",
        "      500:'пятьсот',\n",
        "      600:'шестьсот',\n",
        "      700:'семьсот',\n",
        "      800:'восемьсот',\n",
        "      900:'девятьсот'    \n",
        "    }\n",
        "  \n",
        "  for j in range(1000):\n",
        "    for i in range(10,20):\n",
        "      if d.get(j,0) == 0 and j%100==i:\n",
        "          d[j]=d[j-1] + ' ' + d[i]\n",
        "    for i in range(1,10):\n",
        "      if d.get(j,0) == 0 and j%10==i:\n",
        "          d[j]=d[j-1] + ' ' + d[i]\n",
        "    for i in range(2,10):    \n",
        "      if d.get(j,0) == 0 and j%100==i*10:\n",
        "          d[j]=d[j-i*10] + ' ' + d[i*10]\n",
        "  return d[n]        \n",
        "\n",
        "\n",
        "  \n",
        "# assert digit_to_words(4)=='четыре'\n",
        "# assert digit_to_words(143)=='сто сорок три'\n",
        "# assert digit_to_words(12)=='двенадцать'\n",
        "# assert digit_to_words(101)=='сто один'\n",
        "# assert digit_to_words(212)=='двести двенадцать'\n",
        "# assert digit_to_words(40)=='сорок'\n",
        "print(\"ОК\")"
      ],
      "execution_count": 8,
      "outputs": [
        {
          "output_type": "stream",
          "text": [
            "ОК\n"
          ],
          "name": "stdout"
        }
      ]
    },
    {
      "cell_type": "markdown",
      "metadata": {
        "id": "rLbil1CTDrfu",
        "colab_type": "text"
      },
      "source": [
        "# Задача 2"
      ]
    },
    {
      "cell_type": "markdown",
      "metadata": {
        "id": "K9xxA3mRDrfv",
        "colab_type": "text"
      },
      "source": [
        "Вам необходимо разработать функцию time_converter по преобразованию времени.\n",
        "На входе время в 12 часовом формате американском, на выходе время в 24 часовом формате.\n"
      ]
    },
    {
      "cell_type": "code",
      "metadata": {
        "id": "VVAu9gUwDrfv",
        "colab_type": "code",
        "outputId": "5b102f82-4b56-4991-dd26-7a96bf1598f8",
        "colab": {
          "base_uri": "https://localhost:8080/",
          "height": 34
        }
      },
      "source": [
        "#ваша функция здесь\n",
        "import time\n",
        "def time_converter(s):\n",
        "  s=s.replace('.','')\n",
        "  return time.strftime('%H:%M', time.strptime(s, '%I:%M %p'))\n",
        "\n",
        "assert time_converter('12:30 p.m.') == '12:30'\n",
        "assert time_converter('9:00 a.m.') == '09:00'\n",
        "assert time_converter('11:15 p.m.') == '23:15'\n",
        "\n",
        "print(\"OK\")"
      ],
      "execution_count": 6,
      "outputs": [
        {
          "output_type": "stream",
          "text": [
            "OK\n"
          ],
          "name": "stdout"
        }
      ]
    },
    {
      "cell_type": "markdown",
      "metadata": {
        "id": "GrglCtfTDrfz",
        "colab_type": "text"
      },
      "source": [
        "# Задача 3\n",
        "У вас есть программируемая диодная лента. Светодиоды могут светиться 7 цветами.<br>\n",
        "Каждый цвет включается в зависимости от подаваемого на контакты управления сигнала. <br>\n",
        "Кодировка сигналов представленна ниже:<br>\n",
        "\n",
        "Красный - 1<br>\n",
        "Оранжевый - 6<br>\n",
        "Желтый - 2<br>\n",
        "Зеленый - 4<br>\n",
        "Голубой - 5<br>\n",
        "Синий - 3<br>\n",
        "Фиолетовый - 7<br>\n",
        "Черный(выключение светодиодов) - 0<br>\n",
        "\n",
        "Вам необходимо разработать программу управления светодиодной лентой.<br>\n",
        "В данной задаче работу ленты эмулирует функция colored_light_on_dec.<br>\n",
        "\n",
        "Ваша задача(часть 1):<br>\n",
        "Разработать функцию lamp_regulator.<br>\n",
        "Входные данные: список в котором задана последовательность включения лампочек.<br>\n",
        "Выходные данные: Функция проигрывает цвета, которыми будет светиться лампочка. Интервал между цветами 5 секунд. Если последовательность цветов закончилась, значит начинаем с начала.<br>\n",
        "Ограничение на время проигрывания цветов 60 секунд(даже если не доиграли программу).<br>\n",
        "\n",
        "\n",
        "Вы купили вторую диодную ленту, только в отличие от первой, она управляется бинарными сигналами.<br>\n",
        "Ваша задача(часть 2):<br>\n",
        "\n",
        "Разработать функцию dec_to_binary.<br>\n",
        "Входные данные: числа в 10 системе счисления.<br>\n",
        "Выходные данные: числа в двоичной системе счисления.<br>\n",
        "\n",
        "Вам необходимо зажигать лампочки на обоих лентах сразу. В данной задаче работу второй ленты эмулирует функция colored_light_on_bin.<br>\n"
      ]
    },
    {
      "cell_type": "code",
      "metadata": {
        "id": "YaSBFIhqDrf0",
        "colab_type": "code",
        "outputId": "5a0ecbcd-5e12-4f21-a6af-48993ff82524",
        "colab": {
          "base_uri": "https://localhost:8080/",
          "height": 498
        }
      },
      "source": [
        "lamps = {\n",
        "    'bin':{\n",
        "        '0b0': \"Черный\",\n",
        "        '0b1': \"Красный\",\n",
        "        '0b10': \"Желтый\",\n",
        "        '0b11': \"Синий\",\n",
        "        '0b100': \"Зеленый\",\n",
        "        '0b101': \"Голубой\",\n",
        "        '0b110': \"Оранжевый\",\n",
        "        '0b111': \"Фиолетовый\"\n",
        "    },\n",
        "    'dec':{\n",
        "        0: \"Черный\",\n",
        "        1: \"Красный\",\n",
        "        2: \"Желтый\",\n",
        "        3: \"Синий\",\n",
        "        4: \"Зеленый\",\n",
        "        5: \"Голубой\",\n",
        "        6: \"Оранжевый\",\n",
        "        7: \"Фиолетовый\"\n",
        "    }\n",
        "}\n",
        "\n",
        "\n",
        "\n",
        "\n",
        "def colored_light_on_dec(signal):\n",
        "    print(\"Signal\", signal, \"Лампочки светятся цветом:\", lamps['dec'][signal]) if lamps['dec'].get(signal, False) is not False else print(\"Signal\", signal, \"Лампочки светятся цветом:\", \"Черный\")\n",
        "    \n",
        "def colored_light_on_bin(signal):\n",
        "    print(\"Signal\", signal, \"Лампочки светятся цветом:\", lamps['bin'][signal]) if lamps['bin'].get(signal, False) is not False else print(\"Signal\", signal, \"Лампочки светятся цветом:\", \"Черный\")\n",
        "\n",
        "#программа зажигания лампочек\n",
        "programm = ['Красный', 'Зеленый', 'Черный', 'Синий', 'Фиолетовый', 'Голубой', 'Оранжевый', 'Желтый']\n",
        "\n",
        "# Ваш код тут\n",
        "\n",
        "import time\n",
        "\n",
        "def lamp_regulator(programm):\n",
        "      \n",
        "    start_time = time.time()\n",
        "    while (time.time()-start_time)<60:\n",
        "      for i in programm:\n",
        "        if (time.time()-start_time)>60:\n",
        "          break\n",
        "\n",
        "        for k,v in lamps['dec'].items():\n",
        "          if v==i:\n",
        "            colored_light_on_dec(k)\n",
        "        for k,v in lamps['bin'].items():\n",
        "          if v==i:\n",
        "            colored_light_on_bin(k)\n",
        "        print(datetime.now())\n",
        "        time.sleep(5)\n",
        "      \n",
        "lamp_regulator(programm)\n",
        "\n",
        "    "
      ],
      "execution_count": 59,
      "outputs": [
        {
          "output_type": "stream",
          "text": [
            "Signal 1 Лампочки светятся цветом: Красный\n",
            "Signal 0b1 Лампочки светятся цветом: Красный\n",
            "2019-10-23 20:25:58.257890\n",
            "Signal 4 Лампочки светятся цветом: Зеленый\n",
            "Signal 0b100 Лампочки светятся цветом: Зеленый\n",
            "2019-10-23 20:26:03.264161\n",
            "Signal 0 Лампочки светятся цветом: Черный\n",
            "Signal 0b0 Лампочки светятся цветом: Черный\n",
            "2019-10-23 20:26:08.269698\n"
          ],
          "name": "stdout"
        },
        {
          "output_type": "error",
          "ename": "KeyboardInterrupt",
          "evalue": "ignored",
          "traceback": [
            "\u001b[0;31m---------------------------------------------------------------------------\u001b[0m",
            "\u001b[0;31mKeyboardInterrupt\u001b[0m                         Traceback (most recent call last)",
            "\u001b[0;32m<ipython-input-59-3c642978912c>\u001b[0m in \u001b[0;36m<module>\u001b[0;34m()\u001b[0m\n\u001b[1;32m     55\u001b[0m         \u001b[0mtime\u001b[0m\u001b[0;34m.\u001b[0m\u001b[0msleep\u001b[0m\u001b[0;34m(\u001b[0m\u001b[0;36m5\u001b[0m\u001b[0;34m)\u001b[0m\u001b[0;34m\u001b[0m\u001b[0;34m\u001b[0m\u001b[0m\n\u001b[1;32m     56\u001b[0m \u001b[0;34m\u001b[0m\u001b[0m\n\u001b[0;32m---> 57\u001b[0;31m \u001b[0mlamp_regulator\u001b[0m\u001b[0;34m(\u001b[0m\u001b[0mprogramm\u001b[0m\u001b[0;34m)\u001b[0m\u001b[0;34m\u001b[0m\u001b[0;34m\u001b[0m\u001b[0m\n\u001b[0m\u001b[1;32m     58\u001b[0m \u001b[0;34m\u001b[0m\u001b[0m\n\u001b[1;32m     59\u001b[0m \u001b[0;34m\u001b[0m\u001b[0m\n",
            "\u001b[0;32m<ipython-input-59-3c642978912c>\u001b[0m in \u001b[0;36mlamp_regulator\u001b[0;34m(programm)\u001b[0m\n\u001b[1;32m     53\u001b[0m             \u001b[0mcolored_light_on_bin\u001b[0m\u001b[0;34m(\u001b[0m\u001b[0mk\u001b[0m\u001b[0;34m)\u001b[0m\u001b[0;34m\u001b[0m\u001b[0;34m\u001b[0m\u001b[0m\n\u001b[1;32m     54\u001b[0m         \u001b[0mprint\u001b[0m\u001b[0;34m(\u001b[0m\u001b[0mdatetime\u001b[0m\u001b[0;34m.\u001b[0m\u001b[0mnow\u001b[0m\u001b[0;34m(\u001b[0m\u001b[0;34m)\u001b[0m\u001b[0;34m)\u001b[0m\u001b[0;34m\u001b[0m\u001b[0;34m\u001b[0m\u001b[0m\n\u001b[0;32m---> 55\u001b[0;31m         \u001b[0mtime\u001b[0m\u001b[0;34m.\u001b[0m\u001b[0msleep\u001b[0m\u001b[0;34m(\u001b[0m\u001b[0;36m5\u001b[0m\u001b[0;34m)\u001b[0m\u001b[0;34m\u001b[0m\u001b[0;34m\u001b[0m\u001b[0m\n\u001b[0m\u001b[1;32m     56\u001b[0m \u001b[0;34m\u001b[0m\u001b[0m\n\u001b[1;32m     57\u001b[0m \u001b[0mlamp_regulator\u001b[0m\u001b[0;34m(\u001b[0m\u001b[0mprogramm\u001b[0m\u001b[0;34m)\u001b[0m\u001b[0;34m\u001b[0m\u001b[0;34m\u001b[0m\u001b[0m\n",
            "\u001b[0;31mKeyboardInterrupt\u001b[0m: "
          ]
        }
      ]
    },
    {
      "cell_type": "markdown",
      "metadata": {
        "id": "c8GJsp8WDrf6",
        "colab_type": "text"
      },
      "source": [
        "# Задача 4\n",
        "\n",
        "У вас есть задача - написать специфичный калькулятор.\n",
        "\n",
        "Калькулятор:\n",
        " - прибавляет к итоговому числу данное число, если это число делится на 3,5,7,9 без остатка.\n",
        " - отнимает от итогового числа данное число, если это число делится на 2,4,6,8 без остатка.\n",
        " \n",
        "Необходимо разработать функцию calculator, которая будет принимать не ограниченное число аргументов(не именованных), производить операции над ними и выдавать итоговый результат.\n",
        "\n",
        "Пример:\n",
        "\n"
      ]
    },
    {
      "cell_type": "code",
      "metadata": {
        "id": "mk-ZKZY8Drf7",
        "colab_type": "code",
        "colab": {
          "base_uri": "https://localhost:8080/",
          "height": 34
        },
        "outputId": "13ee65c8-94d1-4d3f-c0fc-81790d114d9e"
      },
      "source": [
        "# ваш код тут\n",
        "def calculator(*args):\n",
        "    a=0\n",
        "    for i in args:\n",
        "       \n",
        "      if i%3==0:\n",
        "          a+=i\n",
        "          \n",
        "      if i%5==0:\n",
        "          a+=i\n",
        "          \n",
        "      if i%7==0:\n",
        "          a+=i\n",
        "          \n",
        "      if i%9==0:\n",
        "          a+=i\n",
        "          \n",
        "      if i%2==0:\n",
        "          a-=i \n",
        "          \n",
        "      if i%4==0:\n",
        "          a-=i\n",
        "          \n",
        "      if i%6==0:\n",
        "          a-=i\n",
        "          \n",
        "      if i%8==0:\n",
        "          a-=i  \n",
        "    return a     \n",
        "        \n",
        "    \n",
        "\n",
        "\n",
        "assert calculator(1, 123, 44, 65, 34, 5) == 71\n",
        "assert calculator(18, 9, 199, 54854, 4) == -54844\n",
        "assert calculator(7,8913,100,87,0,3011) == 8907\n",
        "assert calculator(3,81,90,7013,10000,1) == -19745\n",
        "assert calculator(2,9,1099,6051,1547) == 8713\n",
        "\n",
        "print(\"OK\")"
      ],
      "execution_count": 11,
      "outputs": [
        {
          "output_type": "stream",
          "text": [
            "OK\n"
          ],
          "name": "stdout"
        }
      ]
    },
    {
      "cell_type": "markdown",
      "metadata": {
        "id": "rSRw_Y0aDrf-",
        "colab_type": "text"
      },
      "source": [
        "# Задача 5\n",
        "\n",
        "Реализовать функцию fib которая считает число Фибоначчи. Где 1-е число равно 0, второе равно 1, а n число равно сумме двух предыдущих.\n",
        "\n",
        "![1_cxQUnD3J3jMDIQTpsB7PNQ.gif](https://miro.medium.com/proxy/1*cxQUnD3J3jMDIQTpsB7PNQ.gif)\n",
        "\n",
        "Визуализация древа рекурсии, показывающая рекурсивное вычисление, которое приводит к fib(4) = 3. Обратите внимание, что вычисление сначала выполняется в глубину."
      ]
    },
    {
      "cell_type": "code",
      "metadata": {
        "id": "tLgoUcYxDrf_",
        "colab_type": "code",
        "outputId": "93ac60f4-1ec4-41ab-f26b-16bfae9a7248",
        "colab": {
          "base_uri": "https://localhost:8080/",
          "height": 34
        }
      },
      "source": [
        "# ваш код тут\n",
        "def fib(n):\n",
        "    if n in (1, 2):\n",
        "        return 1\n",
        "    return fib(n - 1) + fib(n - 2)\n",
        "    \n",
        "\n",
        "\n",
        "\n",
        "assert fib(4) == 3\n",
        "assert fib(10) == 55\n",
        "assert fib(15) == 610\n",
        "assert fib(8) == 21\n",
        "assert fib(2) == 1\n",
        "\n",
        "print(\"ОК\")\n",
        "\n",
        "\n"
      ],
      "execution_count": 61,
      "outputs": [
        {
          "output_type": "stream",
          "text": [
            "ОК\n"
          ],
          "name": "stdout"
        }
      ]
    },
    {
      "cell_type": "code",
      "metadata": {
        "id": "ag3hwQXZDrgC",
        "colab_type": "code",
        "colab": {}
      },
      "source": [
        ""
      ],
      "execution_count": 0,
      "outputs": []
    }
  ]
}
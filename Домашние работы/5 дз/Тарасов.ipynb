{
  "nbformat": 4,
  "nbformat_minor": 0,
  "metadata": {
    "kernelspec": {
      "display_name": "Python 3",
      "language": "python",
      "name": "python3"
    },
    "language_info": {
      "codemirror_mode": {
        "name": "ipython",
        "version": 3
      },
      "file_extension": ".py",
      "mimetype": "text/x-python",
      "name": "python",
      "nbconvert_exporter": "python",
      "pygments_lexer": "ipython3",
      "version": "3.7.1"
    },
    "colab": {
      "name": "05_functions_homework.ipynb",
      "provenance": []
    }
  },
  "cells": [
    {
      "cell_type": "markdown",
      "metadata": {
        "id": "qAL0P_R_Drfo",
        "colab_type": "text"
      },
      "source": [
        "# Домашняя работа по теме Функции\n",
        "\n",
        "# Задача 1"
      ]
    },
    {
      "cell_type": "markdown",
      "metadata": {
        "id": "3gXYWtHCDrfp",
        "colab_type": "text"
      },
      "source": [
        "Вы разработчик в фирме по разработке программного обеспечения.\n",
        "\n",
        "Вам досталась задача по разработке функции синтеза чисел в слова.\n",
        "\n",
        "4 -> \"четыре\"<br>\n",
        "122 -> \"сто двадцать два\"<br>\n",
        "55 -> \"пятьдесят пять\"<br>\n",
        "\n",
        "Вам необходимо реализовать функцию digit_to_words.<br>\n",
        "Функция должна принимать в качестве аргумента число целое.<br>\n",
        "На выходе функция должна возвращать строку после преобразования в текст.<br>\n",
        "\n",
        "Ограничение в размерности числа на входе - 3 разряда. (999 - максимальное число)"
      ]
    },
    {
      "cell_type": "code",
      "metadata": {
        "id": "Ko5_rPKWDrfq",
        "colab_type": "code",
        "outputId": "981870ad-4db3-4848-e15f-64c4663c81fb",
        "colab": {
          "base_uri": "https://localhost:8080/",
          "height": 34
        }
      },
      "source": [
        "#ваш код тут\n",
        "\n",
        "def digit_to_words(n):\n",
        "  if n > 999:\n",
        "    return 'УПС...'\n",
        "  a = {1: 'один', 2: 'два', 3: 'три', 4: 'четыре', 5: 'пять', 6: 'шесть', 7: 'семь', 8: 'восемь', 9: 'девять'}\n",
        "  b = {10: 'десять', 20: 'двадцать', 30: 'тридцать', 40: 'сорок', 50: 'пятьдесят', 60: 'шестьдесят', 70: 'семьдесят', 80: 'восемьдесят', 90: 'девяносто'}\n",
        "  c = {11: 'одиннадцать', 12: 'двенадцать', 13: 'тринадцать', 14: 'четырнадцать', 15: 'пятнадцать', 16: 'шестнадцать', 17: 'семнадцать', 18: 'восемнадцать', 19: 'девятнадцать'}\n",
        "  d = {100: 'сто', 200: 'двести', 300: 'триста', 400: 'четыреста', 500: 'пятьсот', 600: 'шетьсот', 700: 'семьсот', 800: 'восемьсот', 900: 'девятьсот',}\n",
        "  n1 = n % 10\n",
        "  n2 = n - n1\n",
        "  n3 = (n // 100) * 100\n",
        "  if n < 10:\n",
        "    return a.get(n)\n",
        "  elif 10 < n < 20:\n",
        "    return c.get(n)\n",
        "  elif n >= 10 and n in b:\n",
        "    return b.get(n)\n",
        "  elif n >= 10 and n < 100 and n not in b:\n",
        "    return b.get(n2) + ' ' + a.get(n1)\n",
        "  elif n > 99 and n in d:\n",
        "    return d.get(n)\n",
        "  else:\n",
        "    t = n % 100\n",
        "    if t < 10:\n",
        "      return d.get(n3)+ ' ' + a.get(t) \n",
        "    if 10 < t < 20:\n",
        "      return d.get(n3)+ ' ' + c.get(t) \n",
        "    elif t >= 10 and t in b:\n",
        "      return d.get(n3)+ ' ' + b.get(t)\n",
        "    elif t >= 10 and t < 100 and t not in b:\n",
        "      t1 = t % 10\n",
        "      t2 = t - t1\n",
        "      return d.get(n3) + ' ' + b.get(t2) + ' ' + a.get(t1)\n",
        "      \n",
        "assert digit_to_words(4)=='четыре'\n",
        "assert digit_to_words(143)=='сто сорок три'\n",
        "assert digit_to_words(12)=='двенадцать'\n",
        "assert digit_to_words(101)=='сто один'\n",
        "assert digit_to_words(212)=='двести двенадцать'\n",
        "assert digit_to_words(40)=='сорок'\n",
        "\n",
        "print(\"ОК\")"
      ],
      "execution_count": 136,
      "outputs": [
        {
          "output_type": "stream",
          "text": [
            "ОК\n"
          ],
          "name": "stdout"
        }
      ]
    },
    {
      "cell_type": "markdown",
      "metadata": {
        "id": "rLbil1CTDrfu",
        "colab_type": "text"
      },
      "source": [
        "# Задача 2"
      ]
    },
    {
      "cell_type": "markdown",
      "metadata": {
        "id": "K9xxA3mRDrfv",
        "colab_type": "text"
      },
      "source": [
        "Вам необходимо разработать функцию time_converter по преобразованию времени.\n",
        "На входе время в 12 часовом формате американском, на выходе время в 24 часовом формате.\n"
      ]
    },
    {
      "cell_type": "code",
      "metadata": {
        "id": "VVAu9gUwDrfv",
        "colab_type": "code",
        "colab": {
          "base_uri": "https://localhost:8080/",
          "height": 34
        },
        "outputId": "b04467ff-1a0d-4b11-c45c-c3398a8182c3"
      },
      "source": [
        "#ваша функция здесь\n",
        "from datetime import datetime\n",
        "\n",
        "def time_converter (t):\n",
        "  t = t.replace('.','')\n",
        "  a = datetime.strptime(t, '%I:%M %p')\n",
        "  b = datetime.strftime(a, \"%H:%M\")\n",
        "  return b\n",
        "\n",
        "assert time_converter('12:30 p.m.') == '12:30'\n",
        "assert time_converter('9:00 a.m.') == '09:00'\n",
        "assert time_converter('11:15 p.m.') == '23:15'\n",
        "\n",
        "print(\"OK\")"
      ],
      "execution_count": 85,
      "outputs": [
        {
          "output_type": "stream",
          "text": [
            "OK\n"
          ],
          "name": "stdout"
        }
      ]
    },
    {
      "cell_type": "markdown",
      "metadata": {
        "id": "GrglCtfTDrfz",
        "colab_type": "text"
      },
      "source": [
        "# Задача 3\n",
        "У вас есть программируемая диодная лента. Светодиоды могут светиться 7 цветами.<br>\n",
        "Каждый цвет включается в зависимости от подаваемого на контакты управления сигнала. <br>\n",
        "Кодировка сигналов представленна ниже:<br>\n",
        "\n",
        "Красный - 1<br>\n",
        "Оранжевый - 6<br>\n",
        "Желтый - 2<br>\n",
        "Зеленый - 4<br>\n",
        "Голубой - 5<br>\n",
        "Синий - 3<br>\n",
        "Фиолетовый - 7<br>\n",
        "Черный(выключение светодиодов) - 0<br>\n",
        "\n",
        "Вам необходимо разработать программу управления светодиодной лентой.<br>\n",
        "В данной задаче работу ленты эмулирует функция colored_light_on_dec.<br>\n",
        "\n",
        "Ваша задача(часть 1):<br>\n",
        "Разработать функцию lamp_regulator.<br>\n",
        "Входные данные: список в котором задана последовательность включения лампочек.<br>\n",
        "Выходные данные: Функция проигрывает цвета, которыми будет светиться лампочка. Интервал между цветами 5 секунд. Если последовательность цветов закончилась, значит начинаем с начала.<br>\n",
        "Ограничение на время проигрывания цветов 60 секунд(даже если не доиграли программу).<br>\n",
        "\n",
        "\n",
        "Вы купили вторую диодную ленту, только в отличие от первой, она управляется бинарными сигналами.<br>\n",
        "Ваша задача(часть 2):<br>\n",
        "\n",
        "Разработать функцию dec_to_binary.<br>\n",
        "Входные данные: числа в 10 системе счисления.<br>\n",
        "Выходные данные: числа в двоичной системе счисления.<br>\n",
        "\n",
        "Вам необходимо зажигать лампочки на обоих лентах сразу. В данной задаче работу второй ленты эмулирует функция colored_light_on_bin.<br>\n"
      ]
    },
    {
      "cell_type": "code",
      "metadata": {
        "id": "YaSBFIhqDrf0",
        "colab_type": "code",
        "outputId": "4bcc502a-427b-4301-b2ad-8d572118c4ff",
        "colab": {
          "base_uri": "https://localhost:8080/",
          "height": 272
        }
      },
      "source": [
        "lamps = {\n",
        "    'bin':{\n",
        "        '0b0': \"Черный\",\n",
        "        '0b1': \"Красный\",\n",
        "        '0b10': \"Желтый\",\n",
        "        '0b11': \"Синий\",\n",
        "        '0b100': \"Зеленый\",\n",
        "        '0b101': \"Голубой\",\n",
        "        '0b110': \"Оранжевый\",\n",
        "        '0b111': \"Фиолетовый\"\n",
        "    },\n",
        "    'dec':{\n",
        "        0: \"Черный\",\n",
        "        1: \"Красный\",\n",
        "        2: \"Желтый\",\n",
        "        3: \"Синий\",\n",
        "        4: \"Зеленый\",\n",
        "        5: \"Голубой\",\n",
        "        6: \"Оранжевый\",\n",
        "        7: \"Фиолетовый\"\n",
        "    }\n",
        "}\n",
        "\n",
        "def colored_light_on_dec(signal):\n",
        "    print(\"Signal\", signal, \"Лампочки светятся цветом:\", lamps['dec'][signal]) if lamps['dec'].get(signal, False) is not False else print(\"Signal\", signal, \"Лампочки светятся цветом:\", \"Черный\")\n",
        "    \n",
        "def colored_light_on_bin(signal):\n",
        "    print(\"Signal\", signal, \"Лампочки светятся цветом:\", lamps['bin'][signal]) if lamps['bin'].get(signal, False) is not False else print(\"Signal\", signal, \"Лампочки светятся цветом:\", \"Черный\")\n",
        "\n",
        "#программа зажигания лампочек\n",
        "programm = ['Красный', 'Зеленый', 'Черный', 'Синий', 'Фиолетовый', 'Голубой', 'Оранжевый', 'Желтый']\n",
        "\n",
        "# Ваш код тут\n",
        "\n",
        "import time\n",
        "\n",
        "# часть 1\n",
        "\n",
        "def lamp_regulator(p): \n",
        "    t = 0\n",
        "    while t < 12:\n",
        "      for i in p:\n",
        "        if t == 12:\n",
        "          break\n",
        "        elif i == 'Красный':\n",
        "          t += 1\n",
        "          colored_light_on_dec(1)\n",
        "          time.sleep(5)\n",
        "        elif i == 'Зеленый':\n",
        "          t += 1\n",
        "          colored_light_on_dec(4)\n",
        "          time.sleep(5)\n",
        "        elif i == 'Черный':\n",
        "          t += 1\n",
        "          colored_light_on_dec(0)\n",
        "          time.sleep(5)\n",
        "        elif i == 'Синий':\n",
        "          t += 1\n",
        "          colored_light_on_dec(3)\n",
        "          time.sleep(5)\n",
        "        elif i == 'Фиолетовый':\n",
        "          t += 1\n",
        "          colored_light_on_dec(7)\n",
        "          time.sleep(5)\n",
        "        elif i == 'Голубой':\n",
        "          t += 1\n",
        "          colored_light_on_dec(5)\n",
        "          time.sleep(5)\n",
        "        elif i == 'Оранжевый':\n",
        "          t += 1\n",
        "          colored_light_on_dec(6)\n",
        "          time.sleep(5)\n",
        "        elif i == 'Желтый':\n",
        "          t += 1\n",
        "          colored_light_on_dec(2)\n",
        "          time.sleep(5)\n",
        "          \n",
        "lamp_regulator(programm)\n",
        "\n",
        "# Часть 2\n",
        "\n",
        "def dec_to_binary(d):\n",
        "  if d > 7:\n",
        "    return print ('Неа, только целые числа от 1 до 7')\n",
        "  else:\n",
        "    b = bin(d)\n",
        "    colored_light_on_dec(d)\n",
        "    colored_light_on_bin(b)\n",
        "  \n",
        "dec_to_binary(int(input('Ввести целое число от 1 до 7: ')))"
      ],
      "execution_count": 138,
      "outputs": [
        {
          "output_type": "stream",
          "text": [
            "Signal 1 Лампочки светятся цветом: Красный\n",
            "Signal 4 Лампочки светятся цветом: Зеленый\n",
            "Signal 0 Лампочки светятся цветом: Черный\n",
            "Signal 3 Лампочки светятся цветом: Синий\n",
            "Signal 7 Лампочки светятся цветом: Фиолетовый\n",
            "Signal 5 Лампочки светятся цветом: Голубой\n",
            "Signal 6 Лампочки светятся цветом: Оранжевый\n",
            "Signal 2 Лампочки светятся цветом: Желтый\n",
            "Signal 1 Лампочки светятся цветом: Красный\n",
            "Signal 4 Лампочки светятся цветом: Зеленый\n",
            "Signal 0 Лампочки светятся цветом: Черный\n",
            "Signal 3 Лампочки светятся цветом: Синий\n",
            "Ввести целое число от 1 до 7: 4\n",
            "Signal 4 Лампочки светятся цветом: Зеленый\n",
            "Signal 0b100 Лампочки светятся цветом: Зеленый\n"
          ],
          "name": "stdout"
        }
      ]
    },
    {
      "cell_type": "markdown",
      "metadata": {
        "id": "c8GJsp8WDrf6",
        "colab_type": "text"
      },
      "source": [
        "# Задача 4\n",
        "\n",
        "У вас есть задача - написать специфичный калькулятор.\n",
        "\n",
        "Калькулятор:\n",
        " - прибавляет к итоговому числу данное число, если это число делится на 3,5,7,9 без остатка.\n",
        " - отнимает от итогового числа данное число, если это число делится на 2,4,6,8 без остатка.\n",
        " \n",
        "Необходимо разработать функцию calculator, которая будет принимать не ограниченное число аргументов(не именованных), производить операции над ними и выдавать итоговый результат.\n",
        "\n",
        "Пример:\n",
        "\n"
      ]
    },
    {
      "cell_type": "code",
      "metadata": {
        "id": "mk-ZKZY8Drf7",
        "colab_type": "code",
        "colab": {
          "base_uri": "https://localhost:8080/",
          "height": 34
        },
        "outputId": "38ea077c-9ecc-4393-f954-4511d3aca898"
      },
      "source": [
        "# ваш код тут\n",
        "\n",
        "def calculator(*args):\n",
        "  result = 0\n",
        "  for i in args:\n",
        "    if i % 3 == 0:\n",
        "      result += i\n",
        "    if i % 5 == 0:\n",
        "      result += i\n",
        "    if i % 7 == 0:\n",
        "      result += i\n",
        "    if i % 9 == 0:\n",
        "      result += i\n",
        "    if i % 2 == 0:\n",
        "      result -= i\n",
        "    if i % 4 == 0:\n",
        "      result -= i\n",
        "    if i % 6 == 0:\n",
        "      result -= i\n",
        "    if i % 8 == 0:\n",
        "      result -= i\n",
        "  return result\n",
        "\n",
        "assert calculator(1, 123, 44, 65, 34, 5) == 71\n",
        "assert calculator(18, 9, 199, 54854, 4) == -54844\n",
        "assert calculator(7,8913,100,87,0,3011) == 8907\n",
        "assert calculator(3,81,90,7013,10000,1) == -19745\n",
        "assert calculator(2,9,1099,6051,1547) == 8713\n",
        "\n",
        "print(\"OK\")"
      ],
      "execution_count": 140,
      "outputs": [
        {
          "output_type": "stream",
          "text": [
            "OK\n"
          ],
          "name": "stdout"
        }
      ]
    },
    {
      "cell_type": "markdown",
      "metadata": {
        "id": "rSRw_Y0aDrf-",
        "colab_type": "text"
      },
      "source": [
        "# Задача 5\n",
        "\n",
        "Реализовать функцию fib которая считает число Фибоначчи. Где 1-е число равно 0, второе равно 1, а n число равно сумме двух предыдущих.\n",
        "\n",
        "![1_cxQUnD3J3jMDIQTpsB7PNQ.gif](https://miro.medium.com/proxy/1*cxQUnD3J3jMDIQTpsB7PNQ.gif)\n",
        "\n",
        "Визуализация древа рекурсии, показывающая рекурсивное вычисление, которое приводит к fib(4) = 3. Обратите внимание, что вычисление сначала выполняется в глубину."
      ]
    },
    {
      "cell_type": "code",
      "metadata": {
        "id": "tLgoUcYxDrf_",
        "colab_type": "code",
        "outputId": "6c91f435-3613-4615-b0c5-82464af2e0a0",
        "colab": {
          "base_uri": "https://localhost:8080/",
          "height": 34
        }
      },
      "source": [
        "# ваш код тут\n",
        "def fib (n):\n",
        "  if n > 2:\n",
        "    return fib(n - 1) + fib(n - 2)\n",
        "  else:\n",
        "    return 1\n",
        "\n",
        "assert fib(4) == 3\n",
        "assert fib(10) == 55\n",
        "assert fib(15) == 610\n",
        "assert fib(8) == 21\n",
        "assert fib(2) == 1\n",
        "\n",
        "print(\"ОК\")\n"
      ],
      "execution_count": 141,
      "outputs": [
        {
          "output_type": "stream",
          "text": [
            "ОК\n"
          ],
          "name": "stdout"
        }
      ]
    },
    {
      "cell_type": "code",
      "metadata": {
        "id": "ag3hwQXZDrgC",
        "colab_type": "code",
        "colab": {}
      },
      "source": [
        ""
      ],
      "execution_count": 0,
      "outputs": []
    }
  ]
}
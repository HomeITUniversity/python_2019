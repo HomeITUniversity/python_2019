{
  "nbformat": 4,
  "nbformat_minor": 0,
  "metadata": {
    "kernelspec": {
      "display_name": "Python 3",
      "language": "python",
      "name": "python3"
    },
    "language_info": {
      "codemirror_mode": {
        "name": "ipython",
        "version": 3
      },
      "file_extension": ".py",
      "mimetype": "text/x-python",
      "name": "python",
      "nbconvert_exporter": "python",
      "pygments_lexer": "ipython3",
      "version": "3.7.1"
    },
    "colab": {
      "name": "05_functions_homework Джамалов.ipynb",
      "provenance": []
    }
  },
  "cells": [
    {
      "cell_type": "markdown",
      "metadata": {
        "id": "qAL0P_R_Drfo",
        "colab_type": "text"
      },
      "source": [
        "# Домашняя работа по теме Функции\n",
        "\n",
        "# Задача 1"
      ]
    },
    {
      "cell_type": "markdown",
      "metadata": {
        "id": "3gXYWtHCDrfp",
        "colab_type": "text"
      },
      "source": [
        "Вы разработчик в фирме по разработке программного обеспечения.\n",
        "\n",
        "Вам досталась задача по разработке функции синтеза чисел в слова.\n",
        "\n",
        "4 -> \"четыре\"<br>\n",
        "122 -> \"сто двадцать два\"<br>\n",
        "55 -> \"пятьдесят пять\"<br>\n",
        "\n",
        "Вам необходимо реализовать функцию digit_to_words.<br>\n",
        "Функция должна принимать в качестве аргумента число целое.<br>\n",
        "На выходе функция должна возвращать строку после преобразования в текст.<br>\n",
        "\n",
        "Ограничение в размерности числа на входе - 3 разряда. (999 - максимальное число)"
      ]
    },
    {
      "cell_type": "code",
      "metadata": {
        "id": "Ko5_rPKWDrfq",
        "colab_type": "code",
        "outputId": "2df5cdb4-7905-42f6-8ebf-b5a906bae153",
        "colab": {
          "base_uri": "https://localhost:8080/",
          "height": 170
        }
      },
      "source": [
        "#ваш код тут\n",
        "!pip install num2words\n",
        "from num2words import num2words\n",
        "\n",
        "num2words(42, lang='ru')\n",
        "\n",
        "def digit_to_words(a):\n",
        "  words=num2words(a, lang='ru')\n",
        "  return words\n",
        "\n",
        "digit=int(input(\"Введите число:\"))\n",
        "\n",
        "if digit<1000:\n",
        "  print(digit_to_words(digit))\n",
        "else:\n",
        "  print(\"Число превышает допустимую размерность\")\n",
        "\n",
        "assert digit_to_words(4)=='четыре'\n",
        "assert digit_to_words(143)=='сто сорок три'\n",
        "assert digit_to_words(12)=='двенадцать'\n",
        "assert digit_to_words(101)=='сто один'\n",
        "assert digit_to_words(212)=='двести двенадцать'\n",
        "assert digit_to_words(40)=='сорок'\n",
        "\n",
        "print(\"ОК\")"
      ],
      "execution_count": 0,
      "outputs": [
        {
          "output_type": "stream",
          "text": [
            "Collecting num2words\n",
            "\u001b[?25l  Downloading https://files.pythonhosted.org/packages/eb/a2/ea800689730732e27711c41beed4b2a129b34974435bdc450377ec407738/num2words-0.5.10-py3-none-any.whl (101kB)\n",
            "\r\u001b[K     |███▎                            | 10kB 15.2MB/s eta 0:00:01\r\u001b[K     |██████▌                         | 20kB 1.7MB/s eta 0:00:01\r\u001b[K     |█████████▊                      | 30kB 2.5MB/s eta 0:00:01\r\u001b[K     |█████████████                   | 40kB 1.7MB/s eta 0:00:01\r\u001b[K     |████████████████▏               | 51kB 2.1MB/s eta 0:00:01\r\u001b[K     |███████████████████▍            | 61kB 2.5MB/s eta 0:00:01\r\u001b[K     |██████████████████████▋         | 71kB 2.9MB/s eta 0:00:01\r\u001b[K     |█████████████████████████▉      | 81kB 3.2MB/s eta 0:00:01\r\u001b[K     |█████████████████████████████   | 92kB 3.6MB/s eta 0:00:01\r\u001b[K     |████████████████████████████████| 102kB 2.7MB/s \n",
            "\u001b[?25hRequirement already satisfied: docopt>=0.6.2 in /usr/local/lib/python3.6/dist-packages (from num2words) (0.6.2)\n",
            "Installing collected packages: num2words\n",
            "Successfully installed num2words-0.5.10\n",
            "Введите число:44\n",
            "сорок четыре\n",
            "ОК\n"
          ],
          "name": "stdout"
        }
      ]
    },
    {
      "cell_type": "markdown",
      "metadata": {
        "id": "rLbil1CTDrfu",
        "colab_type": "text"
      },
      "source": [
        "# Задача 2"
      ]
    },
    {
      "cell_type": "markdown",
      "metadata": {
        "id": "K9xxA3mRDrfv",
        "colab_type": "text"
      },
      "source": [
        "Вам необходимо разработать функцию time_converter по преобразованию времени.\n",
        "На входе время в 12 часовом формате американском, на выходе время в 24 часовом формате.\n"
      ]
    },
    {
      "cell_type": "code",
      "metadata": {
        "id": "VVAu9gUwDrfv",
        "colab_type": "code",
        "outputId": "15e5467b-ed6c-4b73-abf1-728e49a7f661",
        "colab": {
          "base_uri": "https://localhost:8080/",
          "height": 170
        }
      },
      "source": [
        "#ваша функция здесь\n",
        "!pip install datetime\n",
        "from datetime import *\n",
        "\n",
        "def time_converter(time2):\n",
        "  time1=time2.replace('.','')\n",
        "  time3=time2.split(' ')\n",
        "  if time3[1]=='p.m.':\n",
        "    t24 =  datetime.strptime(time1, '%I:%M %p')\n",
        "    a=str (t24)\n",
        "    a=a[11:16:1]\n",
        "  if time3[1]=='a.m.':\n",
        "    t24 = datetime.strptime(time1, '%I:%M %p')\n",
        "    a=str (t24)\n",
        "    a = a[11:16:1]\n",
        "  print(a)\n",
        "  return a\n",
        "\n",
        "assert time_converter('12:30 p.m.') == '12:30'\n",
        "assert time_converter('9:00 a.m.') == '09:00'\n",
        "assert time_converter('11:15 p.m.') == '23:15'\n",
        "assert time_converter('11:00 p.m.') == '23:00'\n",
        "print(\"OK\")"
      ],
      "execution_count": 0,
      "outputs": [
        {
          "output_type": "stream",
          "text": [
            "Requirement already satisfied: datetime in /usr/local/lib/python3.6/dist-packages (4.3)\n",
            "Requirement already satisfied: pytz in /usr/local/lib/python3.6/dist-packages (from datetime) (2018.9)\n",
            "Requirement already satisfied: zope.interface in /usr/local/lib/python3.6/dist-packages (from datetime) (4.6.0)\n",
            "Requirement already satisfied: setuptools in /usr/local/lib/python3.6/dist-packages (from zope.interface->datetime) (41.2.0)\n",
            "12:30\n",
            "09:00\n",
            "23:15\n",
            "23:00\n",
            "OK\n"
          ],
          "name": "stdout"
        }
      ]
    },
    {
      "cell_type": "markdown",
      "metadata": {
        "id": "GrglCtfTDrfz",
        "colab_type": "text"
      },
      "source": [
        "# Задача 3\n",
        "У вас есть программируемая диодная лента. Светодиоды могут светиться 7 цветами.<br>\n",
        "Каждый цвет включается в зависимости от подаваемого на контакты управления сигнала. <br>\n",
        "Кодировка сигналов представленна ниже:<br>\n",
        "\n",
        "Красный - 1<br>\n",
        "Оранжевый - 6<br>\n",
        "Желтый - 2<br>\n",
        "Зеленый - 4<br>\n",
        "Голубой - 5<br>\n",
        "Синий - 3<br>\n",
        "Фиолетовый - 7<br>\n",
        "Черный(выключение светодиодов) - 0<br>\n",
        "\n",
        "Вам необходимо разработать программу управления светодиодной лентой.<br>\n",
        "В данной задаче работу ленты эмулирует функция colored_light_on_dec.<br>\n",
        "\n",
        "Ваша задача(часть 1):<br>\n",
        "Разработать функцию lamp_regulator.<br>\n",
        "Входные данные: список в котором задана последовательность включения лампочек.<br>\n",
        "Выходные данные: Функция проигрывает цвета, которыми будет светиться лампочка. Интервал между цветами 5 секунд. Если последовательность цветов закончилась, значит начинаем с начала.<br>\n",
        "Ограничение на время проигрывания цветов 60 секунд(даже если не доиграли программу).<br>\n",
        "\n",
        "\n",
        "Вы купили вторую диодную ленту, только в отличие от первой, она управляется бинарными сигналами.<br>\n",
        "Ваша задача(часть 2):<br>\n",
        "\n",
        "Разработать функцию dec_to_binary.<br>\n",
        "Входные данные: числа в 10 системе счисления.<br>\n",
        "Выходные данные: числа в двоичной системе счисления.<br>\n",
        "\n",
        "Вам необходимо зажигать лампочки на обоих лентах сразу. В данной задаче работу второй ленты эмулирует функция colored_light_on_bin.<br>\n"
      ]
    },
    {
      "cell_type": "code",
      "metadata": {
        "id": "YaSBFIhqDrf0",
        "colab_type": "code",
        "colab": {}
      },
      "source": [
        "lamps = {\n",
        "    'bin':{\n",
        "        '0b0': \"Черный\",\n",
        "        '0b1': \"Красный\",\n",
        "        '0b10': \"Желтый\",\n",
        "        '0b11': \"Синий\",\n",
        "        '0b100': \"Зеленый\",\n",
        "        '0b101': \"Голубой\",\n",
        "        '0b110': \"Оранжевый\",\n",
        "        '0b111': \"Фиолетовый\"\n",
        "    },\n",
        "    'dec':{\n",
        "        0: \"Черный\",\n",
        "        1: \"Красный\",\n",
        "        2: \"Желтый\",\n",
        "        3: \"Синий\",\n",
        "        4: \"Зеленый\",\n",
        "        5: \"Голубой\",\n",
        "        6: \"Оранжевый\",\n",
        "        7: \"Фиолетовый\"\n",
        "    }\n",
        "}\n",
        "\n",
        "def colored_light_on_dec(signal):\n",
        "    print(\"Signal\", signal, \"Лампочки светятся цветом:\", lamps['dec'][signal]) if lamps['dec'].get(signal, False) is not False else print(\"Signal\", signal, \"Лампочки светятся цветом:\", \"Черный\")\n",
        "    \n",
        "def colored_light_on_bin(signal):\n",
        "    print(\"Signal\", signal, \"Лампочки светятся цветом:\", lamps['bin'][signal]) if lamps['bin'].get(signal, False) is not False else print(\"Signal\", signal, \"Лампочки светятся цветом:\", \"Черный\")\n",
        "\n",
        "#программа зажигания лампочек\n",
        "programm = ['Красный', 'Зеленый', 'Черный', 'Синий', 'Фиолетовый', 'Голубой', 'Оранжевый', 'Желтый']\n",
        "\n",
        "# Ваш код тут\n",
        "import time\n",
        "def lamp_regulator(programm):\n",
        "    t = 0\n",
        "    for i in programm:\n",
        "            if t < 60:\n",
        "                print(\"___________________\")\n",
        "                print(i)\n",
        "                programm.append(i)\n",
        "                a = lamps[\"dec\"].keys()\n",
        "                for x in a:\n",
        "                    if lamps[\"dec\"][x] == i:\n",
        "                        dec_to_binary(x)\n",
        "                        colored_light_on_dec(x)\n",
        "                time.sleep(5)\n",
        "                t+=5\n",
        "                print(\"Время в сек.: \",t)\n",
        "def dec_to_binary(x):\n",
        "    signal=bin(x)\n",
        "    colored_light_on_bin(signal)\n",
        "\n",
        "lamp_regulator(programm)\n"
      ],
      "execution_count": 0,
      "outputs": []
    },
    {
      "cell_type": "markdown",
      "metadata": {
        "id": "c8GJsp8WDrf6",
        "colab_type": "text"
      },
      "source": [
        "# Задача 4\n",
        "\n",
        "У вас есть задача - написать специфичный калькулятор.\n",
        "\n",
        "Калькулятор:\n",
        " - прибавляет к итоговому числу данное число, если это число делится на 3,5,7,9 без остатка.\n",
        " - отнимает от итогового числа данное число, если это число делится на 2,4,6,8 без остатка.\n",
        " \n",
        "Необходимо разработать функцию calculator, которая будет принимать не ограниченное число аргументов(не именованных), производить операции над ними и выдавать итоговый результат.\n",
        "\n",
        "Пример:\n",
        "\n"
      ]
    },
    {
      "cell_type": "code",
      "metadata": {
        "id": "mk-ZKZY8Drf7",
        "colab_type": "code",
        "outputId": "1f91fc6e-178d-44ba-c13d-ab86d6bad26b",
        "colab": {
          "base_uri": "https://localhost:8080/",
          "height": 119
        }
      },
      "source": [
        "# ваш код тут\n",
        "def calculator (*a):\n",
        "    q = 0\n",
        "    for i in range(len(a)):\n",
        "        if a[i] % 3 == 0:\n",
        "            q += a[i]\n",
        "        if a[i] % 5 == 0:\n",
        "            q += a[i]\n",
        "        if a[i] % 7 == 0:\n",
        "            q += a[i]\n",
        "        if a[i] % 9 == 0:\n",
        "            q += a[i]\n",
        "        if a[i] % 2 == 0:\n",
        "            q -= a[i]\n",
        "        if a[i] % 4 == 0:\n",
        "            q -= a[i]\n",
        "        if a[i] % 6 == 0:\n",
        "            q -= a[i]\n",
        "        if a[i] % 8 == 0:\n",
        "            q -= a[i]\n",
        "    print(q)\n",
        "    return q\n",
        "\n",
        "assert calculator(1, 123, 44, 65, 34, 5) == 71\n",
        "assert calculator(18, 9, 199, 54854, 4) == -54844\n",
        "assert calculator(7,8913,100,87,0,3011) == 8907\n",
        "assert calculator(3,81,90,7013,10000,1) == -19745\n",
        "assert calculator(2,9,1099,6051,1547) == 8713\n",
        "\n",
        "print(\"OK\")"
      ],
      "execution_count": 0,
      "outputs": [
        {
          "output_type": "stream",
          "text": [
            "71\n",
            "-54844\n",
            "8907\n",
            "-19745\n",
            "8713\n",
            "OK\n"
          ],
          "name": "stdout"
        }
      ]
    },
    {
      "cell_type": "markdown",
      "metadata": {
        "id": "rSRw_Y0aDrf-",
        "colab_type": "text"
      },
      "source": [
        "# Задача 5\n",
        "\n",
        "Реализовать функцию fib которая считает число Фибоначчи. Где 1-е число равно 0, второе равно 1, а n число равно сумме двух предыдущих.\n",
        "\n",
        "![1_cxQUnD3J3jMDIQTpsB7PNQ.gif](https://miro.medium.com/proxy/1*cxQUnD3J3jMDIQTpsB7PNQ.gif)\n",
        "\n",
        "Визуализация древа рекурсии, показывающая рекурсивное вычисление, которое приводит к fib(4) = 3. Обратите внимание, что вычисление сначала выполняется в глубину."
      ]
    },
    {
      "cell_type": "code",
      "metadata": {
        "id": "tLgoUcYxDrf_",
        "colab_type": "code",
        "outputId": "923802df-05dc-483a-eff6-b1b7a46be786",
        "colab": {
          "base_uri": "https://localhost:8080/",
          "height": 34
        }
      },
      "source": [
        "# ваш код тут\n",
        "\n",
        "def fib(n):\n",
        "    fib = [0, 1]\n",
        "    for i in range(2, n+1):\n",
        "        fib.append(fib[-1] + fib[-2])\n",
        "    return fib[-1]\n",
        "\n",
        "assert fib(4) == 3\n",
        "assert fib(10) == 55\n",
        "assert fib(15) == 610\n",
        "assert fib(8) == 21\n",
        "assert fib(2) == 1\n",
        "\n",
        "print(\"ОК\")\n"
      ],
      "execution_count": 0,
      "outputs": [
        {
          "output_type": "stream",
          "text": [
            "ОК\n"
          ],
          "name": "stdout"
        }
      ]
    },
    {
      "cell_type": "code",
      "metadata": {
        "id": "ag3hwQXZDrgC",
        "colab_type": "code",
        "colab": {}
      },
      "source": [
        ""
      ],
      "execution_count": 0,
      "outputs": []
    }
  ]
}
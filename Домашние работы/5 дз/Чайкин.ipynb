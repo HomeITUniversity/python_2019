{
  "nbformat": 4,
  "nbformat_minor": 0,
  "metadata": {
    "kernelspec": {
      "display_name": "Python 3",
      "language": "python",
      "name": "python3"
    },
    "language_info": {
      "codemirror_mode": {
        "name": "ipython",
        "version": 3
      },
      "file_extension": ".py",
      "mimetype": "text/x-python",
      "name": "python",
      "nbconvert_exporter": "python",
      "pygments_lexer": "ipython3",
      "version": "3.7.1"
    },
    "colab": {
      "name": "05_functions_homework_(1)_(1) (1).ipynb",
      "provenance": [],
      "collapsed_sections": []
    }
  },
  "cells": [
    {
      "cell_type": "markdown",
      "metadata": {
        "id": "qAL0P_R_Drfo",
        "colab_type": "text"
      },
      "source": [
        "# Домашняя работа по теме Функции\n",
        "\n",
        "# Задача 1"
      ]
    },
    {
      "cell_type": "markdown",
      "metadata": {
        "id": "3gXYWtHCDrfp",
        "colab_type": "text"
      },
      "source": [
        "Вы разработчик в фирме по разработке программного обеспечения.\n",
        "\n",
        "Вам досталась задача по разработке функции синтеза чисел в слова.\n",
        "\n",
        "4 -> \"четыре\"<br>\n",
        "122 -> \"сто двадцать два\"<br>\n",
        "55 -> \"пятьдесят пять\"<br>\n",
        "\n",
        "Вам необходимо реализовать функцию digit_to_words.<br>\n",
        "Функция должна принимать в качестве аргумента число целое.<br>\n",
        "На выходе функция должна возвращать строку после преобразования в текст.<br>\n",
        "\n",
        "Ограничение в размерности числа на входе - 3 разряда. (999 - максимальное число)"
      ]
    },
    {
      "cell_type": "code",
      "metadata": {
        "id": "Ko5_rPKWDrfq",
        "colab_type": "code",
        "outputId": "5418bbd4-1e87-4736-8165-f4bc0705142f",
        "colab": {
          "base_uri": "https://localhost:8080/",
          "height": 35
        }
      },
      "source": [
        "#ваш код тут\n",
        "\n",
        "num_to_word = {1:\"один\",2:\"два\",3:\"три\",4:\"четыре\",5:\"пять\",6:\"шесть\",7:\"семь\",8:\"восемь\",9:\"девять\",10:\"десять\",\\\n",
        "              11:\"одинадцать\",12:\"двенадцать\",13:\"тринадцать\",14:\"четырнадцать\",15:\"пятнадцать\",16:\"шестнадцать\",17:\"семнадцать\",18:\"восемнадцать\",19:\"девятнадцать\",\\\n",
        "              20:\"двадцать\",30:\"тридцать\",40:\"сорок\",50:\"пятьдесят\",60:\"шестьдесят\",70:\"семьдесят\",80:\"восемьдесят\",90:\"девяносто\",\\\n",
        "              100:\"сто\",200:\"двести\",300:\"триста\",400:\"четыреста\",500:\"пятьсот\",600:\"шестьсот\",700:\"семьсот\",800:\"восемьсот\",900:\"девятьсот\",}\n",
        "\n",
        "\n",
        "#Для проверки что на вход подаются только целые числа\n",
        "def isint(s):\n",
        "  if type(s)==type(1):\n",
        "    return True\n",
        "  else:\n",
        "    return False\n",
        "\n",
        "\n",
        "def digit_to_words(a):\n",
        "    if isint(a)==False or int(a)<=0 or int(a)>999:\n",
        "         result=\"Вы ввели что то не то, попробуйте целые числа от 1 до 999\"\n",
        "    else:\n",
        "         # От 1 до 20\n",
        "         if (a >= 1 and a <= 20) or (a <= 99 and a % 10 == 0) or (a <= 999 and a % 100 == 0):\n",
        "             result = num_to_word[a]\n",
        "         # От 21 до 99\n",
        "         if a > 20 and a <= 99 and a / 10 >= 1 and a / 10 < 10 and a % 10 != 0:\n",
        "             result = num_to_word[a // 10 * 10] + \" \" + num_to_word[a % 10] \n",
        "         # От 100 до 120, применительно для всех сотен\n",
        "         if a > 99 and a <= 999 and a / 10 >= 10 and a / 10 < 100 and a % 100 >= 1 and a % 100 <= 20 or (a > 99 and a % 10 == 0 and a % 100 != 0):\n",
        "             result = num_to_word[a // 100 * 100] + \" \" + num_to_word[a % 100] \n",
        "         # От 120 до 199, применительно для всех сотен\n",
        "         if a > 99 and a <= 999 and a / 10 >= 10 and a / 10 < 100 and a % 100 > 20 and a % 10 != 0:\n",
        "             result = num_to_word[a // 100 * 100] + \" \" + num_to_word[a % 100 // 10 * 10] + \" \" + num_to_word[a % 10]  \n",
        "    return result\n",
        "\n",
        "#for i in range(1,999):\n",
        "#    print(digit_to_words(i))  \n",
        "\n",
        "#print(digit_to_words(0))\n",
        "\n",
        "assert digit_to_words(4)=='четыре'\n",
        "assert digit_to_words(143)=='сто сорок три'\n",
        "assert digit_to_words(12)=='двенадцать'\n",
        "assert digit_to_words(101)=='сто один'\n",
        "assert digit_to_words(212)=='двести двенадцать'\n",
        "assert digit_to_words(40)=='сорок'\n",
        "\n",
        "print(\"ОК\")"
      ],
      "execution_count": 40,
      "outputs": [
        {
          "output_type": "stream",
          "text": [
            "ОК\n"
          ],
          "name": "stdout"
        }
      ]
    },
    {
      "cell_type": "markdown",
      "metadata": {
        "id": "rLbil1CTDrfu",
        "colab_type": "text"
      },
      "source": [
        "# Задача 2"
      ]
    },
    {
      "cell_type": "markdown",
      "metadata": {
        "id": "K9xxA3mRDrfv",
        "colab_type": "text"
      },
      "source": [
        "Вам необходимо разработать функцию time_converter по преобразованию времени.\n",
        "На входе время в 12 часовом формате американском, на выходе время в 24 часовом формате.\n"
      ]
    },
    {
      "cell_type": "code",
      "metadata": {
        "id": "VVAu9gUwDrfv",
        "colab_type": "code",
        "outputId": "d1d841f5-bb0b-4a8d-bf2c-7868b962d0e0",
        "colab": {
          "base_uri": "https://localhost:8080/",
          "height": 35
        }
      },
      "source": [
        "#ваша функция здесь\n",
        "\n",
        "from datetime import datetime\n",
        "\n",
        "\n",
        "def time_converter(a):\n",
        "    return time.strftime('%H:%M', time.strptime(a.replace(\".\",\"\"), '%I:%M %p'))\n",
        "\n",
        "#print(time_converter('8:15 p.m.'))\n",
        "\n",
        "assert time_converter('12:30 p.m.') == '12:30'\n",
        "assert time_converter('9:00 a.m.') == '09:00'\n",
        "assert time_converter('11:15 p.m.') == '23:15'\n",
        "\n",
        "print(\"OK\")"
      ],
      "execution_count": 41,
      "outputs": [
        {
          "output_type": "stream",
          "text": [
            "OK\n"
          ],
          "name": "stdout"
        }
      ]
    },
    {
      "cell_type": "markdown",
      "metadata": {
        "id": "GrglCtfTDrfz",
        "colab_type": "text"
      },
      "source": [
        "# Задача 3\n",
        "У вас есть программируемая диодная лента. Светодиоды могут светиться 7 цветами.<br>\n",
        "Каждый цвет включается в зависимости от подаваемого на контакты управления сигнала. <br>\n",
        "Кодировка сигналов представленна ниже:<br>\n",
        "\n",
        "Красный - 1<br>\n",
        "Оранжевый - 6<br>\n",
        "Желтый - 2<br>\n",
        "Зеленый - 4<br>\n",
        "Голубой - 5<br>\n",
        "Синий - 3<br>\n",
        "Фиолетовый - 7<br>\n",
        "Черный(выключение светодиодов) - 0<br>\n",
        "\n",
        "Вам необходимо разработать программу управления светодиодной лентой.<br>\n",
        "В данной задаче работу ленты эмулирует функция colored_light_on_dec.<br>\n",
        "\n",
        "Ваша задача(часть 1):<br>\n",
        "Разработать функцию lamp_regulator.<br>\n",
        "Входные данные: список в котором задана последовательность включения лампочек.<br>\n",
        "Выходные данные: Функция проигрывает цвета, которыми будет светиться лампочка. Интервал между цветами 5 секунд. Если последовательность цветов закончилась, значит начинаем с начала.<br>\n",
        "Ограничение на время проигрывания цветов 60 секунд(даже если не доиграли программу).<br>\n",
        "\n",
        "\n",
        "Вы купили вторую диодную ленту, только в отличие от первой, она управляется бинарными сигналами.<br>\n",
        "Ваша задача(часть 2):<br>\n",
        "\n",
        "Разработать функцию dec_to_binary.<br>\n",
        "Входные данные: числа в 10 системе счисления.<br>\n",
        "Выходные данные: числа в двоичной системе счисления.<br>\n",
        "\n",
        "Вам необходимо зажигать лампочки на обоих лентах сразу. В данной задаче работу второй ленты эмулирует функция colored_light_on_bin.<br>\n"
      ]
    },
    {
      "cell_type": "code",
      "metadata": {
        "id": "YaSBFIhqDrf0",
        "colab_type": "code",
        "outputId": "914ce0df-9a0c-453f-aac4-2d3a795e4d85",
        "colab": {
          "base_uri": "https://localhost:8080/",
          "height": 454
        }
      },
      "source": [
        "lamps = {\n",
        "    'bin':{\n",
        "        '0b0': \"Черный\",\n",
        "        '0b1': \"Красный\",\n",
        "        '0b10': \"Желтый\",\n",
        "        '0b11': \"Синий\",\n",
        "        '0b100': \"Зеленый\",\n",
        "        '0b101': \"Голубой\",\n",
        "        '0b110': \"Оранжевый\",\n",
        "        '0b111': \"Фиолетовый\"\n",
        "    },\n",
        "    'dec':{\n",
        "        0: \"Черный\",\n",
        "        1: \"Красный\",\n",
        "        2: \"Желтый\",\n",
        "        3: \"Синий\",\n",
        "        4: \"Зеленый\",\n",
        "        5: \"Голубой\",\n",
        "        6: \"Оранжевый\",\n",
        "        7: \"Фиолетовый\"\n",
        "    }\n",
        "}\n",
        "\n",
        "def colored_light_on_dec(signal):\n",
        "    print(\"Signal\", signal, \"Лампочки светятся цветом:\", lamps['dec'][signal]) if lamps['dec'].get(signal, False) is not False else print(\"Signal\", signal, \"Лампочки светятся цветом:\", \"Черный\")\n",
        "    \n",
        "def colored_light_on_bin(signal):\n",
        "    print(\"Signal\", signal, \"Лампочки светятся цветом:\", lamps['bin'][signal]) if lamps['bin'].get(signal, False) is not False else print(\"Signal\", signal, \"Лампочки светятся цветом:\", \"Черный\")\n",
        "\n",
        "#программа зажигания лампочек\n",
        "programm = ['Красный', 'Зеленый', 'Черный', 'Синий', 'Фиолетовый', 'Голубой', 'Оранжевый', 'Желтый']\n",
        "\n",
        "# Ваш код тут\n",
        "import time            \n",
        "            \n",
        "def dec_to_binary(nums):\n",
        "    return bin(nums)\n",
        "\n",
        "    \n",
        "def lamp_regulator(programm):\n",
        "  \n",
        "  if type(programm)!=type(list()):\n",
        "      return print(\"В функцию дан не список\")\n",
        "\n",
        "  last_tsave_time = time.time()\n",
        "  programm_val=[]\n",
        "\n",
        "  for i in programm:\n",
        "      for key,color in lamps['dec'].items():\n",
        "          if i == color:\n",
        "              programm_val.append(key)\n",
        "  \n",
        "  i = 0\n",
        "  \n",
        "  while time.time() < last_tsave_time+60:\n",
        "      colored_light_on_dec(programm_val[i])\n",
        "      colored_light_on_bin(dec_to_binary(programm_val[i]))\n",
        "      #print(f'Прошло {time.time()-last_tsave_time} секунд')\n",
        "      i += 1\n",
        "      if i == len(programm_val):\n",
        "          i = 0\n",
        "      time.sleep(5)\n",
        "\n",
        "\n",
        "lamp_regulator(programm)"
      ],
      "execution_count": 43,
      "outputs": [
        {
          "output_type": "stream",
          "text": [
            "Signal 1 Лампочки светятся цветом: Красный\n",
            "Signal 0b1 Лампочки светятся цветом: Красный\n",
            "Signal 4 Лампочки светятся цветом: Зеленый\n",
            "Signal 0b100 Лампочки светятся цветом: Зеленый\n",
            "Signal 0 Лампочки светятся цветом: Черный\n",
            "Signal 0b0 Лампочки светятся цветом: Черный\n",
            "Signal 3 Лампочки светятся цветом: Синий\n",
            "Signal 0b11 Лампочки светятся цветом: Синий\n",
            "Signal 7 Лампочки светятся цветом: Фиолетовый\n",
            "Signal 0b111 Лампочки светятся цветом: Фиолетовый\n",
            "Signal 5 Лампочки светятся цветом: Голубой\n",
            "Signal 0b101 Лампочки светятся цветом: Голубой\n",
            "Signal 6 Лампочки светятся цветом: Оранжевый\n",
            "Signal 0b110 Лампочки светятся цветом: Оранжевый\n",
            "Signal 2 Лампочки светятся цветом: Желтый\n",
            "Signal 0b10 Лампочки светятся цветом: Желтый\n",
            "Signal 1 Лампочки светятся цветом: Красный\n",
            "Signal 0b1 Лампочки светятся цветом: Красный\n",
            "Signal 4 Лампочки светятся цветом: Зеленый\n",
            "Signal 0b100 Лампочки светятся цветом: Зеленый\n",
            "Signal 0 Лампочки светятся цветом: Черный\n",
            "Signal 0b0 Лампочки светятся цветом: Черный\n",
            "Signal 3 Лампочки светятся цветом: Синий\n",
            "Signal 0b11 Лампочки светятся цветом: Синий\n"
          ],
          "name": "stdout"
        }
      ]
    },
    {
      "cell_type": "markdown",
      "metadata": {
        "id": "c8GJsp8WDrf6",
        "colab_type": "text"
      },
      "source": [
        "# Задача 4\n",
        "\n",
        "У вас есть задача - написать специфичный калькулятор.\n",
        "\n",
        "Калькулятор:\n",
        " - прибавляет к итоговому числу данное число, если это число делится на 3,5,7,9 без остатка.\n",
        " - отнимает от итогового числа данное число, если это число делится на 2,4,6,8 без остатка.\n",
        " \n",
        "Необходимо разработать функцию calculator, которая будет принимать не ограниченное число аргументов(не именованных), производить операции над ними и выдавать итоговый результат.\n",
        "\n",
        "Пример:\n",
        "\n"
      ]
    },
    {
      "cell_type": "code",
      "metadata": {
        "id": "mk-ZKZY8Drf7",
        "colab_type": "code",
        "outputId": "b694cc4c-9f0f-4cba-adf0-1d65e61d41d9",
        "colab": {
          "base_uri": "https://localhost:8080/",
          "height": 35
        }
      },
      "source": [
        "# ваш код тут\n",
        "\n",
        "\n",
        "def calculator(*args):\n",
        "    result = 0\n",
        "    for i in args:\n",
        "        for sm in (3,5,7,9):\n",
        "            if i % sm == 0:\n",
        "               result += i * 1 \n",
        "        for mn in (2,4,6,8):\n",
        "            if i % mn == 0:\n",
        "               result += i * -1           \n",
        "    return result\n",
        "\n",
        "\n",
        "assert calculator(1, 123, 44, 65, 34, 5) == 71\n",
        "assert calculator(18, 9, 199, 54854, 4) == -54844\n",
        "assert calculator(7,8913,100,87,0,3011) == 8907\n",
        "assert calculator(3,81,90,7013,10000,1) == -19745\n",
        "assert calculator(2,9,1099,6051,1547) == 8713\n",
        "\n",
        "print(\"OK\")"
      ],
      "execution_count": 44,
      "outputs": [
        {
          "output_type": "stream",
          "text": [
            "OK\n"
          ],
          "name": "stdout"
        }
      ]
    },
    {
      "cell_type": "markdown",
      "metadata": {
        "id": "rSRw_Y0aDrf-",
        "colab_type": "text"
      },
      "source": [
        "# Задача 5\n",
        "\n",
        "Реализовать функцию fib которая считает число Фибоначчи. Где 1-е число равно 0, второе равно 1, а n число равно сумме двух предыдущих.\n",
        "\n",
        "![1_cxQUnD3J3jMDIQTpsB7PNQ.gif](https://miro.medium.com/proxy/1*cxQUnD3J3jMDIQTpsB7PNQ.gif)\n",
        "\n",
        "Визуализация древа рекурсии, показывающая рекурсивное вычисление, которое приводит к fib(4) = 3. Обратите внимание, что вычисление сначала выполняется в глубину."
      ]
    },
    {
      "cell_type": "code",
      "metadata": {
        "id": "tLgoUcYxDrf_",
        "colab_type": "code",
        "outputId": "ce0f75f0-f022-4593-ddc2-2a807c8bea75",
        "colab": {
          "base_uri": "https://localhost:8080/",
          "height": 35
        }
      },
      "source": [
        "# ваш код тут\n",
        "\n",
        "      \n",
        "def fib(a):\n",
        "    if a <= 0:\n",
        "        return 0\n",
        "    elif a == 1:\n",
        "        return 1\n",
        "    else:\n",
        "        return fib(a - 1) + fib(a - 2)\n",
        "                          \n",
        "    \n",
        "assert fib(4) == 3\n",
        "assert fib(10) == 55\n",
        "assert fib(15) == 610\n",
        "assert fib(8) == 21\n",
        "assert fib(2) == 1\n",
        "\n",
        "print(\"ОК\")\n"
      ],
      "execution_count": 45,
      "outputs": [
        {
          "output_type": "stream",
          "text": [
            "ОК\n"
          ],
          "name": "stdout"
        }
      ]
    }
  ]
}
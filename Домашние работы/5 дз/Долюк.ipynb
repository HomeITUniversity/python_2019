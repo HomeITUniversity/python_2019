{
 "cells": [
  {
   "cell_type": "markdown",
   "metadata": {
    "colab_type": "text",
    "id": "qAL0P_R_Drfo"
   },
   "source": [
    "# Домашняя работа по теме Функции\n",
    "\n",
    "# Задача 1"
   ]
  },
  {
   "cell_type": "markdown",
   "metadata": {
    "colab_type": "text",
    "id": "3gXYWtHCDrfp"
   },
   "source": [
    "Вы разработчик в фирме по разработке программного обеспечения.\n",
    "\n",
    "Вам досталась задача по разработке функции синтеза чисел в слова.\n",
    "\n",
    "4 -> \"четыре\"<br>\n",
    "122 -> \"сто двадцать два\"<br>\n",
    "55 -> \"пятьдесят пять\"<br>\n",
    "\n",
    "Вам необходимо реализовать функцию digit_to_words.<br>\n",
    "Функция должна принимать в качестве аргумента число целое.<br>\n",
    "На выходе функция должна возвращать строку после преобразования в текст.<br>\n",
    "\n",
    "Ограничение в размерности числа на входе - 3 разряда. (999 - максимальное число)"
   ]
  },
  {
   "cell_type": "code",
   "execution_count": 1,
   "metadata": {
    "colab": {
     "base_uri": "https://localhost:8080/",
     "height": 34
    },
    "colab_type": "code",
    "id": "Ko5_rPKWDrfq",
    "outputId": "271f2acc-0890-4a87-da40-a66eaef9028a"
   },
   "outputs": [
    {
     "name": "stdout",
     "output_type": "stream",
     "text": [
      "ОК\n"
     ]
    }
   ],
   "source": [
    "#ваш код тут\n",
    "num2words1 = {1: 'один', 2: 'два', 3: 'три', 4: 'четыре', 5: 'пять', \\\n",
    "            6: 'шесть', 7: 'семь', 8: 'восемь', 9: 'девять', 10: 'десять', \\\n",
    "            11: 'одиннадцать', 12: 'двенадцать', 13: 'тринадцать', 14: 'четырнадцать', \\\n",
    "            15: 'пятнадцать', 16: 'шестнадцать', 17: 'семнадцать', 18: 'восемнадцать', 19: 'девятнадцать'}\n",
    "num2words2 = ['двадцать', 'тридцать', 'сорок', 'пятьдесять', 'шестьдесять', 'семьдесять', 'восемдесять', 'девяносто']\n",
    "num2words3 = ['сто', 'двести', 'триста', 'четыреста', 'пятьсот', 'шестьсот', 'семьсот', 'восемьсот', 'девятьсот']\n",
    "def digit_to_words(numb):\n",
    "    if 1 <= numb <= 19:\n",
    "        return num2words1[numb]\n",
    "    elif 20 <= numb <= 99:\n",
    "        tens, below_ten = divmod(numb, 10)\n",
    "        if below_ten == 0:\n",
    "          return num2words2[tens - 2]\n",
    "        else:\n",
    "          return num2words2[tens - 2] + ' ' + num2words1[below_ten]\n",
    "    elif 1 <= numb  <= 999:\n",
    "      hundr, below_hundr = divmod(numb, 100)\n",
    "      if below_hundr == 0:\n",
    "        return num2words3[hundr - 1]\n",
    "      if 1 <=  below_hundr <= 19:\n",
    "        return num2words3[hundr - 1] + ' ' + num2words1[below_hundr]\n",
    "      elif 20 <= below_hundr <= 99:\n",
    "         tens, below_ten = divmod(below_hundr, 10)\n",
    "         if below_hundr == 0:\n",
    "           return num2words3[hundr - 1] + ' ' + num2words2[tens - 2]\n",
    "         else:\n",
    "           return num2words3[hundr - 1] + ' ' + num2words2[tens - 2] + ' ' + num2words1[below_ten]\n",
    "    else:\n",
    "        print(\"Число вне диапозона (допустимо до 999)\")\n",
    "\n",
    "assert digit_to_words(4)=='четыре'\n",
    "assert digit_to_words(143)=='сто сорок три'\n",
    "assert digit_to_words(12)=='двенадцать'\n",
    "assert digit_to_words(101)=='сто один'\n",
    "assert digit_to_words(212)=='двести двенадцать'\n",
    "assert digit_to_words(40)=='сорок'\n",
    "\n",
    "print(\"ОК\")"
   ]
  },
  {
   "cell_type": "markdown",
   "metadata": {
    "colab_type": "text",
    "id": "rLbil1CTDrfu"
   },
   "source": [
    "# Задача 2"
   ]
  },
  {
   "cell_type": "markdown",
   "metadata": {
    "colab_type": "text",
    "id": "K9xxA3mRDrfv"
   },
   "source": [
    "Вам необходимо разработать функцию time_converter по преобразованию времени.\n",
    "На входе время в 12 часовом формате американском, на выходе время в 24 часовом формате.\n"
   ]
  },
  {
   "cell_type": "code",
   "execution_count": 2,
   "metadata": {
    "colab": {
     "base_uri": "https://localhost:8080/",
     "height": 34
    },
    "colab_type": "code",
    "id": "VVAu9gUwDrfv",
    "outputId": "705b23cd-17c3-4345-f638-c6cfbf5d3924"
   },
   "outputs": [
    {
     "name": "stdout",
     "output_type": "stream",
     "text": [
      "OK\n"
     ]
    }
   ],
   "source": [
    "#ваша функция здесь\n",
    "from datetime import datetime\n",
    "def time_converter(x):\n",
    "  x = x.replace('p.m.', 'PM')\n",
    "  x = x.replace('a.m.', 'AM')\n",
    "  time_1 = datetime.strptime(x, \"%I:%M %p\")\n",
    "  time_2 = datetime.strftime(time_1, \"%H:%M\")\n",
    "  return time_2\n",
    "\n",
    "assert time_converter('12:30 p.m.') == '12:30'\n",
    "assert time_converter('9:00 a.m.') == '09:00'\n",
    "assert time_converter('11:15 p.m.') == '23:15'\n",
    "\n",
    "print(\"OK\")"
   ]
  },
  {
   "cell_type": "markdown",
   "metadata": {
    "colab_type": "text",
    "id": "GrglCtfTDrfz"
   },
   "source": [
    "# Задача 3\n",
    "У вас есть программируемая диодная лента. Светодиоды могут светиться 7 цветами.<br>\n",
    "Каждый цвет включается в зависимости от подаваемого на контакты управления сигнала. <br>\n",
    "Кодировка сигналов представленна ниже:<br>\n",
    "\n",
    "Красный - 1<br>\n",
    "Оранжевый - 6<br>\n",
    "Желтый - 2<br>\n",
    "Зеленый - 4<br>\n",
    "Голубой - 5<br>\n",
    "Синий - 3<br>\n",
    "Фиолетовый - 7<br>\n",
    "Черный(выключение светодиодов) - 0<br>\n",
    "\n",
    "Вам необходимо разработать программу управления светодиодной лентой.<br>\n",
    "В данной задаче работу ленты эмулирует функция colored_light_on_dec.<br>\n",
    "\n",
    "Ваша задача(часть 1):<br>\n",
    "Разработать функцию lamp_regulator.<br>\n",
    "Входные данные: список в котором задана последовательность включения лампочек.<br>\n",
    "Выходные данные: Функция проигрывает цвета, которыми будет светиться лампочка. Интервал между цветами 5 секунд. Если последовательность цветов закончилась, значит начинаем с начала.<br>\n",
    "Ограничение на время проигрывания цветов 60 секунд(даже если не доиграли программу).<br>\n",
    "\n",
    "\n",
    "Вы купили вторую диодную ленту, только в отличие от первой, она управляется бинарными сигналами.<br>\n",
    "Ваша задача(часть 2):<br>\n",
    "\n",
    "Разработать функцию dec_to_binary.<br>\n",
    "Входные данные: числа в 10 системе счисления.<br>\n",
    "Выходные данные: числа в двоичной системе счисления.<br>\n",
    "\n",
    "Вам необходимо зажигать лампочки на обоих лентах сразу. В данной задаче работу второй ленты эмулирует функция colored_light_on_bin.<br>\n"
   ]
  },
  {
   "cell_type": "code",
   "execution_count": 3,
   "metadata": {
    "colab": {
     "base_uri": "https://localhost:8080/",
     "height": 554
    },
    "colab_type": "code",
    "id": "YaSBFIhqDrf0",
    "outputId": "3f3817d2-78c9-40dc-905f-2dd4a7c2a240"
   },
   "outputs": [
    {
     "name": "stdout",
     "output_type": "stream",
     "text": [
      "Signal 1 Лампочки светятся цветом: Красный\n",
      "None\n",
      "Signal 4 Лампочки светятся цветом: Зеленый\n",
      "None\n",
      "Signal 0 Лампочки светятся цветом: Черный\n",
      "None\n",
      "Signal 3 Лампочки светятся цветом: Синий\n",
      "None\n",
      "Signal 7 Лампочки светятся цветом: Фиолетовый\n",
      "None\n",
      "Signal 5 Лампочки светятся цветом: Голубой\n",
      "None\n",
      "Signal 6 Лампочки светятся цветом: Оранжевый\n",
      "None\n",
      "Signal 2 Лампочки светятся цветом: Желтый\n",
      "None\n",
      "Signal 1 Лампочки светятся цветом: Красный\n",
      "None\n",
      "Signal 4 Лампочки светятся цветом: Зеленый\n",
      "None\n",
      "Signal 0 Лампочки светятся цветом: Черный\n",
      "None\n",
      "Signal 3 Лампочки светятся цветом: Синий\n",
      "None\n",
      "Signal 7 Лампочки светятся цветом: Фиолетовый\n",
      "None\n",
      "Signal 5 Лампочки светятся цветом: Голубой\n",
      "None\n",
      "Signal 6 Лампочки светятся цветом: Оранжевый\n",
      "None\n",
      "Signal 2 Лампочки светятся цветом: Желтый\n",
      "None\n"
     ]
    }
   ],
   "source": [
    "lamps = {\n",
    "    'bin':{\n",
    "        '0b0': \"Черный\",\n",
    "        '0b1': \"Красный\",\n",
    "        '0b10': \"Желтый\",\n",
    "        '0b11': \"Синий\",\n",
    "        '0b100': \"Зеленый\",\n",
    "        '0b101': \"Голубой\",\n",
    "        '0b110': \"Оранжевый\",\n",
    "        '0b111': \"Фиолетовый\"\n",
    "    },\n",
    "    'dec':{\n",
    "        0: \"Черный\",\n",
    "        1: \"Красный\",\n",
    "        2: \"Желтый\",\n",
    "        3: \"Синий\",\n",
    "        4: \"Зеленый\",\n",
    "        5: \"Голубой\",\n",
    "        6: \"Оранжевый\",\n",
    "        7: \"Фиолетовый\"\n",
    "    }\n",
    "}\n",
    "\n",
    "def colored_light_on_dec(signal):\n",
    "    print(\"Signal\", signal, \"Лампочки светятся цветом:\", lamps['dec'][signal]) if lamps['dec'].get(signal, False) is not False else print(\"Signal\", signal, \"Лампочки светятся цветом:\", \"Черный\")\n",
    "    \n",
    "def colored_light_on_bin(signal):\n",
    "    print(\"Signal\", signal, \"Лампочки светятся цветом:\", lamps['bin'][signal]) if lamps['bin'].get(signal, False) is not False else print(\"Signal\", signal, \"Лампочки светятся цветом:\", \"Черный\")\n",
    "\n",
    "#программа зажигания лампочек\n",
    "programm = ['Красный', 'Зеленый', 'Черный', 'Синий', 'Фиолетовый', 'Голубой', 'Оранжевый', 'Желтый']\n",
    "\n",
    "# Ваш код тут\n",
    "# Решение первой части задания (решения второй части нет)\n",
    "import pandas as pd\n",
    "import numpy as np\n",
    "import time\n",
    "original_dict = pd.DataFrame(list(lamps.get('dec').items()))\n",
    "original_dict = original_dict.rename(columns={0: 'Код', 1: 'Цвет'})\n",
    "programm1 = pd.DataFrame(programm)\n",
    "programm1 = programm1.rename(columns={0: 'Цвет'})\n",
    "programm1 = programm1.merge(original_dict, on='Цвет')\n",
    "codes = list(programm1['Код'])\n",
    "t_end = time.time() + 60\n",
    "while time.time() < t_end:\n",
    "    for i in codes:\n",
    "      print(colored_light_on_dec(i))\n",
    "      time.sleep(5)"
   ]
  },
  {
   "cell_type": "markdown",
   "metadata": {
    "colab_type": "text",
    "id": "c8GJsp8WDrf6"
   },
   "source": [
    "# Задача 4\n",
    "\n",
    "У вас есть задача - написать специфичный калькулятор.\n",
    "\n",
    "Калькулятор:\n",
    " - прибавляет к итоговому числу данное число, если это число делится на 3,5,7,9 без остатка.\n",
    " - отнимает от итогового числа данное число, если это число делится на 2,4,6,8 без остатка.\n",
    " \n",
    "Необходимо разработать функцию calculator, которая будет принимать не ограниченное число аргументов(не именованных), производить операции над ними и выдавать итоговый результат.\n",
    "\n",
    "Пример:\n",
    "\n"
   ]
  },
  {
   "cell_type": "code",
   "execution_count": 4,
   "metadata": {
    "colab": {
     "base_uri": "https://localhost:8080/",
     "height": 230
    },
    "colab_type": "code",
    "id": "mk-ZKZY8Drf7",
    "outputId": "74c903d5-5b2b-4079-c53d-117e2d50a0b9"
   },
   "outputs": [
    {
     "ename": "NameError",
     "evalue": "ignored",
     "output_type": "error",
     "traceback": [
      "\u001b[0;31m---------------------------------------------------------------------------\u001b[0m",
      "\u001b[0;31mNameError\u001b[0m                                 Traceback (most recent call last)",
      "\u001b[0;32m<ipython-input-4-3dd1554f5ecd>\u001b[0m in \u001b[0;36m<module>\u001b[0;34m()\u001b[0m\n\u001b[1;32m      1\u001b[0m \u001b[0;34m\u001b[0m\u001b[0m\n\u001b[0;32m----> 2\u001b[0;31m \u001b[0;32massert\u001b[0m \u001b[0mcalculator\u001b[0m\u001b[0;34m(\u001b[0m\u001b[0;36m1\u001b[0m\u001b[0;34m,\u001b[0m \u001b[0;36m123\u001b[0m\u001b[0;34m,\u001b[0m \u001b[0;36m44\u001b[0m\u001b[0;34m,\u001b[0m \u001b[0;36m65\u001b[0m\u001b[0;34m,\u001b[0m \u001b[0;36m34\u001b[0m\u001b[0;34m,\u001b[0m \u001b[0;36m5\u001b[0m\u001b[0;34m)\u001b[0m \u001b[0;34m==\u001b[0m \u001b[0;36m71\u001b[0m\u001b[0;34m\u001b[0m\u001b[0;34m\u001b[0m\u001b[0m\n\u001b[0m\u001b[1;32m      3\u001b[0m \u001b[0;32massert\u001b[0m \u001b[0mcalculator\u001b[0m\u001b[0;34m(\u001b[0m\u001b[0;36m18\u001b[0m\u001b[0;34m,\u001b[0m \u001b[0;36m9\u001b[0m\u001b[0;34m,\u001b[0m \u001b[0;36m199\u001b[0m\u001b[0;34m,\u001b[0m \u001b[0;36m54854\u001b[0m\u001b[0;34m,\u001b[0m \u001b[0;36m4\u001b[0m\u001b[0;34m)\u001b[0m \u001b[0;34m==\u001b[0m \u001b[0;34m-\u001b[0m\u001b[0;36m54844\u001b[0m\u001b[0;34m\u001b[0m\u001b[0;34m\u001b[0m\u001b[0m\n\u001b[1;32m      4\u001b[0m \u001b[0;32massert\u001b[0m \u001b[0mcalculator\u001b[0m\u001b[0;34m(\u001b[0m\u001b[0;36m7\u001b[0m\u001b[0;34m,\u001b[0m\u001b[0;36m8913\u001b[0m\u001b[0;34m,\u001b[0m\u001b[0;36m100\u001b[0m\u001b[0;34m,\u001b[0m\u001b[0;36m87\u001b[0m\u001b[0;34m,\u001b[0m\u001b[0;36m0\u001b[0m\u001b[0;34m,\u001b[0m\u001b[0;36m3011\u001b[0m\u001b[0;34m)\u001b[0m \u001b[0;34m==\u001b[0m \u001b[0;36m8907\u001b[0m\u001b[0;34m\u001b[0m\u001b[0;34m\u001b[0m\u001b[0m\n\u001b[1;32m      5\u001b[0m \u001b[0;32massert\u001b[0m \u001b[0mcalculator\u001b[0m\u001b[0;34m(\u001b[0m\u001b[0;36m3\u001b[0m\u001b[0;34m,\u001b[0m\u001b[0;36m81\u001b[0m\u001b[0;34m,\u001b[0m\u001b[0;36m90\u001b[0m\u001b[0;34m,\u001b[0m\u001b[0;36m7013\u001b[0m\u001b[0;34m,\u001b[0m\u001b[0;36m10000\u001b[0m\u001b[0;34m,\u001b[0m\u001b[0;36m1\u001b[0m\u001b[0;34m)\u001b[0m \u001b[0;34m==\u001b[0m \u001b[0;34m-\u001b[0m\u001b[0;36m19745\u001b[0m\u001b[0;34m\u001b[0m\u001b[0;34m\u001b[0m\u001b[0m\n",
      "\u001b[0;31mNameError\u001b[0m: name 'calculator' is not defined"
     ]
    }
   ],
   "source": [
    "# ваш код тут\n",
    "\n",
    "assert calculator(1, 123, 44, 65, 34, 5) == 71\n",
    "assert calculator(18, 9, 199, 54854, 4) == -54844\n",
    "assert calculator(7,8913,100,87,0,3011) == 8907\n",
    "assert calculator(3,81,90,7013,10000,1) == -19745\n",
    "assert calculator(2,9,1099,6051,1547) == 8713\n",
    "\n",
    "print(\"OK\")"
   ]
  },
  {
   "cell_type": "markdown",
   "metadata": {
    "colab_type": "text",
    "id": "rSRw_Y0aDrf-"
   },
   "source": [
    "# Задача 5\n",
    "\n",
    "Реализовать функцию fib которая считает число Фибоначчи. Где 1-е число равно 0, второе равно 1, а n число равно сумме двух предыдущих.\n",
    "\n",
    "![1_cxQUnD3J3jMDIQTpsB7PNQ.gif](https://miro.medium.com/proxy/1*cxQUnD3J3jMDIQTpsB7PNQ.gif)\n",
    "\n",
    "Визуализация древа рекурсии, показывающая рекурсивное вычисление, которое приводит к fib(4) = 3. Обратите внимание, что вычисление сначала выполняется в глубину."
   ]
  },
  {
   "cell_type": "code",
   "execution_count": 4,
   "metadata": {
    "colab": {
     "base_uri": "https://localhost:8080/",
     "height": 34
    },
    "colab_type": "code",
    "id": "tLgoUcYxDrf_",
    "outputId": "488d3660-277b-48ff-94ea-f24c83cd1a67"
   },
   "outputs": [
    {
     "name": "stdout",
     "output_type": "stream",
     "text": [
      "ОК\n"
     ]
    }
   ],
   "source": [
    "# ваш код тут\n",
    "def fib(n):\n",
    "    if n == 0: \n",
    "      return 0\n",
    "    elif n == 1: \n",
    "      return 1\n",
    "    else: \n",
    "      return fib(n-1) + fib(n-2)\n",
    "      \n",
    "assert fib(4) == 3\n",
    "assert fib(10) == 55\n",
    "assert fib(15) == 610\n",
    "assert fib(8) == 21\n",
    "assert fib(2) == 1\n",
    "\n",
    "print(\"ОК\")\n"
   ]
  },
  {
   "cell_type": "code",
   "execution_count": null,
   "metadata": {},
   "outputs": [],
   "source": []
  }
 ],
 "metadata": {
  "colab": {
   "collapsed_sections": [],
   "name": "05_functions_homework.ipynb",
   "provenance": []
  },
  "kernelspec": {
   "display_name": "Python 3",
   "language": "python",
   "name": "python3"
  },
  "language_info": {
   "codemirror_mode": {
    "name": "ipython",
    "version": 3
   },
   "file_extension": ".py",
   "mimetype": "text/x-python",
   "name": "python",
   "nbconvert_exporter": "python",
   "pygments_lexer": "ipython3",
   "version": "3.6.8"
  }
 },
 "nbformat": 4,
 "nbformat_minor": 1
}

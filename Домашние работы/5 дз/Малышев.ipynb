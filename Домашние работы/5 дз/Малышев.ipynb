{
  "nbformat": 4,
  "nbformat_minor": 0,
  "metadata": {
    "kernelspec": {
      "name": "python3",
      "display_name": "Python 3"
    },
    "colab": {
      "name": "Copy of ДЗ_05.ipynb",
      "provenance": [],
      "collapsed_sections": []
    },
    "accelerator": "TPU"
  },
  "cells": [
    {
      "cell_type": "markdown",
      "metadata": {
        "id": "b0kmwzM-5Rau",
        "colab_type": "text"
      },
      "source": [
        "# Домашняя работа по теме Функции\n",
        "\n",
        "# Задача 1"
      ]
    },
    {
      "cell_type": "markdown",
      "metadata": {
        "id": "iP2nZ33y5Raz",
        "colab_type": "text"
      },
      "source": [
        "Вы разработчик в фирме по разработке программного обеспечения.\n",
        "\n",
        "Вам досталась задача по разработке функции синтеза чисел в слова.\n",
        "\n",
        "4 -> \"четыре\"<br>\n",
        "122 -> \"сто двадцать два\"<br>\n",
        "55 -> \"пятьдесят пять\"<br>\n",
        "\n",
        "Вам необходимо реализовать функцию digit_to_words.<br>\n",
        "Функция должна принимать в качестве аргумента число целое.<br>\n",
        "На выходе функция должна возвращать строку после преобразования в текст.<br>\n",
        "\n",
        "Ограничение в размерности числа на входе - 3 разряда. (999 - максимальное число)"
      ]
    },
    {
      "cell_type": "code",
      "metadata": {
        "id": "u45jcYx7FN5z",
        "colab_type": "code",
        "outputId": "ee0ed109-0a69-4a36-a453-5ff3f90e9135",
        "colab": {
          "base_uri": "https://localhost:8080/",
          "height": 127
        }
      },
      "source": [
        "!pip install num2words"
      ],
      "execution_count": 0,
      "outputs": [
        {
          "output_type": "stream",
          "text": [
            "Collecting num2words\n",
            "\u001b[?25l  Downloading https://files.pythonhosted.org/packages/eb/a2/ea800689730732e27711c41beed4b2a129b34974435bdc450377ec407738/num2words-0.5.10-py3-none-any.whl (101kB)\n",
            "\r\u001b[K     |███▎                            | 10kB 17.8MB/s eta 0:00:01\r\u001b[K     |██████▌                         | 20kB 1.8MB/s eta 0:00:01\r\u001b[K     |█████████▊                      | 30kB 2.6MB/s eta 0:00:01\r\u001b[K     |█████████████                   | 40kB 1.7MB/s eta 0:00:01\r\u001b[K     |████████████████▏               | 51kB 2.1MB/s eta 0:00:01\r\u001b[K     |███████████████████▍            | 61kB 2.5MB/s eta 0:00:01\r\u001b[K     |██████████████████████▋         | 71kB 2.9MB/s eta 0:00:01\r\u001b[K     |█████████████████████████▉      | 81kB 3.3MB/s eta 0:00:01\r\u001b[K     |█████████████████████████████   | 92kB 3.7MB/s eta 0:00:01\r\u001b[K     |████████████████████████████████| 102kB 2.3MB/s \n",
            "\u001b[?25hRequirement already satisfied: docopt>=0.6.2 in /usr/local/lib/python3.6/dist-packages (from num2words) (0.6.2)\n",
            "Installing collected packages: num2words\n",
            "Successfully installed num2words-0.5.10\n"
          ],
          "name": "stdout"
        }
      ]
    },
    {
      "cell_type": "code",
      "metadata": {
        "id": "TSUN01Jb5Ra0",
        "colab_type": "code",
        "outputId": "b548ae66-1793-48af-9111-23b96fdb6d1e",
        "colab": {
          "base_uri": "https://localhost:8080/",
          "height": 35
        }
      },
      "source": [
        "#ваш код тут\n",
        "try:\n",
        "  from num2words import num2words\n",
        "except ImportError:\n",
        "  #!git clone https://github.com/ahmedzaqout/num2words.git\n",
        "  !pip install num2words\n",
        "  !pip install python-bidi\n",
        "  !pip install tox\n",
        "  from num2words import num2words\n",
        "    \n",
        "def digit_to_words(number):\n",
        "  return num2words(number, lang='ru')\n",
        "  \n",
        "assert digit_to_words(4)=='четыре'\n",
        "assert digit_to_words(143)=='сто сорок три'\n",
        "assert digit_to_words(12)=='двенадцать'\n",
        "assert digit_to_words(101)=='сто один'\n",
        "assert digit_to_words(212)=='двести двенадцать'\n",
        "assert digit_to_words(40)=='сорок'\n",
        "\n",
        "print(\"ОК\")"
      ],
      "execution_count": 0,
      "outputs": [
        {
          "output_type": "stream",
          "text": [
            "ОК\n"
          ],
          "name": "stdout"
        }
      ]
    },
    {
      "cell_type": "markdown",
      "metadata": {
        "id": "jy76BIbY5RbA",
        "colab_type": "text"
      },
      "source": [
        "# Задача 2"
      ]
    },
    {
      "cell_type": "markdown",
      "metadata": {
        "id": "RukZhF-R5RbB",
        "colab_type": "text"
      },
      "source": [
        "Вам необходимо разработать функцию time_converter по преобразованию времени.\n",
        "На входе время в 12 часовом формате американском, на выходе время в 24 часовом формате.\n"
      ]
    },
    {
      "cell_type": "code",
      "metadata": {
        "id": "N8nzbfgM5RbE",
        "colab_type": "code",
        "outputId": "b8a30d58-652d-4a2b-8b71-8405f6cc49b3",
        "colab": {
          "base_uri": "https://localhost:8080/",
          "height": 35
        }
      },
      "source": [
        "#ваша функция здесь\n",
        "from datetime import datetime\n",
        "\n",
        "def time_converter(time):\n",
        "    str1 = time.replace('.','')\n",
        "    str2 = datetime.strptime(str1, '%I:%M %p')\n",
        "    str3 = str2.strftime('%H:%M')\n",
        "    return str3\n",
        "\n",
        "assert time_converter('8:25 p.m.')=='20:25'\n",
        "assert time_converter('8:25 a.m.')=='08:25'\n",
        "assert time_converter('11:00 a.m.')=='11:00'\n",
        "assert time_converter('11:00 p.m.')=='23:00'\n",
        "  \n",
        "print(\"OK\")"
      ],
      "execution_count": 0,
      "outputs": [
        {
          "output_type": "stream",
          "text": [
            "OK\n"
          ],
          "name": "stdout"
        }
      ]
    },
    {
      "cell_type": "markdown",
      "metadata": {
        "id": "6W59ALWo5RbJ",
        "colab_type": "text"
      },
      "source": [
        "# Задача 3\n",
        "У вас есть программируемая диодная лента. Светодиоды могут светиться 7 цветами.<br>\n",
        "Каждый цвет включается в зависимости от подаваемого на контакты управления сигнала. <br>\n",
        "Кодировка сигналов представленна ниже:<br>\n",
        "\n",
        "Красный - 1<br>\n",
        "Оранжевый - 6<br>\n",
        "Желтый - 2<br>\n",
        "Зеленый - 4<br>\n",
        "Голубой - 5<br>\n",
        "Синий - 3<br>\n",
        "Фиолетовый - 7<br>\n",
        "Черный(выключение светодиодов) - 0<br>\n",
        "\n",
        "Вам необходимо разработать программу управления светодиодной лентой.<br>\n",
        "В данной задаче работу ленты эмулирует функция colored_light_on_dec.<br>\n",
        "\n",
        "Ваша задача(часть 1):<br>\n",
        "Разработать функцию lamp_regulator.<br>\n",
        "Входные данные: список в котором задана последовательность включения лампочек.<br>\n",
        "Выходные данные: Функция проигрывает цвета, которыми будет светиться лампочка. Интервал между цветами 5 секунд. Если последовательность цветов закончилась, значит начинаем с начала.<br>\n",
        "Ограничение на время проигрывания цветов 60 секунд(даже если не доиграли программу).<br>\n",
        "\n",
        "\n",
        "Вы купили вторую диодную ленту, только в отличие от первой, она управляется бинарными сигналами.<br>\n",
        "Ваша задача(часть 2):<br>\n",
        "\n",
        "Разработать функцию dec_to_binary.<br>\n",
        "Входные данные: числа в 10 системе счисления.<br>\n",
        "Выходные данные: числа в двоичной системе счисления.<br>\n",
        "\n",
        "Вам необходимо зажигать лампочки на обоих лентах сразу. В данной задаче работу второй ленты эмулирует функция colored_light_on_bin.<br>\n"
      ]
    },
    {
      "cell_type": "code",
      "metadata": {
        "id": "IkZa2vya5RbK",
        "colab_type": "code",
        "outputId": "339bf1f4-50bd-44ed-c770-577e15f7eaf1",
        "colab": {}
      },
      "source": [
        "lamps = {\n",
        "    'bin':{\n",
        "        '0b0': \"Черный\",\n",
        "        '0b1': \"Красный\",\n",
        "        '0b10': \"Желтый\",\n",
        "        '0b11': \"Синий\",\n",
        "        '0b100': \"Зеленый\",\n",
        "        '0b101': \"Голубой\",\n",
        "        '0b110': \"Оранжевый\",\n",
        "        '0b111': \"Фиолетовый\"\n",
        "    },\n",
        "    'dec':{\n",
        "        0: \"Черный\",\n",
        "        1: \"Красный\",\n",
        "        2: \"Желтый\",\n",
        "        3: \"Синий\",\n",
        "        4: \"Зеленый\",\n",
        "        5: \"Голубой\",\n",
        "        6: \"Оранжевый\",\n",
        "        7: \"Фиолетовый\"\n",
        "    }\n",
        "}\n",
        "\n",
        "def colored_light_on_dec(signal):\n",
        "    print(\"Signal\", signal, \"Лампочки светятся цветом:\", lamps['dec'][signal]) if lamps['dec'].get(signal, False) is not False else print(\"Signal\", signal, \"Лампочки светятся цветом:\", \"Черный\")\n",
        "    \n",
        "def colored_light_on_bin(signal):\n",
        "    print(\"Signal\", signal, \"Лампочки светятся цветом:\", lamps['bin'][signal]) if lamps['bin'].get(signal, False) is not False else print(\"Signal\", signal, \"Лампочки светятся цветом:\", \"Черный\")\n",
        "\n",
        "#программа зажигания лампочек\n",
        "programm = ['Красный', 'Зеленый', 'Черный', 'Синий', 'Фиолетовый', 'Голубой', 'Оранжевый', 'Желтый']\n",
        "\n",
        "# Ваш код тут"
      ],
      "execution_count": 0,
      "outputs": [
        {
          "output_type": "execute_result",
          "data": {
            "text/plain": [
              "int"
            ]
          },
          "metadata": {
            "tags": []
          },
          "execution_count": 22
        }
      ]
    },
    {
      "cell_type": "markdown",
      "metadata": {
        "id": "ZogputRZ5RbQ",
        "colab_type": "text"
      },
      "source": [
        "# Задача 4\n",
        "\n",
        "У вас есть задача - написать специфичный калькулятор.\n",
        "\n",
        "Калькулятор:\n",
        " - прибавляет к итоговому числу данное число, если это число делится на 3,5,7,9 без остатка.\n",
        " - отнимает от итогового числа данное число, если это число делится на 2,4,6,8 без остатка.\n",
        " \n",
        "Необходимо разработать функцию calculator, которая будет принимать не ограниченное число аргументов(не именованных), производить операции над ними и выдавать итоговый результат.\n",
        "\n",
        "Пример:\n",
        "\n"
      ]
    },
    {
      "cell_type": "code",
      "metadata": {
        "id": "aDDAGxSx5RbS",
        "colab_type": "code",
        "outputId": "e716eee8-03fe-4998-8862-efd7f2d5f58a",
        "colab": {
          "base_uri": "https://localhost:8080/",
          "height": 384
        }
      },
      "source": [
        "# ваш код тут\n",
        "def calculator(*num):\n",
        "  sum = 0\n",
        "  print('sum:',sum)\n",
        "  for i in num:\n",
        "    print('i=',i)\n",
        "    if (i % 3 == 0 or i % 5 == 0 or i % 7 == 0 or i % 9 == 0):\n",
        "      print('a')\n",
        "      sum = sum + i\n",
        "    elif (i % 2 == 0 or i % 4 == 0 or i % 6 == 0 or i % 8 == 0):\n",
        "      print('b')\n",
        "      sum = sum - i\n",
        "    else:\n",
        "      print('c')\n",
        "      #sum = sum + i\n",
        "    print(sum)\n",
        "  return(sum)\n",
        "\n",
        "calculator(7,8913,100,87,0,3011)\n",
        "\n",
        "#assert calculator(1, 123, 44, 65, 34, 5) == 71\n",
        "#assert calculator(18, 9, 199, 54854, 4) == -54844\n",
        "#assert calculator(7,8913,100,87,0,3011) == 8907\n",
        "#assert calculator(3,81,90,7013,10000,1) == -19745\n",
        "#assert calculator(2,9,1099,6051,1547) == 8713\n",
        "\n",
        "print(\"OK\")"
      ],
      "execution_count": 0,
      "outputs": [
        {
          "output_type": "stream",
          "text": [
            "sum: 0\n",
            "i= 7\n",
            "a\n",
            "7\n",
            "i= 8913\n",
            "a\n",
            "8920\n",
            "i= 100\n",
            "a\n",
            "9020\n",
            "i= 87\n",
            "a\n",
            "9107\n",
            "i= 0\n",
            "a\n",
            "9107\n",
            "i= 3011\n",
            "c\n",
            "9107\n",
            "OK\n"
          ],
          "name": "stdout"
        }
      ]
    },
    {
      "cell_type": "markdown",
      "metadata": {
        "id": "y3SJWYws5RbY",
        "colab_type": "text"
      },
      "source": [
        "# Задача 5\n",
        "\n",
        "Реализовать функцию fib которая считает число Фибоначчи. Где 1-е число равно 0, второе равно 1, а n число равно сумме двух предыдущих.\n",
        "\n",
        "![1_cxQUnD3J3jMDIQTpsB7PNQ.gif](attachment:1_cxQUnD3J3jMDIQTpsB7PNQ.gif)\n",
        "\n",
        "Визуализация древа рекурсии, показывающая рекурсивное вычисление, которое приводит к fib(4) = 3. Обратите внимание, что вычисление сначала выполняется в глубину."
      ]
    },
    {
      "cell_type": "code",
      "metadata": {
        "id": "5uuqejdJ5RbZ",
        "colab_type": "code",
        "outputId": "d5177d57-c3c7-4f2b-d9e2-3f10320e627d",
        "colab": {}
      },
      "source": [
        "# ваш код тут\n",
        "\n",
        "assert fib(4) == 3\n",
        "assert fib(10) == 55\n",
        "assert fib(15) == 610\n",
        "assert fib(8) == 21\n",
        "assert fib(2) == 1\n",
        "\n",
        "print(\"ОК\")\n"
      ],
      "execution_count": 0,
      "outputs": [
        {
          "output_type": "stream",
          "text": [
            "ОК\n"
          ],
          "name": "stdout"
        }
      ]
    },
    {
      "cell_type": "code",
      "metadata": {
        "id": "kspwcbMq5Rbe",
        "colab_type": "code",
        "colab": {}
      },
      "source": [
        ""
      ],
      "execution_count": 0,
      "outputs": []
    }
  ]
}